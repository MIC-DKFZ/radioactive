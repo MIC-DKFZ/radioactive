{
 "cells": [
  {
   "cell_type": "code",
   "execution_count": 2,
   "metadata": {},
   "outputs": [],
   "source": [
    "import subprocess\n",
    "import json\n",
    "import numpy as np\n",
    "import os\n"
   ]
  },
  {
   "cell_type": "code",
   "execution_count": 3,
   "metadata": {},
   "outputs": [],
   "source": [
    "n_run = 50\n",
    "rp = '/home/t722s/Desktop/Sam-Med3DTest/NetworkHeartModified'\n",
    "tdp = '/home/t722s/Desktop/Datasets/NetworkHeartModified/'"
   ]
  },
  {
   "cell_type": "code",
   "execution_count": 1,
   "metadata": {},
   "outputs": [
    {
     "ename": "NameError",
     "evalue": "name 'np' is not defined",
     "output_type": "error",
     "traceback": [
      "\u001b[0;31m---------------------------------------------------------------------------\u001b[0m",
      "\u001b[0;31mNameError\u001b[0m                                 Traceback (most recent call last)",
      "Cell \u001b[0;32mIn[1], line 4\u001b[0m\n\u001b[1;32m      2\u001b[0m img_dir \u001b[38;5;241m=\u001b[39m \u001b[38;5;124m'\u001b[39m\u001b[38;5;124m/home/t722s/Desktop/Datasets/NetworkHeartModifiedOld/Organ/Organ2/imagesTs/\u001b[39m\u001b[38;5;124m'\u001b[39m\n\u001b[1;32m      3\u001b[0m \u001b[38;5;66;03m# Original (ie performance should be comparable)\u001b[39;00m\n\u001b[0;32m----> 4\u001b[0m \u001b[43mnp\u001b[49m\u001b[38;5;241m.\u001b[39mrandom\u001b[38;5;241m.\u001b[39mseed(\u001b[38;5;241m11121\u001b[39m)\n\u001b[1;32m      6\u001b[0m seeds \u001b[38;5;241m=\u001b[39m []\n\u001b[1;32m      7\u001b[0m \u001b[38;5;28;01mfor\u001b[39;00m seed \u001b[38;5;129;01min\u001b[39;00m np\u001b[38;5;241m.\u001b[39mrandom\u001b[38;5;241m.\u001b[39mrandint(\u001b[38;5;241m10\u001b[39m\u001b[38;5;241m*\u001b[39m\u001b[38;5;241m*\u001b[39m\u001b[38;5;241m6\u001b[39m, size \u001b[38;5;241m=\u001b[39m n_run):\n",
      "\u001b[0;31mNameError\u001b[0m: name 'np' is not defined"
     ]
    }
   ],
   "source": [
    "multi_res_path = '/home/t722s/Desktop/Sam-Med3DTest/NetworkHeartModified/original.json'\n",
    "img_dir = '/home/t722s/Desktop/Datasets/NetworkHeartModifiedOld/Organ/Organ2/imagesTs/'\n",
    "# Original (ie performance should be comparable)\n",
    "np.random.seed(11121)\n",
    "\n",
    "seeds = []\n",
    "for seed in np.random.randint(10**6, size = n_run):\n",
    "    seeds.append(seed)\n",
    "    subprocess_args = ['python', '/home/t722s/Desktop/UniversalModels/OtherRepos/SAM-Med3D/validation.py', \n",
    "                        '--seed', str(seed),\n",
    "                        '-vp', '/home/t722s/Desktop/Sam-Med3DTest/NetworkHeartModifiedOld',\n",
    "                        '-cp', '/home/t722s/Desktop/UniversalModels/TrainedModels/sam_med3d.pth',\n",
    "                        '-tdp', '/home/t722s/Desktop/Datasets/NetworkHeartModifiedOld/',\n",
    "                        '--save_name', '/home/t722s/Desktop/Sam-Med3DTest/evalHeart/old.py']\n",
    "    subprocess.run(subprocess_args)\n",
    "\n",
    "    with open('/home/t722s/Desktop/Sam-Med3DTest/evalHeart/old.json', 'r') as f:\n",
    "        res = json.load(f)\n",
    "\n",
    "    # Modify to standardise relative to new results format\n",
    "    res = res['Organ']\n",
    "    res = {k.removeprefix(img_dir):v for k,v in res.items()}\n",
    "    res = {k: {'left atrium': v} for k,v in res.items()}\n",
    "    \n",
    "    if os.path.exists(multi_res_path):\n",
    "        with open(multi_res_path, 'r') as f:\n",
    "            multi = json.load(f) \n",
    "    else:\n",
    "        multi = dict()\n",
    "\n",
    "    multi[int(seed)] = res\n",
    "    with open(multi_res_path, 'w') as f:\n",
    "        json.dump(multi, f)\n",
    "\n",
    "# Make human readable\n",
    "json_string = json.dumps(multi, ensure_ascii=False)\n",
    "json_string = json_string.replace('\"la', '\\n\\t\"la')\n",
    "\n",
    "for seed in seeds:\n",
    "    json_string = json_string.replace(f'\"{seed}', f'\\n\"{seed}')\n",
    "\n",
    "json_string = json_string[:-1] + '\\n}'\n",
    "with open(multi_res_path.replace('.json', '_readable.json'), 'w', encoding='utf-8') as file:\n",
    "    file.write(json_string)"
   ]
  },
  {
   "cell_type": "code",
   "execution_count": 65,
   "metadata": {},
   "outputs": [
    {
     "name": "stdout",
     "output_type": "stream",
     "text": [
      "set seed as 2020\n",
      "Cheating! Cropping around ground truth\n",
      "device: cuda\n"
     ]
    },
    {
     "name": "stderr",
     "output_type": "stream",
     "text": [
      "  0%|          | 0/20 [00:00<?, ?it/s]"
     ]
    },
    {
     "name": "stdout",
     "output_type": "stream",
     "text": [
      "la_014.nii.gz Dice list by number of clicks (left atrium): [0.6169, 0.6767, 0.6478, 0.6274, 0.6312]\n"
     ]
    },
    {
     "name": "stderr",
     "output_type": "stream",
     "text": [
      "  5%|▌         | 1/20 [00:02<00:53,  2.82s/it]"
     ]
    },
    {
     "name": "stdout",
     "output_type": "stream",
     "text": [
      "la_022.nii.gz Dice list by number of clicks (left atrium): [0.5306, 0.6945, 0.7426, 0.7535, 0.7612]\n"
     ]
    },
    {
     "name": "stderr",
     "output_type": "stream",
     "text": [
      " 10%|█         | 2/20 [00:05<00:45,  2.52s/it]"
     ]
    },
    {
     "name": "stdout",
     "output_type": "stream",
     "text": [
      "la_030.nii.gz Dice list by number of clicks (left atrium): [0.6957, 0.5426, 0.5706, 0.5921, 0.611]\n"
     ]
    },
    {
     "name": "stderr",
     "output_type": "stream",
     "text": [
      " 15%|█▌        | 3/20 [00:07<00:42,  2.51s/it]"
     ]
    },
    {
     "name": "stdout",
     "output_type": "stream",
     "text": [
      "la_010.nii.gz Dice list by number of clicks (left atrium): [0.6741, 0.6225, 0.5712, 0.5909, 0.5774]\n"
     ]
    },
    {
     "name": "stderr",
     "output_type": "stream",
     "text": [
      " 20%|██        | 4/20 [00:10<00:44,  2.75s/it]"
     ]
    },
    {
     "name": "stdout",
     "output_type": "stream",
     "text": [
      "la_007.nii.gz Dice list by number of clicks (left atrium): [0.6405, 0.6505, 0.6638, 0.7211, 0.5885]\n"
     ]
    },
    {
     "name": "stderr",
     "output_type": "stream",
     "text": [
      " 25%|██▌       | 5/20 [00:13<00:40,  2.69s/it]"
     ]
    },
    {
     "name": "stdout",
     "output_type": "stream",
     "text": [
      "la_023.nii.gz Dice list by number of clicks (left atrium): [0.6602, 0.6809, 0.7153, 0.7335, 0.7497]\n"
     ]
    },
    {
     "name": "stderr",
     "output_type": "stream",
     "text": [
      " 30%|███       | 6/20 [00:15<00:36,  2.62s/it]"
     ]
    },
    {
     "name": "stdout",
     "output_type": "stream",
     "text": [
      "la_017.nii.gz Dice list by number of clicks (left atrium): [0.4851, 0.6456, 0.6305, 0.639, 0.6543]\n"
     ]
    },
    {
     "name": "stderr",
     "output_type": "stream",
     "text": [
      " 35%|███▌      | 7/20 [00:18<00:33,  2.56s/it]"
     ]
    },
    {
     "name": "stdout",
     "output_type": "stream",
     "text": [
      "la_016.nii.gz Dice list by number of clicks (left atrium): [0.6765, 0.6673, 0.6615, 0.6742, 0.6685]\n"
     ]
    },
    {
     "name": "stderr",
     "output_type": "stream",
     "text": [
      " 40%|████      | 8/20 [00:20<00:31,  2.59s/it]"
     ]
    },
    {
     "name": "stdout",
     "output_type": "stream",
     "text": [
      "la_029.nii.gz Dice list by number of clicks (left atrium): [0.5333, 0.5656, 0.5808, 0.5949, 0.5611]\n"
     ]
    },
    {
     "name": "stderr",
     "output_type": "stream",
     "text": [
      " 45%|████▌     | 9/20 [00:23<00:27,  2.49s/it]"
     ]
    },
    {
     "name": "stdout",
     "output_type": "stream",
     "text": [
      "la_024.nii.gz Dice list by number of clicks (left atrium): [0.3388, 0.5847, 0.535, 0.4809, 0.6058]\n"
     ]
    },
    {
     "name": "stderr",
     "output_type": "stream",
     "text": [
      " 50%|█████     | 10/20 [00:26<00:26,  2.66s/it]"
     ]
    },
    {
     "name": "stdout",
     "output_type": "stream",
     "text": [
      "la_020.nii.gz Dice list by number of clicks (left atrium): [0.7237, 0.7043, 0.7054, 0.6083, 0.5706]\n"
     ]
    },
    {
     "name": "stderr",
     "output_type": "stream",
     "text": [
      " 55%|█████▌    | 11/20 [00:28<00:23,  2.60s/it]"
     ]
    },
    {
     "name": "stdout",
     "output_type": "stream",
     "text": [
      "la_003.nii.gz Dice list by number of clicks (left atrium): [0.6734, 0.7276, 0.7174, 0.7406, 0.5821]\n"
     ]
    },
    {
     "name": "stderr",
     "output_type": "stream",
     "text": [
      " 60%|██████    | 12/20 [00:31<00:21,  2.70s/it]"
     ]
    },
    {
     "name": "stdout",
     "output_type": "stream",
     "text": [
      "la_011.nii.gz Dice list by number of clicks (left atrium): [0.4632, 0.6444, 0.7086, 0.6537, 0.648]\n"
     ]
    },
    {
     "name": "stderr",
     "output_type": "stream",
     "text": [
      " 65%|██████▌   | 13/20 [00:34<00:18,  2.71s/it]"
     ]
    },
    {
     "name": "stdout",
     "output_type": "stream",
     "text": [
      "la_005.nii.gz Dice list by number of clicks (left atrium): [0.6574, 0.6633, 0.6272, 0.675, 0.621]\n"
     ]
    },
    {
     "name": "stderr",
     "output_type": "stream",
     "text": [
      " 70%|███████   | 14/20 [00:36<00:15,  2.61s/it]"
     ]
    },
    {
     "name": "stdout",
     "output_type": "stream",
     "text": [
      "la_018.nii.gz Dice list by number of clicks (left atrium): [0.5958, 0.5892, 0.5282, 0.5779, 0.5817]\n"
     ]
    },
    {
     "name": "stderr",
     "output_type": "stream",
     "text": [
      " 75%|███████▌  | 15/20 [00:39<00:12,  2.55s/it]"
     ]
    },
    {
     "name": "stdout",
     "output_type": "stream",
     "text": [
      "la_021.nii.gz Dice list by number of clicks (left atrium): [0.6143, 0.6931, 0.6659, 0.6159, 0.513]\n"
     ]
    },
    {
     "name": "stderr",
     "output_type": "stream",
     "text": [
      " 80%|████████  | 16/20 [00:41<00:09,  2.47s/it]"
     ]
    },
    {
     "name": "stdout",
     "output_type": "stream",
     "text": [
      "la_019.nii.gz Dice list by number of clicks (left atrium): [0.6289, 0.6253, 0.6521, 0.5908, 0.6729]\n"
     ]
    },
    {
     "name": "stderr",
     "output_type": "stream",
     "text": [
      " 85%|████████▌ | 17/20 [00:44<00:07,  2.54s/it]"
     ]
    },
    {
     "name": "stdout",
     "output_type": "stream",
     "text": [
      "la_004.nii.gz Dice list by number of clicks (left atrium): [0.6278, 0.5792, 0.2432, 0.4824, 0.5849]\n"
     ]
    },
    {
     "name": "stderr",
     "output_type": "stream",
     "text": [
      " 90%|█████████ | 18/20 [00:46<00:05,  2.58s/it]"
     ]
    },
    {
     "name": "stdout",
     "output_type": "stream",
     "text": [
      "la_009.nii.gz Dice list by number of clicks (left atrium): [0.6281, 0.6507, 0.6237, 0.6616, 0.6284]\n"
     ]
    },
    {
     "name": "stderr",
     "output_type": "stream",
     "text": [
      " 95%|█████████▌| 19/20 [00:49<00:02,  2.52s/it]"
     ]
    },
    {
     "name": "stdout",
     "output_type": "stream",
     "text": [
      "la_026.nii.gz Dice list by number of clicks (left atrium): [0.3256, 0.6643, 0.5498, 0.656, 0.6136]\n",
      "Save results to /home/t722s/Desktop/Sam-Med3DTest/NetworkHeartModified/eval_res_from_inference.json\n",
      "Done\n"
     ]
    },
    {
     "name": "stderr",
     "output_type": "stream",
     "text": [
      "100%|██████████| 20/20 [00:51<00:00,  2.58s/it]\n"
     ]
    },
    {
     "name": "stdout",
     "output_type": "stream",
     "text": [
      "set seed as 2020\n",
      "Cheating! Cropping around ground truth\n",
      "device: cuda\n"
     ]
    },
    {
     "name": "stderr",
     "output_type": "stream",
     "text": [
      "  0%|          | 0/20 [00:00<?, ?it/s]"
     ]
    },
    {
     "name": "stdout",
     "output_type": "stream",
     "text": [
      "la_014.nii.gz Dice list by number of clicks (left atrium): [0.6084, 0.6776, 0.6821, 0.6812, 0.6721]\n"
     ]
    },
    {
     "name": "stderr",
     "output_type": "stream",
     "text": [
      "  5%|▌         | 1/20 [00:02<00:50,  2.67s/it]"
     ]
    },
    {
     "name": "stdout",
     "output_type": "stream",
     "text": [
      "la_022.nii.gz Dice list by number of clicks (left atrium): [0.6165, 0.7338, 0.7412, 0.7283, 0.6942]\n"
     ]
    },
    {
     "name": "stderr",
     "output_type": "stream",
     "text": [
      " 10%|█         | 2/20 [00:04<00:42,  2.37s/it]"
     ]
    },
    {
     "name": "stdout",
     "output_type": "stream",
     "text": [
      "la_030.nii.gz Dice list by number of clicks (left atrium): [0.5903, 0.6032, 0.6042, 0.5971, 0.5966]\n"
     ]
    },
    {
     "name": "stderr",
     "output_type": "stream",
     "text": [
      " 15%|█▌        | 3/20 [00:07<00:42,  2.50s/it]"
     ]
    },
    {
     "name": "stdout",
     "output_type": "stream",
     "text": [
      "la_010.nii.gz Dice list by number of clicks (left atrium): [0.6076, 0.5954, 0.5913, 0.5768, 0.5655]\n"
     ]
    },
    {
     "name": "stderr",
     "output_type": "stream",
     "text": [
      " 20%|██        | 4/20 [00:10<00:41,  2.59s/it]"
     ]
    },
    {
     "name": "stdout",
     "output_type": "stream",
     "text": [
      "la_007.nii.gz Dice list by number of clicks (left atrium): [0.5304, 0.5122, 0.5745, 0.5756, 0.5648]\n"
     ]
    },
    {
     "name": "stderr",
     "output_type": "stream",
     "text": [
      " 25%|██▌       | 5/20 [00:13<00:40,  2.69s/it]"
     ]
    },
    {
     "name": "stdout",
     "output_type": "stream",
     "text": [
      "la_023.nii.gz Dice list by number of clicks (left atrium): [0.5987, 0.746, 0.77, 0.7638, 0.7621]\n"
     ]
    },
    {
     "name": "stderr",
     "output_type": "stream",
     "text": [
      " 30%|███       | 6/20 [00:15<00:36,  2.63s/it]"
     ]
    },
    {
     "name": "stdout",
     "output_type": "stream",
     "text": [
      "la_017.nii.gz Dice list by number of clicks (left atrium): [0.6301, 0.6507, 0.681, 0.6623, 0.6592]\n"
     ]
    },
    {
     "name": "stderr",
     "output_type": "stream",
     "text": [
      " 35%|███▌      | 7/20 [00:17<00:33,  2.56s/it]"
     ]
    },
    {
     "name": "stdout",
     "output_type": "stream",
     "text": [
      "la_016.nii.gz Dice list by number of clicks (left atrium): [0.6131, 0.6745, 0.6716, 0.6822, 0.6887]\n"
     ]
    },
    {
     "name": "stderr",
     "output_type": "stream",
     "text": [
      " 40%|████      | 8/20 [00:20<00:28,  2.40s/it]"
     ]
    },
    {
     "name": "stdout",
     "output_type": "stream",
     "text": [
      "la_029.nii.gz Dice list by number of clicks (left atrium): [0.6189, 0.6647, 0.6654, 0.6656, 0.6683]\n"
     ]
    },
    {
     "name": "stderr",
     "output_type": "stream",
     "text": [
      " 45%|████▌     | 9/20 [00:22<00:26,  2.41s/it]"
     ]
    },
    {
     "name": "stdout",
     "output_type": "stream",
     "text": [
      "la_024.nii.gz Dice list by number of clicks (left atrium): [0.4329, 0.6443, 0.6216, 0.5837, 0.535]\n"
     ]
    },
    {
     "name": "stderr",
     "output_type": "stream",
     "text": [
      " 50%|█████     | 10/20 [00:24<00:24,  2.40s/it]"
     ]
    },
    {
     "name": "stdout",
     "output_type": "stream",
     "text": [
      "la_020.nii.gz Dice list by number of clicks (left atrium): [0.7161, 0.7219, 0.6547, 0.5882, 0.6198]\n"
     ]
    },
    {
     "name": "stderr",
     "output_type": "stream",
     "text": [
      " 55%|█████▌    | 11/20 [00:27<00:21,  2.36s/it]"
     ]
    },
    {
     "name": "stdout",
     "output_type": "stream",
     "text": [
      "la_003.nii.gz Dice list by number of clicks (left atrium): [0.6113, 0.6087, 0.7339, 0.7314, 0.7235]\n"
     ]
    },
    {
     "name": "stderr",
     "output_type": "stream",
     "text": [
      " 60%|██████    | 12/20 [00:29<00:19,  2.38s/it]"
     ]
    },
    {
     "name": "stdout",
     "output_type": "stream",
     "text": [
      "la_011.nii.gz Dice list by number of clicks (left atrium): [0.5151, 0.67, 0.5058, 0.5652, 0.6386]\n"
     ]
    },
    {
     "name": "stderr",
     "output_type": "stream",
     "text": [
      " 65%|██████▌   | 13/20 [00:31<00:16,  2.37s/it]"
     ]
    },
    {
     "name": "stdout",
     "output_type": "stream",
     "text": [
      "la_005.nii.gz Dice list by number of clicks (left atrium): [0.3659, 0.5032, 0.5438, 0.5456, 0.541]\n"
     ]
    },
    {
     "name": "stderr",
     "output_type": "stream",
     "text": [
      " 70%|███████   | 14/20 [00:34<00:14,  2.35s/it]"
     ]
    },
    {
     "name": "stdout",
     "output_type": "stream",
     "text": [
      "la_018.nii.gz Dice list by number of clicks (left atrium): [0.5618, 0.6398, 0.6552, 0.6594, 0.6556]\n"
     ]
    },
    {
     "name": "stderr",
     "output_type": "stream",
     "text": [
      " 75%|███████▌  | 15/20 [00:36<00:11,  2.35s/it]"
     ]
    },
    {
     "name": "stdout",
     "output_type": "stream",
     "text": [
      "la_021.nii.gz Dice list by number of clicks (left atrium): [0.6089, 0.4816, 0.6578, 0.6954, 0.6861]\n"
     ]
    },
    {
     "name": "stderr",
     "output_type": "stream",
     "text": [
      " 80%|████████  | 16/20 [00:38<00:09,  2.34s/it]"
     ]
    },
    {
     "name": "stdout",
     "output_type": "stream",
     "text": [
      "la_019.nii.gz Dice list by number of clicks (left atrium): [0.6554, 0.6113, 0.637, 0.5038, 0.6202]\n"
     ]
    },
    {
     "name": "stderr",
     "output_type": "stream",
     "text": [
      " 85%|████████▌ | 17/20 [00:41<00:07,  2.42s/it]"
     ]
    },
    {
     "name": "stdout",
     "output_type": "stream",
     "text": [
      "la_004.nii.gz Dice list by number of clicks (left atrium): [0.5249, 0.5615, 0.5561, 0.556, 0.5674]\n"
     ]
    },
    {
     "name": "stderr",
     "output_type": "stream",
     "text": [
      " 90%|█████████ | 18/20 [00:43<00:04,  2.44s/it]"
     ]
    },
    {
     "name": "stdout",
     "output_type": "stream",
     "text": [
      "la_009.nii.gz Dice list by number of clicks (left atrium): [0.1163, 0.5443, 0.569, 0.576, 0.5712]\n"
     ]
    },
    {
     "name": "stderr",
     "output_type": "stream",
     "text": [
      " 95%|█████████▌| 19/20 [00:46<00:02,  2.41s/it]"
     ]
    },
    {
     "name": "stdout",
     "output_type": "stream",
     "text": [
      "la_026.nii.gz Dice list by number of clicks (left atrium): [0.4015, 0.5012, 0.502, 0.5062, 0.6269]\n",
      "Save results to /home/t722s/Desktop/Sam-Med3DTest/NetworkHeartModified/eval_res_from_inference.json\n",
      "Done\n"
     ]
    },
    {
     "name": "stderr",
     "output_type": "stream",
     "text": [
      "100%|██████████| 20/20 [00:48<00:00,  2.44s/it]\n"
     ]
    },
    {
     "name": "stdout",
     "output_type": "stream",
     "text": [
      "set seed as 2020\n",
      "Cheating! Cropping around ground truth\n",
      "device: cuda\n"
     ]
    },
    {
     "name": "stderr",
     "output_type": "stream",
     "text": [
      "  0%|          | 0/20 [00:00<?, ?it/s]"
     ]
    },
    {
     "name": "stdout",
     "output_type": "stream",
     "text": [
      "la_014.nii.gz Dice list by number of clicks (left atrium): [0.5208, 0.6569, 0.6745, 0.7214, 0.663]\n"
     ]
    },
    {
     "name": "stderr",
     "output_type": "stream",
     "text": [
      "  5%|▌         | 1/20 [00:02<00:54,  2.86s/it]"
     ]
    },
    {
     "name": "stdout",
     "output_type": "stream",
     "text": [
      "la_022.nii.gz Dice list by number of clicks (left atrium): [0.6056, 0.7412, 0.6257, 0.7011, 0.7267]\n"
     ]
    },
    {
     "name": "stderr",
     "output_type": "stream",
     "text": [
      " 10%|█         | 2/20 [00:05<00:47,  2.62s/it]"
     ]
    },
    {
     "name": "stdout",
     "output_type": "stream",
     "text": [
      "la_030.nii.gz Dice list by number of clicks (left atrium): [0.4605, 0.6328, 0.6086, 0.5643, 0.5689]\n"
     ]
    },
    {
     "name": "stderr",
     "output_type": "stream",
     "text": [
      " 15%|█▌        | 3/20 [00:07<00:42,  2.48s/it]"
     ]
    },
    {
     "name": "stdout",
     "output_type": "stream",
     "text": [
      "la_010.nii.gz Dice list by number of clicks (left atrium): [0.6269, 0.6056, 0.5738, 0.5716, 0.5604]\n"
     ]
    },
    {
     "name": "stderr",
     "output_type": "stream",
     "text": [
      " 20%|██        | 4/20 [00:10<00:40,  2.51s/it]"
     ]
    },
    {
     "name": "stdout",
     "output_type": "stream",
     "text": [
      "la_007.nii.gz Dice list by number of clicks (left atrium): [0.5029, 0.7327, 0.6969, 0.6829, 0.6607]\n"
     ]
    },
    {
     "name": "stderr",
     "output_type": "stream",
     "text": [
      " 25%|██▌       | 5/20 [00:12<00:37,  2.50s/it]"
     ]
    },
    {
     "name": "stdout",
     "output_type": "stream",
     "text": [
      "la_023.nii.gz Dice list by number of clicks (left atrium): [0.702, 0.7642, 0.7631, 0.7614, 0.7481]\n"
     ]
    },
    {
     "name": "stderr",
     "output_type": "stream",
     "text": [
      " 30%|███       | 6/20 [00:15<00:34,  2.46s/it]"
     ]
    },
    {
     "name": "stdout",
     "output_type": "stream",
     "text": [
      "la_017.nii.gz Dice list by number of clicks (left atrium): [0.6394, 0.5626, 0.6161, 0.6443, 0.5634]\n"
     ]
    },
    {
     "name": "stderr",
     "output_type": "stream",
     "text": [
      " 35%|███▌      | 7/20 [00:17<00:33,  2.57s/it]"
     ]
    },
    {
     "name": "stdout",
     "output_type": "stream",
     "text": [
      "la_016.nii.gz Dice list by number of clicks (left atrium): [0.6939, 0.6726, 0.673, 0.6738, 0.6722]\n"
     ]
    },
    {
     "name": "stderr",
     "output_type": "stream",
     "text": [
      " 40%|████      | 8/20 [00:20<00:29,  2.47s/it]"
     ]
    },
    {
     "name": "stdout",
     "output_type": "stream",
     "text": [
      "la_029.nii.gz Dice list by number of clicks (left atrium): [0.6183, 0.6583, 0.6626, 0.6626, 0.6653]\n"
     ]
    },
    {
     "name": "stderr",
     "output_type": "stream",
     "text": [
      " 45%|████▌     | 9/20 [00:22<00:27,  2.47s/it]"
     ]
    },
    {
     "name": "stdout",
     "output_type": "stream",
     "text": [
      "la_024.nii.gz Dice list by number of clicks (left atrium): [0.5064, 0.5091, 0.515, 0.5481, 0.5515]\n"
     ]
    },
    {
     "name": "stderr",
     "output_type": "stream",
     "text": [
      " 50%|█████     | 10/20 [00:24<00:24,  2.46s/it]"
     ]
    },
    {
     "name": "stdout",
     "output_type": "stream",
     "text": [
      "la_020.nii.gz Dice list by number of clicks (left atrium): [0.6738, 0.5357, 0.56, 0.5526, 0.5976]\n"
     ]
    },
    {
     "name": "stderr",
     "output_type": "stream",
     "text": [
      " 55%|█████▌    | 11/20 [00:28<00:23,  2.65s/it]"
     ]
    },
    {
     "name": "stdout",
     "output_type": "stream",
     "text": [
      "la_003.nii.gz Dice list by number of clicks (left atrium): [0.603, 0.5668, 0.3862, 0.6332, 0.6266]\n"
     ]
    },
    {
     "name": "stderr",
     "output_type": "stream",
     "text": [
      " 60%|██████    | 12/20 [00:31<00:23,  2.90s/it]"
     ]
    },
    {
     "name": "stdout",
     "output_type": "stream",
     "text": [
      "la_011.nii.gz Dice list by number of clicks (left atrium): [0.6207, 0.6632, 0.6863, 0.6944, 0.6906]\n"
     ]
    },
    {
     "name": "stderr",
     "output_type": "stream",
     "text": [
      " 65%|██████▌   | 13/20 [00:34<00:20,  2.91s/it]"
     ]
    },
    {
     "name": "stdout",
     "output_type": "stream",
     "text": [
      "la_005.nii.gz Dice list by number of clicks (left atrium): [0.5961, 0.558, 0.6767, 0.6651, 0.6298]\n"
     ]
    },
    {
     "name": "stderr",
     "output_type": "stream",
     "text": [
      " 70%|███████   | 14/20 [00:36<00:16,  2.72s/it]"
     ]
    },
    {
     "name": "stdout",
     "output_type": "stream",
     "text": [
      "la_018.nii.gz Dice list by number of clicks (left atrium): [0.6327, 0.5945, 0.6282, 0.598, 0.6781]\n"
     ]
    },
    {
     "name": "stderr",
     "output_type": "stream",
     "text": [
      " 75%|███████▌  | 15/20 [00:39<00:13,  2.71s/it]"
     ]
    },
    {
     "name": "stdout",
     "output_type": "stream",
     "text": [
      "la_021.nii.gz Dice list by number of clicks (left atrium): [0.6999, 0.686, 0.6326, 0.6406, 0.668]\n"
     ]
    },
    {
     "name": "stderr",
     "output_type": "stream",
     "text": [
      " 80%|████████  | 16/20 [00:41<00:10,  2.61s/it]"
     ]
    },
    {
     "name": "stdout",
     "output_type": "stream",
     "text": [
      "la_019.nii.gz Dice list by number of clicks (left atrium): [0.5795, 0.3144, 0.5153, 0.5953, 0.5136]\n"
     ]
    },
    {
     "name": "stderr",
     "output_type": "stream",
     "text": [
      " 85%|████████▌ | 17/20 [00:44<00:07,  2.60s/it]"
     ]
    },
    {
     "name": "stdout",
     "output_type": "stream",
     "text": [
      "la_004.nii.gz Dice list by number of clicks (left atrium): [0.4785, 0.5178, 0.456, 0.4564, 0.4973]\n"
     ]
    },
    {
     "name": "stderr",
     "output_type": "stream",
     "text": [
      " 90%|█████████ | 18/20 [00:46<00:05,  2.57s/it]"
     ]
    },
    {
     "name": "stdout",
     "output_type": "stream",
     "text": [
      "la_009.nii.gz Dice list by number of clicks (left atrium): [0.4938, 0.6171, 0.677, 0.6495, 0.6097]\n"
     ]
    },
    {
     "name": "stderr",
     "output_type": "stream",
     "text": [
      " 95%|█████████▌| 19/20 [00:49<00:02,  2.61s/it]"
     ]
    },
    {
     "name": "stdout",
     "output_type": "stream",
     "text": [
      "la_026.nii.gz Dice list by number of clicks (left atrium): [0.4015, 0.5917, 0.6389, 0.4594, 0.5557]\n",
      "Save results to /home/t722s/Desktop/Sam-Med3DTest/NetworkHeartModified/eval_res_from_inference.json\n",
      "Done\n"
     ]
    },
    {
     "name": "stderr",
     "output_type": "stream",
     "text": [
      "100%|██████████| 20/20 [00:52<00:00,  2.60s/it]\n"
     ]
    },
    {
     "name": "stdout",
     "output_type": "stream",
     "text": [
      "set seed as 2020\n",
      "Cheating! Cropping around ground truth\n",
      "device: cuda\n"
     ]
    },
    {
     "name": "stderr",
     "output_type": "stream",
     "text": [
      "  0%|          | 0/20 [00:00<?, ?it/s]"
     ]
    },
    {
     "name": "stdout",
     "output_type": "stream",
     "text": [
      "la_014.nii.gz Dice list by number of clicks (left atrium): [0.5746, 0.6379, 0.6613, 0.6734, 0.671]\n"
     ]
    },
    {
     "name": "stderr",
     "output_type": "stream",
     "text": [
      "  5%|▌         | 1/20 [00:03<00:58,  3.10s/it]"
     ]
    },
    {
     "name": "stdout",
     "output_type": "stream",
     "text": [
      "la_022.nii.gz Dice list by number of clicks (left atrium): [0.7325, 0.7247, 0.7227, 0.7196, 0.7139]\n"
     ]
    },
    {
     "name": "stderr",
     "output_type": "stream",
     "text": [
      " 10%|█         | 2/20 [00:06<00:54,  3.03s/it]"
     ]
    },
    {
     "name": "stdout",
     "output_type": "stream",
     "text": [
      "la_030.nii.gz Dice list by number of clicks (left atrium): [0.6749, 0.6808, 0.6604, 0.5802, 0.6534]\n"
     ]
    },
    {
     "name": "stderr",
     "output_type": "stream",
     "text": [
      " 15%|█▌        | 3/20 [00:09<00:50,  2.99s/it]"
     ]
    },
    {
     "name": "stdout",
     "output_type": "stream",
     "text": [
      "la_010.nii.gz Dice list by number of clicks (left atrium): [0.4993, 0.6077, 0.6004, 0.5843, 0.5643]\n"
     ]
    },
    {
     "name": "stderr",
     "output_type": "stream",
     "text": [
      " 20%|██        | 4/20 [00:12<00:50,  3.16s/it]"
     ]
    },
    {
     "name": "stdout",
     "output_type": "stream",
     "text": [
      "la_007.nii.gz Dice list by number of clicks (left atrium): [0.5678, 0.6091, 0.6216, 0.6228, 0.6048]\n"
     ]
    },
    {
     "name": "stderr",
     "output_type": "stream",
     "text": [
      " 25%|██▌       | 5/20 [00:15<00:47,  3.16s/it]"
     ]
    },
    {
     "name": "stdout",
     "output_type": "stream",
     "text": [
      "la_023.nii.gz Dice list by number of clicks (left atrium): [0.7024, 0.7354, 0.7515, 0.7592, 0.7728]\n"
     ]
    },
    {
     "name": "stderr",
     "output_type": "stream",
     "text": [
      " 30%|███       | 6/20 [00:18<00:42,  3.07s/it]"
     ]
    },
    {
     "name": "stdout",
     "output_type": "stream",
     "text": [
      "la_017.nii.gz Dice list by number of clicks (left atrium): [0.6664, 0.6039, 0.6139, 0.6169, 0.6045]\n"
     ]
    },
    {
     "name": "stderr",
     "output_type": "stream",
     "text": [
      " 35%|███▌      | 7/20 [00:20<00:36,  2.84s/it]"
     ]
    },
    {
     "name": "stdout",
     "output_type": "stream",
     "text": [
      "la_016.nii.gz Dice list by number of clicks (left atrium): [0.6098, 0.7132, 0.7571, 0.7343, 0.7411]\n"
     ]
    },
    {
     "name": "stderr",
     "output_type": "stream",
     "text": [
      " 40%|████      | 8/20 [00:23<00:31,  2.63s/it]"
     ]
    },
    {
     "name": "stdout",
     "output_type": "stream",
     "text": [
      "la_029.nii.gz Dice list by number of clicks (left atrium): [0.609, 0.5984, 0.615, 0.6263, 0.5884]\n"
     ]
    },
    {
     "name": "stderr",
     "output_type": "stream",
     "text": [
      " 45%|████▌     | 9/20 [00:25<00:27,  2.51s/it]"
     ]
    },
    {
     "name": "stdout",
     "output_type": "stream",
     "text": [
      "la_024.nii.gz Dice list by number of clicks (left atrium): [0.5277, 0.6602, 0.6143, 0.6351, 0.5807]\n"
     ]
    },
    {
     "name": "stderr",
     "output_type": "stream",
     "text": [
      " 50%|█████     | 10/20 [00:27<00:24,  2.46s/it]"
     ]
    },
    {
     "name": "stdout",
     "output_type": "stream",
     "text": [
      "la_020.nii.gz Dice list by number of clicks (left atrium): [0.6039, 0.6074, 0.6543, 0.6321, 0.6193]\n"
     ]
    },
    {
     "name": "stderr",
     "output_type": "stream",
     "text": [
      " 55%|█████▌    | 11/20 [00:29<00:21,  2.42s/it]"
     ]
    },
    {
     "name": "stdout",
     "output_type": "stream",
     "text": [
      "la_003.nii.gz Dice list by number of clicks (left atrium): [0.6657, 0.5125, 0.6336, 0.6132, 0.6572]\n"
     ]
    },
    {
     "name": "stderr",
     "output_type": "stream",
     "text": [
      " 60%|██████    | 12/20 [00:32<00:19,  2.42s/it]"
     ]
    },
    {
     "name": "stdout",
     "output_type": "stream",
     "text": [
      "la_011.nii.gz Dice list by number of clicks (left atrium): [0.423, 0.6663, 0.6034, 0.6313, 0.6006]\n"
     ]
    },
    {
     "name": "stderr",
     "output_type": "stream",
     "text": [
      " 65%|██████▌   | 13/20 [00:34<00:16,  2.41s/it]"
     ]
    },
    {
     "name": "stdout",
     "output_type": "stream",
     "text": [
      "la_005.nii.gz Dice list by number of clicks (left atrium): [0.6451, 0.6366, 0.6219, 0.5835, 0.5794]\n"
     ]
    },
    {
     "name": "stderr",
     "output_type": "stream",
     "text": [
      " 70%|███████   | 14/20 [00:37<00:14,  2.38s/it]"
     ]
    },
    {
     "name": "stdout",
     "output_type": "stream",
     "text": [
      "la_018.nii.gz Dice list by number of clicks (left atrium): [0.6488, 0.6637, 0.6565, 0.6395, 0.6526]\n"
     ]
    },
    {
     "name": "stderr",
     "output_type": "stream",
     "text": [
      " 75%|███████▌  | 15/20 [00:39<00:12,  2.46s/it]"
     ]
    },
    {
     "name": "stdout",
     "output_type": "stream",
     "text": [
      "la_021.nii.gz Dice list by number of clicks (left atrium): [0.5185, 0.7009, 0.5874, 0.6918, 0.6751]\n"
     ]
    },
    {
     "name": "stderr",
     "output_type": "stream",
     "text": [
      " 80%|████████  | 16/20 [00:42<00:09,  2.47s/it]"
     ]
    },
    {
     "name": "stdout",
     "output_type": "stream",
     "text": [
      "la_019.nii.gz Dice list by number of clicks (left atrium): [0.56, 0.6155, 0.6498, 0.5463, 0.6146]\n"
     ]
    },
    {
     "name": "stderr",
     "output_type": "stream",
     "text": [
      " 85%|████████▌ | 17/20 [00:44<00:07,  2.46s/it]"
     ]
    },
    {
     "name": "stdout",
     "output_type": "stream",
     "text": [
      "la_004.nii.gz Dice list by number of clicks (left atrium): [0.4816, 0.5585, 0.5506, 0.5759, 0.5883]\n"
     ]
    },
    {
     "name": "stderr",
     "output_type": "stream",
     "text": [
      " 90%|█████████ | 18/20 [00:47<00:04,  2.43s/it]"
     ]
    },
    {
     "name": "stdout",
     "output_type": "stream",
     "text": [
      "la_009.nii.gz Dice list by number of clicks (left atrium): [0.5602, 0.6149, 0.64, 0.6334, 0.6556]\n"
     ]
    },
    {
     "name": "stderr",
     "output_type": "stream",
     "text": [
      " 95%|█████████▌| 19/20 [00:49<00:02,  2.41s/it]"
     ]
    },
    {
     "name": "stdout",
     "output_type": "stream",
     "text": [
      "la_026.nii.gz Dice list by number of clicks (left atrium): [0.3056, 0.5886, 0.5822, 0.4446, 0.699]\n",
      "Save results to /home/t722s/Desktop/Sam-Med3DTest/NetworkHeartModified/eval_res_from_inference.json\n",
      "Done\n"
     ]
    },
    {
     "name": "stderr",
     "output_type": "stream",
     "text": [
      "100%|██████████| 20/20 [00:51<00:00,  2.59s/it]\n"
     ]
    },
    {
     "name": "stdout",
     "output_type": "stream",
     "text": [
      "set seed as 2020\n",
      "Cheating! Cropping around ground truth\n",
      "device: cuda\n"
     ]
    },
    {
     "name": "stderr",
     "output_type": "stream",
     "text": [
      "  0%|          | 0/20 [00:00<?, ?it/s]"
     ]
    },
    {
     "name": "stdout",
     "output_type": "stream",
     "text": [
      "la_014.nii.gz Dice list by number of clicks (left atrium): [0.6391, 0.651, 0.6357, 0.6202, 0.62]\n"
     ]
    },
    {
     "name": "stderr",
     "output_type": "stream",
     "text": [
      "  5%|▌         | 1/20 [00:02<00:51,  2.71s/it]"
     ]
    },
    {
     "name": "stdout",
     "output_type": "stream",
     "text": [
      "la_022.nii.gz Dice list by number of clicks (left atrium): [0.6901, 0.7163, 0.687, 0.7255, 0.7458]\n"
     ]
    },
    {
     "name": "stderr",
     "output_type": "stream",
     "text": [
      " 10%|█         | 2/20 [00:05<00:44,  2.47s/it]"
     ]
    },
    {
     "name": "stdout",
     "output_type": "stream",
     "text": [
      "la_030.nii.gz Dice list by number of clicks (left atrium): [0.6371, 0.6442, 0.6543, 0.6396, 0.642]\n"
     ]
    },
    {
     "name": "stderr",
     "output_type": "stream",
     "text": [
      " 15%|█▌        | 3/20 [00:07<00:41,  2.42s/it]"
     ]
    },
    {
     "name": "stdout",
     "output_type": "stream",
     "text": [
      "la_010.nii.gz Dice list by number of clicks (left atrium): [0.3276, 0.6872, 0.7163, 0.725, 0.7331]\n"
     ]
    },
    {
     "name": "stderr",
     "output_type": "stream",
     "text": [
      " 20%|██        | 4/20 [00:10<00:40,  2.55s/it]"
     ]
    },
    {
     "name": "stdout",
     "output_type": "stream",
     "text": [
      "la_007.nii.gz Dice list by number of clicks (left atrium): [0.5913, 0.7275, 0.6246, 0.6751, 0.6712]\n"
     ]
    },
    {
     "name": "stderr",
     "output_type": "stream",
     "text": [
      " 25%|██▌       | 5/20 [00:12<00:39,  2.67s/it]"
     ]
    },
    {
     "name": "stdout",
     "output_type": "stream",
     "text": [
      "la_023.nii.gz Dice list by number of clicks (left atrium): [0.7126, 0.7769, 0.786, 0.7829, 0.7739]\n"
     ]
    },
    {
     "name": "stderr",
     "output_type": "stream",
     "text": [
      " 30%|███       | 6/20 [00:16<00:40,  2.87s/it]"
     ]
    },
    {
     "name": "stdout",
     "output_type": "stream",
     "text": [
      "la_017.nii.gz Dice list by number of clicks (left atrium): [0.5964, 0.5604, 0.5981, 0.6611, 0.6293]\n"
     ]
    },
    {
     "name": "stderr",
     "output_type": "stream",
     "text": [
      " 35%|███▌      | 7/20 [00:18<00:35,  2.76s/it]"
     ]
    },
    {
     "name": "stdout",
     "output_type": "stream",
     "text": [
      "la_016.nii.gz Dice list by number of clicks (left atrium): [0.7069, 0.6935, 0.6691, 0.6567, 0.6638]\n"
     ]
    },
    {
     "name": "stderr",
     "output_type": "stream",
     "text": [
      " 40%|████      | 8/20 [00:21<00:31,  2.63s/it]"
     ]
    },
    {
     "name": "stdout",
     "output_type": "stream",
     "text": [
      "la_029.nii.gz Dice list by number of clicks (left atrium): [0.5244, 0.6119, 0.6275, 0.6183, 0.5868]\n"
     ]
    },
    {
     "name": "stderr",
     "output_type": "stream",
     "text": [
      " 45%|████▌     | 9/20 [00:23<00:27,  2.52s/it]"
     ]
    },
    {
     "name": "stdout",
     "output_type": "stream",
     "text": [
      "la_024.nii.gz Dice list by number of clicks (left atrium): [0.6744, 0.6226, 0.6439, 0.6232, 0.6437]\n"
     ]
    },
    {
     "name": "stderr",
     "output_type": "stream",
     "text": [
      " 50%|█████     | 10/20 [00:26<00:26,  2.68s/it]"
     ]
    },
    {
     "name": "stdout",
     "output_type": "stream",
     "text": [
      "la_020.nii.gz Dice list by number of clicks (left atrium): [0.6797, 0.6133, 0.6252, 0.6452, 0.6024]\n"
     ]
    },
    {
     "name": "stderr",
     "output_type": "stream",
     "text": [
      " 55%|█████▌    | 11/20 [00:29<00:24,  2.75s/it]"
     ]
    },
    {
     "name": "stdout",
     "output_type": "stream",
     "text": [
      "la_003.nii.gz Dice list by number of clicks (left atrium): [0.5793, 0.6473, 0.6516, 0.7478, 0.7075]\n"
     ]
    },
    {
     "name": "stderr",
     "output_type": "stream",
     "text": [
      " 60%|██████    | 12/20 [00:32<00:22,  2.77s/it]"
     ]
    },
    {
     "name": "stdout",
     "output_type": "stream",
     "text": [
      "la_011.nii.gz Dice list by number of clicks (left atrium): [0.6249, 0.6208, 0.6577, 0.6534, 0.6458]\n"
     ]
    },
    {
     "name": "stderr",
     "output_type": "stream",
     "text": [
      " 65%|██████▌   | 13/20 [00:35<00:20,  2.86s/it]"
     ]
    },
    {
     "name": "stdout",
     "output_type": "stream",
     "text": [
      "la_005.nii.gz Dice list by number of clicks (left atrium): [0.6299, 0.568, 0.6391, 0.6565, 0.605]\n"
     ]
    },
    {
     "name": "stderr",
     "output_type": "stream",
     "text": [
      " 70%|███████   | 14/20 [00:37<00:16,  2.76s/it]"
     ]
    },
    {
     "name": "stdout",
     "output_type": "stream",
     "text": [
      "la_018.nii.gz Dice list by number of clicks (left atrium): [0.5639, 0.6343, 0.6402, 0.6458, 0.6399]\n"
     ]
    },
    {
     "name": "stderr",
     "output_type": "stream",
     "text": [
      " 75%|███████▌  | 15/20 [00:40<00:14,  2.84s/it]"
     ]
    },
    {
     "name": "stdout",
     "output_type": "stream",
     "text": [
      "la_021.nii.gz Dice list by number of clicks (left atrium): [0.6252, 0.6838, 0.7222, 0.6897, 0.6611]\n"
     ]
    },
    {
     "name": "stderr",
     "output_type": "stream",
     "text": [
      " 80%|████████  | 16/20 [00:43<00:11,  2.80s/it]"
     ]
    },
    {
     "name": "stdout",
     "output_type": "stream",
     "text": [
      "la_019.nii.gz Dice list by number of clicks (left atrium): [0.6566, 0.6724, 0.6804, 0.676, 0.571]\n"
     ]
    },
    {
     "name": "stderr",
     "output_type": "stream",
     "text": [
      " 85%|████████▌ | 17/20 [00:46<00:08,  2.84s/it]"
     ]
    },
    {
     "name": "stdout",
     "output_type": "stream",
     "text": [
      "la_004.nii.gz Dice list by number of clicks (left atrium): [0.4697, 0.3166, 0.417, 0.3755, 0.5459]\n"
     ]
    },
    {
     "name": "stderr",
     "output_type": "stream",
     "text": [
      " 90%|█████████ | 18/20 [00:48<00:05,  2.73s/it]"
     ]
    },
    {
     "name": "stdout",
     "output_type": "stream",
     "text": [
      "la_009.nii.gz Dice list by number of clicks (left atrium): [0.5646, 0.628, 0.5608, 0.5507, 0.5531]\n"
     ]
    },
    {
     "name": "stderr",
     "output_type": "stream",
     "text": [
      " 95%|█████████▌| 19/20 [00:51<00:02,  2.61s/it]"
     ]
    },
    {
     "name": "stdout",
     "output_type": "stream",
     "text": [
      "la_026.nii.gz Dice list by number of clicks (left atrium): [0.5384, 0.6786, 0.5526, 0.5487, 0.4794]\n",
      "Save results to /home/t722s/Desktop/Sam-Med3DTest/NetworkHeartModified/eval_res_from_inference.json\n",
      "Done\n"
     ]
    },
    {
     "name": "stderr",
     "output_type": "stream",
     "text": [
      "100%|██████████| 20/20 [00:53<00:00,  2.68s/it]\n"
     ]
    },
    {
     "name": "stdout",
     "output_type": "stream",
     "text": [
      "set seed as 2020\n",
      "Cheating! Cropping around ground truth\n",
      "device: cuda\n"
     ]
    },
    {
     "name": "stderr",
     "output_type": "stream",
     "text": [
      "  0%|          | 0/20 [00:00<?, ?it/s]"
     ]
    },
    {
     "name": "stdout",
     "output_type": "stream",
     "text": [
      "la_014.nii.gz Dice list by number of clicks (left atrium): [0.6765, 0.6841, 0.6578, 0.6484, 0.6498]\n"
     ]
    },
    {
     "name": "stderr",
     "output_type": "stream",
     "text": [
      "  5%|▌         | 1/20 [00:02<00:51,  2.71s/it]"
     ]
    },
    {
     "name": "stdout",
     "output_type": "stream",
     "text": [
      "la_022.nii.gz Dice list by number of clicks (left atrium): [0.5496, 0.6036, 0.6521, 0.6418, 0.7129]\n"
     ]
    },
    {
     "name": "stderr",
     "output_type": "stream",
     "text": [
      " 10%|█         | 2/20 [00:05<00:45,  2.53s/it]"
     ]
    },
    {
     "name": "stdout",
     "output_type": "stream",
     "text": [
      "la_030.nii.gz Dice list by number of clicks (left atrium): [0.6022, 0.6445, 0.6264, 0.6088, 0.6544]\n"
     ]
    },
    {
     "name": "stderr",
     "output_type": "stream",
     "text": [
      " 15%|█▌        | 3/20 [00:07<00:41,  2.43s/it]"
     ]
    },
    {
     "name": "stdout",
     "output_type": "stream",
     "text": [
      "la_010.nii.gz Dice list by number of clicks (left atrium): [0.5409, 0.6935, 0.7248, 0.7345, 0.7286]\n"
     ]
    },
    {
     "name": "stderr",
     "output_type": "stream",
     "text": [
      " 20%|██        | 4/20 [00:09<00:38,  2.40s/it]"
     ]
    },
    {
     "name": "stdout",
     "output_type": "stream",
     "text": [
      "la_007.nii.gz Dice list by number of clicks (left atrium): [0.6781, 0.6827, 0.6634, 0.6198, 0.575]\n"
     ]
    },
    {
     "name": "stderr",
     "output_type": "stream",
     "text": [
      " 25%|██▌       | 5/20 [00:12<00:36,  2.45s/it]"
     ]
    },
    {
     "name": "stdout",
     "output_type": "stream",
     "text": [
      "la_023.nii.gz Dice list by number of clicks (left atrium): [0.6061, 0.7207, 0.7334, 0.7498, 0.7513]\n"
     ]
    },
    {
     "name": "stderr",
     "output_type": "stream",
     "text": [
      " 30%|███       | 6/20 [00:14<00:34,  2.47s/it]"
     ]
    },
    {
     "name": "stdout",
     "output_type": "stream",
     "text": [
      "la_017.nii.gz Dice list by number of clicks (left atrium): [0.6305, 0.5914, 0.5989, 0.6303, 0.6322]\n"
     ]
    },
    {
     "name": "stderr",
     "output_type": "stream",
     "text": [
      " 35%|███▌      | 7/20 [00:17<00:31,  2.46s/it]"
     ]
    },
    {
     "name": "stdout",
     "output_type": "stream",
     "text": [
      "la_016.nii.gz Dice list by number of clicks (left atrium): [0.7015, 0.713, 0.7707, 0.7557, 0.7404]\n"
     ]
    },
    {
     "name": "stderr",
     "output_type": "stream",
     "text": [
      " 40%|████      | 8/20 [00:19<00:29,  2.43s/it]"
     ]
    },
    {
     "name": "stdout",
     "output_type": "stream",
     "text": [
      "la_029.nii.gz Dice list by number of clicks (left atrium): [0.5781, 0.6289, 0.6194, 0.6327, 0.6037]\n"
     ]
    },
    {
     "name": "stderr",
     "output_type": "stream",
     "text": [
      " 45%|████▌     | 9/20 [00:22<00:27,  2.47s/it]"
     ]
    },
    {
     "name": "stdout",
     "output_type": "stream",
     "text": [
      "la_024.nii.gz Dice list by number of clicks (left atrium): [0.3581, 0.6312, 0.5663, 0.5142, 0.5182]\n"
     ]
    },
    {
     "name": "stderr",
     "output_type": "stream",
     "text": [
      " 50%|█████     | 10/20 [00:24<00:24,  2.45s/it]"
     ]
    },
    {
     "name": "stdout",
     "output_type": "stream",
     "text": [
      "la_020.nii.gz Dice list by number of clicks (left atrium): [0.5946, 0.58, 0.6024, 0.6605, 0.655]\n"
     ]
    },
    {
     "name": "stderr",
     "output_type": "stream",
     "text": [
      " 55%|█████▌    | 11/20 [00:27<00:23,  2.62s/it]"
     ]
    },
    {
     "name": "stdout",
     "output_type": "stream",
     "text": [
      "la_003.nii.gz Dice list by number of clicks (left atrium): [0.7495, 0.7409, 0.7484, 0.7258, 0.558]\n"
     ]
    },
    {
     "name": "stderr",
     "output_type": "stream",
     "text": [
      " 60%|██████    | 12/20 [00:30<00:22,  2.77s/it]"
     ]
    },
    {
     "name": "stdout",
     "output_type": "stream",
     "text": [
      "la_011.nii.gz Dice list by number of clicks (left atrium): [0.6699, 0.4878, 0.6327, 0.6435, 0.6448]\n"
     ]
    },
    {
     "name": "stderr",
     "output_type": "stream",
     "text": [
      " 65%|██████▌   | 13/20 [00:33<00:18,  2.69s/it]"
     ]
    },
    {
     "name": "stdout",
     "output_type": "stream",
     "text": [
      "la_005.nii.gz Dice list by number of clicks (left atrium): [0.5868, 0.5565, 0.5771, 0.579, 0.5659]\n"
     ]
    },
    {
     "name": "stderr",
     "output_type": "stream",
     "text": [
      " 70%|███████   | 14/20 [00:36<00:16,  2.72s/it]"
     ]
    },
    {
     "name": "stdout",
     "output_type": "stream",
     "text": [
      "la_018.nii.gz Dice list by number of clicks (left atrium): [0.5912, 0.6281, 0.5767, 0.6918, 0.6722]\n"
     ]
    },
    {
     "name": "stderr",
     "output_type": "stream",
     "text": [
      " 75%|███████▌  | 15/20 [00:38<00:13,  2.68s/it]"
     ]
    },
    {
     "name": "stdout",
     "output_type": "stream",
     "text": [
      "la_021.nii.gz Dice list by number of clicks (left atrium): [0.639, 0.614, 0.6693, 0.657, 0.6417]\n"
     ]
    },
    {
     "name": "stderr",
     "output_type": "stream",
     "text": [
      " 80%|████████  | 16/20 [00:41<00:10,  2.70s/it]"
     ]
    },
    {
     "name": "stdout",
     "output_type": "stream",
     "text": [
      "la_019.nii.gz Dice list by number of clicks (left atrium): [0.4125, 0.635, 0.6643, 0.6493, 0.6767]\n"
     ]
    },
    {
     "name": "stderr",
     "output_type": "stream",
     "text": [
      " 85%|████████▌ | 17/20 [00:43<00:07,  2.57s/it]"
     ]
    },
    {
     "name": "stdout",
     "output_type": "stream",
     "text": [
      "la_004.nii.gz Dice list by number of clicks (left atrium): [0.1608, 0.4829, 0.5695, 0.5779, 0.4938]\n"
     ]
    },
    {
     "name": "stderr",
     "output_type": "stream",
     "text": [
      " 90%|█████████ | 18/20 [00:46<00:05,  2.56s/it]"
     ]
    },
    {
     "name": "stdout",
     "output_type": "stream",
     "text": [
      "la_009.nii.gz Dice list by number of clicks (left atrium): [0.6051, 0.6386, 0.5985, 0.5843, 0.6423]\n"
     ]
    },
    {
     "name": "stderr",
     "output_type": "stream",
     "text": [
      " 95%|█████████▌| 19/20 [00:49<00:02,  2.66s/it]"
     ]
    },
    {
     "name": "stdout",
     "output_type": "stream",
     "text": [
      "la_026.nii.gz Dice list by number of clicks (left atrium): [0.398, 0.518, 0.6791, 0.6661, 0.6278]\n",
      "Save results to /home/t722s/Desktop/Sam-Med3DTest/NetworkHeartModified/eval_res_from_inference.json\n",
      "Done\n"
     ]
    },
    {
     "name": "stderr",
     "output_type": "stream",
     "text": [
      "100%|██████████| 20/20 [00:51<00:00,  2.60s/it]\n"
     ]
    },
    {
     "name": "stdout",
     "output_type": "stream",
     "text": [
      "set seed as 2020\n",
      "Cheating! Cropping around ground truth\n",
      "device: cuda\n"
     ]
    },
    {
     "name": "stderr",
     "output_type": "stream",
     "text": [
      "  0%|          | 0/20 [00:00<?, ?it/s]"
     ]
    },
    {
     "name": "stdout",
     "output_type": "stream",
     "text": [
      "la_014.nii.gz Dice list by number of clicks (left atrium): [0.6253, 0.6337, 0.6334, 0.6344, 0.6285]\n"
     ]
    },
    {
     "name": "stderr",
     "output_type": "stream",
     "text": [
      "  5%|▌         | 1/20 [00:02<00:49,  2.58s/it]"
     ]
    },
    {
     "name": "stdout",
     "output_type": "stream",
     "text": [
      "la_022.nii.gz Dice list by number of clicks (left atrium): [0.7726, 0.7441, 0.7274, 0.7291, 0.5895]\n"
     ]
    },
    {
     "name": "stderr",
     "output_type": "stream",
     "text": [
      " 10%|█         | 2/20 [00:05<00:45,  2.54s/it]"
     ]
    },
    {
     "name": "stdout",
     "output_type": "stream",
     "text": [
      "la_030.nii.gz Dice list by number of clicks (left atrium): [0.6391, 0.6903, 0.6405, 0.6394, 0.6076]\n"
     ]
    },
    {
     "name": "stderr",
     "output_type": "stream",
     "text": [
      " 15%|█▌        | 3/20 [00:07<00:41,  2.42s/it]"
     ]
    },
    {
     "name": "stdout",
     "output_type": "stream",
     "text": [
      "la_010.nii.gz Dice list by number of clicks (left atrium): [0.5727, 0.5931, 0.5812, 0.5718, 0.5549]\n"
     ]
    },
    {
     "name": "stderr",
     "output_type": "stream",
     "text": [
      " 20%|██        | 4/20 [00:09<00:38,  2.42s/it]"
     ]
    },
    {
     "name": "stdout",
     "output_type": "stream",
     "text": [
      "la_007.nii.gz Dice list by number of clicks (left atrium): [0.494, 0.6956, 0.713, 0.6428, 0.5154]\n"
     ]
    },
    {
     "name": "stderr",
     "output_type": "stream",
     "text": [
      " 25%|██▌       | 5/20 [00:12<00:36,  2.44s/it]"
     ]
    },
    {
     "name": "stdout",
     "output_type": "stream",
     "text": [
      "la_023.nii.gz Dice list by number of clicks (left atrium): [0.6577, 0.7338, 0.7467, 0.7479, 0.7591]\n"
     ]
    },
    {
     "name": "stderr",
     "output_type": "stream",
     "text": [
      " 30%|███       | 6/20 [00:14<00:34,  2.45s/it]"
     ]
    },
    {
     "name": "stdout",
     "output_type": "stream",
     "text": [
      "la_017.nii.gz Dice list by number of clicks (left atrium): [0.5831, 0.6034, 0.638, 0.6446, 0.6555]\n"
     ]
    },
    {
     "name": "stderr",
     "output_type": "stream",
     "text": [
      " 35%|███▌      | 7/20 [00:17<00:33,  2.55s/it]"
     ]
    },
    {
     "name": "stdout",
     "output_type": "stream",
     "text": [
      "la_016.nii.gz Dice list by number of clicks (left atrium): [0.6801, 0.6691, 0.6741, 0.6563, 0.6586]\n"
     ]
    },
    {
     "name": "stderr",
     "output_type": "stream",
     "text": [
      " 40%|████      | 8/20 [00:20<00:30,  2.55s/it]"
     ]
    },
    {
     "name": "stdout",
     "output_type": "stream",
     "text": [
      "la_029.nii.gz Dice list by number of clicks (left atrium): [0.6135, 0.6119, 0.5791, 0.6052, 0.5764]\n"
     ]
    },
    {
     "name": "stderr",
     "output_type": "stream",
     "text": [
      " 45%|████▌     | 9/20 [00:23<00:29,  2.70s/it]"
     ]
    },
    {
     "name": "stdout",
     "output_type": "stream",
     "text": [
      "la_024.nii.gz Dice list by number of clicks (left atrium): [0.4546, 0.4475, 0.4679, 0.4659, 0.4056]\n"
     ]
    },
    {
     "name": "stderr",
     "output_type": "stream",
     "text": [
      " 50%|█████     | 10/20 [00:25<00:27,  2.72s/it]"
     ]
    },
    {
     "name": "stdout",
     "output_type": "stream",
     "text": [
      "la_020.nii.gz Dice list by number of clicks (left atrium): [0.6301, 0.6332, 0.6666, 0.6488, 0.6294]\n"
     ]
    },
    {
     "name": "stderr",
     "output_type": "stream",
     "text": [
      " 55%|█████▌    | 11/20 [00:28<00:23,  2.65s/it]"
     ]
    },
    {
     "name": "stdout",
     "output_type": "stream",
     "text": [
      "la_003.nii.gz Dice list by number of clicks (left atrium): [0.6388, 0.6471, 0.6586, 0.6254, 0.6422]\n"
     ]
    },
    {
     "name": "stderr",
     "output_type": "stream",
     "text": [
      " 60%|██████    | 12/20 [00:30<00:20,  2.57s/it]"
     ]
    },
    {
     "name": "stdout",
     "output_type": "stream",
     "text": [
      "la_011.nii.gz Dice list by number of clicks (left atrium): [0.5273, 0.5351, 0.5633, 0.5982, 0.6392]\n"
     ]
    },
    {
     "name": "stderr",
     "output_type": "stream",
     "text": [
      " 65%|██████▌   | 13/20 [00:33<00:17,  2.55s/it]"
     ]
    },
    {
     "name": "stdout",
     "output_type": "stream",
     "text": [
      "la_005.nii.gz Dice list by number of clicks (left atrium): [0.5042, 0.6291, 0.5998, 0.5824, 0.6559]\n"
     ]
    },
    {
     "name": "stderr",
     "output_type": "stream",
     "text": [
      " 70%|███████   | 14/20 [00:35<00:15,  2.51s/it]"
     ]
    },
    {
     "name": "stdout",
     "output_type": "stream",
     "text": [
      "la_018.nii.gz Dice list by number of clicks (left atrium): [0.5679, 0.6161, 0.6421, 0.671, 0.6785]\n"
     ]
    },
    {
     "name": "stderr",
     "output_type": "stream",
     "text": [
      " 75%|███████▌  | 15/20 [00:38<00:13,  2.66s/it]"
     ]
    },
    {
     "name": "stdout",
     "output_type": "stream",
     "text": [
      "la_021.nii.gz Dice list by number of clicks (left atrium): [0.6592, 0.5737, 0.6327, 0.6066, 0.6293]\n"
     ]
    },
    {
     "name": "stderr",
     "output_type": "stream",
     "text": [
      " 80%|████████  | 16/20 [00:41<00:10,  2.73s/it]"
     ]
    },
    {
     "name": "stdout",
     "output_type": "stream",
     "text": [
      "la_019.nii.gz Dice list by number of clicks (left atrium): [0.549, 0.605, 0.4915, 0.5704, 0.6115]\n"
     ]
    },
    {
     "name": "stderr",
     "output_type": "stream",
     "text": [
      " 85%|████████▌ | 17/20 [00:43<00:07,  2.62s/it]"
     ]
    },
    {
     "name": "stdout",
     "output_type": "stream",
     "text": [
      "la_004.nii.gz Dice list by number of clicks (left atrium): [0.0271, 0.1649, 0.4022, 0.425, 0.4322]\n"
     ]
    },
    {
     "name": "stderr",
     "output_type": "stream",
     "text": [
      " 90%|█████████ | 18/20 [00:46<00:05,  2.65s/it]"
     ]
    },
    {
     "name": "stdout",
     "output_type": "stream",
     "text": [
      "la_009.nii.gz Dice list by number of clicks (left atrium): [0.5307, 0.5116, 0.5152, 0.5592, 0.5528]\n"
     ]
    },
    {
     "name": "stderr",
     "output_type": "stream",
     "text": [
      " 95%|█████████▌| 19/20 [00:49<00:02,  2.67s/it]"
     ]
    },
    {
     "name": "stdout",
     "output_type": "stream",
     "text": [
      "la_026.nii.gz Dice list by number of clicks (left atrium): [0.6227, 0.5127, 0.6719, 0.5483, 0.6145]\n",
      "Save results to /home/t722s/Desktop/Sam-Med3DTest/NetworkHeartModified/eval_res_from_inference.json\n",
      "Done\n"
     ]
    },
    {
     "name": "stderr",
     "output_type": "stream",
     "text": [
      "100%|██████████| 20/20 [00:52<00:00,  2.61s/it]\n"
     ]
    },
    {
     "name": "stdout",
     "output_type": "stream",
     "text": [
      "set seed as 2020\n",
      "Cheating! Cropping around ground truth\n",
      "device: cuda\n"
     ]
    },
    {
     "name": "stderr",
     "output_type": "stream",
     "text": [
      "  0%|          | 0/20 [00:00<?, ?it/s]"
     ]
    },
    {
     "name": "stdout",
     "output_type": "stream",
     "text": [
      "la_014.nii.gz Dice list by number of clicks (left atrium): [0.6425, 0.6261, 0.629, 0.6194, 0.6367]\n"
     ]
    },
    {
     "name": "stderr",
     "output_type": "stream",
     "text": [
      "  5%|▌         | 1/20 [00:03<01:00,  3.17s/it]"
     ]
    },
    {
     "name": "stdout",
     "output_type": "stream",
     "text": [
      "la_022.nii.gz Dice list by number of clicks (left atrium): [0.7638, 0.7064, 0.7155, 0.7063, 0.7647]\n"
     ]
    },
    {
     "name": "stderr",
     "output_type": "stream",
     "text": [
      " 10%|█         | 2/20 [00:05<00:48,  2.68s/it]"
     ]
    },
    {
     "name": "stdout",
     "output_type": "stream",
     "text": [
      "la_030.nii.gz Dice list by number of clicks (left atrium): [0.6511, 0.6713, 0.6848, 0.685, 0.6868]\n"
     ]
    },
    {
     "name": "stderr",
     "output_type": "stream",
     "text": [
      " 15%|█▌        | 3/20 [00:07<00:42,  2.49s/it]"
     ]
    },
    {
     "name": "stdout",
     "output_type": "stream",
     "text": [
      "la_010.nii.gz Dice list by number of clicks (left atrium): [0.2088, 0.6066, 0.6371, 0.6167, 0.5964]\n"
     ]
    },
    {
     "name": "stderr",
     "output_type": "stream",
     "text": [
      " 20%|██        | 4/20 [00:10<00:40,  2.53s/it]"
     ]
    },
    {
     "name": "stdout",
     "output_type": "stream",
     "text": [
      "la_007.nii.gz Dice list by number of clicks (left atrium): [0.541, 0.5311, 0.704, 0.6668, 0.6494]\n"
     ]
    },
    {
     "name": "stderr",
     "output_type": "stream",
     "text": [
      " 25%|██▌       | 5/20 [00:13<00:39,  2.65s/it]"
     ]
    },
    {
     "name": "stdout",
     "output_type": "stream",
     "text": [
      "la_023.nii.gz Dice list by number of clicks (left atrium): [0.7585, 0.7463, 0.7701, 0.7722, 0.774]\n"
     ]
    },
    {
     "name": "stderr",
     "output_type": "stream",
     "text": [
      " 30%|███       | 6/20 [00:15<00:36,  2.60s/it]"
     ]
    },
    {
     "name": "stdout",
     "output_type": "stream",
     "text": [
      "la_017.nii.gz Dice list by number of clicks (left atrium): [0.6651, 0.7148, 0.6544, 0.6654, 0.6787]\n"
     ]
    },
    {
     "name": "stderr",
     "output_type": "stream",
     "text": [
      " 35%|███▌      | 7/20 [00:18<00:36,  2.79s/it]"
     ]
    },
    {
     "name": "stdout",
     "output_type": "stream",
     "text": [
      "la_016.nii.gz Dice list by number of clicks (left atrium): [0.685, 0.6786, 0.6763, 0.685, 0.7028]\n"
     ]
    },
    {
     "name": "stderr",
     "output_type": "stream",
     "text": [
      " 40%|████      | 8/20 [00:21<00:31,  2.65s/it]"
     ]
    },
    {
     "name": "stdout",
     "output_type": "stream",
     "text": [
      "la_029.nii.gz Dice list by number of clicks (left atrium): [0.6216, 0.6177, 0.558, 0.5961, 0.5696]\n"
     ]
    },
    {
     "name": "stderr",
     "output_type": "stream",
     "text": [
      " 45%|████▌     | 9/20 [00:23<00:28,  2.61s/it]"
     ]
    },
    {
     "name": "stdout",
     "output_type": "stream",
     "text": [
      "la_024.nii.gz Dice list by number of clicks (left atrium): [0.3388, 0.601, 0.4554, 0.382, 0.3178]\n"
     ]
    },
    {
     "name": "stderr",
     "output_type": "stream",
     "text": [
      " 50%|█████     | 10/20 [00:26<00:27,  2.73s/it]"
     ]
    },
    {
     "name": "stdout",
     "output_type": "stream",
     "text": [
      "la_020.nii.gz Dice list by number of clicks (left atrium): [0.705, 0.6833, 0.5149, 0.6365, 0.622]\n"
     ]
    },
    {
     "name": "stderr",
     "output_type": "stream",
     "text": [
      " 55%|█████▌    | 11/20 [00:29<00:25,  2.79s/it]"
     ]
    },
    {
     "name": "stdout",
     "output_type": "stream",
     "text": [
      "la_003.nii.gz Dice list by number of clicks (left atrium): [0.6403, 0.7054, 0.6922, 0.6973, 0.683]\n"
     ]
    },
    {
     "name": "stderr",
     "output_type": "stream",
     "text": [
      " 60%|██████    | 12/20 [00:32<00:21,  2.71s/it]"
     ]
    },
    {
     "name": "stdout",
     "output_type": "stream",
     "text": [
      "la_011.nii.gz Dice list by number of clicks (left atrium): [0.538, 0.6286, 0.6014, 0.5959, 0.6225]\n"
     ]
    },
    {
     "name": "stderr",
     "output_type": "stream",
     "text": [
      " 65%|██████▌   | 13/20 [00:34<00:18,  2.67s/it]"
     ]
    },
    {
     "name": "stdout",
     "output_type": "stream",
     "text": [
      "la_005.nii.gz Dice list by number of clicks (left atrium): [0.5536, 0.6483, 0.6201, 0.6642, 0.6622]\n"
     ]
    },
    {
     "name": "stderr",
     "output_type": "stream",
     "text": [
      " 70%|███████   | 14/20 [00:37<00:15,  2.64s/it]"
     ]
    },
    {
     "name": "stdout",
     "output_type": "stream",
     "text": [
      "la_018.nii.gz Dice list by number of clicks (left atrium): [0.6941, 0.6649, 0.5794, 0.6652, 0.659]\n"
     ]
    },
    {
     "name": "stderr",
     "output_type": "stream",
     "text": [
      " 75%|███████▌  | 15/20 [00:40<00:13,  2.63s/it]"
     ]
    },
    {
     "name": "stdout",
     "output_type": "stream",
     "text": [
      "la_021.nii.gz Dice list by number of clicks (left atrium): [0.6673, 0.6592, 0.615, 0.6854, 0.5601]\n"
     ]
    },
    {
     "name": "stderr",
     "output_type": "stream",
     "text": [
      " 80%|████████  | 16/20 [00:42<00:10,  2.55s/it]"
     ]
    },
    {
     "name": "stdout",
     "output_type": "stream",
     "text": [
      "la_019.nii.gz Dice list by number of clicks (left atrium): [0.5715, 0.6504, 0.6734, 0.6715, 0.6577]\n"
     ]
    },
    {
     "name": "stderr",
     "output_type": "stream",
     "text": [
      " 85%|████████▌ | 17/20 [00:44<00:07,  2.48s/it]"
     ]
    },
    {
     "name": "stdout",
     "output_type": "stream",
     "text": [
      "la_004.nii.gz Dice list by number of clicks (left atrium): [0.0858, 0.3075, 0.4421, 0.3197, 0.2309]\n"
     ]
    },
    {
     "name": "stderr",
     "output_type": "stream",
     "text": [
      " 90%|█████████ | 18/20 [00:47<00:04,  2.46s/it]"
     ]
    },
    {
     "name": "stdout",
     "output_type": "stream",
     "text": [
      "la_009.nii.gz Dice list by number of clicks (left atrium): [0.5433, 0.5542, 0.4993, 0.5131, 0.6599]\n"
     ]
    },
    {
     "name": "stderr",
     "output_type": "stream",
     "text": [
      " 95%|█████████▌| 19/20 [00:49<00:02,  2.42s/it]"
     ]
    },
    {
     "name": "stdout",
     "output_type": "stream",
     "text": [
      "la_026.nii.gz Dice list by number of clicks (left atrium): [0.5847, 0.5065, 0.4647, 0.4564, 0.4518]\n",
      "Save results to /home/t722s/Desktop/Sam-Med3DTest/NetworkHeartModified/eval_res_from_inference.json\n",
      "Done\n"
     ]
    },
    {
     "name": "stderr",
     "output_type": "stream",
     "text": [
      "100%|██████████| 20/20 [00:51<00:00,  2.59s/it]\n"
     ]
    },
    {
     "name": "stdout",
     "output_type": "stream",
     "text": [
      "set seed as 2020\n",
      "Cheating! Cropping around ground truth\n",
      "device: cuda\n"
     ]
    },
    {
     "name": "stderr",
     "output_type": "stream",
     "text": [
      "  0%|          | 0/20 [00:00<?, ?it/s]"
     ]
    },
    {
     "name": "stdout",
     "output_type": "stream",
     "text": [
      "la_014.nii.gz Dice list by number of clicks (left atrium): [0.6334, 0.6498, 0.6341, 0.6328, 0.6275]\n"
     ]
    },
    {
     "name": "stderr",
     "output_type": "stream",
     "text": [
      "  5%|▌         | 1/20 [00:02<00:52,  2.79s/it]"
     ]
    },
    {
     "name": "stdout",
     "output_type": "stream",
     "text": [
      "la_022.nii.gz Dice list by number of clicks (left atrium): [0.6559, 0.7059, 0.7454, 0.746, 0.7548]\n"
     ]
    },
    {
     "name": "stderr",
     "output_type": "stream",
     "text": [
      " 10%|█         | 2/20 [00:05<00:46,  2.56s/it]"
     ]
    },
    {
     "name": "stdout",
     "output_type": "stream",
     "text": [
      "la_030.nii.gz Dice list by number of clicks (left atrium): [0.6864, 0.6853, 0.6717, 0.6766, 0.6831]\n"
     ]
    },
    {
     "name": "stderr",
     "output_type": "stream",
     "text": [
      " 15%|█▌        | 3/20 [00:07<00:41,  2.45s/it]"
     ]
    },
    {
     "name": "stdout",
     "output_type": "stream",
     "text": [
      "la_010.nii.gz Dice list by number of clicks (left atrium): [0.6867, 0.6878, 0.6951, 0.7294, 0.7332]\n"
     ]
    },
    {
     "name": "stderr",
     "output_type": "stream",
     "text": [
      " 20%|██        | 4/20 [00:09<00:39,  2.44s/it]"
     ]
    },
    {
     "name": "stdout",
     "output_type": "stream",
     "text": [
      "la_007.nii.gz Dice list by number of clicks (left atrium): [0.6857, 0.4572, 0.6044, 0.5978, 0.5396]\n"
     ]
    },
    {
     "name": "stderr",
     "output_type": "stream",
     "text": [
      " 25%|██▌       | 5/20 [00:12<00:37,  2.53s/it]"
     ]
    },
    {
     "name": "stdout",
     "output_type": "stream",
     "text": [
      "la_023.nii.gz Dice list by number of clicks (left atrium): [0.6516, 0.732, 0.7413, 0.7474, 0.7468]\n"
     ]
    },
    {
     "name": "stderr",
     "output_type": "stream",
     "text": [
      " 30%|███       | 6/20 [00:14<00:34,  2.47s/it]"
     ]
    },
    {
     "name": "stdout",
     "output_type": "stream",
     "text": [
      "la_017.nii.gz Dice list by number of clicks (left atrium): [0.5771, 0.6094, 0.6256, 0.6406, 0.64]\n"
     ]
    },
    {
     "name": "stderr",
     "output_type": "stream",
     "text": [
      " 35%|███▌      | 7/20 [00:17<00:31,  2.43s/it]"
     ]
    },
    {
     "name": "stdout",
     "output_type": "stream",
     "text": [
      "la_016.nii.gz Dice list by number of clicks (left atrium): [0.6294, 0.6526, 0.6745, 0.6819, 0.6775]\n"
     ]
    },
    {
     "name": "stderr",
     "output_type": "stream",
     "text": [
      " 40%|████      | 8/20 [00:19<00:28,  2.34s/it]"
     ]
    },
    {
     "name": "stdout",
     "output_type": "stream",
     "text": [
      "la_029.nii.gz Dice list by number of clicks (left atrium): [0.5715, 0.5631, 0.5925, 0.5557, 0.5881]\n"
     ]
    },
    {
     "name": "stderr",
     "output_type": "stream",
     "text": [
      " 45%|████▌     | 9/20 [00:21<00:25,  2.30s/it]"
     ]
    },
    {
     "name": "stdout",
     "output_type": "stream",
     "text": [
      "la_024.nii.gz Dice list by number of clicks (left atrium): [0.3994, 0.6154, 0.5346, 0.514, 0.5107]\n"
     ]
    },
    {
     "name": "stderr",
     "output_type": "stream",
     "text": [
      " 50%|█████     | 10/20 [00:24<00:23,  2.33s/it]"
     ]
    },
    {
     "name": "stdout",
     "output_type": "stream",
     "text": [
      "la_020.nii.gz Dice list by number of clicks (left atrium): [0.7102, 0.6527, 0.676, 0.6776, 0.6743]\n"
     ]
    },
    {
     "name": "stderr",
     "output_type": "stream",
     "text": [
      " 55%|█████▌    | 11/20 [00:26<00:20,  2.32s/it]"
     ]
    },
    {
     "name": "stdout",
     "output_type": "stream",
     "text": [
      "la_003.nii.gz Dice list by number of clicks (left atrium): [0.0909, 0.5044, 0.6235, 0.5649, 0.5316]\n"
     ]
    },
    {
     "name": "stderr",
     "output_type": "stream",
     "text": [
      " 60%|██████    | 12/20 [00:28<00:18,  2.35s/it]"
     ]
    },
    {
     "name": "stdout",
     "output_type": "stream",
     "text": [
      "la_011.nii.gz Dice list by number of clicks (left atrium): [0.5061, 0.538, 0.5835, 0.6247, 0.6315]\n"
     ]
    },
    {
     "name": "stderr",
     "output_type": "stream",
     "text": [
      " 65%|██████▌   | 13/20 [00:31<00:16,  2.36s/it]"
     ]
    },
    {
     "name": "stdout",
     "output_type": "stream",
     "text": [
      "la_005.nii.gz Dice list by number of clicks (left atrium): [0.542, 0.5731, 0.6306, 0.6301, 0.6013]\n"
     ]
    },
    {
     "name": "stderr",
     "output_type": "stream",
     "text": [
      " 70%|███████   | 14/20 [00:33<00:14,  2.39s/it]"
     ]
    },
    {
     "name": "stdout",
     "output_type": "stream",
     "text": [
      "la_018.nii.gz Dice list by number of clicks (left atrium): [0.5947, 0.575, 0.554, 0.5267, 0.6241]\n"
     ]
    },
    {
     "name": "stderr",
     "output_type": "stream",
     "text": [
      " 75%|███████▌  | 15/20 [00:37<00:13,  2.72s/it]"
     ]
    },
    {
     "name": "stdout",
     "output_type": "stream",
     "text": [
      "la_021.nii.gz Dice list by number of clicks (left atrium): [0.5851, 0.6882, 0.6716, 0.572, 0.6339]\n"
     ]
    },
    {
     "name": "stderr",
     "output_type": "stream",
     "text": [
      " 80%|████████  | 16/20 [00:39<00:10,  2.69s/it]"
     ]
    },
    {
     "name": "stdout",
     "output_type": "stream",
     "text": [
      "la_019.nii.gz Dice list by number of clicks (left atrium): [0.69, 0.6377, 0.6329, 0.508, 0.6278]\n"
     ]
    },
    {
     "name": "stderr",
     "output_type": "stream",
     "text": [
      " 85%|████████▌ | 17/20 [00:42<00:08,  2.72s/it]"
     ]
    },
    {
     "name": "stdout",
     "output_type": "stream",
     "text": [
      "la_004.nii.gz Dice list by number of clicks (left atrium): [0.2138, 0.4355, 0.4955, 0.5618, 0.4788]\n"
     ]
    },
    {
     "name": "stderr",
     "output_type": "stream",
     "text": [
      " 90%|█████████ | 18/20 [00:44<00:05,  2.62s/it]"
     ]
    },
    {
     "name": "stdout",
     "output_type": "stream",
     "text": [
      "la_009.nii.gz Dice list by number of clicks (left atrium): [0.6367, 0.6561, 0.6639, 0.6384, 0.6402]\n"
     ]
    },
    {
     "name": "stderr",
     "output_type": "stream",
     "text": [
      " 95%|█████████▌| 19/20 [00:48<00:02,  2.78s/it]"
     ]
    },
    {
     "name": "stdout",
     "output_type": "stream",
     "text": [
      "la_026.nii.gz Dice list by number of clicks (left atrium): [0.5092, 0.633, 0.5173, 0.642, 0.6193]\n",
      "Save results to /home/t722s/Desktop/Sam-Med3DTest/NetworkHeartModified/eval_res_from_inference.json\n",
      "Done\n"
     ]
    },
    {
     "name": "stderr",
     "output_type": "stream",
     "text": [
      "100%|██████████| 20/20 [00:51<00:00,  2.55s/it]\n"
     ]
    },
    {
     "name": "stdout",
     "output_type": "stream",
     "text": [
      "set seed as 2020\n",
      "Cheating! Cropping around ground truth\n",
      "device: cuda\n"
     ]
    },
    {
     "name": "stderr",
     "output_type": "stream",
     "text": [
      "  0%|          | 0/20 [00:00<?, ?it/s]"
     ]
    },
    {
     "name": "stdout",
     "output_type": "stream",
     "text": [
      "la_014.nii.gz Dice list by number of clicks (left atrium): [0.7, 0.6798, 0.6628, 0.6603, 0.6907]\n"
     ]
    },
    {
     "name": "stderr",
     "output_type": "stream",
     "text": [
      "  5%|▌         | 1/20 [00:02<00:50,  2.67s/it]"
     ]
    },
    {
     "name": "stdout",
     "output_type": "stream",
     "text": [
      "la_022.nii.gz Dice list by number of clicks (left atrium): [0.7722, 0.7349, 0.7272, 0.7718, 0.7211]\n"
     ]
    },
    {
     "name": "stderr",
     "output_type": "stream",
     "text": [
      " 10%|█         | 2/20 [00:05<00:51,  2.85s/it]"
     ]
    },
    {
     "name": "stdout",
     "output_type": "stream",
     "text": [
      "la_030.nii.gz Dice list by number of clicks (left atrium): [0.6104, 0.606, 0.6244, 0.6045, 0.6041]\n"
     ]
    },
    {
     "name": "stderr",
     "output_type": "stream",
     "text": [
      " 15%|█▌        | 3/20 [00:08<00:46,  2.75s/it]"
     ]
    },
    {
     "name": "stdout",
     "output_type": "stream",
     "text": [
      "la_010.nii.gz Dice list by number of clicks (left atrium): [0.633, 0.5726, 0.577, 0.5737, 0.5901]\n"
     ]
    },
    {
     "name": "stderr",
     "output_type": "stream",
     "text": [
      " 20%|██        | 4/20 [00:10<00:43,  2.72s/it]"
     ]
    },
    {
     "name": "stdout",
     "output_type": "stream",
     "text": [
      "la_007.nii.gz Dice list by number of clicks (left atrium): [0.4794, 0.6681, 0.6449, 0.6093, 0.5817]\n"
     ]
    },
    {
     "name": "stderr",
     "output_type": "stream",
     "text": [
      " 25%|██▌       | 5/20 [00:13<00:41,  2.79s/it]"
     ]
    },
    {
     "name": "stdout",
     "output_type": "stream",
     "text": [
      "la_023.nii.gz Dice list by number of clicks (left atrium): [0.6898, 0.7106, 0.7582, 0.7242, 0.7522]\n"
     ]
    },
    {
     "name": "stderr",
     "output_type": "stream",
     "text": [
      " 30%|███       | 6/20 [00:16<00:39,  2.81s/it]"
     ]
    },
    {
     "name": "stdout",
     "output_type": "stream",
     "text": [
      "la_017.nii.gz Dice list by number of clicks (left atrium): [0.6306, 0.6952, 0.6718, 0.6564, 0.6102]\n"
     ]
    },
    {
     "name": "stderr",
     "output_type": "stream",
     "text": [
      " 35%|███▌      | 7/20 [00:19<00:35,  2.70s/it]"
     ]
    },
    {
     "name": "stdout",
     "output_type": "stream",
     "text": [
      "la_016.nii.gz Dice list by number of clicks (left atrium): [0.6888, 0.7194, 0.6999, 0.6566, 0.6774]\n"
     ]
    },
    {
     "name": "stderr",
     "output_type": "stream",
     "text": [
      " 40%|████      | 8/20 [00:21<00:30,  2.53s/it]"
     ]
    },
    {
     "name": "stdout",
     "output_type": "stream",
     "text": [
      "la_029.nii.gz Dice list by number of clicks (left atrium): [0.6152, 0.5865, 0.6169, 0.615, 0.5859]\n"
     ]
    },
    {
     "name": "stderr",
     "output_type": "stream",
     "text": [
      " 45%|████▌     | 9/20 [00:23<00:27,  2.47s/it]"
     ]
    },
    {
     "name": "stdout",
     "output_type": "stream",
     "text": [
      "la_024.nii.gz Dice list by number of clicks (left atrium): [0.5176, 0.5021, 0.4853, 0.6523, 0.5824]\n"
     ]
    },
    {
     "name": "stderr",
     "output_type": "stream",
     "text": [
      " 50%|█████     | 10/20 [00:26<00:26,  2.69s/it]"
     ]
    },
    {
     "name": "stdout",
     "output_type": "stream",
     "text": [
      "la_020.nii.gz Dice list by number of clicks (left atrium): [0.6216, 0.5662, 0.6071, 0.6388, 0.6238]\n"
     ]
    },
    {
     "name": "stderr",
     "output_type": "stream",
     "text": [
      " 55%|█████▌    | 11/20 [00:29<00:25,  2.79s/it]"
     ]
    },
    {
     "name": "stdout",
     "output_type": "stream",
     "text": [
      "la_003.nii.gz Dice list by number of clicks (left atrium): [0.6781, 0.7229, 0.688, 0.7149, 0.7087]\n"
     ]
    },
    {
     "name": "stderr",
     "output_type": "stream",
     "text": [
      " 60%|██████    | 12/20 [00:33<00:23,  2.89s/it]"
     ]
    },
    {
     "name": "stdout",
     "output_type": "stream",
     "text": [
      "la_011.nii.gz Dice list by number of clicks (left atrium): [0.6185, 0.6568, 0.6611, 0.6463, 0.64]\n"
     ]
    },
    {
     "name": "stderr",
     "output_type": "stream",
     "text": [
      " 65%|██████▌   | 13/20 [00:35<00:19,  2.84s/it]"
     ]
    },
    {
     "name": "stdout",
     "output_type": "stream",
     "text": [
      "la_005.nii.gz Dice list by number of clicks (left atrium): [0.5246, 0.5252, 0.5223, 0.6488, 0.661]\n"
     ]
    },
    {
     "name": "stderr",
     "output_type": "stream",
     "text": [
      " 70%|███████   | 14/20 [00:38<00:16,  2.78s/it]"
     ]
    },
    {
     "name": "stdout",
     "output_type": "stream",
     "text": [
      "la_018.nii.gz Dice list by number of clicks (left atrium): [0.605, 0.548, 0.525, 0.6404, 0.492]\n"
     ]
    },
    {
     "name": "stderr",
     "output_type": "stream",
     "text": [
      " 75%|███████▌  | 15/20 [00:41<00:13,  2.74s/it]"
     ]
    },
    {
     "name": "stdout",
     "output_type": "stream",
     "text": [
      "la_021.nii.gz Dice list by number of clicks (left atrium): [0.5449, 0.6116, 0.7076, 0.6696, 0.5415]\n"
     ]
    },
    {
     "name": "stderr",
     "output_type": "stream",
     "text": [
      " 80%|████████  | 16/20 [00:43<00:10,  2.65s/it]"
     ]
    },
    {
     "name": "stdout",
     "output_type": "stream",
     "text": [
      "la_019.nii.gz Dice list by number of clicks (left atrium): [0.6074, 0.6374, 0.6161, 0.5534, 0.6076]\n"
     ]
    },
    {
     "name": "stderr",
     "output_type": "stream",
     "text": [
      " 85%|████████▌ | 17/20 [00:46<00:08,  2.68s/it]"
     ]
    },
    {
     "name": "stdout",
     "output_type": "stream",
     "text": [
      "la_004.nii.gz Dice list by number of clicks (left atrium): [0.5326, 0.6107, 0.4222, 0.5398, 0.5836]\n"
     ]
    },
    {
     "name": "stderr",
     "output_type": "stream",
     "text": [
      " 90%|█████████ | 18/20 [00:48<00:05,  2.66s/it]"
     ]
    },
    {
     "name": "stdout",
     "output_type": "stream",
     "text": [
      "la_009.nii.gz Dice list by number of clicks (left atrium): [0.6705, 0.6453, 0.6724, 0.6399, 0.6322]\n"
     ]
    },
    {
     "name": "stderr",
     "output_type": "stream",
     "text": [
      " 95%|█████████▌| 19/20 [00:51<00:02,  2.64s/it]"
     ]
    },
    {
     "name": "stdout",
     "output_type": "stream",
     "text": [
      "la_026.nii.gz Dice list by number of clicks (left atrium): [0.4051, 0.6089, 0.6447, 0.5877, 0.5504]\n",
      "Save results to /home/t722s/Desktop/Sam-Med3DTest/NetworkHeartModified/eval_res_from_inference.json\n",
      "Done\n"
     ]
    },
    {
     "name": "stderr",
     "output_type": "stream",
     "text": [
      "100%|██████████| 20/20 [00:54<00:00,  2.71s/it]\n"
     ]
    },
    {
     "name": "stdout",
     "output_type": "stream",
     "text": [
      "set seed as 2020\n",
      "Cheating! Cropping around ground truth\n",
      "device: cuda\n"
     ]
    },
    {
     "name": "stderr",
     "output_type": "stream",
     "text": [
      "  0%|          | 0/20 [00:00<?, ?it/s]"
     ]
    },
    {
     "name": "stdout",
     "output_type": "stream",
     "text": [
      "la_014.nii.gz Dice list by number of clicks (left atrium): [0.7096, 0.6934, 0.6843, 0.7407, 0.6828]\n"
     ]
    },
    {
     "name": "stderr",
     "output_type": "stream",
     "text": [
      "  5%|▌         | 1/20 [00:02<00:56,  2.98s/it]"
     ]
    },
    {
     "name": "stdout",
     "output_type": "stream",
     "text": [
      "la_022.nii.gz Dice list by number of clicks (left atrium): [0.6638, 0.6166, 0.7398, 0.7213, 0.7443]\n"
     ]
    },
    {
     "name": "stderr",
     "output_type": "stream",
     "text": [
      " 10%|█         | 2/20 [00:05<00:53,  2.97s/it]"
     ]
    },
    {
     "name": "stdout",
     "output_type": "stream",
     "text": [
      "la_030.nii.gz Dice list by number of clicks (left atrium): [0.5833, 0.6104, 0.6066, 0.6344, 0.6075]\n"
     ]
    },
    {
     "name": "stderr",
     "output_type": "stream",
     "text": [
      " 15%|█▌        | 3/20 [00:08<00:44,  2.64s/it]"
     ]
    },
    {
     "name": "stdout",
     "output_type": "stream",
     "text": [
      "la_010.nii.gz Dice list by number of clicks (left atrium): [0.6206, 0.6767, 0.6869, 0.6952, 0.6945]\n"
     ]
    },
    {
     "name": "stderr",
     "output_type": "stream",
     "text": [
      " 20%|██        | 4/20 [00:10<00:40,  2.51s/it]"
     ]
    },
    {
     "name": "stdout",
     "output_type": "stream",
     "text": [
      "la_007.nii.gz Dice list by number of clicks (left atrium): [0.4036, 0.679, 0.6502, 0.6036, 0.6135]\n"
     ]
    },
    {
     "name": "stderr",
     "output_type": "stream",
     "text": [
      " 25%|██▌       | 5/20 [00:12<00:37,  2.48s/it]"
     ]
    },
    {
     "name": "stdout",
     "output_type": "stream",
     "text": [
      "la_023.nii.gz Dice list by number of clicks (left atrium): [0.6989, 0.7178, 0.7418, 0.7439, 0.7516]\n"
     ]
    },
    {
     "name": "stderr",
     "output_type": "stream",
     "text": [
      " 30%|███       | 6/20 [00:15<00:33,  2.41s/it]"
     ]
    },
    {
     "name": "stdout",
     "output_type": "stream",
     "text": [
      "la_017.nii.gz Dice list by number of clicks (left atrium): [0.6354, 0.6502, 0.5268, 0.5493, 0.6012]\n"
     ]
    },
    {
     "name": "stderr",
     "output_type": "stream",
     "text": [
      " 35%|███▌      | 7/20 [00:17<00:31,  2.40s/it]"
     ]
    },
    {
     "name": "stdout",
     "output_type": "stream",
     "text": [
      "la_016.nii.gz Dice list by number of clicks (left atrium): [0.6638, 0.6663, 0.6618, 0.6501, 0.6571]\n"
     ]
    },
    {
     "name": "stderr",
     "output_type": "stream",
     "text": [
      " 40%|████      | 8/20 [00:19<00:27,  2.29s/it]"
     ]
    },
    {
     "name": "stdout",
     "output_type": "stream",
     "text": [
      "la_029.nii.gz Dice list by number of clicks (left atrium): [0.5695, 0.5872, 0.6001, 0.6134, 0.5833]\n"
     ]
    },
    {
     "name": "stderr",
     "output_type": "stream",
     "text": [
      " 45%|████▌     | 9/20 [00:21<00:24,  2.25s/it]"
     ]
    },
    {
     "name": "stdout",
     "output_type": "stream",
     "text": [
      "la_024.nii.gz Dice list by number of clicks (left atrium): [0.403, 0.5091, 0.5304, 0.5132, 0.6796]\n"
     ]
    },
    {
     "name": "stderr",
     "output_type": "stream",
     "text": [
      " 50%|█████     | 10/20 [00:24<00:22,  2.28s/it]"
     ]
    },
    {
     "name": "stdout",
     "output_type": "stream",
     "text": [
      "la_020.nii.gz Dice list by number of clicks (left atrium): [0.5607, 0.6267, 0.572, 0.6816, 0.6318]\n"
     ]
    },
    {
     "name": "stderr",
     "output_type": "stream",
     "text": [
      " 55%|█████▌    | 11/20 [00:26<00:20,  2.27s/it]"
     ]
    },
    {
     "name": "stdout",
     "output_type": "stream",
     "text": [
      "la_003.nii.gz Dice list by number of clicks (left atrium): [0.7002, 0.6866, 0.6009, 0.6469, 0.5868]\n"
     ]
    },
    {
     "name": "stderr",
     "output_type": "stream",
     "text": [
      " 60%|██████    | 12/20 [00:28<00:18,  2.31s/it]"
     ]
    },
    {
     "name": "stdout",
     "output_type": "stream",
     "text": [
      "la_011.nii.gz Dice list by number of clicks (left atrium): [0.6202, 0.7128, 0.708, 0.6665, 0.6547]\n"
     ]
    },
    {
     "name": "stderr",
     "output_type": "stream",
     "text": [
      " 65%|██████▌   | 13/20 [00:31<00:16,  2.30s/it]"
     ]
    },
    {
     "name": "stdout",
     "output_type": "stream",
     "text": [
      "la_005.nii.gz Dice list by number of clicks (left atrium): [0.6496, 0.6364, 0.6059, 0.6038, 0.5794]\n"
     ]
    },
    {
     "name": "stderr",
     "output_type": "stream",
     "text": [
      " 70%|███████   | 14/20 [00:33<00:14,  2.39s/it]"
     ]
    },
    {
     "name": "stdout",
     "output_type": "stream",
     "text": [
      "la_018.nii.gz Dice list by number of clicks (left atrium): [0.4575, 0.6152, 0.6143, 0.6569, 0.6811]\n"
     ]
    },
    {
     "name": "stderr",
     "output_type": "stream",
     "text": [
      " 75%|███████▌  | 15/20 [00:36<00:11,  2.37s/it]"
     ]
    },
    {
     "name": "stdout",
     "output_type": "stream",
     "text": [
      "la_021.nii.gz Dice list by number of clicks (left atrium): [0.5177, 0.4314, 0.531, 0.6185, 0.6261]\n"
     ]
    },
    {
     "name": "stderr",
     "output_type": "stream",
     "text": [
      " 80%|████████  | 16/20 [00:38<00:09,  2.33s/it]"
     ]
    },
    {
     "name": "stdout",
     "output_type": "stream",
     "text": [
      "la_019.nii.gz Dice list by number of clicks (left atrium): [0.6226, 0.6253, 0.655, 0.5474, 0.6191]\n"
     ]
    },
    {
     "name": "stderr",
     "output_type": "stream",
     "text": [
      " 85%|████████▌ | 17/20 [00:40<00:06,  2.31s/it]"
     ]
    },
    {
     "name": "stdout",
     "output_type": "stream",
     "text": [
      "la_004.nii.gz Dice list by number of clicks (left atrium): [0.5723, 0.2593, 0.4303, 0.5728, 0.5925]\n"
     ]
    },
    {
     "name": "stderr",
     "output_type": "stream",
     "text": [
      " 90%|█████████ | 18/20 [00:42<00:04,  2.32s/it]"
     ]
    },
    {
     "name": "stdout",
     "output_type": "stream",
     "text": [
      "la_009.nii.gz Dice list by number of clicks (left atrium): [0.6281, 0.6737, 0.65, 0.6654, 0.4148]\n"
     ]
    },
    {
     "name": "stderr",
     "output_type": "stream",
     "text": [
      " 95%|█████████▌| 19/20 [00:45<00:02,  2.32s/it]"
     ]
    },
    {
     "name": "stdout",
     "output_type": "stream",
     "text": [
      "la_026.nii.gz Dice list by number of clicks (left atrium): [0.5828, 0.6294, 0.5655, 0.6043, 0.6565]\n",
      "Save results to /home/t722s/Desktop/Sam-Med3DTest/NetworkHeartModified/eval_res_from_inference.json\n",
      "Done\n"
     ]
    },
    {
     "name": "stderr",
     "output_type": "stream",
     "text": [
      "100%|██████████| 20/20 [00:47<00:00,  2.38s/it]\n"
     ]
    },
    {
     "name": "stdout",
     "output_type": "stream",
     "text": [
      "set seed as 2020\n",
      "Cheating! Cropping around ground truth\n",
      "device: cuda\n"
     ]
    },
    {
     "name": "stderr",
     "output_type": "stream",
     "text": [
      "  0%|          | 0/20 [00:00<?, ?it/s]"
     ]
    },
    {
     "name": "stdout",
     "output_type": "stream",
     "text": [
      "la_014.nii.gz Dice list by number of clicks (left atrium): [0.6455, 0.6313, 0.6209, 0.6272, 0.6282]\n"
     ]
    },
    {
     "name": "stderr",
     "output_type": "stream",
     "text": [
      "  5%|▌         | 1/20 [00:02<00:54,  2.86s/it]"
     ]
    },
    {
     "name": "stdout",
     "output_type": "stream",
     "text": [
      "la_022.nii.gz Dice list by number of clicks (left atrium): [0.7684, 0.7386, 0.7271, 0.7174, 0.7114]\n"
     ]
    },
    {
     "name": "stderr",
     "output_type": "stream",
     "text": [
      " 10%|█         | 2/20 [00:05<00:53,  2.96s/it]"
     ]
    },
    {
     "name": "stdout",
     "output_type": "stream",
     "text": [
      "la_030.nii.gz Dice list by number of clicks (left atrium): [0.7025, 0.6263, 0.652, 0.5847, 0.5962]\n"
     ]
    },
    {
     "name": "stderr",
     "output_type": "stream",
     "text": [
      " 15%|█▌        | 3/20 [00:08<00:48,  2.86s/it]"
     ]
    },
    {
     "name": "stdout",
     "output_type": "stream",
     "text": [
      "la_010.nii.gz Dice list by number of clicks (left atrium): [0.5787, 0.6257, 0.624, 0.6098, 0.5839]\n"
     ]
    },
    {
     "name": "stderr",
     "output_type": "stream",
     "text": [
      " 20%|██        | 4/20 [00:11<00:45,  2.82s/it]"
     ]
    },
    {
     "name": "stdout",
     "output_type": "stream",
     "text": [
      "la_007.nii.gz Dice list by number of clicks (left atrium): [0.6276, 0.6126, 0.6656, 0.6446, 0.6412]\n"
     ]
    },
    {
     "name": "stderr",
     "output_type": "stream",
     "text": [
      " 25%|██▌       | 5/20 [00:13<00:40,  2.70s/it]"
     ]
    },
    {
     "name": "stdout",
     "output_type": "stream",
     "text": [
      "la_023.nii.gz Dice list by number of clicks (left atrium): [0.7272, 0.7381, 0.7407, 0.7462, 0.7778]\n"
     ]
    },
    {
     "name": "stderr",
     "output_type": "stream",
     "text": [
      " 30%|███       | 6/20 [00:16<00:36,  2.59s/it]"
     ]
    },
    {
     "name": "stdout",
     "output_type": "stream",
     "text": [
      "la_017.nii.gz Dice list by number of clicks (left atrium): [0.6288, 0.6363, 0.6273, 0.6145, 0.5986]\n"
     ]
    },
    {
     "name": "stderr",
     "output_type": "stream",
     "text": [
      " 35%|███▌      | 7/20 [00:18<00:34,  2.62s/it]"
     ]
    },
    {
     "name": "stdout",
     "output_type": "stream",
     "text": [
      "la_016.nii.gz Dice list by number of clicks (left atrium): [0.6853, 0.7102, 0.6721, 0.6733, 0.672]\n"
     ]
    },
    {
     "name": "stderr",
     "output_type": "stream",
     "text": [
      " 40%|████      | 8/20 [00:21<00:30,  2.51s/it]"
     ]
    },
    {
     "name": "stdout",
     "output_type": "stream",
     "text": [
      "la_029.nii.gz Dice list by number of clicks (left atrium): [0.5129, 0.5819, 0.6033, 0.5343, 0.6264]\n"
     ]
    },
    {
     "name": "stderr",
     "output_type": "stream",
     "text": [
      " 45%|████▌     | 9/20 [00:23<00:27,  2.48s/it]"
     ]
    },
    {
     "name": "stdout",
     "output_type": "stream",
     "text": [
      "la_024.nii.gz Dice list by number of clicks (left atrium): [0.4071, 0.6476, 0.581, 0.6158, 0.6581]\n"
     ]
    },
    {
     "name": "stderr",
     "output_type": "stream",
     "text": [
      " 50%|█████     | 10/20 [00:26<00:25,  2.53s/it]"
     ]
    },
    {
     "name": "stdout",
     "output_type": "stream",
     "text": [
      "la_020.nii.gz Dice list by number of clicks (left atrium): [0.7314, 0.7296, 0.7197, 0.6632, 0.6297]\n"
     ]
    },
    {
     "name": "stderr",
     "output_type": "stream",
     "text": [
      " 55%|█████▌    | 11/20 [00:28<00:22,  2.53s/it]"
     ]
    },
    {
     "name": "stdout",
     "output_type": "stream",
     "text": [
      "la_003.nii.gz Dice list by number of clicks (left atrium): [0.3373, 0.686, 0.6791, 0.6599, 0.6581]\n"
     ]
    },
    {
     "name": "stderr",
     "output_type": "stream",
     "text": [
      " 60%|██████    | 12/20 [00:31<00:21,  2.73s/it]"
     ]
    },
    {
     "name": "stdout",
     "output_type": "stream",
     "text": [
      "la_011.nii.gz Dice list by number of clicks (left atrium): [0.6342, 0.7221, 0.7101, 0.6988, 0.6985]\n"
     ]
    },
    {
     "name": "stderr",
     "output_type": "stream",
     "text": [
      " 65%|██████▌   | 13/20 [00:34<00:18,  2.69s/it]"
     ]
    },
    {
     "name": "stdout",
     "output_type": "stream",
     "text": [
      "la_005.nii.gz Dice list by number of clicks (left atrium): [0.5697, 0.6659, 0.6507, 0.6203, 0.6089]\n"
     ]
    },
    {
     "name": "stderr",
     "output_type": "stream",
     "text": [
      " 70%|███████   | 14/20 [00:37<00:16,  2.74s/it]"
     ]
    },
    {
     "name": "stdout",
     "output_type": "stream",
     "text": [
      "la_018.nii.gz Dice list by number of clicks (left atrium): [0.6231, 0.6449, 0.6625, 0.667, 0.6544]\n"
     ]
    },
    {
     "name": "stderr",
     "output_type": "stream",
     "text": [
      " 75%|███████▌  | 15/20 [00:40<00:14,  2.92s/it]"
     ]
    },
    {
     "name": "stdout",
     "output_type": "stream",
     "text": [
      "la_021.nii.gz Dice list by number of clicks (left atrium): [0.6744, 0.6701, 0.5721, 0.5639, 0.7005]\n"
     ]
    },
    {
     "name": "stderr",
     "output_type": "stream",
     "text": [
      " 85%|████████▌ | 17/20 [00:46<00:09,  3.01s/it]"
     ]
    },
    {
     "name": "stdout",
     "output_type": "stream",
     "text": [
      "la_019.nii.gz Dice list by number of clicks (left atrium): [0.6221, 0.5199, 0.5577, 0.6225, 0.6211]\n",
      "la_004.nii.gz Dice list by number of clicks (left atrium): [0.5944, 0.5075, 0.5745, 0.3691, 0.5088]\n"
     ]
    },
    {
     "name": "stderr",
     "output_type": "stream",
     "text": [
      " 90%|█████████ | 18/20 [00:49<00:05,  2.92s/it]"
     ]
    },
    {
     "name": "stdout",
     "output_type": "stream",
     "text": [
      "la_009.nii.gz Dice list by number of clicks (left atrium): [0.5847, 0.5719, 0.5505, 0.6288, 0.6198]\n"
     ]
    },
    {
     "name": "stderr",
     "output_type": "stream",
     "text": [
      " 95%|█████████▌| 19/20 [00:52<00:02,  2.86s/it]"
     ]
    },
    {
     "name": "stdout",
     "output_type": "stream",
     "text": [
      "la_026.nii.gz Dice list by number of clicks (left atrium): [0.6245, 0.6204, 0.4489, 0.6607, 0.6786]\n",
      "Save results to /home/t722s/Desktop/Sam-Med3DTest/NetworkHeartModified/eval_res_from_inference.json\n",
      "Done\n"
     ]
    },
    {
     "name": "stderr",
     "output_type": "stream",
     "text": [
      "100%|██████████| 20/20 [00:55<00:00,  2.77s/it]\n"
     ]
    },
    {
     "name": "stdout",
     "output_type": "stream",
     "text": [
      "set seed as 2020\n",
      "Cheating! Cropping around ground truth\n",
      "device: cuda\n"
     ]
    },
    {
     "name": "stderr",
     "output_type": "stream",
     "text": [
      "  0%|          | 0/20 [00:00<?, ?it/s]"
     ]
    },
    {
     "name": "stdout",
     "output_type": "stream",
     "text": [
      "la_014.nii.gz Dice list by number of clicks (left atrium): [0.6856, 0.6922, 0.6554, 0.6492, 0.6736]\n"
     ]
    },
    {
     "name": "stderr",
     "output_type": "stream",
     "text": [
      "  5%|▌         | 1/20 [00:03<01:00,  3.20s/it]"
     ]
    },
    {
     "name": "stdout",
     "output_type": "stream",
     "text": [
      "la_022.nii.gz Dice list by number of clicks (left atrium): [0.7035, 0.7236, 0.72, 0.7186, 0.7784]\n"
     ]
    },
    {
     "name": "stderr",
     "output_type": "stream",
     "text": [
      " 10%|█         | 2/20 [00:05<00:48,  2.71s/it]"
     ]
    },
    {
     "name": "stdout",
     "output_type": "stream",
     "text": [
      "la_030.nii.gz Dice list by number of clicks (left atrium): [0.618, 0.594, 0.6123, 0.6054, 0.6096]\n"
     ]
    },
    {
     "name": "stderr",
     "output_type": "stream",
     "text": [
      " 15%|█▌        | 3/20 [00:08<00:46,  2.72s/it]"
     ]
    },
    {
     "name": "stdout",
     "output_type": "stream",
     "text": [
      "la_010.nii.gz Dice list by number of clicks (left atrium): [0.6374, 0.6301, 0.6244, 0.5943, 0.5755]\n"
     ]
    },
    {
     "name": "stderr",
     "output_type": "stream",
     "text": [
      " 20%|██        | 4/20 [00:10<00:41,  2.61s/it]"
     ]
    },
    {
     "name": "stdout",
     "output_type": "stream",
     "text": [
      "la_007.nii.gz Dice list by number of clicks (left atrium): [0.6383, 0.5668, 0.7267, 0.7074, 0.6084]\n"
     ]
    },
    {
     "name": "stderr",
     "output_type": "stream",
     "text": [
      " 25%|██▌       | 5/20 [00:13<00:42,  2.81s/it]"
     ]
    },
    {
     "name": "stdout",
     "output_type": "stream",
     "text": [
      "la_023.nii.gz Dice list by number of clicks (left atrium): [0.677, 0.7553, 0.7672, 0.7664, 0.7597]\n"
     ]
    },
    {
     "name": "stderr",
     "output_type": "stream",
     "text": [
      " 30%|███       | 6/20 [00:16<00:39,  2.83s/it]"
     ]
    },
    {
     "name": "stdout",
     "output_type": "stream",
     "text": [
      "la_017.nii.gz Dice list by number of clicks (left atrium): [0.5923, 0.5166, 0.5433, 0.5996, 0.6529]\n"
     ]
    },
    {
     "name": "stderr",
     "output_type": "stream",
     "text": [
      " 35%|███▌      | 7/20 [00:19<00:37,  2.87s/it]"
     ]
    },
    {
     "name": "stdout",
     "output_type": "stream",
     "text": [
      "la_016.nii.gz Dice list by number of clicks (left atrium): [0.4824, 0.6996, 0.7407, 0.7389, 0.6968]\n"
     ]
    },
    {
     "name": "stderr",
     "output_type": "stream",
     "text": [
      " 40%|████      | 8/20 [00:22<00:32,  2.70s/it]"
     ]
    },
    {
     "name": "stdout",
     "output_type": "stream",
     "text": [
      "la_029.nii.gz Dice list by number of clicks (left atrium): [0.6107, 0.6298, 0.6328, 0.5995, 0.6133]\n"
     ]
    },
    {
     "name": "stderr",
     "output_type": "stream",
     "text": [
      " 45%|████▌     | 9/20 [00:24<00:28,  2.59s/it]"
     ]
    },
    {
     "name": "stdout",
     "output_type": "stream",
     "text": [
      "la_024.nii.gz Dice list by number of clicks (left atrium): [0.5976, 0.5698, 0.5834, 0.6619, 0.5803]\n"
     ]
    },
    {
     "name": "stderr",
     "output_type": "stream",
     "text": [
      " 50%|█████     | 10/20 [00:26<00:25,  2.57s/it]"
     ]
    },
    {
     "name": "stdout",
     "output_type": "stream",
     "text": [
      "la_020.nii.gz Dice list by number of clicks (left atrium): [0.6031, 0.6422, 0.6792, 0.6565, 0.6265]\n"
     ]
    },
    {
     "name": "stderr",
     "output_type": "stream",
     "text": [
      " 55%|█████▌    | 11/20 [00:29<00:23,  2.66s/it]"
     ]
    },
    {
     "name": "stdout",
     "output_type": "stream",
     "text": [
      "la_003.nii.gz Dice list by number of clicks (left atrium): [0.6881, 0.3485, 0.5996, 0.6854, 0.7344]\n"
     ]
    },
    {
     "name": "stderr",
     "output_type": "stream",
     "text": [
      " 60%|██████    | 12/20 [00:32<00:21,  2.71s/it]"
     ]
    },
    {
     "name": "stdout",
     "output_type": "stream",
     "text": [
      "la_011.nii.gz Dice list by number of clicks (left atrium): [0.6033, 0.7252, 0.6465, 0.6903, 0.6929]\n"
     ]
    },
    {
     "name": "stderr",
     "output_type": "stream",
     "text": [
      " 65%|██████▌   | 13/20 [00:35<00:19,  2.75s/it]"
     ]
    },
    {
     "name": "stdout",
     "output_type": "stream",
     "text": [
      "la_005.nii.gz Dice list by number of clicks (left atrium): [0.649, 0.614, 0.5871, 0.6506, 0.6191]\n"
     ]
    },
    {
     "name": "stderr",
     "output_type": "stream",
     "text": [
      " 70%|███████   | 14/20 [00:37<00:15,  2.65s/it]"
     ]
    },
    {
     "name": "stdout",
     "output_type": "stream",
     "text": [
      "la_018.nii.gz Dice list by number of clicks (left atrium): [0.5991, 0.5845, 0.592, 0.6994, 0.698]\n"
     ]
    },
    {
     "name": "stderr",
     "output_type": "stream",
     "text": [
      " 75%|███████▌  | 15/20 [00:40<00:13,  2.70s/it]"
     ]
    },
    {
     "name": "stdout",
     "output_type": "stream",
     "text": [
      "la_021.nii.gz Dice list by number of clicks (left atrium): [0.6652, 0.6894, 0.6842, 0.6588, 0.5759]\n"
     ]
    },
    {
     "name": "stderr",
     "output_type": "stream",
     "text": [
      " 80%|████████  | 16/20 [00:43<00:10,  2.66s/it]"
     ]
    },
    {
     "name": "stdout",
     "output_type": "stream",
     "text": [
      "la_019.nii.gz Dice list by number of clicks (left atrium): [0.5233, 0.5531, 0.6281, 0.5912, 0.6299]\n"
     ]
    },
    {
     "name": "stderr",
     "output_type": "stream",
     "text": [
      " 85%|████████▌ | 17/20 [00:46<00:08,  2.68s/it]"
     ]
    },
    {
     "name": "stdout",
     "output_type": "stream",
     "text": [
      "la_004.nii.gz Dice list by number of clicks (left atrium): [0.3037, 0.5455, 0.4624, 0.5628, 0.528]\n"
     ]
    },
    {
     "name": "stderr",
     "output_type": "stream",
     "text": [
      " 90%|█████████ | 18/20 [00:48<00:05,  2.62s/it]"
     ]
    },
    {
     "name": "stdout",
     "output_type": "stream",
     "text": [
      "la_009.nii.gz Dice list by number of clicks (left atrium): [0.6022, 0.6232, 0.603, 0.6303, 0.6159]\n"
     ]
    },
    {
     "name": "stderr",
     "output_type": "stream",
     "text": [
      " 95%|█████████▌| 19/20 [00:50<00:02,  2.57s/it]"
     ]
    },
    {
     "name": "stdout",
     "output_type": "stream",
     "text": [
      "la_026.nii.gz Dice list by number of clicks (left atrium): [0.2047, 0.5906, 0.6005, 0.623, 0.4629]\n",
      "Save results to /home/t722s/Desktop/Sam-Med3DTest/NetworkHeartModified/eval_res_from_inference.json\n",
      "Done\n"
     ]
    },
    {
     "name": "stderr",
     "output_type": "stream",
     "text": [
      "100%|██████████| 20/20 [00:53<00:00,  2.67s/it]\n"
     ]
    },
    {
     "name": "stdout",
     "output_type": "stream",
     "text": [
      "set seed as 2020\n",
      "Cheating! Cropping around ground truth\n",
      "device: cuda\n"
     ]
    },
    {
     "name": "stderr",
     "output_type": "stream",
     "text": [
      "  0%|          | 0/20 [00:00<?, ?it/s]"
     ]
    },
    {
     "name": "stdout",
     "output_type": "stream",
     "text": [
      "la_014.nii.gz Dice list by number of clicks (left atrium): [0.68, 0.6742, 0.6578, 0.6478, 0.6566]\n"
     ]
    },
    {
     "name": "stderr",
     "output_type": "stream",
     "text": [
      "  5%|▌         | 1/20 [00:03<01:04,  3.40s/it]"
     ]
    },
    {
     "name": "stdout",
     "output_type": "stream",
     "text": [
      "la_022.nii.gz Dice list by number of clicks (left atrium): [0.72, 0.7431, 0.7573, 0.7636, 0.7728]\n"
     ]
    },
    {
     "name": "stderr",
     "output_type": "stream",
     "text": [
      " 10%|█         | 2/20 [00:06<00:56,  3.15s/it]"
     ]
    },
    {
     "name": "stdout",
     "output_type": "stream",
     "text": [
      "la_030.nii.gz Dice list by number of clicks (left atrium): [0.6091, 0.6263, 0.6152, 0.61, 0.6047]\n"
     ]
    },
    {
     "name": "stderr",
     "output_type": "stream",
     "text": [
      " 15%|█▌        | 3/20 [00:08<00:49,  2.88s/it]"
     ]
    },
    {
     "name": "stdout",
     "output_type": "stream",
     "text": [
      "la_010.nii.gz Dice list by number of clicks (left atrium): [0.5644, 0.6282, 0.6304, 0.6039, 0.6063]\n"
     ]
    },
    {
     "name": "stderr",
     "output_type": "stream",
     "text": [
      " 20%|██        | 4/20 [00:11<00:46,  2.88s/it]"
     ]
    },
    {
     "name": "stdout",
     "output_type": "stream",
     "text": [
      "la_007.nii.gz Dice list by number of clicks (left atrium): [0.5223, 0.6029, 0.65, 0.6195, 0.6118]\n"
     ]
    },
    {
     "name": "stderr",
     "output_type": "stream",
     "text": [
      " 25%|██▌       | 5/20 [00:14<00:43,  2.90s/it]"
     ]
    },
    {
     "name": "stdout",
     "output_type": "stream",
     "text": [
      "la_023.nii.gz Dice list by number of clicks (left atrium): [0.6904, 0.7608, 0.7599, 0.7587, 0.7704]\n"
     ]
    },
    {
     "name": "stderr",
     "output_type": "stream",
     "text": [
      " 30%|███       | 6/20 [00:17<00:38,  2.72s/it]"
     ]
    },
    {
     "name": "stdout",
     "output_type": "stream",
     "text": [
      "la_017.nii.gz Dice list by number of clicks (left atrium): [0.6155, 0.6621, 0.6158, 0.6144, 0.6432]\n"
     ]
    },
    {
     "name": "stderr",
     "output_type": "stream",
     "text": [
      " 35%|███▌      | 7/20 [00:19<00:34,  2.65s/it]"
     ]
    },
    {
     "name": "stdout",
     "output_type": "stream",
     "text": [
      "la_016.nii.gz Dice list by number of clicks (left atrium): [0.7045, 0.6741, 0.6775, 0.6777, 0.6731]\n"
     ]
    },
    {
     "name": "stderr",
     "output_type": "stream",
     "text": [
      " 40%|████      | 8/20 [00:22<00:30,  2.57s/it]"
     ]
    },
    {
     "name": "stdout",
     "output_type": "stream",
     "text": [
      "la_029.nii.gz Dice list by number of clicks (left atrium): [0.6126, 0.6214, 0.592, 0.6301, 0.6248]\n"
     ]
    },
    {
     "name": "stderr",
     "output_type": "stream",
     "text": [
      " 45%|████▌     | 9/20 [00:24<00:27,  2.51s/it]"
     ]
    },
    {
     "name": "stdout",
     "output_type": "stream",
     "text": [
      "la_024.nii.gz Dice list by number of clicks (left atrium): [0.4491, 0.578, 0.5999, 0.6258, 0.5697]\n"
     ]
    },
    {
     "name": "stderr",
     "output_type": "stream",
     "text": [
      " 50%|█████     | 10/20 [00:26<00:24,  2.46s/it]"
     ]
    },
    {
     "name": "stdout",
     "output_type": "stream",
     "text": [
      "la_020.nii.gz Dice list by number of clicks (left atrium): [0.6289, 0.59, 0.6033, 0.6512, 0.6344]\n"
     ]
    },
    {
     "name": "stderr",
     "output_type": "stream",
     "text": [
      " 55%|█████▌    | 11/20 [00:29<00:22,  2.44s/it]"
     ]
    },
    {
     "name": "stdout",
     "output_type": "stream",
     "text": [
      "la_003.nii.gz Dice list by number of clicks (left atrium): [0.7482, 0.7011, 0.7233, 0.5725, 0.6799]\n"
     ]
    },
    {
     "name": "stderr",
     "output_type": "stream",
     "text": [
      " 60%|██████    | 12/20 [00:31<00:19,  2.47s/it]"
     ]
    },
    {
     "name": "stdout",
     "output_type": "stream",
     "text": [
      "la_011.nii.gz Dice list by number of clicks (left atrium): [0.5828, 0.5991, 0.6028, 0.6392, 0.6456]\n"
     ]
    },
    {
     "name": "stderr",
     "output_type": "stream",
     "text": [
      " 65%|██████▌   | 13/20 [00:34<00:17,  2.53s/it]"
     ]
    },
    {
     "name": "stdout",
     "output_type": "stream",
     "text": [
      "la_005.nii.gz Dice list by number of clicks (left atrium): [0.6402, 0.6515, 0.6699, 0.6043, 0.5415]\n"
     ]
    },
    {
     "name": "stderr",
     "output_type": "stream",
     "text": [
      " 70%|███████   | 14/20 [00:36<00:15,  2.51s/it]"
     ]
    },
    {
     "name": "stdout",
     "output_type": "stream",
     "text": [
      "la_018.nii.gz Dice list by number of clicks (left atrium): [0.5643, 0.615, 0.6802, 0.6811, 0.6913]\n"
     ]
    },
    {
     "name": "stderr",
     "output_type": "stream",
     "text": [
      " 75%|███████▌  | 15/20 [00:39<00:12,  2.50s/it]"
     ]
    },
    {
     "name": "stdout",
     "output_type": "stream",
     "text": [
      "la_021.nii.gz Dice list by number of clicks (left atrium): [0.5272, 0.7178, 0.6961, 0.6747, 0.6672]\n"
     ]
    },
    {
     "name": "stderr",
     "output_type": "stream",
     "text": [
      " 80%|████████  | 16/20 [00:41<00:09,  2.46s/it]"
     ]
    },
    {
     "name": "stdout",
     "output_type": "stream",
     "text": [
      "la_019.nii.gz Dice list by number of clicks (left atrium): [0.6611, 0.6033, 0.6138, 0.6642, 0.5696]\n"
     ]
    },
    {
     "name": "stderr",
     "output_type": "stream",
     "text": [
      " 85%|████████▌ | 17/20 [00:44<00:07,  2.51s/it]"
     ]
    },
    {
     "name": "stdout",
     "output_type": "stream",
     "text": [
      "la_004.nii.gz Dice list by number of clicks (left atrium): [0.2418, 0.5292, 0.601, 0.3703, 0.5332]\n"
     ]
    },
    {
     "name": "stderr",
     "output_type": "stream",
     "text": [
      " 90%|█████████ | 18/20 [00:47<00:05,  2.59s/it]"
     ]
    },
    {
     "name": "stdout",
     "output_type": "stream",
     "text": [
      "la_009.nii.gz Dice list by number of clicks (left atrium): [0.5934, 0.6709, 0.6582, 0.6429, 0.6183]\n"
     ]
    },
    {
     "name": "stderr",
     "output_type": "stream",
     "text": [
      " 95%|█████████▌| 19/20 [00:49<00:02,  2.62s/it]"
     ]
    },
    {
     "name": "stdout",
     "output_type": "stream",
     "text": [
      "la_026.nii.gz Dice list by number of clicks (left atrium): [0.6401, 0.5675, 0.6065, 0.5476, 0.6235]\n",
      "Save results to /home/t722s/Desktop/Sam-Med3DTest/NetworkHeartModified/eval_res_from_inference.json\n",
      "Done\n"
     ]
    },
    {
     "name": "stderr",
     "output_type": "stream",
     "text": [
      "100%|██████████| 20/20 [00:52<00:00,  2.62s/it]\n"
     ]
    },
    {
     "name": "stdout",
     "output_type": "stream",
     "text": [
      "set seed as 2020\n",
      "Cheating! Cropping around ground truth\n",
      "device: cuda\n"
     ]
    },
    {
     "name": "stderr",
     "output_type": "stream",
     "text": [
      "  0%|          | 0/20 [00:00<?, ?it/s]"
     ]
    },
    {
     "name": "stdout",
     "output_type": "stream",
     "text": [
      "la_014.nii.gz Dice list by number of clicks (left atrium): [0.683, 0.6822, 0.6808, 0.7248, 0.6558]\n"
     ]
    },
    {
     "name": "stderr",
     "output_type": "stream",
     "text": [
      "  5%|▌         | 1/20 [00:02<00:51,  2.73s/it]"
     ]
    },
    {
     "name": "stdout",
     "output_type": "stream",
     "text": [
      "la_022.nii.gz Dice list by number of clicks (left atrium): [0.7335, 0.7197, 0.7485, 0.7553, 0.7636]\n"
     ]
    },
    {
     "name": "stderr",
     "output_type": "stream",
     "text": [
      " 10%|█         | 2/20 [00:05<00:48,  2.67s/it]"
     ]
    },
    {
     "name": "stdout",
     "output_type": "stream",
     "text": [
      "la_030.nii.gz Dice list by number of clicks (left atrium): [0.5842, 0.6173, 0.612, 0.6102, 0.6097]\n"
     ]
    },
    {
     "name": "stderr",
     "output_type": "stream",
     "text": [
      " 15%|█▌        | 3/20 [00:08<00:46,  2.75s/it]"
     ]
    },
    {
     "name": "stdout",
     "output_type": "stream",
     "text": [
      "la_010.nii.gz Dice list by number of clicks (left atrium): [0.6339, 0.6196, 0.6183, 0.5864, 0.5769]\n"
     ]
    },
    {
     "name": "stderr",
     "output_type": "stream",
     "text": [
      " 20%|██        | 4/20 [00:10<00:43,  2.74s/it]"
     ]
    },
    {
     "name": "stdout",
     "output_type": "stream",
     "text": [
      "la_007.nii.gz Dice list by number of clicks (left atrium): [0.4455, 0.6312, 0.6157, 0.5767, 0.5562]\n"
     ]
    },
    {
     "name": "stderr",
     "output_type": "stream",
     "text": [
      " 25%|██▌       | 5/20 [00:13<00:39,  2.66s/it]"
     ]
    },
    {
     "name": "stdout",
     "output_type": "stream",
     "text": [
      "la_023.nii.gz Dice list by number of clicks (left atrium): [0.6777, 0.7497, 0.7638, 0.7731, 0.777]\n"
     ]
    },
    {
     "name": "stderr",
     "output_type": "stream",
     "text": [
      " 30%|███       | 6/20 [00:15<00:35,  2.54s/it]"
     ]
    },
    {
     "name": "stdout",
     "output_type": "stream",
     "text": [
      "la_017.nii.gz Dice list by number of clicks (left atrium): [0.5724, 0.6248, 0.635, 0.6453, 0.645]\n"
     ]
    },
    {
     "name": "stderr",
     "output_type": "stream",
     "text": [
      " 35%|███▌      | 7/20 [00:18<00:32,  2.49s/it]"
     ]
    },
    {
     "name": "stdout",
     "output_type": "stream",
     "text": [
      "la_016.nii.gz Dice list by number of clicks (left atrium): [0.6487, 0.6379, 0.6562, 0.6568, 0.6665]\n"
     ]
    },
    {
     "name": "stderr",
     "output_type": "stream",
     "text": [
      " 40%|████      | 8/20 [00:20<00:28,  2.37s/it]"
     ]
    },
    {
     "name": "stdout",
     "output_type": "stream",
     "text": [
      "la_029.nii.gz Dice list by number of clicks (left atrium): [0.6205, 0.6461, 0.6566, 0.6612, 0.6641]\n"
     ]
    },
    {
     "name": "stderr",
     "output_type": "stream",
     "text": [
      " 45%|████▌     | 9/20 [00:23<00:27,  2.52s/it]"
     ]
    },
    {
     "name": "stdout",
     "output_type": "stream",
     "text": [
      "la_024.nii.gz Dice list by number of clicks (left atrium): [0.4142, 0.4948, 0.4179, 0.6485, 0.541]\n"
     ]
    },
    {
     "name": "stderr",
     "output_type": "stream",
     "text": [
      " 50%|█████     | 10/20 [00:26<00:27,  2.76s/it]"
     ]
    },
    {
     "name": "stdout",
     "output_type": "stream",
     "text": [
      "la_020.nii.gz Dice list by number of clicks (left atrium): [0.7112, 0.6735, 0.6157, 0.6699, 0.6805]\n"
     ]
    },
    {
     "name": "stderr",
     "output_type": "stream",
     "text": [
      " 55%|█████▌    | 11/20 [00:29<00:25,  2.85s/it]"
     ]
    },
    {
     "name": "stdout",
     "output_type": "stream",
     "text": [
      "la_003.nii.gz Dice list by number of clicks (left atrium): [0.6467, 0.6388, 0.7048, 0.5555, 0.494]\n"
     ]
    },
    {
     "name": "stderr",
     "output_type": "stream",
     "text": [
      " 60%|██████    | 12/20 [00:32<00:23,  2.91s/it]"
     ]
    },
    {
     "name": "stdout",
     "output_type": "stream",
     "text": [
      "la_011.nii.gz Dice list by number of clicks (left atrium): [0.6471, 0.677, 0.6585, 0.6708, 0.6944]\n"
     ]
    },
    {
     "name": "stderr",
     "output_type": "stream",
     "text": [
      " 65%|██████▌   | 13/20 [00:35<00:20,  2.88s/it]"
     ]
    },
    {
     "name": "stdout",
     "output_type": "stream",
     "text": [
      "la_005.nii.gz Dice list by number of clicks (left atrium): [0.2954, 0.5715, 0.6136, 0.6206, 0.6474]\n"
     ]
    },
    {
     "name": "stderr",
     "output_type": "stream",
     "text": [
      " 70%|███████   | 14/20 [00:37<00:16,  2.75s/it]"
     ]
    },
    {
     "name": "stdout",
     "output_type": "stream",
     "text": [
      "la_018.nii.gz Dice list by number of clicks (left atrium): [0.6806, 0.6238, 0.6732, 0.7008, 0.7147]\n"
     ]
    },
    {
     "name": "stderr",
     "output_type": "stream",
     "text": [
      " 75%|███████▌  | 15/20 [00:40<00:13,  2.69s/it]"
     ]
    },
    {
     "name": "stdout",
     "output_type": "stream",
     "text": [
      "la_021.nii.gz Dice list by number of clicks (left atrium): [0.6489, 0.629, 0.6279, 0.6565, 0.6576]\n"
     ]
    },
    {
     "name": "stderr",
     "output_type": "stream",
     "text": [
      " 80%|████████  | 16/20 [00:43<00:10,  2.69s/it]"
     ]
    },
    {
     "name": "stdout",
     "output_type": "stream",
     "text": [
      "la_019.nii.gz Dice list by number of clicks (left atrium): [0.4383, 0.5817, 0.3917, 0.5818, 0.5466]\n"
     ]
    },
    {
     "name": "stderr",
     "output_type": "stream",
     "text": [
      " 85%|████████▌ | 17/20 [00:45<00:07,  2.63s/it]"
     ]
    },
    {
     "name": "stdout",
     "output_type": "stream",
     "text": [
      "la_004.nii.gz Dice list by number of clicks (left atrium): [0.3684, 0.4996, 0.4885, 0.5439, 0.4998]\n"
     ]
    },
    {
     "name": "stderr",
     "output_type": "stream",
     "text": [
      " 90%|█████████ | 18/20 [00:47<00:05,  2.59s/it]"
     ]
    },
    {
     "name": "stdout",
     "output_type": "stream",
     "text": [
      "la_009.nii.gz Dice list by number of clicks (left atrium): [0.4775, 0.6047, 0.6436, 0.5968, 0.5997]\n"
     ]
    },
    {
     "name": "stderr",
     "output_type": "stream",
     "text": [
      " 95%|█████████▌| 19/20 [00:50<00:02,  2.71s/it]"
     ]
    },
    {
     "name": "stdout",
     "output_type": "stream",
     "text": [
      "la_026.nii.gz Dice list by number of clicks (left atrium): [0.211, 0.6264, 0.6145, 0.542, 0.6343]\n",
      "Save results to /home/t722s/Desktop/Sam-Med3DTest/NetworkHeartModified/eval_res_from_inference.json\n",
      "Done\n"
     ]
    },
    {
     "name": "stderr",
     "output_type": "stream",
     "text": [
      "100%|██████████| 20/20 [00:53<00:00,  2.68s/it]\n"
     ]
    },
    {
     "name": "stdout",
     "output_type": "stream",
     "text": [
      "set seed as 2020\n",
      "Cheating! Cropping around ground truth\n",
      "device: cuda\n"
     ]
    },
    {
     "name": "stderr",
     "output_type": "stream",
     "text": [
      "  0%|          | 0/20 [00:00<?, ?it/s]"
     ]
    },
    {
     "name": "stdout",
     "output_type": "stream",
     "text": [
      "la_014.nii.gz Dice list by number of clicks (left atrium): [0.6306, 0.6688, 0.659, 0.6519, 0.644]\n"
     ]
    },
    {
     "name": "stderr",
     "output_type": "stream",
     "text": [
      "  5%|▌         | 1/20 [00:02<00:56,  2.98s/it]"
     ]
    },
    {
     "name": "stdout",
     "output_type": "stream",
     "text": [
      "la_022.nii.gz Dice list by number of clicks (left atrium): [0.5483, 0.5696, 0.6387, 0.7208, 0.7449]\n"
     ]
    },
    {
     "name": "stderr",
     "output_type": "stream",
     "text": [
      " 10%|█         | 2/20 [00:05<00:48,  2.68s/it]"
     ]
    },
    {
     "name": "stdout",
     "output_type": "stream",
     "text": [
      "la_030.nii.gz Dice list by number of clicks (left atrium): [0.6537, 0.6886, 0.6863, 0.6792, 0.6696]\n"
     ]
    },
    {
     "name": "stderr",
     "output_type": "stream",
     "text": [
      " 15%|█▌        | 3/20 [00:08<00:44,  2.62s/it]"
     ]
    },
    {
     "name": "stdout",
     "output_type": "stream",
     "text": [
      "la_010.nii.gz Dice list by number of clicks (left atrium): [0.6991, 0.7295, 0.7252, 0.7215, 0.6896]\n"
     ]
    },
    {
     "name": "stderr",
     "output_type": "stream",
     "text": [
      " 20%|██        | 4/20 [00:10<00:41,  2.62s/it]"
     ]
    },
    {
     "name": "stdout",
     "output_type": "stream",
     "text": [
      "la_007.nii.gz Dice list by number of clicks (left atrium): [0.6955, 0.6788, 0.6218, 0.5613, 0.5912]\n"
     ]
    },
    {
     "name": "stderr",
     "output_type": "stream",
     "text": [
      " 25%|██▌       | 5/20 [00:13<00:38,  2.57s/it]"
     ]
    },
    {
     "name": "stdout",
     "output_type": "stream",
     "text": [
      "la_023.nii.gz Dice list by number of clicks (left atrium): [0.7684, 0.7283, 0.8153, 0.8178, 0.8199]\n"
     ]
    },
    {
     "name": "stderr",
     "output_type": "stream",
     "text": [
      " 30%|███       | 6/20 [00:16<00:37,  2.68s/it]"
     ]
    },
    {
     "name": "stdout",
     "output_type": "stream",
     "text": [
      "la_017.nii.gz Dice list by number of clicks (left atrium): [0.412, 0.6065, 0.608, 0.6259, 0.6278]\n"
     ]
    },
    {
     "name": "stderr",
     "output_type": "stream",
     "text": [
      " 35%|███▌      | 7/20 [00:18<00:33,  2.56s/it]"
     ]
    },
    {
     "name": "stdout",
     "output_type": "stream",
     "text": [
      "la_016.nii.gz Dice list by number of clicks (left atrium): [0.6084, 0.7123, 0.7455, 0.7485, 0.7507]\n"
     ]
    },
    {
     "name": "stderr",
     "output_type": "stream",
     "text": [
      " 40%|████      | 8/20 [00:20<00:29,  2.45s/it]"
     ]
    },
    {
     "name": "stdout",
     "output_type": "stream",
     "text": [
      "la_029.nii.gz Dice list by number of clicks (left atrium): [0.6217, 0.6178, 0.6495, 0.6581, 0.6584]\n"
     ]
    },
    {
     "name": "stderr",
     "output_type": "stream",
     "text": [
      " 45%|████▌     | 9/20 [00:23<00:27,  2.50s/it]"
     ]
    },
    {
     "name": "stdout",
     "output_type": "stream",
     "text": [
      "la_024.nii.gz Dice list by number of clicks (left atrium): [0.6116, 0.634, 0.5811, 0.6116, 0.5789]\n"
     ]
    },
    {
     "name": "stderr",
     "output_type": "stream",
     "text": [
      " 50%|█████     | 10/20 [00:26<00:26,  2.62s/it]"
     ]
    },
    {
     "name": "stdout",
     "output_type": "stream",
     "text": [
      "la_020.nii.gz Dice list by number of clicks (left atrium): [0.6671, 0.5267, 0.6233, 0.6095, 0.6298]\n"
     ]
    },
    {
     "name": "stderr",
     "output_type": "stream",
     "text": [
      " 55%|█████▌    | 11/20 [00:28<00:23,  2.64s/it]"
     ]
    },
    {
     "name": "stdout",
     "output_type": "stream",
     "text": [
      "la_003.nii.gz Dice list by number of clicks (left atrium): [0.6918, 0.7138, 0.7135, 0.6887, 0.7193]\n"
     ]
    },
    {
     "name": "stderr",
     "output_type": "stream",
     "text": [
      " 60%|██████    | 12/20 [00:32<00:23,  2.90s/it]"
     ]
    },
    {
     "name": "stdout",
     "output_type": "stream",
     "text": [
      "la_011.nii.gz Dice list by number of clicks (left atrium): [0.6367, 0.6411, 0.6297, 0.6426, 0.655]\n"
     ]
    },
    {
     "name": "stderr",
     "output_type": "stream",
     "text": [
      " 65%|██████▌   | 13/20 [00:35<00:20,  2.88s/it]"
     ]
    },
    {
     "name": "stdout",
     "output_type": "stream",
     "text": [
      "la_005.nii.gz Dice list by number of clicks (left atrium): [0.6524, 0.6007, 0.6535, 0.637, 0.6635]\n"
     ]
    },
    {
     "name": "stderr",
     "output_type": "stream",
     "text": [
      " 70%|███████   | 14/20 [00:37<00:16,  2.77s/it]"
     ]
    },
    {
     "name": "stdout",
     "output_type": "stream",
     "text": [
      "la_018.nii.gz Dice list by number of clicks (left atrium): [0.5986, 0.662, 0.6905, 0.6054, 0.6906]\n"
     ]
    },
    {
     "name": "stderr",
     "output_type": "stream",
     "text": [
      " 75%|███████▌  | 15/20 [00:39<00:13,  2.63s/it]"
     ]
    },
    {
     "name": "stdout",
     "output_type": "stream",
     "text": [
      "la_021.nii.gz Dice list by number of clicks (left atrium): [0.4522, 0.6268, 0.633, 0.6416, 0.652]\n"
     ]
    },
    {
     "name": "stderr",
     "output_type": "stream",
     "text": [
      " 80%|████████  | 16/20 [00:42<00:10,  2.52s/it]"
     ]
    },
    {
     "name": "stdout",
     "output_type": "stream",
     "text": [
      "la_019.nii.gz Dice list by number of clicks (left atrium): [0.6106, 0.6533, 0.6629, 0.6637, 0.6489]\n"
     ]
    },
    {
     "name": "stderr",
     "output_type": "stream",
     "text": [
      " 85%|████████▌ | 17/20 [00:44<00:07,  2.57s/it]"
     ]
    },
    {
     "name": "stdout",
     "output_type": "stream",
     "text": [
      "la_004.nii.gz Dice list by number of clicks (left atrium): [0.044, 0.4663, 0.562, 0.4665, 0.544]\n"
     ]
    },
    {
     "name": "stderr",
     "output_type": "stream",
     "text": [
      " 90%|█████████ | 18/20 [00:47<00:05,  2.66s/it]"
     ]
    },
    {
     "name": "stdout",
     "output_type": "stream",
     "text": [
      "la_009.nii.gz Dice list by number of clicks (left atrium): [0.6121, 0.3223, 0.5841, 0.6517, 0.6635]\n"
     ]
    },
    {
     "name": "stderr",
     "output_type": "stream",
     "text": [
      " 95%|█████████▌| 19/20 [00:50<00:02,  2.69s/it]"
     ]
    },
    {
     "name": "stdout",
     "output_type": "stream",
     "text": [
      "la_026.nii.gz Dice list by number of clicks (left atrium): [0.4216, 0.5759, 0.5366, 0.6424, 0.6102]\n",
      "Save results to /home/t722s/Desktop/Sam-Med3DTest/NetworkHeartModified/eval_res_from_inference.json\n",
      "Done\n"
     ]
    },
    {
     "name": "stderr",
     "output_type": "stream",
     "text": [
      "100%|██████████| 20/20 [00:52<00:00,  2.65s/it]\n"
     ]
    },
    {
     "name": "stdout",
     "output_type": "stream",
     "text": [
      "set seed as 2020\n",
      "Cheating! Cropping around ground truth\n",
      "device: cuda\n"
     ]
    },
    {
     "name": "stderr",
     "output_type": "stream",
     "text": [
      "  0%|          | 0/20 [00:00<?, ?it/s]"
     ]
    },
    {
     "name": "stdout",
     "output_type": "stream",
     "text": [
      "la_014.nii.gz Dice list by number of clicks (left atrium): [0.626, 0.6805, 0.678, 0.7288, 0.6772]\n"
     ]
    },
    {
     "name": "stderr",
     "output_type": "stream",
     "text": [
      "  5%|▌         | 1/20 [00:03<01:02,  3.30s/it]"
     ]
    },
    {
     "name": "stdout",
     "output_type": "stream",
     "text": [
      "la_022.nii.gz Dice list by number of clicks (left atrium): [0.7248, 0.7305, 0.7237, 0.7158, 0.7127]\n"
     ]
    },
    {
     "name": "stderr",
     "output_type": "stream",
     "text": [
      " 10%|█         | 2/20 [00:05<00:50,  2.80s/it]"
     ]
    },
    {
     "name": "stdout",
     "output_type": "stream",
     "text": [
      "la_030.nii.gz Dice list by number of clicks (left atrium): [0.5817, 0.6336, 0.6149, 0.6198, 0.6021]\n"
     ]
    },
    {
     "name": "stderr",
     "output_type": "stream",
     "text": [
      " 15%|█▌        | 3/20 [00:08<00:44,  2.63s/it]"
     ]
    },
    {
     "name": "stdout",
     "output_type": "stream",
     "text": [
      "la_010.nii.gz Dice list by number of clicks (left atrium): [0.5595, 0.5532, 0.5661, 0.5613, 0.5685]\n"
     ]
    },
    {
     "name": "stderr",
     "output_type": "stream",
     "text": [
      " 20%|██        | 4/20 [00:10<00:42,  2.64s/it]"
     ]
    },
    {
     "name": "stdout",
     "output_type": "stream",
     "text": [
      "la_007.nii.gz Dice list by number of clicks (left atrium): [0.6735, 0.6176, 0.5816, 0.5668, 0.544]\n"
     ]
    },
    {
     "name": "stderr",
     "output_type": "stream",
     "text": [
      " 25%|██▌       | 5/20 [00:13<00:39,  2.64s/it]"
     ]
    },
    {
     "name": "stdout",
     "output_type": "stream",
     "text": [
      "la_023.nii.gz Dice list by number of clicks (left atrium): [0.7653, 0.8038, 0.8123, 0.8195, 0.8173]\n"
     ]
    },
    {
     "name": "stderr",
     "output_type": "stream",
     "text": [
      " 30%|███       | 6/20 [00:16<00:38,  2.78s/it]"
     ]
    },
    {
     "name": "stdout",
     "output_type": "stream",
     "text": [
      "la_017.nii.gz Dice list by number of clicks (left atrium): [0.5246, 0.6718, 0.5216, 0.5544, 0.6262]\n"
     ]
    },
    {
     "name": "stderr",
     "output_type": "stream",
     "text": [
      " 35%|███▌      | 7/20 [00:19<00:34,  2.69s/it]"
     ]
    },
    {
     "name": "stdout",
     "output_type": "stream",
     "text": [
      "la_016.nii.gz Dice list by number of clicks (left atrium): [0.6053, 0.7217, 0.7204, 0.7177, 0.7052]\n"
     ]
    },
    {
     "name": "stderr",
     "output_type": "stream",
     "text": [
      " 40%|████      | 8/20 [00:21<00:29,  2.49s/it]"
     ]
    },
    {
     "name": "stdout",
     "output_type": "stream",
     "text": [
      "la_029.nii.gz Dice list by number of clicks (left atrium): [0.4245, 0.5841, 0.6086, 0.5947, 0.5795]\n"
     ]
    },
    {
     "name": "stderr",
     "output_type": "stream",
     "text": [
      " 45%|████▌     | 9/20 [00:23<00:26,  2.45s/it]"
     ]
    },
    {
     "name": "stdout",
     "output_type": "stream",
     "text": [
      "la_024.nii.gz Dice list by number of clicks (left atrium): [0.423, 0.6169, 0.4861, 0.403, 0.3298]\n"
     ]
    },
    {
     "name": "stderr",
     "output_type": "stream",
     "text": [
      " 50%|█████     | 10/20 [00:25<00:24,  2.43s/it]"
     ]
    },
    {
     "name": "stdout",
     "output_type": "stream",
     "text": [
      "la_020.nii.gz Dice list by number of clicks (left atrium): [0.6711, 0.632, 0.6461, 0.6318, 0.6226]\n"
     ]
    },
    {
     "name": "stderr",
     "output_type": "stream",
     "text": [
      " 55%|█████▌    | 11/20 [00:28<00:22,  2.47s/it]"
     ]
    },
    {
     "name": "stdout",
     "output_type": "stream",
     "text": [
      "la_003.nii.gz Dice list by number of clicks (left atrium): [0.5271, 0.5525, 0.545, 0.5838, 0.5798]\n"
     ]
    },
    {
     "name": "stderr",
     "output_type": "stream",
     "text": [
      " 60%|██████    | 12/20 [00:30<00:19,  2.50s/it]"
     ]
    },
    {
     "name": "stdout",
     "output_type": "stream",
     "text": [
      "la_011.nii.gz Dice list by number of clicks (left atrium): [0.6127, 0.5959, 0.595, 0.6313, 0.6282]\n"
     ]
    },
    {
     "name": "stderr",
     "output_type": "stream",
     "text": [
      " 65%|██████▌   | 13/20 [00:33<00:17,  2.46s/it]"
     ]
    },
    {
     "name": "stdout",
     "output_type": "stream",
     "text": [
      "la_005.nii.gz Dice list by number of clicks (left atrium): [0.3296, 0.5865, 0.5681, 0.5326, 0.633]\n"
     ]
    },
    {
     "name": "stderr",
     "output_type": "stream",
     "text": [
      " 70%|███████   | 14/20 [00:35<00:14,  2.40s/it]"
     ]
    },
    {
     "name": "stdout",
     "output_type": "stream",
     "text": [
      "la_018.nii.gz Dice list by number of clicks (left atrium): [0.5711, 0.6393, 0.6436, 0.6492, 0.6377]\n"
     ]
    },
    {
     "name": "stderr",
     "output_type": "stream",
     "text": [
      " 75%|███████▌  | 15/20 [00:38<00:12,  2.43s/it]"
     ]
    },
    {
     "name": "stdout",
     "output_type": "stream",
     "text": [
      "la_021.nii.gz Dice list by number of clicks (left atrium): [0.5804, 0.5251, 0.6552, 0.6513, 0.5875]\n"
     ]
    },
    {
     "name": "stderr",
     "output_type": "stream",
     "text": [
      " 80%|████████  | 16/20 [00:40<00:09,  2.35s/it]"
     ]
    },
    {
     "name": "stdout",
     "output_type": "stream",
     "text": [
      "la_019.nii.gz Dice list by number of clicks (left atrium): [0.474, 0.5752, 0.6315, 0.585, 0.6473]\n"
     ]
    },
    {
     "name": "stderr",
     "output_type": "stream",
     "text": [
      " 85%|████████▌ | 17/20 [00:42<00:06,  2.29s/it]"
     ]
    },
    {
     "name": "stdout",
     "output_type": "stream",
     "text": [
      "la_004.nii.gz Dice list by number of clicks (left atrium): [0.117, 0.3642, 0.3816, 0.4726, 0.5347]\n"
     ]
    },
    {
     "name": "stderr",
     "output_type": "stream",
     "text": [
      " 90%|█████████ | 18/20 [00:44<00:04,  2.29s/it]"
     ]
    },
    {
     "name": "stdout",
     "output_type": "stream",
     "text": [
      "la_009.nii.gz Dice list by number of clicks (left atrium): [0.0384, 0.5946, 0.6502, 0.665, 0.4989]\n"
     ]
    },
    {
     "name": "stderr",
     "output_type": "stream",
     "text": [
      " 95%|█████████▌| 19/20 [00:46<00:02,  2.26s/it]"
     ]
    },
    {
     "name": "stdout",
     "output_type": "stream",
     "text": [
      "la_026.nii.gz Dice list by number of clicks (left atrium): [0.5173, 0.501, 0.6105, 0.6774, 0.5991]\n",
      "Save results to /home/t722s/Desktop/Sam-Med3DTest/NetworkHeartModified/eval_res_from_inference.json\n",
      "Done\n"
     ]
    },
    {
     "name": "stderr",
     "output_type": "stream",
     "text": [
      "100%|██████████| 20/20 [00:49<00:00,  2.46s/it]\n"
     ]
    },
    {
     "name": "stdout",
     "output_type": "stream",
     "text": [
      "set seed as 2020\n",
      "Cheating! Cropping around ground truth\n",
      "device: cuda\n"
     ]
    },
    {
     "name": "stderr",
     "output_type": "stream",
     "text": [
      "  0%|          | 0/20 [00:00<?, ?it/s]"
     ]
    },
    {
     "name": "stdout",
     "output_type": "stream",
     "text": [
      "la_014.nii.gz Dice list by number of clicks (left atrium): [0.6491, 0.6609, 0.6347, 0.6251, 0.6339]\n"
     ]
    },
    {
     "name": "stderr",
     "output_type": "stream",
     "text": [
      "  5%|▌         | 1/20 [00:02<00:53,  2.81s/it]"
     ]
    },
    {
     "name": "stdout",
     "output_type": "stream",
     "text": [
      "la_022.nii.gz Dice list by number of clicks (left atrium): [0.6353, 0.7305, 0.7143, 0.7365, 0.749]\n"
     ]
    },
    {
     "name": "stderr",
     "output_type": "stream",
     "text": [
      " 10%|█         | 2/20 [00:05<00:48,  2.71s/it]"
     ]
    },
    {
     "name": "stdout",
     "output_type": "stream",
     "text": [
      "la_030.nii.gz Dice list by number of clicks (left atrium): [0.623, 0.6702, 0.6936, 0.6842, 0.6884]\n"
     ]
    },
    {
     "name": "stderr",
     "output_type": "stream",
     "text": [
      " 15%|█▌        | 3/20 [00:08<00:44,  2.64s/it]"
     ]
    },
    {
     "name": "stdout",
     "output_type": "stream",
     "text": [
      "la_010.nii.gz Dice list by number of clicks (left atrium): [0.6168, 0.62, 0.6113, 0.6157, 0.595]\n"
     ]
    },
    {
     "name": "stderr",
     "output_type": "stream",
     "text": [
      " 20%|██        | 4/20 [00:10<00:41,  2.61s/it]"
     ]
    },
    {
     "name": "stdout",
     "output_type": "stream",
     "text": [
      "la_007.nii.gz Dice list by number of clicks (left atrium): [0.5797, 0.7069, 0.4688, 0.558, 0.6166]\n"
     ]
    },
    {
     "name": "stderr",
     "output_type": "stream",
     "text": [
      " 25%|██▌       | 5/20 [00:13<00:39,  2.61s/it]"
     ]
    },
    {
     "name": "stdout",
     "output_type": "stream",
     "text": [
      "la_023.nii.gz Dice list by number of clicks (left atrium): [0.6839, 0.7302, 0.7543, 0.7532, 0.7579]\n"
     ]
    },
    {
     "name": "stderr",
     "output_type": "stream",
     "text": [
      " 30%|███       | 6/20 [00:15<00:34,  2.46s/it]"
     ]
    },
    {
     "name": "stdout",
     "output_type": "stream",
     "text": [
      "la_017.nii.gz Dice list by number of clicks (left atrium): [0.6196, 0.669, 0.652, 0.6573, 0.6557]\n"
     ]
    },
    {
     "name": "stderr",
     "output_type": "stream",
     "text": [
      " 35%|███▌      | 7/20 [00:17<00:31,  2.40s/it]"
     ]
    },
    {
     "name": "stdout",
     "output_type": "stream",
     "text": [
      "la_016.nii.gz Dice list by number of clicks (left atrium): [0.6927, 0.6781, 0.6833, 0.6784, 0.6804]\n"
     ]
    },
    {
     "name": "stderr",
     "output_type": "stream",
     "text": [
      " 40%|████      | 8/20 [00:19<00:27,  2.28s/it]"
     ]
    },
    {
     "name": "stdout",
     "output_type": "stream",
     "text": [
      "la_029.nii.gz Dice list by number of clicks (left atrium): [0.5439, 0.6111, 0.6375, 0.6482, 0.6532]\n"
     ]
    },
    {
     "name": "stderr",
     "output_type": "stream",
     "text": [
      " 45%|████▌     | 9/20 [00:21<00:24,  2.22s/it]"
     ]
    },
    {
     "name": "stdout",
     "output_type": "stream",
     "text": [
      "la_024.nii.gz Dice list by number of clicks (left atrium): [0.3548, 0.659, 0.6535, 0.6604, 0.6174]\n"
     ]
    },
    {
     "name": "stderr",
     "output_type": "stream",
     "text": [
      " 50%|█████     | 10/20 [00:23<00:22,  2.21s/it]"
     ]
    },
    {
     "name": "stdout",
     "output_type": "stream",
     "text": [
      "la_020.nii.gz Dice list by number of clicks (left atrium): [0.6574, 0.6368, 0.6146, 0.6307, 0.6341]\n"
     ]
    },
    {
     "name": "stderr",
     "output_type": "stream",
     "text": [
      " 55%|█████▌    | 11/20 [00:26<00:19,  2.17s/it]"
     ]
    },
    {
     "name": "stdout",
     "output_type": "stream",
     "text": [
      "la_003.nii.gz Dice list by number of clicks (left atrium): [0.6796, 0.5396, 0.54, 0.626, 0.666]\n"
     ]
    },
    {
     "name": "stderr",
     "output_type": "stream",
     "text": [
      " 60%|██████    | 12/20 [00:28<00:18,  2.29s/it]"
     ]
    },
    {
     "name": "stdout",
     "output_type": "stream",
     "text": [
      "la_011.nii.gz Dice list by number of clicks (left atrium): [0.4496, 0.6142, 0.6281, 0.6277, 0.6323]\n"
     ]
    },
    {
     "name": "stderr",
     "output_type": "stream",
     "text": [
      " 65%|██████▌   | 13/20 [00:31<00:16,  2.38s/it]"
     ]
    },
    {
     "name": "stdout",
     "output_type": "stream",
     "text": [
      "la_005.nii.gz Dice list by number of clicks (left atrium): [0.5571, 0.657, 0.6335, 0.617, 0.5767]\n"
     ]
    },
    {
     "name": "stderr",
     "output_type": "stream",
     "text": [
      " 70%|███████   | 14/20 [00:33<00:14,  2.45s/it]"
     ]
    },
    {
     "name": "stdout",
     "output_type": "stream",
     "text": [
      "la_018.nii.gz Dice list by number of clicks (left atrium): [0.6028, 0.6303, 0.5048, 0.6503, 0.6672]\n"
     ]
    },
    {
     "name": "stderr",
     "output_type": "stream",
     "text": [
      " 75%|███████▌  | 15/20 [00:36<00:12,  2.44s/it]"
     ]
    },
    {
     "name": "stdout",
     "output_type": "stream",
     "text": [
      "la_021.nii.gz Dice list by number of clicks (left atrium): [0.6595, 0.6444, 0.6437, 0.6446, 0.6408]\n"
     ]
    },
    {
     "name": "stderr",
     "output_type": "stream",
     "text": [
      " 80%|████████  | 16/20 [00:38<00:09,  2.40s/it]"
     ]
    },
    {
     "name": "stdout",
     "output_type": "stream",
     "text": [
      "la_019.nii.gz Dice list by number of clicks (left atrium): [0.4051, 0.6325, 0.6434, 0.6678, 0.6661]\n"
     ]
    },
    {
     "name": "stderr",
     "output_type": "stream",
     "text": [
      " 85%|████████▌ | 17/20 [00:40<00:07,  2.34s/it]"
     ]
    },
    {
     "name": "stdout",
     "output_type": "stream",
     "text": [
      "la_004.nii.gz Dice list by number of clicks (left atrium): [0.4661, 0.4195, 0.1773, 0.2924, 0.3617]\n"
     ]
    },
    {
     "name": "stderr",
     "output_type": "stream",
     "text": [
      " 90%|█████████ | 18/20 [00:42<00:04,  2.27s/it]"
     ]
    },
    {
     "name": "stdout",
     "output_type": "stream",
     "text": [
      "la_009.nii.gz Dice list by number of clicks (left atrium): [0.6372, 0.6265, 0.6363, 0.6393, 0.6085]\n"
     ]
    },
    {
     "name": "stderr",
     "output_type": "stream",
     "text": [
      " 95%|█████████▌| 19/20 [00:44<00:02,  2.24s/it]"
     ]
    },
    {
     "name": "stdout",
     "output_type": "stream",
     "text": [
      "la_026.nii.gz Dice list by number of clicks (left atrium): [0.5247, 0.6295, 0.5655, 0.655, 0.5656]\n",
      "Save results to /home/t722s/Desktop/Sam-Med3DTest/NetworkHeartModified/eval_res_from_inference.json\n",
      "Done\n"
     ]
    },
    {
     "name": "stderr",
     "output_type": "stream",
     "text": [
      "100%|██████████| 20/20 [00:47<00:00,  2.36s/it]\n"
     ]
    },
    {
     "name": "stdout",
     "output_type": "stream",
     "text": [
      "set seed as 2020\n",
      "Cheating! Cropping around ground truth\n",
      "device: cuda\n"
     ]
    },
    {
     "name": "stderr",
     "output_type": "stream",
     "text": [
      "  0%|          | 0/20 [00:00<?, ?it/s]"
     ]
    },
    {
     "name": "stdout",
     "output_type": "stream",
     "text": [
      "la_014.nii.gz Dice list by number of clicks (left atrium): [0.6411, 0.6516, 0.6664, 0.6469, 0.6471]\n"
     ]
    },
    {
     "name": "stderr",
     "output_type": "stream",
     "text": [
      "  5%|▌         | 1/20 [00:02<00:48,  2.55s/it]"
     ]
    },
    {
     "name": "stdout",
     "output_type": "stream",
     "text": [
      "la_022.nii.gz Dice list by number of clicks (left atrium): [0.6817, 0.6994, 0.7482, 0.7614, 0.7627]\n"
     ]
    },
    {
     "name": "stderr",
     "output_type": "stream",
     "text": [
      " 10%|█         | 2/20 [00:04<00:42,  2.35s/it]"
     ]
    },
    {
     "name": "stdout",
     "output_type": "stream",
     "text": [
      "la_030.nii.gz Dice list by number of clicks (left atrium): [0.5657, 0.5767, 0.5745, 0.5742, 0.5708]\n"
     ]
    },
    {
     "name": "stderr",
     "output_type": "stream",
     "text": [
      " 15%|█▌        | 3/20 [00:07<00:45,  2.67s/it]"
     ]
    },
    {
     "name": "stdout",
     "output_type": "stream",
     "text": [
      "la_010.nii.gz Dice list by number of clicks (left atrium): [0.2974, 0.6185, 0.6453, 0.6357, 0.6233]\n"
     ]
    },
    {
     "name": "stderr",
     "output_type": "stream",
     "text": [
      " 20%|██        | 4/20 [00:10<00:40,  2.54s/it]"
     ]
    },
    {
     "name": "stdout",
     "output_type": "stream",
     "text": [
      "la_007.nii.gz Dice list by number of clicks (left atrium): [0.6609, 0.6423, 0.6879, 0.6472, 0.633]\n"
     ]
    },
    {
     "name": "stderr",
     "output_type": "stream",
     "text": [
      " 25%|██▌       | 5/20 [00:12<00:36,  2.45s/it]"
     ]
    },
    {
     "name": "stdout",
     "output_type": "stream",
     "text": [
      "la_023.nii.gz Dice list by number of clicks (left atrium): [0.7448, 0.7533, 0.7576, 0.7564, 0.7569]\n"
     ]
    },
    {
     "name": "stderr",
     "output_type": "stream",
     "text": [
      " 30%|███       | 6/20 [00:14<00:32,  2.33s/it]"
     ]
    },
    {
     "name": "stdout",
     "output_type": "stream",
     "text": [
      "la_017.nii.gz Dice list by number of clicks (left atrium): [0.5912, 0.5999, 0.6094, 0.6535, 0.5856]\n"
     ]
    },
    {
     "name": "stderr",
     "output_type": "stream",
     "text": [
      " 35%|███▌      | 7/20 [00:16<00:29,  2.29s/it]"
     ]
    },
    {
     "name": "stdout",
     "output_type": "stream",
     "text": [
      "la_016.nii.gz Dice list by number of clicks (left atrium): [0.6905, 0.7377, 0.6938, 0.6786, 0.6593]\n"
     ]
    },
    {
     "name": "stderr",
     "output_type": "stream",
     "text": [
      " 40%|████      | 8/20 [00:18<00:26,  2.17s/it]"
     ]
    },
    {
     "name": "stdout",
     "output_type": "stream",
     "text": [
      "la_029.nii.gz Dice list by number of clicks (left atrium): [0.553, 0.6112, 0.5674, 0.5928, 0.601]\n"
     ]
    },
    {
     "name": "stderr",
     "output_type": "stream",
     "text": [
      " 45%|████▌     | 9/20 [00:20<00:23,  2.16s/it]"
     ]
    },
    {
     "name": "stdout",
     "output_type": "stream",
     "text": [
      "la_024.nii.gz Dice list by number of clicks (left atrium): [0.4752, 0.4388, 0.6142, 0.6142, 0.5475]\n"
     ]
    },
    {
     "name": "stderr",
     "output_type": "stream",
     "text": [
      " 50%|█████     | 10/20 [00:23<00:22,  2.23s/it]"
     ]
    },
    {
     "name": "stdout",
     "output_type": "stream",
     "text": [
      "la_020.nii.gz Dice list by number of clicks (left atrium): [0.702, 0.6033, 0.6897, 0.6596, 0.6738]\n"
     ]
    },
    {
     "name": "stderr",
     "output_type": "stream",
     "text": [
      " 55%|█████▌    | 11/20 [00:25<00:20,  2.25s/it]"
     ]
    },
    {
     "name": "stdout",
     "output_type": "stream",
     "text": [
      "la_003.nii.gz Dice list by number of clicks (left atrium): [0.5939, 0.6518, 0.7005, 0.7295, 0.7159]\n"
     ]
    },
    {
     "name": "stderr",
     "output_type": "stream",
     "text": [
      " 60%|██████    | 12/20 [00:28<00:18,  2.35s/it]"
     ]
    },
    {
     "name": "stdout",
     "output_type": "stream",
     "text": [
      "la_011.nii.gz Dice list by number of clicks (left atrium): [0.3618, 0.6509, 0.5117, 0.5004, 0.5713]\n"
     ]
    },
    {
     "name": "stderr",
     "output_type": "stream",
     "text": [
      " 65%|██████▌   | 13/20 [00:30<00:16,  2.37s/it]"
     ]
    },
    {
     "name": "stdout",
     "output_type": "stream",
     "text": [
      "la_005.nii.gz Dice list by number of clicks (left atrium): [0.6322, 0.6503, 0.6363, 0.5866, 0.6449]\n"
     ]
    },
    {
     "name": "stderr",
     "output_type": "stream",
     "text": [
      " 70%|███████   | 14/20 [00:33<00:15,  2.54s/it]"
     ]
    },
    {
     "name": "stdout",
     "output_type": "stream",
     "text": [
      "la_018.nii.gz Dice list by number of clicks (left atrium): [0.6593, 0.6428, 0.541, 0.6814, 0.687]\n"
     ]
    },
    {
     "name": "stderr",
     "output_type": "stream",
     "text": [
      " 75%|███████▌  | 15/20 [00:36<00:13,  2.64s/it]"
     ]
    },
    {
     "name": "stdout",
     "output_type": "stream",
     "text": [
      "la_021.nii.gz Dice list by number of clicks (left atrium): [0.6337, 0.6328, 0.634, 0.6386, 0.6966]\n"
     ]
    },
    {
     "name": "stderr",
     "output_type": "stream",
     "text": [
      " 80%|████████  | 16/20 [00:38<00:10,  2.60s/it]"
     ]
    },
    {
     "name": "stdout",
     "output_type": "stream",
     "text": [
      "la_019.nii.gz Dice list by number of clicks (left atrium): [0.5293, 0.5789, 0.6319, 0.6626, 0.579]\n"
     ]
    },
    {
     "name": "stderr",
     "output_type": "stream",
     "text": [
      " 85%|████████▌ | 17/20 [00:41<00:07,  2.56s/it]"
     ]
    },
    {
     "name": "stdout",
     "output_type": "stream",
     "text": [
      "la_004.nii.gz Dice list by number of clicks (left atrium): [0.5893, 0.4458, 0.4883, 0.5161, 0.5718]\n"
     ]
    },
    {
     "name": "stderr",
     "output_type": "stream",
     "text": [
      " 90%|█████████ | 18/20 [00:44<00:05,  2.68s/it]"
     ]
    },
    {
     "name": "stdout",
     "output_type": "stream",
     "text": [
      "la_009.nii.gz Dice list by number of clicks (left atrium): [0.6638, 0.6455, 0.589, 0.5996, 0.5134]\n"
     ]
    },
    {
     "name": "stderr",
     "output_type": "stream",
     "text": [
      " 95%|█████████▌| 19/20 [00:47<00:02,  2.72s/it]"
     ]
    },
    {
     "name": "stdout",
     "output_type": "stream",
     "text": [
      "la_026.nii.gz Dice list by number of clicks (left atrium): [0.4706, 0.5516, 0.654, 0.6828, 0.5972]\n",
      "Save results to /home/t722s/Desktop/Sam-Med3DTest/NetworkHeartModified/eval_res_from_inference.json\n",
      "Done\n"
     ]
    },
    {
     "name": "stderr",
     "output_type": "stream",
     "text": [
      "100%|██████████| 20/20 [00:49<00:00,  2.49s/it]\n"
     ]
    },
    {
     "name": "stdout",
     "output_type": "stream",
     "text": [
      "set seed as 2020\n",
      "Cheating! Cropping around ground truth\n",
      "device: cuda\n"
     ]
    },
    {
     "name": "stderr",
     "output_type": "stream",
     "text": [
      "  0%|          | 0/20 [00:00<?, ?it/s]"
     ]
    },
    {
     "name": "stdout",
     "output_type": "stream",
     "text": [
      "la_014.nii.gz Dice list by number of clicks (left atrium): [0.6687, 0.6418, 0.6264, 0.6239, 0.6306]\n"
     ]
    },
    {
     "name": "stderr",
     "output_type": "stream",
     "text": [
      "  5%|▌         | 1/20 [00:02<00:54,  2.87s/it]"
     ]
    },
    {
     "name": "stdout",
     "output_type": "stream",
     "text": [
      "la_022.nii.gz Dice list by number of clicks (left atrium): [0.6602, 0.6963, 0.6652, 0.6655, 0.6967]\n"
     ]
    },
    {
     "name": "stderr",
     "output_type": "stream",
     "text": [
      " 10%|█         | 2/20 [00:05<00:46,  2.56s/it]"
     ]
    },
    {
     "name": "stdout",
     "output_type": "stream",
     "text": [
      "la_030.nii.gz Dice list by number of clicks (left atrium): [0.6055, 0.6097, 0.5905, 0.6086, 0.6104]\n"
     ]
    },
    {
     "name": "stderr",
     "output_type": "stream",
     "text": [
      " 15%|█▌        | 3/20 [00:08<00:45,  2.67s/it]"
     ]
    },
    {
     "name": "stdout",
     "output_type": "stream",
     "text": [
      "la_010.nii.gz Dice list by number of clicks (left atrium): [0.5951, 0.5822, 0.5795, 0.5758, 0.5883]\n"
     ]
    },
    {
     "name": "stderr",
     "output_type": "stream",
     "text": [
      " 20%|██        | 4/20 [00:10<00:44,  2.79s/it]"
     ]
    },
    {
     "name": "stdout",
     "output_type": "stream",
     "text": [
      "la_007.nii.gz Dice list by number of clicks (left atrium): [0.487, 0.6389, 0.5647, 0.5535, 0.5444]\n"
     ]
    },
    {
     "name": "stderr",
     "output_type": "stream",
     "text": [
      " 25%|██▌       | 5/20 [00:14<00:45,  3.00s/it]"
     ]
    },
    {
     "name": "stdout",
     "output_type": "stream",
     "text": [
      "la_023.nii.gz Dice list by number of clicks (left atrium): [0.7087, 0.8169, 0.8187, 0.8203, 0.8208]\n"
     ]
    },
    {
     "name": "stderr",
     "output_type": "stream",
     "text": [
      " 30%|███       | 6/20 [00:16<00:38,  2.72s/it]"
     ]
    },
    {
     "name": "stdout",
     "output_type": "stream",
     "text": [
      "la_017.nii.gz Dice list by number of clicks (left atrium): [0.586, 0.6028, 0.6373, 0.641, 0.6542]\n"
     ]
    },
    {
     "name": "stderr",
     "output_type": "stream",
     "text": [
      " 35%|███▌      | 7/20 [00:19<00:34,  2.66s/it]"
     ]
    },
    {
     "name": "stdout",
     "output_type": "stream",
     "text": [
      "la_016.nii.gz Dice list by number of clicks (left atrium): [0.5776, 0.7434, 0.6945, 0.7646, 0.7509]\n"
     ]
    },
    {
     "name": "stderr",
     "output_type": "stream",
     "text": [
      " 40%|████      | 8/20 [00:21<00:31,  2.59s/it]"
     ]
    },
    {
     "name": "stdout",
     "output_type": "stream",
     "text": [
      "la_029.nii.gz Dice list by number of clicks (left atrium): [0.5472, 0.6154, 0.6076, 0.5669, 0.5831]\n"
     ]
    },
    {
     "name": "stderr",
     "output_type": "stream",
     "text": [
      " 45%|████▌     | 9/20 [00:23<00:27,  2.48s/it]"
     ]
    },
    {
     "name": "stdout",
     "output_type": "stream",
     "text": [
      "la_024.nii.gz Dice list by number of clicks (left atrium): [0.3873, 0.6446, 0.5649, 0.5647, 0.6243]\n"
     ]
    },
    {
     "name": "stderr",
     "output_type": "stream",
     "text": [
      " 50%|█████     | 10/20 [00:26<00:24,  2.48s/it]"
     ]
    },
    {
     "name": "stdout",
     "output_type": "stream",
     "text": [
      "la_020.nii.gz Dice list by number of clicks (left atrium): [0.6731, 0.5568, 0.6155, 0.6104, 0.6428]\n"
     ]
    },
    {
     "name": "stderr",
     "output_type": "stream",
     "text": [
      " 55%|█████▌    | 11/20 [00:28<00:22,  2.54s/it]"
     ]
    },
    {
     "name": "stdout",
     "output_type": "stream",
     "text": [
      "la_003.nii.gz Dice list by number of clicks (left atrium): [0.6258, 0.7924, 0.7468, 0.7526, 0.7197]\n"
     ]
    },
    {
     "name": "stderr",
     "output_type": "stream",
     "text": [
      " 60%|██████    | 12/20 [00:31<00:20,  2.60s/it]"
     ]
    },
    {
     "name": "stdout",
     "output_type": "stream",
     "text": [
      "la_011.nii.gz Dice list by number of clicks (left atrium): [0.5476, 0.6648, 0.6451, 0.6468, 0.6473]\n"
     ]
    },
    {
     "name": "stderr",
     "output_type": "stream",
     "text": [
      " 65%|██████▌   | 13/20 [00:34<00:18,  2.59s/it]"
     ]
    },
    {
     "name": "stdout",
     "output_type": "stream",
     "text": [
      "la_005.nii.gz Dice list by number of clicks (left atrium): [0.5852, 0.6449, 0.6762, 0.6267, 0.6162]\n"
     ]
    },
    {
     "name": "stderr",
     "output_type": "stream",
     "text": [
      " 70%|███████   | 14/20 [00:36<00:15,  2.52s/it]"
     ]
    },
    {
     "name": "stdout",
     "output_type": "stream",
     "text": [
      "la_018.nii.gz Dice list by number of clicks (left atrium): [0.674, 0.6619, 0.6604, 0.6885, 0.6928]\n"
     ]
    },
    {
     "name": "stderr",
     "output_type": "stream",
     "text": [
      " 75%|███████▌  | 15/20 [00:39<00:12,  2.55s/it]"
     ]
    },
    {
     "name": "stdout",
     "output_type": "stream",
     "text": [
      "la_021.nii.gz Dice list by number of clicks (left atrium): [0.5845, 0.7041, 0.5689, 0.4764, 0.6142]\n"
     ]
    },
    {
     "name": "stderr",
     "output_type": "stream",
     "text": [
      " 80%|████████  | 16/20 [00:41<00:10,  2.54s/it]"
     ]
    },
    {
     "name": "stdout",
     "output_type": "stream",
     "text": [
      "la_019.nii.gz Dice list by number of clicks (left atrium): [0.6607, 0.4565, 0.6001, 0.6519, 0.6338]\n"
     ]
    },
    {
     "name": "stderr",
     "output_type": "stream",
     "text": [
      " 85%|████████▌ | 17/20 [00:43<00:07,  2.46s/it]"
     ]
    },
    {
     "name": "stdout",
     "output_type": "stream",
     "text": [
      "la_004.nii.gz Dice list by number of clicks (left atrium): [0.2057, 0.2281, 0.4168, 0.3026, 0.462]\n"
     ]
    },
    {
     "name": "stderr",
     "output_type": "stream",
     "text": [
      " 90%|█████████ | 18/20 [00:46<00:04,  2.43s/it]"
     ]
    },
    {
     "name": "stdout",
     "output_type": "stream",
     "text": [
      "la_009.nii.gz Dice list by number of clicks (left atrium): [0.4744, 0.3016, 0.5578, 0.6043, 0.5869]\n"
     ]
    },
    {
     "name": "stderr",
     "output_type": "stream",
     "text": [
      " 95%|█████████▌| 19/20 [00:48<00:02,  2.39s/it]"
     ]
    },
    {
     "name": "stdout",
     "output_type": "stream",
     "text": [
      "la_026.nii.gz Dice list by number of clicks (left atrium): [0.4283, 0.6134, 0.6303, 0.6862, 0.6487]\n",
      "Save results to /home/t722s/Desktop/Sam-Med3DTest/NetworkHeartModified/eval_res_from_inference.json\n",
      "Done\n"
     ]
    },
    {
     "name": "stderr",
     "output_type": "stream",
     "text": [
      "100%|██████████| 20/20 [00:51<00:00,  2.56s/it]\n"
     ]
    },
    {
     "name": "stdout",
     "output_type": "stream",
     "text": [
      "set seed as 2020\n",
      "Cheating! Cropping around ground truth\n",
      "device: cuda\n"
     ]
    },
    {
     "name": "stderr",
     "output_type": "stream",
     "text": [
      "  0%|          | 0/20 [00:00<?, ?it/s]"
     ]
    },
    {
     "name": "stdout",
     "output_type": "stream",
     "text": [
      "la_014.nii.gz Dice list by number of clicks (left atrium): [0.3532, 0.6216, 0.6375, 0.6681, 0.6861]\n"
     ]
    },
    {
     "name": "stderr",
     "output_type": "stream",
     "text": [
      "  5%|▌         | 1/20 [00:03<01:01,  3.24s/it]"
     ]
    },
    {
     "name": "stdout",
     "output_type": "stream",
     "text": [
      "la_022.nii.gz Dice list by number of clicks (left atrium): [0.69, 0.711, 0.747, 0.7572, 0.7679]\n"
     ]
    },
    {
     "name": "stderr",
     "output_type": "stream",
     "text": [
      " 10%|█         | 2/20 [00:05<00:51,  2.88s/it]"
     ]
    },
    {
     "name": "stdout",
     "output_type": "stream",
     "text": [
      "la_030.nii.gz Dice list by number of clicks (left atrium): [0.6896, 0.6523, 0.6354, 0.6215, 0.6124]\n"
     ]
    },
    {
     "name": "stderr",
     "output_type": "stream",
     "text": [
      " 15%|█▌        | 3/20 [00:08<00:45,  2.69s/it]"
     ]
    },
    {
     "name": "stdout",
     "output_type": "stream",
     "text": [
      "la_010.nii.gz Dice list by number of clicks (left atrium): [0.6115, 0.6792, 0.7049, 0.7149, 0.7128]\n"
     ]
    },
    {
     "name": "stderr",
     "output_type": "stream",
     "text": [
      " 20%|██        | 4/20 [00:10<00:41,  2.59s/it]"
     ]
    },
    {
     "name": "stdout",
     "output_type": "stream",
     "text": [
      "la_007.nii.gz Dice list by number of clicks (left atrium): [0.4429, 0.6779, 0.644, 0.6261, 0.5594]\n"
     ]
    },
    {
     "name": "stderr",
     "output_type": "stream",
     "text": [
      " 25%|██▌       | 5/20 [00:13<00:38,  2.59s/it]"
     ]
    },
    {
     "name": "stdout",
     "output_type": "stream",
     "text": [
      "la_023.nii.gz Dice list by number of clicks (left atrium): [0.687, 0.81, 0.8179, 0.8196, 0.8201]\n"
     ]
    },
    {
     "name": "stderr",
     "output_type": "stream",
     "text": [
      " 30%|███       | 6/20 [00:15<00:35,  2.54s/it]"
     ]
    },
    {
     "name": "stdout",
     "output_type": "stream",
     "text": [
      "la_017.nii.gz Dice list by number of clicks (left atrium): [0.6274, 0.6571, 0.6893, 0.6485, 0.631]\n"
     ]
    },
    {
     "name": "stderr",
     "output_type": "stream",
     "text": [
      " 35%|███▌      | 7/20 [00:18<00:34,  2.62s/it]"
     ]
    },
    {
     "name": "stdout",
     "output_type": "stream",
     "text": [
      "la_016.nii.gz Dice list by number of clicks (left atrium): [0.6547, 0.6499, 0.6463, 0.6423, 0.654]\n"
     ]
    },
    {
     "name": "stderr",
     "output_type": "stream",
     "text": [
      " 40%|████      | 8/20 [00:20<00:30,  2.52s/it]"
     ]
    },
    {
     "name": "stdout",
     "output_type": "stream",
     "text": [
      "la_029.nii.gz Dice list by number of clicks (left atrium): [0.6407, 0.6339, 0.5757, 0.601, 0.5822]\n"
     ]
    },
    {
     "name": "stderr",
     "output_type": "stream",
     "text": [
      " 45%|████▌     | 9/20 [00:23<00:27,  2.54s/it]"
     ]
    },
    {
     "name": "stdout",
     "output_type": "stream",
     "text": [
      "la_024.nii.gz Dice list by number of clicks (left atrium): [0.5565, 0.5517, 0.539, 0.5496, 0.5526]\n"
     ]
    },
    {
     "name": "stderr",
     "output_type": "stream",
     "text": [
      " 50%|█████     | 10/20 [00:26<00:26,  2.67s/it]"
     ]
    },
    {
     "name": "stdout",
     "output_type": "stream",
     "text": [
      "la_020.nii.gz Dice list by number of clicks (left atrium): [0.6568, 0.6043, 0.6595, 0.6269, 0.6575]\n"
     ]
    },
    {
     "name": "stderr",
     "output_type": "stream",
     "text": [
      " 55%|█████▌    | 11/20 [00:29<00:24,  2.75s/it]"
     ]
    },
    {
     "name": "stdout",
     "output_type": "stream",
     "text": [
      "la_003.nii.gz Dice list by number of clicks (left atrium): [0.5447, 0.6797, 0.6876, 0.677, 0.611]\n"
     ]
    },
    {
     "name": "stderr",
     "output_type": "stream",
     "text": [
      " 60%|██████    | 12/20 [00:32<00:22,  2.80s/it]"
     ]
    },
    {
     "name": "stdout",
     "output_type": "stream",
     "text": [
      "la_011.nii.gz Dice list by number of clicks (left atrium): [0.5577, 0.6983, 0.6875, 0.6711, 0.6655]\n"
     ]
    },
    {
     "name": "stderr",
     "output_type": "stream",
     "text": [
      " 65%|██████▌   | 13/20 [00:35<00:19,  2.79s/it]"
     ]
    },
    {
     "name": "stdout",
     "output_type": "stream",
     "text": [
      "la_005.nii.gz Dice list by number of clicks (left atrium): [0.3946, 0.4972, 0.4659, 0.5912, 0.6715]\n"
     ]
    },
    {
     "name": "stderr",
     "output_type": "stream",
     "text": [
      " 70%|███████   | 14/20 [00:37<00:16,  2.69s/it]"
     ]
    },
    {
     "name": "stdout",
     "output_type": "stream",
     "text": [
      "la_018.nii.gz Dice list by number of clicks (left atrium): [0.6517, 0.5006, 0.6065, 0.6253, 0.6553]\n"
     ]
    },
    {
     "name": "stderr",
     "output_type": "stream",
     "text": [
      " 75%|███████▌  | 15/20 [00:39<00:12,  2.59s/it]"
     ]
    },
    {
     "name": "stdout",
     "output_type": "stream",
     "text": [
      "la_021.nii.gz Dice list by number of clicks (left atrium): [0.6381, 0.695, 0.6486, 0.7011, 0.6954]\n"
     ]
    },
    {
     "name": "stderr",
     "output_type": "stream",
     "text": [
      " 80%|████████  | 16/20 [00:42<00:10,  2.60s/it]"
     ]
    },
    {
     "name": "stdout",
     "output_type": "stream",
     "text": [
      "la_019.nii.gz Dice list by number of clicks (left atrium): [0.663, 0.6343, 0.6335, 0.6422, 0.6466]\n"
     ]
    },
    {
     "name": "stderr",
     "output_type": "stream",
     "text": [
      " 85%|████████▌ | 17/20 [00:45<00:07,  2.64s/it]"
     ]
    },
    {
     "name": "stdout",
     "output_type": "stream",
     "text": [
      "la_004.nii.gz Dice list by number of clicks (left atrium): [0.6179, 0.6427, 0.5686, 0.2472, 0.4797]\n"
     ]
    },
    {
     "name": "stderr",
     "output_type": "stream",
     "text": [
      " 90%|█████████ | 18/20 [00:47<00:05,  2.58s/it]"
     ]
    },
    {
     "name": "stdout",
     "output_type": "stream",
     "text": [
      "la_009.nii.gz Dice list by number of clicks (left atrium): [0.0597, 0.5502, 0.6581, 0.6561, 0.625]\n"
     ]
    },
    {
     "name": "stderr",
     "output_type": "stream",
     "text": [
      " 95%|█████████▌| 19/20 [00:50<00:02,  2.53s/it]"
     ]
    },
    {
     "name": "stdout",
     "output_type": "stream",
     "text": [
      "la_026.nii.gz Dice list by number of clicks (left atrium): [0.4753, 0.6529, 0.5067, 0.661, 0.585]\n",
      "Save results to /home/t722s/Desktop/Sam-Med3DTest/NetworkHeartModified/eval_res_from_inference.json\n",
      "Done\n"
     ]
    },
    {
     "name": "stderr",
     "output_type": "stream",
     "text": [
      "100%|██████████| 20/20 [00:52<00:00,  2.64s/it]\n"
     ]
    },
    {
     "name": "stdout",
     "output_type": "stream",
     "text": [
      "set seed as 2020\n",
      "Cheating! Cropping around ground truth\n",
      "device: cuda\n"
     ]
    },
    {
     "name": "stderr",
     "output_type": "stream",
     "text": [
      "  0%|          | 0/20 [00:00<?, ?it/s]"
     ]
    },
    {
     "name": "stdout",
     "output_type": "stream",
     "text": [
      "la_014.nii.gz Dice list by number of clicks (left atrium): [0.6932, 0.6962, 0.6908, 0.6865, 0.7116]\n"
     ]
    },
    {
     "name": "stderr",
     "output_type": "stream",
     "text": [
      "  5%|▌         | 1/20 [00:02<00:52,  2.74s/it]"
     ]
    },
    {
     "name": "stdout",
     "output_type": "stream",
     "text": [
      "la_022.nii.gz Dice list by number of clicks (left atrium): [0.6318, 0.7493, 0.7461, 0.7434, 0.7492]\n"
     ]
    },
    {
     "name": "stderr",
     "output_type": "stream",
     "text": [
      " 10%|█         | 2/20 [00:05<00:48,  2.70s/it]"
     ]
    },
    {
     "name": "stdout",
     "output_type": "stream",
     "text": [
      "la_030.nii.gz Dice list by number of clicks (left atrium): [0.6117, 0.5745, 0.6212, 0.6016, 0.6275]\n"
     ]
    },
    {
     "name": "stderr",
     "output_type": "stream",
     "text": [
      " 15%|█▌        | 3/20 [00:08<00:46,  2.76s/it]"
     ]
    },
    {
     "name": "stdout",
     "output_type": "stream",
     "text": [
      "la_010.nii.gz Dice list by number of clicks (left atrium): [0.6771, 0.71, 0.7085, 0.7004, 0.6926]\n"
     ]
    },
    {
     "name": "stderr",
     "output_type": "stream",
     "text": [
      " 20%|██        | 4/20 [00:10<00:43,  2.72s/it]"
     ]
    },
    {
     "name": "stdout",
     "output_type": "stream",
     "text": [
      "la_007.nii.gz Dice list by number of clicks (left atrium): [0.509, 0.6901, 0.5602, 0.6814, 0.6584]\n"
     ]
    },
    {
     "name": "stderr",
     "output_type": "stream",
     "text": [
      " 25%|██▌       | 5/20 [00:13<00:41,  2.74s/it]"
     ]
    },
    {
     "name": "stdout",
     "output_type": "stream",
     "text": [
      "la_023.nii.gz Dice list by number of clicks (left atrium): [0.7378, 0.7421, 0.7605, 0.7587, 0.7651]\n"
     ]
    },
    {
     "name": "stderr",
     "output_type": "stream",
     "text": [
      " 30%|███       | 6/20 [00:16<00:37,  2.69s/it]"
     ]
    },
    {
     "name": "stdout",
     "output_type": "stream",
     "text": [
      "la_017.nii.gz Dice list by number of clicks (left atrium): [0.628, 0.6214, 0.6114, 0.6252, 0.6365]\n"
     ]
    },
    {
     "name": "stderr",
     "output_type": "stream",
     "text": [
      " 35%|███▌      | 7/20 [00:19<00:35,  2.73s/it]"
     ]
    },
    {
     "name": "stdout",
     "output_type": "stream",
     "text": [
      "la_016.nii.gz Dice list by number of clicks (left atrium): [0.7003, 0.6602, 0.699, 0.6774, 0.6679]\n"
     ]
    },
    {
     "name": "stderr",
     "output_type": "stream",
     "text": [
      " 40%|████      | 8/20 [00:21<00:31,  2.63s/it]"
     ]
    },
    {
     "name": "stdout",
     "output_type": "stream",
     "text": [
      "la_029.nii.gz Dice list by number of clicks (left atrium): [0.5811, 0.6109, 0.6264, 0.6201, 0.5806]\n"
     ]
    },
    {
     "name": "stderr",
     "output_type": "stream",
     "text": [
      " 45%|████▌     | 9/20 [00:24<00:29,  2.66s/it]"
     ]
    },
    {
     "name": "stdout",
     "output_type": "stream",
     "text": [
      "la_024.nii.gz Dice list by number of clicks (left atrium): [0.4475, 0.6307, 0.6664, 0.6693, 0.6315]\n"
     ]
    },
    {
     "name": "stderr",
     "output_type": "stream",
     "text": [
      " 50%|█████     | 10/20 [00:26<00:25,  2.57s/it]"
     ]
    },
    {
     "name": "stdout",
     "output_type": "stream",
     "text": [
      "la_020.nii.gz Dice list by number of clicks (left atrium): [0.703, 0.5782, 0.5712, 0.5544, 0.5644]\n"
     ]
    },
    {
     "name": "stderr",
     "output_type": "stream",
     "text": [
      " 55%|█████▌    | 11/20 [00:28<00:22,  2.45s/it]"
     ]
    },
    {
     "name": "stdout",
     "output_type": "stream",
     "text": [
      "la_003.nii.gz Dice list by number of clicks (left atrium): [0.7041, 0.7342, 0.7218, 0.6652, 0.6878]\n"
     ]
    },
    {
     "name": "stderr",
     "output_type": "stream",
     "text": [
      " 60%|██████    | 12/20 [00:31<00:19,  2.47s/it]"
     ]
    },
    {
     "name": "stdout",
     "output_type": "stream",
     "text": [
      "la_011.nii.gz Dice list by number of clicks (left atrium): [0.3845, 0.6748, 0.6376, 0.6786, 0.6855]\n"
     ]
    },
    {
     "name": "stderr",
     "output_type": "stream",
     "text": [
      " 65%|██████▌   | 13/20 [00:34<00:18,  2.60s/it]"
     ]
    },
    {
     "name": "stdout",
     "output_type": "stream",
     "text": [
      "la_005.nii.gz Dice list by number of clicks (left atrium): [0.415, 0.6283, 0.6306, 0.5919, 0.6577]\n"
     ]
    },
    {
     "name": "stderr",
     "output_type": "stream",
     "text": [
      " 70%|███████   | 14/20 [00:36<00:15,  2.58s/it]"
     ]
    },
    {
     "name": "stdout",
     "output_type": "stream",
     "text": [
      "la_018.nii.gz Dice list by number of clicks (left atrium): [0.652, 0.6325, 0.6073, 0.6089, 0.6273]\n"
     ]
    },
    {
     "name": "stderr",
     "output_type": "stream",
     "text": [
      " 75%|███████▌  | 15/20 [00:39<00:12,  2.56s/it]"
     ]
    },
    {
     "name": "stdout",
     "output_type": "stream",
     "text": [
      "la_021.nii.gz Dice list by number of clicks (left atrium): [0.6567, 0.6485, 0.6427, 0.6449, 0.653]\n"
     ]
    },
    {
     "name": "stderr",
     "output_type": "stream",
     "text": [
      " 80%|████████  | 16/20 [00:41<00:09,  2.49s/it]"
     ]
    },
    {
     "name": "stdout",
     "output_type": "stream",
     "text": [
      "la_019.nii.gz Dice list by number of clicks (left atrium): [0.611, 0.6409, 0.6605, 0.541, 0.6076]\n"
     ]
    },
    {
     "name": "stderr",
     "output_type": "stream",
     "text": [
      " 85%|████████▌ | 17/20 [00:43<00:07,  2.44s/it]"
     ]
    },
    {
     "name": "stdout",
     "output_type": "stream",
     "text": [
      "la_004.nii.gz Dice list by number of clicks (left atrium): [0.3728, 0.6063, 0.6285, 0.3573, 0.495]\n"
     ]
    },
    {
     "name": "stderr",
     "output_type": "stream",
     "text": [
      " 90%|█████████ | 18/20 [00:46<00:04,  2.42s/it]"
     ]
    },
    {
     "name": "stdout",
     "output_type": "stream",
     "text": [
      "la_009.nii.gz Dice list by number of clicks (left atrium): [0.4711, 0.5696, 0.5901, 0.577, 0.5912]\n"
     ]
    },
    {
     "name": "stderr",
     "output_type": "stream",
     "text": [
      " 95%|█████████▌| 19/20 [00:48<00:02,  2.46s/it]"
     ]
    },
    {
     "name": "stdout",
     "output_type": "stream",
     "text": [
      "la_026.nii.gz Dice list by number of clicks (left atrium): [0.5397, 0.564, 0.6423, 0.6662, 0.6165]\n",
      "Save results to /home/t722s/Desktop/Sam-Med3DTest/NetworkHeartModified/eval_res_from_inference.json\n",
      "Done\n"
     ]
    },
    {
     "name": "stderr",
     "output_type": "stream",
     "text": [
      "100%|██████████| 20/20 [00:51<00:00,  2.58s/it]\n"
     ]
    },
    {
     "name": "stdout",
     "output_type": "stream",
     "text": [
      "set seed as 2020\n",
      "Cheating! Cropping around ground truth\n",
      "device: cuda\n"
     ]
    },
    {
     "name": "stderr",
     "output_type": "stream",
     "text": [
      "  0%|          | 0/20 [00:00<?, ?it/s]"
     ]
    },
    {
     "name": "stdout",
     "output_type": "stream",
     "text": [
      "la_014.nii.gz Dice list by number of clicks (left atrium): [0.6306, 0.6455, 0.6402, 0.6617, 0.6892]\n"
     ]
    },
    {
     "name": "stderr",
     "output_type": "stream",
     "text": [
      "  5%|▌         | 1/20 [00:02<00:53,  2.82s/it]"
     ]
    },
    {
     "name": "stdout",
     "output_type": "stream",
     "text": [
      "la_022.nii.gz Dice list by number of clicks (left atrium): [0.7578, 0.7465, 0.7561, 0.7402, 0.75]\n"
     ]
    },
    {
     "name": "stderr",
     "output_type": "stream",
     "text": [
      " 10%|█         | 2/20 [00:05<00:46,  2.57s/it]"
     ]
    },
    {
     "name": "stdout",
     "output_type": "stream",
     "text": [
      "la_030.nii.gz Dice list by number of clicks (left atrium): [0.5601, 0.7045, 0.5768, 0.6075, 0.6159]\n"
     ]
    },
    {
     "name": "stderr",
     "output_type": "stream",
     "text": [
      " 15%|█▌        | 3/20 [00:07<00:42,  2.53s/it]"
     ]
    },
    {
     "name": "stdout",
     "output_type": "stream",
     "text": [
      "la_010.nii.gz Dice list by number of clicks (left atrium): [0.5746, 0.581, 0.6152, 0.6064, 0.5844]\n"
     ]
    },
    {
     "name": "stderr",
     "output_type": "stream",
     "text": [
      " 20%|██        | 4/20 [00:10<00:44,  2.78s/it]"
     ]
    },
    {
     "name": "stdout",
     "output_type": "stream",
     "text": [
      "la_007.nii.gz Dice list by number of clicks (left atrium): [0.5006, 0.57, 0.5781, 0.5493, 0.5593]\n"
     ]
    },
    {
     "name": "stderr",
     "output_type": "stream",
     "text": [
      " 25%|██▌       | 5/20 [00:13<00:40,  2.73s/it]"
     ]
    },
    {
     "name": "stdout",
     "output_type": "stream",
     "text": [
      "la_023.nii.gz Dice list by number of clicks (left atrium): [0.5275, 0.6789, 0.7524, 0.7361, 0.7209]\n"
     ]
    },
    {
     "name": "stderr",
     "output_type": "stream",
     "text": [
      " 30%|███       | 6/20 [00:16<00:38,  2.72s/it]"
     ]
    },
    {
     "name": "stdout",
     "output_type": "stream",
     "text": [
      "la_017.nii.gz Dice list by number of clicks (left atrium): [0.6426, 0.5901, 0.6087, 0.6269, 0.6371]\n"
     ]
    },
    {
     "name": "stderr",
     "output_type": "stream",
     "text": [
      " 35%|███▌      | 7/20 [00:18<00:34,  2.68s/it]"
     ]
    },
    {
     "name": "stdout",
     "output_type": "stream",
     "text": [
      "la_016.nii.gz Dice list by number of clicks (left atrium): [0.7003, 0.6734, 0.6727, 0.6619, 0.6536]\n"
     ]
    },
    {
     "name": "stderr",
     "output_type": "stream",
     "text": [
      " 40%|████      | 8/20 [00:21<00:31,  2.61s/it]"
     ]
    },
    {
     "name": "stdout",
     "output_type": "stream",
     "text": [
      "la_029.nii.gz Dice list by number of clicks (left atrium): [0.6243, 0.6114, 0.6266, 0.612, 0.6271]\n"
     ]
    },
    {
     "name": "stderr",
     "output_type": "stream",
     "text": [
      " 45%|████▌     | 9/20 [00:23<00:28,  2.55s/it]"
     ]
    },
    {
     "name": "stdout",
     "output_type": "stream",
     "text": [
      "la_024.nii.gz Dice list by number of clicks (left atrium): [0.5629, 0.667, 0.6545, 0.538, 0.6559]\n"
     ]
    },
    {
     "name": "stderr",
     "output_type": "stream",
     "text": [
      " 50%|█████     | 10/20 [00:26<00:26,  2.60s/it]"
     ]
    },
    {
     "name": "stdout",
     "output_type": "stream",
     "text": [
      "la_020.nii.gz Dice list by number of clicks (left atrium): [0.7255, 0.6825, 0.6816, 0.6826, 0.6751]\n"
     ]
    },
    {
     "name": "stderr",
     "output_type": "stream",
     "text": [
      " 55%|█████▌    | 11/20 [00:28<00:22,  2.46s/it]"
     ]
    },
    {
     "name": "stdout",
     "output_type": "stream",
     "text": [
      "la_003.nii.gz Dice list by number of clicks (left atrium): [0.591, 0.6122, 0.729, 0.6581, 0.545]\n"
     ]
    },
    {
     "name": "stderr",
     "output_type": "stream",
     "text": [
      " 60%|██████    | 12/20 [00:30<00:19,  2.41s/it]"
     ]
    },
    {
     "name": "stdout",
     "output_type": "stream",
     "text": [
      "la_011.nii.gz Dice list by number of clicks (left atrium): [0.568, 0.6321, 0.6337, 0.6589, 0.6382]\n"
     ]
    },
    {
     "name": "stderr",
     "output_type": "stream",
     "text": [
      " 65%|██████▌   | 13/20 [00:33<00:17,  2.43s/it]"
     ]
    },
    {
     "name": "stdout",
     "output_type": "stream",
     "text": [
      "la_005.nii.gz Dice list by number of clicks (left atrium): [0.5734, 0.5722, 0.6371, 0.6061, 0.6553]\n"
     ]
    },
    {
     "name": "stderr",
     "output_type": "stream",
     "text": [
      " 70%|███████   | 14/20 [00:35<00:14,  2.40s/it]"
     ]
    },
    {
     "name": "stdout",
     "output_type": "stream",
     "text": [
      "la_018.nii.gz Dice list by number of clicks (left atrium): [0.6215, 0.6124, 0.6395, 0.6591, 0.6706]\n"
     ]
    },
    {
     "name": "stderr",
     "output_type": "stream",
     "text": [
      " 75%|███████▌  | 15/20 [00:38<00:12,  2.45s/it]"
     ]
    },
    {
     "name": "stdout",
     "output_type": "stream",
     "text": [
      "la_021.nii.gz Dice list by number of clicks (left atrium): [0.6399, 0.6746, 0.6565, 0.5969, 0.6543]\n"
     ]
    },
    {
     "name": "stderr",
     "output_type": "stream",
     "text": [
      " 80%|████████  | 16/20 [00:40<00:09,  2.36s/it]"
     ]
    },
    {
     "name": "stdout",
     "output_type": "stream",
     "text": [
      "la_019.nii.gz Dice list by number of clicks (left atrium): [0.5698, 0.605, 0.6414, 0.6292, 0.6594]\n"
     ]
    },
    {
     "name": "stderr",
     "output_type": "stream",
     "text": [
      " 85%|████████▌ | 17/20 [00:42<00:07,  2.42s/it]"
     ]
    },
    {
     "name": "stdout",
     "output_type": "stream",
     "text": [
      "la_004.nii.gz Dice list by number of clicks (left atrium): [0.4644, 0.5011, 0.3819, 0.5255, 0.5877]\n"
     ]
    },
    {
     "name": "stderr",
     "output_type": "stream",
     "text": [
      " 90%|█████████ | 18/20 [00:45<00:04,  2.33s/it]"
     ]
    },
    {
     "name": "stdout",
     "output_type": "stream",
     "text": [
      "la_009.nii.gz Dice list by number of clicks (left atrium): [0.6117, 0.6569, 0.6419, 0.645, 0.3317]\n"
     ]
    },
    {
     "name": "stderr",
     "output_type": "stream",
     "text": [
      " 95%|█████████▌| 19/20 [00:47<00:02,  2.26s/it]"
     ]
    },
    {
     "name": "stdout",
     "output_type": "stream",
     "text": [
      "la_026.nii.gz Dice list by number of clicks (left atrium): [0.493, 0.5216, 0.6246, 0.5846, 0.4874]\n",
      "Save results to /home/t722s/Desktop/Sam-Med3DTest/NetworkHeartModified/eval_res_from_inference.json\n",
      "Done\n"
     ]
    },
    {
     "name": "stderr",
     "output_type": "stream",
     "text": [
      "100%|██████████| 20/20 [00:49<00:00,  2.48s/it]\n"
     ]
    },
    {
     "name": "stdout",
     "output_type": "stream",
     "text": [
      "set seed as 2020\n",
      "Cheating! Cropping around ground truth\n",
      "device: cuda\n"
     ]
    },
    {
     "name": "stderr",
     "output_type": "stream",
     "text": [
      "  0%|          | 0/20 [00:00<?, ?it/s]"
     ]
    },
    {
     "name": "stdout",
     "output_type": "stream",
     "text": [
      "la_014.nii.gz Dice list by number of clicks (left atrium): [0.5988, 0.6956, 0.6814, 0.719, 0.6764]\n"
     ]
    },
    {
     "name": "stderr",
     "output_type": "stream",
     "text": [
      "  5%|▌         | 1/20 [00:03<00:58,  3.07s/it]"
     ]
    },
    {
     "name": "stdout",
     "output_type": "stream",
     "text": [
      "la_022.nii.gz Dice list by number of clicks (left atrium): [0.636, 0.6241, 0.7416, 0.7529, 0.7648]\n"
     ]
    },
    {
     "name": "stderr",
     "output_type": "stream",
     "text": [
      " 10%|█         | 2/20 [00:05<00:50,  2.81s/it]"
     ]
    },
    {
     "name": "stdout",
     "output_type": "stream",
     "text": [
      "la_030.nii.gz Dice list by number of clicks (left atrium): [0.6262, 0.6378, 0.6175, 0.6131, 0.6102]\n"
     ]
    },
    {
     "name": "stderr",
     "output_type": "stream",
     "text": [
      " 15%|█▌        | 3/20 [00:08<00:44,  2.64s/it]"
     ]
    },
    {
     "name": "stdout",
     "output_type": "stream",
     "text": [
      "la_010.nii.gz Dice list by number of clicks (left atrium): [0.2868, 0.6155, 0.6327, 0.6579, 0.664]\n"
     ]
    },
    {
     "name": "stderr",
     "output_type": "stream",
     "text": [
      " 20%|██        | 4/20 [00:10<00:40,  2.52s/it]"
     ]
    },
    {
     "name": "stdout",
     "output_type": "stream",
     "text": [
      "la_007.nii.gz Dice list by number of clicks (left atrium): [0.5935, 0.5971, 0.4671, 0.5695, 0.575]\n"
     ]
    },
    {
     "name": "stderr",
     "output_type": "stream",
     "text": [
      " 25%|██▌       | 5/20 [00:13<00:38,  2.58s/it]"
     ]
    },
    {
     "name": "stdout",
     "output_type": "stream",
     "text": [
      "la_023.nii.gz Dice list by number of clicks (left atrium): [0.6959, 0.7178, 0.7491, 0.7624, 0.7709]\n"
     ]
    },
    {
     "name": "stderr",
     "output_type": "stream",
     "text": [
      " 30%|███       | 6/20 [00:15<00:36,  2.58s/it]"
     ]
    },
    {
     "name": "stdout",
     "output_type": "stream",
     "text": [
      "la_017.nii.gz Dice list by number of clicks (left atrium): [0.6609, 0.6732, 0.6198, 0.6285, 0.6412]\n"
     ]
    },
    {
     "name": "stderr",
     "output_type": "stream",
     "text": [
      " 35%|███▌      | 7/20 [00:18<00:32,  2.51s/it]"
     ]
    },
    {
     "name": "stdout",
     "output_type": "stream",
     "text": [
      "la_016.nii.gz Dice list by number of clicks (left atrium): [0.4016, 0.6347, 0.6352, 0.6452, 0.6489]\n"
     ]
    },
    {
     "name": "stderr",
     "output_type": "stream",
     "text": [
      " 40%|████      | 8/20 [00:20<00:29,  2.45s/it]"
     ]
    },
    {
     "name": "stdout",
     "output_type": "stream",
     "text": [
      "la_029.nii.gz Dice list by number of clicks (left atrium): [0.6395, 0.6102, 0.6098, 0.5858, 0.5906]\n"
     ]
    },
    {
     "name": "stderr",
     "output_type": "stream",
     "text": [
      " 45%|████▌     | 9/20 [00:22<00:26,  2.37s/it]"
     ]
    },
    {
     "name": "stdout",
     "output_type": "stream",
     "text": [
      "la_024.nii.gz Dice list by number of clicks (left atrium): [0.6831, 0.5466, 0.6492, 0.6551, 0.6615]\n"
     ]
    },
    {
     "name": "stderr",
     "output_type": "stream",
     "text": [
      " 50%|█████     | 10/20 [00:25<00:24,  2.42s/it]"
     ]
    },
    {
     "name": "stdout",
     "output_type": "stream",
     "text": [
      "la_020.nii.gz Dice list by number of clicks (left atrium): [0.7083, 0.6297, 0.6508, 0.6561, 0.6419]\n"
     ]
    },
    {
     "name": "stderr",
     "output_type": "stream",
     "text": [
      " 55%|█████▌    | 11/20 [00:27<00:22,  2.45s/it]"
     ]
    },
    {
     "name": "stdout",
     "output_type": "stream",
     "text": [
      "la_003.nii.gz Dice list by number of clicks (left atrium): [0.6541, 0.713, 0.652, 0.7047, 0.6978]\n"
     ]
    },
    {
     "name": "stderr",
     "output_type": "stream",
     "text": [
      " 60%|██████    | 12/20 [00:30<00:20,  2.55s/it]"
     ]
    },
    {
     "name": "stdout",
     "output_type": "stream",
     "text": [
      "la_011.nii.gz Dice list by number of clicks (left atrium): [0.4638, 0.4459, 0.5008, 0.5535, 0.6398]\n"
     ]
    },
    {
     "name": "stderr",
     "output_type": "stream",
     "text": [
      " 65%|██████▌   | 13/20 [00:33<00:17,  2.55s/it]"
     ]
    },
    {
     "name": "stdout",
     "output_type": "stream",
     "text": [
      "la_005.nii.gz Dice list by number of clicks (left atrium): [0.4561, 0.5944, 0.6021, 0.6081, 0.5472]\n"
     ]
    },
    {
     "name": "stderr",
     "output_type": "stream",
     "text": [
      " 70%|███████   | 14/20 [00:35<00:14,  2.44s/it]"
     ]
    },
    {
     "name": "stdout",
     "output_type": "stream",
     "text": [
      "la_018.nii.gz Dice list by number of clicks (left atrium): [0.6398, 0.6618, 0.6684, 0.6092, 0.6772]\n"
     ]
    },
    {
     "name": "stderr",
     "output_type": "stream",
     "text": [
      " 75%|███████▌  | 15/20 [00:37<00:12,  2.44s/it]"
     ]
    },
    {
     "name": "stdout",
     "output_type": "stream",
     "text": [
      "la_021.nii.gz Dice list by number of clicks (left atrium): [0.6456, 0.6355, 0.631, 0.6412, 0.6344]\n"
     ]
    },
    {
     "name": "stderr",
     "output_type": "stream",
     "text": [
      " 80%|████████  | 16/20 [00:40<00:09,  2.44s/it]"
     ]
    },
    {
     "name": "stdout",
     "output_type": "stream",
     "text": [
      "la_019.nii.gz Dice list by number of clicks (left atrium): [0.6341, 0.6467, 0.6652, 0.6293, 0.6577]\n"
     ]
    },
    {
     "name": "stderr",
     "output_type": "stream",
     "text": [
      " 85%|████████▌ | 17/20 [00:42<00:07,  2.48s/it]"
     ]
    },
    {
     "name": "stdout",
     "output_type": "stream",
     "text": [
      "la_004.nii.gz Dice list by number of clicks (left atrium): [0.5093, 0.3046, 0.1147, 0.1436, 0.2258]\n"
     ]
    },
    {
     "name": "stderr",
     "output_type": "stream",
     "text": [
      " 90%|█████████ | 18/20 [00:45<00:05,  2.61s/it]"
     ]
    },
    {
     "name": "stdout",
     "output_type": "stream",
     "text": [
      "la_009.nii.gz Dice list by number of clicks (left atrium): [0.5874, 0.6807, 0.6305, 0.6176, 0.5729]\n"
     ]
    },
    {
     "name": "stderr",
     "output_type": "stream",
     "text": [
      " 95%|█████████▌| 19/20 [00:47<00:02,  2.51s/it]"
     ]
    },
    {
     "name": "stdout",
     "output_type": "stream",
     "text": [
      "la_026.nii.gz Dice list by number of clicks (left atrium): [0.3819, 0.5508, 0.6463, 0.6488, 0.654]\n",
      "Save results to /home/t722s/Desktop/Sam-Med3DTest/NetworkHeartModified/eval_res_from_inference.json\n",
      "Done\n"
     ]
    },
    {
     "name": "stderr",
     "output_type": "stream",
     "text": [
      "100%|██████████| 20/20 [00:50<00:00,  2.51s/it]\n"
     ]
    },
    {
     "name": "stdout",
     "output_type": "stream",
     "text": [
      "set seed as 2020\n",
      "Cheating! Cropping around ground truth\n",
      "device: cuda\n"
     ]
    },
    {
     "name": "stderr",
     "output_type": "stream",
     "text": [
      "  0%|          | 0/20 [00:00<?, ?it/s]"
     ]
    },
    {
     "name": "stdout",
     "output_type": "stream",
     "text": [
      "la_014.nii.gz Dice list by number of clicks (left atrium): [0.6598, 0.6611, 0.6548, 0.6446, 0.661]\n"
     ]
    },
    {
     "name": "stderr",
     "output_type": "stream",
     "text": [
      "  5%|▌         | 1/20 [00:02<00:47,  2.49s/it]"
     ]
    },
    {
     "name": "stdout",
     "output_type": "stream",
     "text": [
      "la_022.nii.gz Dice list by number of clicks (left atrium): [0.6863, 0.7099, 0.7122, 0.7075, 0.7057]\n"
     ]
    },
    {
     "name": "stderr",
     "output_type": "stream",
     "text": [
      " 10%|█         | 2/20 [00:04<00:41,  2.30s/it]"
     ]
    },
    {
     "name": "stdout",
     "output_type": "stream",
     "text": [
      "la_030.nii.gz Dice list by number of clicks (left atrium): [0.4145, 0.6144, 0.625, 0.6504, 0.6153]\n"
     ]
    },
    {
     "name": "stderr",
     "output_type": "stream",
     "text": [
      " 15%|█▌        | 3/20 [00:06<00:38,  2.25s/it]"
     ]
    },
    {
     "name": "stdout",
     "output_type": "stream",
     "text": [
      "la_010.nii.gz Dice list by number of clicks (left atrium): [0.6908, 0.7079, 0.6683, 0.7267, 0.749]\n"
     ]
    },
    {
     "name": "stderr",
     "output_type": "stream",
     "text": [
      " 20%|██        | 4/20 [00:09<00:36,  2.27s/it]"
     ]
    },
    {
     "name": "stdout",
     "output_type": "stream",
     "text": [
      "la_007.nii.gz Dice list by number of clicks (left atrium): [0.4387, 0.6915, 0.6691, 0.6238, 0.5828]\n"
     ]
    },
    {
     "name": "stderr",
     "output_type": "stream",
     "text": [
      " 25%|██▌       | 5/20 [00:11<00:34,  2.30s/it]"
     ]
    },
    {
     "name": "stdout",
     "output_type": "stream",
     "text": [
      "la_023.nii.gz Dice list by number of clicks (left atrium): [0.5678, 0.7064, 0.7368, 0.7463, 0.7298]\n"
     ]
    },
    {
     "name": "stderr",
     "output_type": "stream",
     "text": [
      " 30%|███       | 6/20 [00:14<00:33,  2.40s/it]"
     ]
    },
    {
     "name": "stdout",
     "output_type": "stream",
     "text": [
      "la_017.nii.gz Dice list by number of clicks (left atrium): [0.6498, 0.6411, 0.651, 0.6562, 0.6528]\n"
     ]
    },
    {
     "name": "stderr",
     "output_type": "stream",
     "text": [
      " 35%|███▌      | 7/20 [00:16<00:30,  2.35s/it]"
     ]
    },
    {
     "name": "stdout",
     "output_type": "stream",
     "text": [
      "la_016.nii.gz Dice list by number of clicks (left atrium): [0.6102, 0.7314, 0.7422, 0.7537, 0.7113]\n"
     ]
    },
    {
     "name": "stderr",
     "output_type": "stream",
     "text": [
      " 40%|████      | 8/20 [00:18<00:27,  2.33s/it]"
     ]
    },
    {
     "name": "stdout",
     "output_type": "stream",
     "text": [
      "la_029.nii.gz Dice list by number of clicks (left atrium): [0.5095, 0.5474, 0.5848, 0.6246, 0.6266]\n"
     ]
    },
    {
     "name": "stderr",
     "output_type": "stream",
     "text": [
      " 45%|████▌     | 9/20 [00:20<00:25,  2.32s/it]"
     ]
    },
    {
     "name": "stdout",
     "output_type": "stream",
     "text": [
      "la_024.nii.gz Dice list by number of clicks (left atrium): [0.5016, 0.3851, 0.6, 0.5979, 0.5965]\n"
     ]
    },
    {
     "name": "stderr",
     "output_type": "stream",
     "text": [
      " 50%|█████     | 10/20 [00:24<00:26,  2.60s/it]"
     ]
    },
    {
     "name": "stdout",
     "output_type": "stream",
     "text": [
      "la_020.nii.gz Dice list by number of clicks (left atrium): [0.6552, 0.5726, 0.6347, 0.6112, 0.6662]\n"
     ]
    },
    {
     "name": "stderr",
     "output_type": "stream",
     "text": [
      " 55%|█████▌    | 11/20 [00:26<00:23,  2.59s/it]"
     ]
    },
    {
     "name": "stdout",
     "output_type": "stream",
     "text": [
      "la_003.nii.gz Dice list by number of clicks (left atrium): [0.6327, 0.6166, 0.6756, 0.6189, 0.7308]\n"
     ]
    },
    {
     "name": "stderr",
     "output_type": "stream",
     "text": [
      " 60%|██████    | 12/20 [00:29<00:20,  2.58s/it]"
     ]
    },
    {
     "name": "stdout",
     "output_type": "stream",
     "text": [
      "la_011.nii.gz Dice list by number of clicks (left atrium): [0.5927, 0.633, 0.6895, 0.6704, 0.6841]\n"
     ]
    },
    {
     "name": "stderr",
     "output_type": "stream",
     "text": [
      " 65%|██████▌   | 13/20 [00:31<00:17,  2.53s/it]"
     ]
    },
    {
     "name": "stdout",
     "output_type": "stream",
     "text": [
      "la_005.nii.gz Dice list by number of clicks (left atrium): [0.461, 0.492, 0.492, 0.491, 0.5051]\n"
     ]
    },
    {
     "name": "stderr",
     "output_type": "stream",
     "text": [
      " 70%|███████   | 14/20 [00:33<00:14,  2.45s/it]"
     ]
    },
    {
     "name": "stdout",
     "output_type": "stream",
     "text": [
      "la_018.nii.gz Dice list by number of clicks (left atrium): [0.6151, 0.6267, 0.6812, 0.6668, 0.6753]\n"
     ]
    },
    {
     "name": "stderr",
     "output_type": "stream",
     "text": [
      " 75%|███████▌  | 15/20 [00:36<00:11,  2.39s/it]"
     ]
    },
    {
     "name": "stdout",
     "output_type": "stream",
     "text": [
      "la_021.nii.gz Dice list by number of clicks (left atrium): [0.5946, 0.6148, 0.5985, 0.6024, 0.6338]\n"
     ]
    },
    {
     "name": "stderr",
     "output_type": "stream",
     "text": [
      " 80%|████████  | 16/20 [00:38<00:09,  2.32s/it]"
     ]
    },
    {
     "name": "stdout",
     "output_type": "stream",
     "text": [
      "la_019.nii.gz Dice list by number of clicks (left atrium): [0.6172, 0.6457, 0.5116, 0.6002, 0.6338]\n"
     ]
    },
    {
     "name": "stderr",
     "output_type": "stream",
     "text": [
      " 85%|████████▌ | 17/20 [00:40<00:06,  2.26s/it]"
     ]
    },
    {
     "name": "stdout",
     "output_type": "stream",
     "text": [
      "la_004.nii.gz Dice list by number of clicks (left atrium): [0.0762, 0.2323, 0.3286, 0.3727, 0.523]\n"
     ]
    },
    {
     "name": "stderr",
     "output_type": "stream",
     "text": [
      " 90%|█████████ | 18/20 [00:42<00:04,  2.24s/it]"
     ]
    },
    {
     "name": "stdout",
     "output_type": "stream",
     "text": [
      "la_009.nii.gz Dice list by number of clicks (left atrium): [0.541, 0.592, 0.5988, 0.5847, 0.5404]\n"
     ]
    },
    {
     "name": "stderr",
     "output_type": "stream",
     "text": [
      " 95%|█████████▌| 19/20 [00:45<00:02,  2.32s/it]"
     ]
    },
    {
     "name": "stdout",
     "output_type": "stream",
     "text": [
      "la_026.nii.gz Dice list by number of clicks (left atrium): [0.4566, 0.5918, 0.5523, 0.5466, 0.6759]\n",
      "Save results to /home/t722s/Desktop/Sam-Med3DTest/NetworkHeartModified/eval_res_from_inference.json\n",
      "Done\n"
     ]
    },
    {
     "name": "stderr",
     "output_type": "stream",
     "text": [
      "100%|██████████| 20/20 [00:47<00:00,  2.37s/it]\n"
     ]
    },
    {
     "name": "stdout",
     "output_type": "stream",
     "text": [
      "set seed as 2020\n",
      "Cheating! Cropping around ground truth\n",
      "device: cuda\n"
     ]
    },
    {
     "name": "stderr",
     "output_type": "stream",
     "text": [
      "  0%|          | 0/20 [00:00<?, ?it/s]"
     ]
    },
    {
     "name": "stdout",
     "output_type": "stream",
     "text": [
      "la_014.nii.gz Dice list by number of clicks (left atrium): [0.6984, 0.6926, 0.6884, 0.6832, 0.6652]\n"
     ]
    },
    {
     "name": "stderr",
     "output_type": "stream",
     "text": [
      "  5%|▌         | 1/20 [00:02<00:48,  2.56s/it]"
     ]
    },
    {
     "name": "stdout",
     "output_type": "stream",
     "text": [
      "la_022.nii.gz Dice list by number of clicks (left atrium): [0.7156, 0.7201, 0.6875, 0.7194, 0.7414]\n"
     ]
    },
    {
     "name": "stderr",
     "output_type": "stream",
     "text": [
      " 10%|█         | 2/20 [00:04<00:42,  2.36s/it]"
     ]
    },
    {
     "name": "stdout",
     "output_type": "stream",
     "text": [
      "la_030.nii.gz Dice list by number of clicks (left atrium): [0.6085, 0.6395, 0.6212, 0.6178, 0.628]\n"
     ]
    },
    {
     "name": "stderr",
     "output_type": "stream",
     "text": [
      " 15%|█▌        | 3/20 [00:06<00:38,  2.28s/it]"
     ]
    },
    {
     "name": "stdout",
     "output_type": "stream",
     "text": [
      "la_010.nii.gz Dice list by number of clicks (left atrium): [0.6308, 0.593, 0.5715, 0.5678, 0.5452]\n"
     ]
    },
    {
     "name": "stderr",
     "output_type": "stream",
     "text": [
      " 20%|██        | 4/20 [00:09<00:36,  2.29s/it]"
     ]
    },
    {
     "name": "stdout",
     "output_type": "stream",
     "text": [
      "la_007.nii.gz Dice list by number of clicks (left atrium): [0.6868, 0.5686, 0.6548, 0.6239, 0.5763]\n"
     ]
    },
    {
     "name": "stderr",
     "output_type": "stream",
     "text": [
      " 25%|██▌       | 5/20 [00:11<00:35,  2.37s/it]"
     ]
    },
    {
     "name": "stdout",
     "output_type": "stream",
     "text": [
      "la_023.nii.gz Dice list by number of clicks (left atrium): [0.6881, 0.7376, 0.7634, 0.7641, 0.7678]\n"
     ]
    },
    {
     "name": "stderr",
     "output_type": "stream",
     "text": [
      " 30%|███       | 6/20 [00:14<00:32,  2.35s/it]"
     ]
    },
    {
     "name": "stdout",
     "output_type": "stream",
     "text": [
      "la_017.nii.gz Dice list by number of clicks (left atrium): [0.5328, 0.5697, 0.5541, 0.6154, 0.6568]\n"
     ]
    },
    {
     "name": "stderr",
     "output_type": "stream",
     "text": [
      " 35%|███▌      | 7/20 [00:16<00:30,  2.33s/it]"
     ]
    },
    {
     "name": "stdout",
     "output_type": "stream",
     "text": [
      "la_016.nii.gz Dice list by number of clicks (left atrium): [0.6611, 0.6539, 0.6528, 0.675, 0.7177]\n"
     ]
    },
    {
     "name": "stderr",
     "output_type": "stream",
     "text": [
      " 40%|████      | 8/20 [00:18<00:27,  2.33s/it]"
     ]
    },
    {
     "name": "stdout",
     "output_type": "stream",
     "text": [
      "la_029.nii.gz Dice list by number of clicks (left atrium): [0.6287, 0.6321, 0.6156, 0.5673, 0.5922]\n"
     ]
    },
    {
     "name": "stderr",
     "output_type": "stream",
     "text": [
      " 45%|████▌     | 9/20 [00:20<00:24,  2.27s/it]"
     ]
    },
    {
     "name": "stdout",
     "output_type": "stream",
     "text": [
      "la_024.nii.gz Dice list by number of clicks (left atrium): [0.6811, 0.6545, 0.5989, 0.6212, 0.6615]\n"
     ]
    },
    {
     "name": "stderr",
     "output_type": "stream",
     "text": [
      " 50%|█████     | 10/20 [00:23<00:23,  2.31s/it]"
     ]
    },
    {
     "name": "stdout",
     "output_type": "stream",
     "text": [
      "la_020.nii.gz Dice list by number of clicks (left atrium): [0.6203, 0.6725, 0.6547, 0.6335, 0.5907]\n"
     ]
    },
    {
     "name": "stderr",
     "output_type": "stream",
     "text": [
      " 55%|█████▌    | 11/20 [00:25<00:20,  2.28s/it]"
     ]
    },
    {
     "name": "stdout",
     "output_type": "stream",
     "text": [
      "la_003.nii.gz Dice list by number of clicks (left atrium): [0.6476, 0.6406, 0.6283, 0.7352, 0.695]\n"
     ]
    },
    {
     "name": "stderr",
     "output_type": "stream",
     "text": [
      " 60%|██████    | 12/20 [00:27<00:18,  2.30s/it]"
     ]
    },
    {
     "name": "stdout",
     "output_type": "stream",
     "text": [
      "la_011.nii.gz Dice list by number of clicks (left atrium): [0.6987, 0.6438, 0.6647, 0.6608, 0.6767]\n"
     ]
    },
    {
     "name": "stderr",
     "output_type": "stream",
     "text": [
      " 65%|██████▌   | 13/20 [00:30<00:16,  2.30s/it]"
     ]
    },
    {
     "name": "stdout",
     "output_type": "stream",
     "text": [
      "la_005.nii.gz Dice list by number of clicks (left atrium): [0.4838, 0.5673, 0.6548, 0.6564, 0.6494]\n"
     ]
    },
    {
     "name": "stderr",
     "output_type": "stream",
     "text": [
      " 70%|███████   | 14/20 [00:32<00:13,  2.28s/it]"
     ]
    },
    {
     "name": "stdout",
     "output_type": "stream",
     "text": [
      "la_018.nii.gz Dice list by number of clicks (left atrium): [0.5806, 0.6314, 0.6419, 0.6441, 0.6297]\n"
     ]
    },
    {
     "name": "stderr",
     "output_type": "stream",
     "text": [
      " 75%|███████▌  | 15/20 [00:34<00:11,  2.27s/it]"
     ]
    },
    {
     "name": "stdout",
     "output_type": "stream",
     "text": [
      "la_021.nii.gz Dice list by number of clicks (left atrium): [0.5995, 0.6188, 0.5026, 0.6631, 0.6624]\n"
     ]
    },
    {
     "name": "stderr",
     "output_type": "stream",
     "text": [
      " 80%|████████  | 16/20 [00:36<00:08,  2.24s/it]"
     ]
    },
    {
     "name": "stdout",
     "output_type": "stream",
     "text": [
      "la_019.nii.gz Dice list by number of clicks (left atrium): [0.6323, 0.4025, 0.6218, 0.5451, 0.6377]\n"
     ]
    },
    {
     "name": "stderr",
     "output_type": "stream",
     "text": [
      " 85%|████████▌ | 17/20 [00:38<00:06,  2.23s/it]"
     ]
    },
    {
     "name": "stdout",
     "output_type": "stream",
     "text": [
      "la_004.nii.gz Dice list by number of clicks (left atrium): [0.1387, 0.2742, 0.3001, 0.4966, 0.5715]\n"
     ]
    },
    {
     "name": "stderr",
     "output_type": "stream",
     "text": [
      " 90%|█████████ | 18/20 [00:41<00:04,  2.25s/it]"
     ]
    },
    {
     "name": "stdout",
     "output_type": "stream",
     "text": [
      "la_009.nii.gz Dice list by number of clicks (left atrium): [0.0504, 0.5197, 0.5755, 0.5337, 0.5726]\n"
     ]
    },
    {
     "name": "stderr",
     "output_type": "stream",
     "text": [
      " 95%|█████████▌| 19/20 [00:43<00:02,  2.22s/it]"
     ]
    },
    {
     "name": "stdout",
     "output_type": "stream",
     "text": [
      "la_026.nii.gz Dice list by number of clicks (left atrium): [0.3246, 0.631, 0.4145, 0.62, 0.5215]\n",
      "Save results to /home/t722s/Desktop/Sam-Med3DTest/NetworkHeartModified/eval_res_from_inference.json\n",
      "Done\n"
     ]
    },
    {
     "name": "stderr",
     "output_type": "stream",
     "text": [
      "100%|██████████| 20/20 [00:45<00:00,  2.28s/it]\n"
     ]
    },
    {
     "name": "stdout",
     "output_type": "stream",
     "text": [
      "set seed as 2020\n",
      "Cheating! Cropping around ground truth\n",
      "device: cuda\n"
     ]
    },
    {
     "name": "stderr",
     "output_type": "stream",
     "text": [
      "  0%|          | 0/20 [00:00<?, ?it/s]"
     ]
    },
    {
     "name": "stdout",
     "output_type": "stream",
     "text": [
      "la_014.nii.gz Dice list by number of clicks (left atrium): [0.6661, 0.6818, 0.6891, 0.6829, 0.6773]\n"
     ]
    },
    {
     "name": "stderr",
     "output_type": "stream",
     "text": [
      "  5%|▌         | 1/20 [00:02<00:47,  2.49s/it]"
     ]
    },
    {
     "name": "stdout",
     "output_type": "stream",
     "text": [
      "la_022.nii.gz Dice list by number of clicks (left atrium): [0.6793, 0.7192, 0.7122, 0.771, 0.6587]\n"
     ]
    },
    {
     "name": "stderr",
     "output_type": "stream",
     "text": [
      " 10%|█         | 2/20 [00:04<00:41,  2.30s/it]"
     ]
    },
    {
     "name": "stdout",
     "output_type": "stream",
     "text": [
      "la_030.nii.gz Dice list by number of clicks (left atrium): [0.6074, 0.6153, 0.6171, 0.6045, 0.5939]\n"
     ]
    },
    {
     "name": "stderr",
     "output_type": "stream",
     "text": [
      " 15%|█▌        | 3/20 [00:06<00:38,  2.26s/it]"
     ]
    },
    {
     "name": "stdout",
     "output_type": "stream",
     "text": [
      "la_010.nii.gz Dice list by number of clicks (left atrium): [0.5511, 0.5572, 0.5768, 0.5635, 0.5437]\n"
     ]
    },
    {
     "name": "stderr",
     "output_type": "stream",
     "text": [
      " 20%|██        | 4/20 [00:09<00:36,  2.26s/it]"
     ]
    },
    {
     "name": "stdout",
     "output_type": "stream",
     "text": [
      "la_007.nii.gz Dice list by number of clicks (left atrium): [0.607, 0.595, 0.6148, 0.6235, 0.6613]\n"
     ]
    },
    {
     "name": "stderr",
     "output_type": "stream",
     "text": [
      " 25%|██▌       | 5/20 [00:11<00:34,  2.30s/it]"
     ]
    },
    {
     "name": "stdout",
     "output_type": "stream",
     "text": [
      "la_023.nii.gz Dice list by number of clicks (left atrium): [0.7237, 0.7546, 0.7775, 0.7761, 0.7795]\n"
     ]
    },
    {
     "name": "stderr",
     "output_type": "stream",
     "text": [
      " 30%|███       | 6/20 [00:13<00:31,  2.27s/it]"
     ]
    },
    {
     "name": "stdout",
     "output_type": "stream",
     "text": [
      "la_017.nii.gz Dice list by number of clicks (left atrium): [0.6277, 0.5851, 0.6082, 0.6065, 0.5961]\n"
     ]
    },
    {
     "name": "stderr",
     "output_type": "stream",
     "text": [
      " 35%|███▌      | 7/20 [00:15<00:29,  2.26s/it]"
     ]
    },
    {
     "name": "stdout",
     "output_type": "stream",
     "text": [
      "la_016.nii.gz Dice list by number of clicks (left atrium): [0.6817, 0.6757, 0.6736, 0.6771, 0.6749]\n"
     ]
    },
    {
     "name": "stderr",
     "output_type": "stream",
     "text": [
      " 40%|████      | 8/20 [00:17<00:25,  2.16s/it]"
     ]
    },
    {
     "name": "stdout",
     "output_type": "stream",
     "text": [
      "la_029.nii.gz Dice list by number of clicks (left atrium): [0.6267, 0.6241, 0.5971, 0.5745, 0.5972]\n"
     ]
    },
    {
     "name": "stderr",
     "output_type": "stream",
     "text": [
      " 45%|████▌     | 9/20 [00:20<00:23,  2.15s/it]"
     ]
    },
    {
     "name": "stdout",
     "output_type": "stream",
     "text": [
      "la_024.nii.gz Dice list by number of clicks (left atrium): [0.5473, 0.6066, 0.606, 0.6389, 0.6735]\n"
     ]
    },
    {
     "name": "stderr",
     "output_type": "stream",
     "text": [
      " 50%|█████     | 10/20 [00:22<00:21,  2.17s/it]"
     ]
    },
    {
     "name": "stdout",
     "output_type": "stream",
     "text": [
      "la_020.nii.gz Dice list by number of clicks (left atrium): [0.7222, 0.6968, 0.6675, 0.6505, 0.6645]\n"
     ]
    },
    {
     "name": "stderr",
     "output_type": "stream",
     "text": [
      " 55%|█████▌    | 11/20 [00:24<00:19,  2.19s/it]"
     ]
    },
    {
     "name": "stdout",
     "output_type": "stream",
     "text": [
      "la_003.nii.gz Dice list by number of clicks (left atrium): [0.1979, 0.2158, 0.2194, 0.4512, 0.486]\n"
     ]
    },
    {
     "name": "stderr",
     "output_type": "stream",
     "text": [
      " 60%|██████    | 12/20 [00:26<00:17,  2.24s/it]"
     ]
    },
    {
     "name": "stdout",
     "output_type": "stream",
     "text": [
      "la_011.nii.gz Dice list by number of clicks (left atrium): [0.5464, 0.5111, 0.5818, 0.5928, 0.6598]\n"
     ]
    },
    {
     "name": "stderr",
     "output_type": "stream",
     "text": [
      " 65%|██████▌   | 13/20 [00:29<00:15,  2.24s/it]"
     ]
    },
    {
     "name": "stdout",
     "output_type": "stream",
     "text": [
      "la_005.nii.gz Dice list by number of clicks (left atrium): [0.5552, 0.6618, 0.6538, 0.6108, 0.5922]\n"
     ]
    },
    {
     "name": "stderr",
     "output_type": "stream",
     "text": [
      " 70%|███████   | 14/20 [00:31<00:13,  2.23s/it]"
     ]
    },
    {
     "name": "stdout",
     "output_type": "stream",
     "text": [
      "la_018.nii.gz Dice list by number of clicks (left atrium): [0.5646, 0.6321, 0.5467, 0.6001, 0.6513]\n"
     ]
    },
    {
     "name": "stderr",
     "output_type": "stream",
     "text": [
      " 75%|███████▌  | 15/20 [00:33<00:11,  2.25s/it]"
     ]
    },
    {
     "name": "stdout",
     "output_type": "stream",
     "text": [
      "la_021.nii.gz Dice list by number of clicks (left atrium): [0.6275, 0.6358, 0.6404, 0.6487, 0.6538]\n"
     ]
    },
    {
     "name": "stderr",
     "output_type": "stream",
     "text": [
      " 80%|████████  | 16/20 [00:35<00:08,  2.24s/it]"
     ]
    },
    {
     "name": "stdout",
     "output_type": "stream",
     "text": [
      "la_019.nii.gz Dice list by number of clicks (left atrium): [0.285, 0.5856, 0.6066, 0.6564, 0.5663]\n"
     ]
    },
    {
     "name": "stderr",
     "output_type": "stream",
     "text": [
      " 85%|████████▌ | 17/20 [00:37<00:06,  2.22s/it]"
     ]
    },
    {
     "name": "stdout",
     "output_type": "stream",
     "text": [
      "la_004.nii.gz Dice list by number of clicks (left atrium): [0.5461, 0.5645, 0.5737, 0.5638, 0.4908]\n"
     ]
    },
    {
     "name": "stderr",
     "output_type": "stream",
     "text": [
      " 90%|█████████ | 18/20 [00:40<00:04,  2.20s/it]"
     ]
    },
    {
     "name": "stdout",
     "output_type": "stream",
     "text": [
      "la_009.nii.gz Dice list by number of clicks (left atrium): [0.0343, 0.5343, 0.6641, 0.577, 0.625]\n"
     ]
    },
    {
     "name": "stderr",
     "output_type": "stream",
     "text": [
      " 95%|█████████▌| 19/20 [00:42<00:02,  2.18s/it]"
     ]
    },
    {
     "name": "stdout",
     "output_type": "stream",
     "text": [
      "la_026.nii.gz Dice list by number of clicks (left atrium): [0.612, 0.6393, 0.5923, 0.5637, 0.6744]\n",
      "Save results to /home/t722s/Desktop/Sam-Med3DTest/NetworkHeartModified/eval_res_from_inference.json\n",
      "Done\n"
     ]
    },
    {
     "name": "stderr",
     "output_type": "stream",
     "text": [
      "100%|██████████| 20/20 [00:44<00:00,  2.23s/it]\n"
     ]
    },
    {
     "name": "stdout",
     "output_type": "stream",
     "text": [
      "set seed as 2020\n",
      "Cheating! Cropping around ground truth\n",
      "device: cuda\n"
     ]
    },
    {
     "name": "stderr",
     "output_type": "stream",
     "text": [
      "  0%|          | 0/20 [00:00<?, ?it/s]"
     ]
    },
    {
     "name": "stdout",
     "output_type": "stream",
     "text": [
      "la_014.nii.gz Dice list by number of clicks (left atrium): [0.5452, 0.6608, 0.6755, 0.68, 0.6825]\n"
     ]
    },
    {
     "name": "stderr",
     "output_type": "stream",
     "text": [
      "  5%|▌         | 1/20 [00:02<00:45,  2.38s/it]"
     ]
    },
    {
     "name": "stdout",
     "output_type": "stream",
     "text": [
      "la_022.nii.gz Dice list by number of clicks (left atrium): [0.6963, 0.7063, 0.7123, 0.7496, 0.7384]\n"
     ]
    },
    {
     "name": "stderr",
     "output_type": "stream",
     "text": [
      " 10%|█         | 2/20 [00:04<00:40,  2.24s/it]"
     ]
    },
    {
     "name": "stdout",
     "output_type": "stream",
     "text": [
      "la_030.nii.gz Dice list by number of clicks (left atrium): [0.6113, 0.6177, 0.6089, 0.685, 0.7253]\n"
     ]
    },
    {
     "name": "stderr",
     "output_type": "stream",
     "text": [
      " 15%|█▌        | 3/20 [00:06<00:37,  2.21s/it]"
     ]
    },
    {
     "name": "stdout",
     "output_type": "stream",
     "text": [
      "la_010.nii.gz Dice list by number of clicks (left atrium): [0.6313, 0.613, 0.6066, 0.5998, 0.6084]\n"
     ]
    },
    {
     "name": "stderr",
     "output_type": "stream",
     "text": [
      " 20%|██        | 4/20 [00:08<00:35,  2.23s/it]"
     ]
    },
    {
     "name": "stdout",
     "output_type": "stream",
     "text": [
      "la_007.nii.gz Dice list by number of clicks (left atrium): [0.6856, 0.623, 0.6272, 0.6004, 0.5536]\n"
     ]
    },
    {
     "name": "stderr",
     "output_type": "stream",
     "text": [
      " 25%|██▌       | 5/20 [00:11<00:33,  2.24s/it]"
     ]
    },
    {
     "name": "stdout",
     "output_type": "stream",
     "text": [
      "la_023.nii.gz Dice list by number of clicks (left atrium): [0.7499, 0.725, 0.7997, 0.8111, 0.8167]\n"
     ]
    },
    {
     "name": "stderr",
     "output_type": "stream",
     "text": [
      " 30%|███       | 6/20 [00:13<00:30,  2.20s/it]"
     ]
    },
    {
     "name": "stdout",
     "output_type": "stream",
     "text": [
      "la_017.nii.gz Dice list by number of clicks (left atrium): [0.5947, 0.6123, 0.6107, 0.6194, 0.6113]\n"
     ]
    },
    {
     "name": "stderr",
     "output_type": "stream",
     "text": [
      " 35%|███▌      | 7/20 [00:15<00:28,  2.19s/it]"
     ]
    },
    {
     "name": "stdout",
     "output_type": "stream",
     "text": [
      "la_016.nii.gz Dice list by number of clicks (left atrium): [0.6944, 0.6743, 0.6688, 0.6596, 0.6495]\n"
     ]
    },
    {
     "name": "stderr",
     "output_type": "stream",
     "text": [
      " 40%|████      | 8/20 [00:17<00:25,  2.11s/it]"
     ]
    },
    {
     "name": "stdout",
     "output_type": "stream",
     "text": [
      "la_029.nii.gz Dice list by number of clicks (left atrium): [0.6247, 0.657, 0.6617, 0.6599, 0.659]\n"
     ]
    },
    {
     "name": "stderr",
     "output_type": "stream",
     "text": [
      " 45%|████▌     | 9/20 [00:19<00:23,  2.11s/it]"
     ]
    },
    {
     "name": "stdout",
     "output_type": "stream",
     "text": [
      "la_024.nii.gz Dice list by number of clicks (left atrium): [0.4194, 0.3414, 0.6209, 0.6734, 0.6643]\n"
     ]
    },
    {
     "name": "stderr",
     "output_type": "stream",
     "text": [
      " 50%|█████     | 10/20 [00:21<00:21,  2.12s/it]"
     ]
    },
    {
     "name": "stdout",
     "output_type": "stream",
     "text": [
      "la_020.nii.gz Dice list by number of clicks (left atrium): [0.6671, 0.6485, 0.6558, 0.6622, 0.6623]\n"
     ]
    },
    {
     "name": "stderr",
     "output_type": "stream",
     "text": [
      " 55%|█████▌    | 11/20 [00:23<00:18,  2.10s/it]"
     ]
    },
    {
     "name": "stdout",
     "output_type": "stream",
     "text": [
      "la_003.nii.gz Dice list by number of clicks (left atrium): [0.1273, 0.4675, 0.5452, 0.7216, 0.6828]\n"
     ]
    },
    {
     "name": "stderr",
     "output_type": "stream",
     "text": [
      " 60%|██████    | 12/20 [00:26<00:17,  2.16s/it]"
     ]
    },
    {
     "name": "stdout",
     "output_type": "stream",
     "text": [
      "la_011.nii.gz Dice list by number of clicks (left atrium): [0.6401, 0.6213, 0.5053, 0.6313, 0.6575]\n"
     ]
    },
    {
     "name": "stderr",
     "output_type": "stream",
     "text": [
      " 65%|██████▌   | 13/20 [00:28<00:15,  2.17s/it]"
     ]
    },
    {
     "name": "stdout",
     "output_type": "stream",
     "text": [
      "la_005.nii.gz Dice list by number of clicks (left atrium): [0.4885, 0.61, 0.5472, 0.6222, 0.6029]\n"
     ]
    },
    {
     "name": "stderr",
     "output_type": "stream",
     "text": [
      " 70%|███████   | 14/20 [00:30<00:13,  2.18s/it]"
     ]
    },
    {
     "name": "stdout",
     "output_type": "stream",
     "text": [
      "la_018.nii.gz Dice list by number of clicks (left atrium): [0.6218, 0.6495, 0.6806, 0.6719, 0.5997]\n"
     ]
    },
    {
     "name": "stderr",
     "output_type": "stream",
     "text": [
      " 75%|███████▌  | 15/20 [00:32<00:10,  2.17s/it]"
     ]
    },
    {
     "name": "stdout",
     "output_type": "stream",
     "text": [
      "la_021.nii.gz Dice list by number of clicks (left atrium): [0.6535, 0.6491, 0.6424, 0.6432, 0.652]\n"
     ]
    },
    {
     "name": "stderr",
     "output_type": "stream",
     "text": [
      " 80%|████████  | 16/20 [00:34<00:08,  2.14s/it]"
     ]
    },
    {
     "name": "stdout",
     "output_type": "stream",
     "text": [
      "la_019.nii.gz Dice list by number of clicks (left atrium): [0.5547, 0.5766, 0.6153, 0.5954, 0.6449]\n"
     ]
    },
    {
     "name": "stderr",
     "output_type": "stream",
     "text": [
      " 85%|████████▌ | 17/20 [00:36<00:06,  2.12s/it]"
     ]
    },
    {
     "name": "stdout",
     "output_type": "stream",
     "text": [
      "la_004.nii.gz Dice list by number of clicks (left atrium): [0.3442, 0.5299, 0.3254, 0.1848, 0.5015]\n"
     ]
    },
    {
     "name": "stderr",
     "output_type": "stream",
     "text": [
      " 90%|█████████ | 18/20 [00:38<00:04,  2.11s/it]"
     ]
    },
    {
     "name": "stdout",
     "output_type": "stream",
     "text": [
      "la_009.nii.gz Dice list by number of clicks (left atrium): [0.6558, 0.5201, 0.6229, 0.6694, 0.66]\n"
     ]
    },
    {
     "name": "stderr",
     "output_type": "stream",
     "text": [
      " 95%|█████████▌| 19/20 [00:40<00:02,  2.12s/it]"
     ]
    },
    {
     "name": "stdout",
     "output_type": "stream",
     "text": [
      "la_026.nii.gz Dice list by number of clicks (left atrium): [0.4259, 0.6687, 0.6265, 0.5641, 0.6514]\n",
      "Save results to /home/t722s/Desktop/Sam-Med3DTest/NetworkHeartModified/eval_res_from_inference.json\n",
      "Done\n"
     ]
    },
    {
     "name": "stderr",
     "output_type": "stream",
     "text": [
      "100%|██████████| 20/20 [00:43<00:00,  2.16s/it]\n"
     ]
    },
    {
     "name": "stdout",
     "output_type": "stream",
     "text": [
      "set seed as 2020\n",
      "Cheating! Cropping around ground truth\n",
      "device: cuda\n"
     ]
    },
    {
     "name": "stderr",
     "output_type": "stream",
     "text": [
      "  0%|          | 0/20 [00:00<?, ?it/s]"
     ]
    },
    {
     "name": "stdout",
     "output_type": "stream",
     "text": [
      "la_014.nii.gz Dice list by number of clicks (left atrium): [0.6542, 0.6534, 0.6486, 0.6339, 0.6296]\n"
     ]
    },
    {
     "name": "stderr",
     "output_type": "stream",
     "text": [
      "  5%|▌         | 1/20 [00:02<00:46,  2.46s/it]"
     ]
    },
    {
     "name": "stdout",
     "output_type": "stream",
     "text": [
      "la_022.nii.gz Dice list by number of clicks (left atrium): [0.6572, 0.7441, 0.7509, 0.764, 0.7712]\n"
     ]
    },
    {
     "name": "stderr",
     "output_type": "stream",
     "text": [
      " 10%|█         | 2/20 [00:04<00:43,  2.42s/it]"
     ]
    },
    {
     "name": "stdout",
     "output_type": "stream",
     "text": [
      "la_030.nii.gz Dice list by number of clicks (left atrium): [0.5947, 0.6025, 0.6111, 0.6007, 0.6769]\n"
     ]
    },
    {
     "name": "stderr",
     "output_type": "stream",
     "text": [
      " 15%|█▌        | 3/20 [00:07<00:39,  2.34s/it]"
     ]
    },
    {
     "name": "stdout",
     "output_type": "stream",
     "text": [
      "la_010.nii.gz Dice list by number of clicks (left atrium): [0.5983, 0.5653, 0.567, 0.561, 0.5464]\n"
     ]
    },
    {
     "name": "stderr",
     "output_type": "stream",
     "text": [
      " 20%|██        | 4/20 [00:09<00:36,  2.31s/it]"
     ]
    },
    {
     "name": "stdout",
     "output_type": "stream",
     "text": [
      "la_007.nii.gz Dice list by number of clicks (left atrium): [0.5146, 0.7243, 0.7004, 0.6295, 0.6872]\n"
     ]
    },
    {
     "name": "stderr",
     "output_type": "stream",
     "text": [
      " 25%|██▌       | 5/20 [00:11<00:34,  2.33s/it]"
     ]
    },
    {
     "name": "stdout",
     "output_type": "stream",
     "text": [
      "la_023.nii.gz Dice list by number of clicks (left atrium): [0.7058, 0.7331, 0.7549, 0.7588, 0.7695]\n"
     ]
    },
    {
     "name": "stderr",
     "output_type": "stream",
     "text": [
      " 30%|███       | 6/20 [00:13<00:32,  2.29s/it]"
     ]
    },
    {
     "name": "stdout",
     "output_type": "stream",
     "text": [
      "la_017.nii.gz Dice list by number of clicks (left atrium): [0.4691, 0.5624, 0.616, 0.6489, 0.6638]\n"
     ]
    },
    {
     "name": "stderr",
     "output_type": "stream",
     "text": [
      " 35%|███▌      | 7/20 [00:16<00:29,  2.30s/it]"
     ]
    },
    {
     "name": "stdout",
     "output_type": "stream",
     "text": [
      "la_016.nii.gz Dice list by number of clicks (left atrium): [0.6455, 0.6583, 0.6682, 0.6725, 0.6553]\n"
     ]
    },
    {
     "name": "stderr",
     "output_type": "stream",
     "text": [
      " 40%|████      | 8/20 [00:18<00:26,  2.22s/it]"
     ]
    },
    {
     "name": "stdout",
     "output_type": "stream",
     "text": [
      "la_029.nii.gz Dice list by number of clicks (left atrium): [0.6142, 0.6228, 0.6087, 0.6173, 0.5864]\n"
     ]
    },
    {
     "name": "stderr",
     "output_type": "stream",
     "text": [
      " 45%|████▌     | 9/20 [00:20<00:24,  2.19s/it]"
     ]
    },
    {
     "name": "stdout",
     "output_type": "stream",
     "text": [
      "la_024.nii.gz Dice list by number of clicks (left atrium): [0.3334, 0.6251, 0.5127, 0.4366, 0.3857]\n"
     ]
    },
    {
     "name": "stderr",
     "output_type": "stream",
     "text": [
      " 50%|█████     | 10/20 [00:22<00:22,  2.21s/it]"
     ]
    },
    {
     "name": "stdout",
     "output_type": "stream",
     "text": [
      "la_020.nii.gz Dice list by number of clicks (left atrium): [0.5776, 0.6649, 0.6421, 0.6419, 0.6389]\n"
     ]
    },
    {
     "name": "stderr",
     "output_type": "stream",
     "text": [
      " 55%|█████▌    | 11/20 [00:24<00:20,  2.23s/it]"
     ]
    },
    {
     "name": "stdout",
     "output_type": "stream",
     "text": [
      "la_003.nii.gz Dice list by number of clicks (left atrium): [0.7114, 0.6968, 0.6832, 0.6122, 0.6673]\n"
     ]
    },
    {
     "name": "stderr",
     "output_type": "stream",
     "text": [
      " 60%|██████    | 12/20 [00:27<00:18,  2.28s/it]"
     ]
    },
    {
     "name": "stdout",
     "output_type": "stream",
     "text": [
      "la_011.nii.gz Dice list by number of clicks (left atrium): [0.4752, 0.5946, 0.6268, 0.6454, 0.6066]\n"
     ]
    },
    {
     "name": "stderr",
     "output_type": "stream",
     "text": [
      " 65%|██████▌   | 13/20 [00:29<00:15,  2.27s/it]"
     ]
    },
    {
     "name": "stdout",
     "output_type": "stream",
     "text": [
      "la_005.nii.gz Dice list by number of clicks (left atrium): [0.4308, 0.5495, 0.5575, 0.6458, 0.6171]\n"
     ]
    },
    {
     "name": "stderr",
     "output_type": "stream",
     "text": [
      " 70%|███████   | 14/20 [00:31<00:13,  2.25s/it]"
     ]
    },
    {
     "name": "stdout",
     "output_type": "stream",
     "text": [
      "la_018.nii.gz Dice list by number of clicks (left atrium): [0.5681, 0.5842, 0.6622, 0.6783, 0.6659]\n"
     ]
    },
    {
     "name": "stderr",
     "output_type": "stream",
     "text": [
      " 75%|███████▌  | 15/20 [00:34<00:11,  2.25s/it]"
     ]
    },
    {
     "name": "stdout",
     "output_type": "stream",
     "text": [
      "la_021.nii.gz Dice list by number of clicks (left atrium): [0.6235, 0.6449, 0.6376, 0.5456, 0.6676]\n"
     ]
    },
    {
     "name": "stderr",
     "output_type": "stream",
     "text": [
      " 80%|████████  | 16/20 [00:36<00:08,  2.24s/it]"
     ]
    },
    {
     "name": "stdout",
     "output_type": "stream",
     "text": [
      "la_019.nii.gz Dice list by number of clicks (left atrium): [0.5902, 0.3896, 0.5579, 0.6698, 0.547]\n"
     ]
    },
    {
     "name": "stderr",
     "output_type": "stream",
     "text": [
      " 85%|████████▌ | 17/20 [00:38<00:06,  2.22s/it]"
     ]
    },
    {
     "name": "stdout",
     "output_type": "stream",
     "text": [
      "la_004.nii.gz Dice list by number of clicks (left atrium): [0.4816, 0.5603, 0.5626, 0.5728, 0.5784]\n"
     ]
    },
    {
     "name": "stderr",
     "output_type": "stream",
     "text": [
      " 90%|█████████ | 18/20 [00:40<00:04,  2.21s/it]"
     ]
    },
    {
     "name": "stdout",
     "output_type": "stream",
     "text": [
      "la_009.nii.gz Dice list by number of clicks (left atrium): [0.643, 0.6005, 0.6615, 0.6181, 0.6275]\n"
     ]
    },
    {
     "name": "stderr",
     "output_type": "stream",
     "text": [
      " 95%|█████████▌| 19/20 [00:42<00:02,  2.20s/it]"
     ]
    },
    {
     "name": "stdout",
     "output_type": "stream",
     "text": [
      "la_026.nii.gz Dice list by number of clicks (left atrium): [0.4145, 0.6476, 0.5424, 0.6394, 0.4233]\n",
      "Save results to /home/t722s/Desktop/Sam-Med3DTest/NetworkHeartModified/eval_res_from_inference.json\n",
      "Done\n"
     ]
    },
    {
     "name": "stderr",
     "output_type": "stream",
     "text": [
      "100%|██████████| 20/20 [00:45<00:00,  2.25s/it]\n"
     ]
    },
    {
     "name": "stdout",
     "output_type": "stream",
     "text": [
      "set seed as 2020\n",
      "Cheating! Cropping around ground truth\n",
      "device: cuda\n"
     ]
    },
    {
     "name": "stderr",
     "output_type": "stream",
     "text": [
      "  0%|          | 0/20 [00:00<?, ?it/s]"
     ]
    },
    {
     "name": "stdout",
     "output_type": "stream",
     "text": [
      "la_014.nii.gz Dice list by number of clicks (left atrium): [0.5144, 0.651, 0.6157, 0.6182, 0.6263]\n"
     ]
    },
    {
     "name": "stderr",
     "output_type": "stream",
     "text": [
      "  5%|▌         | 1/20 [00:02<00:46,  2.43s/it]"
     ]
    },
    {
     "name": "stdout",
     "output_type": "stream",
     "text": [
      "la_022.nii.gz Dice list by number of clicks (left atrium): [0.5721, 0.7291, 0.7296, 0.7138, 0.7016]\n"
     ]
    },
    {
     "name": "stderr",
     "output_type": "stream",
     "text": [
      " 10%|█         | 2/20 [00:04<00:41,  2.31s/it]"
     ]
    },
    {
     "name": "stdout",
     "output_type": "stream",
     "text": [
      "la_030.nii.gz Dice list by number of clicks (left atrium): [0.5972, 0.6248, 0.6104, 0.6056, 0.5981]\n"
     ]
    },
    {
     "name": "stderr",
     "output_type": "stream",
     "text": [
      " 15%|█▌        | 3/20 [00:06<00:39,  2.30s/it]"
     ]
    },
    {
     "name": "stdout",
     "output_type": "stream",
     "text": [
      "la_010.nii.gz Dice list by number of clicks (left atrium): [0.3873, 0.5931, 0.5846, 0.5722, 0.5918]\n"
     ]
    },
    {
     "name": "stderr",
     "output_type": "stream",
     "text": [
      " 20%|██        | 4/20 [00:09<00:37,  2.32s/it]"
     ]
    },
    {
     "name": "stdout",
     "output_type": "stream",
     "text": [
      "la_007.nii.gz Dice list by number of clicks (left atrium): [0.5987, 0.5916, 0.5193, 0.5934, 0.5848]\n"
     ]
    },
    {
     "name": "stderr",
     "output_type": "stream",
     "text": [
      " 25%|██▌       | 5/20 [00:11<00:36,  2.41s/it]"
     ]
    },
    {
     "name": "stdout",
     "output_type": "stream",
     "text": [
      "la_023.nii.gz Dice list by number of clicks (left atrium): [0.7222, 0.7507, 0.7578, 0.7634, 0.7671]\n"
     ]
    },
    {
     "name": "stderr",
     "output_type": "stream",
     "text": [
      " 30%|███       | 6/20 [00:14<00:32,  2.35s/it]"
     ]
    },
    {
     "name": "stdout",
     "output_type": "stream",
     "text": [
      "la_017.nii.gz Dice list by number of clicks (left atrium): [0.5868, 0.6153, 0.5723, 0.6221, 0.635]\n"
     ]
    },
    {
     "name": "stderr",
     "output_type": "stream",
     "text": [
      " 35%|███▌      | 7/20 [00:16<00:30,  2.35s/it]"
     ]
    },
    {
     "name": "stdout",
     "output_type": "stream",
     "text": [
      "la_016.nii.gz Dice list by number of clicks (left atrium): [0.6152, 0.6543, 0.6513, 0.6659, 0.7074]\n"
     ]
    },
    {
     "name": "stderr",
     "output_type": "stream",
     "text": [
      " 40%|████      | 8/20 [00:18<00:27,  2.30s/it]"
     ]
    },
    {
     "name": "stdout",
     "output_type": "stream",
     "text": [
      "la_029.nii.gz Dice list by number of clicks (left atrium): [0.6207, 0.6251, 0.6087, 0.5654, 0.5911]\n"
     ]
    },
    {
     "name": "stderr",
     "output_type": "stream",
     "text": [
      " 45%|████▌     | 9/20 [00:20<00:24,  2.26s/it]"
     ]
    },
    {
     "name": "stdout",
     "output_type": "stream",
     "text": [
      "la_024.nii.gz Dice list by number of clicks (left atrium): [0.6416, 0.6233, 0.5954, 0.6106, 0.6054]\n"
     ]
    },
    {
     "name": "stderr",
     "output_type": "stream",
     "text": [
      " 50%|█████     | 10/20 [00:23<00:22,  2.29s/it]"
     ]
    },
    {
     "name": "stdout",
     "output_type": "stream",
     "text": [
      "la_020.nii.gz Dice list by number of clicks (left atrium): [0.6308, 0.6029, 0.6628, 0.6162, 0.6326]\n"
     ]
    },
    {
     "name": "stderr",
     "output_type": "stream",
     "text": [
      " 55%|█████▌    | 11/20 [00:25<00:21,  2.34s/it]"
     ]
    },
    {
     "name": "stdout",
     "output_type": "stream",
     "text": [
      "la_003.nii.gz Dice list by number of clicks (left atrium): [0.63, 0.6341, 0.7034, 0.5143, 0.6421]\n"
     ]
    },
    {
     "name": "stderr",
     "output_type": "stream",
     "text": [
      " 60%|██████    | 12/20 [00:28<00:19,  2.41s/it]"
     ]
    },
    {
     "name": "stdout",
     "output_type": "stream",
     "text": [
      "la_011.nii.gz Dice list by number of clicks (left atrium): [0.6221, 0.6224, 0.6271, 0.636, 0.6655]\n"
     ]
    },
    {
     "name": "stderr",
     "output_type": "stream",
     "text": [
      " 65%|██████▌   | 13/20 [00:30<00:16,  2.38s/it]"
     ]
    },
    {
     "name": "stdout",
     "output_type": "stream",
     "text": [
      "la_005.nii.gz Dice list by number of clicks (left atrium): [0.6341, 0.663, 0.6626, 0.6228, 0.594]\n"
     ]
    },
    {
     "name": "stderr",
     "output_type": "stream",
     "text": [
      " 70%|███████   | 14/20 [00:33<00:15,  2.52s/it]"
     ]
    },
    {
     "name": "stdout",
     "output_type": "stream",
     "text": [
      "la_018.nii.gz Dice list by number of clicks (left atrium): [0.5993, 0.6019, 0.6488, 0.6449, 0.661]\n"
     ]
    },
    {
     "name": "stderr",
     "output_type": "stream",
     "text": [
      " 75%|███████▌  | 15/20 [00:36<00:13,  2.70s/it]"
     ]
    },
    {
     "name": "stdout",
     "output_type": "stream",
     "text": [
      "la_021.nii.gz Dice list by number of clicks (left atrium): [0.6752, 0.7009, 0.6881, 0.7071, 0.6834]\n"
     ]
    },
    {
     "name": "stderr",
     "output_type": "stream",
     "text": [
      " 80%|████████  | 16/20 [00:38<00:10,  2.65s/it]"
     ]
    },
    {
     "name": "stdout",
     "output_type": "stream",
     "text": [
      "la_019.nii.gz Dice list by number of clicks (left atrium): [0.6135, 0.6594, 0.6169, 0.6359, 0.6278]\n"
     ]
    },
    {
     "name": "stderr",
     "output_type": "stream",
     "text": [
      " 85%|████████▌ | 17/20 [00:41<00:07,  2.65s/it]"
     ]
    },
    {
     "name": "stdout",
     "output_type": "stream",
     "text": [
      "la_004.nii.gz Dice list by number of clicks (left atrium): [0.6282, 0.6328, 0.3002, 0.4571, 0.5823]\n"
     ]
    },
    {
     "name": "stderr",
     "output_type": "stream",
     "text": [
      " 90%|█████████ | 18/20 [00:44<00:05,  2.57s/it]"
     ]
    },
    {
     "name": "stdout",
     "output_type": "stream",
     "text": [
      "la_009.nii.gz Dice list by number of clicks (left atrium): [0.6385, 0.6416, 0.6193, 0.669, 0.6444]\n"
     ]
    },
    {
     "name": "stderr",
     "output_type": "stream",
     "text": [
      " 95%|█████████▌| 19/20 [00:46<00:02,  2.46s/it]"
     ]
    },
    {
     "name": "stdout",
     "output_type": "stream",
     "text": [
      "la_026.nii.gz Dice list by number of clicks (left atrium): [0.6178, 0.594, 0.6826, 0.6444, 0.5392]\n",
      "Save results to /home/t722s/Desktop/Sam-Med3DTest/NetworkHeartModified/eval_res_from_inference.json\n",
      "Done\n"
     ]
    },
    {
     "name": "stderr",
     "output_type": "stream",
     "text": [
      "100%|██████████| 20/20 [00:48<00:00,  2.43s/it]\n"
     ]
    },
    {
     "name": "stdout",
     "output_type": "stream",
     "text": [
      "set seed as 2020\n",
      "Cheating! Cropping around ground truth\n",
      "device: cuda\n"
     ]
    },
    {
     "name": "stderr",
     "output_type": "stream",
     "text": [
      "  0%|          | 0/20 [00:00<?, ?it/s]"
     ]
    },
    {
     "name": "stdout",
     "output_type": "stream",
     "text": [
      "la_014.nii.gz Dice list by number of clicks (left atrium): [0.633, 0.6663, 0.6819, 0.6842, 0.6785]\n"
     ]
    },
    {
     "name": "stderr",
     "output_type": "stream",
     "text": [
      "  5%|▌         | 1/20 [00:03<00:57,  3.02s/it]"
     ]
    },
    {
     "name": "stdout",
     "output_type": "stream",
     "text": [
      "la_022.nii.gz Dice list by number of clicks (left atrium): [0.7295, 0.7572, 0.6872, 0.7266, 0.7517]\n"
     ]
    },
    {
     "name": "stderr",
     "output_type": "stream",
     "text": [
      " 10%|█         | 2/20 [00:05<00:47,  2.62s/it]"
     ]
    },
    {
     "name": "stdout",
     "output_type": "stream",
     "text": [
      "la_030.nii.gz Dice list by number of clicks (left atrium): [0.6473, 0.5697, 0.671, 0.6331, 0.5815]\n"
     ]
    },
    {
     "name": "stderr",
     "output_type": "stream",
     "text": [
      " 15%|█▌        | 3/20 [00:07<00:44,  2.61s/it]"
     ]
    },
    {
     "name": "stdout",
     "output_type": "stream",
     "text": [
      "la_010.nii.gz Dice list by number of clicks (left atrium): [0.6264, 0.5775, 0.5848, 0.5765, 0.5685]\n"
     ]
    },
    {
     "name": "stderr",
     "output_type": "stream",
     "text": [
      " 20%|██        | 4/20 [00:10<00:42,  2.66s/it]"
     ]
    },
    {
     "name": "stdout",
     "output_type": "stream",
     "text": [
      "la_007.nii.gz Dice list by number of clicks (left atrium): [0.5089, 0.5483, 0.5621, 0.6033, 0.6054]\n"
     ]
    },
    {
     "name": "stderr",
     "output_type": "stream",
     "text": [
      " 25%|██▌       | 5/20 [00:13<00:41,  2.76s/it]"
     ]
    },
    {
     "name": "stdout",
     "output_type": "stream",
     "text": [
      "la_023.nii.gz Dice list by number of clicks (left atrium): [0.6595, 0.6881, 0.7152, 0.7292, 0.7543]\n"
     ]
    },
    {
     "name": "stderr",
     "output_type": "stream",
     "text": [
      " 30%|███       | 6/20 [00:16<00:38,  2.75s/it]"
     ]
    },
    {
     "name": "stdout",
     "output_type": "stream",
     "text": [
      "la_017.nii.gz Dice list by number of clicks (left atrium): [0.6304, 0.6307, 0.6296, 0.6164, 0.5966]\n"
     ]
    },
    {
     "name": "stderr",
     "output_type": "stream",
     "text": [
      " 35%|███▌      | 7/20 [00:18<00:34,  2.68s/it]"
     ]
    },
    {
     "name": "stdout",
     "output_type": "stream",
     "text": [
      "la_016.nii.gz Dice list by number of clicks (left atrium): [0.6707, 0.695, 0.7059, 0.7305, 0.7441]\n"
     ]
    },
    {
     "name": "stderr",
     "output_type": "stream",
     "text": [
      " 40%|████      | 8/20 [00:21<00:31,  2.58s/it]"
     ]
    },
    {
     "name": "stdout",
     "output_type": "stream",
     "text": [
      "la_029.nii.gz Dice list by number of clicks (left atrium): [0.5105, 0.5813, 0.628, 0.6232, 0.5899]\n"
     ]
    },
    {
     "name": "stderr",
     "output_type": "stream",
     "text": [
      " 45%|████▌     | 9/20 [00:23<00:27,  2.48s/it]"
     ]
    },
    {
     "name": "stdout",
     "output_type": "stream",
     "text": [
      "la_024.nii.gz Dice list by number of clicks (left atrium): [0.3759, 0.6176, 0.5057, 0.556, 0.5864]\n"
     ]
    },
    {
     "name": "stderr",
     "output_type": "stream",
     "text": [
      " 50%|█████     | 10/20 [00:26<00:25,  2.55s/it]"
     ]
    },
    {
     "name": "stdout",
     "output_type": "stream",
     "text": [
      "la_020.nii.gz Dice list by number of clicks (left atrium): [0.5498, 0.6651, 0.6293, 0.644, 0.6616]\n"
     ]
    },
    {
     "name": "stderr",
     "output_type": "stream",
     "text": [
      " 55%|█████▌    | 11/20 [00:29<00:24,  2.69s/it]"
     ]
    },
    {
     "name": "stdout",
     "output_type": "stream",
     "text": [
      "la_003.nii.gz Dice list by number of clicks (left atrium): [0.7288, 0.7079, 0.7821, 0.6257, 0.7095]\n"
     ]
    },
    {
     "name": "stderr",
     "output_type": "stream",
     "text": [
      " 60%|██████    | 12/20 [00:31<00:21,  2.66s/it]"
     ]
    },
    {
     "name": "stdout",
     "output_type": "stream",
     "text": [
      "la_011.nii.gz Dice list by number of clicks (left atrium): [0.4586, 0.5808, 0.6477, 0.657, 0.6657]\n"
     ]
    },
    {
     "name": "stderr",
     "output_type": "stream",
     "text": [
      " 65%|██████▌   | 13/20 [00:34<00:18,  2.60s/it]"
     ]
    },
    {
     "name": "stdout",
     "output_type": "stream",
     "text": [
      "la_005.nii.gz Dice list by number of clicks (left atrium): [0.488, 0.5469, 0.5375, 0.5464, 0.5621]\n"
     ]
    },
    {
     "name": "stderr",
     "output_type": "stream",
     "text": [
      " 70%|███████   | 14/20 [00:37<00:15,  2.65s/it]"
     ]
    },
    {
     "name": "stdout",
     "output_type": "stream",
     "text": [
      "la_018.nii.gz Dice list by number of clicks (left atrium): [0.6023, 0.5648, 0.6209, 0.6671, 0.6609]\n"
     ]
    },
    {
     "name": "stderr",
     "output_type": "stream",
     "text": [
      " 75%|███████▌  | 15/20 [00:39<00:13,  2.68s/it]"
     ]
    },
    {
     "name": "stdout",
     "output_type": "stream",
     "text": [
      "la_021.nii.gz Dice list by number of clicks (left atrium): [0.6057, 0.6707, 0.6549, 0.6359, 0.5886]\n"
     ]
    },
    {
     "name": "stderr",
     "output_type": "stream",
     "text": [
      " 80%|████████  | 16/20 [00:42<00:10,  2.70s/it]"
     ]
    },
    {
     "name": "stdout",
     "output_type": "stream",
     "text": [
      "la_019.nii.gz Dice list by number of clicks (left atrium): [0.5036, 0.5791, 0.6082, 0.5489, 0.6257]\n"
     ]
    },
    {
     "name": "stderr",
     "output_type": "stream",
     "text": [
      " 85%|████████▌ | 17/20 [00:45<00:08,  2.75s/it]"
     ]
    },
    {
     "name": "stdout",
     "output_type": "stream",
     "text": [
      "la_004.nii.gz Dice list by number of clicks (left atrium): [0.5817, 0.297, 0.5597, 0.5352, 0.5798]\n"
     ]
    },
    {
     "name": "stderr",
     "output_type": "stream",
     "text": [
      " 90%|█████████ | 18/20 [00:48<00:05,  2.80s/it]"
     ]
    },
    {
     "name": "stdout",
     "output_type": "stream",
     "text": [
      "la_009.nii.gz Dice list by number of clicks (left atrium): [0.4433, 0.5627, 0.5708, 0.5735, 0.5571]\n"
     ]
    },
    {
     "name": "stderr",
     "output_type": "stream",
     "text": [
      " 95%|█████████▌| 19/20 [00:50<00:02,  2.75s/it]"
     ]
    },
    {
     "name": "stdout",
     "output_type": "stream",
     "text": [
      "la_026.nii.gz Dice list by number of clicks (left atrium): [0.544, 0.6735, 0.4549, 0.5487, 0.5705]\n",
      "Save results to /home/t722s/Desktop/Sam-Med3DTest/NetworkHeartModified/eval_res_from_inference.json\n",
      "Done\n"
     ]
    },
    {
     "name": "stderr",
     "output_type": "stream",
     "text": [
      "100%|██████████| 20/20 [00:53<00:00,  2.68s/it]\n"
     ]
    },
    {
     "name": "stdout",
     "output_type": "stream",
     "text": [
      "set seed as 2020\n",
      "Cheating! Cropping around ground truth\n",
      "device: cuda\n"
     ]
    },
    {
     "name": "stderr",
     "output_type": "stream",
     "text": [
      "  0%|          | 0/20 [00:00<?, ?it/s]"
     ]
    },
    {
     "name": "stdout",
     "output_type": "stream",
     "text": [
      "la_014.nii.gz Dice list by number of clicks (left atrium): [0.5425, 0.6402, 0.6638, 0.6764, 0.6822]\n"
     ]
    },
    {
     "name": "stderr",
     "output_type": "stream",
     "text": [
      "  5%|▌         | 1/20 [00:03<01:03,  3.36s/it]"
     ]
    },
    {
     "name": "stdout",
     "output_type": "stream",
     "text": [
      "la_022.nii.gz Dice list by number of clicks (left atrium): [0.769, 0.7391, 0.7153, 0.7082, 0.6952]\n"
     ]
    },
    {
     "name": "stderr",
     "output_type": "stream",
     "text": [
      " 10%|█         | 2/20 [00:06<00:56,  3.13s/it]"
     ]
    },
    {
     "name": "stdout",
     "output_type": "stream",
     "text": [
      "la_030.nii.gz Dice list by number of clicks (left atrium): [0.5967, 0.5982, 0.6018, 0.6076, 0.6059]\n"
     ]
    },
    {
     "name": "stderr",
     "output_type": "stream",
     "text": [
      " 15%|█▌        | 3/20 [00:09<00:49,  2.94s/it]"
     ]
    },
    {
     "name": "stdout",
     "output_type": "stream",
     "text": [
      "la_010.nii.gz Dice list by number of clicks (left atrium): [0.5827, 0.5635, 0.5561, 0.5994, 0.5934]\n"
     ]
    },
    {
     "name": "stderr",
     "output_type": "stream",
     "text": [
      " 20%|██        | 4/20 [00:12<00:47,  2.96s/it]"
     ]
    },
    {
     "name": "stdout",
     "output_type": "stream",
     "text": [
      "la_007.nii.gz Dice list by number of clicks (left atrium): [0.5633, 0.5923, 0.5839, 0.5586, 0.5847]\n"
     ]
    },
    {
     "name": "stderr",
     "output_type": "stream",
     "text": [
      " 25%|██▌       | 5/20 [00:15<00:44,  3.00s/it]"
     ]
    },
    {
     "name": "stdout",
     "output_type": "stream",
     "text": [
      "la_023.nii.gz Dice list by number of clicks (left atrium): [0.7069, 0.6959, 0.7347, 0.7187, 0.7383]\n"
     ]
    },
    {
     "name": "stderr",
     "output_type": "stream",
     "text": [
      " 30%|███       | 6/20 [00:17<00:39,  2.79s/it]"
     ]
    },
    {
     "name": "stdout",
     "output_type": "stream",
     "text": [
      "la_017.nii.gz Dice list by number of clicks (left atrium): [0.5603, 0.5785, 0.6177, 0.6197, 0.6141]\n"
     ]
    },
    {
     "name": "stderr",
     "output_type": "stream",
     "text": [
      " 35%|███▌      | 7/20 [00:20<00:35,  2.76s/it]"
     ]
    },
    {
     "name": "stdout",
     "output_type": "stream",
     "text": [
      "la_016.nii.gz Dice list by number of clicks (left atrium): [0.672, 0.7103, 0.7525, 0.7441, 0.752]\n"
     ]
    },
    {
     "name": "stderr",
     "output_type": "stream",
     "text": [
      " 40%|████      | 8/20 [00:22<00:30,  2.53s/it]"
     ]
    },
    {
     "name": "stdout",
     "output_type": "stream",
     "text": [
      "la_029.nii.gz Dice list by number of clicks (left atrium): [0.5581, 0.5968, 0.6091, 0.6266, 0.6255]\n"
     ]
    },
    {
     "name": "stderr",
     "output_type": "stream",
     "text": [
      " 45%|████▌     | 9/20 [00:24<00:27,  2.46s/it]"
     ]
    },
    {
     "name": "stdout",
     "output_type": "stream",
     "text": [
      "la_024.nii.gz Dice list by number of clicks (left atrium): [0.669, 0.5686, 0.6797, 0.6746, 0.665]\n"
     ]
    },
    {
     "name": "stderr",
     "output_type": "stream",
     "text": [
      " 50%|█████     | 10/20 [00:26<00:24,  2.45s/it]"
     ]
    },
    {
     "name": "stdout",
     "output_type": "stream",
     "text": [
      "la_020.nii.gz Dice list by number of clicks (left atrium): [0.6666, 0.6899, 0.6617, 0.5678, 0.6381]\n"
     ]
    },
    {
     "name": "stderr",
     "output_type": "stream",
     "text": [
      " 55%|█████▌    | 11/20 [00:29<00:23,  2.59s/it]"
     ]
    },
    {
     "name": "stdout",
     "output_type": "stream",
     "text": [
      "la_003.nii.gz Dice list by number of clicks (left atrium): [0.7309, 0.5086, 0.4883, 0.6613, 0.6902]\n"
     ]
    },
    {
     "name": "stderr",
     "output_type": "stream",
     "text": [
      " 60%|██████    | 12/20 [00:32<00:20,  2.61s/it]"
     ]
    },
    {
     "name": "stdout",
     "output_type": "stream",
     "text": [
      "la_011.nii.gz Dice list by number of clicks (left atrium): [0.5198, 0.6327, 0.5533, 0.4746, 0.5321]\n"
     ]
    },
    {
     "name": "stderr",
     "output_type": "stream",
     "text": [
      " 65%|██████▌   | 13/20 [00:34<00:17,  2.57s/it]"
     ]
    },
    {
     "name": "stdout",
     "output_type": "stream",
     "text": [
      "la_005.nii.gz Dice list by number of clicks (left atrium): [0.4945, 0.5447, 0.6629, 0.6774, 0.6415]\n"
     ]
    },
    {
     "name": "stderr",
     "output_type": "stream",
     "text": [
      " 70%|███████   | 14/20 [00:37<00:14,  2.50s/it]"
     ]
    },
    {
     "name": "stdout",
     "output_type": "stream",
     "text": [
      "la_018.nii.gz Dice list by number of clicks (left atrium): [0.6486, 0.6336, 0.5129, 0.5416, 0.6605]\n"
     ]
    },
    {
     "name": "stderr",
     "output_type": "stream",
     "text": [
      " 75%|███████▌  | 15/20 [00:40<00:13,  2.60s/it]"
     ]
    },
    {
     "name": "stdout",
     "output_type": "stream",
     "text": [
      "la_021.nii.gz Dice list by number of clicks (left atrium): [0.6098, 0.4996, 0.6856, 0.6768, 0.622]\n"
     ]
    },
    {
     "name": "stderr",
     "output_type": "stream",
     "text": [
      " 80%|████████  | 16/20 [00:42<00:10,  2.53s/it]"
     ]
    },
    {
     "name": "stdout",
     "output_type": "stream",
     "text": [
      "la_019.nii.gz Dice list by number of clicks (left atrium): [0.575, 0.6544, 0.6205, 0.6621, 0.5802]\n"
     ]
    },
    {
     "name": "stderr",
     "output_type": "stream",
     "text": [
      " 85%|████████▌ | 17/20 [00:45<00:07,  2.53s/it]"
     ]
    },
    {
     "name": "stdout",
     "output_type": "stream",
     "text": [
      "la_004.nii.gz Dice list by number of clicks (left atrium): [0.3921, 0.3258, 0.4897, 0.6153, 0.5705]\n"
     ]
    },
    {
     "name": "stderr",
     "output_type": "stream",
     "text": [
      " 90%|█████████ | 18/20 [00:47<00:05,  2.60s/it]"
     ]
    },
    {
     "name": "stdout",
     "output_type": "stream",
     "text": [
      "la_009.nii.gz Dice list by number of clicks (left atrium): [0.5656, 0.4276, 0.5509, 0.5917, 0.6337]\n"
     ]
    },
    {
     "name": "stderr",
     "output_type": "stream",
     "text": [
      " 95%|█████████▌| 19/20 [00:50<00:02,  2.56s/it]"
     ]
    },
    {
     "name": "stdout",
     "output_type": "stream",
     "text": [
      "la_026.nii.gz Dice list by number of clicks (left atrium): [0.5672, 0.6221, 0.6881, 0.5306, 0.581]\n",
      "Save results to /home/t722s/Desktop/Sam-Med3DTest/NetworkHeartModified/eval_res_from_inference.json\n",
      "Done\n"
     ]
    },
    {
     "name": "stderr",
     "output_type": "stream",
     "text": [
      "100%|██████████| 20/20 [00:52<00:00,  2.63s/it]\n"
     ]
    },
    {
     "name": "stdout",
     "output_type": "stream",
     "text": [
      "set seed as 2020\n",
      "Cheating! Cropping around ground truth\n",
      "device: cuda\n"
     ]
    },
    {
     "name": "stderr",
     "output_type": "stream",
     "text": [
      "  0%|          | 0/20 [00:00<?, ?it/s]"
     ]
    },
    {
     "name": "stdout",
     "output_type": "stream",
     "text": [
      "la_014.nii.gz Dice list by number of clicks (left atrium): [0.614, 0.6509, 0.6461, 0.6311, 0.6302]\n"
     ]
    },
    {
     "name": "stderr",
     "output_type": "stream",
     "text": [
      "  5%|▌         | 1/20 [00:02<00:50,  2.65s/it]"
     ]
    },
    {
     "name": "stdout",
     "output_type": "stream",
     "text": [
      "la_022.nii.gz Dice list by number of clicks (left atrium): [0.743, 0.7367, 0.7276, 0.7228, 0.778]\n"
     ]
    },
    {
     "name": "stderr",
     "output_type": "stream",
     "text": [
      " 10%|█         | 2/20 [00:04<00:43,  2.39s/it]"
     ]
    },
    {
     "name": "stdout",
     "output_type": "stream",
     "text": [
      "la_030.nii.gz Dice list by number of clicks (left atrium): [0.6228, 0.6372, 0.6248, 0.6153, 0.6282]\n"
     ]
    },
    {
     "name": "stderr",
     "output_type": "stream",
     "text": [
      " 15%|█▌        | 3/20 [00:07<00:38,  2.29s/it]"
     ]
    },
    {
     "name": "stdout",
     "output_type": "stream",
     "text": [
      "la_010.nii.gz Dice list by number of clicks (left atrium): [0.2896, 0.6209, 0.647, 0.6404, 0.6378]\n"
     ]
    },
    {
     "name": "stderr",
     "output_type": "stream",
     "text": [
      " 20%|██        | 4/20 [00:09<00:36,  2.27s/it]"
     ]
    },
    {
     "name": "stdout",
     "output_type": "stream",
     "text": [
      "la_007.nii.gz Dice list by number of clicks (left atrium): [0.5903, 0.5966, 0.5974, 0.606, 0.7118]\n"
     ]
    },
    {
     "name": "stderr",
     "output_type": "stream",
     "text": [
      " 25%|██▌       | 5/20 [00:11<00:34,  2.32s/it]"
     ]
    },
    {
     "name": "stdout",
     "output_type": "stream",
     "text": [
      "la_023.nii.gz Dice list by number of clicks (left atrium): [0.5836, 0.6211, 0.7583, 0.7478, 0.7792]\n"
     ]
    },
    {
     "name": "stderr",
     "output_type": "stream",
     "text": [
      " 30%|███       | 6/20 [00:14<00:32,  2.33s/it]"
     ]
    },
    {
     "name": "stdout",
     "output_type": "stream",
     "text": [
      "la_017.nii.gz Dice list by number of clicks (left atrium): [0.5778, 0.5747, 0.6048, 0.6204, 0.6205]\n"
     ]
    },
    {
     "name": "stderr",
     "output_type": "stream",
     "text": [
      " 35%|███▌      | 7/20 [00:16<00:32,  2.49s/it]"
     ]
    },
    {
     "name": "stdout",
     "output_type": "stream",
     "text": [
      "la_016.nii.gz Dice list by number of clicks (left atrium): [0.6737, 0.6699, 0.6586, 0.6682, 0.6702]\n"
     ]
    },
    {
     "name": "stderr",
     "output_type": "stream",
     "text": [
      " 40%|████      | 8/20 [00:18<00:28,  2.38s/it]"
     ]
    },
    {
     "name": "stdout",
     "output_type": "stream",
     "text": [
      "la_029.nii.gz Dice list by number of clicks (left atrium): [0.6206, 0.6275, 0.5561, 0.6243, 0.5814]\n"
     ]
    },
    {
     "name": "stderr",
     "output_type": "stream",
     "text": [
      " 45%|████▌     | 9/20 [00:21<00:25,  2.33s/it]"
     ]
    },
    {
     "name": "stdout",
     "output_type": "stream",
     "text": [
      "la_024.nii.gz Dice list by number of clicks (left atrium): [0.5352, 0.5194, 0.6677, 0.5576, 0.6299]\n"
     ]
    },
    {
     "name": "stderr",
     "output_type": "stream",
     "text": [
      " 50%|█████     | 10/20 [00:23<00:23,  2.30s/it]"
     ]
    },
    {
     "name": "stdout",
     "output_type": "stream",
     "text": [
      "la_020.nii.gz Dice list by number of clicks (left atrium): [0.6217, 0.686, 0.5415, 0.5638, 0.6707]\n"
     ]
    },
    {
     "name": "stderr",
     "output_type": "stream",
     "text": [
      " 55%|█████▌    | 11/20 [00:25<00:20,  2.26s/it]"
     ]
    },
    {
     "name": "stdout",
     "output_type": "stream",
     "text": [
      "la_003.nii.gz Dice list by number of clicks (left atrium): [0.7607, 0.6791, 0.6791, 0.7001, 0.7069]\n"
     ]
    },
    {
     "name": "stderr",
     "output_type": "stream",
     "text": [
      " 60%|██████    | 12/20 [00:28<00:18,  2.30s/it]"
     ]
    },
    {
     "name": "stdout",
     "output_type": "stream",
     "text": [
      "la_011.nii.gz Dice list by number of clicks (left atrium): [0.4312, 0.5848, 0.4733, 0.6469, 0.6755]\n"
     ]
    },
    {
     "name": "stderr",
     "output_type": "stream",
     "text": [
      " 65%|██████▌   | 13/20 [00:30<00:16,  2.37s/it]"
     ]
    },
    {
     "name": "stdout",
     "output_type": "stream",
     "text": [
      "la_005.nii.gz Dice list by number of clicks (left atrium): [0.501, 0.532, 0.5115, 0.6484, 0.5693]\n"
     ]
    },
    {
     "name": "stderr",
     "output_type": "stream",
     "text": [
      " 70%|███████   | 14/20 [00:33<00:15,  2.57s/it]"
     ]
    },
    {
     "name": "stdout",
     "output_type": "stream",
     "text": [
      "la_018.nii.gz Dice list by number of clicks (left atrium): [0.3788, 0.568, 0.6225, 0.5404, 0.6137]\n"
     ]
    },
    {
     "name": "stderr",
     "output_type": "stream",
     "text": [
      " 75%|███████▌  | 15/20 [00:36<00:13,  2.73s/it]"
     ]
    },
    {
     "name": "stdout",
     "output_type": "stream",
     "text": [
      "la_021.nii.gz Dice list by number of clicks (left atrium): [0.6213, 0.6634, 0.6481, 0.6625, 0.5659]\n"
     ]
    },
    {
     "name": "stderr",
     "output_type": "stream",
     "text": [
      " 80%|████████  | 16/20 [00:38<00:10,  2.58s/it]"
     ]
    },
    {
     "name": "stdout",
     "output_type": "stream",
     "text": [
      "la_019.nii.gz Dice list by number of clicks (left atrium): [0.5733, 0.6505, 0.5147, 0.5816, 0.6292]\n"
     ]
    },
    {
     "name": "stderr",
     "output_type": "stream",
     "text": [
      " 85%|████████▌ | 17/20 [00:41<00:07,  2.60s/it]"
     ]
    },
    {
     "name": "stdout",
     "output_type": "stream",
     "text": [
      "la_004.nii.gz Dice list by number of clicks (left atrium): [0.3672, 0.5612, 0.4422, 0.2938, 0.4641]\n"
     ]
    },
    {
     "name": "stderr",
     "output_type": "stream",
     "text": [
      " 90%|█████████ | 18/20 [00:43<00:05,  2.52s/it]"
     ]
    },
    {
     "name": "stdout",
     "output_type": "stream",
     "text": [
      "la_009.nii.gz Dice list by number of clicks (left atrium): [0.6293, 0.6271, 0.5868, 0.621, 0.6145]\n"
     ]
    },
    {
     "name": "stderr",
     "output_type": "stream",
     "text": [
      " 95%|█████████▌| 19/20 [00:45<00:02,  2.39s/it]"
     ]
    },
    {
     "name": "stdout",
     "output_type": "stream",
     "text": [
      "la_026.nii.gz Dice list by number of clicks (left atrium): [0.5683, 0.6685, 0.4549, 0.6084, 0.5001]\n",
      "Save results to /home/t722s/Desktop/Sam-Med3DTest/NetworkHeartModified/eval_res_from_inference.json\n",
      "Done\n"
     ]
    },
    {
     "name": "stderr",
     "output_type": "stream",
     "text": [
      "100%|██████████| 20/20 [00:48<00:00,  2.41s/it]\n"
     ]
    },
    {
     "name": "stdout",
     "output_type": "stream",
     "text": [
      "set seed as 2020\n",
      "Cheating! Cropping around ground truth\n",
      "device: cuda\n"
     ]
    },
    {
     "name": "stderr",
     "output_type": "stream",
     "text": [
      "  0%|          | 0/20 [00:00<?, ?it/s]"
     ]
    },
    {
     "name": "stdout",
     "output_type": "stream",
     "text": [
      "la_014.nii.gz Dice list by number of clicks (left atrium): [0.6221, 0.6206, 0.6267, 0.6316, 0.632]\n"
     ]
    },
    {
     "name": "stderr",
     "output_type": "stream",
     "text": [
      "  5%|▌         | 1/20 [00:02<00:48,  2.56s/it]"
     ]
    },
    {
     "name": "stdout",
     "output_type": "stream",
     "text": [
      "la_022.nii.gz Dice list by number of clicks (left atrium): [0.5261, 0.6978, 0.7134, 0.7046, 0.6749]\n"
     ]
    },
    {
     "name": "stderr",
     "output_type": "stream",
     "text": [
      " 10%|█         | 2/20 [00:04<00:43,  2.43s/it]"
     ]
    },
    {
     "name": "stdout",
     "output_type": "stream",
     "text": [
      "la_030.nii.gz Dice list by number of clicks (left atrium): [0.6142, 0.6342, 0.6265, 0.6151, 0.6085]\n"
     ]
    },
    {
     "name": "stderr",
     "output_type": "stream",
     "text": [
      " 15%|█▌        | 3/20 [00:07<00:40,  2.41s/it]"
     ]
    },
    {
     "name": "stdout",
     "output_type": "stream",
     "text": [
      "la_010.nii.gz Dice list by number of clicks (left atrium): [0.6237, 0.6412, 0.6245, 0.5853, 0.5821]\n"
     ]
    },
    {
     "name": "stderr",
     "output_type": "stream",
     "text": [
      " 20%|██        | 4/20 [00:09<00:38,  2.44s/it]"
     ]
    },
    {
     "name": "stdout",
     "output_type": "stream",
     "text": [
      "la_007.nii.gz Dice list by number of clicks (left atrium): [0.5278, 0.6078, 0.6106, 0.5633, 0.5267]\n"
     ]
    },
    {
     "name": "stderr",
     "output_type": "stream",
     "text": [
      " 25%|██▌       | 5/20 [00:12<00:36,  2.45s/it]"
     ]
    },
    {
     "name": "stdout",
     "output_type": "stream",
     "text": [
      "la_023.nii.gz Dice list by number of clicks (left atrium): [0.7426, 0.7473, 0.7602, 0.768, 0.7423]\n"
     ]
    },
    {
     "name": "stderr",
     "output_type": "stream",
     "text": [
      " 30%|███       | 6/20 [00:14<00:34,  2.46s/it]"
     ]
    },
    {
     "name": "stdout",
     "output_type": "stream",
     "text": [
      "la_017.nii.gz Dice list by number of clicks (left atrium): [0.5534, 0.5766, 0.6074, 0.631, 0.6315]\n"
     ]
    },
    {
     "name": "stderr",
     "output_type": "stream",
     "text": [
      " 35%|███▌      | 7/20 [00:16<00:31,  2.39s/it]"
     ]
    },
    {
     "name": "stdout",
     "output_type": "stream",
     "text": [
      "la_016.nii.gz Dice list by number of clicks (left atrium): [0.6189, 0.678, 0.6803, 0.6738, 0.6726]\n"
     ]
    },
    {
     "name": "stderr",
     "output_type": "stream",
     "text": [
      " 40%|████      | 8/20 [00:18<00:27,  2.26s/it]"
     ]
    },
    {
     "name": "stdout",
     "output_type": "stream",
     "text": [
      "la_029.nii.gz Dice list by number of clicks (left atrium): [0.6215, 0.6158, 0.6062, 0.6149, 0.607]\n"
     ]
    },
    {
     "name": "stderr",
     "output_type": "stream",
     "text": [
      " 45%|████▌     | 9/20 [00:21<00:24,  2.24s/it]"
     ]
    },
    {
     "name": "stdout",
     "output_type": "stream",
     "text": [
      "la_024.nii.gz Dice list by number of clicks (left atrium): [0.6272, 0.5871, 0.5748, 0.5684, 0.6337]\n"
     ]
    },
    {
     "name": "stderr",
     "output_type": "stream",
     "text": [
      " 50%|█████     | 10/20 [00:24<00:24,  2.49s/it]"
     ]
    },
    {
     "name": "stdout",
     "output_type": "stream",
     "text": [
      "la_020.nii.gz Dice list by number of clicks (left atrium): [0.6965, 0.5093, 0.633, 0.5977, 0.6442]\n"
     ]
    },
    {
     "name": "stderr",
     "output_type": "stream",
     "text": [
      " 55%|█████▌    | 11/20 [00:26<00:22,  2.50s/it]"
     ]
    },
    {
     "name": "stdout",
     "output_type": "stream",
     "text": [
      "la_003.nii.gz Dice list by number of clicks (left atrium): [0.3371, 0.6144, 0.6491, 0.6153, 0.6489]\n"
     ]
    },
    {
     "name": "stderr",
     "output_type": "stream",
     "text": [
      " 60%|██████    | 12/20 [00:29<00:19,  2.46s/it]"
     ]
    },
    {
     "name": "stdout",
     "output_type": "stream",
     "text": [
      "la_011.nii.gz Dice list by number of clicks (left atrium): [0.5119, 0.5878, 0.5613, 0.6324, 0.6746]\n"
     ]
    },
    {
     "name": "stderr",
     "output_type": "stream",
     "text": [
      " 65%|██████▌   | 13/20 [00:31<00:16,  2.40s/it]"
     ]
    },
    {
     "name": "stdout",
     "output_type": "stream",
     "text": [
      "la_005.nii.gz Dice list by number of clicks (left atrium): [0.4321, 0.6178, 0.6551, 0.6232, 0.632]\n"
     ]
    },
    {
     "name": "stderr",
     "output_type": "stream",
     "text": [
      " 70%|███████   | 14/20 [00:33<00:14,  2.36s/it]"
     ]
    },
    {
     "name": "stdout",
     "output_type": "stream",
     "text": [
      "la_018.nii.gz Dice list by number of clicks (left atrium): [0.6765, 0.664, 0.7004, 0.6319, 0.6712]\n"
     ]
    },
    {
     "name": "stderr",
     "output_type": "stream",
     "text": [
      " 75%|███████▌  | 15/20 [00:36<00:12,  2.46s/it]"
     ]
    },
    {
     "name": "stdout",
     "output_type": "stream",
     "text": [
      "la_021.nii.gz Dice list by number of clicks (left atrium): [0.6605, 0.6442, 0.6385, 0.6417, 0.6408]\n"
     ]
    },
    {
     "name": "stderr",
     "output_type": "stream",
     "text": [
      " 80%|████████  | 16/20 [00:38<00:10,  2.51s/it]"
     ]
    },
    {
     "name": "stdout",
     "output_type": "stream",
     "text": [
      "la_019.nii.gz Dice list by number of clicks (left atrium): [0.6582, 0.6886, 0.6755, 0.7013, 0.6988]\n"
     ]
    },
    {
     "name": "stderr",
     "output_type": "stream",
     "text": [
      " 85%|████████▌ | 17/20 [00:41<00:07,  2.46s/it]"
     ]
    },
    {
     "name": "stdout",
     "output_type": "stream",
     "text": [
      "la_004.nii.gz Dice list by number of clicks (left atrium): [0.5337, 0.6185, 0.5949, 0.5984, 0.3893]\n"
     ]
    },
    {
     "name": "stderr",
     "output_type": "stream",
     "text": [
      " 90%|█████████ | 18/20 [00:43<00:04,  2.45s/it]"
     ]
    },
    {
     "name": "stdout",
     "output_type": "stream",
     "text": [
      "la_009.nii.gz Dice list by number of clicks (left atrium): [0.579, 0.2666, 0.0282, 0.4876, 0.4809]\n"
     ]
    },
    {
     "name": "stderr",
     "output_type": "stream",
     "text": [
      " 95%|█████████▌| 19/20 [00:46<00:02,  2.43s/it]"
     ]
    },
    {
     "name": "stdout",
     "output_type": "stream",
     "text": [
      "la_026.nii.gz Dice list by number of clicks (left atrium): [0.495, 0.622, 0.6247, 0.6605, 0.6778]\n",
      "Save results to /home/t722s/Desktop/Sam-Med3DTest/NetworkHeartModified/eval_res_from_inference.json\n",
      "Done\n"
     ]
    },
    {
     "name": "stderr",
     "output_type": "stream",
     "text": [
      "100%|██████████| 20/20 [00:48<00:00,  2.45s/it]\n"
     ]
    },
    {
     "name": "stdout",
     "output_type": "stream",
     "text": [
      "set seed as 2020\n",
      "Cheating! Cropping around ground truth\n",
      "device: cuda\n"
     ]
    },
    {
     "name": "stderr",
     "output_type": "stream",
     "text": [
      "  0%|          | 0/20 [00:00<?, ?it/s]"
     ]
    },
    {
     "name": "stdout",
     "output_type": "stream",
     "text": [
      "la_014.nii.gz Dice list by number of clicks (left atrium): [0.6528, 0.6536, 0.6446, 0.637, 0.6327]\n"
     ]
    },
    {
     "name": "stderr",
     "output_type": "stream",
     "text": [
      "  5%|▌         | 1/20 [00:03<00:58,  3.10s/it]"
     ]
    },
    {
     "name": "stdout",
     "output_type": "stream",
     "text": [
      "la_022.nii.gz Dice list by number of clicks (left atrium): [0.674, 0.6987, 0.7363, 0.7537, 0.767]\n"
     ]
    },
    {
     "name": "stderr",
     "output_type": "stream",
     "text": [
      " 10%|█         | 2/20 [00:05<00:52,  2.91s/it]"
     ]
    },
    {
     "name": "stdout",
     "output_type": "stream",
     "text": [
      "la_030.nii.gz Dice list by number of clicks (left atrium): [0.5834, 0.6597, 0.6615, 0.5915, 0.602]\n"
     ]
    },
    {
     "name": "stderr",
     "output_type": "stream",
     "text": [
      " 15%|█▌        | 3/20 [00:09<00:51,  3.04s/it]"
     ]
    },
    {
     "name": "stdout",
     "output_type": "stream",
     "text": [
      "la_010.nii.gz Dice list by number of clicks (left atrium): [0.57, 0.5185, 0.564, 0.6008, 0.6172]\n"
     ]
    },
    {
     "name": "stderr",
     "output_type": "stream",
     "text": [
      " 20%|██        | 4/20 [00:12<00:48,  3.02s/it]"
     ]
    },
    {
     "name": "stdout",
     "output_type": "stream",
     "text": [
      "la_007.nii.gz Dice list by number of clicks (left atrium): [0.4873, 0.644, 0.5243, 0.6235, 0.6258]\n"
     ]
    },
    {
     "name": "stderr",
     "output_type": "stream",
     "text": [
      " 25%|██▌       | 5/20 [00:14<00:43,  2.93s/it]"
     ]
    },
    {
     "name": "stdout",
     "output_type": "stream",
     "text": [
      "la_023.nii.gz Dice list by number of clicks (left atrium): [0.7583, 0.7222, 0.8201, 0.8157, 0.8181]\n"
     ]
    },
    {
     "name": "stderr",
     "output_type": "stream",
     "text": [
      " 30%|███       | 6/20 [00:17<00:38,  2.76s/it]"
     ]
    },
    {
     "name": "stdout",
     "output_type": "stream",
     "text": [
      "la_017.nii.gz Dice list by number of clicks (left atrium): [0.6768, 0.634, 0.6404, 0.6469, 0.6393]\n"
     ]
    },
    {
     "name": "stderr",
     "output_type": "stream",
     "text": [
      " 35%|███▌      | 7/20 [00:20<00:36,  2.79s/it]"
     ]
    },
    {
     "name": "stdout",
     "output_type": "stream",
     "text": [
      "la_016.nii.gz Dice list by number of clicks (left atrium): [0.6718, 0.7606, 0.7011, 0.6771, 0.6581]\n"
     ]
    },
    {
     "name": "stderr",
     "output_type": "stream",
     "text": [
      " 40%|████      | 8/20 [00:22<00:31,  2.61s/it]"
     ]
    },
    {
     "name": "stdout",
     "output_type": "stream",
     "text": [
      "la_029.nii.gz Dice list by number of clicks (left atrium): [0.6263, 0.6336, 0.6221, 0.6125, 0.6325]\n"
     ]
    },
    {
     "name": "stderr",
     "output_type": "stream",
     "text": [
      " 45%|████▌     | 9/20 [00:25<00:29,  2.67s/it]"
     ]
    },
    {
     "name": "stdout",
     "output_type": "stream",
     "text": [
      "la_024.nii.gz Dice list by number of clicks (left atrium): [0.3688, 0.6315, 0.5545, 0.6769, 0.6453]\n"
     ]
    },
    {
     "name": "stderr",
     "output_type": "stream",
     "text": [
      " 50%|█████     | 10/20 [00:28<00:28,  2.81s/it]"
     ]
    },
    {
     "name": "stdout",
     "output_type": "stream",
     "text": [
      "la_020.nii.gz Dice list by number of clicks (left atrium): [0.7237, 0.6242, 0.6556, 0.6682, 0.648]\n"
     ]
    },
    {
     "name": "stderr",
     "output_type": "stream",
     "text": [
      " 55%|█████▌    | 11/20 [00:30<00:23,  2.63s/it]"
     ]
    },
    {
     "name": "stdout",
     "output_type": "stream",
     "text": [
      "la_003.nii.gz Dice list by number of clicks (left atrium): [0.6578, 0.6258, 0.5431, 0.6265, 0.6275]\n"
     ]
    },
    {
     "name": "stderr",
     "output_type": "stream",
     "text": [
      " 60%|██████    | 12/20 [00:32<00:20,  2.59s/it]"
     ]
    },
    {
     "name": "stdout",
     "output_type": "stream",
     "text": [
      "la_011.nii.gz Dice list by number of clicks (left atrium): [0.5486, 0.5332, 0.6096, 0.7064, 0.6922]\n"
     ]
    },
    {
     "name": "stderr",
     "output_type": "stream",
     "text": [
      " 65%|██████▌   | 13/20 [00:36<00:19,  2.72s/it]"
     ]
    },
    {
     "name": "stdout",
     "output_type": "stream",
     "text": [
      "la_005.nii.gz Dice list by number of clicks (left atrium): [0.6302, 0.5794, 0.638, 0.618, 0.5785]\n"
     ]
    },
    {
     "name": "stderr",
     "output_type": "stream",
     "text": [
      " 70%|███████   | 14/20 [00:38<00:15,  2.65s/it]"
     ]
    },
    {
     "name": "stdout",
     "output_type": "stream",
     "text": [
      "la_018.nii.gz Dice list by number of clicks (left atrium): [0.6842, 0.6695, 0.6061, 0.6365, 0.6139]\n"
     ]
    },
    {
     "name": "stderr",
     "output_type": "stream",
     "text": [
      " 75%|███████▌  | 15/20 [00:40<00:12,  2.59s/it]"
     ]
    },
    {
     "name": "stdout",
     "output_type": "stream",
     "text": [
      "la_021.nii.gz Dice list by number of clicks (left atrium): [0.6278, 0.6299, 0.6311, 0.6384, 0.6427]\n"
     ]
    },
    {
     "name": "stderr",
     "output_type": "stream",
     "text": [
      " 80%|████████  | 16/20 [00:43<00:09,  2.48s/it]"
     ]
    },
    {
     "name": "stdout",
     "output_type": "stream",
     "text": [
      "la_019.nii.gz Dice list by number of clicks (left atrium): [0.3499, 0.5358, 0.5318, 0.5901, 0.4838]\n"
     ]
    },
    {
     "name": "stderr",
     "output_type": "stream",
     "text": [
      " 85%|████████▌ | 17/20 [00:45<00:07,  2.52s/it]"
     ]
    },
    {
     "name": "stdout",
     "output_type": "stream",
     "text": [
      "la_004.nii.gz Dice list by number of clicks (left atrium): [0.023, 0.5378, 0.6061, 0.5757, 0.3203]\n"
     ]
    },
    {
     "name": "stderr",
     "output_type": "stream",
     "text": [
      " 90%|█████████ | 18/20 [00:48<00:05,  2.55s/it]"
     ]
    },
    {
     "name": "stdout",
     "output_type": "stream",
     "text": [
      "la_009.nii.gz Dice list by number of clicks (left atrium): [0.6094, 0.6546, 0.6784, 0.6346, 0.6514]\n"
     ]
    },
    {
     "name": "stderr",
     "output_type": "stream",
     "text": [
      " 95%|█████████▌| 19/20 [00:50<00:02,  2.48s/it]"
     ]
    },
    {
     "name": "stdout",
     "output_type": "stream",
     "text": [
      "la_026.nii.gz Dice list by number of clicks (left atrium): [0.2547, 0.6739, 0.5865, 0.6428, 0.4288]\n",
      "Save results to /home/t722s/Desktop/Sam-Med3DTest/NetworkHeartModified/eval_res_from_inference.json\n",
      "Done\n"
     ]
    },
    {
     "name": "stderr",
     "output_type": "stream",
     "text": [
      "100%|██████████| 20/20 [00:53<00:00,  2.65s/it]\n"
     ]
    },
    {
     "name": "stdout",
     "output_type": "stream",
     "text": [
      "set seed as 2020\n",
      "Cheating! Cropping around ground truth\n",
      "device: cuda\n"
     ]
    },
    {
     "name": "stderr",
     "output_type": "stream",
     "text": [
      "  0%|          | 0/20 [00:00<?, ?it/s]"
     ]
    },
    {
     "name": "stdout",
     "output_type": "stream",
     "text": [
      "la_014.nii.gz Dice list by number of clicks (left atrium): [0.4793, 0.6708, 0.6559, 0.644, 0.6391]\n"
     ]
    },
    {
     "name": "stderr",
     "output_type": "stream",
     "text": [
      "  5%|▌         | 1/20 [00:02<00:49,  2.59s/it]"
     ]
    },
    {
     "name": "stdout",
     "output_type": "stream",
     "text": [
      "la_022.nii.gz Dice list by number of clicks (left atrium): [0.6404, 0.6958, 0.7417, 0.7436, 0.7487]\n"
     ]
    },
    {
     "name": "stderr",
     "output_type": "stream",
     "text": [
      " 10%|█         | 2/20 [00:04<00:44,  2.48s/it]"
     ]
    },
    {
     "name": "stdout",
     "output_type": "stream",
     "text": [
      "la_030.nii.gz Dice list by number of clicks (left atrium): [0.6197, 0.6026, 0.68, 0.6504, 0.6281]\n"
     ]
    },
    {
     "name": "stderr",
     "output_type": "stream",
     "text": [
      " 15%|█▌        | 3/20 [00:07<00:44,  2.64s/it]"
     ]
    },
    {
     "name": "stdout",
     "output_type": "stream",
     "text": [
      "la_010.nii.gz Dice list by number of clicks (left atrium): [0.587, 0.5996, 0.7231, 0.7148, 0.7162]\n"
     ]
    },
    {
     "name": "stderr",
     "output_type": "stream",
     "text": [
      " 20%|██        | 4/20 [00:10<00:41,  2.58s/it]"
     ]
    },
    {
     "name": "stdout",
     "output_type": "stream",
     "text": [
      "la_007.nii.gz Dice list by number of clicks (left atrium): [0.5478, 0.6405, 0.6392, 0.6978, 0.5816]\n"
     ]
    },
    {
     "name": "stderr",
     "output_type": "stream",
     "text": [
      " 25%|██▌       | 5/20 [00:12<00:37,  2.51s/it]"
     ]
    },
    {
     "name": "stdout",
     "output_type": "stream",
     "text": [
      "la_023.nii.gz Dice list by number of clicks (left atrium): [0.7176, 0.7069, 0.7295, 0.7463, 0.7499]\n"
     ]
    },
    {
     "name": "stderr",
     "output_type": "stream",
     "text": [
      " 30%|███       | 6/20 [00:14<00:33,  2.40s/it]"
     ]
    },
    {
     "name": "stdout",
     "output_type": "stream",
     "text": [
      "la_017.nii.gz Dice list by number of clicks (left atrium): [0.6182, 0.6422, 0.6601, 0.6292, 0.642]\n"
     ]
    },
    {
     "name": "stderr",
     "output_type": "stream",
     "text": [
      " 35%|███▌      | 7/20 [00:17<00:31,  2.40s/it]"
     ]
    },
    {
     "name": "stdout",
     "output_type": "stream",
     "text": [
      "la_016.nii.gz Dice list by number of clicks (left atrium): [0.6199, 0.6706, 0.6703, 0.6854, 0.6791]\n"
     ]
    },
    {
     "name": "stderr",
     "output_type": "stream",
     "text": [
      " 40%|████      | 8/20 [00:19<00:27,  2.32s/it]"
     ]
    },
    {
     "name": "stdout",
     "output_type": "stream",
     "text": [
      "la_029.nii.gz Dice list by number of clicks (left atrium): [0.5888, 0.6082, 0.56, 0.582, 0.5926]\n"
     ]
    },
    {
     "name": "stderr",
     "output_type": "stream",
     "text": [
      " 45%|████▌     | 9/20 [00:21<00:26,  2.38s/it]"
     ]
    },
    {
     "name": "stdout",
     "output_type": "stream",
     "text": [
      "la_024.nii.gz Dice list by number of clicks (left atrium): [0.4945, 0.6439, 0.6332, 0.6216, 0.6718]\n"
     ]
    },
    {
     "name": "stderr",
     "output_type": "stream",
     "text": [
      " 50%|█████     | 10/20 [00:24<00:24,  2.47s/it]"
     ]
    },
    {
     "name": "stdout",
     "output_type": "stream",
     "text": [
      "la_020.nii.gz Dice list by number of clicks (left atrium): [0.6859, 0.6729, 0.6196, 0.6358, 0.636]\n"
     ]
    },
    {
     "name": "stderr",
     "output_type": "stream",
     "text": [
      " 55%|█████▌    | 11/20 [00:27<00:23,  2.56s/it]"
     ]
    },
    {
     "name": "stdout",
     "output_type": "stream",
     "text": [
      "la_003.nii.gz Dice list by number of clicks (left atrium): [0.7396, 0.689, 0.5901, 0.7008, 0.6546]\n"
     ]
    },
    {
     "name": "stderr",
     "output_type": "stream",
     "text": [
      " 60%|██████    | 12/20 [00:30<00:20,  2.61s/it]"
     ]
    },
    {
     "name": "stdout",
     "output_type": "stream",
     "text": [
      "la_011.nii.gz Dice list by number of clicks (left atrium): [0.6996, 0.6921, 0.6666, 0.5752, 0.6306]\n"
     ]
    },
    {
     "name": "stderr",
     "output_type": "stream",
     "text": [
      " 65%|██████▌   | 13/20 [00:32<00:18,  2.60s/it]"
     ]
    },
    {
     "name": "stdout",
     "output_type": "stream",
     "text": [
      "la_005.nii.gz Dice list by number of clicks (left atrium): [0.3716, 0.579, 0.61, 0.6629, 0.4931]\n"
     ]
    },
    {
     "name": "stderr",
     "output_type": "stream",
     "text": [
      " 70%|███████   | 14/20 [00:35<00:15,  2.55s/it]"
     ]
    },
    {
     "name": "stdout",
     "output_type": "stream",
     "text": [
      "la_018.nii.gz Dice list by number of clicks (left atrium): [0.5725, 0.5717, 0.602, 0.6456, 0.6506]\n"
     ]
    },
    {
     "name": "stderr",
     "output_type": "stream",
     "text": [
      " 75%|███████▌  | 15/20 [00:37<00:12,  2.49s/it]"
     ]
    },
    {
     "name": "stdout",
     "output_type": "stream",
     "text": [
      "la_021.nii.gz Dice list by number of clicks (left atrium): [0.5969, 0.7016, 0.6781, 0.6452, 0.5704]\n"
     ]
    },
    {
     "name": "stderr",
     "output_type": "stream",
     "text": [
      " 80%|████████  | 16/20 [00:39<00:09,  2.44s/it]"
     ]
    },
    {
     "name": "stdout",
     "output_type": "stream",
     "text": [
      "la_019.nii.gz Dice list by number of clicks (left atrium): [0.5726, 0.5732, 0.603, 0.634, 0.6288]\n"
     ]
    },
    {
     "name": "stderr",
     "output_type": "stream",
     "text": [
      " 85%|████████▌ | 17/20 [00:42<00:07,  2.52s/it]"
     ]
    },
    {
     "name": "stdout",
     "output_type": "stream",
     "text": [
      "la_004.nii.gz Dice list by number of clicks (left atrium): [0.5304, 0.5422, 0.5516, 0.5738, 0.5857]\n"
     ]
    },
    {
     "name": "stderr",
     "output_type": "stream",
     "text": [
      " 90%|█████████ | 18/20 [00:44<00:04,  2.43s/it]"
     ]
    },
    {
     "name": "stdout",
     "output_type": "stream",
     "text": [
      "la_009.nii.gz Dice list by number of clicks (left atrium): [0.6072, 0.6425, 0.6683, 0.6238, 0.6024]\n"
     ]
    },
    {
     "name": "stderr",
     "output_type": "stream",
     "text": [
      " 95%|█████████▌| 19/20 [00:46<00:02,  2.32s/it]"
     ]
    },
    {
     "name": "stdout",
     "output_type": "stream",
     "text": [
      "la_026.nii.gz Dice list by number of clicks (left atrium): [0.4826, 0.6413, 0.4956, 0.6403, 0.5662]\n",
      "Save results to /home/t722s/Desktop/Sam-Med3DTest/NetworkHeartModified/eval_res_from_inference.json\n",
      "Done\n"
     ]
    },
    {
     "name": "stderr",
     "output_type": "stream",
     "text": [
      "100%|██████████| 20/20 [00:48<00:00,  2.45s/it]\n"
     ]
    },
    {
     "name": "stdout",
     "output_type": "stream",
     "text": [
      "set seed as 2020\n",
      "Cheating! Cropping around ground truth\n",
      "device: cuda\n"
     ]
    },
    {
     "name": "stderr",
     "output_type": "stream",
     "text": [
      "  0%|          | 0/20 [00:00<?, ?it/s]"
     ]
    },
    {
     "name": "stdout",
     "output_type": "stream",
     "text": [
      "la_014.nii.gz Dice list by number of clicks (left atrium): [0.7038, 0.694, 0.6709, 0.6561, 0.6546]\n"
     ]
    },
    {
     "name": "stderr",
     "output_type": "stream",
     "text": [
      "  5%|▌         | 1/20 [00:02<00:50,  2.67s/it]"
     ]
    },
    {
     "name": "stdout",
     "output_type": "stream",
     "text": [
      "la_022.nii.gz Dice list by number of clicks (left atrium): [0.694, 0.7465, 0.7595, 0.7706, 0.7756]\n"
     ]
    },
    {
     "name": "stderr",
     "output_type": "stream",
     "text": [
      " 10%|█         | 2/20 [00:05<00:48,  2.70s/it]"
     ]
    },
    {
     "name": "stdout",
     "output_type": "stream",
     "text": [
      "la_030.nii.gz Dice list by number of clicks (left atrium): [0.6855, 0.6878, 0.6391, 0.6137, 0.5652]\n"
     ]
    },
    {
     "name": "stderr",
     "output_type": "stream",
     "text": [
      " 15%|█▌        | 3/20 [00:08<00:45,  2.68s/it]"
     ]
    },
    {
     "name": "stdout",
     "output_type": "stream",
     "text": [
      "la_010.nii.gz Dice list by number of clicks (left atrium): [0.2265, 0.6174, 0.5393, 0.635, 0.6298]\n"
     ]
    },
    {
     "name": "stderr",
     "output_type": "stream",
     "text": [
      " 20%|██        | 4/20 [00:10<00:44,  2.76s/it]"
     ]
    },
    {
     "name": "stdout",
     "output_type": "stream",
     "text": [
      "la_007.nii.gz Dice list by number of clicks (left atrium): [0.6603, 0.4813, 0.6703, 0.6604, 0.6011]\n"
     ]
    },
    {
     "name": "stderr",
     "output_type": "stream",
     "text": [
      " 25%|██▌       | 5/20 [00:13<00:40,  2.69s/it]"
     ]
    },
    {
     "name": "stdout",
     "output_type": "stream",
     "text": [
      "la_023.nii.gz Dice list by number of clicks (left atrium): [0.7256, 0.7346, 0.7434, 0.7462, 0.7628]\n"
     ]
    },
    {
     "name": "stderr",
     "output_type": "stream",
     "text": [
      " 30%|███       | 6/20 [00:15<00:35,  2.55s/it]"
     ]
    },
    {
     "name": "stdout",
     "output_type": "stream",
     "text": [
      "la_017.nii.gz Dice list by number of clicks (left atrium): [0.5726, 0.5318, 0.5995, 0.6049, 0.5984]\n"
     ]
    },
    {
     "name": "stderr",
     "output_type": "stream",
     "text": [
      " 35%|███▌      | 7/20 [00:18<00:32,  2.52s/it]"
     ]
    },
    {
     "name": "stdout",
     "output_type": "stream",
     "text": [
      "la_016.nii.gz Dice list by number of clicks (left atrium): [0.6603, 0.6858, 0.7187, 0.6832, 0.7049]\n"
     ]
    },
    {
     "name": "stderr",
     "output_type": "stream",
     "text": [
      " 40%|████      | 8/20 [00:20<00:28,  2.35s/it]"
     ]
    },
    {
     "name": "stdout",
     "output_type": "stream",
     "text": [
      "la_029.nii.gz Dice list by number of clicks (left atrium): [0.5724, 0.6278, 0.5381, 0.6159, 0.614]\n"
     ]
    },
    {
     "name": "stderr",
     "output_type": "stream",
     "text": [
      " 45%|████▌     | 9/20 [00:22<00:25,  2.32s/it]"
     ]
    },
    {
     "name": "stdout",
     "output_type": "stream",
     "text": [
      "la_024.nii.gz Dice list by number of clicks (left atrium): [0.3241, 0.6234, 0.5724, 0.4781, 0.6763]\n"
     ]
    },
    {
     "name": "stderr",
     "output_type": "stream",
     "text": [
      " 50%|█████     | 10/20 [00:24<00:23,  2.35s/it]"
     ]
    },
    {
     "name": "stdout",
     "output_type": "stream",
     "text": [
      "la_020.nii.gz Dice list by number of clicks (left atrium): [0.7026, 0.7013, 0.6967, 0.6733, 0.6397]\n"
     ]
    },
    {
     "name": "stderr",
     "output_type": "stream",
     "text": [
      " 55%|█████▌    | 11/20 [00:27<00:21,  2.44s/it]"
     ]
    },
    {
     "name": "stdout",
     "output_type": "stream",
     "text": [
      "la_003.nii.gz Dice list by number of clicks (left atrium): [0.6531, 0.6661, 0.7123, 0.7544, 0.5792]\n"
     ]
    },
    {
     "name": "stderr",
     "output_type": "stream",
     "text": [
      " 60%|██████    | 12/20 [00:30<00:19,  2.48s/it]"
     ]
    },
    {
     "name": "stdout",
     "output_type": "stream",
     "text": [
      "la_011.nii.gz Dice list by number of clicks (left atrium): [0.6109, 0.624, 0.6697, 0.6726, 0.6909]\n"
     ]
    },
    {
     "name": "stderr",
     "output_type": "stream",
     "text": [
      " 65%|██████▌   | 13/20 [00:32<00:17,  2.43s/it]"
     ]
    },
    {
     "name": "stdout",
     "output_type": "stream",
     "text": [
      "la_005.nii.gz Dice list by number of clicks (left atrium): [0.5184, 0.4784, 0.6298, 0.5571, 0.6337]\n"
     ]
    },
    {
     "name": "stderr",
     "output_type": "stream",
     "text": [
      " 70%|███████   | 14/20 [00:34<00:14,  2.37s/it]"
     ]
    },
    {
     "name": "stdout",
     "output_type": "stream",
     "text": [
      "la_018.nii.gz Dice list by number of clicks (left atrium): [0.591, 0.5566, 0.616, 0.5594, 0.6287]\n"
     ]
    },
    {
     "name": "stderr",
     "output_type": "stream",
     "text": [
      " 75%|███████▌  | 15/20 [00:36<00:11,  2.33s/it]"
     ]
    },
    {
     "name": "stdout",
     "output_type": "stream",
     "text": [
      "la_021.nii.gz Dice list by number of clicks (left atrium): [0.66, 0.6446, 0.6399, 0.7073, 0.6828]\n"
     ]
    },
    {
     "name": "stderr",
     "output_type": "stream",
     "text": [
      " 80%|████████  | 16/20 [00:39<00:09,  2.28s/it]"
     ]
    },
    {
     "name": "stdout",
     "output_type": "stream",
     "text": [
      "la_019.nii.gz Dice list by number of clicks (left atrium): [0.4247, 0.5315, 0.5714, 0.6493, 0.6157]\n"
     ]
    },
    {
     "name": "stderr",
     "output_type": "stream",
     "text": [
      " 85%|████████▌ | 17/20 [00:41<00:07,  2.36s/it]"
     ]
    },
    {
     "name": "stdout",
     "output_type": "stream",
     "text": [
      "la_004.nii.gz Dice list by number of clicks (left atrium): [0.4723, 0.5933, 0.5834, 0.5809, 0.2896]\n"
     ]
    },
    {
     "name": "stderr",
     "output_type": "stream",
     "text": [
      " 90%|█████████ | 18/20 [00:44<00:04,  2.39s/it]"
     ]
    },
    {
     "name": "stdout",
     "output_type": "stream",
     "text": [
      "la_009.nii.gz Dice list by number of clicks (left atrium): [0.5809, 0.4929, 0.551, 0.6358, 0.6079]\n"
     ]
    },
    {
     "name": "stderr",
     "output_type": "stream",
     "text": [
      " 95%|█████████▌| 19/20 [00:47<00:02,  2.57s/it]"
     ]
    },
    {
     "name": "stdout",
     "output_type": "stream",
     "text": [
      "la_026.nii.gz Dice list by number of clicks (left atrium): [0.5281, 0.5582, 0.6531, 0.5215, 0.5604]\n",
      "Save results to /home/t722s/Desktop/Sam-Med3DTest/NetworkHeartModified/eval_res_from_inference.json\n",
      "Done\n"
     ]
    },
    {
     "name": "stderr",
     "output_type": "stream",
     "text": [
      "100%|██████████| 20/20 [00:50<00:00,  2.50s/it]\n"
     ]
    },
    {
     "name": "stdout",
     "output_type": "stream",
     "text": [
      "set seed as 2020\n",
      "Cheating! Cropping around ground truth\n",
      "device: cuda\n"
     ]
    },
    {
     "name": "stderr",
     "output_type": "stream",
     "text": [
      "  0%|          | 0/20 [00:00<?, ?it/s]"
     ]
    },
    {
     "name": "stdout",
     "output_type": "stream",
     "text": [
      "la_014.nii.gz Dice list by number of clicks (left atrium): [0.5997, 0.618, 0.6245, 0.6234, 0.6206]\n"
     ]
    },
    {
     "name": "stderr",
     "output_type": "stream",
     "text": [
      "  5%|▌         | 1/20 [00:02<00:46,  2.45s/it]"
     ]
    },
    {
     "name": "stdout",
     "output_type": "stream",
     "text": [
      "la_022.nii.gz Dice list by number of clicks (left atrium): [0.561, 0.6903, 0.719, 0.7083, 0.764]\n"
     ]
    },
    {
     "name": "stderr",
     "output_type": "stream",
     "text": [
      " 10%|█         | 2/20 [00:04<00:41,  2.29s/it]"
     ]
    },
    {
     "name": "stdout",
     "output_type": "stream",
     "text": [
      "la_030.nii.gz Dice list by number of clicks (left atrium): [0.5892, 0.5971, 0.6167, 0.617, 0.613]\n"
     ]
    },
    {
     "name": "stderr",
     "output_type": "stream",
     "text": [
      " 15%|█▌        | 3/20 [00:06<00:37,  2.22s/it]"
     ]
    },
    {
     "name": "stdout",
     "output_type": "stream",
     "text": [
      "la_010.nii.gz Dice list by number of clicks (left atrium): [0.4533, 0.5278, 0.6096, 0.6175, 0.6028]\n"
     ]
    },
    {
     "name": "stderr",
     "output_type": "stream",
     "text": [
      " 20%|██        | 4/20 [00:09<00:35,  2.23s/it]"
     ]
    },
    {
     "name": "stdout",
     "output_type": "stream",
     "text": [
      "la_007.nii.gz Dice list by number of clicks (left atrium): [0.4453, 0.669, 0.6468, 0.5971, 0.5647]\n"
     ]
    },
    {
     "name": "stderr",
     "output_type": "stream",
     "text": [
      " 25%|██▌       | 5/20 [00:11<00:34,  2.28s/it]"
     ]
    },
    {
     "name": "stdout",
     "output_type": "stream",
     "text": [
      "la_023.nii.gz Dice list by number of clicks (left atrium): [0.7057, 0.7149, 0.7195, 0.7371, 0.7531]\n"
     ]
    },
    {
     "name": "stderr",
     "output_type": "stream",
     "text": [
      " 30%|███       | 6/20 [00:14<00:33,  2.40s/it]"
     ]
    },
    {
     "name": "stdout",
     "output_type": "stream",
     "text": [
      "la_017.nii.gz Dice list by number of clicks (left atrium): [0.5244, 0.6284, 0.5157, 0.5409, 0.5638]\n"
     ]
    },
    {
     "name": "stderr",
     "output_type": "stream",
     "text": [
      " 35%|███▌      | 7/20 [00:16<00:31,  2.41s/it]"
     ]
    },
    {
     "name": "stdout",
     "output_type": "stream",
     "text": [
      "la_016.nii.gz Dice list by number of clicks (left atrium): [0.6685, 0.6575, 0.6544, 0.6669, 0.6679]\n"
     ]
    },
    {
     "name": "stderr",
     "output_type": "stream",
     "text": [
      " 40%|████      | 8/20 [00:18<00:27,  2.29s/it]"
     ]
    },
    {
     "name": "stdout",
     "output_type": "stream",
     "text": [
      "la_029.nii.gz Dice list by number of clicks (left atrium): [0.5529, 0.629, 0.6181, 0.5617, 0.5872]\n"
     ]
    },
    {
     "name": "stderr",
     "output_type": "stream",
     "text": [
      " 45%|████▌     | 9/20 [00:20<00:25,  2.28s/it]"
     ]
    },
    {
     "name": "stdout",
     "output_type": "stream",
     "text": [
      "la_024.nii.gz Dice list by number of clicks (left atrium): [0.5558, 0.5516, 0.5588, 0.5651, 0.5433]\n"
     ]
    },
    {
     "name": "stderr",
     "output_type": "stream",
     "text": [
      " 50%|█████     | 10/20 [00:23<00:23,  2.40s/it]"
     ]
    },
    {
     "name": "stdout",
     "output_type": "stream",
     "text": [
      "la_020.nii.gz Dice list by number of clicks (left atrium): [0.5817, 0.5471, 0.6342, 0.6351, 0.6322]\n"
     ]
    },
    {
     "name": "stderr",
     "output_type": "stream",
     "text": [
      " 55%|█████▌    | 11/20 [00:25<00:21,  2.41s/it]"
     ]
    },
    {
     "name": "stdout",
     "output_type": "stream",
     "text": [
      "la_003.nii.gz Dice list by number of clicks (left atrium): [0.6947, 0.6807, 0.5271, 0.633, 0.6511]\n"
     ]
    },
    {
     "name": "stderr",
     "output_type": "stream",
     "text": [
      " 60%|██████    | 12/20 [00:28<00:20,  2.53s/it]"
     ]
    },
    {
     "name": "stdout",
     "output_type": "stream",
     "text": [
      "la_011.nii.gz Dice list by number of clicks (left atrium): [0.6481, 0.6266, 0.6751, 0.6804, 0.6545]\n"
     ]
    },
    {
     "name": "stderr",
     "output_type": "stream",
     "text": [
      " 65%|██████▌   | 13/20 [00:30<00:17,  2.47s/it]"
     ]
    },
    {
     "name": "stdout",
     "output_type": "stream",
     "text": [
      "la_005.nii.gz Dice list by number of clicks (left atrium): [0.5086, 0.6031, 0.6105, 0.5909, 0.5563]\n"
     ]
    },
    {
     "name": "stderr",
     "output_type": "stream",
     "text": [
      " 70%|███████   | 14/20 [00:34<00:15,  2.65s/it]"
     ]
    },
    {
     "name": "stdout",
     "output_type": "stream",
     "text": [
      "la_018.nii.gz Dice list by number of clicks (left atrium): [0.609, 0.6158, 0.6625, 0.6863, 0.6917]\n"
     ]
    },
    {
     "name": "stderr",
     "output_type": "stream",
     "text": [
      " 75%|███████▌  | 15/20 [00:36<00:13,  2.61s/it]"
     ]
    },
    {
     "name": "stdout",
     "output_type": "stream",
     "text": [
      "la_021.nii.gz Dice list by number of clicks (left atrium): [0.4104, 0.6898, 0.6934, 0.6753, 0.6568]\n"
     ]
    },
    {
     "name": "stderr",
     "output_type": "stream",
     "text": [
      " 80%|████████  | 16/20 [00:38<00:09,  2.48s/it]"
     ]
    },
    {
     "name": "stdout",
     "output_type": "stream",
     "text": [
      "la_019.nii.gz Dice list by number of clicks (left atrium): [0.5708, 0.6439, 0.5246, 0.6058, 0.5176]\n"
     ]
    },
    {
     "name": "stderr",
     "output_type": "stream",
     "text": [
      " 85%|████████▌ | 17/20 [00:41<00:07,  2.47s/it]"
     ]
    },
    {
     "name": "stdout",
     "output_type": "stream",
     "text": [
      "la_004.nii.gz Dice list by number of clicks (left atrium): [0.6293, 0.2121, 0.4519, 0.5006, 0.5295]\n"
     ]
    },
    {
     "name": "stderr",
     "output_type": "stream",
     "text": [
      " 90%|█████████ | 18/20 [00:43<00:04,  2.46s/it]"
     ]
    },
    {
     "name": "stdout",
     "output_type": "stream",
     "text": [
      "la_009.nii.gz Dice list by number of clicks (left atrium): [0.6414, 0.6499, 0.6422, 0.6122, 0.6394]\n"
     ]
    },
    {
     "name": "stderr",
     "output_type": "stream",
     "text": [
      " 95%|█████████▌| 19/20 [00:45<00:02,  2.40s/it]"
     ]
    },
    {
     "name": "stdout",
     "output_type": "stream",
     "text": [
      "la_026.nii.gz Dice list by number of clicks (left atrium): [0.4115, 0.4363, 0.6081, 0.6703, 0.6329]\n",
      "Save results to /home/t722s/Desktop/Sam-Med3DTest/NetworkHeartModified/eval_res_from_inference.json\n",
      "Done\n"
     ]
    },
    {
     "name": "stderr",
     "output_type": "stream",
     "text": [
      "100%|██████████| 20/20 [00:48<00:00,  2.43s/it]\n"
     ]
    },
    {
     "name": "stdout",
     "output_type": "stream",
     "text": [
      "set seed as 2020\n",
      "Cheating! Cropping around ground truth\n",
      "device: cuda\n"
     ]
    },
    {
     "name": "stderr",
     "output_type": "stream",
     "text": [
      "  0%|          | 0/20 [00:00<?, ?it/s]"
     ]
    },
    {
     "name": "stdout",
     "output_type": "stream",
     "text": [
      "la_014.nii.gz Dice list by number of clicks (left atrium): [0.6375, 0.6501, 0.635, 0.6344, 0.6416]\n"
     ]
    },
    {
     "name": "stderr",
     "output_type": "stream",
     "text": [
      "  5%|▌         | 1/20 [00:03<00:59,  3.13s/it]"
     ]
    },
    {
     "name": "stdout",
     "output_type": "stream",
     "text": [
      "la_022.nii.gz Dice list by number of clicks (left atrium): [0.7181, 0.7644, 0.7168, 0.773, 0.7343]\n"
     ]
    },
    {
     "name": "stderr",
     "output_type": "stream",
     "text": [
      " 10%|█         | 2/20 [00:05<00:49,  2.77s/it]"
     ]
    },
    {
     "name": "stdout",
     "output_type": "stream",
     "text": [
      "la_030.nii.gz Dice list by number of clicks (left atrium): [0.5719, 0.5426, 0.5215, 0.528, 0.5231]\n"
     ]
    },
    {
     "name": "stderr",
     "output_type": "stream",
     "text": [
      " 15%|█▌        | 3/20 [00:08<00:45,  2.66s/it]"
     ]
    },
    {
     "name": "stdout",
     "output_type": "stream",
     "text": [
      "la_010.nii.gz Dice list by number of clicks (left atrium): [0.616, 0.6096, 0.6352, 0.6013, 0.5714]\n"
     ]
    },
    {
     "name": "stderr",
     "output_type": "stream",
     "text": [
      " 20%|██        | 4/20 [00:10<00:40,  2.51s/it]"
     ]
    },
    {
     "name": "stdout",
     "output_type": "stream",
     "text": [
      "la_007.nii.gz Dice list by number of clicks (left atrium): [0.561, 0.645, 0.6051, 0.5885, 0.5381]\n"
     ]
    },
    {
     "name": "stderr",
     "output_type": "stream",
     "text": [
      " 25%|██▌       | 5/20 [00:12<00:36,  2.44s/it]"
     ]
    },
    {
     "name": "stdout",
     "output_type": "stream",
     "text": [
      "la_023.nii.gz Dice list by number of clicks (left atrium): [0.5571, 0.7034, 0.7427, 0.7508, 0.7503]\n"
     ]
    },
    {
     "name": "stderr",
     "output_type": "stream",
     "text": [
      " 30%|███       | 6/20 [00:14<00:33,  2.36s/it]"
     ]
    },
    {
     "name": "stdout",
     "output_type": "stream",
     "text": [
      "la_017.nii.gz Dice list by number of clicks (left atrium): [0.529, 0.5829, 0.6163, 0.6307, 0.6351]\n"
     ]
    },
    {
     "name": "stderr",
     "output_type": "stream",
     "text": [
      " 35%|███▌      | 7/20 [00:17<00:31,  2.43s/it]"
     ]
    },
    {
     "name": "stdout",
     "output_type": "stream",
     "text": [
      "la_016.nii.gz Dice list by number of clicks (left atrium): [0.6933, 0.6991, 0.7399, 0.7001, 0.7058]\n"
     ]
    },
    {
     "name": "stderr",
     "output_type": "stream",
     "text": [
      " 40%|████      | 8/20 [00:20<00:30,  2.50s/it]"
     ]
    },
    {
     "name": "stdout",
     "output_type": "stream",
     "text": [
      "la_029.nii.gz Dice list by number of clicks (left atrium): [0.6266, 0.6365, 0.6435, 0.6486, 0.652]\n"
     ]
    },
    {
     "name": "stderr",
     "output_type": "stream",
     "text": [
      " 45%|████▌     | 9/20 [00:23<00:28,  2.62s/it]"
     ]
    },
    {
     "name": "stdout",
     "output_type": "stream",
     "text": [
      "la_024.nii.gz Dice list by number of clicks (left atrium): [0.6362, 0.6188, 0.6591, 0.6689, 0.6792]\n"
     ]
    },
    {
     "name": "stderr",
     "output_type": "stream",
     "text": [
      " 50%|█████     | 10/20 [00:25<00:26,  2.61s/it]"
     ]
    },
    {
     "name": "stdout",
     "output_type": "stream",
     "text": [
      "la_020.nii.gz Dice list by number of clicks (left atrium): [0.5802, 0.5373, 0.5736, 0.6059, 0.5845]\n"
     ]
    },
    {
     "name": "stderr",
     "output_type": "stream",
     "text": [
      " 55%|█████▌    | 11/20 [00:28<00:23,  2.61s/it]"
     ]
    },
    {
     "name": "stdout",
     "output_type": "stream",
     "text": [
      "la_003.nii.gz Dice list by number of clicks (left atrium): [0.6806, 0.6803, 0.5986, 0.6667, 0.6727]\n"
     ]
    },
    {
     "name": "stderr",
     "output_type": "stream",
     "text": [
      " 60%|██████    | 12/20 [00:30<00:20,  2.61s/it]"
     ]
    },
    {
     "name": "stdout",
     "output_type": "stream",
     "text": [
      "la_011.nii.gz Dice list by number of clicks (left atrium): [0.5536, 0.6603, 0.6507, 0.6505, 0.6294]\n"
     ]
    },
    {
     "name": "stderr",
     "output_type": "stream",
     "text": [
      " 65%|██████▌   | 13/20 [00:33<00:18,  2.60s/it]"
     ]
    },
    {
     "name": "stdout",
     "output_type": "stream",
     "text": [
      "la_005.nii.gz Dice list by number of clicks (left atrium): [0.6626, 0.574, 0.6356, 0.6382, 0.6718]\n"
     ]
    },
    {
     "name": "stderr",
     "output_type": "stream",
     "text": [
      " 70%|███████   | 14/20 [00:35<00:14,  2.49s/it]"
     ]
    },
    {
     "name": "stdout",
     "output_type": "stream",
     "text": [
      "la_018.nii.gz Dice list by number of clicks (left atrium): [0.6157, 0.5791, 0.65, 0.6571, 0.6957]\n"
     ]
    },
    {
     "name": "stderr",
     "output_type": "stream",
     "text": [
      " 75%|███████▌  | 15/20 [00:38<00:12,  2.57s/it]"
     ]
    },
    {
     "name": "stdout",
     "output_type": "stream",
     "text": [
      "la_021.nii.gz Dice list by number of clicks (left atrium): [0.6377, 0.673, 0.6993, 0.6826, 0.6437]\n"
     ]
    },
    {
     "name": "stderr",
     "output_type": "stream",
     "text": [
      " 80%|████████  | 16/20 [00:40<00:10,  2.52s/it]"
     ]
    },
    {
     "name": "stdout",
     "output_type": "stream",
     "text": [
      "la_019.nii.gz Dice list by number of clicks (left atrium): [0.4202, 0.5115, 0.6538, 0.6461, 0.6414]\n"
     ]
    },
    {
     "name": "stderr",
     "output_type": "stream",
     "text": [
      " 85%|████████▌ | 17/20 [00:43<00:07,  2.57s/it]"
     ]
    },
    {
     "name": "stdout",
     "output_type": "stream",
     "text": [
      "la_004.nii.gz Dice list by number of clicks (left atrium): [0.2999, 0.342, 0.5357, 0.4726, 0.5558]\n"
     ]
    },
    {
     "name": "stderr",
     "output_type": "stream",
     "text": [
      " 90%|█████████ | 18/20 [00:46<00:05,  2.70s/it]"
     ]
    },
    {
     "name": "stdout",
     "output_type": "stream",
     "text": [
      "la_009.nii.gz Dice list by number of clicks (left atrium): [0.6112, 0.5474, 0.5716, 0.5894, 0.5785]\n"
     ]
    },
    {
     "name": "stderr",
     "output_type": "stream",
     "text": [
      " 95%|█████████▌| 19/20 [00:49<00:02,  2.77s/it]"
     ]
    },
    {
     "name": "stdout",
     "output_type": "stream",
     "text": [
      "la_026.nii.gz Dice list by number of clicks (left atrium): [0.6605, 0.558, 0.6495, 0.435, 0.6089]\n",
      "Save results to /home/t722s/Desktop/Sam-Med3DTest/NetworkHeartModified/eval_res_from_inference.json\n",
      "Done\n"
     ]
    },
    {
     "name": "stderr",
     "output_type": "stream",
     "text": [
      "100%|██████████| 20/20 [00:52<00:00,  2.60s/it]\n"
     ]
    },
    {
     "name": "stdout",
     "output_type": "stream",
     "text": [
      "set seed as 2020\n",
      "Cheating! Cropping around ground truth\n",
      "device: cuda\n"
     ]
    },
    {
     "name": "stderr",
     "output_type": "stream",
     "text": [
      "  0%|          | 0/20 [00:00<?, ?it/s]"
     ]
    },
    {
     "name": "stdout",
     "output_type": "stream",
     "text": [
      "la_014.nii.gz Dice list by number of clicks (left atrium): [0.6398, 0.6521, 0.634, 0.637, 0.6384]\n"
     ]
    },
    {
     "name": "stderr",
     "output_type": "stream",
     "text": [
      "  5%|▌         | 1/20 [00:02<00:55,  2.90s/it]"
     ]
    },
    {
     "name": "stdout",
     "output_type": "stream",
     "text": [
      "la_022.nii.gz Dice list by number of clicks (left atrium): [0.655, 0.7308, 0.7349, 0.7538, 0.7603]\n"
     ]
    },
    {
     "name": "stderr",
     "output_type": "stream",
     "text": [
      " 10%|█         | 2/20 [00:05<00:50,  2.79s/it]"
     ]
    },
    {
     "name": "stdout",
     "output_type": "stream",
     "text": [
      "la_030.nii.gz Dice list by number of clicks (left atrium): [0.5241, 0.6836, 0.6623, 0.6029, 0.6101]\n"
     ]
    },
    {
     "name": "stderr",
     "output_type": "stream",
     "text": [
      " 15%|█▌        | 3/20 [00:08<00:47,  2.79s/it]"
     ]
    },
    {
     "name": "stdout",
     "output_type": "stream",
     "text": [
      "la_010.nii.gz Dice list by number of clicks (left atrium): [0.2832, 0.5901, 0.5938, 0.615, 0.6049]\n"
     ]
    },
    {
     "name": "stderr",
     "output_type": "stream",
     "text": [
      " 20%|██        | 4/20 [00:11<00:43,  2.74s/it]"
     ]
    },
    {
     "name": "stdout",
     "output_type": "stream",
     "text": [
      "la_007.nii.gz Dice list by number of clicks (left atrium): [0.5788, 0.5924, 0.5246, 0.5189, 0.5157]\n"
     ]
    },
    {
     "name": "stderr",
     "output_type": "stream",
     "text": [
      " 25%|██▌       | 5/20 [00:13<00:41,  2.74s/it]"
     ]
    },
    {
     "name": "stdout",
     "output_type": "stream",
     "text": [
      "la_023.nii.gz Dice list by number of clicks (left atrium): [0.6879, 0.7616, 0.7752, 0.7784, 0.7824]\n"
     ]
    },
    {
     "name": "stderr",
     "output_type": "stream",
     "text": [
      " 30%|███       | 6/20 [00:16<00:37,  2.70s/it]"
     ]
    },
    {
     "name": "stdout",
     "output_type": "stream",
     "text": [
      "la_017.nii.gz Dice list by number of clicks (left atrium): [0.5836, 0.6322, 0.5932, 0.6318, 0.6175]\n"
     ]
    },
    {
     "name": "stderr",
     "output_type": "stream",
     "text": [
      " 35%|███▌      | 7/20 [00:19<00:34,  2.67s/it]"
     ]
    },
    {
     "name": "stdout",
     "output_type": "stream",
     "text": [
      "la_016.nii.gz Dice list by number of clicks (left atrium): [0.6848, 0.7445, 0.727, 0.6819, 0.7024]\n"
     ]
    },
    {
     "name": "stderr",
     "output_type": "stream",
     "text": [
      " 40%|████      | 8/20 [00:20<00:29,  2.44s/it]"
     ]
    },
    {
     "name": "stdout",
     "output_type": "stream",
     "text": [
      "la_029.nii.gz Dice list by number of clicks (left atrium): [0.5911, 0.6009, 0.6202, 0.5459, 0.5704]\n"
     ]
    },
    {
     "name": "stderr",
     "output_type": "stream",
     "text": [
      " 45%|████▌     | 9/20 [00:23<00:26,  2.37s/it]"
     ]
    },
    {
     "name": "stdout",
     "output_type": "stream",
     "text": [
      "la_024.nii.gz Dice list by number of clicks (left atrium): [0.4552, 0.662, 0.4679, 0.6586, 0.4949]\n"
     ]
    },
    {
     "name": "stderr",
     "output_type": "stream",
     "text": [
      " 50%|█████     | 10/20 [00:25<00:23,  2.38s/it]"
     ]
    },
    {
     "name": "stdout",
     "output_type": "stream",
     "text": [
      "la_020.nii.gz Dice list by number of clicks (left atrium): [0.6942, 0.6463, 0.6503, 0.6234, 0.6187]\n"
     ]
    },
    {
     "name": "stderr",
     "output_type": "stream",
     "text": [
      " 55%|█████▌    | 11/20 [00:28<00:22,  2.52s/it]"
     ]
    },
    {
     "name": "stdout",
     "output_type": "stream",
     "text": [
      "la_003.nii.gz Dice list by number of clicks (left atrium): [0.665, 0.6243, 0.6792, 0.6729, 0.6585]\n"
     ]
    },
    {
     "name": "stderr",
     "output_type": "stream",
     "text": [
      " 60%|██████    | 12/20 [00:31<00:21,  2.64s/it]"
     ]
    },
    {
     "name": "stdout",
     "output_type": "stream",
     "text": [
      "la_011.nii.gz Dice list by number of clicks (left atrium): [0.5798, 0.6183, 0.68, 0.6757, 0.6572]\n"
     ]
    },
    {
     "name": "stderr",
     "output_type": "stream",
     "text": [
      " 65%|██████▌   | 13/20 [00:33<00:17,  2.52s/it]"
     ]
    },
    {
     "name": "stdout",
     "output_type": "stream",
     "text": [
      "la_005.nii.gz Dice list by number of clicks (left atrium): [0.6267, 0.5293, 0.5965, 0.6013, 0.5744]\n"
     ]
    },
    {
     "name": "stderr",
     "output_type": "stream",
     "text": [
      " 70%|███████   | 14/20 [00:35<00:14,  2.47s/it]"
     ]
    },
    {
     "name": "stdout",
     "output_type": "stream",
     "text": [
      "la_018.nii.gz Dice list by number of clicks (left atrium): [0.3177, 0.5669, 0.6437, 0.6321, 0.5826]\n"
     ]
    },
    {
     "name": "stderr",
     "output_type": "stream",
     "text": [
      " 75%|███████▌  | 15/20 [00:38<00:12,  2.48s/it]"
     ]
    },
    {
     "name": "stdout",
     "output_type": "stream",
     "text": [
      "la_021.nii.gz Dice list by number of clicks (left atrium): [0.6672, 0.6418, 0.6122, 0.6378, 0.6915]\n"
     ]
    },
    {
     "name": "stderr",
     "output_type": "stream",
     "text": [
      " 80%|████████  | 16/20 [00:40<00:09,  2.49s/it]"
     ]
    },
    {
     "name": "stdout",
     "output_type": "stream",
     "text": [
      "la_019.nii.gz Dice list by number of clicks (left atrium): [0.5003, 0.5867, 0.6263, 0.5195, 0.5768]\n"
     ]
    },
    {
     "name": "stderr",
     "output_type": "stream",
     "text": [
      " 85%|████████▌ | 17/20 [00:43<00:07,  2.46s/it]"
     ]
    },
    {
     "name": "stdout",
     "output_type": "stream",
     "text": [
      "la_004.nii.gz Dice list by number of clicks (left atrium): [0.545, 0.4195, 0.4608, 0.5403, 0.5408]\n"
     ]
    },
    {
     "name": "stderr",
     "output_type": "stream",
     "text": [
      " 90%|█████████ | 18/20 [00:46<00:05,  2.59s/it]"
     ]
    },
    {
     "name": "stdout",
     "output_type": "stream",
     "text": [
      "la_009.nii.gz Dice list by number of clicks (left atrium): [0.5528, 0.6505, 0.6199, 0.6234, 0.6155]\n"
     ]
    },
    {
     "name": "stderr",
     "output_type": "stream",
     "text": [
      " 95%|█████████▌| 19/20 [00:49<00:02,  2.68s/it]"
     ]
    },
    {
     "name": "stdout",
     "output_type": "stream",
     "text": [
      "la_026.nii.gz Dice list by number of clicks (left atrium): [0.3802, 0.5927, 0.633, 0.6875, 0.638]\n",
      "Save results to /home/t722s/Desktop/Sam-Med3DTest/NetworkHeartModified/eval_res_from_inference.json\n",
      "Done\n"
     ]
    },
    {
     "name": "stderr",
     "output_type": "stream",
     "text": [
      "100%|██████████| 20/20 [00:52<00:00,  2.63s/it]\n"
     ]
    },
    {
     "name": "stdout",
     "output_type": "stream",
     "text": [
      "set seed as 2020\n",
      "Cheating! Cropping around ground truth\n",
      "device: cuda\n"
     ]
    },
    {
     "name": "stderr",
     "output_type": "stream",
     "text": [
      "  0%|          | 0/20 [00:00<?, ?it/s]"
     ]
    },
    {
     "name": "stdout",
     "output_type": "stream",
     "text": [
      "la_014.nii.gz Dice list by number of clicks (left atrium): [0.7031, 0.6829, 0.6524, 0.6462, 0.6887]\n"
     ]
    },
    {
     "name": "stderr",
     "output_type": "stream",
     "text": [
      "  5%|▌         | 1/20 [00:02<00:49,  2.62s/it]"
     ]
    },
    {
     "name": "stdout",
     "output_type": "stream",
     "text": [
      "la_022.nii.gz Dice list by number of clicks (left atrium): [0.6766, 0.712, 0.7556, 0.7605, 0.7698]\n"
     ]
    },
    {
     "name": "stderr",
     "output_type": "stream",
     "text": [
      " 10%|█         | 2/20 [00:04<00:42,  2.38s/it]"
     ]
    },
    {
     "name": "stdout",
     "output_type": "stream",
     "text": [
      "la_030.nii.gz Dice list by number of clicks (left atrium): [0.4019, 0.6054, 0.6198, 0.6168, 0.6121]\n"
     ]
    },
    {
     "name": "stderr",
     "output_type": "stream",
     "text": [
      " 15%|█▌        | 3/20 [00:07<00:41,  2.43s/it]"
     ]
    },
    {
     "name": "stdout",
     "output_type": "stream",
     "text": [
      "la_010.nii.gz Dice list by number of clicks (left atrium): [0.6504, 0.7219, 0.7174, 0.7044, 0.6953]\n"
     ]
    },
    {
     "name": "stderr",
     "output_type": "stream",
     "text": [
      " 20%|██        | 4/20 [00:09<00:37,  2.37s/it]"
     ]
    },
    {
     "name": "stdout",
     "output_type": "stream",
     "text": [
      "la_007.nii.gz Dice list by number of clicks (left atrium): [0.6256, 0.6946, 0.7004, 0.7185, 0.6812]\n"
     ]
    },
    {
     "name": "stderr",
     "output_type": "stream",
     "text": [
      " 25%|██▌       | 5/20 [00:12<00:36,  2.43s/it]"
     ]
    },
    {
     "name": "stdout",
     "output_type": "stream",
     "text": [
      "la_023.nii.gz Dice list by number of clicks (left atrium): [0.6887, 0.7465, 0.7414, 0.7516, 0.7601]\n"
     ]
    },
    {
     "name": "stderr",
     "output_type": "stream",
     "text": [
      " 30%|███       | 6/20 [00:14<00:33,  2.38s/it]"
     ]
    },
    {
     "name": "stdout",
     "output_type": "stream",
     "text": [
      "la_017.nii.gz Dice list by number of clicks (left atrium): [0.5912, 0.6288, 0.638, 0.6429, 0.6371]\n"
     ]
    },
    {
     "name": "stderr",
     "output_type": "stream",
     "text": [
      " 35%|███▌      | 7/20 [00:16<00:30,  2.34s/it]"
     ]
    },
    {
     "name": "stdout",
     "output_type": "stream",
     "text": [
      "la_016.nii.gz Dice list by number of clicks (left atrium): [0.6868, 0.7176, 0.7068, 0.6694, 0.6552]\n"
     ]
    },
    {
     "name": "stderr",
     "output_type": "stream",
     "text": [
      " 40%|████      | 8/20 [00:18<00:26,  2.23s/it]"
     ]
    },
    {
     "name": "stdout",
     "output_type": "stream",
     "text": [
      "la_029.nii.gz Dice list by number of clicks (left atrium): [0.6071, 0.6519, 0.6563, 0.6556, 0.6599]\n"
     ]
    },
    {
     "name": "stderr",
     "output_type": "stream",
     "text": [
      " 45%|████▌     | 9/20 [00:21<00:28,  2.55s/it]"
     ]
    },
    {
     "name": "stdout",
     "output_type": "stream",
     "text": [
      "la_024.nii.gz Dice list by number of clicks (left atrium): [0.3836, 0.6183, 0.6239, 0.6084, 0.5478]\n"
     ]
    },
    {
     "name": "stderr",
     "output_type": "stream",
     "text": [
      " 50%|█████     | 10/20 [00:24<00:26,  2.69s/it]"
     ]
    },
    {
     "name": "stdout",
     "output_type": "stream",
     "text": [
      "la_020.nii.gz Dice list by number of clicks (left atrium): [0.6407, 0.5958, 0.6359, 0.6001, 0.5791]\n"
     ]
    },
    {
     "name": "stderr",
     "output_type": "stream",
     "text": [
      " 55%|█████▌    | 11/20 [00:27<00:24,  2.68s/it]"
     ]
    },
    {
     "name": "stdout",
     "output_type": "stream",
     "text": [
      "la_003.nii.gz Dice list by number of clicks (left atrium): [0.6227, 0.722, 0.537, 0.6621, 0.6513]\n"
     ]
    },
    {
     "name": "stderr",
     "output_type": "stream",
     "text": [
      " 60%|██████    | 12/20 [00:29<00:20,  2.58s/it]"
     ]
    },
    {
     "name": "stdout",
     "output_type": "stream",
     "text": [
      "la_011.nii.gz Dice list by number of clicks (left atrium): [0.5188, 0.6307, 0.5844, 0.6392, 0.6781]\n"
     ]
    },
    {
     "name": "stderr",
     "output_type": "stream",
     "text": [
      " 65%|██████▌   | 13/20 [00:32<00:17,  2.48s/it]"
     ]
    },
    {
     "name": "stdout",
     "output_type": "stream",
     "text": [
      "la_005.nii.gz Dice list by number of clicks (left atrium): [0.6011, 0.6159, 0.5643, 0.5986, 0.5688]\n"
     ]
    },
    {
     "name": "stderr",
     "output_type": "stream",
     "text": [
      " 70%|███████   | 14/20 [00:34<00:14,  2.42s/it]"
     ]
    },
    {
     "name": "stdout",
     "output_type": "stream",
     "text": [
      "la_018.nii.gz Dice list by number of clicks (left atrium): [0.5844, 0.5723, 0.6737, 0.6861, 0.6915]\n"
     ]
    },
    {
     "name": "stderr",
     "output_type": "stream",
     "text": [
      " 75%|███████▌  | 15/20 [00:36<00:11,  2.37s/it]"
     ]
    },
    {
     "name": "stdout",
     "output_type": "stream",
     "text": [
      "la_021.nii.gz Dice list by number of clicks (left atrium): [0.4058, 0.6267, 0.6784, 0.617, 0.6856]\n"
     ]
    },
    {
     "name": "stderr",
     "output_type": "stream",
     "text": [
      " 80%|████████  | 16/20 [00:38<00:09,  2.30s/it]"
     ]
    },
    {
     "name": "stdout",
     "output_type": "stream",
     "text": [
      "la_019.nii.gz Dice list by number of clicks (left atrium): [0.6472, 0.6626, 0.6601, 0.6675, 0.6082]\n"
     ]
    },
    {
     "name": "stderr",
     "output_type": "stream",
     "text": [
      " 85%|████████▌ | 17/20 [00:40<00:06,  2.22s/it]"
     ]
    },
    {
     "name": "stdout",
     "output_type": "stream",
     "text": [
      "la_004.nii.gz Dice list by number of clicks (left atrium): [0.6234, 0.4557, 0.5969, 0.5467, 0.5784]\n"
     ]
    },
    {
     "name": "stderr",
     "output_type": "stream",
     "text": [
      " 90%|█████████ | 18/20 [00:43<00:04,  2.21s/it]"
     ]
    },
    {
     "name": "stdout",
     "output_type": "stream",
     "text": [
      "la_009.nii.gz Dice list by number of clicks (left atrium): [0.0487, 0.0571, 0.3144, 0.5688, 0.5818]\n"
     ]
    },
    {
     "name": "stderr",
     "output_type": "stream",
     "text": [
      " 95%|█████████▌| 19/20 [00:45<00:02,  2.17s/it]"
     ]
    },
    {
     "name": "stdout",
     "output_type": "stream",
     "text": [
      "la_026.nii.gz Dice list by number of clicks (left atrium): [0.5528, 0.5572, 0.5427, 0.6867, 0.6667]\n",
      "Save results to /home/t722s/Desktop/Sam-Med3DTest/NetworkHeartModified/eval_res_from_inference.json\n",
      "Done\n"
     ]
    },
    {
     "name": "stderr",
     "output_type": "stream",
     "text": [
      "100%|██████████| 20/20 [00:47<00:00,  2.37s/it]\n"
     ]
    },
    {
     "name": "stdout",
     "output_type": "stream",
     "text": [
      "set seed as 2020\n",
      "Cheating! Cropping around ground truth\n",
      "device: cuda\n"
     ]
    },
    {
     "name": "stderr",
     "output_type": "stream",
     "text": [
      "  0%|          | 0/20 [00:00<?, ?it/s]"
     ]
    },
    {
     "name": "stdout",
     "output_type": "stream",
     "text": [
      "la_014.nii.gz Dice list by number of clicks (left atrium): [0.6903, 0.6896, 0.6811, 0.734, 0.6804]\n"
     ]
    },
    {
     "name": "stderr",
     "output_type": "stream",
     "text": [
      "  5%|▌         | 1/20 [00:02<00:47,  2.50s/it]"
     ]
    },
    {
     "name": "stdout",
     "output_type": "stream",
     "text": [
      "la_022.nii.gz Dice list by number of clicks (left atrium): [0.6229, 0.7417, 0.7297, 0.7228, 0.7019]\n"
     ]
    },
    {
     "name": "stderr",
     "output_type": "stream",
     "text": [
      " 10%|█         | 2/20 [00:04<00:40,  2.27s/it]"
     ]
    },
    {
     "name": "stdout",
     "output_type": "stream",
     "text": [
      "la_030.nii.gz Dice list by number of clicks (left atrium): [0.6914, 0.6701, 0.6696, 0.6624, 0.6485]\n"
     ]
    },
    {
     "name": "stderr",
     "output_type": "stream",
     "text": [
      " 15%|█▌        | 3/20 [00:06<00:37,  2.22s/it]"
     ]
    },
    {
     "name": "stdout",
     "output_type": "stream",
     "text": [
      "la_010.nii.gz Dice list by number of clicks (left atrium): [0.6061, 0.5232, 0.5941, 0.5763, 0.6039]\n"
     ]
    },
    {
     "name": "stderr",
     "output_type": "stream",
     "text": [
      " 20%|██        | 4/20 [00:09<00:36,  2.29s/it]"
     ]
    },
    {
     "name": "stdout",
     "output_type": "stream",
     "text": [
      "la_007.nii.gz Dice list by number of clicks (left atrium): [0.6374, 0.5269, 0.3116, 0.4623, 0.501]\n"
     ]
    },
    {
     "name": "stderr",
     "output_type": "stream",
     "text": [
      " 25%|██▌       | 5/20 [00:11<00:34,  2.31s/it]"
     ]
    },
    {
     "name": "stdout",
     "output_type": "stream",
     "text": [
      "la_023.nii.gz Dice list by number of clicks (left atrium): [0.6568, 0.6923, 0.7282, 0.7138, 0.7229]\n"
     ]
    },
    {
     "name": "stderr",
     "output_type": "stream",
     "text": [
      " 30%|███       | 6/20 [00:13<00:31,  2.26s/it]"
     ]
    },
    {
     "name": "stdout",
     "output_type": "stream",
     "text": [
      "la_017.nii.gz Dice list by number of clicks (left atrium): [0.6072, 0.6467, 0.6404, 0.6344, 0.637]\n"
     ]
    },
    {
     "name": "stderr",
     "output_type": "stream",
     "text": [
      " 35%|███▌      | 7/20 [00:15<00:29,  2.24s/it]"
     ]
    },
    {
     "name": "stdout",
     "output_type": "stream",
     "text": [
      "la_016.nii.gz Dice list by number of clicks (left atrium): [0.7078, 0.655, 0.6617, 0.6566, 0.6508]\n"
     ]
    },
    {
     "name": "stderr",
     "output_type": "stream",
     "text": [
      " 40%|████      | 8/20 [00:17<00:25,  2.16s/it]"
     ]
    },
    {
     "name": "stdout",
     "output_type": "stream",
     "text": [
      "la_029.nii.gz Dice list by number of clicks (left atrium): [0.6337, 0.6452, 0.6321, 0.6143, 0.6116]\n"
     ]
    },
    {
     "name": "stderr",
     "output_type": "stream",
     "text": [
      " 45%|████▌     | 9/20 [00:19<00:23,  2.15s/it]"
     ]
    },
    {
     "name": "stdout",
     "output_type": "stream",
     "text": [
      "la_024.nii.gz Dice list by number of clicks (left atrium): [0.6823, 0.6018, 0.4748, 0.6409, 0.6687]\n"
     ]
    },
    {
     "name": "stderr",
     "output_type": "stream",
     "text": [
      " 50%|█████     | 10/20 [00:22<00:21,  2.17s/it]"
     ]
    },
    {
     "name": "stdout",
     "output_type": "stream",
     "text": [
      "la_020.nii.gz Dice list by number of clicks (left atrium): [0.6165, 0.6849, 0.6821, 0.6729, 0.6419]\n"
     ]
    },
    {
     "name": "stderr",
     "output_type": "stream",
     "text": [
      " 55%|█████▌    | 11/20 [00:24<00:19,  2.19s/it]"
     ]
    },
    {
     "name": "stdout",
     "output_type": "stream",
     "text": [
      "la_003.nii.gz Dice list by number of clicks (left atrium): [0.7149, 0.6241, 0.55, 0.7296, 0.6887]\n"
     ]
    },
    {
     "name": "stderr",
     "output_type": "stream",
     "text": [
      " 60%|██████    | 12/20 [00:26<00:18,  2.29s/it]"
     ]
    },
    {
     "name": "stdout",
     "output_type": "stream",
     "text": [
      "la_011.nii.gz Dice list by number of clicks (left atrium): [0.6845, 0.6755, 0.6808, 0.6785, 0.6661]\n"
     ]
    },
    {
     "name": "stderr",
     "output_type": "stream",
     "text": [
      " 65%|██████▌   | 13/20 [00:29<00:16,  2.30s/it]"
     ]
    },
    {
     "name": "stdout",
     "output_type": "stream",
     "text": [
      "la_005.nii.gz Dice list by number of clicks (left atrium): [0.322, 0.6235, 0.6543, 0.6343, 0.591]\n"
     ]
    },
    {
     "name": "stderr",
     "output_type": "stream",
     "text": [
      " 70%|███████   | 14/20 [00:32<00:15,  2.57s/it]"
     ]
    },
    {
     "name": "stdout",
     "output_type": "stream",
     "text": [
      "la_018.nii.gz Dice list by number of clicks (left atrium): [0.5793, 0.539, 0.6937, 0.6714, 0.6701]\n"
     ]
    },
    {
     "name": "stderr",
     "output_type": "stream",
     "text": [
      " 75%|███████▌  | 15/20 [00:34<00:12,  2.51s/it]"
     ]
    },
    {
     "name": "stdout",
     "output_type": "stream",
     "text": [
      "la_021.nii.gz Dice list by number of clicks (left atrium): [0.5298, 0.6203, 0.6509, 0.5986, 0.7012]\n"
     ]
    },
    {
     "name": "stderr",
     "output_type": "stream",
     "text": [
      " 80%|████████  | 16/20 [00:37<00:09,  2.49s/it]"
     ]
    },
    {
     "name": "stdout",
     "output_type": "stream",
     "text": [
      "la_019.nii.gz Dice list by number of clicks (left atrium): [0.6478, 0.6581, 0.532, 0.6532, 0.5177]\n"
     ]
    },
    {
     "name": "stderr",
     "output_type": "stream",
     "text": [
      " 85%|████████▌ | 17/20 [00:39<00:07,  2.50s/it]"
     ]
    },
    {
     "name": "stdout",
     "output_type": "stream",
     "text": [
      "la_004.nii.gz Dice list by number of clicks (left atrium): [0.5545, 0.5439, 0.493, 0.5692, 0.5082]\n"
     ]
    },
    {
     "name": "stderr",
     "output_type": "stream",
     "text": [
      " 90%|█████████ | 18/20 [00:42<00:05,  2.50s/it]"
     ]
    },
    {
     "name": "stdout",
     "output_type": "stream",
     "text": [
      "la_009.nii.gz Dice list by number of clicks (left atrium): [0.1274, 0.5625, 0.5717, 0.583, 0.5985]\n"
     ]
    },
    {
     "name": "stderr",
     "output_type": "stream",
     "text": [
      " 95%|█████████▌| 19/20 [00:44<00:02,  2.51s/it]"
     ]
    },
    {
     "name": "stdout",
     "output_type": "stream",
     "text": [
      "la_026.nii.gz Dice list by number of clicks (left atrium): [0.3297, 0.5492, 0.6396, 0.4495, 0.615]\n",
      "Save results to /home/t722s/Desktop/Sam-Med3DTest/NetworkHeartModified/eval_res_from_inference.json\n",
      "Done\n"
     ]
    },
    {
     "name": "stderr",
     "output_type": "stream",
     "text": [
      "100%|██████████| 20/20 [00:47<00:00,  2.37s/it]\n"
     ]
    },
    {
     "name": "stdout",
     "output_type": "stream",
     "text": [
      "set seed as 2020\n",
      "Cheating! Cropping around ground truth\n",
      "device: cuda\n"
     ]
    },
    {
     "name": "stderr",
     "output_type": "stream",
     "text": [
      "  0%|          | 0/20 [00:00<?, ?it/s]"
     ]
    },
    {
     "name": "stdout",
     "output_type": "stream",
     "text": [
      "la_014.nii.gz Dice list by number of clicks (left atrium): [0.6808, 0.7014, 0.7031, 0.7638, 0.7183]\n"
     ]
    },
    {
     "name": "stderr",
     "output_type": "stream",
     "text": [
      "  5%|▌         | 1/20 [00:02<00:46,  2.45s/it]"
     ]
    },
    {
     "name": "stdout",
     "output_type": "stream",
     "text": [
      "la_022.nii.gz Dice list by number of clicks (left atrium): [0.5278, 0.6759, 0.7122, 0.7427, 0.7413]\n"
     ]
    },
    {
     "name": "stderr",
     "output_type": "stream",
     "text": [
      " 10%|█         | 2/20 [00:04<00:41,  2.31s/it]"
     ]
    },
    {
     "name": "stdout",
     "output_type": "stream",
     "text": [
      "la_030.nii.gz Dice list by number of clicks (left atrium): [0.6639, 0.6573, 0.6036, 0.6143, 0.6096]\n"
     ]
    },
    {
     "name": "stderr",
     "output_type": "stream",
     "text": [
      " 15%|█▌        | 3/20 [00:06<00:39,  2.31s/it]"
     ]
    },
    {
     "name": "stdout",
     "output_type": "stream",
     "text": [
      "la_010.nii.gz Dice list by number of clicks (left atrium): [0.692, 0.6483, 0.6525, 0.646, 0.6052]\n"
     ]
    },
    {
     "name": "stderr",
     "output_type": "stream",
     "text": [
      " 20%|██        | 4/20 [00:10<00:45,  2.84s/it]"
     ]
    },
    {
     "name": "stdout",
     "output_type": "stream",
     "text": [
      "la_007.nii.gz Dice list by number of clicks (left atrium): [0.5057, 0.6374, 0.623, 0.7172, 0.7044]\n"
     ]
    },
    {
     "name": "stderr",
     "output_type": "stream",
     "text": [
      " 25%|██▌       | 5/20 [00:13<00:41,  2.75s/it]"
     ]
    },
    {
     "name": "stdout",
     "output_type": "stream",
     "text": [
      "la_023.nii.gz Dice list by number of clicks (left atrium): [0.7286, 0.7452, 0.7549, 0.7586, 0.7552]\n"
     ]
    },
    {
     "name": "stderr",
     "output_type": "stream",
     "text": [
      " 30%|███       | 6/20 [00:15<00:37,  2.66s/it]"
     ]
    },
    {
     "name": "stdout",
     "output_type": "stream",
     "text": [
      "la_017.nii.gz Dice list by number of clicks (left atrium): [0.687, 0.6801, 0.6684, 0.6684, 0.6485]\n"
     ]
    },
    {
     "name": "stderr",
     "output_type": "stream",
     "text": [
      " 35%|███▌      | 7/20 [00:18<00:33,  2.59s/it]"
     ]
    },
    {
     "name": "stdout",
     "output_type": "stream",
     "text": [
      "la_016.nii.gz Dice list by number of clicks (left atrium): [0.6889, 0.7261, 0.6844, 0.678, 0.6781]\n"
     ]
    },
    {
     "name": "stderr",
     "output_type": "stream",
     "text": [
      " 40%|████      | 8/20 [00:20<00:29,  2.48s/it]"
     ]
    },
    {
     "name": "stdout",
     "output_type": "stream",
     "text": [
      "la_029.nii.gz Dice list by number of clicks (left atrium): [0.5728, 0.5853, 0.6109, 0.5779, 0.5973]\n"
     ]
    },
    {
     "name": "stderr",
     "output_type": "stream",
     "text": [
      " 45%|████▌     | 9/20 [00:22<00:26,  2.43s/it]"
     ]
    },
    {
     "name": "stdout",
     "output_type": "stream",
     "text": [
      "la_024.nii.gz Dice list by number of clicks (left atrium): [0.691, 0.6482, 0.6522, 0.4852, 0.3644]\n"
     ]
    },
    {
     "name": "stderr",
     "output_type": "stream",
     "text": [
      " 50%|█████     | 10/20 [00:25<00:24,  2.50s/it]"
     ]
    },
    {
     "name": "stdout",
     "output_type": "stream",
     "text": [
      "la_020.nii.gz Dice list by number of clicks (left atrium): [0.7166, 0.6822, 0.6477, 0.6104, 0.6732]\n"
     ]
    },
    {
     "name": "stderr",
     "output_type": "stream",
     "text": [
      " 55%|█████▌    | 11/20 [00:28<00:23,  2.59s/it]"
     ]
    },
    {
     "name": "stdout",
     "output_type": "stream",
     "text": [
      "la_003.nii.gz Dice list by number of clicks (left atrium): [0.6979, 0.7532, 0.6575, 0.7139, 0.6844]\n"
     ]
    },
    {
     "name": "stderr",
     "output_type": "stream",
     "text": [
      " 60%|██████    | 12/20 [00:30<00:20,  2.52s/it]"
     ]
    },
    {
     "name": "stdout",
     "output_type": "stream",
     "text": [
      "la_011.nii.gz Dice list by number of clicks (left atrium): [0.6468, 0.607, 0.6179, 0.6541, 0.654]\n"
     ]
    },
    {
     "name": "stderr",
     "output_type": "stream",
     "text": [
      " 65%|██████▌   | 13/20 [00:33<00:17,  2.52s/it]"
     ]
    },
    {
     "name": "stdout",
     "output_type": "stream",
     "text": [
      "la_005.nii.gz Dice list by number of clicks (left atrium): [0.6542, 0.6222, 0.5928, 0.6096, 0.6692]\n"
     ]
    },
    {
     "name": "stderr",
     "output_type": "stream",
     "text": [
      " 70%|███████   | 14/20 [00:35<00:15,  2.50s/it]"
     ]
    },
    {
     "name": "stdout",
     "output_type": "stream",
     "text": [
      "la_018.nii.gz Dice list by number of clicks (left atrium): [0.6126, 0.5032, 0.6199, 0.5068, 0.611]\n"
     ]
    },
    {
     "name": "stderr",
     "output_type": "stream",
     "text": [
      " 75%|███████▌  | 15/20 [00:37<00:12,  2.43s/it]"
     ]
    },
    {
     "name": "stdout",
     "output_type": "stream",
     "text": [
      "la_021.nii.gz Dice list by number of clicks (left atrium): [0.6784, 0.6552, 0.6429, 0.6425, 0.6436]\n"
     ]
    },
    {
     "name": "stderr",
     "output_type": "stream",
     "text": [
      " 80%|████████  | 16/20 [00:40<00:09,  2.41s/it]"
     ]
    },
    {
     "name": "stdout",
     "output_type": "stream",
     "text": [
      "la_019.nii.gz Dice list by number of clicks (left atrium): [0.4462, 0.5707, 0.6062, 0.5082, 0.6144]\n"
     ]
    },
    {
     "name": "stderr",
     "output_type": "stream",
     "text": [
      " 85%|████████▌ | 17/20 [00:42<00:07,  2.37s/it]"
     ]
    },
    {
     "name": "stdout",
     "output_type": "stream",
     "text": [
      "la_004.nii.gz Dice list by number of clicks (left atrium): [0.4353, 0.5096, 0.5456, 0.5271, 0.2781]\n"
     ]
    },
    {
     "name": "stderr",
     "output_type": "stream",
     "text": [
      " 95%|█████████▌| 19/20 [00:48<00:02,  2.62s/it]"
     ]
    },
    {
     "name": "stdout",
     "output_type": "stream",
     "text": [
      "la_009.nii.gz Dice list by number of clicks (left atrium): [0.471, 0.5412, 0.6021, 0.5783, 0.6304]\n",
      "la_026.nii.gz Dice list by number of clicks (left atrium): [0.3981, 0.6649, 0.6672, 0.6269, 0.5087]\n",
      "Save results to /home/t722s/Desktop/Sam-Med3DTest/NetworkHeartModified/eval_res_from_inference.json\n",
      "Done\n"
     ]
    },
    {
     "name": "stderr",
     "output_type": "stream",
     "text": [
      "100%|██████████| 20/20 [00:51<00:00,  2.55s/it]\n"
     ]
    },
    {
     "name": "stdout",
     "output_type": "stream",
     "text": [
      "set seed as 2020\n",
      "Cheating! Cropping around ground truth\n",
      "device: cuda\n"
     ]
    },
    {
     "name": "stderr",
     "output_type": "stream",
     "text": [
      "  0%|          | 0/20 [00:00<?, ?it/s]"
     ]
    },
    {
     "name": "stdout",
     "output_type": "stream",
     "text": [
      "la_014.nii.gz Dice list by number of clicks (left atrium): [0.6368, 0.6576, 0.6671, 0.6528, 0.6336]\n"
     ]
    },
    {
     "name": "stderr",
     "output_type": "stream",
     "text": [
      "  5%|▌         | 1/20 [00:02<00:49,  2.62s/it]"
     ]
    },
    {
     "name": "stdout",
     "output_type": "stream",
     "text": [
      "la_022.nii.gz Dice list by number of clicks (left atrium): [0.7151, 0.7285, 0.7571, 0.763, 0.7695]\n"
     ]
    },
    {
     "name": "stderr",
     "output_type": "stream",
     "text": [
      " 10%|█         | 2/20 [00:05<00:44,  2.49s/it]"
     ]
    },
    {
     "name": "stdout",
     "output_type": "stream",
     "text": [
      "la_030.nii.gz Dice list by number of clicks (left atrium): [0.6025, 0.6088, 0.6189, 0.6135, 0.6411]\n"
     ]
    },
    {
     "name": "stderr",
     "output_type": "stream",
     "text": [
      " 15%|█▌        | 3/20 [00:07<00:41,  2.41s/it]"
     ]
    },
    {
     "name": "stdout",
     "output_type": "stream",
     "text": [
      "la_010.nii.gz Dice list by number of clicks (left atrium): [0.3945, 0.6345, 0.6198, 0.6041, 0.6149]\n"
     ]
    },
    {
     "name": "stderr",
     "output_type": "stream",
     "text": [
      " 20%|██        | 4/20 [00:09<00:39,  2.45s/it]"
     ]
    },
    {
     "name": "stdout",
     "output_type": "stream",
     "text": [
      "la_007.nii.gz Dice list by number of clicks (left atrium): [0.577, 0.4389, 0.5538, 0.5686, 0.6014]\n"
     ]
    },
    {
     "name": "stderr",
     "output_type": "stream",
     "text": [
      " 25%|██▌       | 5/20 [00:12<00:36,  2.44s/it]"
     ]
    },
    {
     "name": "stdout",
     "output_type": "stream",
     "text": [
      "la_023.nii.gz Dice list by number of clicks (left atrium): [0.7008, 0.7443, 0.767, 0.7704, 0.7748]\n"
     ]
    },
    {
     "name": "stderr",
     "output_type": "stream",
     "text": [
      " 30%|███       | 6/20 [00:14<00:34,  2.45s/it]"
     ]
    },
    {
     "name": "stdout",
     "output_type": "stream",
     "text": [
      "la_017.nii.gz Dice list by number of clicks (left atrium): [0.5989, 0.502, 0.5398, 0.5923, 0.6342]\n"
     ]
    },
    {
     "name": "stderr",
     "output_type": "stream",
     "text": [
      " 35%|███▌      | 7/20 [00:17<00:33,  2.56s/it]"
     ]
    },
    {
     "name": "stdout",
     "output_type": "stream",
     "text": [
      "la_016.nii.gz Dice list by number of clicks (left atrium): [0.6776, 0.662, 0.661, 0.6587, 0.6463]\n"
     ]
    },
    {
     "name": "stderr",
     "output_type": "stream",
     "text": [
      " 40%|████      | 8/20 [00:19<00:29,  2.43s/it]"
     ]
    },
    {
     "name": "stdout",
     "output_type": "stream",
     "text": [
      "la_029.nii.gz Dice list by number of clicks (left atrium): [0.6095, 0.557, 0.5936, 0.5757, 0.595]\n"
     ]
    },
    {
     "name": "stderr",
     "output_type": "stream",
     "text": [
      " 45%|████▌     | 9/20 [00:21<00:25,  2.36s/it]"
     ]
    },
    {
     "name": "stdout",
     "output_type": "stream",
     "text": [
      "la_024.nii.gz Dice list by number of clicks (left atrium): [0.3672, 0.6232, 0.5269, 0.6108, 0.6448]\n"
     ]
    },
    {
     "name": "stderr",
     "output_type": "stream",
     "text": [
      " 50%|█████     | 10/20 [00:24<00:23,  2.39s/it]"
     ]
    },
    {
     "name": "stdout",
     "output_type": "stream",
     "text": [
      "la_020.nii.gz Dice list by number of clicks (left atrium): [0.7142, 0.6437, 0.667, 0.6367, 0.6336]\n"
     ]
    },
    {
     "name": "stderr",
     "output_type": "stream",
     "text": [
      " 55%|█████▌    | 11/20 [00:26<00:21,  2.41s/it]"
     ]
    },
    {
     "name": "stdout",
     "output_type": "stream",
     "text": [
      "la_003.nii.gz Dice list by number of clicks (left atrium): [0.6499, 0.6522, 0.5865, 0.6419, 0.6333]\n"
     ]
    },
    {
     "name": "stderr",
     "output_type": "stream",
     "text": [
      " 60%|██████    | 12/20 [00:29<00:19,  2.43s/it]"
     ]
    },
    {
     "name": "stdout",
     "output_type": "stream",
     "text": [
      "la_011.nii.gz Dice list by number of clicks (left atrium): [0.4014, 0.5275, 0.6479, 0.6421, 0.6703]\n"
     ]
    },
    {
     "name": "stderr",
     "output_type": "stream",
     "text": [
      " 65%|██████▌   | 13/20 [00:32<00:18,  2.66s/it]"
     ]
    },
    {
     "name": "stdout",
     "output_type": "stream",
     "text": [
      "la_005.nii.gz Dice list by number of clicks (left atrium): [0.5173, 0.5656, 0.6642, 0.6327, 0.6467]\n"
     ]
    },
    {
     "name": "stderr",
     "output_type": "stream",
     "text": [
      " 70%|███████   | 14/20 [00:34<00:15,  2.58s/it]"
     ]
    },
    {
     "name": "stdout",
     "output_type": "stream",
     "text": [
      "la_018.nii.gz Dice list by number of clicks (left atrium): [0.5237, 0.5584, 0.5948, 0.6286, 0.6389]\n"
     ]
    },
    {
     "name": "stderr",
     "output_type": "stream",
     "text": [
      " 75%|███████▌  | 15/20 [00:37<00:12,  2.58s/it]"
     ]
    },
    {
     "name": "stdout",
     "output_type": "stream",
     "text": [
      "la_021.nii.gz Dice list by number of clicks (left atrium): [0.5906, 0.6187, 0.6159, 0.6206, 0.5897]\n"
     ]
    },
    {
     "name": "stderr",
     "output_type": "stream",
     "text": [
      " 80%|████████  | 16/20 [00:39<00:09,  2.50s/it]"
     ]
    },
    {
     "name": "stdout",
     "output_type": "stream",
     "text": [
      "la_019.nii.gz Dice list by number of clicks (left atrium): [0.6655, 0.6741, 0.5182, 0.6172, 0.5256]\n"
     ]
    },
    {
     "name": "stderr",
     "output_type": "stream",
     "text": [
      " 85%|████████▌ | 17/20 [00:42<00:07,  2.51s/it]"
     ]
    },
    {
     "name": "stdout",
     "output_type": "stream",
     "text": [
      "la_004.nii.gz Dice list by number of clicks (left atrium): [0.3368, 0.2875, 0.5084, 0.5245, 0.199]\n"
     ]
    },
    {
     "name": "stderr",
     "output_type": "stream",
     "text": [
      " 90%|█████████ | 18/20 [00:44<00:04,  2.48s/it]"
     ]
    },
    {
     "name": "stdout",
     "output_type": "stream",
     "text": [
      "la_009.nii.gz Dice list by number of clicks (left atrium): [0.5762, 0.6156, 0.6387, 0.6434, 0.6424]\n"
     ]
    },
    {
     "name": "stderr",
     "output_type": "stream",
     "text": [
      " 95%|█████████▌| 19/20 [00:46<00:02,  2.41s/it]"
     ]
    },
    {
     "name": "stdout",
     "output_type": "stream",
     "text": [
      "la_026.nii.gz Dice list by number of clicks (left atrium): [0.4119, 0.62, 0.6035, 0.4972, 0.6359]\n",
      "Save results to /home/t722s/Desktop/Sam-Med3DTest/NetworkHeartModified/eval_res_from_inference.json\n",
      "Done\n"
     ]
    },
    {
     "name": "stderr",
     "output_type": "stream",
     "text": [
      "100%|██████████| 20/20 [00:50<00:00,  2.51s/it]\n"
     ]
    },
    {
     "name": "stdout",
     "output_type": "stream",
     "text": [
      "set seed as 2020\n",
      "Cheating! Cropping around ground truth\n",
      "device: cuda\n"
     ]
    },
    {
     "name": "stderr",
     "output_type": "stream",
     "text": [
      "  0%|          | 0/20 [00:00<?, ?it/s]"
     ]
    },
    {
     "name": "stdout",
     "output_type": "stream",
     "text": [
      "la_014.nii.gz Dice list by number of clicks (left atrium): [0.7058, 0.7003, 0.6897, 0.7411, 0.6913]\n"
     ]
    },
    {
     "name": "stderr",
     "output_type": "stream",
     "text": [
      "  5%|▌         | 1/20 [00:02<00:47,  2.48s/it]"
     ]
    },
    {
     "name": "stdout",
     "output_type": "stream",
     "text": [
      "la_022.nii.gz Dice list by number of clicks (left atrium): [0.6869, 0.7134, 0.747, 0.7469, 0.7115]\n"
     ]
    },
    {
     "name": "stderr",
     "output_type": "stream",
     "text": [
      " 10%|█         | 2/20 [00:04<00:40,  2.27s/it]"
     ]
    },
    {
     "name": "stdout",
     "output_type": "stream",
     "text": [
      "la_030.nii.gz Dice list by number of clicks (left atrium): [0.6076, 0.6106, 0.6879, 0.7345, 0.7485]\n"
     ]
    },
    {
     "name": "stderr",
     "output_type": "stream",
     "text": [
      " 15%|█▌        | 3/20 [00:06<00:37,  2.22s/it]"
     ]
    },
    {
     "name": "stdout",
     "output_type": "stream",
     "text": [
      "la_010.nii.gz Dice list by number of clicks (left atrium): [0.5727, 0.3967, 0.6441, 0.6153, 0.6042]\n"
     ]
    },
    {
     "name": "stderr",
     "output_type": "stream",
     "text": [
      " 20%|██        | 4/20 [00:09<00:35,  2.23s/it]"
     ]
    },
    {
     "name": "stdout",
     "output_type": "stream",
     "text": [
      "la_007.nii.gz Dice list by number of clicks (left atrium): [0.6001, 0.6738, 0.6364, 0.668, 0.6274]\n"
     ]
    },
    {
     "name": "stderr",
     "output_type": "stream",
     "text": [
      " 25%|██▌       | 5/20 [00:11<00:33,  2.25s/it]"
     ]
    },
    {
     "name": "stdout",
     "output_type": "stream",
     "text": [
      "la_023.nii.gz Dice list by number of clicks (left atrium): [0.7152, 0.716, 0.7307, 0.7224, 0.7092]\n"
     ]
    },
    {
     "name": "stderr",
     "output_type": "stream",
     "text": [
      " 30%|███       | 6/20 [00:13<00:30,  2.20s/it]"
     ]
    },
    {
     "name": "stdout",
     "output_type": "stream",
     "text": [
      "la_017.nii.gz Dice list by number of clicks (left atrium): [0.5927, 0.6344, 0.6449, 0.6432, 0.6387]\n"
     ]
    },
    {
     "name": "stderr",
     "output_type": "stream",
     "text": [
      " 35%|███▌      | 7/20 [00:15<00:28,  2.23s/it]"
     ]
    },
    {
     "name": "stdout",
     "output_type": "stream",
     "text": [
      "la_016.nii.gz Dice list by number of clicks (left atrium): [0.6644, 0.7002, 0.7481, 0.7423, 0.7554]\n"
     ]
    },
    {
     "name": "stderr",
     "output_type": "stream",
     "text": [
      " 40%|████      | 8/20 [00:17<00:26,  2.17s/it]"
     ]
    },
    {
     "name": "stdout",
     "output_type": "stream",
     "text": [
      "la_029.nii.gz Dice list by number of clicks (left atrium): [0.6402, 0.6469, 0.6637, 0.6647, 0.6671]\n"
     ]
    },
    {
     "name": "stderr",
     "output_type": "stream",
     "text": [
      " 45%|████▌     | 9/20 [00:19<00:23,  2.15s/it]"
     ]
    },
    {
     "name": "stdout",
     "output_type": "stream",
     "text": [
      "la_024.nii.gz Dice list by number of clicks (left atrium): [0.4618, 0.5587, 0.5654, 0.5543, 0.5192]\n"
     ]
    },
    {
     "name": "stderr",
     "output_type": "stream",
     "text": [
      " 50%|█████     | 10/20 [00:22<00:22,  2.24s/it]"
     ]
    },
    {
     "name": "stdout",
     "output_type": "stream",
     "text": [
      "la_020.nii.gz Dice list by number of clicks (left atrium): [0.626, 0.597, 0.5912, 0.5721, 0.6434]\n"
     ]
    },
    {
     "name": "stderr",
     "output_type": "stream",
     "text": [
      " 55%|█████▌    | 11/20 [00:24<00:20,  2.24s/it]"
     ]
    },
    {
     "name": "stdout",
     "output_type": "stream",
     "text": [
      "la_003.nii.gz Dice list by number of clicks (left atrium): [0.7313, 0.7174, 0.7562, 0.6031, 0.6808]\n"
     ]
    },
    {
     "name": "stderr",
     "output_type": "stream",
     "text": [
      " 60%|██████    | 12/20 [00:27<00:18,  2.36s/it]"
     ]
    },
    {
     "name": "stdout",
     "output_type": "stream",
     "text": [
      "la_011.nii.gz Dice list by number of clicks (left atrium): [0.3618, 0.6411, 0.5827, 0.6101, 0.6798]\n"
     ]
    },
    {
     "name": "stderr",
     "output_type": "stream",
     "text": [
      " 65%|██████▌   | 13/20 [00:29<00:16,  2.39s/it]"
     ]
    },
    {
     "name": "stdout",
     "output_type": "stream",
     "text": [
      "la_005.nii.gz Dice list by number of clicks (left atrium): [0.6329, 0.6443, 0.6038, 0.5607, 0.6582]\n"
     ]
    },
    {
     "name": "stderr",
     "output_type": "stream",
     "text": [
      " 70%|███████   | 14/20 [00:32<00:14,  2.39s/it]"
     ]
    },
    {
     "name": "stdout",
     "output_type": "stream",
     "text": [
      "la_018.nii.gz Dice list by number of clicks (left atrium): [0.5644, 0.6325, 0.648, 0.6555, 0.6397]\n"
     ]
    },
    {
     "name": "stderr",
     "output_type": "stream",
     "text": [
      " 75%|███████▌  | 15/20 [00:34<00:11,  2.40s/it]"
     ]
    },
    {
     "name": "stdout",
     "output_type": "stream",
     "text": [
      "la_021.nii.gz Dice list by number of clicks (left atrium): [0.5829, 0.7187, 0.6926, 0.7186, 0.6776]\n"
     ]
    },
    {
     "name": "stderr",
     "output_type": "stream",
     "text": [
      " 80%|████████  | 16/20 [00:36<00:09,  2.36s/it]"
     ]
    },
    {
     "name": "stdout",
     "output_type": "stream",
     "text": [
      "la_019.nii.gz Dice list by number of clicks (left atrium): [0.6603, 0.5684, 0.651, 0.6406, 0.6347]\n"
     ]
    },
    {
     "name": "stderr",
     "output_type": "stream",
     "text": [
      " 85%|████████▌ | 17/20 [00:38<00:06,  2.30s/it]"
     ]
    },
    {
     "name": "stdout",
     "output_type": "stream",
     "text": [
      "la_004.nii.gz Dice list by number of clicks (left atrium): [0.4569, 0.3929, 0.2906, 0.5193, 0.3209]\n"
     ]
    },
    {
     "name": "stderr",
     "output_type": "stream",
     "text": [
      " 90%|█████████ | 18/20 [00:41<00:04,  2.30s/it]"
     ]
    },
    {
     "name": "stdout",
     "output_type": "stream",
     "text": [
      "la_009.nii.gz Dice list by number of clicks (left atrium): [0.589, 0.578, 0.311, 0.5389, 0.5889]\n"
     ]
    },
    {
     "name": "stderr",
     "output_type": "stream",
     "text": [
      " 95%|█████████▌| 19/20 [00:43<00:02,  2.32s/it]"
     ]
    },
    {
     "name": "stdout",
     "output_type": "stream",
     "text": [
      "la_026.nii.gz Dice list by number of clicks (left atrium): [0.5539, 0.5652, 0.6395, 0.6965, 0.674]\n",
      "Save results to /home/t722s/Desktop/Sam-Med3DTest/NetworkHeartModified/eval_res_from_inference.json\n",
      "Done\n"
     ]
    },
    {
     "name": "stderr",
     "output_type": "stream",
     "text": [
      "100%|██████████| 20/20 [00:45<00:00,  2.30s/it]\n"
     ]
    },
    {
     "name": "stdout",
     "output_type": "stream",
     "text": [
      "set seed as 2020\n",
      "Cheating! Cropping around ground truth\n",
      "device: cuda\n"
     ]
    },
    {
     "name": "stderr",
     "output_type": "stream",
     "text": [
      "  0%|          | 0/20 [00:00<?, ?it/s]"
     ]
    },
    {
     "name": "stdout",
     "output_type": "stream",
     "text": [
      "la_014.nii.gz Dice list by number of clicks (left atrium): [0.6939, 0.7081, 0.6984, 0.6939, 0.6838]\n"
     ]
    },
    {
     "name": "stderr",
     "output_type": "stream",
     "text": [
      "  5%|▌         | 1/20 [00:02<00:49,  2.59s/it]"
     ]
    },
    {
     "name": "stdout",
     "output_type": "stream",
     "text": [
      "la_022.nii.gz Dice list by number of clicks (left atrium): [0.6777, 0.7047, 0.7455, 0.7586, 0.7526]\n"
     ]
    },
    {
     "name": "stderr",
     "output_type": "stream",
     "text": [
      " 10%|█         | 2/20 [00:04<00:43,  2.40s/it]"
     ]
    },
    {
     "name": "stdout",
     "output_type": "stream",
     "text": [
      "la_030.nii.gz Dice list by number of clicks (left atrium): [0.6164, 0.6267, 0.5931, 0.6124, 0.6072]\n"
     ]
    },
    {
     "name": "stderr",
     "output_type": "stream",
     "text": [
      " 15%|█▌        | 3/20 [00:07<00:39,  2.30s/it]"
     ]
    },
    {
     "name": "stdout",
     "output_type": "stream",
     "text": [
      "la_010.nii.gz Dice list by number of clicks (left atrium): [0.6642, 0.6034, 0.6435, 0.6135, 0.6322]\n"
     ]
    },
    {
     "name": "stderr",
     "output_type": "stream",
     "text": [
      " 20%|██        | 4/20 [00:09<00:36,  2.30s/it]"
     ]
    },
    {
     "name": "stdout",
     "output_type": "stream",
     "text": [
      "la_007.nii.gz Dice list by number of clicks (left atrium): [0.6277, 0.5964, 0.6895, 0.6573, 0.6317]\n"
     ]
    },
    {
     "name": "stderr",
     "output_type": "stream",
     "text": [
      " 25%|██▌       | 5/20 [00:11<00:34,  2.28s/it]"
     ]
    },
    {
     "name": "stdout",
     "output_type": "stream",
     "text": [
      "la_023.nii.gz Dice list by number of clicks (left atrium): [0.7653, 0.8014, 0.8142, 0.8151, 0.8076]\n"
     ]
    },
    {
     "name": "stderr",
     "output_type": "stream",
     "text": [
      " 30%|███       | 6/20 [00:13<00:31,  2.28s/it]"
     ]
    },
    {
     "name": "stdout",
     "output_type": "stream",
     "text": [
      "la_017.nii.gz Dice list by number of clicks (left atrium): [0.671, 0.6492, 0.6567, 0.6671, 0.6687]\n"
     ]
    },
    {
     "name": "stderr",
     "output_type": "stream",
     "text": [
      " 35%|███▌      | 7/20 [00:16<00:30,  2.34s/it]"
     ]
    },
    {
     "name": "stdout",
     "output_type": "stream",
     "text": [
      "la_016.nii.gz Dice list by number of clicks (left atrium): [0.6774, 0.6694, 0.6766, 0.6788, 0.6743]\n"
     ]
    },
    {
     "name": "stderr",
     "output_type": "stream",
     "text": [
      " 40%|████      | 8/20 [00:18<00:27,  2.28s/it]"
     ]
    },
    {
     "name": "stdout",
     "output_type": "stream",
     "text": [
      "la_029.nii.gz Dice list by number of clicks (left atrium): [0.5831, 0.6291, 0.5516, 0.5837, 0.5775]\n"
     ]
    },
    {
     "name": "stderr",
     "output_type": "stream",
     "text": [
      " 45%|████▌     | 9/20 [00:21<00:27,  2.50s/it]"
     ]
    },
    {
     "name": "stdout",
     "output_type": "stream",
     "text": [
      "la_024.nii.gz Dice list by number of clicks (left atrium): [0.4784, 0.4846, 0.6488, 0.5034, 0.6733]\n"
     ]
    },
    {
     "name": "stderr",
     "output_type": "stream",
     "text": [
      " 50%|█████     | 10/20 [00:23<00:24,  2.43s/it]"
     ]
    },
    {
     "name": "stdout",
     "output_type": "stream",
     "text": [
      "la_020.nii.gz Dice list by number of clicks (left atrium): [0.6181, 0.6482, 0.6506, 0.6776, 0.6064]\n"
     ]
    },
    {
     "name": "stderr",
     "output_type": "stream",
     "text": [
      " 55%|█████▌    | 11/20 [00:25<00:21,  2.35s/it]"
     ]
    },
    {
     "name": "stdout",
     "output_type": "stream",
     "text": [
      "la_003.nii.gz Dice list by number of clicks (left atrium): [0.6143, 0.6265, 0.657, 0.5757, 0.6477]\n"
     ]
    },
    {
     "name": "stderr",
     "output_type": "stream",
     "text": [
      " 60%|██████    | 12/20 [00:28<00:20,  2.58s/it]"
     ]
    },
    {
     "name": "stdout",
     "output_type": "stream",
     "text": [
      "la_011.nii.gz Dice list by number of clicks (left atrium): [0.6598, 0.6952, 0.685, 0.6772, 0.6835]\n"
     ]
    },
    {
     "name": "stderr",
     "output_type": "stream",
     "text": [
      " 65%|██████▌   | 13/20 [00:31<00:17,  2.50s/it]"
     ]
    },
    {
     "name": "stdout",
     "output_type": "stream",
     "text": [
      "la_005.nii.gz Dice list by number of clicks (left atrium): [0.4792, 0.5604, 0.554, 0.5548, 0.6642]\n"
     ]
    },
    {
     "name": "stderr",
     "output_type": "stream",
     "text": [
      " 70%|███████   | 14/20 [00:33<00:14,  2.46s/it]"
     ]
    },
    {
     "name": "stdout",
     "output_type": "stream",
     "text": [
      "la_018.nii.gz Dice list by number of clicks (left atrium): [0.5775, 0.5962, 0.5928, 0.627, 0.5914]\n"
     ]
    },
    {
     "name": "stderr",
     "output_type": "stream",
     "text": [
      " 75%|███████▌  | 15/20 [00:36<00:12,  2.60s/it]"
     ]
    },
    {
     "name": "stdout",
     "output_type": "stream",
     "text": [
      "la_021.nii.gz Dice list by number of clicks (left atrium): [0.6157, 0.6898, 0.6132, 0.6338, 0.6187]\n"
     ]
    },
    {
     "name": "stderr",
     "output_type": "stream",
     "text": [
      " 80%|████████  | 16/20 [00:38<00:10,  2.51s/it]"
     ]
    },
    {
     "name": "stdout",
     "output_type": "stream",
     "text": [
      "la_019.nii.gz Dice list by number of clicks (left atrium): [0.6365, 0.6772, 0.5601, 0.6668, 0.5565]\n"
     ]
    },
    {
     "name": "stderr",
     "output_type": "stream",
     "text": [
      " 85%|████████▌ | 17/20 [00:41<00:07,  2.46s/it]"
     ]
    },
    {
     "name": "stdout",
     "output_type": "stream",
     "text": [
      "la_004.nii.gz Dice list by number of clicks (left atrium): [0.5416, 0.6246, 0.6231, 0.6082, 0.5998]\n"
     ]
    },
    {
     "name": "stderr",
     "output_type": "stream",
     "text": [
      " 90%|█████████ | 18/20 [00:43<00:04,  2.41s/it]"
     ]
    },
    {
     "name": "stdout",
     "output_type": "stream",
     "text": [
      "la_009.nii.gz Dice list by number of clicks (left atrium): [0.0109, 0.5505, 0.6148, 0.5715, 0.6071]\n"
     ]
    },
    {
     "name": "stderr",
     "output_type": "stream",
     "text": [
      " 95%|█████████▌| 19/20 [00:45<00:02,  2.42s/it]"
     ]
    },
    {
     "name": "stdout",
     "output_type": "stream",
     "text": [
      "la_026.nii.gz Dice list by number of clicks (left atrium): [0.3613, 0.5698, 0.5529, 0.5332, 0.6675]\n",
      "Save results to /home/t722s/Desktop/Sam-Med3DTest/NetworkHeartModified/eval_res_from_inference.json\n",
      "Done\n"
     ]
    },
    {
     "name": "stderr",
     "output_type": "stream",
     "text": [
      "100%|██████████| 20/20 [00:48<00:00,  2.44s/it]\n"
     ]
    },
    {
     "name": "stdout",
     "output_type": "stream",
     "text": [
      "set seed as 2020\n",
      "Cheating! Cropping around ground truth\n",
      "device: cuda\n"
     ]
    },
    {
     "name": "stderr",
     "output_type": "stream",
     "text": [
      "  0%|          | 0/20 [00:00<?, ?it/s]"
     ]
    },
    {
     "name": "stdout",
     "output_type": "stream",
     "text": [
      "la_014.nii.gz Dice list by number of clicks (left atrium): [0.6088, 0.6239, 0.6329, 0.6262, 0.6384]\n"
     ]
    },
    {
     "name": "stderr",
     "output_type": "stream",
     "text": [
      "  5%|▌         | 1/20 [00:02<00:53,  2.80s/it]"
     ]
    },
    {
     "name": "stdout",
     "output_type": "stream",
     "text": [
      "la_022.nii.gz Dice list by number of clicks (left atrium): [0.6898, 0.7323, 0.7516, 0.7441, 0.7548]\n"
     ]
    },
    {
     "name": "stderr",
     "output_type": "stream",
     "text": [
      " 10%|█         | 2/20 [00:05<00:51,  2.87s/it]"
     ]
    },
    {
     "name": "stdout",
     "output_type": "stream",
     "text": [
      "la_030.nii.gz Dice list by number of clicks (left atrium): [0.6037, 0.6053, 0.6012, 0.6094, 0.6028]\n"
     ]
    },
    {
     "name": "stderr",
     "output_type": "stream",
     "text": [
      " 15%|█▌        | 3/20 [00:08<00:46,  2.75s/it]"
     ]
    },
    {
     "name": "stdout",
     "output_type": "stream",
     "text": [
      "la_010.nii.gz Dice list by number of clicks (left atrium): [0.6969, 0.6912, 0.7083, 0.7284, 0.7452]\n"
     ]
    },
    {
     "name": "stderr",
     "output_type": "stream",
     "text": [
      " 20%|██        | 4/20 [00:11<00:44,  2.77s/it]"
     ]
    },
    {
     "name": "stdout",
     "output_type": "stream",
     "text": [
      "la_007.nii.gz Dice list by number of clicks (left atrium): [0.6682, 0.5509, 0.6843, 0.6489, 0.618]\n"
     ]
    },
    {
     "name": "stderr",
     "output_type": "stream",
     "text": [
      " 25%|██▌       | 5/20 [00:14<00:42,  2.85s/it]"
     ]
    },
    {
     "name": "stdout",
     "output_type": "stream",
     "text": [
      "la_023.nii.gz Dice list by number of clicks (left atrium): [0.7185, 0.7411, 0.7514, 0.7539, 0.7551]\n"
     ]
    },
    {
     "name": "stderr",
     "output_type": "stream",
     "text": [
      " 30%|███       | 6/20 [00:16<00:37,  2.65s/it]"
     ]
    },
    {
     "name": "stdout",
     "output_type": "stream",
     "text": [
      "la_017.nii.gz Dice list by number of clicks (left atrium): [0.4889, 0.5794, 0.556, 0.591, 0.6177]\n"
     ]
    },
    {
     "name": "stderr",
     "output_type": "stream",
     "text": [
      " 35%|███▌      | 7/20 [00:18<00:33,  2.59s/it]"
     ]
    },
    {
     "name": "stdout",
     "output_type": "stream",
     "text": [
      "la_016.nii.gz Dice list by number of clicks (left atrium): [0.589, 0.7479, 0.7084, 0.7329, 0.7084]\n"
     ]
    },
    {
     "name": "stderr",
     "output_type": "stream",
     "text": [
      " 40%|████      | 8/20 [00:21<00:30,  2.56s/it]"
     ]
    },
    {
     "name": "stdout",
     "output_type": "stream",
     "text": [
      "la_029.nii.gz Dice list by number of clicks (left atrium): [0.6168, 0.615, 0.6197, 0.6175, 0.5681]\n"
     ]
    },
    {
     "name": "stderr",
     "output_type": "stream",
     "text": [
      " 45%|████▌     | 9/20 [00:23<00:26,  2.44s/it]"
     ]
    },
    {
     "name": "stdout",
     "output_type": "stream",
     "text": [
      "la_024.nii.gz Dice list by number of clicks (left atrium): [0.5837, 0.6693, 0.6565, 0.6531, 0.4863]\n"
     ]
    },
    {
     "name": "stderr",
     "output_type": "stream",
     "text": [
      " 50%|█████     | 10/20 [00:26<00:24,  2.45s/it]"
     ]
    },
    {
     "name": "stdout",
     "output_type": "stream",
     "text": [
      "la_020.nii.gz Dice list by number of clicks (left atrium): [0.6747, 0.6734, 0.6708, 0.6623, 0.6372]\n"
     ]
    },
    {
     "name": "stderr",
     "output_type": "stream",
     "text": [
      " 55%|█████▌    | 11/20 [00:28<00:21,  2.42s/it]"
     ]
    },
    {
     "name": "stdout",
     "output_type": "stream",
     "text": [
      "la_003.nii.gz Dice list by number of clicks (left atrium): [0.6105, 0.6181, 0.5682, 0.393, 0.3931]\n"
     ]
    },
    {
     "name": "stderr",
     "output_type": "stream",
     "text": [
      " 60%|██████    | 12/20 [00:30<00:19,  2.42s/it]"
     ]
    },
    {
     "name": "stdout",
     "output_type": "stream",
     "text": [
      "la_011.nii.gz Dice list by number of clicks (left atrium): [0.7075, 0.6391, 0.4796, 0.6337, 0.6575]\n"
     ]
    },
    {
     "name": "stderr",
     "output_type": "stream",
     "text": [
      " 65%|██████▌   | 13/20 [00:33<00:16,  2.40s/it]"
     ]
    },
    {
     "name": "stdout",
     "output_type": "stream",
     "text": [
      "la_005.nii.gz Dice list by number of clicks (left atrium): [0.5524, 0.6245, 0.6128, 0.6635, 0.59]\n"
     ]
    },
    {
     "name": "stderr",
     "output_type": "stream",
     "text": [
      " 70%|███████   | 14/20 [00:35<00:14,  2.37s/it]"
     ]
    },
    {
     "name": "stdout",
     "output_type": "stream",
     "text": [
      "la_018.nii.gz Dice list by number of clicks (left atrium): [0.6031, 0.6035, 0.5953, 0.6447, 0.665]\n"
     ]
    },
    {
     "name": "stderr",
     "output_type": "stream",
     "text": [
      " 75%|███████▌  | 15/20 [00:37<00:11,  2.40s/it]"
     ]
    },
    {
     "name": "stdout",
     "output_type": "stream",
     "text": [
      "la_021.nii.gz Dice list by number of clicks (left atrium): [0.4725, 0.6956, 0.6975, 0.7093, 0.7141]\n"
     ]
    },
    {
     "name": "stderr",
     "output_type": "stream",
     "text": [
      " 80%|████████  | 16/20 [00:40<00:09,  2.38s/it]"
     ]
    },
    {
     "name": "stdout",
     "output_type": "stream",
     "text": [
      "la_019.nii.gz Dice list by number of clicks (left atrium): [0.4885, 0.5734, 0.6285, 0.6642, 0.6716]\n"
     ]
    },
    {
     "name": "stderr",
     "output_type": "stream",
     "text": [
      " 85%|████████▌ | 17/20 [00:42<00:07,  2.34s/it]"
     ]
    },
    {
     "name": "stdout",
     "output_type": "stream",
     "text": [
      "la_004.nii.gz Dice list by number of clicks (left atrium): [0.5877, 0.3687, 0.1705, 0.2953, 0.4768]\n"
     ]
    },
    {
     "name": "stderr",
     "output_type": "stream",
     "text": [
      " 90%|█████████ | 18/20 [00:45<00:04,  2.46s/it]"
     ]
    },
    {
     "name": "stdout",
     "output_type": "stream",
     "text": [
      "la_009.nii.gz Dice list by number of clicks (left atrium): [0.6436, 0.6301, 0.6635, 0.647, 0.5914]\n"
     ]
    },
    {
     "name": "stderr",
     "output_type": "stream",
     "text": [
      " 95%|█████████▌| 19/20 [00:47<00:02,  2.42s/it]"
     ]
    },
    {
     "name": "stdout",
     "output_type": "stream",
     "text": [
      "la_026.nii.gz Dice list by number of clicks (left atrium): [0.3885, 0.6293, 0.6374, 0.6648, 0.5149]\n",
      "Save results to /home/t722s/Desktop/Sam-Med3DTest/NetworkHeartModified/eval_res_from_inference.json\n",
      "Done\n"
     ]
    },
    {
     "name": "stderr",
     "output_type": "stream",
     "text": [
      "100%|██████████| 20/20 [00:50<00:00,  2.50s/it]\n"
     ]
    },
    {
     "name": "stdout",
     "output_type": "stream",
     "text": [
      "set seed as 2020\n",
      "Cheating! Cropping around ground truth\n",
      "device: cuda\n"
     ]
    },
    {
     "name": "stderr",
     "output_type": "stream",
     "text": [
      "  0%|          | 0/20 [00:00<?, ?it/s]"
     ]
    },
    {
     "name": "stdout",
     "output_type": "stream",
     "text": [
      "la_014.nii.gz Dice list by number of clicks (left atrium): [0.6427, 0.6721, 0.6861, 0.6853, 0.6774]\n"
     ]
    },
    {
     "name": "stderr",
     "output_type": "stream",
     "text": [
      "  5%|▌         | 1/20 [00:02<00:52,  2.75s/it]"
     ]
    },
    {
     "name": "stdout",
     "output_type": "stream",
     "text": [
      "la_022.nii.gz Dice list by number of clicks (left atrium): [0.6692, 0.6959, 0.7017, 0.7624, 0.6152]\n"
     ]
    },
    {
     "name": "stderr",
     "output_type": "stream",
     "text": [
      " 10%|█         | 2/20 [00:05<00:45,  2.50s/it]"
     ]
    },
    {
     "name": "stdout",
     "output_type": "stream",
     "text": [
      "la_030.nii.gz Dice list by number of clicks (left atrium): [0.5852, 0.6048, 0.6096, 0.5923, 0.6021]\n"
     ]
    },
    {
     "name": "stderr",
     "output_type": "stream",
     "text": [
      " 15%|█▌        | 3/20 [00:07<00:40,  2.39s/it]"
     ]
    },
    {
     "name": "stdout",
     "output_type": "stream",
     "text": [
      "la_010.nii.gz Dice list by number of clicks (left atrium): [0.6704, 0.6908, 0.6496, 0.7136, 0.7197]\n"
     ]
    },
    {
     "name": "stderr",
     "output_type": "stream",
     "text": [
      " 20%|██        | 4/20 [00:09<00:37,  2.33s/it]"
     ]
    },
    {
     "name": "stdout",
     "output_type": "stream",
     "text": [
      "la_007.nii.gz Dice list by number of clicks (left atrium): [0.5893, 0.5791, 0.647, 0.6024, 0.5683]\n"
     ]
    },
    {
     "name": "stderr",
     "output_type": "stream",
     "text": [
      " 25%|██▌       | 5/20 [00:12<00:36,  2.44s/it]"
     ]
    },
    {
     "name": "stdout",
     "output_type": "stream",
     "text": [
      "la_023.nii.gz Dice list by number of clicks (left atrium): [0.6818, 0.7621, 0.7647, 0.7842, 0.7826]\n"
     ]
    },
    {
     "name": "stderr",
     "output_type": "stream",
     "text": [
      " 30%|███       | 6/20 [00:14<00:33,  2.41s/it]"
     ]
    },
    {
     "name": "stdout",
     "output_type": "stream",
     "text": [
      "la_017.nii.gz Dice list by number of clicks (left atrium): [0.5849, 0.6152, 0.6137, 0.6277, 0.6351]\n"
     ]
    },
    {
     "name": "stderr",
     "output_type": "stream",
     "text": [
      " 35%|███▌      | 7/20 [00:16<00:31,  2.40s/it]"
     ]
    },
    {
     "name": "stdout",
     "output_type": "stream",
     "text": [
      "la_016.nii.gz Dice list by number of clicks (left atrium): [0.4102, 0.6823, 0.6956, 0.7066, 0.7127]\n"
     ]
    },
    {
     "name": "stderr",
     "output_type": "stream",
     "text": [
      " 40%|████      | 8/20 [00:18<00:27,  2.28s/it]"
     ]
    },
    {
     "name": "stdout",
     "output_type": "stream",
     "text": [
      "la_029.nii.gz Dice list by number of clicks (left atrium): [0.6059, 0.6056, 0.5761, 0.5998, 0.5771]\n"
     ]
    },
    {
     "name": "stderr",
     "output_type": "stream",
     "text": [
      " 45%|████▌     | 9/20 [00:21<00:25,  2.34s/it]"
     ]
    },
    {
     "name": "stdout",
     "output_type": "stream",
     "text": [
      "la_024.nii.gz Dice list by number of clicks (left atrium): [0.6084, 0.5312, 0.5607, 0.599, 0.591]\n"
     ]
    },
    {
     "name": "stderr",
     "output_type": "stream",
     "text": [
      " 50%|█████     | 10/20 [00:23<00:24,  2.40s/it]"
     ]
    },
    {
     "name": "stdout",
     "output_type": "stream",
     "text": [
      "la_020.nii.gz Dice list by number of clicks (left atrium): [0.6963, 0.5226, 0.6318, 0.6269, 0.6071]\n"
     ]
    },
    {
     "name": "stderr",
     "output_type": "stream",
     "text": [
      " 55%|█████▌    | 11/20 [00:26<00:21,  2.41s/it]"
     ]
    },
    {
     "name": "stdout",
     "output_type": "stream",
     "text": [
      "la_003.nii.gz Dice list by number of clicks (left atrium): [0.6294, 0.5967, 0.639, 0.6252, 0.5714]\n"
     ]
    },
    {
     "name": "stderr",
     "output_type": "stream",
     "text": [
      " 60%|██████    | 12/20 [00:29<00:20,  2.61s/it]"
     ]
    },
    {
     "name": "stdout",
     "output_type": "stream",
     "text": [
      "la_011.nii.gz Dice list by number of clicks (left atrium): [0.5793, 0.6161, 0.6893, 0.6739, 0.7064]\n"
     ]
    },
    {
     "name": "stderr",
     "output_type": "stream",
     "text": [
      " 65%|██████▌   | 13/20 [00:32<00:18,  2.63s/it]"
     ]
    },
    {
     "name": "stdout",
     "output_type": "stream",
     "text": [
      "la_005.nii.gz Dice list by number of clicks (left atrium): [0.4893, 0.493, 0.5131, 0.6253, 0.5926]\n"
     ]
    },
    {
     "name": "stderr",
     "output_type": "stream",
     "text": [
      " 70%|███████   | 14/20 [00:35<00:16,  2.71s/it]"
     ]
    },
    {
     "name": "stdout",
     "output_type": "stream",
     "text": [
      "la_018.nii.gz Dice list by number of clicks (left atrium): [0.6383, 0.6128, 0.6261, 0.68, 0.6924]\n"
     ]
    },
    {
     "name": "stderr",
     "output_type": "stream",
     "text": [
      " 75%|███████▌  | 15/20 [00:37<00:13,  2.73s/it]"
     ]
    },
    {
     "name": "stdout",
     "output_type": "stream",
     "text": [
      "la_021.nii.gz Dice list by number of clicks (left atrium): [0.6475, 0.6302, 0.6304, 0.7393, 0.718]\n"
     ]
    },
    {
     "name": "stderr",
     "output_type": "stream",
     "text": [
      " 80%|████████  | 16/20 [00:40<00:11,  2.76s/it]"
     ]
    },
    {
     "name": "stdout",
     "output_type": "stream",
     "text": [
      "la_019.nii.gz Dice list by number of clicks (left atrium): [0.6179, 0.3459, 0.4564, 0.5689, 0.6255]\n"
     ]
    },
    {
     "name": "stderr",
     "output_type": "stream",
     "text": [
      " 85%|████████▌ | 17/20 [00:43<00:08,  2.80s/it]"
     ]
    },
    {
     "name": "stdout",
     "output_type": "stream",
     "text": [
      "la_004.nii.gz Dice list by number of clicks (left atrium): [0.4607, 0.549, 0.4047, 0.2745, 0.4803]\n"
     ]
    },
    {
     "name": "stderr",
     "output_type": "stream",
     "text": [
      " 90%|█████████ | 18/20 [00:45<00:05,  2.63s/it]"
     ]
    },
    {
     "name": "stdout",
     "output_type": "stream",
     "text": [
      "la_009.nii.gz Dice list by number of clicks (left atrium): [0.6214, 0.6683, 0.6108, 0.5742, 0.6164]\n"
     ]
    },
    {
     "name": "stderr",
     "output_type": "stream",
     "text": [
      " 95%|█████████▌| 19/20 [00:48<00:02,  2.61s/it]"
     ]
    },
    {
     "name": "stdout",
     "output_type": "stream",
     "text": [
      "la_026.nii.gz Dice list by number of clicks (left atrium): [0.4115, 0.5898, 0.5853, 0.6594, 0.5669]\n",
      "Save results to /home/t722s/Desktop/Sam-Med3DTest/NetworkHeartModified/eval_res_from_inference.json\n",
      "Done\n"
     ]
    },
    {
     "name": "stderr",
     "output_type": "stream",
     "text": [
      "100%|██████████| 20/20 [00:50<00:00,  2.53s/it]\n"
     ]
    },
    {
     "name": "stdout",
     "output_type": "stream",
     "text": [
      "set seed as 2020\n",
      "Cheating! Cropping around ground truth\n",
      "device: cuda\n"
     ]
    },
    {
     "name": "stderr",
     "output_type": "stream",
     "text": [
      "  0%|          | 0/20 [00:00<?, ?it/s]"
     ]
    },
    {
     "name": "stdout",
     "output_type": "stream",
     "text": [
      "la_014.nii.gz Dice list by number of clicks (left atrium): [0.5219, 0.6377, 0.6637, 0.6717, 0.6693]\n"
     ]
    },
    {
     "name": "stderr",
     "output_type": "stream",
     "text": [
      "  5%|▌         | 1/20 [00:02<00:48,  2.55s/it]"
     ]
    },
    {
     "name": "stdout",
     "output_type": "stream",
     "text": [
      "la_022.nii.gz Dice list by number of clicks (left atrium): [0.7701, 0.7395, 0.7287, 0.7204, 0.7143]\n"
     ]
    },
    {
     "name": "stderr",
     "output_type": "stream",
     "text": [
      " 10%|█         | 2/20 [00:04<00:43,  2.43s/it]"
     ]
    },
    {
     "name": "stdout",
     "output_type": "stream",
     "text": [
      "la_030.nii.gz Dice list by number of clicks (left atrium): [0.6015, 0.6655, 0.6364, 0.6015, 0.6071]\n"
     ]
    },
    {
     "name": "stderr",
     "output_type": "stream",
     "text": [
      " 15%|█▌        | 3/20 [00:07<00:39,  2.34s/it]"
     ]
    },
    {
     "name": "stdout",
     "output_type": "stream",
     "text": [
      "la_010.nii.gz Dice list by number of clicks (left atrium): [0.6078, 0.5991, 0.5794, 0.5564, 0.5559]\n"
     ]
    },
    {
     "name": "stderr",
     "output_type": "stream",
     "text": [
      " 20%|██        | 4/20 [00:09<00:37,  2.34s/it]"
     ]
    },
    {
     "name": "stdout",
     "output_type": "stream",
     "text": [
      "la_007.nii.gz Dice list by number of clicks (left atrium): [0.4573, 0.6904, 0.6413, 0.5773, 0.6003]\n"
     ]
    },
    {
     "name": "stderr",
     "output_type": "stream",
     "text": [
      " 25%|██▌       | 5/20 [00:11<00:35,  2.35s/it]"
     ]
    },
    {
     "name": "stdout",
     "output_type": "stream",
     "text": [
      "la_023.nii.gz Dice list by number of clicks (left atrium): [0.7172, 0.6982, 0.8033, 0.8136, 0.8147]\n"
     ]
    },
    {
     "name": "stderr",
     "output_type": "stream",
     "text": [
      " 30%|███       | 6/20 [00:14<00:32,  2.29s/it]"
     ]
    },
    {
     "name": "stdout",
     "output_type": "stream",
     "text": [
      "la_017.nii.gz Dice list by number of clicks (left atrium): [0.6304, 0.5927, 0.6448, 0.6586, 0.6623]\n"
     ]
    },
    {
     "name": "stderr",
     "output_type": "stream",
     "text": [
      " 35%|███▌      | 7/20 [00:16<00:29,  2.31s/it]"
     ]
    },
    {
     "name": "stdout",
     "output_type": "stream",
     "text": [
      "la_016.nii.gz Dice list by number of clicks (left atrium): [0.6547, 0.7013, 0.702, 0.6473, 0.6547]\n"
     ]
    },
    {
     "name": "stderr",
     "output_type": "stream",
     "text": [
      " 40%|████      | 8/20 [00:18<00:26,  2.23s/it]"
     ]
    },
    {
     "name": "stdout",
     "output_type": "stream",
     "text": [
      "la_029.nii.gz Dice list by number of clicks (left atrium): [0.6204, 0.6576, 0.6626, 0.6632, 0.6638]\n"
     ]
    },
    {
     "name": "stderr",
     "output_type": "stream",
     "text": [
      " 45%|████▌     | 9/20 [00:20<00:24,  2.25s/it]"
     ]
    },
    {
     "name": "stdout",
     "output_type": "stream",
     "text": [
      "la_024.nii.gz Dice list by number of clicks (left atrium): [0.4714, 0.3644, 0.6875, 0.6574, 0.6155]\n"
     ]
    },
    {
     "name": "stderr",
     "output_type": "stream",
     "text": [
      " 50%|█████     | 10/20 [00:23<00:22,  2.28s/it]"
     ]
    },
    {
     "name": "stdout",
     "output_type": "stream",
     "text": [
      "la_020.nii.gz Dice list by number of clicks (left atrium): [0.6332, 0.6794, 0.6531, 0.661, 0.6807]\n"
     ]
    },
    {
     "name": "stderr",
     "output_type": "stream",
     "text": [
      " 55%|█████▌    | 11/20 [00:25<00:21,  2.36s/it]"
     ]
    },
    {
     "name": "stdout",
     "output_type": "stream",
     "text": [
      "la_003.nii.gz Dice list by number of clicks (left atrium): [0.5803, 0.5482, 0.6681, 0.6311, 0.5678]\n"
     ]
    },
    {
     "name": "stderr",
     "output_type": "stream",
     "text": [
      " 60%|██████    | 12/20 [00:28<00:19,  2.43s/it]"
     ]
    },
    {
     "name": "stdout",
     "output_type": "stream",
     "text": [
      "la_011.nii.gz Dice list by number of clicks (left atrium): [0.5907, 0.5543, 0.5927, 0.628, 0.693]\n"
     ]
    },
    {
     "name": "stderr",
     "output_type": "stream",
     "text": [
      " 65%|██████▌   | 13/20 [00:30<00:17,  2.48s/it]"
     ]
    },
    {
     "name": "stdout",
     "output_type": "stream",
     "text": [
      "la_005.nii.gz Dice list by number of clicks (left atrium): [0.2746, 0.5039, 0.5923, 0.5768, 0.6103]\n"
     ]
    },
    {
     "name": "stderr",
     "output_type": "stream",
     "text": [
      " 70%|███████   | 14/20 [00:33<00:14,  2.49s/it]"
     ]
    },
    {
     "name": "stdout",
     "output_type": "stream",
     "text": [
      "la_018.nii.gz Dice list by number of clicks (left atrium): [0.4663, 0.5261, 0.5977, 0.5247, 0.4337]\n"
     ]
    },
    {
     "name": "stderr",
     "output_type": "stream",
     "text": [
      " 75%|███████▌  | 15/20 [00:36<00:12,  2.57s/it]"
     ]
    },
    {
     "name": "stdout",
     "output_type": "stream",
     "text": [
      "la_021.nii.gz Dice list by number of clicks (left atrium): [0.5643, 0.6455, 0.6911, 0.6885, 0.6808]\n"
     ]
    },
    {
     "name": "stderr",
     "output_type": "stream",
     "text": [
      " 80%|████████  | 16/20 [00:38<00:09,  2.46s/it]"
     ]
    },
    {
     "name": "stdout",
     "output_type": "stream",
     "text": [
      "la_019.nii.gz Dice list by number of clicks (left atrium): [0.6505, 0.6588, 0.6691, 0.6252, 0.6806]\n"
     ]
    },
    {
     "name": "stderr",
     "output_type": "stream",
     "text": [
      " 85%|████████▌ | 17/20 [00:40<00:07,  2.49s/it]"
     ]
    },
    {
     "name": "stdout",
     "output_type": "stream",
     "text": [
      "la_004.nii.gz Dice list by number of clicks (left atrium): [0.5588, 0.322, 0.1892, 0.367, 0.4692]\n"
     ]
    },
    {
     "name": "stderr",
     "output_type": "stream",
     "text": [
      " 90%|█████████ | 18/20 [00:43<00:05,  2.52s/it]"
     ]
    },
    {
     "name": "stdout",
     "output_type": "stream",
     "text": [
      "la_009.nii.gz Dice list by number of clicks (left atrium): [0.5971, 0.6522, 0.6195, 0.5983, 0.6429]\n"
     ]
    },
    {
     "name": "stderr",
     "output_type": "stream",
     "text": [
      " 95%|█████████▌| 19/20 [00:45<00:02,  2.51s/it]"
     ]
    },
    {
     "name": "stdout",
     "output_type": "stream",
     "text": [
      "la_026.nii.gz Dice list by number of clicks (left atrium): [0.3925, 0.6257, 0.5412, 0.5096, 0.6034]\n",
      "Save results to /home/t722s/Desktop/Sam-Med3DTest/NetworkHeartModified/eval_res_from_inference.json\n",
      "Done\n"
     ]
    },
    {
     "name": "stderr",
     "output_type": "stream",
     "text": [
      "100%|██████████| 20/20 [00:48<00:00,  2.42s/it]\n"
     ]
    },
    {
     "name": "stdout",
     "output_type": "stream",
     "text": [
      "set seed as 2020\n",
      "Cheating! Cropping around ground truth\n",
      "device: cuda\n"
     ]
    },
    {
     "name": "stderr",
     "output_type": "stream",
     "text": [
      "  0%|          | 0/20 [00:00<?, ?it/s]"
     ]
    },
    {
     "name": "stdout",
     "output_type": "stream",
     "text": [
      "la_014.nii.gz Dice list by number of clicks (left atrium): [0.7018, 0.6999, 0.6929, 0.6781, 0.7122]\n"
     ]
    },
    {
     "name": "stderr",
     "output_type": "stream",
     "text": [
      "  5%|▌         | 1/20 [00:02<00:54,  2.88s/it]"
     ]
    },
    {
     "name": "stdout",
     "output_type": "stream",
     "text": [
      "la_022.nii.gz Dice list by number of clicks (left atrium): [0.6737, 0.7181, 0.7098, 0.7031, 0.7021]\n"
     ]
    },
    {
     "name": "stderr",
     "output_type": "stream",
     "text": [
      " 10%|█         | 2/20 [00:06<00:57,  3.22s/it]"
     ]
    },
    {
     "name": "stdout",
     "output_type": "stream",
     "text": [
      "la_030.nii.gz Dice list by number of clicks (left atrium): [0.5992, 0.5974, 0.6007, 0.6075, 0.6063]\n"
     ]
    },
    {
     "name": "stderr",
     "output_type": "stream",
     "text": [
      " 15%|█▌        | 3/20 [00:08<00:49,  2.89s/it]"
     ]
    },
    {
     "name": "stdout",
     "output_type": "stream",
     "text": [
      "la_010.nii.gz Dice list by number of clicks (left atrium): [0.6238, 0.5564, 0.6458, 0.6209, 0.6062]\n"
     ]
    },
    {
     "name": "stderr",
     "output_type": "stream",
     "text": [
      " 20%|██        | 4/20 [00:11<00:43,  2.75s/it]"
     ]
    },
    {
     "name": "stdout",
     "output_type": "stream",
     "text": [
      "la_007.nii.gz Dice list by number of clicks (left atrium): [0.595, 0.6914, 0.6632, 0.6685, 0.6347]\n"
     ]
    },
    {
     "name": "stderr",
     "output_type": "stream",
     "text": [
      " 25%|██▌       | 5/20 [00:14<00:42,  2.86s/it]"
     ]
    },
    {
     "name": "stdout",
     "output_type": "stream",
     "text": [
      "la_023.nii.gz Dice list by number of clicks (left atrium): [0.7773, 0.7533, 0.7777, 0.7828, 0.7883]\n"
     ]
    },
    {
     "name": "stderr",
     "output_type": "stream",
     "text": [
      " 30%|███       | 6/20 [00:17<00:38,  2.78s/it]"
     ]
    },
    {
     "name": "stdout",
     "output_type": "stream",
     "text": [
      "la_017.nii.gz Dice list by number of clicks (left atrium): [0.4362, 0.6187, 0.6119, 0.645, 0.6528]\n"
     ]
    },
    {
     "name": "stderr",
     "output_type": "stream",
     "text": [
      " 35%|███▌      | 7/20 [00:19<00:36,  2.78s/it]"
     ]
    },
    {
     "name": "stdout",
     "output_type": "stream",
     "text": [
      "la_016.nii.gz Dice list by number of clicks (left atrium): [0.6068, 0.6547, 0.6549, 0.6577, 0.6537]\n"
     ]
    },
    {
     "name": "stderr",
     "output_type": "stream",
     "text": [
      " 40%|████      | 8/20 [00:22<00:31,  2.66s/it]"
     ]
    },
    {
     "name": "stdout",
     "output_type": "stream",
     "text": [
      "la_029.nii.gz Dice list by number of clicks (left atrium): [0.6174, 0.6155, 0.6025, 0.6128, 0.6162]\n"
     ]
    },
    {
     "name": "stderr",
     "output_type": "stream",
     "text": [
      " 45%|████▌     | 9/20 [00:24<00:28,  2.62s/it]"
     ]
    },
    {
     "name": "stdout",
     "output_type": "stream",
     "text": [
      "la_024.nii.gz Dice list by number of clicks (left atrium): [0.503, 0.4941, 0.5451, 0.5829, 0.5131]\n"
     ]
    },
    {
     "name": "stderr",
     "output_type": "stream",
     "text": [
      " 50%|█████     | 10/20 [00:27<00:25,  2.55s/it]"
     ]
    },
    {
     "name": "stdout",
     "output_type": "stream",
     "text": [
      "la_020.nii.gz Dice list by number of clicks (left atrium): [0.6303, 0.6665, 0.6177, 0.5934, 0.5555]\n"
     ]
    },
    {
     "name": "stderr",
     "output_type": "stream",
     "text": [
      " 55%|█████▌    | 11/20 [00:29<00:22,  2.53s/it]"
     ]
    },
    {
     "name": "stdout",
     "output_type": "stream",
     "text": [
      "la_003.nii.gz Dice list by number of clicks (left atrium): [0.6442, 0.6229, 0.6345, 0.6268, 0.6281]\n"
     ]
    },
    {
     "name": "stderr",
     "output_type": "stream",
     "text": [
      " 60%|██████    | 12/20 [00:32<00:20,  2.61s/it]"
     ]
    },
    {
     "name": "stdout",
     "output_type": "stream",
     "text": [
      "la_011.nii.gz Dice list by number of clicks (left atrium): [0.6962, 0.6899, 0.6888, 0.6866, 0.6672]\n"
     ]
    },
    {
     "name": "stderr",
     "output_type": "stream",
     "text": [
      " 65%|██████▌   | 13/20 [00:34<00:17,  2.56s/it]"
     ]
    },
    {
     "name": "stdout",
     "output_type": "stream",
     "text": [
      "la_005.nii.gz Dice list by number of clicks (left atrium): [0.4651, 0.5382, 0.6225, 0.5733, 0.6341]\n"
     ]
    },
    {
     "name": "stderr",
     "output_type": "stream",
     "text": [
      " 70%|███████   | 14/20 [00:37<00:15,  2.58s/it]"
     ]
    },
    {
     "name": "stdout",
     "output_type": "stream",
     "text": [
      "la_018.nii.gz Dice list by number of clicks (left atrium): [0.6187, 0.545, 0.6575, 0.6473, 0.6695]\n"
     ]
    },
    {
     "name": "stderr",
     "output_type": "stream",
     "text": [
      " 75%|███████▌  | 15/20 [00:40<00:13,  2.68s/it]"
     ]
    },
    {
     "name": "stdout",
     "output_type": "stream",
     "text": [
      "la_021.nii.gz Dice list by number of clicks (left atrium): [0.6564, 0.6641, 0.6219, 0.6594, 0.5677]\n"
     ]
    },
    {
     "name": "stderr",
     "output_type": "stream",
     "text": [
      " 80%|████████  | 16/20 [00:43<00:11,  2.77s/it]"
     ]
    },
    {
     "name": "stdout",
     "output_type": "stream",
     "text": [
      "la_019.nii.gz Dice list by number of clicks (left atrium): [0.6635, 0.526, 0.5646, 0.6315, 0.6647]\n"
     ]
    },
    {
     "name": "stderr",
     "output_type": "stream",
     "text": [
      " 85%|████████▌ | 17/20 [00:46<00:08,  2.96s/it]"
     ]
    },
    {
     "name": "stdout",
     "output_type": "stream",
     "text": [
      "la_004.nii.gz Dice list by number of clicks (left atrium): [0.6154, 0.5035, 0.6098, 0.6095, 0.6075]\n"
     ]
    },
    {
     "name": "stderr",
     "output_type": "stream",
     "text": [
      " 90%|█████████ | 18/20 [00:49<00:05,  2.97s/it]"
     ]
    },
    {
     "name": "stdout",
     "output_type": "stream",
     "text": [
      "la_009.nii.gz Dice list by number of clicks (left atrium): [0.6349, 0.666, 0.6507, 0.5914, 0.6581]\n"
     ]
    },
    {
     "name": "stderr",
     "output_type": "stream",
     "text": [
      " 95%|█████████▌| 19/20 [00:52<00:02,  2.87s/it]"
     ]
    },
    {
     "name": "stdout",
     "output_type": "stream",
     "text": [
      "la_026.nii.gz Dice list by number of clicks (left atrium): [0.4507, 0.5881, 0.6033, 0.5326, 0.4842]\n",
      "Save results to /home/t722s/Desktop/Sam-Med3DTest/NetworkHeartModified/eval_res_from_inference.json\n",
      "Done\n"
     ]
    },
    {
     "name": "stderr",
     "output_type": "stream",
     "text": [
      "100%|██████████| 20/20 [00:55<00:00,  2.75s/it]\n"
     ]
    }
   ],
   "source": [
    "# Testing new dataset: ground truth, interactive\n",
    "multi_res_path = '/home/t722s/Desktop/Sam-Med3DTest/NetworkHeartModified/interactive.json'\n",
    "\n",
    "np.random.seed(11121)\n",
    "seeds = []\n",
    "for seed in np.random.randint(10**6, size = n_run):\n",
    "    seeds.append(seed)\n",
    "    point_generation_args = ['python', 'generate_points.py', \\\n",
    "            '-tdp', '/home/t722s/Desktop/Datasets/NetworkHeartModified/', \\\n",
    "            '-rp', '/home/t722s/Desktop/Sam-Med3DTest/NetworkHeartModified/', \\\n",
    "            '-nc', '5',\n",
    "            '--seed', str(seed)]\n",
    "    subprocess.run(point_generation_args,\n",
    "                    stdout=subprocess.DEVNULL, \n",
    "                    stderr=subprocess.DEVNULL)\n",
    "    inference_args = ['python', 'SAM-Med3D/validationTesting2.py', \n",
    "                        '--seed', '2020',\n",
    "                        '-rp', rp,\n",
    "                        '-cp', '/home/t722s/Desktop/UniversalModels/TrainedModels/sam_med3d.pth',\n",
    "                        '-tdp', tdp,\n",
    "                        '-i',\n",
    "                        '-l'\n",
    "                        ]\n",
    "    subprocess.run(inference_args)\n",
    "\n",
    "    with open(os.path.join(rp, 'eval_res_from_inference.json'), 'r') as f:\n",
    "        res = json.load(f)\n",
    "\n",
    "    if os.path.exists(multi_res_path):\n",
    "        with open(multi_res_path, 'r') as f:\n",
    "            multi = json.load(f) \n",
    "    else:\n",
    "        multi = dict()\n",
    "\n",
    "    multi[int(seed)] = res\n",
    "    with open(multi_res_path, 'w') as f:\n",
    "        json.dump(multi, f)\n",
    "\n",
    "# Make human readable\n",
    "json_string = json.dumps(multi, ensure_ascii=False)\n",
    "json_string = json_string.replace('\"la', '\\n\\t\"la')\n",
    "\n",
    "for seed in seeds:\n",
    "    json_string = json_string.replace(f'\"{seed}', f'\\n\"{seed}')\n",
    "\n",
    "json_string = json_string[:-1] + '\\n}'\n",
    "with open(multi_res_path.replace('.json', '_readable.json'), 'w', encoding='utf-8') as file:\n",
    "    file.write(json_string)"
   ]
  },
  {
   "cell_type": "code",
   "execution_count": 96,
   "metadata": {},
   "outputs": [
    {
     "name": "stdout",
     "output_type": "stream",
     "text": [
      "set seed as 2020\n",
      "device: cuda\n"
     ]
    },
    {
     "name": "stderr",
     "output_type": "stream",
     "text": [
      "  0%|          | 0/20 [00:00<?, ?it/s]"
     ]
    },
    {
     "name": "stdout",
     "output_type": "stream",
     "text": [
      "la_014.nii.gz Dice list by number of clicks (left atrium): [0.7394, 0.7545, 0.7601, 0.7482, 0.708]\n"
     ]
    },
    {
     "name": "stderr",
     "output_type": "stream",
     "text": [
      "  5%|▌         | 1/20 [00:01<00:34,  1.79s/it]"
     ]
    },
    {
     "name": "stdout",
     "output_type": "stream",
     "text": [
      "la_022.nii.gz Dice list by number of clicks (left atrium): [0.6563, 0.6765, 0.6175, 0.6205, 0.6199]\n"
     ]
    },
    {
     "name": "stderr",
     "output_type": "stream",
     "text": [
      " 10%|█         | 2/20 [00:03<00:28,  1.61s/it]"
     ]
    },
    {
     "name": "stdout",
     "output_type": "stream",
     "text": [
      "la_030.nii.gz Dice list by number of clicks (left atrium): [0.6076, 0.554, 0.6023, 0.6244, 0.6307]\n"
     ]
    },
    {
     "name": "stderr",
     "output_type": "stream",
     "text": [
      " 15%|█▌        | 3/20 [00:04<00:26,  1.54s/it]"
     ]
    },
    {
     "name": "stdout",
     "output_type": "stream",
     "text": [
      "la_010.nii.gz Dice list by number of clicks (left atrium): [0.6713, 0.6452, 0.7315, 0.7499, 0.7592]\n"
     ]
    },
    {
     "name": "stderr",
     "output_type": "stream",
     "text": [
      " 20%|██        | 4/20 [00:06<00:25,  1.57s/it]"
     ]
    },
    {
     "name": "stdout",
     "output_type": "stream",
     "text": [
      "la_007.nii.gz Dice list by number of clicks (left atrium): [0.5833, 0.6565, 0.6482, 0.7305, 0.7233]\n"
     ]
    },
    {
     "name": "stderr",
     "output_type": "stream",
     "text": [
      " 25%|██▌       | 5/20 [00:07<00:23,  1.59s/it]"
     ]
    },
    {
     "name": "stdout",
     "output_type": "stream",
     "text": [
      "la_023.nii.gz Dice list by number of clicks (left atrium): [0.6865, 0.6821, 0.6653, 0.7052, 0.7252]\n"
     ]
    },
    {
     "name": "stderr",
     "output_type": "stream",
     "text": [
      " 30%|███       | 6/20 [00:09<00:21,  1.56s/it]"
     ]
    },
    {
     "name": "stdout",
     "output_type": "stream",
     "text": [
      "la_017.nii.gz Dice list by number of clicks (left atrium): [0.6175, 0.5304, 0.629, 0.6337, 0.6443]\n"
     ]
    },
    {
     "name": "stderr",
     "output_type": "stream",
     "text": [
      " 35%|███▌      | 7/20 [00:10<00:20,  1.54s/it]"
     ]
    },
    {
     "name": "stdout",
     "output_type": "stream",
     "text": [
      "la_016.nii.gz Dice list by number of clicks (left atrium): [0.7199, 0.7106, 0.6992, 0.7019, 0.709]\n"
     ]
    },
    {
     "name": "stderr",
     "output_type": "stream",
     "text": [
      " 40%|████      | 8/20 [00:12<00:17,  1.43s/it]"
     ]
    },
    {
     "name": "stdout",
     "output_type": "stream",
     "text": [
      "la_029.nii.gz Dice list by number of clicks (left atrium): [0.6084, 0.6403, 0.6352, 0.6204, 0.6663]\n"
     ]
    },
    {
     "name": "stderr",
     "output_type": "stream",
     "text": [
      " 45%|████▌     | 9/20 [00:13<00:15,  1.43s/it]"
     ]
    },
    {
     "name": "stdout",
     "output_type": "stream",
     "text": [
      "la_024.nii.gz Dice list by number of clicks (left atrium): [0.5349, 0.6189, 0.6214, 0.651, 0.6444]\n"
     ]
    },
    {
     "name": "stderr",
     "output_type": "stream",
     "text": [
      " 50%|█████     | 10/20 [00:15<00:14,  1.44s/it]"
     ]
    },
    {
     "name": "stdout",
     "output_type": "stream",
     "text": [
      "la_020.nii.gz Dice list by number of clicks (left atrium): [0.7489, 0.7226, 0.7369, 0.736, 0.7417]\n"
     ]
    },
    {
     "name": "stderr",
     "output_type": "stream",
     "text": [
      " 55%|█████▌    | 11/20 [00:16<00:13,  1.46s/it]"
     ]
    },
    {
     "name": "stdout",
     "output_type": "stream",
     "text": [
      "la_003.nii.gz Dice list by number of clicks (left atrium): [0.5355, 0.5373, 0.5962, 0.605, 0.6085]\n"
     ]
    },
    {
     "name": "stderr",
     "output_type": "stream",
     "text": [
      " 60%|██████    | 12/20 [00:18<00:12,  1.51s/it]"
     ]
    },
    {
     "name": "stdout",
     "output_type": "stream",
     "text": [
      "la_011.nii.gz Dice list by number of clicks (left atrium): [0.561, 0.5726, 0.6684, 0.6932, 0.675]\n"
     ]
    },
    {
     "name": "stderr",
     "output_type": "stream",
     "text": [
      " 65%|██████▌   | 13/20 [00:19<00:10,  1.51s/it]"
     ]
    },
    {
     "name": "stdout",
     "output_type": "stream",
     "text": [
      "la_005.nii.gz Dice list by number of clicks (left atrium): [0.5969, 0.5743, 0.5386, 0.5469, 0.6025]\n"
     ]
    },
    {
     "name": "stderr",
     "output_type": "stream",
     "text": [
      " 70%|███████   | 14/20 [00:21<00:09,  1.52s/it]"
     ]
    },
    {
     "name": "stdout",
     "output_type": "stream",
     "text": [
      "la_018.nii.gz Dice list by number of clicks (left atrium): [0.5403, 0.5474, 0.5803, 0.5854, 0.5864]\n"
     ]
    },
    {
     "name": "stderr",
     "output_type": "stream",
     "text": [
      " 75%|███████▌  | 15/20 [00:22<00:07,  1.52s/it]"
     ]
    },
    {
     "name": "stdout",
     "output_type": "stream",
     "text": [
      "la_021.nii.gz Dice list by number of clicks (left atrium): [0.651, 0.6865, 0.6919, 0.6383, 0.6705]\n"
     ]
    },
    {
     "name": "stderr",
     "output_type": "stream",
     "text": [
      " 80%|████████  | 16/20 [00:24<00:06,  1.54s/it]"
     ]
    },
    {
     "name": "stdout",
     "output_type": "stream",
     "text": [
      "la_019.nii.gz Dice list by number of clicks (left atrium): [0.6042, 0.6876, 0.7052, 0.7071, 0.7213]\n"
     ]
    },
    {
     "name": "stderr",
     "output_type": "stream",
     "text": [
      " 85%|████████▌ | 17/20 [00:25<00:04,  1.52s/it]"
     ]
    },
    {
     "name": "stdout",
     "output_type": "stream",
     "text": [
      "la_004.nii.gz Dice list by number of clicks (left atrium): [0.6291, 0.6653, 0.6587, 0.6759, 0.6805]\n"
     ]
    },
    {
     "name": "stderr",
     "output_type": "stream",
     "text": [
      " 90%|█████████ | 18/20 [00:27<00:03,  1.51s/it]"
     ]
    },
    {
     "name": "stdout",
     "output_type": "stream",
     "text": [
      "la_009.nii.gz Dice list by number of clicks (left atrium): [0.3399, 0.5533, 0.6292, 0.6215, 0.6239]\n"
     ]
    },
    {
     "name": "stderr",
     "output_type": "stream",
     "text": [
      " 95%|█████████▌| 19/20 [00:28<00:01,  1.50s/it]"
     ]
    },
    {
     "name": "stdout",
     "output_type": "stream",
     "text": [
      "la_026.nii.gz Dice list by number of clicks (left atrium): [0.1372, 0.2351, 0.2004, 0.3323, 0.3733]\n",
      "Save results to /home/t722s/Desktop/Sam-Med3DTest/NetworkHeartModified/eval_res_from_inference.json\n",
      "Done\n"
     ]
    },
    {
     "name": "stderr",
     "output_type": "stream",
     "text": [
      "100%|██████████| 20/20 [00:30<00:00,  1.52s/it]\n"
     ]
    },
    {
     "name": "stdout",
     "output_type": "stream",
     "text": [
      "set seed as 2020\n",
      "device: cuda\n"
     ]
    },
    {
     "name": "stderr",
     "output_type": "stream",
     "text": [
      "  0%|          | 0/20 [00:00<?, ?it/s]"
     ]
    },
    {
     "name": "stdout",
     "output_type": "stream",
     "text": [
      "la_014.nii.gz Dice list by number of clicks (left atrium): [0.6248, 0.6235, 0.7059, 0.7298, 0.7321]\n"
     ]
    },
    {
     "name": "stderr",
     "output_type": "stream",
     "text": [
      "  5%|▌         | 1/20 [00:01<00:32,  1.73s/it]"
     ]
    },
    {
     "name": "stdout",
     "output_type": "stream",
     "text": [
      "la_022.nii.gz Dice list by number of clicks (left atrium): [0.6782, 0.6977, 0.6818, 0.5967, 0.6079]\n"
     ]
    },
    {
     "name": "stderr",
     "output_type": "stream",
     "text": [
      " 10%|█         | 2/20 [00:03<00:28,  1.58s/it]"
     ]
    },
    {
     "name": "stdout",
     "output_type": "stream",
     "text": [
      "la_030.nii.gz Dice list by number of clicks (left atrium): [0.6382, 0.5831, 0.5964, 0.5989, 0.5857]\n"
     ]
    },
    {
     "name": "stderr",
     "output_type": "stream",
     "text": [
      " 15%|█▌        | 3/20 [00:04<00:25,  1.52s/it]"
     ]
    },
    {
     "name": "stdout",
     "output_type": "stream",
     "text": [
      "la_010.nii.gz Dice list by number of clicks (left atrium): [0.5899, 0.6143, 0.6549, 0.7358, 0.738]\n"
     ]
    },
    {
     "name": "stderr",
     "output_type": "stream",
     "text": [
      " 20%|██        | 4/20 [00:06<00:24,  1.54s/it]"
     ]
    },
    {
     "name": "stdout",
     "output_type": "stream",
     "text": [
      "la_007.nii.gz Dice list by number of clicks (left atrium): [0.5807, 0.5679, 0.6666, 0.6814, 0.6715]\n"
     ]
    },
    {
     "name": "stderr",
     "output_type": "stream",
     "text": [
      " 25%|██▌       | 5/20 [00:07<00:23,  1.57s/it]"
     ]
    },
    {
     "name": "stdout",
     "output_type": "stream",
     "text": [
      "la_023.nii.gz Dice list by number of clicks (left atrium): [0.5613, 0.6196, 0.6197, 0.6897, 0.7114]\n"
     ]
    },
    {
     "name": "stderr",
     "output_type": "stream",
     "text": [
      " 30%|███       | 6/20 [00:09<00:21,  1.53s/it]"
     ]
    },
    {
     "name": "stdout",
     "output_type": "stream",
     "text": [
      "la_017.nii.gz Dice list by number of clicks (left atrium): [0.6532, 0.6414, 0.6741, 0.6668, 0.6568]\n"
     ]
    },
    {
     "name": "stderr",
     "output_type": "stream",
     "text": [
      " 35%|███▌      | 7/20 [00:10<00:19,  1.53s/it]"
     ]
    },
    {
     "name": "stdout",
     "output_type": "stream",
     "text": [
      "la_016.nii.gz Dice list by number of clicks (left atrium): [0.6533, 0.6707, 0.6228, 0.6904, 0.7473]\n"
     ]
    },
    {
     "name": "stderr",
     "output_type": "stream",
     "text": [
      " 40%|████      | 8/20 [00:12<00:17,  1.45s/it]"
     ]
    },
    {
     "name": "stdout",
     "output_type": "stream",
     "text": [
      "la_029.nii.gz Dice list by number of clicks (left atrium): [0.5686, 0.6148, 0.6078, 0.599, 0.6061]\n"
     ]
    },
    {
     "name": "stderr",
     "output_type": "stream",
     "text": [
      " 45%|████▌     | 9/20 [00:13<00:15,  1.44s/it]"
     ]
    },
    {
     "name": "stdout",
     "output_type": "stream",
     "text": [
      "la_024.nii.gz Dice list by number of clicks (left atrium): [0.4371, 0.5406, 0.7023, 0.703, 0.6952]\n"
     ]
    },
    {
     "name": "stderr",
     "output_type": "stream",
     "text": [
      " 50%|█████     | 10/20 [00:15<00:14,  1.48s/it]"
     ]
    },
    {
     "name": "stdout",
     "output_type": "stream",
     "text": [
      "la_020.nii.gz Dice list by number of clicks (left atrium): [0.573, 0.6805, 0.6928, 0.6905, 0.6882]\n"
     ]
    },
    {
     "name": "stderr",
     "output_type": "stream",
     "text": [
      " 55%|█████▌    | 11/20 [00:16<00:13,  1.47s/it]"
     ]
    },
    {
     "name": "stdout",
     "output_type": "stream",
     "text": [
      "la_003.nii.gz Dice list by number of clicks (left atrium): [0.5698, 0.4928, 0.6249, 0.6527, 0.6412]\n"
     ]
    },
    {
     "name": "stderr",
     "output_type": "stream",
     "text": [
      " 60%|██████    | 12/20 [00:18<00:12,  1.53s/it]"
     ]
    },
    {
     "name": "stdout",
     "output_type": "stream",
     "text": [
      "la_011.nii.gz Dice list by number of clicks (left atrium): [0.6965, 0.693, 0.6959, 0.6799, 0.7239]\n"
     ]
    },
    {
     "name": "stderr",
     "output_type": "stream",
     "text": [
      " 65%|██████▌   | 13/20 [00:19<00:10,  1.53s/it]"
     ]
    },
    {
     "name": "stdout",
     "output_type": "stream",
     "text": [
      "la_005.nii.gz Dice list by number of clicks (left atrium): [0.3048, 0.5182, 0.537, 0.5267, 0.5417]\n"
     ]
    },
    {
     "name": "stderr",
     "output_type": "stream",
     "text": [
      " 70%|███████   | 14/20 [00:21<00:09,  1.53s/it]"
     ]
    },
    {
     "name": "stdout",
     "output_type": "stream",
     "text": [
      "la_018.nii.gz Dice list by number of clicks (left atrium): [0.452, 0.4893, 0.4889, 0.4728, 0.5066]\n"
     ]
    },
    {
     "name": "stderr",
     "output_type": "stream",
     "text": [
      " 75%|███████▌  | 15/20 [00:22<00:07,  1.55s/it]"
     ]
    },
    {
     "name": "stdout",
     "output_type": "stream",
     "text": [
      "la_021.nii.gz Dice list by number of clicks (left atrium): [0.5485, 0.6422, 0.6657, 0.5861, 0.5857]\n"
     ]
    },
    {
     "name": "stderr",
     "output_type": "stream",
     "text": [
      " 80%|████████  | 16/20 [00:24<00:06,  1.51s/it]"
     ]
    },
    {
     "name": "stdout",
     "output_type": "stream",
     "text": [
      "la_019.nii.gz Dice list by number of clicks (left atrium): [0.6212, 0.5458, 0.5941, 0.6223, 0.6215]\n"
     ]
    },
    {
     "name": "stderr",
     "output_type": "stream",
     "text": [
      " 85%|████████▌ | 17/20 [00:25<00:04,  1.48s/it]"
     ]
    },
    {
     "name": "stdout",
     "output_type": "stream",
     "text": [
      "la_004.nii.gz Dice list by number of clicks (left atrium): [0.7317, 0.7635, 0.6779, 0.7181, 0.7435]\n"
     ]
    },
    {
     "name": "stderr",
     "output_type": "stream",
     "text": [
      " 90%|█████████ | 18/20 [00:27<00:02,  1.50s/it]"
     ]
    },
    {
     "name": "stdout",
     "output_type": "stream",
     "text": [
      "la_009.nii.gz Dice list by number of clicks (left atrium): [0.0063, 0.4829, 0.4948, 0.509, 0.565]\n"
     ]
    },
    {
     "name": "stderr",
     "output_type": "stream",
     "text": [
      " 95%|█████████▌| 19/20 [00:28<00:01,  1.48s/it]"
     ]
    },
    {
     "name": "stdout",
     "output_type": "stream",
     "text": [
      "la_026.nii.gz Dice list by number of clicks (left atrium): [0.385, 0.3863, 0.4065, 0.385, 0.6029]\n",
      "Save results to /home/t722s/Desktop/Sam-Med3DTest/NetworkHeartModified/eval_res_from_inference.json\n",
      "Done\n"
     ]
    },
    {
     "name": "stderr",
     "output_type": "stream",
     "text": [
      "100%|██████████| 20/20 [00:30<00:00,  1.51s/it]\n"
     ]
    },
    {
     "name": "stdout",
     "output_type": "stream",
     "text": [
      "set seed as 2020\n",
      "device: cuda\n"
     ]
    },
    {
     "name": "stderr",
     "output_type": "stream",
     "text": [
      "  0%|          | 0/20 [00:00<?, ?it/s]"
     ]
    },
    {
     "name": "stdout",
     "output_type": "stream",
     "text": [
      "la_014.nii.gz Dice list by number of clicks (left atrium): [0.388, 0.6164, 0.6266, 0.616, 0.6329]\n"
     ]
    },
    {
     "name": "stderr",
     "output_type": "stream",
     "text": [
      "  5%|▌         | 1/20 [00:01<00:34,  1.82s/it]"
     ]
    },
    {
     "name": "stdout",
     "output_type": "stream",
     "text": [
      "la_022.nii.gz Dice list by number of clicks (left atrium): [0.5828, 0.6978, 0.6513, 0.6598, 0.66]\n"
     ]
    },
    {
     "name": "stderr",
     "output_type": "stream",
     "text": [
      " 10%|█         | 2/20 [00:03<00:29,  1.65s/it]"
     ]
    },
    {
     "name": "stdout",
     "output_type": "stream",
     "text": [
      "la_030.nii.gz Dice list by number of clicks (left atrium): [0.4976, 0.5486, 0.6499, 0.6466, 0.7117]\n"
     ]
    },
    {
     "name": "stderr",
     "output_type": "stream",
     "text": [
      " 15%|█▌        | 3/20 [00:04<00:27,  1.59s/it]"
     ]
    },
    {
     "name": "stdout",
     "output_type": "stream",
     "text": [
      "la_010.nii.gz Dice list by number of clicks (left atrium): [0.6586, 0.5952, 0.6339, 0.612, 0.6009]\n"
     ]
    },
    {
     "name": "stderr",
     "output_type": "stream",
     "text": [
      " 20%|██        | 4/20 [00:06<00:25,  1.62s/it]"
     ]
    },
    {
     "name": "stdout",
     "output_type": "stream",
     "text": [
      "la_007.nii.gz Dice list by number of clicks (left atrium): [0.5368, 0.6881, 0.7366, 0.7471, 0.7288]\n"
     ]
    },
    {
     "name": "stderr",
     "output_type": "stream",
     "text": [
      " 25%|██▌       | 5/20 [00:08<00:24,  1.63s/it]"
     ]
    },
    {
     "name": "stdout",
     "output_type": "stream",
     "text": [
      "la_023.nii.gz Dice list by number of clicks (left atrium): [0.482, 0.3831, 0.5368, 0.5598, 0.6015]\n"
     ]
    },
    {
     "name": "stderr",
     "output_type": "stream",
     "text": [
      " 30%|███       | 6/20 [00:09<00:22,  1.61s/it]"
     ]
    },
    {
     "name": "stdout",
     "output_type": "stream",
     "text": [
      "la_017.nii.gz Dice list by number of clicks (left atrium): [0.5698, 0.4668, 0.4945, 0.476, 0.4972]\n"
     ]
    },
    {
     "name": "stderr",
     "output_type": "stream",
     "text": [
      " 35%|███▌      | 7/20 [00:11<00:20,  1.60s/it]"
     ]
    },
    {
     "name": "stdout",
     "output_type": "stream",
     "text": [
      "la_016.nii.gz Dice list by number of clicks (left atrium): [0.6719, 0.5734, 0.6787, 0.6856, 0.6825]\n"
     ]
    },
    {
     "name": "stderr",
     "output_type": "stream",
     "text": [
      " 40%|████      | 8/20 [00:12<00:18,  1.51s/it]"
     ]
    },
    {
     "name": "stdout",
     "output_type": "stream",
     "text": [
      "la_029.nii.gz Dice list by number of clicks (left atrium): [0.6463, 0.6477, 0.6467, 0.6308, 0.6266]\n"
     ]
    },
    {
     "name": "stderr",
     "output_type": "stream",
     "text": [
      " 45%|████▌     | 9/20 [00:14<00:16,  1.50s/it]"
     ]
    },
    {
     "name": "stdout",
     "output_type": "stream",
     "text": [
      "la_024.nii.gz Dice list by number of clicks (left atrium): [0.4588, 0.5922, 0.5716, 0.6553, 0.6429]\n"
     ]
    },
    {
     "name": "stderr",
     "output_type": "stream",
     "text": [
      " 50%|█████     | 10/20 [00:15<00:15,  1.50s/it]"
     ]
    },
    {
     "name": "stdout",
     "output_type": "stream",
     "text": [
      "la_020.nii.gz Dice list by number of clicks (left atrium): [0.6927, 0.6958, 0.6712, 0.6679, 0.6264]\n"
     ]
    },
    {
     "name": "stderr",
     "output_type": "stream",
     "text": [
      " 55%|█████▌    | 11/20 [00:17<00:13,  1.51s/it]"
     ]
    },
    {
     "name": "stdout",
     "output_type": "stream",
     "text": [
      "la_003.nii.gz Dice list by number of clicks (left atrium): [0.5558, 0.654, 0.6615, 0.7341, 0.7308]\n"
     ]
    },
    {
     "name": "stderr",
     "output_type": "stream",
     "text": [
      " 60%|██████    | 12/20 [00:18<00:12,  1.56s/it]"
     ]
    },
    {
     "name": "stdout",
     "output_type": "stream",
     "text": [
      "la_011.nii.gz Dice list by number of clicks (left atrium): [0.5253, 0.5503, 0.5838, 0.5722, 0.5791]\n"
     ]
    },
    {
     "name": "stderr",
     "output_type": "stream",
     "text": [
      " 65%|██████▌   | 13/20 [00:20<00:10,  1.56s/it]"
     ]
    },
    {
     "name": "stdout",
     "output_type": "stream",
     "text": [
      "la_005.nii.gz Dice list by number of clicks (left atrium): [0.393, 0.4289, 0.415, 0.4053, 0.479]\n"
     ]
    },
    {
     "name": "stderr",
     "output_type": "stream",
     "text": [
      " 70%|███████   | 14/20 [00:22<00:09,  1.58s/it]"
     ]
    },
    {
     "name": "stdout",
     "output_type": "stream",
     "text": [
      "la_018.nii.gz Dice list by number of clicks (left atrium): [0.4837, 0.549, 0.575, 0.5917, 0.5829]\n"
     ]
    },
    {
     "name": "stderr",
     "output_type": "stream",
     "text": [
      " 75%|███████▌  | 15/20 [00:23<00:07,  1.59s/it]"
     ]
    },
    {
     "name": "stdout",
     "output_type": "stream",
     "text": [
      "la_021.nii.gz Dice list by number of clicks (left atrium): [0.6797, 0.6406, 0.6496, 0.6908, 0.7045]\n"
     ]
    },
    {
     "name": "stderr",
     "output_type": "stream",
     "text": [
      " 80%|████████  | 16/20 [00:25<00:06,  1.56s/it]"
     ]
    },
    {
     "name": "stdout",
     "output_type": "stream",
     "text": [
      "la_019.nii.gz Dice list by number of clicks (left atrium): [0.6237, 0.6388, 0.6479, 0.6924, 0.6895]\n"
     ]
    },
    {
     "name": "stderr",
     "output_type": "stream",
     "text": [
      " 85%|████████▌ | 17/20 [00:26<00:04,  1.53s/it]"
     ]
    },
    {
     "name": "stdout",
     "output_type": "stream",
     "text": [
      "la_004.nii.gz Dice list by number of clicks (left atrium): [0.6048, 0.6789, 0.5076, 0.5282, 0.5443]\n"
     ]
    },
    {
     "name": "stderr",
     "output_type": "stream",
     "text": [
      " 90%|█████████ | 18/20 [00:28<00:03,  1.53s/it]"
     ]
    },
    {
     "name": "stdout",
     "output_type": "stream",
     "text": [
      "la_009.nii.gz Dice list by number of clicks (left atrium): [0.5918, 0.5536, 0.5016, 0.565, 0.5658]\n"
     ]
    },
    {
     "name": "stderr",
     "output_type": "stream",
     "text": [
      " 95%|█████████▌| 19/20 [00:29<00:01,  1.52s/it]"
     ]
    },
    {
     "name": "stdout",
     "output_type": "stream",
     "text": [
      "la_026.nii.gz Dice list by number of clicks (left atrium): [0.4256, 0.3795, 0.3647, 0.5542, 0.5844]\n",
      "Save results to /home/t722s/Desktop/Sam-Med3DTest/NetworkHeartModified/eval_res_from_inference.json\n",
      "Done\n"
     ]
    },
    {
     "name": "stderr",
     "output_type": "stream",
     "text": [
      "100%|██████████| 20/20 [00:31<00:00,  1.56s/it]\n"
     ]
    },
    {
     "name": "stdout",
     "output_type": "stream",
     "text": [
      "set seed as 2020\n",
      "device: cuda\n"
     ]
    },
    {
     "name": "stderr",
     "output_type": "stream",
     "text": [
      "  0%|          | 0/20 [00:00<?, ?it/s]"
     ]
    },
    {
     "name": "stdout",
     "output_type": "stream",
     "text": [
      "la_014.nii.gz Dice list by number of clicks (left atrium): [0.5855, 0.6328, 0.6483, 0.6616, 0.6799]\n"
     ]
    },
    {
     "name": "stderr",
     "output_type": "stream",
     "text": [
      "  5%|▌         | 1/20 [00:01<00:34,  1.84s/it]"
     ]
    },
    {
     "name": "stdout",
     "output_type": "stream",
     "text": [
      "la_022.nii.gz Dice list by number of clicks (left atrium): [0.6678, 0.7743, 0.7669, 0.7735, 0.7777]\n"
     ]
    },
    {
     "name": "stderr",
     "output_type": "stream",
     "text": [
      " 10%|█         | 2/20 [00:03<00:29,  1.65s/it]"
     ]
    },
    {
     "name": "stdout",
     "output_type": "stream",
     "text": [
      "la_030.nii.gz Dice list by number of clicks (left atrium): [0.7095, 0.6746, 0.778, 0.7471, 0.7169]\n"
     ]
    },
    {
     "name": "stderr",
     "output_type": "stream",
     "text": [
      " 15%|█▌        | 3/20 [00:04<00:27,  1.61s/it]"
     ]
    },
    {
     "name": "stdout",
     "output_type": "stream",
     "text": [
      "la_010.nii.gz Dice list by number of clicks (left atrium): [0.6491, 0.7237, 0.6267, 0.6232, 0.638]\n"
     ]
    },
    {
     "name": "stderr",
     "output_type": "stream",
     "text": [
      " 20%|██        | 4/20 [00:06<00:25,  1.57s/it]"
     ]
    },
    {
     "name": "stdout",
     "output_type": "stream",
     "text": [
      "la_007.nii.gz Dice list by number of clicks (left atrium): [0.6169, 0.6066, 0.6615, 0.6903, 0.6742]\n"
     ]
    },
    {
     "name": "stderr",
     "output_type": "stream",
     "text": [
      " 25%|██▌       | 5/20 [00:08<00:24,  1.60s/it]"
     ]
    },
    {
     "name": "stdout",
     "output_type": "stream",
     "text": [
      "la_023.nii.gz Dice list by number of clicks (left atrium): [0.6486, 0.7887, 0.8035, 0.8137, 0.8162]\n"
     ]
    },
    {
     "name": "stderr",
     "output_type": "stream",
     "text": [
      " 30%|███       | 6/20 [00:09<00:22,  1.58s/it]"
     ]
    },
    {
     "name": "stdout",
     "output_type": "stream",
     "text": [
      "la_017.nii.gz Dice list by number of clicks (left atrium): [0.5995, 0.5691, 0.5424, 0.5372, 0.5397]\n"
     ]
    },
    {
     "name": "stderr",
     "output_type": "stream",
     "text": [
      " 35%|███▌      | 7/20 [00:11<00:20,  1.56s/it]"
     ]
    },
    {
     "name": "stdout",
     "output_type": "stream",
     "text": [
      "la_016.nii.gz Dice list by number of clicks (left atrium): [0.6145, 0.7122, 0.7089, 0.681, 0.6938]\n"
     ]
    },
    {
     "name": "stderr",
     "output_type": "stream",
     "text": [
      " 40%|████      | 8/20 [00:12<00:17,  1.47s/it]"
     ]
    },
    {
     "name": "stdout",
     "output_type": "stream",
     "text": [
      "la_029.nii.gz Dice list by number of clicks (left atrium): [0.5542, 0.6533, 0.707, 0.6957, 0.7099]\n"
     ]
    },
    {
     "name": "stderr",
     "output_type": "stream",
     "text": [
      " 45%|████▌     | 9/20 [00:13<00:16,  1.46s/it]"
     ]
    },
    {
     "name": "stdout",
     "output_type": "stream",
     "text": [
      "la_024.nii.gz Dice list by number of clicks (left atrium): [0.506, 0.5501, 0.4805, 0.6245, 0.6312]\n"
     ]
    },
    {
     "name": "stderr",
     "output_type": "stream",
     "text": [
      " 50%|█████     | 10/20 [00:15<00:15,  1.51s/it]"
     ]
    },
    {
     "name": "stdout",
     "output_type": "stream",
     "text": [
      "la_020.nii.gz Dice list by number of clicks (left atrium): [0.5486, 0.6271, 0.6547, 0.6154, 0.6081]\n"
     ]
    },
    {
     "name": "stderr",
     "output_type": "stream",
     "text": [
      " 55%|█████▌    | 11/20 [00:17<00:13,  1.53s/it]"
     ]
    },
    {
     "name": "stdout",
     "output_type": "stream",
     "text": [
      "la_003.nii.gz Dice list by number of clicks (left atrium): [0.5735, 0.6296, 0.6381, 0.6711, 0.6867]\n"
     ]
    },
    {
     "name": "stderr",
     "output_type": "stream",
     "text": [
      " 60%|██████    | 12/20 [00:18<00:12,  1.57s/it]"
     ]
    },
    {
     "name": "stdout",
     "output_type": "stream",
     "text": [
      "la_011.nii.gz Dice list by number of clicks (left atrium): [0.5095, 0.6732, 0.6913, 0.6603, 0.6555]\n"
     ]
    },
    {
     "name": "stderr",
     "output_type": "stream",
     "text": [
      " 65%|██████▌   | 13/20 [00:20<00:10,  1.55s/it]"
     ]
    },
    {
     "name": "stdout",
     "output_type": "stream",
     "text": [
      "la_005.nii.gz Dice list by number of clicks (left atrium): [0.4992, 0.5166, 0.5212, 0.5569, 0.6409]\n"
     ]
    },
    {
     "name": "stderr",
     "output_type": "stream",
     "text": [
      " 70%|███████   | 14/20 [00:21<00:09,  1.58s/it]"
     ]
    },
    {
     "name": "stdout",
     "output_type": "stream",
     "text": [
      "la_018.nii.gz Dice list by number of clicks (left atrium): [0.6167, 0.6411, 0.6525, 0.6586, 0.6252]\n"
     ]
    },
    {
     "name": "stderr",
     "output_type": "stream",
     "text": [
      " 75%|███████▌  | 15/20 [00:23<00:07,  1.58s/it]"
     ]
    },
    {
     "name": "stdout",
     "output_type": "stream",
     "text": [
      "la_021.nii.gz Dice list by number of clicks (left atrium): [0.6004, 0.598, 0.6145, 0.6766, 0.6823]\n"
     ]
    },
    {
     "name": "stderr",
     "output_type": "stream",
     "text": [
      " 80%|████████  | 16/20 [00:24<00:06,  1.53s/it]"
     ]
    },
    {
     "name": "stdout",
     "output_type": "stream",
     "text": [
      "la_019.nii.gz Dice list by number of clicks (left atrium): [0.172, 0.1565, 0.2306, 0.2534, 0.4105]\n"
     ]
    },
    {
     "name": "stderr",
     "output_type": "stream",
     "text": [
      " 85%|████████▌ | 17/20 [00:26<00:04,  1.53s/it]"
     ]
    },
    {
     "name": "stdout",
     "output_type": "stream",
     "text": [
      "la_004.nii.gz Dice list by number of clicks (left atrium): [0.6778, 0.6448, 0.6256, 0.6112, 0.6206]\n"
     ]
    },
    {
     "name": "stderr",
     "output_type": "stream",
     "text": [
      " 90%|█████████ | 18/20 [00:28<00:03,  1.57s/it]"
     ]
    },
    {
     "name": "stdout",
     "output_type": "stream",
     "text": [
      "la_009.nii.gz Dice list by number of clicks (left atrium): [0.5806, 0.599, 0.5657, 0.5841, 0.6348]\n"
     ]
    },
    {
     "name": "stderr",
     "output_type": "stream",
     "text": [
      " 95%|█████████▌| 19/20 [00:29<00:01,  1.53s/it]"
     ]
    },
    {
     "name": "stdout",
     "output_type": "stream",
     "text": [
      "la_026.nii.gz Dice list by number of clicks (left atrium): [0.3971, 0.492, 0.5375, 0.594, 0.5725]\n",
      "Save results to /home/t722s/Desktop/Sam-Med3DTest/NetworkHeartModified/eval_res_from_inference.json\n",
      "Done\n"
     ]
    },
    {
     "name": "stderr",
     "output_type": "stream",
     "text": [
      "100%|██████████| 20/20 [00:31<00:00,  1.55s/it]\n"
     ]
    },
    {
     "name": "stdout",
     "output_type": "stream",
     "text": [
      "set seed as 2020\n",
      "device: cuda\n"
     ]
    },
    {
     "name": "stderr",
     "output_type": "stream",
     "text": [
      "  0%|          | 0/20 [00:00<?, ?it/s]"
     ]
    },
    {
     "name": "stdout",
     "output_type": "stream",
     "text": [
      "la_014.nii.gz Dice list by number of clicks (left atrium): [0.6945, 0.7324, 0.7303, 0.7437, 0.7491]\n"
     ]
    },
    {
     "name": "stderr",
     "output_type": "stream",
     "text": [
      "  5%|▌         | 1/20 [00:01<00:34,  1.83s/it]"
     ]
    },
    {
     "name": "stdout",
     "output_type": "stream",
     "text": [
      "la_022.nii.gz Dice list by number of clicks (left atrium): [0.6363, 0.6891, 0.687, 0.6751, 0.7166]\n"
     ]
    },
    {
     "name": "stderr",
     "output_type": "stream",
     "text": [
      " 10%|█         | 2/20 [00:03<00:29,  1.61s/it]"
     ]
    },
    {
     "name": "stdout",
     "output_type": "stream",
     "text": [
      "la_030.nii.gz Dice list by number of clicks (left atrium): [0.6095, 0.7337, 0.7545, 0.7579, 0.7579]\n"
     ]
    },
    {
     "name": "stderr",
     "output_type": "stream",
     "text": [
      " 15%|█▌        | 3/20 [00:04<00:26,  1.56s/it]"
     ]
    },
    {
     "name": "stdout",
     "output_type": "stream",
     "text": [
      "la_010.nii.gz Dice list by number of clicks (left atrium): [0.5295, 0.6243, 0.6468, 0.683, 0.6857]\n"
     ]
    },
    {
     "name": "stderr",
     "output_type": "stream",
     "text": [
      " 20%|██        | 4/20 [00:06<00:24,  1.55s/it]"
     ]
    },
    {
     "name": "stdout",
     "output_type": "stream",
     "text": [
      "la_007.nii.gz Dice list by number of clicks (left atrium): [0.5593, 0.702, 0.6879, 0.627, 0.6958]\n"
     ]
    },
    {
     "name": "stderr",
     "output_type": "stream",
     "text": [
      " 25%|██▌       | 5/20 [00:08<00:24,  1.60s/it]"
     ]
    },
    {
     "name": "stdout",
     "output_type": "stream",
     "text": [
      "la_023.nii.gz Dice list by number of clicks (left atrium): [0.5718, 0.6317, 0.601, 0.5713, 0.553]\n"
     ]
    },
    {
     "name": "stderr",
     "output_type": "stream",
     "text": [
      " 30%|███       | 6/20 [00:09<00:22,  1.58s/it]"
     ]
    },
    {
     "name": "stdout",
     "output_type": "stream",
     "text": [
      "la_017.nii.gz Dice list by number of clicks (left atrium): [0.5854, 0.6218, 0.6283, 0.6496, 0.6461]\n"
     ]
    },
    {
     "name": "stderr",
     "output_type": "stream",
     "text": [
      " 35%|███▌      | 7/20 [00:11<00:20,  1.58s/it]"
     ]
    },
    {
     "name": "stdout",
     "output_type": "stream",
     "text": [
      "la_016.nii.gz Dice list by number of clicks (left atrium): [0.6319, 0.6721, 0.6512, 0.684, 0.687]\n"
     ]
    },
    {
     "name": "stderr",
     "output_type": "stream",
     "text": [
      " 40%|████      | 8/20 [00:12<00:17,  1.46s/it]"
     ]
    },
    {
     "name": "stdout",
     "output_type": "stream",
     "text": [
      "la_029.nii.gz Dice list by number of clicks (left atrium): [0.5678, 0.5881, 0.6328, 0.6411, 0.6403]\n"
     ]
    },
    {
     "name": "stderr",
     "output_type": "stream",
     "text": [
      " 45%|████▌     | 9/20 [00:13<00:16,  1.49s/it]"
     ]
    },
    {
     "name": "stdout",
     "output_type": "stream",
     "text": [
      "la_024.nii.gz Dice list by number of clicks (left atrium): [0.6366, 0.6435, 0.6646, 0.6422, 0.648]\n"
     ]
    },
    {
     "name": "stderr",
     "output_type": "stream",
     "text": [
      " 50%|█████     | 10/20 [00:15<00:15,  1.50s/it]"
     ]
    },
    {
     "name": "stdout",
     "output_type": "stream",
     "text": [
      "la_020.nii.gz Dice list by number of clicks (left atrium): [0.5077, 0.5742, 0.5744, 0.5407, 0.4949]\n"
     ]
    },
    {
     "name": "stderr",
     "output_type": "stream",
     "text": [
      " 55%|█████▌    | 11/20 [00:17<00:13,  1.52s/it]"
     ]
    },
    {
     "name": "stdout",
     "output_type": "stream",
     "text": [
      "la_003.nii.gz Dice list by number of clicks (left atrium): [0.5816, 0.6333, 0.6384, 0.6127, 0.6037]\n"
     ]
    },
    {
     "name": "stderr",
     "output_type": "stream",
     "text": [
      " 60%|██████    | 12/20 [00:18<00:12,  1.59s/it]"
     ]
    },
    {
     "name": "stdout",
     "output_type": "stream",
     "text": [
      "la_011.nii.gz Dice list by number of clicks (left atrium): [0.5663, 0.5559, 0.5565, 0.5733, 0.5814]\n"
     ]
    },
    {
     "name": "stderr",
     "output_type": "stream",
     "text": [
      " 65%|██████▌   | 13/20 [00:20<00:11,  1.57s/it]"
     ]
    },
    {
     "name": "stdout",
     "output_type": "stream",
     "text": [
      "la_005.nii.gz Dice list by number of clicks (left atrium): [0.5591, 0.5704, 0.5351, 0.5575, 0.6624]\n"
     ]
    },
    {
     "name": "stderr",
     "output_type": "stream",
     "text": [
      " 70%|███████   | 14/20 [00:21<00:09,  1.56s/it]"
     ]
    },
    {
     "name": "stdout",
     "output_type": "stream",
     "text": [
      "la_018.nii.gz Dice list by number of clicks (left atrium): [0.4756, 0.5031, 0.5529, 0.5655, 0.5479]\n"
     ]
    },
    {
     "name": "stderr",
     "output_type": "stream",
     "text": [
      " 75%|███████▌  | 15/20 [00:23<00:07,  1.57s/it]"
     ]
    },
    {
     "name": "stdout",
     "output_type": "stream",
     "text": [
      "la_021.nii.gz Dice list by number of clicks (left atrium): [0.574, 0.7456, 0.7529, 0.7564, 0.7554]\n"
     ]
    },
    {
     "name": "stderr",
     "output_type": "stream",
     "text": [
      " 80%|████████  | 16/20 [00:24<00:06,  1.57s/it]"
     ]
    },
    {
     "name": "stdout",
     "output_type": "stream",
     "text": [
      "la_019.nii.gz Dice list by number of clicks (left atrium): [0.3994, 0.4895, 0.6012, 0.6276, 0.6383]\n"
     ]
    },
    {
     "name": "stderr",
     "output_type": "stream",
     "text": [
      " 85%|████████▌ | 17/20 [00:26<00:04,  1.56s/it]"
     ]
    },
    {
     "name": "stdout",
     "output_type": "stream",
     "text": [
      "la_004.nii.gz Dice list by number of clicks (left atrium): [0.3935, 0.6068, 0.5951, 0.6005, 0.5927]\n"
     ]
    },
    {
     "name": "stderr",
     "output_type": "stream",
     "text": [
      " 90%|█████████ | 18/20 [00:28<00:03,  1.55s/it]"
     ]
    },
    {
     "name": "stdout",
     "output_type": "stream",
     "text": [
      "la_009.nii.gz Dice list by number of clicks (left atrium): [0.5715, 0.6355, 0.6598, 0.6657, 0.6859]\n"
     ]
    },
    {
     "name": "stderr",
     "output_type": "stream",
     "text": [
      " 95%|█████████▌| 19/20 [00:29<00:01,  1.55s/it]"
     ]
    },
    {
     "name": "stdout",
     "output_type": "stream",
     "text": [
      "la_026.nii.gz Dice list by number of clicks (left atrium): [0.4924, 0.5761, 0.4793, 0.601, 0.5856]\n",
      "Save results to /home/t722s/Desktop/Sam-Med3DTest/NetworkHeartModified/eval_res_from_inference.json\n",
      "Done\n"
     ]
    },
    {
     "name": "stderr",
     "output_type": "stream",
     "text": [
      "100%|██████████| 20/20 [00:31<00:00,  1.56s/it]\n"
     ]
    },
    {
     "name": "stdout",
     "output_type": "stream",
     "text": [
      "set seed as 2020\n",
      "device: cuda\n"
     ]
    },
    {
     "name": "stderr",
     "output_type": "stream",
     "text": [
      "  0%|          | 0/20 [00:00<?, ?it/s]"
     ]
    },
    {
     "name": "stdout",
     "output_type": "stream",
     "text": [
      "la_014.nii.gz Dice list by number of clicks (left atrium): [0.6719, 0.7098, 0.7132, 0.7196, 0.7395]\n"
     ]
    },
    {
     "name": "stderr",
     "output_type": "stream",
     "text": [
      "  5%|▌         | 1/20 [00:01<00:33,  1.79s/it]"
     ]
    },
    {
     "name": "stdout",
     "output_type": "stream",
     "text": [
      "la_022.nii.gz Dice list by number of clicks (left atrium): [0.612, 0.6767, 0.6362, 0.6632, 0.6874]\n"
     ]
    },
    {
     "name": "stderr",
     "output_type": "stream",
     "text": [
      " 10%|█         | 2/20 [00:03<00:29,  1.63s/it]"
     ]
    },
    {
     "name": "stdout",
     "output_type": "stream",
     "text": [
      "la_030.nii.gz Dice list by number of clicks (left atrium): [0.4606, 0.5846, 0.4688, 0.6232, 0.6414]\n"
     ]
    },
    {
     "name": "stderr",
     "output_type": "stream",
     "text": [
      " 15%|█▌        | 3/20 [00:04<00:27,  1.61s/it]"
     ]
    },
    {
     "name": "stdout",
     "output_type": "stream",
     "text": [
      "la_010.nii.gz Dice list by number of clicks (left atrium): [0.4459, 0.3341, 0.5267, 0.5303, 0.6192]\n"
     ]
    },
    {
     "name": "stderr",
     "output_type": "stream",
     "text": [
      " 20%|██        | 4/20 [00:06<00:25,  1.60s/it]"
     ]
    },
    {
     "name": "stdout",
     "output_type": "stream",
     "text": [
      "la_007.nii.gz Dice list by number of clicks (left atrium): [0.5272, 0.5233, 0.5351, 0.5673, 0.6359]\n"
     ]
    },
    {
     "name": "stderr",
     "output_type": "stream",
     "text": [
      " 25%|██▌       | 5/20 [00:08<00:24,  1.63s/it]"
     ]
    },
    {
     "name": "stdout",
     "output_type": "stream",
     "text": [
      "la_023.nii.gz Dice list by number of clicks (left atrium): [0.4956, 0.4669, 0.5187, 0.6317, 0.6636]\n"
     ]
    },
    {
     "name": "stderr",
     "output_type": "stream",
     "text": [
      " 30%|███       | 6/20 [00:09<00:22,  1.61s/it]"
     ]
    },
    {
     "name": "stdout",
     "output_type": "stream",
     "text": [
      "la_017.nii.gz Dice list by number of clicks (left atrium): [0.7151, 0.7127, 0.7016, 0.6912, 0.6992]\n"
     ]
    },
    {
     "name": "stderr",
     "output_type": "stream",
     "text": [
      " 35%|███▌      | 7/20 [00:11<00:20,  1.60s/it]"
     ]
    },
    {
     "name": "stdout",
     "output_type": "stream",
     "text": [
      "la_016.nii.gz Dice list by number of clicks (left atrium): [0.6893, 0.6776, 0.7203, 0.6998, 0.7366]\n"
     ]
    },
    {
     "name": "stderr",
     "output_type": "stream",
     "text": [
      " 40%|████      | 8/20 [00:12<00:17,  1.49s/it]"
     ]
    },
    {
     "name": "stdout",
     "output_type": "stream",
     "text": [
      "la_029.nii.gz Dice list by number of clicks (left atrium): [0.638, 0.6248, 0.6802, 0.6769, 0.6325]\n"
     ]
    },
    {
     "name": "stderr",
     "output_type": "stream",
     "text": [
      " 45%|████▌     | 9/20 [00:14<00:16,  1.49s/it]"
     ]
    },
    {
     "name": "stdout",
     "output_type": "stream",
     "text": [
      "la_024.nii.gz Dice list by number of clicks (left atrium): [0.4961, 0.5656, 0.5609, 0.6108, 0.6314]\n"
     ]
    },
    {
     "name": "stderr",
     "output_type": "stream",
     "text": [
      " 50%|█████     | 10/20 [00:15<00:15,  1.52s/it]"
     ]
    },
    {
     "name": "stdout",
     "output_type": "stream",
     "text": [
      "la_020.nii.gz Dice list by number of clicks (left atrium): [0.5184, 0.5984, 0.6042, 0.6539, 0.6517]\n"
     ]
    },
    {
     "name": "stderr",
     "output_type": "stream",
     "text": [
      " 55%|█████▌    | 11/20 [00:17<00:13,  1.52s/it]"
     ]
    },
    {
     "name": "stdout",
     "output_type": "stream",
     "text": [
      "la_003.nii.gz Dice list by number of clicks (left atrium): [0.6611, 0.7149, 0.732, 0.7091, 0.7418]\n"
     ]
    },
    {
     "name": "stderr",
     "output_type": "stream",
     "text": [
      " 60%|██████    | 12/20 [00:18<00:12,  1.59s/it]"
     ]
    },
    {
     "name": "stdout",
     "output_type": "stream",
     "text": [
      "la_011.nii.gz Dice list by number of clicks (left atrium): [0.5349, 0.6337, 0.6704, 0.6553, 0.6693]\n"
     ]
    },
    {
     "name": "stderr",
     "output_type": "stream",
     "text": [
      " 65%|██████▌   | 13/20 [00:20<00:11,  1.59s/it]"
     ]
    },
    {
     "name": "stdout",
     "output_type": "stream",
     "text": [
      "la_005.nii.gz Dice list by number of clicks (left atrium): [0.533, 0.5132, 0.5445, 0.5598, 0.572]\n"
     ]
    },
    {
     "name": "stderr",
     "output_type": "stream",
     "text": [
      " 70%|███████   | 14/20 [00:22<00:09,  1.59s/it]"
     ]
    },
    {
     "name": "stdout",
     "output_type": "stream",
     "text": [
      "la_018.nii.gz Dice list by number of clicks (left atrium): [0.5448, 0.5699, 0.6245, 0.6293, 0.62]\n"
     ]
    },
    {
     "name": "stderr",
     "output_type": "stream",
     "text": [
      " 75%|███████▌  | 15/20 [00:23<00:07,  1.57s/it]"
     ]
    },
    {
     "name": "stdout",
     "output_type": "stream",
     "text": [
      "la_021.nii.gz Dice list by number of clicks (left atrium): [0.6817, 0.6898, 0.6799, 0.6815, 0.7104]\n"
     ]
    },
    {
     "name": "stderr",
     "output_type": "stream",
     "text": [
      " 80%|████████  | 16/20 [00:25<00:06,  1.53s/it]"
     ]
    },
    {
     "name": "stdout",
     "output_type": "stream",
     "text": [
      "la_019.nii.gz Dice list by number of clicks (left atrium): [0.605, 0.6595, 0.6567, 0.6633, 0.6878]\n"
     ]
    },
    {
     "name": "stderr",
     "output_type": "stream",
     "text": [
      " 85%|████████▌ | 17/20 [00:26<00:04,  1.53s/it]"
     ]
    },
    {
     "name": "stdout",
     "output_type": "stream",
     "text": [
      "la_004.nii.gz Dice list by number of clicks (left atrium): [0.6584, 0.692, 0.7069, 0.7051, 0.6463]\n"
     ]
    },
    {
     "name": "stderr",
     "output_type": "stream",
     "text": [
      " 90%|█████████ | 18/20 [00:28<00:03,  1.53s/it]"
     ]
    },
    {
     "name": "stdout",
     "output_type": "stream",
     "text": [
      "la_009.nii.gz Dice list by number of clicks (left atrium): [0.516, 0.4649, 0.5945, 0.6029, 0.5969]\n"
     ]
    },
    {
     "name": "stderr",
     "output_type": "stream",
     "text": [
      " 95%|█████████▌| 19/20 [00:29<00:01,  1.52s/it]"
     ]
    },
    {
     "name": "stdout",
     "output_type": "stream",
     "text": [
      "la_026.nii.gz Dice list by number of clicks (left atrium): [0.5138, 0.5809, 0.5936, 0.6874, 0.6975]\n",
      "Save results to /home/t722s/Desktop/Sam-Med3DTest/NetworkHeartModified/eval_res_from_inference.json\n",
      "Done\n"
     ]
    },
    {
     "name": "stderr",
     "output_type": "stream",
     "text": [
      "100%|██████████| 20/20 [00:31<00:00,  1.56s/it]\n"
     ]
    },
    {
     "name": "stdout",
     "output_type": "stream",
     "text": [
      "set seed as 2020\n",
      "device: cuda\n"
     ]
    },
    {
     "name": "stderr",
     "output_type": "stream",
     "text": [
      "  0%|          | 0/20 [00:00<?, ?it/s]"
     ]
    },
    {
     "name": "stdout",
     "output_type": "stream",
     "text": [
      "la_014.nii.gz Dice list by number of clicks (left atrium): [0.6409, 0.6516, 0.7576, 0.7606, 0.7627]\n"
     ]
    },
    {
     "name": "stderr",
     "output_type": "stream",
     "text": [
      "  5%|▌         | 1/20 [00:01<00:34,  1.83s/it]"
     ]
    },
    {
     "name": "stdout",
     "output_type": "stream",
     "text": [
      "la_022.nii.gz Dice list by number of clicks (left atrium): [0.6065, 0.6338, 0.6129, 0.6234, 0.6455]\n"
     ]
    },
    {
     "name": "stderr",
     "output_type": "stream",
     "text": [
      " 10%|█         | 2/20 [00:03<00:28,  1.60s/it]"
     ]
    },
    {
     "name": "stdout",
     "output_type": "stream",
     "text": [
      "la_030.nii.gz Dice list by number of clicks (left atrium): [0.6435, 0.709, 0.6993, 0.6688, 0.7484]\n"
     ]
    },
    {
     "name": "stderr",
     "output_type": "stream",
     "text": [
      " 15%|█▌        | 3/20 [00:04<00:26,  1.58s/it]"
     ]
    },
    {
     "name": "stdout",
     "output_type": "stream",
     "text": [
      "la_010.nii.gz Dice list by number of clicks (left atrium): [0.5098, 0.4955, 0.5166, 0.667, 0.5876]\n"
     ]
    },
    {
     "name": "stderr",
     "output_type": "stream",
     "text": [
      " 20%|██        | 4/20 [00:06<00:24,  1.56s/it]"
     ]
    },
    {
     "name": "stdout",
     "output_type": "stream",
     "text": [
      "la_007.nii.gz Dice list by number of clicks (left atrium): [0.5878, 0.6067, 0.6557, 0.6057, 0.6518]\n"
     ]
    },
    {
     "name": "stderr",
     "output_type": "stream",
     "text": [
      " 25%|██▌       | 5/20 [00:07<00:23,  1.58s/it]"
     ]
    },
    {
     "name": "stdout",
     "output_type": "stream",
     "text": [
      "la_023.nii.gz Dice list by number of clicks (left atrium): [0.7529, 0.7826, 0.79, 0.803, 0.7969]\n"
     ]
    },
    {
     "name": "stderr",
     "output_type": "stream",
     "text": [
      " 30%|███       | 6/20 [00:09<00:22,  1.57s/it]"
     ]
    },
    {
     "name": "stdout",
     "output_type": "stream",
     "text": [
      "la_017.nii.gz Dice list by number of clicks (left atrium): [0.65, 0.6563, 0.6448, 0.6126, 0.6452]\n"
     ]
    },
    {
     "name": "stderr",
     "output_type": "stream",
     "text": [
      " 35%|███▌      | 7/20 [00:11<00:20,  1.57s/it]"
     ]
    },
    {
     "name": "stdout",
     "output_type": "stream",
     "text": [
      "la_016.nii.gz Dice list by number of clicks (left atrium): [0.6799, 0.6523, 0.727, 0.7289, 0.7209]\n"
     ]
    },
    {
     "name": "stderr",
     "output_type": "stream",
     "text": [
      " 40%|████      | 8/20 [00:12<00:17,  1.46s/it]"
     ]
    },
    {
     "name": "stdout",
     "output_type": "stream",
     "text": [
      "la_029.nii.gz Dice list by number of clicks (left atrium): [0.66, 0.714, 0.7146, 0.6868, 0.7008]\n"
     ]
    },
    {
     "name": "stderr",
     "output_type": "stream",
     "text": [
      " 45%|████▌     | 9/20 [00:13<00:16,  1.49s/it]"
     ]
    },
    {
     "name": "stdout",
     "output_type": "stream",
     "text": [
      "la_024.nii.gz Dice list by number of clicks (left atrium): [0.4761, 0.6169, 0.6103, 0.6302, 0.6472]\n"
     ]
    },
    {
     "name": "stderr",
     "output_type": "stream",
     "text": [
      " 50%|█████     | 10/20 [00:15<00:15,  1.51s/it]"
     ]
    },
    {
     "name": "stdout",
     "output_type": "stream",
     "text": [
      "la_020.nii.gz Dice list by number of clicks (left atrium): [0.6122, 0.6032, 0.5813, 0.6084, 0.6069]\n"
     ]
    },
    {
     "name": "stderr",
     "output_type": "stream",
     "text": [
      " 55%|█████▌    | 11/20 [00:16<00:13,  1.51s/it]"
     ]
    },
    {
     "name": "stdout",
     "output_type": "stream",
     "text": [
      "la_003.nii.gz Dice list by number of clicks (left atrium): [0.6624, 0.6241, 0.6698, 0.6412, 0.6481]\n"
     ]
    },
    {
     "name": "stderr",
     "output_type": "stream",
     "text": [
      " 60%|██████    | 12/20 [00:18<00:12,  1.56s/it]"
     ]
    },
    {
     "name": "stdout",
     "output_type": "stream",
     "text": [
      "la_011.nii.gz Dice list by number of clicks (left atrium): [0.5061, 0.5086, 0.5736, 0.5618, 0.5396]\n"
     ]
    },
    {
     "name": "stderr",
     "output_type": "stream",
     "text": [
      " 65%|██████▌   | 13/20 [00:20<00:10,  1.57s/it]"
     ]
    },
    {
     "name": "stdout",
     "output_type": "stream",
     "text": [
      "la_005.nii.gz Dice list by number of clicks (left atrium): [0.3292, 0.3644, 0.4507, 0.4283, 0.4813]\n"
     ]
    },
    {
     "name": "stderr",
     "output_type": "stream",
     "text": [
      " 70%|███████   | 14/20 [00:21<00:09,  1.57s/it]"
     ]
    },
    {
     "name": "stdout",
     "output_type": "stream",
     "text": [
      "la_018.nii.gz Dice list by number of clicks (left atrium): [0.5513, 0.5471, 0.6028, 0.608, 0.5893]\n"
     ]
    },
    {
     "name": "stderr",
     "output_type": "stream",
     "text": [
      " 75%|███████▌  | 15/20 [00:23<00:07,  1.58s/it]"
     ]
    },
    {
     "name": "stdout",
     "output_type": "stream",
     "text": [
      "la_021.nii.gz Dice list by number of clicks (left atrium): [0.7194, 0.7618, 0.7374, 0.6857, 0.6733]\n"
     ]
    },
    {
     "name": "stderr",
     "output_type": "stream",
     "text": [
      " 80%|████████  | 16/20 [00:24<00:06,  1.56s/it]"
     ]
    },
    {
     "name": "stdout",
     "output_type": "stream",
     "text": [
      "la_019.nii.gz Dice list by number of clicks (left atrium): [0.5074, 0.5955, 0.6657, 0.6616, 0.6522]\n"
     ]
    },
    {
     "name": "stderr",
     "output_type": "stream",
     "text": [
      " 85%|████████▌ | 17/20 [00:26<00:04,  1.55s/it]"
     ]
    },
    {
     "name": "stdout",
     "output_type": "stream",
     "text": [
      "la_004.nii.gz Dice list by number of clicks (left atrium): [0.3506, 0.5731, 0.6586, 0.6459, 0.6603]\n"
     ]
    },
    {
     "name": "stderr",
     "output_type": "stream",
     "text": [
      " 95%|█████████▌| 19/20 [00:29<00:01,  1.53s/it]"
     ]
    },
    {
     "name": "stdout",
     "output_type": "stream",
     "text": [
      "la_009.nii.gz Dice list by number of clicks (left atrium): [0.3561, 0.4706, 0.5112, 0.5114, 0.5362]\n",
      "la_026.nii.gz Dice list by number of clicks (left atrium): [0.636, 0.5499, 0.5376, 0.537, 0.4879]\n",
      "Save results to /home/t722s/Desktop/Sam-Med3DTest/NetworkHeartModified/eval_res_from_inference.json\n",
      "Done\n"
     ]
    },
    {
     "name": "stderr",
     "output_type": "stream",
     "text": [
      "100%|██████████| 20/20 [00:31<00:00,  1.56s/it]\n"
     ]
    },
    {
     "name": "stdout",
     "output_type": "stream",
     "text": [
      "set seed as 2020\n",
      "device: cuda\n"
     ]
    },
    {
     "name": "stderr",
     "output_type": "stream",
     "text": [
      "  0%|          | 0/20 [00:00<?, ?it/s]"
     ]
    },
    {
     "name": "stdout",
     "output_type": "stream",
     "text": [
      "la_014.nii.gz Dice list by number of clicks (left atrium): [0.5933, 0.6043, 0.5719, 0.5551, 0.754]\n"
     ]
    },
    {
     "name": "stderr",
     "output_type": "stream",
     "text": [
      "  5%|▌         | 1/20 [00:01<00:33,  1.76s/it]"
     ]
    },
    {
     "name": "stdout",
     "output_type": "stream",
     "text": [
      "la_022.nii.gz Dice list by number of clicks (left atrium): [0.7117, 0.6953, 0.6605, 0.6488, 0.7218]\n"
     ]
    },
    {
     "name": "stderr",
     "output_type": "stream",
     "text": [
      " 10%|█         | 2/20 [00:03<00:28,  1.59s/it]"
     ]
    },
    {
     "name": "stdout",
     "output_type": "stream",
     "text": [
      "la_030.nii.gz Dice list by number of clicks (left atrium): [0.5842, 0.5095, 0.618, 0.6239, 0.6275]\n"
     ]
    },
    {
     "name": "stderr",
     "output_type": "stream",
     "text": [
      " 15%|█▌        | 3/20 [00:04<00:27,  1.60s/it]"
     ]
    },
    {
     "name": "stdout",
     "output_type": "stream",
     "text": [
      "la_010.nii.gz Dice list by number of clicks (left atrium): [0.6864, 0.6847, 0.6835, 0.6953, 0.7799]\n"
     ]
    },
    {
     "name": "stderr",
     "output_type": "stream",
     "text": [
      " 20%|██        | 4/20 [00:06<00:25,  1.61s/it]"
     ]
    },
    {
     "name": "stdout",
     "output_type": "stream",
     "text": [
      "la_007.nii.gz Dice list by number of clicks (left atrium): [0.4709, 0.4618, 0.4926, 0.611, 0.611]\n"
     ]
    },
    {
     "name": "stderr",
     "output_type": "stream",
     "text": [
      " 25%|██▌       | 5/20 [00:08<00:24,  1.62s/it]"
     ]
    },
    {
     "name": "stdout",
     "output_type": "stream",
     "text": [
      "la_023.nii.gz Dice list by number of clicks (left atrium): [0.7296, 0.6247, 0.6412, 0.6813, 0.7089]\n"
     ]
    },
    {
     "name": "stderr",
     "output_type": "stream",
     "text": [
      " 30%|███       | 6/20 [00:09<00:22,  1.61s/it]"
     ]
    },
    {
     "name": "stdout",
     "output_type": "stream",
     "text": [
      "la_017.nii.gz Dice list by number of clicks (left atrium): [0.6387, 0.5344, 0.4395, 0.5897, 0.6286]\n"
     ]
    },
    {
     "name": "stderr",
     "output_type": "stream",
     "text": [
      " 35%|███▌      | 7/20 [00:11<00:20,  1.58s/it]"
     ]
    },
    {
     "name": "stdout",
     "output_type": "stream",
     "text": [
      "la_016.nii.gz Dice list by number of clicks (left atrium): [0.6959, 0.7167, 0.734, 0.7277, 0.7308]\n"
     ]
    },
    {
     "name": "stderr",
     "output_type": "stream",
     "text": [
      " 40%|████      | 8/20 [00:12<00:17,  1.48s/it]"
     ]
    },
    {
     "name": "stdout",
     "output_type": "stream",
     "text": [
      "la_029.nii.gz Dice list by number of clicks (left atrium): [0.6899, 0.5844, 0.5934, 0.6083, 0.57]\n"
     ]
    },
    {
     "name": "stderr",
     "output_type": "stream",
     "text": [
      " 45%|████▌     | 9/20 [00:13<00:16,  1.46s/it]"
     ]
    },
    {
     "name": "stdout",
     "output_type": "stream",
     "text": [
      "la_024.nii.gz Dice list by number of clicks (left atrium): [0.4314, 0.4697, 0.4896, 0.5936, 0.5988]\n"
     ]
    },
    {
     "name": "stderr",
     "output_type": "stream",
     "text": [
      " 50%|█████     | 10/20 [00:15<00:15,  1.52s/it]"
     ]
    },
    {
     "name": "stdout",
     "output_type": "stream",
     "text": [
      "la_020.nii.gz Dice list by number of clicks (left atrium): [0.6179, 0.6987, 0.7137, 0.7101, 0.7067]\n"
     ]
    },
    {
     "name": "stderr",
     "output_type": "stream",
     "text": [
      " 55%|█████▌    | 11/20 [00:17<00:13,  1.52s/it]"
     ]
    },
    {
     "name": "stdout",
     "output_type": "stream",
     "text": [
      "la_003.nii.gz Dice list by number of clicks (left atrium): [0.5586, 0.607, 0.6498, 0.624, 0.7181]\n"
     ]
    },
    {
     "name": "stderr",
     "output_type": "stream",
     "text": [
      " 60%|██████    | 12/20 [00:18<00:12,  1.56s/it]"
     ]
    },
    {
     "name": "stdout",
     "output_type": "stream",
     "text": [
      "la_011.nii.gz Dice list by number of clicks (left atrium): [0.6787, 0.6908, 0.6924, 0.6864, 0.6762]\n"
     ]
    },
    {
     "name": "stderr",
     "output_type": "stream",
     "text": [
      " 65%|██████▌   | 13/20 [00:20<00:11,  1.57s/it]"
     ]
    },
    {
     "name": "stdout",
     "output_type": "stream",
     "text": [
      "la_005.nii.gz Dice list by number of clicks (left atrium): [0.6089, 0.5925, 0.6247, 0.6364, 0.6518]\n"
     ]
    },
    {
     "name": "stderr",
     "output_type": "stream",
     "text": [
      " 70%|███████   | 14/20 [00:22<00:09,  1.61s/it]"
     ]
    },
    {
     "name": "stdout",
     "output_type": "stream",
     "text": [
      "la_018.nii.gz Dice list by number of clicks (left atrium): [0.6854, 0.6675, 0.6511, 0.6269, 0.643]\n"
     ]
    },
    {
     "name": "stderr",
     "output_type": "stream",
     "text": [
      " 80%|████████  | 16/20 [00:25<00:06,  1.59s/it]"
     ]
    },
    {
     "name": "stdout",
     "output_type": "stream",
     "text": [
      "la_021.nii.gz Dice list by number of clicks (left atrium): [0.6507, 0.5582, 0.6178, 0.6432, 0.6459]\n",
      "la_019.nii.gz Dice list by number of clicks (left atrium): [0.6694, 0.6681, 0.638, 0.6504, 0.6729]\n"
     ]
    },
    {
     "name": "stderr",
     "output_type": "stream",
     "text": [
      " 85%|████████▌ | 17/20 [00:26<00:04,  1.53s/it]"
     ]
    },
    {
     "name": "stdout",
     "output_type": "stream",
     "text": [
      "la_004.nii.gz Dice list by number of clicks (left atrium): [0.5955, 0.66, 0.6584, 0.6695, 0.7188]\n"
     ]
    },
    {
     "name": "stderr",
     "output_type": "stream",
     "text": [
      " 90%|█████████ | 18/20 [00:28<00:03,  1.56s/it]"
     ]
    },
    {
     "name": "stdout",
     "output_type": "stream",
     "text": [
      "la_009.nii.gz Dice list by number of clicks (left atrium): [0.3479, 0.3395, 0.4744, 0.4895, 0.5209]\n"
     ]
    },
    {
     "name": "stderr",
     "output_type": "stream",
     "text": [
      " 95%|█████████▌| 19/20 [00:29<00:01,  1.56s/it]"
     ]
    },
    {
     "name": "stdout",
     "output_type": "stream",
     "text": [
      "la_026.nii.gz Dice list by number of clicks (left atrium): [0.5956, 0.5968, 0.5822, 0.6396, 0.6572]\n",
      "Save results to /home/t722s/Desktop/Sam-Med3DTest/NetworkHeartModified/eval_res_from_inference.json\n",
      "Done\n"
     ]
    },
    {
     "name": "stderr",
     "output_type": "stream",
     "text": [
      "100%|██████████| 20/20 [00:31<00:00,  1.57s/it]\n"
     ]
    },
    {
     "name": "stdout",
     "output_type": "stream",
     "text": [
      "set seed as 2020\n",
      "device: cuda\n"
     ]
    },
    {
     "name": "stderr",
     "output_type": "stream",
     "text": [
      "  0%|          | 0/20 [00:00<?, ?it/s]"
     ]
    },
    {
     "name": "stdout",
     "output_type": "stream",
     "text": [
      "la_014.nii.gz Dice list by number of clicks (left atrium): [0.6645, 0.6522, 0.6723, 0.6848, 0.6999]\n"
     ]
    },
    {
     "name": "stderr",
     "output_type": "stream",
     "text": [
      "  5%|▌         | 1/20 [00:01<00:32,  1.71s/it]"
     ]
    },
    {
     "name": "stdout",
     "output_type": "stream",
     "text": [
      "la_022.nii.gz Dice list by number of clicks (left atrium): [0.5841, 0.6529, 0.6824, 0.6568, 0.6677]\n"
     ]
    },
    {
     "name": "stderr",
     "output_type": "stream",
     "text": [
      " 10%|█         | 2/20 [00:03<00:28,  1.60s/it]"
     ]
    },
    {
     "name": "stdout",
     "output_type": "stream",
     "text": [
      "la_030.nii.gz Dice list by number of clicks (left atrium): [0.6959, 0.6559, 0.6495, 0.6129, 0.6989]\n"
     ]
    },
    {
     "name": "stderr",
     "output_type": "stream",
     "text": [
      " 15%|█▌        | 3/20 [00:04<00:27,  1.60s/it]"
     ]
    },
    {
     "name": "stdout",
     "output_type": "stream",
     "text": [
      "la_010.nii.gz Dice list by number of clicks (left atrium): [0.7017, 0.6835, 0.7141, 0.6854, 0.7096]\n"
     ]
    },
    {
     "name": "stderr",
     "output_type": "stream",
     "text": [
      " 20%|██        | 4/20 [00:06<00:25,  1.61s/it]"
     ]
    },
    {
     "name": "stdout",
     "output_type": "stream",
     "text": [
      "la_007.nii.gz Dice list by number of clicks (left atrium): [0.6547, 0.6501, 0.657, 0.6721, 0.6714]\n"
     ]
    },
    {
     "name": "stderr",
     "output_type": "stream",
     "text": [
      " 25%|██▌       | 5/20 [00:08<00:24,  1.65s/it]"
     ]
    },
    {
     "name": "stdout",
     "output_type": "stream",
     "text": [
      "la_023.nii.gz Dice list by number of clicks (left atrium): [0.7488, 0.7708, 0.6709, 0.6959, 0.7109]\n"
     ]
    },
    {
     "name": "stderr",
     "output_type": "stream",
     "text": [
      " 30%|███       | 6/20 [00:09<00:22,  1.59s/it]"
     ]
    },
    {
     "name": "stdout",
     "output_type": "stream",
     "text": [
      "la_017.nii.gz Dice list by number of clicks (left atrium): [0.481, 0.4279, 0.5788, 0.5662, 0.6129]\n"
     ]
    },
    {
     "name": "stderr",
     "output_type": "stream",
     "text": [
      " 35%|███▌      | 7/20 [00:11<00:20,  1.61s/it]"
     ]
    },
    {
     "name": "stdout",
     "output_type": "stream",
     "text": [
      "la_016.nii.gz Dice list by number of clicks (left atrium): [0.561, 0.5967, 0.6216, 0.5831, 0.5916]\n"
     ]
    },
    {
     "name": "stderr",
     "output_type": "stream",
     "text": [
      " 40%|████      | 8/20 [00:12<00:17,  1.49s/it]"
     ]
    },
    {
     "name": "stdout",
     "output_type": "stream",
     "text": [
      "la_029.nii.gz Dice list by number of clicks (left atrium): [0.5899, 0.5677, 0.5615, 0.6238, 0.6076]\n"
     ]
    },
    {
     "name": "stderr",
     "output_type": "stream",
     "text": [
      " 45%|████▌     | 9/20 [00:14<00:16,  1.51s/it]"
     ]
    },
    {
     "name": "stdout",
     "output_type": "stream",
     "text": [
      "la_024.nii.gz Dice list by number of clicks (left atrium): [0.5638, 0.668, 0.6573, 0.6686, 0.6709]\n"
     ]
    },
    {
     "name": "stderr",
     "output_type": "stream",
     "text": [
      " 50%|█████     | 10/20 [00:15<00:15,  1.53s/it]"
     ]
    },
    {
     "name": "stdout",
     "output_type": "stream",
     "text": [
      "la_020.nii.gz Dice list by number of clicks (left atrium): [0.6737, 0.6827, 0.6966, 0.7114, 0.7103]\n"
     ]
    },
    {
     "name": "stderr",
     "output_type": "stream",
     "text": [
      " 55%|█████▌    | 11/20 [00:17<00:13,  1.54s/it]"
     ]
    },
    {
     "name": "stdout",
     "output_type": "stream",
     "text": [
      "la_003.nii.gz Dice list by number of clicks (left atrium): [0.6356, 0.5718, 0.5978, 0.5926, 0.5961]\n"
     ]
    },
    {
     "name": "stderr",
     "output_type": "stream",
     "text": [
      " 60%|██████    | 12/20 [00:18<00:12,  1.58s/it]"
     ]
    },
    {
     "name": "stdout",
     "output_type": "stream",
     "text": [
      "la_011.nii.gz Dice list by number of clicks (left atrium): [0.5943, 0.5906, 0.5529, 0.5642, 0.5617]\n"
     ]
    },
    {
     "name": "stderr",
     "output_type": "stream",
     "text": [
      " 65%|██████▌   | 13/20 [00:20<00:11,  1.59s/it]"
     ]
    },
    {
     "name": "stdout",
     "output_type": "stream",
     "text": [
      "la_005.nii.gz Dice list by number of clicks (left atrium): [0.6385, 0.62, 0.6265, 0.6424, 0.6611]\n"
     ]
    },
    {
     "name": "stderr",
     "output_type": "stream",
     "text": [
      " 70%|███████   | 14/20 [00:22<00:09,  1.60s/it]"
     ]
    },
    {
     "name": "stdout",
     "output_type": "stream",
     "text": [
      "la_018.nii.gz Dice list by number of clicks (left atrium): [0.4757, 0.5121, 0.5342, 0.5519, 0.5985]\n"
     ]
    },
    {
     "name": "stderr",
     "output_type": "stream",
     "text": [
      " 75%|███████▌  | 15/20 [00:23<00:07,  1.60s/it]"
     ]
    },
    {
     "name": "stdout",
     "output_type": "stream",
     "text": [
      "la_021.nii.gz Dice list by number of clicks (left atrium): [0.5184, 0.5672, 0.6486, 0.6928, 0.7159]\n"
     ]
    },
    {
     "name": "stderr",
     "output_type": "stream",
     "text": [
      " 80%|████████  | 16/20 [00:25<00:06,  1.57s/it]"
     ]
    },
    {
     "name": "stdout",
     "output_type": "stream",
     "text": [
      "la_019.nii.gz Dice list by number of clicks (left atrium): [0.5659, 0.6625, 0.6567, 0.6414, 0.6562]\n"
     ]
    },
    {
     "name": "stderr",
     "output_type": "stream",
     "text": [
      " 85%|████████▌ | 17/20 [00:26<00:04,  1.55s/it]"
     ]
    },
    {
     "name": "stdout",
     "output_type": "stream",
     "text": [
      "la_004.nii.gz Dice list by number of clicks (left atrium): [0.4897, 0.5009, 0.5846, 0.6364, 0.6377]\n"
     ]
    },
    {
     "name": "stderr",
     "output_type": "stream",
     "text": [
      " 90%|█████████ | 18/20 [00:28<00:03,  1.56s/it]"
     ]
    },
    {
     "name": "stdout",
     "output_type": "stream",
     "text": [
      "la_009.nii.gz Dice list by number of clicks (left atrium): [0.4287, 0.3406, 0.3717, 0.4923, 0.4848]\n"
     ]
    },
    {
     "name": "stderr",
     "output_type": "stream",
     "text": [
      " 95%|█████████▌| 19/20 [00:29<00:01,  1.54s/it]"
     ]
    },
    {
     "name": "stdout",
     "output_type": "stream",
     "text": [
      "la_026.nii.gz Dice list by number of clicks (left atrium): [0.5567, 0.4911, 0.5251, 0.5273, 0.5621]\n",
      "Save results to /home/t722s/Desktop/Sam-Med3DTest/NetworkHeartModified/eval_res_from_inference.json\n",
      "Done\n"
     ]
    },
    {
     "name": "stderr",
     "output_type": "stream",
     "text": [
      "100%|██████████| 20/20 [00:31<00:00,  1.57s/it]\n"
     ]
    },
    {
     "name": "stdout",
     "output_type": "stream",
     "text": [
      "set seed as 2020\n",
      "device: cuda\n"
     ]
    },
    {
     "name": "stderr",
     "output_type": "stream",
     "text": [
      "  0%|          | 0/20 [00:00<?, ?it/s]"
     ]
    },
    {
     "name": "stdout",
     "output_type": "stream",
     "text": [
      "la_014.nii.gz Dice list by number of clicks (left atrium): [0.673, 0.6453, 0.7062, 0.7306, 0.7045]\n"
     ]
    },
    {
     "name": "stderr",
     "output_type": "stream",
     "text": [
      "  5%|▌         | 1/20 [00:01<00:35,  1.84s/it]"
     ]
    },
    {
     "name": "stdout",
     "output_type": "stream",
     "text": [
      "la_022.nii.gz Dice list by number of clicks (left atrium): [0.7006, 0.7145, 0.7399, 0.7285, 0.7806]\n"
     ]
    },
    {
     "name": "stderr",
     "output_type": "stream",
     "text": [
      " 10%|█         | 2/20 [00:03<00:30,  1.69s/it]"
     ]
    },
    {
     "name": "stdout",
     "output_type": "stream",
     "text": [
      "la_030.nii.gz Dice list by number of clicks (left atrium): [0.6707, 0.6946, 0.7662, 0.7702, 0.7846]\n"
     ]
    },
    {
     "name": "stderr",
     "output_type": "stream",
     "text": [
      " 15%|█▌        | 3/20 [00:05<00:27,  1.64s/it]"
     ]
    },
    {
     "name": "stdout",
     "output_type": "stream",
     "text": [
      "la_010.nii.gz Dice list by number of clicks (left atrium): [0.7257, 0.7038, 0.7024, 0.7139, 0.7008]\n"
     ]
    },
    {
     "name": "stderr",
     "output_type": "stream",
     "text": [
      " 20%|██        | 4/20 [00:06<00:25,  1.62s/it]"
     ]
    },
    {
     "name": "stdout",
     "output_type": "stream",
     "text": [
      "la_007.nii.gz Dice list by number of clicks (left atrium): [0.5066, 0.5343, 0.587, 0.6881, 0.6927]\n"
     ]
    },
    {
     "name": "stderr",
     "output_type": "stream",
     "text": [
      " 25%|██▌       | 5/20 [00:08<00:24,  1.62s/it]"
     ]
    },
    {
     "name": "stdout",
     "output_type": "stream",
     "text": [
      "la_023.nii.gz Dice list by number of clicks (left atrium): [0.6377, 0.666, 0.6299, 0.6519, 0.6178]\n"
     ]
    },
    {
     "name": "stderr",
     "output_type": "stream",
     "text": [
      " 30%|███       | 6/20 [00:09<00:22,  1.59s/it]"
     ]
    },
    {
     "name": "stdout",
     "output_type": "stream",
     "text": [
      "la_017.nii.gz Dice list by number of clicks (left atrium): [0.4584, 0.5745, 0.5646, 0.6611, 0.6625]\n"
     ]
    },
    {
     "name": "stderr",
     "output_type": "stream",
     "text": [
      " 35%|███▌      | 7/20 [00:11<00:21,  1.62s/it]"
     ]
    },
    {
     "name": "stdout",
     "output_type": "stream",
     "text": [
      "la_016.nii.gz Dice list by number of clicks (left atrium): [0.5647, 0.5907, 0.5916, 0.7264, 0.7372]\n"
     ]
    },
    {
     "name": "stderr",
     "output_type": "stream",
     "text": [
      " 40%|████      | 8/20 [00:12<00:18,  1.51s/it]"
     ]
    },
    {
     "name": "stdout",
     "output_type": "stream",
     "text": [
      "la_029.nii.gz Dice list by number of clicks (left atrium): [0.5185, 0.603, 0.5886, 0.5852, 0.5887]\n"
     ]
    },
    {
     "name": "stderr",
     "output_type": "stream",
     "text": [
      " 45%|████▌     | 9/20 [00:14<00:16,  1.49s/it]"
     ]
    },
    {
     "name": "stdout",
     "output_type": "stream",
     "text": [
      "la_024.nii.gz Dice list by number of clicks (left atrium): [0.6553, 0.6594, 0.6861, 0.6967, 0.7]\n"
     ]
    },
    {
     "name": "stderr",
     "output_type": "stream",
     "text": [
      " 50%|█████     | 10/20 [00:15<00:15,  1.54s/it]"
     ]
    },
    {
     "name": "stdout",
     "output_type": "stream",
     "text": [
      "la_020.nii.gz Dice list by number of clicks (left atrium): [0.6982, 0.6576, 0.6366, 0.5832, 0.5589]\n"
     ]
    },
    {
     "name": "stderr",
     "output_type": "stream",
     "text": [
      " 55%|█████▌    | 11/20 [00:17<00:13,  1.54s/it]"
     ]
    },
    {
     "name": "stdout",
     "output_type": "stream",
     "text": [
      "la_003.nii.gz Dice list by number of clicks (left atrium): [0.6485, 0.6515, 0.621, 0.6627, 0.6714]\n"
     ]
    },
    {
     "name": "stderr",
     "output_type": "stream",
     "text": [
      " 60%|██████    | 12/20 [00:19<00:12,  1.58s/it]"
     ]
    },
    {
     "name": "stdout",
     "output_type": "stream",
     "text": [
      "la_011.nii.gz Dice list by number of clicks (left atrium): [0.5602, 0.605, 0.6621, 0.6658, 0.6678]\n"
     ]
    },
    {
     "name": "stderr",
     "output_type": "stream",
     "text": [
      " 65%|██████▌   | 13/20 [00:20<00:11,  1.58s/it]"
     ]
    },
    {
     "name": "stdout",
     "output_type": "stream",
     "text": [
      "la_005.nii.gz Dice list by number of clicks (left atrium): [0.5706, 0.6509, 0.5924, 0.6505, 0.661]\n"
     ]
    },
    {
     "name": "stderr",
     "output_type": "stream",
     "text": [
      " 70%|███████   | 14/20 [00:22<00:09,  1.59s/it]"
     ]
    },
    {
     "name": "stdout",
     "output_type": "stream",
     "text": [
      "la_018.nii.gz Dice list by number of clicks (left atrium): [0.533, 0.5992, 0.6455, 0.6758, 0.6802]\n"
     ]
    },
    {
     "name": "stderr",
     "output_type": "stream",
     "text": [
      " 75%|███████▌  | 15/20 [00:23<00:07,  1.59s/it]"
     ]
    },
    {
     "name": "stdout",
     "output_type": "stream",
     "text": [
      "la_021.nii.gz Dice list by number of clicks (left atrium): [0.6775, 0.6608, 0.7211, 0.7396, 0.6992]\n"
     ]
    },
    {
     "name": "stderr",
     "output_type": "stream",
     "text": [
      " 80%|████████  | 16/20 [00:25<00:06,  1.57s/it]"
     ]
    },
    {
     "name": "stdout",
     "output_type": "stream",
     "text": [
      "la_019.nii.gz Dice list by number of clicks (left atrium): [0.4504, 0.6263, 0.526, 0.5123, 0.6447]\n"
     ]
    },
    {
     "name": "stderr",
     "output_type": "stream",
     "text": [
      " 85%|████████▌ | 17/20 [00:26<00:04,  1.54s/it]"
     ]
    },
    {
     "name": "stdout",
     "output_type": "stream",
     "text": [
      "la_004.nii.gz Dice list by number of clicks (left atrium): [0.7331, 0.6474, 0.6225, 0.5849, 0.5929]\n"
     ]
    },
    {
     "name": "stderr",
     "output_type": "stream",
     "text": [
      " 90%|█████████ | 18/20 [00:28<00:03,  1.54s/it]"
     ]
    },
    {
     "name": "stdout",
     "output_type": "stream",
     "text": [
      "la_009.nii.gz Dice list by number of clicks (left atrium): [0.5822, 0.5212, 0.4956, 0.5479, 0.6111]\n"
     ]
    },
    {
     "name": "stderr",
     "output_type": "stream",
     "text": [
      " 95%|█████████▌| 19/20 [00:29<00:01,  1.52s/it]"
     ]
    },
    {
     "name": "stdout",
     "output_type": "stream",
     "text": [
      "la_026.nii.gz Dice list by number of clicks (left atrium): [0.3231, 0.2747, 0.2681, 0.2986, 0.4734]\n",
      "Save results to /home/t722s/Desktop/Sam-Med3DTest/NetworkHeartModified/eval_res_from_inference.json\n",
      "Done\n"
     ]
    },
    {
     "name": "stderr",
     "output_type": "stream",
     "text": [
      "100%|██████████| 20/20 [00:31<00:00,  1.57s/it]\n"
     ]
    },
    {
     "name": "stdout",
     "output_type": "stream",
     "text": [
      "set seed as 2020\n",
      "device: cuda\n"
     ]
    },
    {
     "name": "stderr",
     "output_type": "stream",
     "text": [
      "  0%|          | 0/20 [00:00<?, ?it/s]"
     ]
    },
    {
     "name": "stdout",
     "output_type": "stream",
     "text": [
      "la_014.nii.gz Dice list by number of clicks (left atrium): [0.6, 0.3722, 0.3225, 0.6158, 0.6674]\n"
     ]
    },
    {
     "name": "stderr",
     "output_type": "stream",
     "text": [
      "  5%|▌         | 1/20 [00:01<00:34,  1.80s/it]"
     ]
    },
    {
     "name": "stdout",
     "output_type": "stream",
     "text": [
      "la_022.nii.gz Dice list by number of clicks (left atrium): [0.6892, 0.7191, 0.7174, 0.6956, 0.6918]\n"
     ]
    },
    {
     "name": "stderr",
     "output_type": "stream",
     "text": [
      " 10%|█         | 2/20 [00:03<00:30,  1.67s/it]"
     ]
    },
    {
     "name": "stdout",
     "output_type": "stream",
     "text": [
      "la_030.nii.gz Dice list by number of clicks (left atrium): [0.6876, 0.6649, 0.7105, 0.6814, 0.6746]\n"
     ]
    },
    {
     "name": "stderr",
     "output_type": "stream",
     "text": [
      " 15%|█▌        | 3/20 [00:04<00:27,  1.64s/it]"
     ]
    },
    {
     "name": "stdout",
     "output_type": "stream",
     "text": [
      "la_010.nii.gz Dice list by number of clicks (left atrium): [0.6402, 0.6389, 0.5907, 0.6345, 0.6622]\n"
     ]
    },
    {
     "name": "stderr",
     "output_type": "stream",
     "text": [
      " 20%|██        | 4/20 [00:06<00:26,  1.63s/it]"
     ]
    },
    {
     "name": "stdout",
     "output_type": "stream",
     "text": [
      "la_007.nii.gz Dice list by number of clicks (left atrium): [0.3632, 0.3426, 0.6401, 0.6505, 0.6691]\n"
     ]
    },
    {
     "name": "stderr",
     "output_type": "stream",
     "text": [
      " 25%|██▌       | 5/20 [00:08<00:24,  1.64s/it]"
     ]
    },
    {
     "name": "stdout",
     "output_type": "stream",
     "text": [
      "la_023.nii.gz Dice list by number of clicks (left atrium): [0.6331, 0.7067, 0.6735, 0.7057, 0.7014]\n"
     ]
    },
    {
     "name": "stderr",
     "output_type": "stream",
     "text": [
      " 30%|███       | 6/20 [00:09<00:22,  1.63s/it]"
     ]
    },
    {
     "name": "stdout",
     "output_type": "stream",
     "text": [
      "la_017.nii.gz Dice list by number of clicks (left atrium): [0.6293, 0.6195, 0.588, 0.5885, 0.5943]\n"
     ]
    },
    {
     "name": "stderr",
     "output_type": "stream",
     "text": [
      " 35%|███▌      | 7/20 [00:11<00:21,  1.63s/it]"
     ]
    },
    {
     "name": "stdout",
     "output_type": "stream",
     "text": [
      "la_016.nii.gz Dice list by number of clicks (left atrium): [0.739, 0.728, 0.7097, 0.7423, 0.7343]\n"
     ]
    },
    {
     "name": "stderr",
     "output_type": "stream",
     "text": [
      " 40%|████      | 8/20 [00:12<00:18,  1.50s/it]"
     ]
    },
    {
     "name": "stdout",
     "output_type": "stream",
     "text": [
      "la_029.nii.gz Dice list by number of clicks (left atrium): [0.6144, 0.5188, 0.5267, 0.5736, 0.5469]\n"
     ]
    },
    {
     "name": "stderr",
     "output_type": "stream",
     "text": [
      " 45%|████▌     | 9/20 [00:14<00:16,  1.53s/it]"
     ]
    },
    {
     "name": "stdout",
     "output_type": "stream",
     "text": [
      "la_024.nii.gz Dice list by number of clicks (left atrium): [0.6157, 0.7067, 0.7002, 0.67, 0.673]\n"
     ]
    },
    {
     "name": "stderr",
     "output_type": "stream",
     "text": [
      " 50%|█████     | 10/20 [00:15<00:15,  1.56s/it]"
     ]
    },
    {
     "name": "stdout",
     "output_type": "stream",
     "text": [
      "la_020.nii.gz Dice list by number of clicks (left atrium): [0.4923, 0.5738, 0.5593, 0.5284, 0.4673]\n"
     ]
    },
    {
     "name": "stderr",
     "output_type": "stream",
     "text": [
      " 55%|█████▌    | 11/20 [00:17<00:13,  1.54s/it]"
     ]
    },
    {
     "name": "stdout",
     "output_type": "stream",
     "text": [
      "la_003.nii.gz Dice list by number of clicks (left atrium): [0.5508, 0.6247, 0.5942, 0.5561, 0.5302]\n"
     ]
    },
    {
     "name": "stderr",
     "output_type": "stream",
     "text": [
      " 60%|██████    | 12/20 [00:19<00:12,  1.57s/it]"
     ]
    },
    {
     "name": "stdout",
     "output_type": "stream",
     "text": [
      "la_011.nii.gz Dice list by number of clicks (left atrium): [0.6651, 0.6792, 0.6557, 0.6547, 0.6482]\n"
     ]
    },
    {
     "name": "stderr",
     "output_type": "stream",
     "text": [
      " 65%|██████▌   | 13/20 [00:20<00:11,  1.58s/it]"
     ]
    },
    {
     "name": "stdout",
     "output_type": "stream",
     "text": [
      "la_005.nii.gz Dice list by number of clicks (left atrium): [0.4711, 0.5424, 0.5104, 0.5543, 0.5647]\n"
     ]
    },
    {
     "name": "stderr",
     "output_type": "stream",
     "text": [
      " 70%|███████   | 14/20 [00:22<00:09,  1.59s/it]"
     ]
    },
    {
     "name": "stdout",
     "output_type": "stream",
     "text": [
      "la_018.nii.gz Dice list by number of clicks (left atrium): [0.5541, 0.674, 0.6752, 0.6704, 0.6661]\n"
     ]
    },
    {
     "name": "stderr",
     "output_type": "stream",
     "text": [
      " 75%|███████▌  | 15/20 [00:23<00:07,  1.60s/it]"
     ]
    },
    {
     "name": "stdout",
     "output_type": "stream",
     "text": [
      "la_021.nii.gz Dice list by number of clicks (left atrium): [0.4673, 0.5722, 0.6025, 0.6753, 0.6655]\n"
     ]
    },
    {
     "name": "stderr",
     "output_type": "stream",
     "text": [
      " 80%|████████  | 16/20 [00:25<00:06,  1.59s/it]"
     ]
    },
    {
     "name": "stdout",
     "output_type": "stream",
     "text": [
      "la_019.nii.gz Dice list by number of clicks (left atrium): [0.5072, 0.4225, 0.5766, 0.5846, 0.6529]\n"
     ]
    },
    {
     "name": "stderr",
     "output_type": "stream",
     "text": [
      " 85%|████████▌ | 17/20 [00:26<00:04,  1.55s/it]"
     ]
    },
    {
     "name": "stdout",
     "output_type": "stream",
     "text": [
      "la_004.nii.gz Dice list by number of clicks (left atrium): [0.6251, 0.5774, 0.4892, 0.5063, 0.6047]\n"
     ]
    },
    {
     "name": "stderr",
     "output_type": "stream",
     "text": [
      " 90%|█████████ | 18/20 [00:28<00:03,  1.57s/it]"
     ]
    },
    {
     "name": "stdout",
     "output_type": "stream",
     "text": [
      "la_009.nii.gz Dice list by number of clicks (left atrium): [0.4992, 0.4657, 0.52, 0.6364, 0.6257]\n"
     ]
    },
    {
     "name": "stderr",
     "output_type": "stream",
     "text": [
      " 95%|█████████▌| 19/20 [00:30<00:01,  1.56s/it]"
     ]
    },
    {
     "name": "stdout",
     "output_type": "stream",
     "text": [
      "la_026.nii.gz Dice list by number of clicks (left atrium): [0.5279, 0.5338, 0.5607, 0.5509, 0.548]\n",
      "Save results to /home/t722s/Desktop/Sam-Med3DTest/NetworkHeartModified/eval_res_from_inference.json\n",
      "Done\n"
     ]
    },
    {
     "name": "stderr",
     "output_type": "stream",
     "text": [
      "100%|██████████| 20/20 [00:31<00:00,  1.58s/it]\n"
     ]
    },
    {
     "name": "stdout",
     "output_type": "stream",
     "text": [
      "set seed as 2020\n",
      "device: cuda\n"
     ]
    },
    {
     "name": "stderr",
     "output_type": "stream",
     "text": [
      "  0%|          | 0/20 [00:00<?, ?it/s]"
     ]
    },
    {
     "name": "stdout",
     "output_type": "stream",
     "text": [
      "la_014.nii.gz Dice list by number of clicks (left atrium): [0.6758, 0.6361, 0.6737, 0.6897, 0.6831]\n"
     ]
    },
    {
     "name": "stderr",
     "output_type": "stream",
     "text": [
      "  5%|▌         | 1/20 [00:01<00:34,  1.84s/it]"
     ]
    },
    {
     "name": "stdout",
     "output_type": "stream",
     "text": [
      "la_022.nii.gz Dice list by number of clicks (left atrium): [0.6475, 0.6166, 0.5789, 0.6013, 0.7321]\n"
     ]
    },
    {
     "name": "stderr",
     "output_type": "stream",
     "text": [
      " 10%|█         | 2/20 [00:03<00:30,  1.69s/it]"
     ]
    },
    {
     "name": "stdout",
     "output_type": "stream",
     "text": [
      "la_030.nii.gz Dice list by number of clicks (left atrium): [0.7385, 0.6294, 0.6392, 0.6559, 0.6799]\n"
     ]
    },
    {
     "name": "stderr",
     "output_type": "stream",
     "text": [
      " 15%|█▌        | 3/20 [00:04<00:27,  1.60s/it]"
     ]
    },
    {
     "name": "stdout",
     "output_type": "stream",
     "text": [
      "la_010.nii.gz Dice list by number of clicks (left atrium): [0.52, 0.5854, 0.5309, 0.5712, 0.582]\n"
     ]
    },
    {
     "name": "stderr",
     "output_type": "stream",
     "text": [
      " 20%|██        | 4/20 [00:06<00:25,  1.58s/it]"
     ]
    },
    {
     "name": "stdout",
     "output_type": "stream",
     "text": [
      "la_007.nii.gz Dice list by number of clicks (left atrium): [0.6323, 0.6529, 0.6248, 0.6654, 0.6742]\n"
     ]
    },
    {
     "name": "stderr",
     "output_type": "stream",
     "text": [
      " 25%|██▌       | 5/20 [00:08<00:24,  1.63s/it]"
     ]
    },
    {
     "name": "stdout",
     "output_type": "stream",
     "text": [
      "la_023.nii.gz Dice list by number of clicks (left atrium): [0.7559, 0.7636, 0.7367, 0.7268, 0.7549]\n"
     ]
    },
    {
     "name": "stderr",
     "output_type": "stream",
     "text": [
      " 30%|███       | 6/20 [00:09<00:22,  1.59s/it]"
     ]
    },
    {
     "name": "stdout",
     "output_type": "stream",
     "text": [
      "la_017.nii.gz Dice list by number of clicks (left atrium): [0.5712, 0.5858, 0.6302, 0.6502, 0.6889]\n"
     ]
    },
    {
     "name": "stderr",
     "output_type": "stream",
     "text": [
      " 35%|███▌      | 7/20 [00:11<00:20,  1.61s/it]"
     ]
    },
    {
     "name": "stdout",
     "output_type": "stream",
     "text": [
      "la_016.nii.gz Dice list by number of clicks (left atrium): [0.6848, 0.65, 0.6259, 0.618, 0.5861]\n"
     ]
    },
    {
     "name": "stderr",
     "output_type": "stream",
     "text": [
      " 40%|████      | 8/20 [00:12<00:17,  1.48s/it]"
     ]
    },
    {
     "name": "stdout",
     "output_type": "stream",
     "text": [
      "la_029.nii.gz Dice list by number of clicks (left atrium): [0.5725, 0.5631, 0.6127, 0.6112, 0.6023]\n"
     ]
    },
    {
     "name": "stderr",
     "output_type": "stream",
     "text": [
      " 45%|████▌     | 9/20 [00:14<00:16,  1.48s/it]"
     ]
    },
    {
     "name": "stdout",
     "output_type": "stream",
     "text": [
      "la_024.nii.gz Dice list by number of clicks (left atrium): [0.5881, 0.5842, 0.6687, 0.6798, 0.6999]\n"
     ]
    },
    {
     "name": "stderr",
     "output_type": "stream",
     "text": [
      " 50%|█████     | 10/20 [00:15<00:14,  1.48s/it]"
     ]
    },
    {
     "name": "stdout",
     "output_type": "stream",
     "text": [
      "la_020.nii.gz Dice list by number of clicks (left atrium): [0.72, 0.7003, 0.6868, 0.6785, 0.6711]\n"
     ]
    },
    {
     "name": "stderr",
     "output_type": "stream",
     "text": [
      " 55%|█████▌    | 11/20 [00:17<00:13,  1.50s/it]"
     ]
    },
    {
     "name": "stdout",
     "output_type": "stream",
     "text": [
      "la_003.nii.gz Dice list by number of clicks (left atrium): [0.6981, 0.6766, 0.5888, 0.6022, 0.6627]\n"
     ]
    },
    {
     "name": "stderr",
     "output_type": "stream",
     "text": [
      " 60%|██████    | 12/20 [00:18<00:12,  1.57s/it]"
     ]
    },
    {
     "name": "stdout",
     "output_type": "stream",
     "text": [
      "la_011.nii.gz Dice list by number of clicks (left atrium): [0.6548, 0.6584, 0.7061, 0.6959, 0.7105]\n"
     ]
    },
    {
     "name": "stderr",
     "output_type": "stream",
     "text": [
      " 65%|██████▌   | 13/20 [00:20<00:10,  1.57s/it]"
     ]
    },
    {
     "name": "stdout",
     "output_type": "stream",
     "text": [
      "la_005.nii.gz Dice list by number of clicks (left atrium): [0.4899, 0.5805, 0.5938, 0.5988, 0.6289]\n"
     ]
    },
    {
     "name": "stderr",
     "output_type": "stream",
     "text": [
      " 70%|███████   | 14/20 [00:21<00:09,  1.59s/it]"
     ]
    },
    {
     "name": "stdout",
     "output_type": "stream",
     "text": [
      "la_018.nii.gz Dice list by number of clicks (left atrium): [0.6384, 0.6304, 0.6127, 0.6237, 0.6303]\n"
     ]
    },
    {
     "name": "stderr",
     "output_type": "stream",
     "text": [
      " 75%|███████▌  | 15/20 [00:23<00:07,  1.58s/it]"
     ]
    },
    {
     "name": "stdout",
     "output_type": "stream",
     "text": [
      "la_021.nii.gz Dice list by number of clicks (left atrium): [0.6114, 0.4591, 0.4421, 0.4385, 0.5289]\n"
     ]
    },
    {
     "name": "stderr",
     "output_type": "stream",
     "text": [
      " 80%|████████  | 16/20 [00:25<00:06,  1.56s/it]"
     ]
    },
    {
     "name": "stdout",
     "output_type": "stream",
     "text": [
      "la_019.nii.gz Dice list by number of clicks (left atrium): [0.4804, 0.4887, 0.541, 0.6103, 0.6256]\n"
     ]
    },
    {
     "name": "stderr",
     "output_type": "stream",
     "text": [
      " 85%|████████▌ | 17/20 [00:26<00:04,  1.53s/it]"
     ]
    },
    {
     "name": "stdout",
     "output_type": "stream",
     "text": [
      "la_004.nii.gz Dice list by number of clicks (left atrium): [0.4076, 0.115, 0.2547, 0.327, 0.307]\n"
     ]
    },
    {
     "name": "stderr",
     "output_type": "stream",
     "text": [
      " 90%|█████████ | 18/20 [00:28<00:03,  1.52s/it]"
     ]
    },
    {
     "name": "stdout",
     "output_type": "stream",
     "text": [
      "la_009.nii.gz Dice list by number of clicks (left atrium): [0.5411, 0.5201, 0.5954, 0.6005, 0.5857]\n"
     ]
    },
    {
     "name": "stderr",
     "output_type": "stream",
     "text": [
      " 95%|█████████▌| 19/20 [00:29<00:01,  1.52s/it]"
     ]
    },
    {
     "name": "stdout",
     "output_type": "stream",
     "text": [
      "la_026.nii.gz Dice list by number of clicks (left atrium): [0.5826, 0.6063, 0.6937, 0.7009, 0.7066]\n",
      "Save results to /home/t722s/Desktop/Sam-Med3DTest/NetworkHeartModified/eval_res_from_inference.json\n",
      "Done\n"
     ]
    },
    {
     "name": "stderr",
     "output_type": "stream",
     "text": [
      "100%|██████████| 20/20 [00:31<00:00,  1.56s/it]\n"
     ]
    },
    {
     "name": "stdout",
     "output_type": "stream",
     "text": [
      "set seed as 2020\n",
      "device: cuda\n"
     ]
    },
    {
     "name": "stderr",
     "output_type": "stream",
     "text": [
      "  0%|          | 0/20 [00:00<?, ?it/s]"
     ]
    },
    {
     "name": "stdout",
     "output_type": "stream",
     "text": [
      "la_014.nii.gz Dice list by number of clicks (left atrium): [0.6539, 0.6766, 0.6113, 0.7211, 0.683]\n"
     ]
    },
    {
     "name": "stderr",
     "output_type": "stream",
     "text": [
      "  5%|▌         | 1/20 [00:01<00:33,  1.78s/it]"
     ]
    },
    {
     "name": "stdout",
     "output_type": "stream",
     "text": [
      "la_022.nii.gz Dice list by number of clicks (left atrium): [0.7065, 0.7165, 0.7241, 0.7123, 0.7139]\n"
     ]
    },
    {
     "name": "stderr",
     "output_type": "stream",
     "text": [
      " 10%|█         | 2/20 [00:03<00:28,  1.58s/it]"
     ]
    },
    {
     "name": "stdout",
     "output_type": "stream",
     "text": [
      "la_030.nii.gz Dice list by number of clicks (left atrium): [0.7012, 0.6811, 0.738, 0.741, 0.7214]\n"
     ]
    },
    {
     "name": "stderr",
     "output_type": "stream",
     "text": [
      " 15%|█▌        | 3/20 [00:04<00:25,  1.51s/it]"
     ]
    },
    {
     "name": "stdout",
     "output_type": "stream",
     "text": [
      "la_010.nii.gz Dice list by number of clicks (left atrium): [0.645, 0.6282, 0.648, 0.6605, 0.6978]\n"
     ]
    },
    {
     "name": "stderr",
     "output_type": "stream",
     "text": [
      " 20%|██        | 4/20 [00:06<00:24,  1.54s/it]"
     ]
    },
    {
     "name": "stdout",
     "output_type": "stream",
     "text": [
      "la_007.nii.gz Dice list by number of clicks (left atrium): [0.626, 0.5789, 0.6204, 0.6043, 0.6274]\n"
     ]
    },
    {
     "name": "stderr",
     "output_type": "stream",
     "text": [
      " 25%|██▌       | 5/20 [00:07<00:23,  1.57s/it]"
     ]
    },
    {
     "name": "stdout",
     "output_type": "stream",
     "text": [
      "la_023.nii.gz Dice list by number of clicks (left atrium): [0.6588, 0.6681, 0.6388, 0.703, 0.7187]\n"
     ]
    },
    {
     "name": "stderr",
     "output_type": "stream",
     "text": [
      " 30%|███       | 6/20 [00:09<00:20,  1.50s/it]"
     ]
    },
    {
     "name": "stdout",
     "output_type": "stream",
     "text": [
      "la_017.nii.gz Dice list by number of clicks (left atrium): [0.6321, 0.6406, 0.6189, 0.6234, 0.592]\n"
     ]
    },
    {
     "name": "stderr",
     "output_type": "stream",
     "text": [
      " 35%|███▌      | 7/20 [00:10<00:19,  1.53s/it]"
     ]
    },
    {
     "name": "stdout",
     "output_type": "stream",
     "text": [
      "la_016.nii.gz Dice list by number of clicks (left atrium): [0.6365, 0.6515, 0.6305, 0.6836, 0.6766]\n"
     ]
    },
    {
     "name": "stderr",
     "output_type": "stream",
     "text": [
      " 40%|████      | 8/20 [00:12<00:17,  1.43s/it]"
     ]
    },
    {
     "name": "stdout",
     "output_type": "stream",
     "text": [
      "la_029.nii.gz Dice list by number of clicks (left atrium): [0.578, 0.5727, 0.5825, 0.5814, 0.5786]\n"
     ]
    },
    {
     "name": "stderr",
     "output_type": "stream",
     "text": [
      " 45%|████▌     | 9/20 [00:13<00:16,  1.46s/it]"
     ]
    },
    {
     "name": "stdout",
     "output_type": "stream",
     "text": [
      "la_024.nii.gz Dice list by number of clicks (left atrium): [0.4946, 0.4396, 0.5719, 0.5919, 0.59]\n"
     ]
    },
    {
     "name": "stderr",
     "output_type": "stream",
     "text": [
      " 50%|█████     | 10/20 [00:15<00:14,  1.49s/it]"
     ]
    },
    {
     "name": "stdout",
     "output_type": "stream",
     "text": [
      "la_020.nii.gz Dice list by number of clicks (left atrium): [0.6661, 0.6282, 0.6362, 0.6529, 0.6598]\n"
     ]
    },
    {
     "name": "stderr",
     "output_type": "stream",
     "text": [
      " 55%|█████▌    | 11/20 [00:16<00:13,  1.46s/it]"
     ]
    },
    {
     "name": "stdout",
     "output_type": "stream",
     "text": [
      "la_003.nii.gz Dice list by number of clicks (left atrium): [0.6187, 0.6446, 0.6511, 0.6379, 0.6899]\n"
     ]
    },
    {
     "name": "stderr",
     "output_type": "stream",
     "text": [
      " 60%|██████    | 12/20 [00:18<00:12,  1.52s/it]"
     ]
    },
    {
     "name": "stdout",
     "output_type": "stream",
     "text": [
      "la_011.nii.gz Dice list by number of clicks (left atrium): [0.5605, 0.6029, 0.5981, 0.6328, 0.6391]\n"
     ]
    },
    {
     "name": "stderr",
     "output_type": "stream",
     "text": [
      " 65%|██████▌   | 13/20 [00:19<00:10,  1.55s/it]"
     ]
    },
    {
     "name": "stdout",
     "output_type": "stream",
     "text": [
      "la_005.nii.gz Dice list by number of clicks (left atrium): [0.6302, 0.5974, 0.6297, 0.6094, 0.5877]\n"
     ]
    },
    {
     "name": "stderr",
     "output_type": "stream",
     "text": [
      " 70%|███████   | 14/20 [00:21<00:09,  1.58s/it]"
     ]
    },
    {
     "name": "stdout",
     "output_type": "stream",
     "text": [
      "la_018.nii.gz Dice list by number of clicks (left atrium): [0.5264, 0.4999, 0.5957, 0.6075, 0.6112]\n"
     ]
    },
    {
     "name": "stderr",
     "output_type": "stream",
     "text": [
      " 75%|███████▌  | 15/20 [00:22<00:07,  1.58s/it]"
     ]
    },
    {
     "name": "stdout",
     "output_type": "stream",
     "text": [
      "la_021.nii.gz Dice list by number of clicks (left atrium): [0.7418, 0.7124, 0.68, 0.6826, 0.6845]\n"
     ]
    },
    {
     "name": "stderr",
     "output_type": "stream",
     "text": [
      " 80%|████████  | 16/20 [00:24<00:06,  1.57s/it]"
     ]
    },
    {
     "name": "stdout",
     "output_type": "stream",
     "text": [
      "la_019.nii.gz Dice list by number of clicks (left atrium): [0.6099, 0.6414, 0.643, 0.6279, 0.671]\n"
     ]
    },
    {
     "name": "stderr",
     "output_type": "stream",
     "text": [
      " 85%|████████▌ | 17/20 [00:25<00:04,  1.50s/it]"
     ]
    },
    {
     "name": "stdout",
     "output_type": "stream",
     "text": [
      "la_004.nii.gz Dice list by number of clicks (left atrium): [0.4838, 0.565, 0.6002, 0.6561, 0.6239]\n"
     ]
    },
    {
     "name": "stderr",
     "output_type": "stream",
     "text": [
      " 90%|█████████ | 18/20 [00:27<00:02,  1.49s/it]"
     ]
    },
    {
     "name": "stdout",
     "output_type": "stream",
     "text": [
      "la_009.nii.gz Dice list by number of clicks (left atrium): [0.3699, 0.3706, 0.438, 0.6272, 0.5998]\n"
     ]
    },
    {
     "name": "stderr",
     "output_type": "stream",
     "text": [
      " 95%|█████████▌| 19/20 [00:28<00:01,  1.49s/it]"
     ]
    },
    {
     "name": "stdout",
     "output_type": "stream",
     "text": [
      "la_026.nii.gz Dice list by number of clicks (left atrium): [0.1478, 0.4199, 0.4301, 0.5346, 0.5899]\n",
      "Save results to /home/t722s/Desktop/Sam-Med3DTest/NetworkHeartModified/eval_res_from_inference.json\n",
      "Done\n"
     ]
    },
    {
     "name": "stderr",
     "output_type": "stream",
     "text": [
      "100%|██████████| 20/20 [00:30<00:00,  1.52s/it]\n"
     ]
    },
    {
     "name": "stdout",
     "output_type": "stream",
     "text": [
      "set seed as 2020\n",
      "device: cuda\n"
     ]
    },
    {
     "name": "stderr",
     "output_type": "stream",
     "text": [
      "  0%|          | 0/20 [00:00<?, ?it/s]"
     ]
    },
    {
     "name": "stdout",
     "output_type": "stream",
     "text": [
      "la_014.nii.gz Dice list by number of clicks (left atrium): [0.6168, 0.7405, 0.7125, 0.7109, 0.7062]\n"
     ]
    },
    {
     "name": "stderr",
     "output_type": "stream",
     "text": [
      "  5%|▌         | 1/20 [00:01<00:34,  1.83s/it]"
     ]
    },
    {
     "name": "stdout",
     "output_type": "stream",
     "text": [
      "la_022.nii.gz Dice list by number of clicks (left atrium): [0.6628, 0.7097, 0.6584, 0.6543, 0.6661]\n"
     ]
    },
    {
     "name": "stderr",
     "output_type": "stream",
     "text": [
      " 10%|█         | 2/20 [00:03<00:28,  1.60s/it]"
     ]
    },
    {
     "name": "stdout",
     "output_type": "stream",
     "text": [
      "la_030.nii.gz Dice list by number of clicks (left atrium): [0.6502, 0.6868, 0.6723, 0.7953, 0.7935]\n"
     ]
    },
    {
     "name": "stderr",
     "output_type": "stream",
     "text": [
      " 15%|█▌        | 3/20 [00:04<00:26,  1.57s/it]"
     ]
    },
    {
     "name": "stdout",
     "output_type": "stream",
     "text": [
      "la_010.nii.gz Dice list by number of clicks (left atrium): [0.3922, 0.3987, 0.6504, 0.6413, 0.6326]\n"
     ]
    },
    {
     "name": "stderr",
     "output_type": "stream",
     "text": [
      " 20%|██        | 4/20 [00:06<00:24,  1.56s/it]"
     ]
    },
    {
     "name": "stdout",
     "output_type": "stream",
     "text": [
      "la_007.nii.gz Dice list by number of clicks (left atrium): [0.592, 0.6199, 0.6119, 0.5984, 0.6016]\n"
     ]
    },
    {
     "name": "stderr",
     "output_type": "stream",
     "text": [
      " 25%|██▌       | 5/20 [00:07<00:23,  1.57s/it]"
     ]
    },
    {
     "name": "stdout",
     "output_type": "stream",
     "text": [
      "la_023.nii.gz Dice list by number of clicks (left atrium): [0.7032, 0.799, 0.8067, 0.7978, 0.7969]\n"
     ]
    },
    {
     "name": "stderr",
     "output_type": "stream",
     "text": [
      " 30%|███       | 6/20 [00:09<00:21,  1.51s/it]"
     ]
    },
    {
     "name": "stdout",
     "output_type": "stream",
     "text": [
      "la_017.nii.gz Dice list by number of clicks (left atrium): [0.6433, 0.5256, 0.5074, 0.6245, 0.7017]\n"
     ]
    },
    {
     "name": "stderr",
     "output_type": "stream",
     "text": [
      " 35%|███▌      | 7/20 [00:10<00:20,  1.54s/it]"
     ]
    },
    {
     "name": "stdout",
     "output_type": "stream",
     "text": [
      "la_016.nii.gz Dice list by number of clicks (left atrium): [0.6524, 0.6594, 0.6565, 0.6721, 0.6691]\n"
     ]
    },
    {
     "name": "stderr",
     "output_type": "stream",
     "text": [
      " 40%|████      | 8/20 [00:12<00:17,  1.44s/it]"
     ]
    },
    {
     "name": "stdout",
     "output_type": "stream",
     "text": [
      "la_029.nii.gz Dice list by number of clicks (left atrium): [0.6531, 0.5997, 0.5933, 0.6056, 0.6145]\n"
     ]
    },
    {
     "name": "stderr",
     "output_type": "stream",
     "text": [
      " 45%|████▌     | 9/20 [00:13<00:16,  1.46s/it]"
     ]
    },
    {
     "name": "stdout",
     "output_type": "stream",
     "text": [
      "la_024.nii.gz Dice list by number of clicks (left atrium): [0.4892, 0.5056, 0.5674, 0.5724, 0.5738]\n"
     ]
    },
    {
     "name": "stderr",
     "output_type": "stream",
     "text": [
      " 50%|█████     | 10/20 [00:15<00:14,  1.49s/it]"
     ]
    },
    {
     "name": "stdout",
     "output_type": "stream",
     "text": [
      "la_020.nii.gz Dice list by number of clicks (left atrium): [0.5135, 0.524, 0.6152, 0.6126, 0.6112]\n"
     ]
    },
    {
     "name": "stderr",
     "output_type": "stream",
     "text": [
      " 55%|█████▌    | 11/20 [00:16<00:13,  1.50s/it]"
     ]
    },
    {
     "name": "stdout",
     "output_type": "stream",
     "text": [
      "la_003.nii.gz Dice list by number of clicks (left atrium): [0.7278, 0.6457, 0.6065, 0.711, 0.728]\n"
     ]
    },
    {
     "name": "stderr",
     "output_type": "stream",
     "text": [
      " 60%|██████    | 12/20 [00:18<00:12,  1.55s/it]"
     ]
    },
    {
     "name": "stdout",
     "output_type": "stream",
     "text": [
      "la_011.nii.gz Dice list by number of clicks (left atrium): [0.6068, 0.5917, 0.6121, 0.6099, 0.6131]\n"
     ]
    },
    {
     "name": "stderr",
     "output_type": "stream",
     "text": [
      " 65%|██████▌   | 13/20 [00:19<00:10,  1.55s/it]"
     ]
    },
    {
     "name": "stdout",
     "output_type": "stream",
     "text": [
      "la_005.nii.gz Dice list by number of clicks (left atrium): [0.3788, 0.4715, 0.5508, 0.6136, 0.6375]\n"
     ]
    },
    {
     "name": "stderr",
     "output_type": "stream",
     "text": [
      " 70%|███████   | 14/20 [00:21<00:09,  1.57s/it]"
     ]
    },
    {
     "name": "stdout",
     "output_type": "stream",
     "text": [
      "la_018.nii.gz Dice list by number of clicks (left atrium): [0.585, 0.6122, 0.6114, 0.6143, 0.571]\n"
     ]
    },
    {
     "name": "stderr",
     "output_type": "stream",
     "text": [
      " 75%|███████▌  | 15/20 [00:23<00:07,  1.55s/it]"
     ]
    },
    {
     "name": "stdout",
     "output_type": "stream",
     "text": [
      "la_021.nii.gz Dice list by number of clicks (left atrium): [0.6955, 0.7019, 0.6887, 0.6428, 0.6451]\n"
     ]
    },
    {
     "name": "stderr",
     "output_type": "stream",
     "text": [
      " 80%|████████  | 16/20 [00:24<00:06,  1.51s/it]"
     ]
    },
    {
     "name": "stdout",
     "output_type": "stream",
     "text": [
      "la_019.nii.gz Dice list by number of clicks (left atrium): [0.4272, 0.4686, 0.5123, 0.5463, 0.5498]\n"
     ]
    },
    {
     "name": "stderr",
     "output_type": "stream",
     "text": [
      " 85%|████████▌ | 17/20 [00:25<00:04,  1.48s/it]"
     ]
    },
    {
     "name": "stdout",
     "output_type": "stream",
     "text": [
      "la_004.nii.gz Dice list by number of clicks (left atrium): [0.6515, 0.6579, 0.6656, 0.6921, 0.698]\n"
     ]
    },
    {
     "name": "stderr",
     "output_type": "stream",
     "text": [
      " 90%|█████████ | 18/20 [00:27<00:02,  1.48s/it]"
     ]
    },
    {
     "name": "stdout",
     "output_type": "stream",
     "text": [
      "la_009.nii.gz Dice list by number of clicks (left atrium): [0.3585, 0.3217, 0.4954, 0.4906, 0.527]\n"
     ]
    },
    {
     "name": "stderr",
     "output_type": "stream",
     "text": [
      " 95%|█████████▌| 19/20 [00:28<00:01,  1.47s/it]"
     ]
    },
    {
     "name": "stdout",
     "output_type": "stream",
     "text": [
      "la_026.nii.gz Dice list by number of clicks (left atrium): [0.6706, 0.612, 0.6426, 0.6802, 0.6738]\n",
      "Save results to /home/t722s/Desktop/Sam-Med3DTest/NetworkHeartModified/eval_res_from_inference.json\n",
      "Done\n"
     ]
    },
    {
     "name": "stderr",
     "output_type": "stream",
     "text": [
      "100%|██████████| 20/20 [00:30<00:00,  1.52s/it]\n"
     ]
    },
    {
     "name": "stdout",
     "output_type": "stream",
     "text": [
      "set seed as 2020\n",
      "device: cuda\n"
     ]
    },
    {
     "name": "stderr",
     "output_type": "stream",
     "text": [
      "  0%|          | 0/20 [00:00<?, ?it/s]"
     ]
    },
    {
     "name": "stdout",
     "output_type": "stream",
     "text": [
      "la_014.nii.gz Dice list by number of clicks (left atrium): [0.6582, 0.6824, 0.7118, 0.7515, 0.752]\n"
     ]
    },
    {
     "name": "stderr",
     "output_type": "stream",
     "text": [
      "  5%|▌         | 1/20 [00:01<00:32,  1.73s/it]"
     ]
    },
    {
     "name": "stdout",
     "output_type": "stream",
     "text": [
      "la_022.nii.gz Dice list by number of clicks (left atrium): [0.6657, 0.6935, 0.6763, 0.6453, 0.6789]\n"
     ]
    },
    {
     "name": "stderr",
     "output_type": "stream",
     "text": [
      " 10%|█         | 2/20 [00:03<00:28,  1.59s/it]"
     ]
    },
    {
     "name": "stdout",
     "output_type": "stream",
     "text": [
      "la_030.nii.gz Dice list by number of clicks (left atrium): [0.728, 0.7373, 0.7502, 0.7465, 0.7429]\n"
     ]
    },
    {
     "name": "stderr",
     "output_type": "stream",
     "text": [
      " 15%|█▌        | 3/20 [00:04<00:25,  1.53s/it]"
     ]
    },
    {
     "name": "stdout",
     "output_type": "stream",
     "text": [
      "la_010.nii.gz Dice list by number of clicks (left atrium): [0.6358, 0.5914, 0.5937, 0.6176, 0.6321]\n"
     ]
    },
    {
     "name": "stderr",
     "output_type": "stream",
     "text": [
      " 20%|██        | 4/20 [00:06<00:24,  1.54s/it]"
     ]
    },
    {
     "name": "stdout",
     "output_type": "stream",
     "text": [
      "la_007.nii.gz Dice list by number of clicks (left atrium): [0.3363, 0.4165, 0.3819, 0.4443, 0.4125]\n"
     ]
    },
    {
     "name": "stderr",
     "output_type": "stream",
     "text": [
      " 25%|██▌       | 5/20 [00:07<00:23,  1.56s/it]"
     ]
    },
    {
     "name": "stdout",
     "output_type": "stream",
     "text": [
      "la_023.nii.gz Dice list by number of clicks (left atrium): [0.7331, 0.7577, 0.7944, 0.7794, 0.8142]\n"
     ]
    },
    {
     "name": "stderr",
     "output_type": "stream",
     "text": [
      " 30%|███       | 6/20 [00:09<00:21,  1.54s/it]"
     ]
    },
    {
     "name": "stdout",
     "output_type": "stream",
     "text": [
      "la_017.nii.gz Dice list by number of clicks (left atrium): [0.6262, 0.5611, 0.5592, 0.5644, 0.5344]\n"
     ]
    },
    {
     "name": "stderr",
     "output_type": "stream",
     "text": [
      " 35%|███▌      | 7/20 [00:10<00:20,  1.54s/it]"
     ]
    },
    {
     "name": "stdout",
     "output_type": "stream",
     "text": [
      "la_016.nii.gz Dice list by number of clicks (left atrium): [0.5126, 0.6098, 0.5766, 0.6277, 0.6352]\n"
     ]
    },
    {
     "name": "stderr",
     "output_type": "stream",
     "text": [
      " 40%|████      | 8/20 [00:12<00:17,  1.43s/it]"
     ]
    },
    {
     "name": "stdout",
     "output_type": "stream",
     "text": [
      "la_029.nii.gz Dice list by number of clicks (left atrium): [0.6322, 0.6802, 0.6822, 0.6822, 0.6877]\n"
     ]
    },
    {
     "name": "stderr",
     "output_type": "stream",
     "text": [
      " 45%|████▌     | 9/20 [00:13<00:15,  1.45s/it]"
     ]
    },
    {
     "name": "stdout",
     "output_type": "stream",
     "text": [
      "la_024.nii.gz Dice list by number of clicks (left atrium): [0.5132, 0.6017, 0.585, 0.64, 0.6861]\n"
     ]
    },
    {
     "name": "stderr",
     "output_type": "stream",
     "text": [
      " 50%|█████     | 10/20 [00:15<00:14,  1.49s/it]"
     ]
    },
    {
     "name": "stdout",
     "output_type": "stream",
     "text": [
      "la_020.nii.gz Dice list by number of clicks (left atrium): [0.6556, 0.6793, 0.6793, 0.6586, 0.6539]\n"
     ]
    },
    {
     "name": "stderr",
     "output_type": "stream",
     "text": [
      " 55%|█████▌    | 11/20 [00:16<00:13,  1.47s/it]"
     ]
    },
    {
     "name": "stdout",
     "output_type": "stream",
     "text": [
      "la_003.nii.gz Dice list by number of clicks (left atrium): [0.6045, 0.6104, 0.6238, 0.6403, 0.6487]\n"
     ]
    },
    {
     "name": "stderr",
     "output_type": "stream",
     "text": [
      " 60%|██████    | 12/20 [00:18<00:12,  1.52s/it]"
     ]
    },
    {
     "name": "stdout",
     "output_type": "stream",
     "text": [
      "la_011.nii.gz Dice list by number of clicks (left atrium): [0.6672, 0.6829, 0.7408, 0.7384, 0.7287]\n"
     ]
    },
    {
     "name": "stderr",
     "output_type": "stream",
     "text": [
      " 65%|██████▌   | 13/20 [00:19<00:10,  1.56s/it]"
     ]
    },
    {
     "name": "stdout",
     "output_type": "stream",
     "text": [
      "la_005.nii.gz Dice list by number of clicks (left atrium): [0.3283, 0.543, 0.5175, 0.5674, 0.594]\n"
     ]
    },
    {
     "name": "stderr",
     "output_type": "stream",
     "text": [
      " 70%|███████   | 14/20 [00:21<00:09,  1.56s/it]"
     ]
    },
    {
     "name": "stdout",
     "output_type": "stream",
     "text": [
      "la_018.nii.gz Dice list by number of clicks (left atrium): [0.6015, 0.6124, 0.621, 0.6601, 0.6607]\n"
     ]
    },
    {
     "name": "stderr",
     "output_type": "stream",
     "text": [
      " 75%|███████▌  | 15/20 [00:22<00:07,  1.55s/it]"
     ]
    },
    {
     "name": "stdout",
     "output_type": "stream",
     "text": [
      "la_021.nii.gz Dice list by number of clicks (left atrium): [0.6329, 0.7001, 0.7013, 0.7259, 0.7335]\n"
     ]
    },
    {
     "name": "stderr",
     "output_type": "stream",
     "text": [
      " 80%|████████  | 16/20 [00:24<00:06,  1.53s/it]"
     ]
    },
    {
     "name": "stdout",
     "output_type": "stream",
     "text": [
      "la_019.nii.gz Dice list by number of clicks (left atrium): [0.5966, 0.6813, 0.6576, 0.656, 0.6591]\n"
     ]
    },
    {
     "name": "stderr",
     "output_type": "stream",
     "text": [
      " 85%|████████▌ | 17/20 [00:25<00:04,  1.49s/it]"
     ]
    },
    {
     "name": "stdout",
     "output_type": "stream",
     "text": [
      "la_004.nii.gz Dice list by number of clicks (left atrium): [0.69, 0.677, 0.7562, 0.721, 0.7015]\n"
     ]
    },
    {
     "name": "stderr",
     "output_type": "stream",
     "text": [
      " 90%|█████████ | 18/20 [00:27<00:02,  1.49s/it]"
     ]
    },
    {
     "name": "stdout",
     "output_type": "stream",
     "text": [
      "la_009.nii.gz Dice list by number of clicks (left atrium): [0.6175, 0.6597, 0.6345, 0.6293, 0.6375]\n"
     ]
    },
    {
     "name": "stderr",
     "output_type": "stream",
     "text": [
      " 95%|█████████▌| 19/20 [00:28<00:01,  1.46s/it]"
     ]
    },
    {
     "name": "stdout",
     "output_type": "stream",
     "text": [
      "la_026.nii.gz Dice list by number of clicks (left atrium): [0.2135, 0.3234, 0.5651, 0.5333, 0.5781]\n",
      "Save results to /home/t722s/Desktop/Sam-Med3DTest/NetworkHeartModified/eval_res_from_inference.json\n",
      "Done\n"
     ]
    },
    {
     "name": "stderr",
     "output_type": "stream",
     "text": [
      "100%|██████████| 20/20 [00:30<00:00,  1.51s/it]\n"
     ]
    },
    {
     "name": "stdout",
     "output_type": "stream",
     "text": [
      "set seed as 2020\n",
      "device: cuda\n"
     ]
    },
    {
     "name": "stderr",
     "output_type": "stream",
     "text": [
      "  0%|          | 0/20 [00:00<?, ?it/s]"
     ]
    },
    {
     "name": "stdout",
     "output_type": "stream",
     "text": [
      "la_014.nii.gz Dice list by number of clicks (left atrium): [0.5478, 0.699, 0.6815, 0.7101, 0.7348]\n"
     ]
    },
    {
     "name": "stderr",
     "output_type": "stream",
     "text": [
      "  5%|▌         | 1/20 [00:01<00:34,  1.81s/it]"
     ]
    },
    {
     "name": "stdout",
     "output_type": "stream",
     "text": [
      "la_022.nii.gz Dice list by number of clicks (left atrium): [0.5749, 0.5856, 0.6182, 0.6501, 0.6424]\n"
     ]
    },
    {
     "name": "stderr",
     "output_type": "stream",
     "text": [
      " 10%|█         | 2/20 [00:03<00:29,  1.63s/it]"
     ]
    },
    {
     "name": "stdout",
     "output_type": "stream",
     "text": [
      "la_030.nii.gz Dice list by number of clicks (left atrium): [0.7112, 0.7059, 0.7476, 0.7382, 0.7291]\n"
     ]
    },
    {
     "name": "stderr",
     "output_type": "stream",
     "text": [
      " 15%|█▌        | 3/20 [00:04<00:26,  1.56s/it]"
     ]
    },
    {
     "name": "stdout",
     "output_type": "stream",
     "text": [
      "la_010.nii.gz Dice list by number of clicks (left atrium): [0.6435, 0.5561, 0.6195, 0.7652, 0.7599]\n"
     ]
    },
    {
     "name": "stderr",
     "output_type": "stream",
     "text": [
      " 20%|██        | 4/20 [00:06<00:24,  1.56s/it]"
     ]
    },
    {
     "name": "stdout",
     "output_type": "stream",
     "text": [
      "la_007.nii.gz Dice list by number of clicks (left atrium): [0.5091, 0.5058, 0.4648, 0.4939, 0.5874]\n"
     ]
    },
    {
     "name": "stderr",
     "output_type": "stream",
     "text": [
      " 25%|██▌       | 5/20 [00:07<00:23,  1.59s/it]"
     ]
    },
    {
     "name": "stdout",
     "output_type": "stream",
     "text": [
      "la_023.nii.gz Dice list by number of clicks (left atrium): [0.6379, 0.691, 0.758, 0.7385, 0.7322]\n"
     ]
    },
    {
     "name": "stderr",
     "output_type": "stream",
     "text": [
      " 30%|███       | 6/20 [00:09<00:21,  1.53s/it]"
     ]
    },
    {
     "name": "stdout",
     "output_type": "stream",
     "text": [
      "la_017.nii.gz Dice list by number of clicks (left atrium): [0.6473, 0.629, 0.6776, 0.6622, 0.63]\n"
     ]
    },
    {
     "name": "stderr",
     "output_type": "stream",
     "text": [
      " 35%|███▌      | 7/20 [00:10<00:19,  1.51s/it]"
     ]
    },
    {
     "name": "stdout",
     "output_type": "stream",
     "text": [
      "la_016.nii.gz Dice list by number of clicks (left atrium): [0.3571, 0.4562, 0.4918, 0.6075, 0.6428]\n"
     ]
    },
    {
     "name": "stderr",
     "output_type": "stream",
     "text": [
      " 40%|████      | 8/20 [00:12<00:16,  1.41s/it]"
     ]
    },
    {
     "name": "stdout",
     "output_type": "stream",
     "text": [
      "la_029.nii.gz Dice list by number of clicks (left atrium): [0.5937, 0.6305, 0.6377, 0.6433, 0.6416]\n"
     ]
    },
    {
     "name": "stderr",
     "output_type": "stream",
     "text": [
      " 45%|████▌     | 9/20 [00:13<00:15,  1.43s/it]"
     ]
    },
    {
     "name": "stdout",
     "output_type": "stream",
     "text": [
      "la_024.nii.gz Dice list by number of clicks (left atrium): [0.6303, 0.4824, 0.618, 0.6666, 0.6327]\n"
     ]
    },
    {
     "name": "stderr",
     "output_type": "stream",
     "text": [
      " 50%|█████     | 10/20 [00:15<00:14,  1.49s/it]"
     ]
    },
    {
     "name": "stdout",
     "output_type": "stream",
     "text": [
      "la_020.nii.gz Dice list by number of clicks (left atrium): [0.6168, 0.6178, 0.6534, 0.6809, 0.6819]\n"
     ]
    },
    {
     "name": "stderr",
     "output_type": "stream",
     "text": [
      " 55%|█████▌    | 11/20 [00:16<00:13,  1.48s/it]"
     ]
    },
    {
     "name": "stdout",
     "output_type": "stream",
     "text": [
      "la_003.nii.gz Dice list by number of clicks (left atrium): [0.5728, 0.5632, 0.6159, 0.6212, 0.6239]\n"
     ]
    },
    {
     "name": "stderr",
     "output_type": "stream",
     "text": [
      " 60%|██████    | 12/20 [00:18<00:12,  1.56s/it]"
     ]
    },
    {
     "name": "stdout",
     "output_type": "stream",
     "text": [
      "la_011.nii.gz Dice list by number of clicks (left atrium): [0.6431, 0.6256, 0.5714, 0.5765, 0.5734]\n"
     ]
    },
    {
     "name": "stderr",
     "output_type": "stream",
     "text": [
      " 65%|██████▌   | 13/20 [00:19<00:10,  1.55s/it]"
     ]
    },
    {
     "name": "stdout",
     "output_type": "stream",
     "text": [
      "la_005.nii.gz Dice list by number of clicks (left atrium): [0.5993, 0.5558, 0.6027, 0.6701, 0.6766]\n"
     ]
    },
    {
     "name": "stderr",
     "output_type": "stream",
     "text": [
      " 70%|███████   | 14/20 [00:21<00:09,  1.56s/it]"
     ]
    },
    {
     "name": "stdout",
     "output_type": "stream",
     "text": [
      "la_018.nii.gz Dice list by number of clicks (left atrium): [0.6469, 0.6584, 0.7004, 0.6702, 0.696]\n"
     ]
    },
    {
     "name": "stderr",
     "output_type": "stream",
     "text": [
      " 75%|███████▌  | 15/20 [00:23<00:07,  1.55s/it]"
     ]
    },
    {
     "name": "stdout",
     "output_type": "stream",
     "text": [
      "la_021.nii.gz Dice list by number of clicks (left atrium): [0.6864, 0.6601, 0.7177, 0.6624, 0.6756]\n"
     ]
    },
    {
     "name": "stderr",
     "output_type": "stream",
     "text": [
      " 80%|████████  | 16/20 [00:24<00:05,  1.49s/it]"
     ]
    },
    {
     "name": "stdout",
     "output_type": "stream",
     "text": [
      "la_019.nii.gz Dice list by number of clicks (left atrium): [0.5957, 0.5895, 0.5643, 0.6798, 0.676]\n"
     ]
    },
    {
     "name": "stderr",
     "output_type": "stream",
     "text": [
      " 85%|████████▌ | 17/20 [00:25<00:04,  1.48s/it]"
     ]
    },
    {
     "name": "stdout",
     "output_type": "stream",
     "text": [
      "la_004.nii.gz Dice list by number of clicks (left atrium): [0.5256, 0.4529, 0.4435, 0.4465, 0.5505]\n"
     ]
    },
    {
     "name": "stderr",
     "output_type": "stream",
     "text": [
      " 90%|█████████ | 18/20 [00:27<00:02,  1.47s/it]"
     ]
    },
    {
     "name": "stdout",
     "output_type": "stream",
     "text": [
      "la_009.nii.gz Dice list by number of clicks (left atrium): [0.6138, 0.5547, 0.511, 0.6042, 0.6245]\n"
     ]
    },
    {
     "name": "stderr",
     "output_type": "stream",
     "text": [
      " 95%|█████████▌| 19/20 [00:28<00:01,  1.43s/it]"
     ]
    },
    {
     "name": "stdout",
     "output_type": "stream",
     "text": [
      "la_026.nii.gz Dice list by number of clicks (left atrium): [0.5336, 0.5217, 0.6531, 0.6495, 0.6576]\n",
      "Save results to /home/t722s/Desktop/Sam-Med3DTest/NetworkHeartModified/eval_res_from_inference.json\n",
      "Done\n"
     ]
    },
    {
     "name": "stderr",
     "output_type": "stream",
     "text": [
      "100%|██████████| 20/20 [00:30<00:00,  1.51s/it]\n"
     ]
    },
    {
     "name": "stdout",
     "output_type": "stream",
     "text": [
      "set seed as 2020\n",
      "device: cuda\n"
     ]
    },
    {
     "name": "stderr",
     "output_type": "stream",
     "text": [
      "  0%|          | 0/20 [00:00<?, ?it/s]"
     ]
    },
    {
     "name": "stdout",
     "output_type": "stream",
     "text": [
      "la_014.nii.gz Dice list by number of clicks (left atrium): [0.6197, 0.6792, 0.6761, 0.6573, 0.6226]\n"
     ]
    },
    {
     "name": "stderr",
     "output_type": "stream",
     "text": [
      "  5%|▌         | 1/20 [00:01<00:33,  1.78s/it]"
     ]
    },
    {
     "name": "stdout",
     "output_type": "stream",
     "text": [
      "la_022.nii.gz Dice list by number of clicks (left atrium): [0.6984, 0.6445, 0.7396, 0.7461, 0.7362]\n"
     ]
    },
    {
     "name": "stderr",
     "output_type": "stream",
     "text": [
      " 10%|█         | 2/20 [00:03<00:28,  1.56s/it]"
     ]
    },
    {
     "name": "stdout",
     "output_type": "stream",
     "text": [
      "la_030.nii.gz Dice list by number of clicks (left atrium): [0.7074, 0.7238, 0.7036, 0.7603, 0.7544]\n"
     ]
    },
    {
     "name": "stderr",
     "output_type": "stream",
     "text": [
      " 15%|█▌        | 3/20 [00:04<00:26,  1.53s/it]"
     ]
    },
    {
     "name": "stdout",
     "output_type": "stream",
     "text": [
      "la_010.nii.gz Dice list by number of clicks (left atrium): [0.7514, 0.7438, 0.7226, 0.687, 0.6906]\n"
     ]
    },
    {
     "name": "stderr",
     "output_type": "stream",
     "text": [
      " 20%|██        | 4/20 [00:06<00:24,  1.54s/it]"
     ]
    },
    {
     "name": "stdout",
     "output_type": "stream",
     "text": [
      "la_007.nii.gz Dice list by number of clicks (left atrium): [0.5047, 0.4984, 0.5737, 0.5756, 0.5704]\n"
     ]
    },
    {
     "name": "stderr",
     "output_type": "stream",
     "text": [
      " 25%|██▌       | 5/20 [00:07<00:23,  1.58s/it]"
     ]
    },
    {
     "name": "stdout",
     "output_type": "stream",
     "text": [
      "la_023.nii.gz Dice list by number of clicks (left atrium): [0.6528, 0.7703, 0.7766, 0.7769, 0.7778]\n"
     ]
    },
    {
     "name": "stderr",
     "output_type": "stream",
     "text": [
      " 30%|███       | 6/20 [00:09<00:21,  1.52s/it]"
     ]
    },
    {
     "name": "stdout",
     "output_type": "stream",
     "text": [
      "la_017.nii.gz Dice list by number of clicks (left atrium): [0.537, 0.5845, 0.643, 0.6453, 0.6897]\n"
     ]
    },
    {
     "name": "stderr",
     "output_type": "stream",
     "text": [
      " 35%|███▌      | 7/20 [00:10<00:20,  1.57s/it]"
     ]
    },
    {
     "name": "stdout",
     "output_type": "stream",
     "text": [
      "la_016.nii.gz Dice list by number of clicks (left atrium): [0.4405, 0.4476, 0.4225, 0.4501, 0.578]\n"
     ]
    },
    {
     "name": "stderr",
     "output_type": "stream",
     "text": [
      " 40%|████      | 8/20 [00:12<00:17,  1.46s/it]"
     ]
    },
    {
     "name": "stdout",
     "output_type": "stream",
     "text": [
      "la_029.nii.gz Dice list by number of clicks (left atrium): [0.6134, 0.6054, 0.6052, 0.6292, 0.6384]\n"
     ]
    },
    {
     "name": "stderr",
     "output_type": "stream",
     "text": [
      " 45%|████▌     | 9/20 [00:13<00:16,  1.47s/it]"
     ]
    },
    {
     "name": "stdout",
     "output_type": "stream",
     "text": [
      "la_024.nii.gz Dice list by number of clicks (left atrium): [0.2743, 0.6318, 0.625, 0.5868, 0.605]\n"
     ]
    },
    {
     "name": "stderr",
     "output_type": "stream",
     "text": [
      " 50%|█████     | 10/20 [00:15<00:14,  1.47s/it]"
     ]
    },
    {
     "name": "stdout",
     "output_type": "stream",
     "text": [
      "la_020.nii.gz Dice list by number of clicks (left atrium): [0.6103, 0.5516, 0.603, 0.6392, 0.6282]\n"
     ]
    },
    {
     "name": "stderr",
     "output_type": "stream",
     "text": [
      " 55%|█████▌    | 11/20 [00:16<00:13,  1.48s/it]"
     ]
    },
    {
     "name": "stdout",
     "output_type": "stream",
     "text": [
      "la_003.nii.gz Dice list by number of clicks (left atrium): [0.3258, 0.5437, 0.6248, 0.635, 0.6326]\n"
     ]
    },
    {
     "name": "stderr",
     "output_type": "stream",
     "text": [
      " 60%|██████    | 12/20 [00:18<00:12,  1.57s/it]"
     ]
    },
    {
     "name": "stdout",
     "output_type": "stream",
     "text": [
      "la_011.nii.gz Dice list by number of clicks (left atrium): [0.6452, 0.5647, 0.532, 0.5295, 0.549]\n"
     ]
    },
    {
     "name": "stderr",
     "output_type": "stream",
     "text": [
      " 65%|██████▌   | 13/20 [00:20<00:10,  1.57s/it]"
     ]
    },
    {
     "name": "stdout",
     "output_type": "stream",
     "text": [
      "la_005.nii.gz Dice list by number of clicks (left atrium): [0.4995, 0.5538, 0.5917, 0.5724, 0.5917]\n"
     ]
    },
    {
     "name": "stderr",
     "output_type": "stream",
     "text": [
      " 70%|███████   | 14/20 [00:21<00:09,  1.56s/it]"
     ]
    },
    {
     "name": "stdout",
     "output_type": "stream",
     "text": [
      "la_018.nii.gz Dice list by number of clicks (left atrium): [0.6113, 0.5186, 0.536, 0.5529, 0.5746]\n"
     ]
    },
    {
     "name": "stderr",
     "output_type": "stream",
     "text": [
      " 75%|███████▌  | 15/20 [00:23<00:07,  1.57s/it]"
     ]
    },
    {
     "name": "stdout",
     "output_type": "stream",
     "text": [
      "la_021.nii.gz Dice list by number of clicks (left atrium): [0.6215, 0.6319, 0.6886, 0.6821, 0.6811]\n"
     ]
    },
    {
     "name": "stderr",
     "output_type": "stream",
     "text": [
      " 80%|████████  | 16/20 [00:24<00:05,  1.49s/it]"
     ]
    },
    {
     "name": "stdout",
     "output_type": "stream",
     "text": [
      "la_019.nii.gz Dice list by number of clicks (left atrium): [0.5633, 0.6422, 0.6284, 0.6244, 0.6465]\n"
     ]
    },
    {
     "name": "stderr",
     "output_type": "stream",
     "text": [
      " 90%|█████████ | 18/20 [00:27<00:02,  1.46s/it]"
     ]
    },
    {
     "name": "stdout",
     "output_type": "stream",
     "text": [
      "la_004.nii.gz Dice list by number of clicks (left atrium): [0.6259, 0.6349, 0.5903, 0.6061, 0.6326]\n",
      "la_009.nii.gz Dice list by number of clicks (left atrium): [0.3142, 0.4379, 0.6018, 0.6191, 0.6252]\n"
     ]
    },
    {
     "name": "stderr",
     "output_type": "stream",
     "text": [
      " 95%|█████████▌| 19/20 [00:28<00:01,  1.51s/it]"
     ]
    },
    {
     "name": "stdout",
     "output_type": "stream",
     "text": [
      "la_026.nii.gz Dice list by number of clicks (left atrium): [0.5665, 0.5877, 0.6391, 0.6188, 0.6019]\n",
      "Save results to /home/t722s/Desktop/Sam-Med3DTest/NetworkHeartModified/eval_res_from_inference.json\n",
      "Done\n"
     ]
    },
    {
     "name": "stderr",
     "output_type": "stream",
     "text": [
      "100%|██████████| 20/20 [00:30<00:00,  1.53s/it]\n"
     ]
    },
    {
     "name": "stdout",
     "output_type": "stream",
     "text": [
      "set seed as 2020\n",
      "device: cuda\n"
     ]
    },
    {
     "name": "stderr",
     "output_type": "stream",
     "text": [
      "  0%|          | 0/20 [00:00<?, ?it/s]"
     ]
    },
    {
     "name": "stdout",
     "output_type": "stream",
     "text": [
      "la_014.nii.gz Dice list by number of clicks (left atrium): [0.5362, 0.6405, 0.5844, 0.7165, 0.7197]\n"
     ]
    },
    {
     "name": "stderr",
     "output_type": "stream",
     "text": [
      "  5%|▌         | 1/20 [00:01<00:33,  1.78s/it]"
     ]
    },
    {
     "name": "stdout",
     "output_type": "stream",
     "text": [
      "la_022.nii.gz Dice list by number of clicks (left atrium): [0.4557, 0.5272, 0.6343, 0.6463, 0.6605]\n"
     ]
    },
    {
     "name": "stderr",
     "output_type": "stream",
     "text": [
      " 10%|█         | 2/20 [00:03<00:27,  1.55s/it]"
     ]
    },
    {
     "name": "stdout",
     "output_type": "stream",
     "text": [
      "la_030.nii.gz Dice list by number of clicks (left atrium): [0.657, 0.6584, 0.653, 0.6493, 0.6394]\n"
     ]
    },
    {
     "name": "stderr",
     "output_type": "stream",
     "text": [
      " 15%|█▌        | 3/20 [00:04<00:25,  1.51s/it]"
     ]
    },
    {
     "name": "stdout",
     "output_type": "stream",
     "text": [
      "la_010.nii.gz Dice list by number of clicks (left atrium): [0.6445, 0.6123, 0.6371, 0.6323, 0.6257]\n"
     ]
    },
    {
     "name": "stderr",
     "output_type": "stream",
     "text": [
      " 20%|██        | 4/20 [00:06<00:24,  1.52s/it]"
     ]
    },
    {
     "name": "stdout",
     "output_type": "stream",
     "text": [
      "la_007.nii.gz Dice list by number of clicks (left atrium): [0.5617, 0.6322, 0.6258, 0.6782, 0.7016]\n"
     ]
    },
    {
     "name": "stderr",
     "output_type": "stream",
     "text": [
      " 25%|██▌       | 5/20 [00:07<00:23,  1.56s/it]"
     ]
    },
    {
     "name": "stdout",
     "output_type": "stream",
     "text": [
      "la_023.nii.gz Dice list by number of clicks (left atrium): [0.7213, 0.7408, 0.7019, 0.7149, 0.7438]\n"
     ]
    },
    {
     "name": "stderr",
     "output_type": "stream",
     "text": [
      " 30%|███       | 6/20 [00:09<00:21,  1.51s/it]"
     ]
    },
    {
     "name": "stdout",
     "output_type": "stream",
     "text": [
      "la_017.nii.gz Dice list by number of clicks (left atrium): [0.5723, 0.6372, 0.6445, 0.6918, 0.6873]\n"
     ]
    },
    {
     "name": "stderr",
     "output_type": "stream",
     "text": [
      " 35%|███▌      | 7/20 [00:10<00:19,  1.54s/it]"
     ]
    },
    {
     "name": "stdout",
     "output_type": "stream",
     "text": [
      "la_016.nii.gz Dice list by number of clicks (left atrium): [0.6699, 0.6471, 0.6394, 0.6499, 0.6648]\n"
     ]
    },
    {
     "name": "stderr",
     "output_type": "stream",
     "text": [
      " 40%|████      | 8/20 [00:11<00:17,  1.43s/it]"
     ]
    },
    {
     "name": "stdout",
     "output_type": "stream",
     "text": [
      "la_029.nii.gz Dice list by number of clicks (left atrium): [0.5577, 0.6062, 0.6535, 0.6696, 0.6369]\n"
     ]
    },
    {
     "name": "stderr",
     "output_type": "stream",
     "text": [
      " 45%|████▌     | 9/20 [00:13<00:15,  1.45s/it]"
     ]
    },
    {
     "name": "stdout",
     "output_type": "stream",
     "text": [
      "la_024.nii.gz Dice list by number of clicks (left atrium): [0.2905, 0.5938, 0.6166, 0.649, 0.6419]\n"
     ]
    },
    {
     "name": "stderr",
     "output_type": "stream",
     "text": [
      " 50%|█████     | 10/20 [00:15<00:14,  1.47s/it]"
     ]
    },
    {
     "name": "stdout",
     "output_type": "stream",
     "text": [
      "la_020.nii.gz Dice list by number of clicks (left atrium): [0.7338, 0.7057, 0.7488, 0.7356, 0.7345]\n"
     ]
    },
    {
     "name": "stderr",
     "output_type": "stream",
     "text": [
      " 55%|█████▌    | 11/20 [00:16<00:13,  1.48s/it]"
     ]
    },
    {
     "name": "stdout",
     "output_type": "stream",
     "text": [
      "la_003.nii.gz Dice list by number of clicks (left atrium): [0.6116, 0.6389, 0.6605, 0.5959, 0.6059]\n"
     ]
    },
    {
     "name": "stderr",
     "output_type": "stream",
     "text": [
      " 60%|██████    | 12/20 [00:18<00:12,  1.53s/it]"
     ]
    },
    {
     "name": "stdout",
     "output_type": "stream",
     "text": [
      "la_011.nii.gz Dice list by number of clicks (left atrium): [0.6131, 0.6006, 0.7329, 0.7428, 0.7201]\n"
     ]
    },
    {
     "name": "stderr",
     "output_type": "stream",
     "text": [
      " 65%|██████▌   | 13/20 [00:19<00:10,  1.54s/it]"
     ]
    },
    {
     "name": "stdout",
     "output_type": "stream",
     "text": [
      "la_005.nii.gz Dice list by number of clicks (left atrium): [0.5851, 0.5556, 0.5882, 0.5348, 0.5455]\n"
     ]
    },
    {
     "name": "stderr",
     "output_type": "stream",
     "text": [
      " 70%|███████   | 14/20 [00:21<00:09,  1.52s/it]"
     ]
    },
    {
     "name": "stdout",
     "output_type": "stream",
     "text": [
      "la_018.nii.gz Dice list by number of clicks (left atrium): [0.6425, 0.5342, 0.5726, 0.6209, 0.5721]\n"
     ]
    },
    {
     "name": "stderr",
     "output_type": "stream",
     "text": [
      " 75%|███████▌  | 15/20 [00:22<00:07,  1.54s/it]"
     ]
    },
    {
     "name": "stdout",
     "output_type": "stream",
     "text": [
      "la_021.nii.gz Dice list by number of clicks (left atrium): [0.6884, 0.6725, 0.6579, 0.6959, 0.702]\n"
     ]
    },
    {
     "name": "stderr",
     "output_type": "stream",
     "text": [
      " 80%|████████  | 16/20 [00:24<00:06,  1.54s/it]"
     ]
    },
    {
     "name": "stdout",
     "output_type": "stream",
     "text": [
      "la_019.nii.gz Dice list by number of clicks (left atrium): [0.5112, 0.6161, 0.592, 0.653, 0.6536]\n"
     ]
    },
    {
     "name": "stderr",
     "output_type": "stream",
     "text": [
      " 85%|████████▌ | 17/20 [00:25<00:04,  1.50s/it]"
     ]
    },
    {
     "name": "stdout",
     "output_type": "stream",
     "text": [
      "la_004.nii.gz Dice list by number of clicks (left atrium): [0.6566, 0.6518, 0.6715, 0.6324, 0.6542]\n"
     ]
    },
    {
     "name": "stderr",
     "output_type": "stream",
     "text": [
      " 90%|█████████ | 18/20 [00:27<00:02,  1.49s/it]"
     ]
    },
    {
     "name": "stdout",
     "output_type": "stream",
     "text": [
      "la_009.nii.gz Dice list by number of clicks (left atrium): [0.5665, 0.638, 0.6567, 0.6406, 0.6732]\n"
     ]
    },
    {
     "name": "stderr",
     "output_type": "stream",
     "text": [
      " 95%|█████████▌| 19/20 [00:28<00:01,  1.48s/it]"
     ]
    },
    {
     "name": "stdout",
     "output_type": "stream",
     "text": [
      "la_026.nii.gz Dice list by number of clicks (left atrium): [0.6345, 0.6492, 0.6243, 0.6586, 0.6444]\n",
      "Save results to /home/t722s/Desktop/Sam-Med3DTest/NetworkHeartModified/eval_res_from_inference.json\n",
      "Done\n"
     ]
    },
    {
     "name": "stderr",
     "output_type": "stream",
     "text": [
      "100%|██████████| 20/20 [00:30<00:00,  1.51s/it]\n"
     ]
    },
    {
     "name": "stdout",
     "output_type": "stream",
     "text": [
      "set seed as 2020\n",
      "device: cuda\n"
     ]
    },
    {
     "name": "stderr",
     "output_type": "stream",
     "text": [
      "  0%|          | 0/20 [00:00<?, ?it/s]"
     ]
    },
    {
     "name": "stdout",
     "output_type": "stream",
     "text": [
      "la_014.nii.gz Dice list by number of clicks (left atrium): [0.6794, 0.7177, 0.7408, 0.7196, 0.7128]\n"
     ]
    },
    {
     "name": "stderr",
     "output_type": "stream",
     "text": [
      "  5%|▌         | 1/20 [00:01<00:33,  1.77s/it]"
     ]
    },
    {
     "name": "stdout",
     "output_type": "stream",
     "text": [
      "la_022.nii.gz Dice list by number of clicks (left atrium): [0.6634, 0.6553, 0.6929, 0.6523, 0.6138]\n"
     ]
    },
    {
     "name": "stderr",
     "output_type": "stream",
     "text": [
      " 10%|█         | 2/20 [00:03<00:28,  1.59s/it]"
     ]
    },
    {
     "name": "stdout",
     "output_type": "stream",
     "text": [
      "la_030.nii.gz Dice list by number of clicks (left atrium): [0.5691, 0.6066, 0.7069, 0.7078, 0.7048]\n"
     ]
    },
    {
     "name": "stderr",
     "output_type": "stream",
     "text": [
      " 15%|█▌        | 3/20 [00:04<00:27,  1.62s/it]"
     ]
    },
    {
     "name": "stdout",
     "output_type": "stream",
     "text": [
      "la_010.nii.gz Dice list by number of clicks (left atrium): [0.334, 0.5026, 0.5256, 0.518, 0.5183]\n"
     ]
    },
    {
     "name": "stderr",
     "output_type": "stream",
     "text": [
      " 20%|██        | 4/20 [00:06<00:25,  1.59s/it]"
     ]
    },
    {
     "name": "stdout",
     "output_type": "stream",
     "text": [
      "la_007.nii.gz Dice list by number of clicks (left atrium): [0.5958, 0.6668, 0.6793, 0.6728, 0.6548]\n"
     ]
    },
    {
     "name": "stderr",
     "output_type": "stream",
     "text": [
      " 25%|██▌       | 5/20 [00:08<00:24,  1.60s/it]"
     ]
    },
    {
     "name": "stdout",
     "output_type": "stream",
     "text": [
      "la_023.nii.gz Dice list by number of clicks (left atrium): [0.7104, 0.7025, 0.7289, 0.7338, 0.7411]\n"
     ]
    },
    {
     "name": "stderr",
     "output_type": "stream",
     "text": [
      " 30%|███       | 6/20 [00:09<00:21,  1.55s/it]"
     ]
    },
    {
     "name": "stdout",
     "output_type": "stream",
     "text": [
      "la_017.nii.gz Dice list by number of clicks (left atrium): [0.5655, 0.6379, 0.7249, 0.7332, 0.7319]\n"
     ]
    },
    {
     "name": "stderr",
     "output_type": "stream",
     "text": [
      " 35%|███▌      | 7/20 [00:11<00:20,  1.55s/it]"
     ]
    },
    {
     "name": "stdout",
     "output_type": "stream",
     "text": [
      "la_016.nii.gz Dice list by number of clicks (left atrium): [0.623, 0.6461, 0.6226, 0.6153, 0.597]\n"
     ]
    },
    {
     "name": "stderr",
     "output_type": "stream",
     "text": [
      " 40%|████      | 8/20 [00:12<00:17,  1.46s/it]"
     ]
    },
    {
     "name": "stdout",
     "output_type": "stream",
     "text": [
      "la_029.nii.gz Dice list by number of clicks (left atrium): [0.5073, 0.5021, 0.4817, 0.5627, 0.5802]\n"
     ]
    },
    {
     "name": "stderr",
     "output_type": "stream",
     "text": [
      " 45%|████▌     | 9/20 [00:13<00:16,  1.46s/it]"
     ]
    },
    {
     "name": "stdout",
     "output_type": "stream",
     "text": [
      "la_024.nii.gz Dice list by number of clicks (left atrium): [0.4802, 0.4782, 0.6672, 0.688, 0.7005]\n"
     ]
    },
    {
     "name": "stderr",
     "output_type": "stream",
     "text": [
      " 50%|█████     | 10/20 [00:15<00:14,  1.49s/it]"
     ]
    },
    {
     "name": "stdout",
     "output_type": "stream",
     "text": [
      "la_020.nii.gz Dice list by number of clicks (left atrium): [0.5829, 0.6109, 0.6485, 0.6353, 0.6373]\n"
     ]
    },
    {
     "name": "stderr",
     "output_type": "stream",
     "text": [
      " 55%|█████▌    | 11/20 [00:16<00:13,  1.49s/it]"
     ]
    },
    {
     "name": "stdout",
     "output_type": "stream",
     "text": [
      "la_003.nii.gz Dice list by number of clicks (left atrium): [0.5544, 0.5465, 0.5153, 0.5509, 0.581]\n"
     ]
    },
    {
     "name": "stderr",
     "output_type": "stream",
     "text": [
      " 60%|██████    | 12/20 [00:18<00:12,  1.53s/it]"
     ]
    },
    {
     "name": "stdout",
     "output_type": "stream",
     "text": [
      "la_011.nii.gz Dice list by number of clicks (left atrium): [0.5294, 0.5829, 0.668, 0.6427, 0.6386]\n"
     ]
    },
    {
     "name": "stderr",
     "output_type": "stream",
     "text": [
      " 65%|██████▌   | 13/20 [00:20<00:10,  1.54s/it]"
     ]
    },
    {
     "name": "stdout",
     "output_type": "stream",
     "text": [
      "la_005.nii.gz Dice list by number of clicks (left atrium): [0.5721, 0.5658, 0.5516, 0.6086, 0.6277]\n"
     ]
    },
    {
     "name": "stderr",
     "output_type": "stream",
     "text": [
      " 70%|███████   | 14/20 [00:21<00:09,  1.56s/it]"
     ]
    },
    {
     "name": "stdout",
     "output_type": "stream",
     "text": [
      "la_018.nii.gz Dice list by number of clicks (left atrium): [0.6784, 0.6966, 0.6842, 0.6806, 0.662]\n"
     ]
    },
    {
     "name": "stderr",
     "output_type": "stream",
     "text": [
      " 75%|███████▌  | 15/20 [00:23<00:07,  1.53s/it]"
     ]
    },
    {
     "name": "stdout",
     "output_type": "stream",
     "text": [
      "la_021.nii.gz Dice list by number of clicks (left atrium): [0.6406, 0.5307, 0.7181, 0.7031, 0.6979]\n"
     ]
    },
    {
     "name": "stderr",
     "output_type": "stream",
     "text": [
      " 80%|████████  | 16/20 [00:24<00:06,  1.50s/it]"
     ]
    },
    {
     "name": "stdout",
     "output_type": "stream",
     "text": [
      "la_019.nii.gz Dice list by number of clicks (left atrium): [0.6, 0.6627, 0.6833, 0.6308, 0.6296]\n"
     ]
    },
    {
     "name": "stderr",
     "output_type": "stream",
     "text": [
      " 85%|████████▌ | 17/20 [00:25<00:04,  1.47s/it]"
     ]
    },
    {
     "name": "stdout",
     "output_type": "stream",
     "text": [
      "la_004.nii.gz Dice list by number of clicks (left atrium): [0.5704, 0.6146, 0.5986, 0.5599, 0.5681]\n"
     ]
    },
    {
     "name": "stderr",
     "output_type": "stream",
     "text": [
      " 90%|█████████ | 18/20 [00:27<00:03,  1.51s/it]"
     ]
    },
    {
     "name": "stdout",
     "output_type": "stream",
     "text": [
      "la_009.nii.gz Dice list by number of clicks (left atrium): [0.4572, 0.4252, 0.6119, 0.5991, 0.5805]\n"
     ]
    },
    {
     "name": "stderr",
     "output_type": "stream",
     "text": [
      " 95%|█████████▌| 19/20 [00:28<00:01,  1.49s/it]"
     ]
    },
    {
     "name": "stdout",
     "output_type": "stream",
     "text": [
      "la_026.nii.gz Dice list by number of clicks (left atrium): [0.4461, 0.4018, 0.3682, 0.3083, 0.481]\n",
      "Save results to /home/t722s/Desktop/Sam-Med3DTest/NetworkHeartModified/eval_res_from_inference.json\n",
      "Done\n"
     ]
    },
    {
     "name": "stderr",
     "output_type": "stream",
     "text": [
      "100%|██████████| 20/20 [00:30<00:00,  1.53s/it]\n"
     ]
    },
    {
     "name": "stdout",
     "output_type": "stream",
     "text": [
      "set seed as 2020\n",
      "device: cuda\n"
     ]
    },
    {
     "name": "stderr",
     "output_type": "stream",
     "text": [
      "  0%|          | 0/20 [00:00<?, ?it/s]"
     ]
    },
    {
     "name": "stdout",
     "output_type": "stream",
     "text": [
      "la_014.nii.gz Dice list by number of clicks (left atrium): [0.6855, 0.7071, 0.7314, 0.751, 0.7593]\n"
     ]
    },
    {
     "name": "stderr",
     "output_type": "stream",
     "text": [
      "  5%|▌         | 1/20 [00:01<00:33,  1.78s/it]"
     ]
    },
    {
     "name": "stdout",
     "output_type": "stream",
     "text": [
      "la_022.nii.gz Dice list by number of clicks (left atrium): [0.6395, 0.7446, 0.7321, 0.7076, 0.7065]\n"
     ]
    },
    {
     "name": "stderr",
     "output_type": "stream",
     "text": [
      " 10%|█         | 2/20 [00:03<00:29,  1.63s/it]"
     ]
    },
    {
     "name": "stdout",
     "output_type": "stream",
     "text": [
      "la_030.nii.gz Dice list by number of clicks (left atrium): [0.6247, 0.7391, 0.6933, 0.6927, 0.716]\n"
     ]
    },
    {
     "name": "stderr",
     "output_type": "stream",
     "text": [
      " 15%|█▌        | 3/20 [00:04<00:26,  1.58s/it]"
     ]
    },
    {
     "name": "stdout",
     "output_type": "stream",
     "text": [
      "la_010.nii.gz Dice list by number of clicks (left atrium): [0.733, 0.7017, 0.6854, 0.689, 0.6957]\n"
     ]
    },
    {
     "name": "stderr",
     "output_type": "stream",
     "text": [
      " 20%|██        | 4/20 [00:06<00:25,  1.57s/it]"
     ]
    },
    {
     "name": "stdout",
     "output_type": "stream",
     "text": [
      "la_007.nii.gz Dice list by number of clicks (left atrium): [0.592, 0.5797, 0.6115, 0.5877, 0.5648]\n"
     ]
    },
    {
     "name": "stderr",
     "output_type": "stream",
     "text": [
      " 25%|██▌       | 5/20 [00:07<00:23,  1.58s/it]"
     ]
    },
    {
     "name": "stdout",
     "output_type": "stream",
     "text": [
      "la_023.nii.gz Dice list by number of clicks (left atrium): [0.5768, 0.5858, 0.5481, 0.6006, 0.6049]\n"
     ]
    },
    {
     "name": "stderr",
     "output_type": "stream",
     "text": [
      " 30%|███       | 6/20 [00:09<00:22,  1.57s/it]"
     ]
    },
    {
     "name": "stdout",
     "output_type": "stream",
     "text": [
      "la_017.nii.gz Dice list by number of clicks (left atrium): [0.5523, 0.6396, 0.6286, 0.6315, 0.6731]\n"
     ]
    },
    {
     "name": "stderr",
     "output_type": "stream",
     "text": [
      " 35%|███▌      | 7/20 [00:11<00:20,  1.57s/it]"
     ]
    },
    {
     "name": "stdout",
     "output_type": "stream",
     "text": [
      "la_016.nii.gz Dice list by number of clicks (left atrium): [0.6342, 0.6701, 0.7011, 0.7053, 0.7142]\n"
     ]
    },
    {
     "name": "stderr",
     "output_type": "stream",
     "text": [
      " 40%|████      | 8/20 [00:12<00:17,  1.45s/it]"
     ]
    },
    {
     "name": "stdout",
     "output_type": "stream",
     "text": [
      "la_029.nii.gz Dice list by number of clicks (left atrium): [0.3996, 0.4215, 0.6036, 0.6504, 0.6768]\n"
     ]
    },
    {
     "name": "stderr",
     "output_type": "stream",
     "text": [
      " 45%|████▌     | 9/20 [00:13<00:15,  1.44s/it]"
     ]
    },
    {
     "name": "stdout",
     "output_type": "stream",
     "text": [
      "la_024.nii.gz Dice list by number of clicks (left atrium): [0.3252, 0.2843, 0.3475, 0.5393, 0.5317]\n"
     ]
    },
    {
     "name": "stderr",
     "output_type": "stream",
     "text": [
      " 50%|█████     | 10/20 [00:15<00:14,  1.49s/it]"
     ]
    },
    {
     "name": "stdout",
     "output_type": "stream",
     "text": [
      "la_020.nii.gz Dice list by number of clicks (left atrium): [0.6854, 0.6725, 0.6694, 0.6741, 0.6729]\n"
     ]
    },
    {
     "name": "stderr",
     "output_type": "stream",
     "text": [
      " 55%|█████▌    | 11/20 [00:16<00:13,  1.46s/it]"
     ]
    },
    {
     "name": "stdout",
     "output_type": "stream",
     "text": [
      "la_003.nii.gz Dice list by number of clicks (left atrium): [0.6329, 0.6472, 0.6515, 0.6591, 0.6856]\n"
     ]
    },
    {
     "name": "stderr",
     "output_type": "stream",
     "text": [
      " 60%|██████    | 12/20 [00:18<00:12,  1.53s/it]"
     ]
    },
    {
     "name": "stdout",
     "output_type": "stream",
     "text": [
      "la_011.nii.gz Dice list by number of clicks (left atrium): [0.3755, 0.6592, 0.6204, 0.6472, 0.5275]\n"
     ]
    },
    {
     "name": "stderr",
     "output_type": "stream",
     "text": [
      " 65%|██████▌   | 13/20 [00:19<00:10,  1.54s/it]"
     ]
    },
    {
     "name": "stdout",
     "output_type": "stream",
     "text": [
      "la_005.nii.gz Dice list by number of clicks (left atrium): [0.368, 0.4593, 0.5261, 0.5741, 0.6071]\n"
     ]
    },
    {
     "name": "stderr",
     "output_type": "stream",
     "text": [
      " 70%|███████   | 14/20 [00:21<00:09,  1.54s/it]"
     ]
    },
    {
     "name": "stdout",
     "output_type": "stream",
     "text": [
      "la_018.nii.gz Dice list by number of clicks (left atrium): [0.6342, 0.6885, 0.6395, 0.6541, 0.6587]\n"
     ]
    },
    {
     "name": "stderr",
     "output_type": "stream",
     "text": [
      " 75%|███████▌  | 15/20 [00:23<00:07,  1.54s/it]"
     ]
    },
    {
     "name": "stdout",
     "output_type": "stream",
     "text": [
      "la_021.nii.gz Dice list by number of clicks (left atrium): [0.5373, 0.5717, 0.5946, 0.6082, 0.5994]\n"
     ]
    },
    {
     "name": "stderr",
     "output_type": "stream",
     "text": [
      " 80%|████████  | 16/20 [00:24<00:06,  1.52s/it]"
     ]
    },
    {
     "name": "stdout",
     "output_type": "stream",
     "text": [
      "la_019.nii.gz Dice list by number of clicks (left atrium): [0.5527, 0.5907, 0.5792, 0.5847, 0.6386]\n"
     ]
    },
    {
     "name": "stderr",
     "output_type": "stream",
     "text": [
      " 85%|████████▌ | 17/20 [00:25<00:04,  1.49s/it]"
     ]
    },
    {
     "name": "stdout",
     "output_type": "stream",
     "text": [
      "la_004.nii.gz Dice list by number of clicks (left atrium): [0.1988, 0.335, 0.4261, 0.5098, 0.5536]\n"
     ]
    },
    {
     "name": "stderr",
     "output_type": "stream",
     "text": [
      " 90%|█████████ | 18/20 [00:27<00:02,  1.48s/it]"
     ]
    },
    {
     "name": "stdout",
     "output_type": "stream",
     "text": [
      "la_009.nii.gz Dice list by number of clicks (left atrium): [0.054, 0.0152, 0.0783, 0.2331, 0.2984]\n"
     ]
    },
    {
     "name": "stderr",
     "output_type": "stream",
     "text": [
      " 95%|█████████▌| 19/20 [00:28<00:01,  1.48s/it]"
     ]
    },
    {
     "name": "stdout",
     "output_type": "stream",
     "text": [
      "la_026.nii.gz Dice list by number of clicks (left atrium): [0.4855, 0.5656, 0.5976, 0.6069, 0.6734]\n",
      "Save results to /home/t722s/Desktop/Sam-Med3DTest/NetworkHeartModified/eval_res_from_inference.json\n",
      "Done\n"
     ]
    },
    {
     "name": "stderr",
     "output_type": "stream",
     "text": [
      "100%|██████████| 20/20 [00:30<00:00,  1.52s/it]\n"
     ]
    },
    {
     "name": "stdout",
     "output_type": "stream",
     "text": [
      "set seed as 2020\n",
      "device: cuda\n"
     ]
    },
    {
     "name": "stderr",
     "output_type": "stream",
     "text": [
      "  0%|          | 0/20 [00:00<?, ?it/s]"
     ]
    },
    {
     "name": "stdout",
     "output_type": "stream",
     "text": [
      "la_014.nii.gz Dice list by number of clicks (left atrium): [0.3797, 0.4288, 0.4329, 0.5217, 0.4764]\n"
     ]
    },
    {
     "name": "stderr",
     "output_type": "stream",
     "text": [
      "  5%|▌         | 1/20 [00:01<00:34,  1.82s/it]"
     ]
    },
    {
     "name": "stdout",
     "output_type": "stream",
     "text": [
      "la_022.nii.gz Dice list by number of clicks (left atrium): [0.6674, 0.5585, 0.5803, 0.6093, 0.6106]\n"
     ]
    },
    {
     "name": "stderr",
     "output_type": "stream",
     "text": [
      " 10%|█         | 2/20 [00:03<00:29,  1.65s/it]"
     ]
    },
    {
     "name": "stdout",
     "output_type": "stream",
     "text": [
      "la_030.nii.gz Dice list by number of clicks (left atrium): [0.6717, 0.7187, 0.6903, 0.6209, 0.6289]\n"
     ]
    },
    {
     "name": "stderr",
     "output_type": "stream",
     "text": [
      " 15%|█▌        | 3/20 [00:04<00:27,  1.60s/it]"
     ]
    },
    {
     "name": "stdout",
     "output_type": "stream",
     "text": [
      "la_010.nii.gz Dice list by number of clicks (left atrium): [0.5927, 0.5555, 0.6574, 0.6641, 0.6802]\n"
     ]
    },
    {
     "name": "stderr",
     "output_type": "stream",
     "text": [
      " 20%|██        | 4/20 [00:06<00:25,  1.59s/it]"
     ]
    },
    {
     "name": "stdout",
     "output_type": "stream",
     "text": [
      "la_007.nii.gz Dice list by number of clicks (left atrium): [0.5282, 0.6185, 0.69, 0.7086, 0.7127]\n"
     ]
    },
    {
     "name": "stderr",
     "output_type": "stream",
     "text": [
      " 25%|██▌       | 5/20 [00:08<00:24,  1.60s/it]"
     ]
    },
    {
     "name": "stdout",
     "output_type": "stream",
     "text": [
      "la_023.nii.gz Dice list by number of clicks (left atrium): [0.6663, 0.6709, 0.7709, 0.7656, 0.7336]\n"
     ]
    },
    {
     "name": "stderr",
     "output_type": "stream",
     "text": [
      " 30%|███       | 6/20 [00:09<00:21,  1.57s/it]"
     ]
    },
    {
     "name": "stdout",
     "output_type": "stream",
     "text": [
      "la_017.nii.gz Dice list by number of clicks (left atrium): [0.6053, 0.6482, 0.6477, 0.6901, 0.6895]\n"
     ]
    },
    {
     "name": "stderr",
     "output_type": "stream",
     "text": [
      " 35%|███▌      | 7/20 [00:11<00:20,  1.57s/it]"
     ]
    },
    {
     "name": "stdout",
     "output_type": "stream",
     "text": [
      "la_016.nii.gz Dice list by number of clicks (left atrium): [0.6517, 0.6128, 0.6451, 0.6517, 0.625]\n"
     ]
    },
    {
     "name": "stderr",
     "output_type": "stream",
     "text": [
      " 40%|████      | 8/20 [00:12<00:17,  1.46s/it]"
     ]
    },
    {
     "name": "stdout",
     "output_type": "stream",
     "text": [
      "la_029.nii.gz Dice list by number of clicks (left atrium): [0.7221, 0.5785, 0.6167, 0.6416, 0.6925]\n"
     ]
    },
    {
     "name": "stderr",
     "output_type": "stream",
     "text": [
      " 45%|████▌     | 9/20 [00:13<00:15,  1.44s/it]"
     ]
    },
    {
     "name": "stdout",
     "output_type": "stream",
     "text": [
      "la_024.nii.gz Dice list by number of clicks (left atrium): [0.6656, 0.6165, 0.7042, 0.7115, 0.7197]\n"
     ]
    },
    {
     "name": "stderr",
     "output_type": "stream",
     "text": [
      " 50%|█████     | 10/20 [00:15<00:15,  1.51s/it]"
     ]
    },
    {
     "name": "stdout",
     "output_type": "stream",
     "text": [
      "la_020.nii.gz Dice list by number of clicks (left atrium): [0.5883, 0.5894, 0.5814, 0.558, 0.5918]\n"
     ]
    },
    {
     "name": "stderr",
     "output_type": "stream",
     "text": [
      " 55%|█████▌    | 11/20 [00:16<00:13,  1.47s/it]"
     ]
    },
    {
     "name": "stdout",
     "output_type": "stream",
     "text": [
      "la_003.nii.gz Dice list by number of clicks (left atrium): [0.6275, 0.5354, 0.5875, 0.5972, 0.5953]\n"
     ]
    },
    {
     "name": "stderr",
     "output_type": "stream",
     "text": [
      " 60%|██████    | 12/20 [00:18<00:12,  1.51s/it]"
     ]
    },
    {
     "name": "stdout",
     "output_type": "stream",
     "text": [
      "la_011.nii.gz Dice list by number of clicks (left atrium): [0.6973, 0.7086, 0.6727, 0.6698, 0.6587]\n"
     ]
    },
    {
     "name": "stderr",
     "output_type": "stream",
     "text": [
      " 65%|██████▌   | 13/20 [00:20<00:10,  1.54s/it]"
     ]
    },
    {
     "name": "stdout",
     "output_type": "stream",
     "text": [
      "la_005.nii.gz Dice list by number of clicks (left atrium): [0.3043, 0.4294, 0.567, 0.5539, 0.6026]\n"
     ]
    },
    {
     "name": "stderr",
     "output_type": "stream",
     "text": [
      " 70%|███████   | 14/20 [00:21<00:09,  1.54s/it]"
     ]
    },
    {
     "name": "stdout",
     "output_type": "stream",
     "text": [
      "la_018.nii.gz Dice list by number of clicks (left atrium): [0.6678, 0.6921, 0.6836, 0.6473, 0.6694]\n"
     ]
    },
    {
     "name": "stderr",
     "output_type": "stream",
     "text": [
      " 75%|███████▌  | 15/20 [00:23<00:07,  1.56s/it]"
     ]
    },
    {
     "name": "stdout",
     "output_type": "stream",
     "text": [
      "la_021.nii.gz Dice list by number of clicks (left atrium): [0.6493, 0.7205, 0.7481, 0.7377, 0.7281]\n"
     ]
    },
    {
     "name": "stderr",
     "output_type": "stream",
     "text": [
      " 80%|████████  | 16/20 [00:24<00:06,  1.51s/it]"
     ]
    },
    {
     "name": "stdout",
     "output_type": "stream",
     "text": [
      "la_019.nii.gz Dice list by number of clicks (left atrium): [0.6626, 0.6451, 0.6937, 0.7066, 0.6985]\n"
     ]
    },
    {
     "name": "stderr",
     "output_type": "stream",
     "text": [
      " 85%|████████▌ | 17/20 [00:26<00:04,  1.49s/it]"
     ]
    },
    {
     "name": "stdout",
     "output_type": "stream",
     "text": [
      "la_004.nii.gz Dice list by number of clicks (left atrium): [0.6171, 0.6471, 0.7275, 0.7463, 0.718]\n"
     ]
    },
    {
     "name": "stderr",
     "output_type": "stream",
     "text": [
      " 90%|█████████ | 18/20 [00:27<00:03,  1.51s/it]"
     ]
    },
    {
     "name": "stdout",
     "output_type": "stream",
     "text": [
      "la_009.nii.gz Dice list by number of clicks (left atrium): [0.6429, 0.642, 0.6439, 0.6274, 0.5954]\n"
     ]
    },
    {
     "name": "stderr",
     "output_type": "stream",
     "text": [
      " 95%|█████████▌| 19/20 [00:28<00:01,  1.46s/it]"
     ]
    },
    {
     "name": "stdout",
     "output_type": "stream",
     "text": [
      "la_026.nii.gz Dice list by number of clicks (left atrium): [0.4522, 0.524, 0.5131, 0.4945, 0.6014]\n",
      "Save results to /home/t722s/Desktop/Sam-Med3DTest/NetworkHeartModified/eval_res_from_inference.json\n",
      "Done\n"
     ]
    },
    {
     "name": "stderr",
     "output_type": "stream",
     "text": [
      "100%|██████████| 20/20 [00:30<00:00,  1.53s/it]\n"
     ]
    },
    {
     "name": "stdout",
     "output_type": "stream",
     "text": [
      "set seed as 2020\n",
      "device: cuda\n"
     ]
    },
    {
     "name": "stderr",
     "output_type": "stream",
     "text": [
      "  0%|          | 0/20 [00:00<?, ?it/s]"
     ]
    },
    {
     "name": "stdout",
     "output_type": "stream",
     "text": [
      "la_014.nii.gz Dice list by number of clicks (left atrium): [0.628, 0.6247, 0.6778, 0.6965, 0.7091]\n"
     ]
    },
    {
     "name": "stderr",
     "output_type": "stream",
     "text": [
      "  5%|▌         | 1/20 [00:01<00:35,  1.89s/it]"
     ]
    },
    {
     "name": "stdout",
     "output_type": "stream",
     "text": [
      "la_022.nii.gz Dice list by number of clicks (left atrium): [0.3333, 0.5055, 0.5491, 0.6362, 0.6237]\n"
     ]
    },
    {
     "name": "stderr",
     "output_type": "stream",
     "text": [
      " 10%|█         | 2/20 [00:03<00:29,  1.62s/it]"
     ]
    },
    {
     "name": "stdout",
     "output_type": "stream",
     "text": [
      "la_030.nii.gz Dice list by number of clicks (left atrium): [0.6585, 0.6618, 0.6835, 0.682, 0.6817]\n"
     ]
    },
    {
     "name": "stderr",
     "output_type": "stream",
     "text": [
      " 15%|█▌        | 3/20 [00:04<00:26,  1.57s/it]"
     ]
    },
    {
     "name": "stdout",
     "output_type": "stream",
     "text": [
      "la_010.nii.gz Dice list by number of clicks (left atrium): [0.6364, 0.6143, 0.6547, 0.6513, 0.6648]\n"
     ]
    },
    {
     "name": "stderr",
     "output_type": "stream",
     "text": [
      " 20%|██        | 4/20 [00:06<00:24,  1.53s/it]"
     ]
    },
    {
     "name": "stdout",
     "output_type": "stream",
     "text": [
      "la_007.nii.gz Dice list by number of clicks (left atrium): [0.4515, 0.5967, 0.5808, 0.5762, 0.6969]\n"
     ]
    },
    {
     "name": "stderr",
     "output_type": "stream",
     "text": [
      " 25%|██▌       | 5/20 [00:08<00:23,  1.60s/it]"
     ]
    },
    {
     "name": "stdout",
     "output_type": "stream",
     "text": [
      "la_023.nii.gz Dice list by number of clicks (left atrium): [0.7665, 0.7047, 0.8079, 0.7857, 0.7776]\n"
     ]
    },
    {
     "name": "stderr",
     "output_type": "stream",
     "text": [
      " 30%|███       | 6/20 [00:09<00:21,  1.53s/it]"
     ]
    },
    {
     "name": "stdout",
     "output_type": "stream",
     "text": [
      "la_017.nii.gz Dice list by number of clicks (left atrium): [0.5682, 0.5448, 0.6058, 0.6086, 0.6232]\n"
     ]
    },
    {
     "name": "stderr",
     "output_type": "stream",
     "text": [
      " 35%|███▌      | 7/20 [00:10<00:19,  1.51s/it]"
     ]
    },
    {
     "name": "stdout",
     "output_type": "stream",
     "text": [
      "la_016.nii.gz Dice list by number of clicks (left atrium): [0.6477, 0.5916, 0.6603, 0.6699, 0.6753]\n"
     ]
    },
    {
     "name": "stderr",
     "output_type": "stream",
     "text": [
      " 40%|████      | 8/20 [00:12<00:17,  1.43s/it]"
     ]
    },
    {
     "name": "stdout",
     "output_type": "stream",
     "text": [
      "la_029.nii.gz Dice list by number of clicks (left atrium): [0.5624, 0.5274, 0.5615, 0.5674, 0.5777]\n"
     ]
    },
    {
     "name": "stderr",
     "output_type": "stream",
     "text": [
      " 45%|████▌     | 9/20 [00:13<00:16,  1.47s/it]"
     ]
    },
    {
     "name": "stdout",
     "output_type": "stream",
     "text": [
      "la_024.nii.gz Dice list by number of clicks (left atrium): [0.4931, 0.5278, 0.5122, 0.6093, 0.6127]\n"
     ]
    },
    {
     "name": "stderr",
     "output_type": "stream",
     "text": [
      " 50%|█████     | 10/20 [00:15<00:14,  1.47s/it]"
     ]
    },
    {
     "name": "stdout",
     "output_type": "stream",
     "text": [
      "la_020.nii.gz Dice list by number of clicks (left atrium): [0.5641, 0.6244, 0.6684, 0.6712, 0.6663]\n"
     ]
    },
    {
     "name": "stderr",
     "output_type": "stream",
     "text": [
      " 55%|█████▌    | 11/20 [00:16<00:13,  1.50s/it]"
     ]
    },
    {
     "name": "stdout",
     "output_type": "stream",
     "text": [
      "la_003.nii.gz Dice list by number of clicks (left atrium): [0.5236, 0.6211, 0.7057, 0.6964, 0.7254]\n"
     ]
    },
    {
     "name": "stderr",
     "output_type": "stream",
     "text": [
      " 60%|██████    | 12/20 [00:18<00:12,  1.52s/it]"
     ]
    },
    {
     "name": "stdout",
     "output_type": "stream",
     "text": [
      "la_011.nii.gz Dice list by number of clicks (left atrium): [0.5396, 0.5421, 0.5182, 0.5179, 0.5092]\n"
     ]
    },
    {
     "name": "stderr",
     "output_type": "stream",
     "text": [
      " 65%|██████▌   | 13/20 [00:19<00:10,  1.57s/it]"
     ]
    },
    {
     "name": "stdout",
     "output_type": "stream",
     "text": [
      "la_005.nii.gz Dice list by number of clicks (left atrium): [0.3307, 0.4795, 0.4586, 0.4492, 0.5374]\n"
     ]
    },
    {
     "name": "stderr",
     "output_type": "stream",
     "text": [
      " 70%|███████   | 14/20 [00:21<00:09,  1.55s/it]"
     ]
    },
    {
     "name": "stdout",
     "output_type": "stream",
     "text": [
      "la_018.nii.gz Dice list by number of clicks (left atrium): [0.5919, 0.635, 0.6366, 0.6529, 0.651]\n"
     ]
    },
    {
     "name": "stderr",
     "output_type": "stream",
     "text": [
      " 75%|███████▌  | 15/20 [00:23<00:07,  1.55s/it]"
     ]
    },
    {
     "name": "stdout",
     "output_type": "stream",
     "text": [
      "la_021.nii.gz Dice list by number of clicks (left atrium): [0.6681, 0.6957, 0.6914, 0.7226, 0.7183]\n"
     ]
    },
    {
     "name": "stderr",
     "output_type": "stream",
     "text": [
      " 80%|████████  | 16/20 [00:24<00:06,  1.52s/it]"
     ]
    },
    {
     "name": "stdout",
     "output_type": "stream",
     "text": [
      "la_019.nii.gz Dice list by number of clicks (left atrium): [0.5693, 0.4893, 0.5072, 0.4851, 0.4589]\n"
     ]
    },
    {
     "name": "stderr",
     "output_type": "stream",
     "text": [
      " 85%|████████▌ | 17/20 [00:25<00:04,  1.49s/it]"
     ]
    },
    {
     "name": "stdout",
     "output_type": "stream",
     "text": [
      "la_004.nii.gz Dice list by number of clicks (left atrium): [0.0417, 0.0505, 0.0418, 0.2584, 0.3802]\n"
     ]
    },
    {
     "name": "stderr",
     "output_type": "stream",
     "text": [
      " 90%|█████████ | 18/20 [00:27<00:03,  1.52s/it]"
     ]
    },
    {
     "name": "stdout",
     "output_type": "stream",
     "text": [
      "la_009.nii.gz Dice list by number of clicks (left atrium): [0.3312, 0.4856, 0.62, 0.6547, 0.6653]\n"
     ]
    },
    {
     "name": "stderr",
     "output_type": "stream",
     "text": [
      " 95%|█████████▌| 19/20 [00:28<00:01,  1.49s/it]"
     ]
    },
    {
     "name": "stdout",
     "output_type": "stream",
     "text": [
      "la_026.nii.gz Dice list by number of clicks (left atrium): [0.4892, 0.5085, 0.4358, 0.5158, 0.6219]\n",
      "Save results to /home/t722s/Desktop/Sam-Med3DTest/NetworkHeartModified/eval_res_from_inference.json\n",
      "Done\n"
     ]
    },
    {
     "name": "stderr",
     "output_type": "stream",
     "text": [
      "100%|██████████| 20/20 [00:30<00:00,  1.53s/it]\n"
     ]
    },
    {
     "name": "stdout",
     "output_type": "stream",
     "text": [
      "set seed as 2020\n",
      "device: cuda\n"
     ]
    },
    {
     "name": "stderr",
     "output_type": "stream",
     "text": [
      "  0%|          | 0/20 [00:00<?, ?it/s]"
     ]
    },
    {
     "name": "stdout",
     "output_type": "stream",
     "text": [
      "la_014.nii.gz Dice list by number of clicks (left atrium): [0.6423, 0.5545, 0.5637, 0.6215, 0.6598]\n"
     ]
    },
    {
     "name": "stderr",
     "output_type": "stream",
     "text": [
      "  5%|▌         | 1/20 [00:01<00:33,  1.78s/it]"
     ]
    },
    {
     "name": "stdout",
     "output_type": "stream",
     "text": [
      "la_022.nii.gz Dice list by number of clicks (left atrium): [0.7191, 0.5577, 0.5226, 0.5997, 0.6813]\n"
     ]
    },
    {
     "name": "stderr",
     "output_type": "stream",
     "text": [
      " 10%|█         | 2/20 [00:03<00:29,  1.64s/it]"
     ]
    },
    {
     "name": "stdout",
     "output_type": "stream",
     "text": [
      "la_030.nii.gz Dice list by number of clicks (left atrium): [0.6604, 0.6988, 0.7248, 0.7304, 0.736]\n"
     ]
    },
    {
     "name": "stderr",
     "output_type": "stream",
     "text": [
      " 15%|█▌        | 3/20 [00:04<00:26,  1.56s/it]"
     ]
    },
    {
     "name": "stdout",
     "output_type": "stream",
     "text": [
      "la_010.nii.gz Dice list by number of clicks (left atrium): [0.6633, 0.6562, 0.7131, 0.7806, 0.7842]\n"
     ]
    },
    {
     "name": "stderr",
     "output_type": "stream",
     "text": [
      " 20%|██        | 4/20 [00:06<00:24,  1.56s/it]"
     ]
    },
    {
     "name": "stdout",
     "output_type": "stream",
     "text": [
      "la_007.nii.gz Dice list by number of clicks (left atrium): [0.6059, 0.6835, 0.6661, 0.6417, 0.6586]\n"
     ]
    },
    {
     "name": "stderr",
     "output_type": "stream",
     "text": [
      " 25%|██▌       | 5/20 [00:07<00:23,  1.55s/it]"
     ]
    },
    {
     "name": "stdout",
     "output_type": "stream",
     "text": [
      "la_023.nii.gz Dice list by number of clicks (left atrium): [0.6834, 0.671, 0.6469, 0.7095, 0.6951]\n"
     ]
    },
    {
     "name": "stderr",
     "output_type": "stream",
     "text": [
      " 30%|███       | 6/20 [00:09<00:21,  1.51s/it]"
     ]
    },
    {
     "name": "stdout",
     "output_type": "stream",
     "text": [
      "la_017.nii.gz Dice list by number of clicks (left atrium): [0.6408, 0.6121, 0.5906, 0.5919, 0.6228]\n"
     ]
    },
    {
     "name": "stderr",
     "output_type": "stream",
     "text": [
      " 35%|███▌      | 7/20 [00:10<00:19,  1.53s/it]"
     ]
    },
    {
     "name": "stdout",
     "output_type": "stream",
     "text": [
      "la_016.nii.gz Dice list by number of clicks (left atrium): [0.6543, 0.5964, 0.6291, 0.5723, 0.5849]\n"
     ]
    },
    {
     "name": "stderr",
     "output_type": "stream",
     "text": [
      " 40%|████      | 8/20 [00:12<00:17,  1.43s/it]"
     ]
    },
    {
     "name": "stdout",
     "output_type": "stream",
     "text": [
      "la_029.nii.gz Dice list by number of clicks (left atrium): [0.7148, 0.6923, 0.684, 0.7036, 0.6357]\n"
     ]
    },
    {
     "name": "stderr",
     "output_type": "stream",
     "text": [
      " 45%|████▌     | 9/20 [00:13<00:16,  1.46s/it]"
     ]
    },
    {
     "name": "stdout",
     "output_type": "stream",
     "text": [
      "la_024.nii.gz Dice list by number of clicks (left atrium): [0.6172, 0.5998, 0.6447, 0.6562, 0.6528]\n"
     ]
    },
    {
     "name": "stderr",
     "output_type": "stream",
     "text": [
      " 50%|█████     | 10/20 [00:15<00:15,  1.50s/it]"
     ]
    },
    {
     "name": "stdout",
     "output_type": "stream",
     "text": [
      "la_020.nii.gz Dice list by number of clicks (left atrium): [0.621, 0.6497, 0.6284, 0.6555, 0.6523]\n"
     ]
    },
    {
     "name": "stderr",
     "output_type": "stream",
     "text": [
      " 55%|█████▌    | 11/20 [00:16<00:13,  1.52s/it]"
     ]
    },
    {
     "name": "stdout",
     "output_type": "stream",
     "text": [
      "la_003.nii.gz Dice list by number of clicks (left atrium): [0.521, 0.6203, 0.6439, 0.679, 0.699]\n"
     ]
    },
    {
     "name": "stderr",
     "output_type": "stream",
     "text": [
      " 60%|██████    | 12/20 [00:18<00:12,  1.54s/it]"
     ]
    },
    {
     "name": "stdout",
     "output_type": "stream",
     "text": [
      "la_011.nii.gz Dice list by number of clicks (left atrium): [0.5863, 0.5997, 0.6855, 0.676, 0.6781]\n"
     ]
    },
    {
     "name": "stderr",
     "output_type": "stream",
     "text": [
      " 65%|██████▌   | 13/20 [00:19<00:10,  1.56s/it]"
     ]
    },
    {
     "name": "stdout",
     "output_type": "stream",
     "text": [
      "la_005.nii.gz Dice list by number of clicks (left atrium): [0.4696, 0.469, 0.4622, 0.5728, 0.584]\n"
     ]
    },
    {
     "name": "stderr",
     "output_type": "stream",
     "text": [
      " 70%|███████   | 14/20 [00:21<00:09,  1.57s/it]"
     ]
    },
    {
     "name": "stdout",
     "output_type": "stream",
     "text": [
      "la_018.nii.gz Dice list by number of clicks (left atrium): [0.5906, 0.5936, 0.6245, 0.5004, 0.5048]\n"
     ]
    },
    {
     "name": "stderr",
     "output_type": "stream",
     "text": [
      " 75%|███████▌  | 15/20 [00:23<00:07,  1.58s/it]"
     ]
    },
    {
     "name": "stdout",
     "output_type": "stream",
     "text": [
      "la_021.nii.gz Dice list by number of clicks (left atrium): [0.7221, 0.7638, 0.7613, 0.7538, 0.7246]\n"
     ]
    },
    {
     "name": "stderr",
     "output_type": "stream",
     "text": [
      " 80%|████████  | 16/20 [00:24<00:06,  1.55s/it]"
     ]
    },
    {
     "name": "stdout",
     "output_type": "stream",
     "text": [
      "la_019.nii.gz Dice list by number of clicks (left atrium): [0.4587, 0.5147, 0.6041, 0.6342, 0.646]\n"
     ]
    },
    {
     "name": "stderr",
     "output_type": "stream",
     "text": [
      " 85%|████████▌ | 17/20 [00:26<00:04,  1.52s/it]"
     ]
    },
    {
     "name": "stdout",
     "output_type": "stream",
     "text": [
      "la_004.nii.gz Dice list by number of clicks (left atrium): [0.7277, 0.6386, 0.6459, 0.6212, 0.6081]\n"
     ]
    },
    {
     "name": "stderr",
     "output_type": "stream",
     "text": [
      " 90%|█████████ | 18/20 [00:27<00:03,  1.52s/it]"
     ]
    },
    {
     "name": "stdout",
     "output_type": "stream",
     "text": [
      "la_009.nii.gz Dice list by number of clicks (left atrium): [0.6255, 0.649, 0.6928, 0.6092, 0.6104]\n"
     ]
    },
    {
     "name": "stderr",
     "output_type": "stream",
     "text": [
      " 95%|█████████▌| 19/20 [00:29<00:01,  1.51s/it]"
     ]
    },
    {
     "name": "stdout",
     "output_type": "stream",
     "text": [
      "la_026.nii.gz Dice list by number of clicks (left atrium): [0.5505, 0.576, 0.5724, 0.4721, 0.6458]\n",
      "Save results to /home/t722s/Desktop/Sam-Med3DTest/NetworkHeartModified/eval_res_from_inference.json\n",
      "Done\n"
     ]
    },
    {
     "name": "stderr",
     "output_type": "stream",
     "text": [
      "100%|██████████| 20/20 [00:30<00:00,  1.53s/it]\n"
     ]
    },
    {
     "name": "stdout",
     "output_type": "stream",
     "text": [
      "set seed as 2020\n",
      "device: cuda\n"
     ]
    },
    {
     "name": "stderr",
     "output_type": "stream",
     "text": [
      "  0%|          | 0/20 [00:00<?, ?it/s]"
     ]
    },
    {
     "name": "stdout",
     "output_type": "stream",
     "text": [
      "la_014.nii.gz Dice list by number of clicks (left atrium): [0.5043, 0.6048, 0.5626, 0.5159, 0.5737]\n"
     ]
    },
    {
     "name": "stderr",
     "output_type": "stream",
     "text": [
      "  5%|▌         | 1/20 [00:01<00:35,  1.85s/it]"
     ]
    },
    {
     "name": "stdout",
     "output_type": "stream",
     "text": [
      "la_022.nii.gz Dice list by number of clicks (left atrium): [0.6182, 0.6462, 0.6621, 0.6913, 0.6861]\n"
     ]
    },
    {
     "name": "stderr",
     "output_type": "stream",
     "text": [
      " 10%|█         | 2/20 [00:03<00:29,  1.63s/it]"
     ]
    },
    {
     "name": "stdout",
     "output_type": "stream",
     "text": [
      "la_030.nii.gz Dice list by number of clicks (left atrium): [0.6408, 0.4459, 0.6781, 0.6298, 0.5911]\n"
     ]
    },
    {
     "name": "stderr",
     "output_type": "stream",
     "text": [
      " 15%|█▌        | 3/20 [00:04<00:26,  1.54s/it]"
     ]
    },
    {
     "name": "stdout",
     "output_type": "stream",
     "text": [
      "la_010.nii.gz Dice list by number of clicks (left atrium): [0.4319, 0.3817, 0.6255, 0.6038, 0.5954]\n"
     ]
    },
    {
     "name": "stderr",
     "output_type": "stream",
     "text": [
      " 20%|██        | 4/20 [00:06<00:25,  1.57s/it]"
     ]
    },
    {
     "name": "stdout",
     "output_type": "stream",
     "text": [
      "la_007.nii.gz Dice list by number of clicks (left atrium): [0.4913, 0.6892, 0.6903, 0.6911, 0.6694]\n"
     ]
    },
    {
     "name": "stderr",
     "output_type": "stream",
     "text": [
      " 25%|██▌       | 5/20 [00:07<00:23,  1.59s/it]"
     ]
    },
    {
     "name": "stdout",
     "output_type": "stream",
     "text": [
      "la_023.nii.gz Dice list by number of clicks (left atrium): [0.7131, 0.7211, 0.7337, 0.7135, 0.7076]\n"
     ]
    },
    {
     "name": "stderr",
     "output_type": "stream",
     "text": [
      " 30%|███       | 6/20 [00:09<00:21,  1.54s/it]"
     ]
    },
    {
     "name": "stdout",
     "output_type": "stream",
     "text": [
      "la_017.nii.gz Dice list by number of clicks (left atrium): [0.514, 0.4558, 0.688, 0.6454, 0.6393]\n"
     ]
    },
    {
     "name": "stderr",
     "output_type": "stream",
     "text": [
      " 35%|███▌      | 7/20 [00:11<00:20,  1.56s/it]"
     ]
    },
    {
     "name": "stdout",
     "output_type": "stream",
     "text": [
      "la_016.nii.gz Dice list by number of clicks (left atrium): [0.2083, 0.4576, 0.6171, 0.6605, 0.6531]\n"
     ]
    },
    {
     "name": "stderr",
     "output_type": "stream",
     "text": [
      " 40%|████      | 8/20 [00:12<00:17,  1.45s/it]"
     ]
    },
    {
     "name": "stdout",
     "output_type": "stream",
     "text": [
      "la_029.nii.gz Dice list by number of clicks (left atrium): [0.5786, 0.5725, 0.5312, 0.538, 0.5647]\n"
     ]
    },
    {
     "name": "stderr",
     "output_type": "stream",
     "text": [
      " 45%|████▌     | 9/20 [00:13<00:16,  1.46s/it]"
     ]
    },
    {
     "name": "stdout",
     "output_type": "stream",
     "text": [
      "la_024.nii.gz Dice list by number of clicks (left atrium): [0.6681, 0.5867, 0.586, 0.5888, 0.5883]\n"
     ]
    },
    {
     "name": "stderr",
     "output_type": "stream",
     "text": [
      " 50%|█████     | 10/20 [00:15<00:14,  1.48s/it]"
     ]
    },
    {
     "name": "stdout",
     "output_type": "stream",
     "text": [
      "la_020.nii.gz Dice list by number of clicks (left atrium): [0.612, 0.608, 0.6203, 0.6245, 0.6269]\n"
     ]
    },
    {
     "name": "stderr",
     "output_type": "stream",
     "text": [
      " 55%|█████▌    | 11/20 [00:16<00:13,  1.47s/it]"
     ]
    },
    {
     "name": "stdout",
     "output_type": "stream",
     "text": [
      "la_003.nii.gz Dice list by number of clicks (left atrium): [0.6404, 0.6942, 0.6812, 0.6588, 0.6336]\n"
     ]
    },
    {
     "name": "stderr",
     "output_type": "stream",
     "text": [
      " 60%|██████    | 12/20 [00:18<00:11,  1.50s/it]"
     ]
    },
    {
     "name": "stdout",
     "output_type": "stream",
     "text": [
      "la_011.nii.gz Dice list by number of clicks (left atrium): [0.6704, 0.6821, 0.7201, 0.7244, 0.7337]\n"
     ]
    },
    {
     "name": "stderr",
     "output_type": "stream",
     "text": [
      " 65%|██████▌   | 13/20 [00:19<00:10,  1.52s/it]"
     ]
    },
    {
     "name": "stdout",
     "output_type": "stream",
     "text": [
      "la_005.nii.gz Dice list by number of clicks (left atrium): [0.5572, 0.5749, 0.657, 0.6678, 0.7132]\n"
     ]
    },
    {
     "name": "stderr",
     "output_type": "stream",
     "text": [
      " 70%|███████   | 14/20 [00:21<00:09,  1.53s/it]"
     ]
    },
    {
     "name": "stdout",
     "output_type": "stream",
     "text": [
      "la_018.nii.gz Dice list by number of clicks (left atrium): [0.6109, 0.6376, 0.6436, 0.6395, 0.6494]\n"
     ]
    },
    {
     "name": "stderr",
     "output_type": "stream",
     "text": [
      " 75%|███████▌  | 15/20 [00:22<00:07,  1.53s/it]"
     ]
    },
    {
     "name": "stdout",
     "output_type": "stream",
     "text": [
      "la_021.nii.gz Dice list by number of clicks (left atrium): [0.7423, 0.6813, 0.715, 0.7866, 0.7834]\n"
     ]
    },
    {
     "name": "stderr",
     "output_type": "stream",
     "text": [
      " 80%|████████  | 16/20 [00:24<00:05,  1.49s/it]"
     ]
    },
    {
     "name": "stdout",
     "output_type": "stream",
     "text": [
      "la_019.nii.gz Dice list by number of clicks (left atrium): [0.6192, 0.6024, 0.6283, 0.6684, 0.7026]\n"
     ]
    },
    {
     "name": "stderr",
     "output_type": "stream",
     "text": [
      " 85%|████████▌ | 17/20 [00:25<00:04,  1.47s/it]"
     ]
    },
    {
     "name": "stdout",
     "output_type": "stream",
     "text": [
      "la_004.nii.gz Dice list by number of clicks (left atrium): [0.5794, 0.5738, 0.5724, 0.5995, 0.6366]\n"
     ]
    },
    {
     "name": "stderr",
     "output_type": "stream",
     "text": [
      " 90%|█████████ | 18/20 [00:27<00:02,  1.47s/it]"
     ]
    },
    {
     "name": "stdout",
     "output_type": "stream",
     "text": [
      "la_009.nii.gz Dice list by number of clicks (left atrium): [0.6395, 0.657, 0.6555, 0.663, 0.6677]\n"
     ]
    },
    {
     "name": "stderr",
     "output_type": "stream",
     "text": [
      " 95%|█████████▌| 19/20 [00:28<00:01,  1.46s/it]"
     ]
    },
    {
     "name": "stdout",
     "output_type": "stream",
     "text": [
      "la_026.nii.gz Dice list by number of clicks (left atrium): [0.4052, 0.3453, 0.5125, 0.5841, 0.5831]\n",
      "Save results to /home/t722s/Desktop/Sam-Med3DTest/NetworkHeartModified/eval_res_from_inference.json\n",
      "Done\n"
     ]
    },
    {
     "name": "stderr",
     "output_type": "stream",
     "text": [
      "100%|██████████| 20/20 [00:30<00:00,  1.51s/it]\n"
     ]
    },
    {
     "name": "stdout",
     "output_type": "stream",
     "text": [
      "set seed as 2020\n",
      "device: cuda\n"
     ]
    },
    {
     "name": "stderr",
     "output_type": "stream",
     "text": [
      "  0%|          | 0/20 [00:00<?, ?it/s]"
     ]
    },
    {
     "name": "stdout",
     "output_type": "stream",
     "text": [
      "la_014.nii.gz Dice list by number of clicks (left atrium): [0.5705, 0.6852, 0.6422, 0.6549, 0.6454]\n"
     ]
    },
    {
     "name": "stderr",
     "output_type": "stream",
     "text": [
      "  5%|▌         | 1/20 [00:01<00:35,  1.84s/it]"
     ]
    },
    {
     "name": "stdout",
     "output_type": "stream",
     "text": [
      "la_022.nii.gz Dice list by number of clicks (left atrium): [0.6671, 0.6812, 0.6566, 0.6713, 0.6845]\n"
     ]
    },
    {
     "name": "stderr",
     "output_type": "stream",
     "text": [
      " 10%|█         | 2/20 [00:03<00:29,  1.63s/it]"
     ]
    },
    {
     "name": "stdout",
     "output_type": "stream",
     "text": [
      "la_030.nii.gz Dice list by number of clicks (left atrium): [0.3562, 0.5628, 0.5761, 0.6948, 0.6724]\n"
     ]
    },
    {
     "name": "stderr",
     "output_type": "stream",
     "text": [
      " 15%|█▌        | 3/20 [00:04<00:27,  1.59s/it]"
     ]
    },
    {
     "name": "stdout",
     "output_type": "stream",
     "text": [
      "la_010.nii.gz Dice list by number of clicks (left atrium): [0.6425, 0.598, 0.6752, 0.6831, 0.6641]\n"
     ]
    },
    {
     "name": "stderr",
     "output_type": "stream",
     "text": [
      " 20%|██        | 4/20 [00:06<00:24,  1.55s/it]"
     ]
    },
    {
     "name": "stdout",
     "output_type": "stream",
     "text": [
      "la_007.nii.gz Dice list by number of clicks (left atrium): [0.5843, 0.5119, 0.6895, 0.6955, 0.6726]\n"
     ]
    },
    {
     "name": "stderr",
     "output_type": "stream",
     "text": [
      " 25%|██▌       | 5/20 [00:07<00:23,  1.56s/it]"
     ]
    },
    {
     "name": "stdout",
     "output_type": "stream",
     "text": [
      "la_023.nii.gz Dice list by number of clicks (left atrium): [0.6184, 0.5713, 0.7132, 0.7446, 0.7588]\n"
     ]
    },
    {
     "name": "stderr",
     "output_type": "stream",
     "text": [
      " 30%|███       | 6/20 [00:09<00:21,  1.56s/it]"
     ]
    },
    {
     "name": "stdout",
     "output_type": "stream",
     "text": [
      "la_017.nii.gz Dice list by number of clicks (left atrium): [0.6518, 0.6684, 0.6626, 0.6904, 0.6872]\n"
     ]
    },
    {
     "name": "stderr",
     "output_type": "stream",
     "text": [
      " 35%|███▌      | 7/20 [00:11<00:20,  1.55s/it]"
     ]
    },
    {
     "name": "stdout",
     "output_type": "stream",
     "text": [
      "la_016.nii.gz Dice list by number of clicks (left atrium): [0.6251, 0.6374, 0.6537, 0.6689, 0.7596]\n"
     ]
    },
    {
     "name": "stderr",
     "output_type": "stream",
     "text": [
      " 40%|████      | 8/20 [00:12<00:17,  1.45s/it]"
     ]
    },
    {
     "name": "stdout",
     "output_type": "stream",
     "text": [
      "la_029.nii.gz Dice list by number of clicks (left atrium): [0.5127, 0.5477, 0.5934, 0.6197, 0.635]\n"
     ]
    },
    {
     "name": "stderr",
     "output_type": "stream",
     "text": [
      " 45%|████▌     | 9/20 [00:13<00:16,  1.46s/it]"
     ]
    },
    {
     "name": "stdout",
     "output_type": "stream",
     "text": [
      "la_024.nii.gz Dice list by number of clicks (left atrium): [0.6592, 0.6939, 0.6936, 0.687, 0.6979]\n"
     ]
    },
    {
     "name": "stderr",
     "output_type": "stream",
     "text": [
      " 50%|█████     | 10/20 [00:15<00:14,  1.50s/it]"
     ]
    },
    {
     "name": "stdout",
     "output_type": "stream",
     "text": [
      "la_020.nii.gz Dice list by number of clicks (left atrium): [0.5615, 0.5339, 0.5776, 0.5924, 0.607]\n"
     ]
    },
    {
     "name": "stderr",
     "output_type": "stream",
     "text": [
      " 55%|█████▌    | 11/20 [00:16<00:13,  1.54s/it]"
     ]
    },
    {
     "name": "stdout",
     "output_type": "stream",
     "text": [
      "la_003.nii.gz Dice list by number of clicks (left atrium): [0.6528, 0.6358, 0.5557, 0.5435, 0.5633]\n"
     ]
    },
    {
     "name": "stderr",
     "output_type": "stream",
     "text": [
      " 60%|██████    | 12/20 [00:18<00:12,  1.57s/it]"
     ]
    },
    {
     "name": "stdout",
     "output_type": "stream",
     "text": [
      "la_011.nii.gz Dice list by number of clicks (left atrium): [0.6402, 0.6941, 0.6951, 0.6549, 0.6322]\n"
     ]
    },
    {
     "name": "stderr",
     "output_type": "stream",
     "text": [
      " 65%|██████▌   | 13/20 [00:20<00:10,  1.56s/it]"
     ]
    },
    {
     "name": "stdout",
     "output_type": "stream",
     "text": [
      "la_005.nii.gz Dice list by number of clicks (left atrium): [0.2776, 0.2806, 0.3766, 0.3873, 0.3605]\n"
     ]
    },
    {
     "name": "stderr",
     "output_type": "stream",
     "text": [
      " 70%|███████   | 14/20 [00:21<00:09,  1.54s/it]"
     ]
    },
    {
     "name": "stdout",
     "output_type": "stream",
     "text": [
      "la_018.nii.gz Dice list by number of clicks (left atrium): [0.5984, 0.5585, 0.6184, 0.5924, 0.6075]\n"
     ]
    },
    {
     "name": "stderr",
     "output_type": "stream",
     "text": [
      " 75%|███████▌  | 15/20 [00:23<00:07,  1.56s/it]"
     ]
    },
    {
     "name": "stdout",
     "output_type": "stream",
     "text": [
      "la_021.nii.gz Dice list by number of clicks (left atrium): [0.5454, 0.6604, 0.7, 0.7214, 0.7186]\n"
     ]
    },
    {
     "name": "stderr",
     "output_type": "stream",
     "text": [
      " 80%|████████  | 16/20 [00:24<00:06,  1.51s/it]"
     ]
    },
    {
     "name": "stdout",
     "output_type": "stream",
     "text": [
      "la_019.nii.gz Dice list by number of clicks (left atrium): [0.5651, 0.5965, 0.5975, 0.6145, 0.6396]\n"
     ]
    },
    {
     "name": "stderr",
     "output_type": "stream",
     "text": [
      " 85%|████████▌ | 17/20 [00:26<00:04,  1.50s/it]"
     ]
    },
    {
     "name": "stdout",
     "output_type": "stream",
     "text": [
      "la_004.nii.gz Dice list by number of clicks (left atrium): [0.7022, 0.6422, 0.6451, 0.5854, 0.5671]\n"
     ]
    },
    {
     "name": "stderr",
     "output_type": "stream",
     "text": [
      " 90%|█████████ | 18/20 [00:27<00:02,  1.47s/it]"
     ]
    },
    {
     "name": "stdout",
     "output_type": "stream",
     "text": [
      "la_009.nii.gz Dice list by number of clicks (left atrium): [0.6488, 0.5232, 0.5999, 0.6243, 0.6071]\n"
     ]
    },
    {
     "name": "stderr",
     "output_type": "stream",
     "text": [
      " 95%|█████████▌| 19/20 [00:28<00:01,  1.46s/it]"
     ]
    },
    {
     "name": "stdout",
     "output_type": "stream",
     "text": [
      "la_026.nii.gz Dice list by number of clicks (left atrium): [0.5306, 0.5733, 0.6152, 0.6278, 0.6593]\n",
      "Save results to /home/t722s/Desktop/Sam-Med3DTest/NetworkHeartModified/eval_res_from_inference.json\n",
      "Done\n"
     ]
    },
    {
     "name": "stderr",
     "output_type": "stream",
     "text": [
      "100%|██████████| 20/20 [00:30<00:00,  1.53s/it]\n"
     ]
    },
    {
     "name": "stdout",
     "output_type": "stream",
     "text": [
      "set seed as 2020\n",
      "device: cuda\n"
     ]
    },
    {
     "name": "stderr",
     "output_type": "stream",
     "text": [
      "  0%|          | 0/20 [00:00<?, ?it/s]"
     ]
    },
    {
     "name": "stdout",
     "output_type": "stream",
     "text": [
      "la_014.nii.gz Dice list by number of clicks (left atrium): [0.665, 0.6639, 0.6688, 0.6878, 0.7056]\n"
     ]
    },
    {
     "name": "stderr",
     "output_type": "stream",
     "text": [
      "  5%|▌         | 1/20 [00:01<00:34,  1.82s/it]"
     ]
    },
    {
     "name": "stdout",
     "output_type": "stream",
     "text": [
      "la_022.nii.gz Dice list by number of clicks (left atrium): [0.6442, 0.6543, 0.6727, 0.6879, 0.6695]\n"
     ]
    },
    {
     "name": "stderr",
     "output_type": "stream",
     "text": [
      " 10%|█         | 2/20 [00:03<00:28,  1.57s/it]"
     ]
    },
    {
     "name": "stdout",
     "output_type": "stream",
     "text": [
      "la_030.nii.gz Dice list by number of clicks (left atrium): [0.7231, 0.6934, 0.6524, 0.7683, 0.7688]\n"
     ]
    },
    {
     "name": "stderr",
     "output_type": "stream",
     "text": [
      " 15%|█▌        | 3/20 [00:04<00:26,  1.53s/it]"
     ]
    },
    {
     "name": "stdout",
     "output_type": "stream",
     "text": [
      "la_010.nii.gz Dice list by number of clicks (left atrium): [0.6683, 0.692, 0.7406, 0.7634, 0.7406]\n"
     ]
    },
    {
     "name": "stderr",
     "output_type": "stream",
     "text": [
      " 20%|██        | 4/20 [00:06<00:24,  1.54s/it]"
     ]
    },
    {
     "name": "stdout",
     "output_type": "stream",
     "text": [
      "la_007.nii.gz Dice list by number of clicks (left atrium): [0.5297, 0.5449, 0.5572, 0.5494, 0.5886]\n"
     ]
    },
    {
     "name": "stderr",
     "output_type": "stream",
     "text": [
      " 25%|██▌       | 5/20 [00:07<00:23,  1.59s/it]"
     ]
    },
    {
     "name": "stdout",
     "output_type": "stream",
     "text": [
      "la_023.nii.gz Dice list by number of clicks (left atrium): [0.5512, 0.739, 0.723, 0.7026, 0.7415]\n"
     ]
    },
    {
     "name": "stderr",
     "output_type": "stream",
     "text": [
      " 30%|███       | 6/20 [00:09<00:21,  1.53s/it]"
     ]
    },
    {
     "name": "stdout",
     "output_type": "stream",
     "text": [
      "la_017.nii.gz Dice list by number of clicks (left atrium): [0.6914, 0.6884, 0.7095, 0.7258, 0.7214]\n"
     ]
    },
    {
     "name": "stderr",
     "output_type": "stream",
     "text": [
      " 35%|███▌      | 7/20 [00:10<00:20,  1.54s/it]"
     ]
    },
    {
     "name": "stdout",
     "output_type": "stream",
     "text": [
      "la_016.nii.gz Dice list by number of clicks (left atrium): [0.6773, 0.6673, 0.6896, 0.6972, 0.7029]\n"
     ]
    },
    {
     "name": "stderr",
     "output_type": "stream",
     "text": [
      " 40%|████      | 8/20 [00:12<00:17,  1.44s/it]"
     ]
    },
    {
     "name": "stdout",
     "output_type": "stream",
     "text": [
      "la_029.nii.gz Dice list by number of clicks (left atrium): [0.6131, 0.6572, 0.6614, 0.6636, 0.6714]\n"
     ]
    },
    {
     "name": "stderr",
     "output_type": "stream",
     "text": [
      " 45%|████▌     | 9/20 [00:13<00:15,  1.42s/it]"
     ]
    },
    {
     "name": "stdout",
     "output_type": "stream",
     "text": [
      "la_024.nii.gz Dice list by number of clicks (left atrium): [0.6269, 0.6421, 0.696, 0.7236, 0.7068]\n"
     ]
    },
    {
     "name": "stderr",
     "output_type": "stream",
     "text": [
      " 50%|█████     | 10/20 [00:15<00:14,  1.46s/it]"
     ]
    },
    {
     "name": "stdout",
     "output_type": "stream",
     "text": [
      "la_020.nii.gz Dice list by number of clicks (left atrium): [0.6425, 0.5804, 0.5877, 0.6322, 0.533]\n"
     ]
    },
    {
     "name": "stderr",
     "output_type": "stream",
     "text": [
      " 55%|█████▌    | 11/20 [00:16<00:13,  1.48s/it]"
     ]
    },
    {
     "name": "stdout",
     "output_type": "stream",
     "text": [
      "la_003.nii.gz Dice list by number of clicks (left atrium): [0.5711, 0.5865, 0.6568, 0.6731, 0.6786]\n"
     ]
    },
    {
     "name": "stderr",
     "output_type": "stream",
     "text": [
      " 60%|██████    | 12/20 [00:18<00:12,  1.51s/it]"
     ]
    },
    {
     "name": "stdout",
     "output_type": "stream",
     "text": [
      "la_011.nii.gz Dice list by number of clicks (left atrium): [0.6399, 0.6548, 0.6965, 0.6971, 0.6958]\n"
     ]
    },
    {
     "name": "stderr",
     "output_type": "stream",
     "text": [
      " 65%|██████▌   | 13/20 [00:19<00:10,  1.53s/it]"
     ]
    },
    {
     "name": "stdout",
     "output_type": "stream",
     "text": [
      "la_005.nii.gz Dice list by number of clicks (left atrium): [0.3171, 0.3297, 0.3101, 0.4739, 0.5128]\n"
     ]
    },
    {
     "name": "stderr",
     "output_type": "stream",
     "text": [
      " 70%|███████   | 14/20 [00:21<00:09,  1.55s/it]"
     ]
    },
    {
     "name": "stdout",
     "output_type": "stream",
     "text": [
      "la_018.nii.gz Dice list by number of clicks (left atrium): [0.6003, 0.5915, 0.6261, 0.6392, 0.6402]\n"
     ]
    },
    {
     "name": "stderr",
     "output_type": "stream",
     "text": [
      " 75%|███████▌  | 15/20 [00:22<00:07,  1.57s/it]"
     ]
    },
    {
     "name": "stdout",
     "output_type": "stream",
     "text": [
      "la_021.nii.gz Dice list by number of clicks (left atrium): [0.7085, 0.6727, 0.7024, 0.7336, 0.7101]\n"
     ]
    },
    {
     "name": "stderr",
     "output_type": "stream",
     "text": [
      " 80%|████████  | 16/20 [00:24<00:06,  1.54s/it]"
     ]
    },
    {
     "name": "stdout",
     "output_type": "stream",
     "text": [
      "la_019.nii.gz Dice list by number of clicks (left atrium): [0.6317, 0.6613, 0.6616, 0.6463, 0.7168]\n"
     ]
    },
    {
     "name": "stderr",
     "output_type": "stream",
     "text": [
      " 85%|████████▌ | 17/20 [00:25<00:04,  1.49s/it]"
     ]
    },
    {
     "name": "stdout",
     "output_type": "stream",
     "text": [
      "la_004.nii.gz Dice list by number of clicks (left atrium): [0.698, 0.6377, 0.6552, 0.6643, 0.685]\n"
     ]
    },
    {
     "name": "stderr",
     "output_type": "stream",
     "text": [
      " 90%|█████████ | 18/20 [00:27<00:02,  1.48s/it]"
     ]
    },
    {
     "name": "stdout",
     "output_type": "stream",
     "text": [
      "la_009.nii.gz Dice list by number of clicks (left atrium): [0.3256, 0.557, 0.6525, 0.6599, 0.6586]\n"
     ]
    },
    {
     "name": "stderr",
     "output_type": "stream",
     "text": [
      " 95%|█████████▌| 19/20 [00:28<00:01,  1.49s/it]"
     ]
    },
    {
     "name": "stdout",
     "output_type": "stream",
     "text": [
      "la_026.nii.gz Dice list by number of clicks (left atrium): [0.4617, 0.5816, 0.5708, 0.5108, 0.4803]\n",
      "Save results to /home/t722s/Desktop/Sam-Med3DTest/NetworkHeartModified/eval_res_from_inference.json\n",
      "Done\n"
     ]
    },
    {
     "name": "stderr",
     "output_type": "stream",
     "text": [
      "100%|██████████| 20/20 [00:30<00:00,  1.51s/it]\n"
     ]
    },
    {
     "name": "stdout",
     "output_type": "stream",
     "text": [
      "set seed as 2020\n",
      "device: cuda\n"
     ]
    },
    {
     "name": "stderr",
     "output_type": "stream",
     "text": [
      "  0%|          | 0/20 [00:00<?, ?it/s]"
     ]
    },
    {
     "name": "stdout",
     "output_type": "stream",
     "text": [
      "la_014.nii.gz Dice list by number of clicks (left atrium): [0.6037, 0.6873, 0.6696, 0.6986, 0.7186]\n"
     ]
    },
    {
     "name": "stderr",
     "output_type": "stream",
     "text": [
      "  5%|▌         | 1/20 [00:01<00:34,  1.81s/it]"
     ]
    },
    {
     "name": "stdout",
     "output_type": "stream",
     "text": [
      "la_022.nii.gz Dice list by number of clicks (left atrium): [0.6216, 0.6136, 0.6387, 0.7023, 0.7033]\n"
     ]
    },
    {
     "name": "stderr",
     "output_type": "stream",
     "text": [
      " 10%|█         | 2/20 [00:03<00:29,  1.62s/it]"
     ]
    },
    {
     "name": "stdout",
     "output_type": "stream",
     "text": [
      "la_030.nii.gz Dice list by number of clicks (left atrium): [0.7021, 0.7112, 0.7252, 0.7236, 0.7213]\n"
     ]
    },
    {
     "name": "stderr",
     "output_type": "stream",
     "text": [
      " 15%|█▌        | 3/20 [00:04<00:26,  1.58s/it]"
     ]
    },
    {
     "name": "stdout",
     "output_type": "stream",
     "text": [
      "la_010.nii.gz Dice list by number of clicks (left atrium): [0.7105, 0.5987, 0.5914, 0.6282, 0.5485]\n"
     ]
    },
    {
     "name": "stderr",
     "output_type": "stream",
     "text": [
      " 20%|██        | 4/20 [00:06<00:25,  1.60s/it]"
     ]
    },
    {
     "name": "stdout",
     "output_type": "stream",
     "text": [
      "la_007.nii.gz Dice list by number of clicks (left atrium): [0.5516, 0.5921, 0.5578, 0.6029, 0.602]\n"
     ]
    },
    {
     "name": "stderr",
     "output_type": "stream",
     "text": [
      " 25%|██▌       | 5/20 [00:08<00:24,  1.61s/it]"
     ]
    },
    {
     "name": "stdout",
     "output_type": "stream",
     "text": [
      "la_023.nii.gz Dice list by number of clicks (left atrium): [0.6798, 0.7328, 0.7383, 0.7474, 0.7514]\n"
     ]
    },
    {
     "name": "stderr",
     "output_type": "stream",
     "text": [
      " 30%|███       | 6/20 [00:09<00:21,  1.54s/it]"
     ]
    },
    {
     "name": "stdout",
     "output_type": "stream",
     "text": [
      "la_017.nii.gz Dice list by number of clicks (left atrium): [0.6401, 0.6132, 0.6077, 0.5963, 0.6318]\n"
     ]
    },
    {
     "name": "stderr",
     "output_type": "stream",
     "text": [
      " 35%|███▌      | 7/20 [00:11<00:20,  1.56s/it]"
     ]
    },
    {
     "name": "stdout",
     "output_type": "stream",
     "text": [
      "la_016.nii.gz Dice list by number of clicks (left atrium): [0.5493, 0.4569, 0.4469, 0.4781, 0.4861]\n"
     ]
    },
    {
     "name": "stderr",
     "output_type": "stream",
     "text": [
      " 45%|████▌     | 9/20 [00:13<00:16,  1.46s/it]"
     ]
    },
    {
     "name": "stdout",
     "output_type": "stream",
     "text": [
      "la_029.nii.gz Dice list by number of clicks (left atrium): [0.6723, 0.6484, 0.66, 0.6287, 0.6524]\n",
      "la_024.nii.gz Dice list by number of clicks (left atrium): [0.5327, 0.578, 0.6074, 0.6566, 0.6697]\n"
     ]
    },
    {
     "name": "stderr",
     "output_type": "stream",
     "text": [
      " 50%|█████     | 10/20 [00:15<00:14,  1.49s/it]"
     ]
    },
    {
     "name": "stdout",
     "output_type": "stream",
     "text": [
      "la_020.nii.gz Dice list by number of clicks (left atrium): [0.6586, 0.6342, 0.6516, 0.6772, 0.6781]\n"
     ]
    },
    {
     "name": "stderr",
     "output_type": "stream",
     "text": [
      " 55%|█████▌    | 11/20 [00:16<00:13,  1.47s/it]"
     ]
    },
    {
     "name": "stdout",
     "output_type": "stream",
     "text": [
      "la_003.nii.gz Dice list by number of clicks (left atrium): [0.453, 0.6078, 0.6632, 0.6227, 0.656]\n"
     ]
    },
    {
     "name": "stderr",
     "output_type": "stream",
     "text": [
      " 60%|██████    | 12/20 [00:18<00:12,  1.54s/it]"
     ]
    },
    {
     "name": "stdout",
     "output_type": "stream",
     "text": [
      "la_011.nii.gz Dice list by number of clicks (left atrium): [0.5241, 0.5679, 0.6373, 0.6352, 0.6526]\n"
     ]
    },
    {
     "name": "stderr",
     "output_type": "stream",
     "text": [
      " 65%|██████▌   | 13/20 [00:19<00:10,  1.53s/it]"
     ]
    },
    {
     "name": "stdout",
     "output_type": "stream",
     "text": [
      "la_005.nii.gz Dice list by number of clicks (left atrium): [0.5391, 0.5273, 0.5421, 0.6834, 0.6811]\n"
     ]
    },
    {
     "name": "stderr",
     "output_type": "stream",
     "text": [
      " 70%|███████   | 14/20 [00:21<00:09,  1.54s/it]"
     ]
    },
    {
     "name": "stdout",
     "output_type": "stream",
     "text": [
      "la_018.nii.gz Dice list by number of clicks (left atrium): [0.4272, 0.4891, 0.518, 0.5178, 0.5198]\n"
     ]
    },
    {
     "name": "stderr",
     "output_type": "stream",
     "text": [
      " 75%|███████▌  | 15/20 [00:23<00:07,  1.53s/it]"
     ]
    },
    {
     "name": "stdout",
     "output_type": "stream",
     "text": [
      "la_021.nii.gz Dice list by number of clicks (left atrium): [0.6676, 0.6577, 0.6599, 0.7722, 0.7555]\n"
     ]
    },
    {
     "name": "stderr",
     "output_type": "stream",
     "text": [
      " 80%|████████  | 16/20 [00:24<00:05,  1.49s/it]"
     ]
    },
    {
     "name": "stdout",
     "output_type": "stream",
     "text": [
      "la_019.nii.gz Dice list by number of clicks (left atrium): [0.3012, 0.3492, 0.5145, 0.6196, 0.6258]\n"
     ]
    },
    {
     "name": "stderr",
     "output_type": "stream",
     "text": [
      " 85%|████████▌ | 17/20 [00:25<00:04,  1.47s/it]"
     ]
    },
    {
     "name": "stdout",
     "output_type": "stream",
     "text": [
      "la_004.nii.gz Dice list by number of clicks (left atrium): [0.5143, 0.5888, 0.569, 0.5547, 0.6042]\n"
     ]
    },
    {
     "name": "stderr",
     "output_type": "stream",
     "text": [
      " 90%|█████████ | 18/20 [00:27<00:02,  1.46s/it]"
     ]
    },
    {
     "name": "stdout",
     "output_type": "stream",
     "text": [
      "la_009.nii.gz Dice list by number of clicks (left atrium): [0.6504, 0.5979, 0.6286, 0.5693, 0.5805]\n"
     ]
    },
    {
     "name": "stderr",
     "output_type": "stream",
     "text": [
      " 95%|█████████▌| 19/20 [00:28<00:01,  1.44s/it]"
     ]
    },
    {
     "name": "stdout",
     "output_type": "stream",
     "text": [
      "la_026.nii.gz Dice list by number of clicks (left atrium): [0.5633, 0.4927, 0.4904, 0.5894, 0.644]\n",
      "Save results to /home/t722s/Desktop/Sam-Med3DTest/NetworkHeartModified/eval_res_from_inference.json\n",
      "Done\n"
     ]
    },
    {
     "name": "stderr",
     "output_type": "stream",
     "text": [
      "100%|██████████| 20/20 [00:30<00:00,  1.52s/it]\n"
     ]
    },
    {
     "name": "stdout",
     "output_type": "stream",
     "text": [
      "set seed as 2020\n",
      "device: cuda\n"
     ]
    },
    {
     "name": "stderr",
     "output_type": "stream",
     "text": [
      "  0%|          | 0/20 [00:00<?, ?it/s]"
     ]
    },
    {
     "name": "stdout",
     "output_type": "stream",
     "text": [
      "la_014.nii.gz Dice list by number of clicks (left atrium): [0.5605, 0.6181, 0.688, 0.69, 0.6988]\n"
     ]
    },
    {
     "name": "stderr",
     "output_type": "stream",
     "text": [
      "  5%|▌         | 1/20 [00:01<00:33,  1.75s/it]"
     ]
    },
    {
     "name": "stdout",
     "output_type": "stream",
     "text": [
      "la_022.nii.gz Dice list by number of clicks (left atrium): [0.6775, 0.6851, 0.6623, 0.686, 0.6861]\n"
     ]
    },
    {
     "name": "stderr",
     "output_type": "stream",
     "text": [
      " 10%|█         | 2/20 [00:03<00:28,  1.58s/it]"
     ]
    },
    {
     "name": "stdout",
     "output_type": "stream",
     "text": [
      "la_030.nii.gz Dice list by number of clicks (left atrium): [0.632, 0.6348, 0.6585, 0.6605, 0.6639]\n"
     ]
    },
    {
     "name": "stderr",
     "output_type": "stream",
     "text": [
      " 15%|█▌        | 3/20 [00:04<00:25,  1.51s/it]"
     ]
    },
    {
     "name": "stdout",
     "output_type": "stream",
     "text": [
      "la_010.nii.gz Dice list by number of clicks (left atrium): [0.5767, 0.6109, 0.7311, 0.7305, 0.7274]\n"
     ]
    },
    {
     "name": "stderr",
     "output_type": "stream",
     "text": [
      " 20%|██        | 4/20 [00:06<00:25,  1.57s/it]"
     ]
    },
    {
     "name": "stdout",
     "output_type": "stream",
     "text": [
      "la_007.nii.gz Dice list by number of clicks (left atrium): [0.5755, 0.6124, 0.6511, 0.6517, 0.6366]\n"
     ]
    },
    {
     "name": "stderr",
     "output_type": "stream",
     "text": [
      " 25%|██▌       | 5/20 [00:07<00:23,  1.59s/it]"
     ]
    },
    {
     "name": "stdout",
     "output_type": "stream",
     "text": [
      "la_023.nii.gz Dice list by number of clicks (left atrium): [0.7281, 0.8208, 0.8335, 0.8203, 0.8239]\n"
     ]
    },
    {
     "name": "stderr",
     "output_type": "stream",
     "text": [
      " 30%|███       | 6/20 [00:09<00:21,  1.54s/it]"
     ]
    },
    {
     "name": "stdout",
     "output_type": "stream",
     "text": [
      "la_017.nii.gz Dice list by number of clicks (left atrium): [0.5787, 0.5924, 0.6226, 0.6943, 0.6977]\n"
     ]
    },
    {
     "name": "stderr",
     "output_type": "stream",
     "text": [
      " 35%|███▌      | 7/20 [00:10<00:20,  1.56s/it]"
     ]
    },
    {
     "name": "stdout",
     "output_type": "stream",
     "text": [
      "la_016.nii.gz Dice list by number of clicks (left atrium): [0.6993, 0.6825, 0.6338, 0.6363, 0.6294]\n"
     ]
    },
    {
     "name": "stderr",
     "output_type": "stream",
     "text": [
      " 40%|████      | 8/20 [00:12<00:17,  1.44s/it]"
     ]
    },
    {
     "name": "stdout",
     "output_type": "stream",
     "text": [
      "la_029.nii.gz Dice list by number of clicks (left atrium): [0.6466, 0.6224, 0.6238, 0.6404, 0.6419]\n"
     ]
    },
    {
     "name": "stderr",
     "output_type": "stream",
     "text": [
      " 45%|████▌     | 9/20 [00:13<00:16,  1.47s/it]"
     ]
    },
    {
     "name": "stdout",
     "output_type": "stream",
     "text": [
      "la_024.nii.gz Dice list by number of clicks (left atrium): [0.5697, 0.6803, 0.6765, 0.6681, 0.6738]\n"
     ]
    },
    {
     "name": "stderr",
     "output_type": "stream",
     "text": [
      " 50%|█████     | 10/20 [00:15<00:14,  1.49s/it]"
     ]
    },
    {
     "name": "stdout",
     "output_type": "stream",
     "text": [
      "la_020.nii.gz Dice list by number of clicks (left atrium): [0.66, 0.6282, 0.642, 0.6353, 0.6127]\n"
     ]
    },
    {
     "name": "stderr",
     "output_type": "stream",
     "text": [
      " 55%|█████▌    | 11/20 [00:16<00:13,  1.48s/it]"
     ]
    },
    {
     "name": "stdout",
     "output_type": "stream",
     "text": [
      "la_003.nii.gz Dice list by number of clicks (left atrium): [0.3457, 0.457, 0.5233, 0.5352, 0.575]\n"
     ]
    },
    {
     "name": "stderr",
     "output_type": "stream",
     "text": [
      " 60%|██████    | 12/20 [00:18<00:12,  1.55s/it]"
     ]
    },
    {
     "name": "stdout",
     "output_type": "stream",
     "text": [
      "la_011.nii.gz Dice list by number of clicks (left atrium): [0.657, 0.6507, 0.651, 0.6658, 0.6767]\n"
     ]
    },
    {
     "name": "stderr",
     "output_type": "stream",
     "text": [
      " 65%|██████▌   | 13/20 [00:19<00:10,  1.54s/it]"
     ]
    },
    {
     "name": "stdout",
     "output_type": "stream",
     "text": [
      "la_005.nii.gz Dice list by number of clicks (left atrium): [0.3426, 0.4922, 0.5892, 0.5732, 0.584]\n"
     ]
    },
    {
     "name": "stderr",
     "output_type": "stream",
     "text": [
      " 70%|███████   | 14/20 [00:21<00:09,  1.56s/it]"
     ]
    },
    {
     "name": "stdout",
     "output_type": "stream",
     "text": [
      "la_018.nii.gz Dice list by number of clicks (left atrium): [0.5647, 0.5553, 0.6122, 0.6291, 0.6381]\n"
     ]
    },
    {
     "name": "stderr",
     "output_type": "stream",
     "text": [
      " 75%|███████▌  | 15/20 [00:23<00:07,  1.55s/it]"
     ]
    },
    {
     "name": "stdout",
     "output_type": "stream",
     "text": [
      "la_021.nii.gz Dice list by number of clicks (left atrium): [0.6921, 0.7238, 0.7529, 0.7366, 0.7248]\n"
     ]
    },
    {
     "name": "stderr",
     "output_type": "stream",
     "text": [
      " 80%|████████  | 16/20 [00:24<00:06,  1.53s/it]"
     ]
    },
    {
     "name": "stdout",
     "output_type": "stream",
     "text": [
      "la_019.nii.gz Dice list by number of clicks (left atrium): [0.5587, 0.6233, 0.6719, 0.6276, 0.6452]\n"
     ]
    },
    {
     "name": "stderr",
     "output_type": "stream",
     "text": [
      " 85%|████████▌ | 17/20 [00:25<00:04,  1.51s/it]"
     ]
    },
    {
     "name": "stdout",
     "output_type": "stream",
     "text": [
      "la_004.nii.gz Dice list by number of clicks (left atrium): [0.605, 0.5483, 0.5434, 0.5947, 0.5961]\n"
     ]
    },
    {
     "name": "stderr",
     "output_type": "stream",
     "text": [
      " 90%|█████████ | 18/20 [00:27<00:03,  1.52s/it]"
     ]
    },
    {
     "name": "stdout",
     "output_type": "stream",
     "text": [
      "la_009.nii.gz Dice list by number of clicks (left atrium): [0.5837, 0.592, 0.602, 0.6109, 0.6275]\n"
     ]
    },
    {
     "name": "stderr",
     "output_type": "stream",
     "text": [
      " 95%|█████████▌| 19/20 [00:28<00:01,  1.49s/it]"
     ]
    },
    {
     "name": "stdout",
     "output_type": "stream",
     "text": [
      "la_026.nii.gz Dice list by number of clicks (left atrium): [0.3978, 0.4992, 0.4988, 0.6723, 0.6767]\n",
      "Save results to /home/t722s/Desktop/Sam-Med3DTest/NetworkHeartModified/eval_res_from_inference.json\n",
      "Done\n"
     ]
    },
    {
     "name": "stderr",
     "output_type": "stream",
     "text": [
      "100%|██████████| 20/20 [00:30<00:00,  1.53s/it]\n"
     ]
    },
    {
     "name": "stdout",
     "output_type": "stream",
     "text": [
      "set seed as 2020\n",
      "device: cuda\n"
     ]
    },
    {
     "name": "stderr",
     "output_type": "stream",
     "text": [
      "  0%|          | 0/20 [00:00<?, ?it/s]"
     ]
    },
    {
     "name": "stdout",
     "output_type": "stream",
     "text": [
      "la_014.nii.gz Dice list by number of clicks (left atrium): [0.585, 0.531, 0.6788, 0.6618, 0.663]\n"
     ]
    },
    {
     "name": "stderr",
     "output_type": "stream",
     "text": [
      "  5%|▌         | 1/20 [00:01<00:35,  1.85s/it]"
     ]
    },
    {
     "name": "stdout",
     "output_type": "stream",
     "text": [
      "la_022.nii.gz Dice list by number of clicks (left atrium): [0.5684, 0.6113, 0.6664, 0.7093, 0.6865]\n"
     ]
    },
    {
     "name": "stderr",
     "output_type": "stream",
     "text": [
      " 10%|█         | 2/20 [00:03<00:29,  1.63s/it]"
     ]
    },
    {
     "name": "stdout",
     "output_type": "stream",
     "text": [
      "la_030.nii.gz Dice list by number of clicks (left atrium): [0.5777, 0.6055, 0.6921, 0.6515, 0.6592]\n"
     ]
    },
    {
     "name": "stderr",
     "output_type": "stream",
     "text": [
      " 15%|█▌        | 3/20 [00:04<00:26,  1.59s/it]"
     ]
    },
    {
     "name": "stdout",
     "output_type": "stream",
     "text": [
      "la_010.nii.gz Dice list by number of clicks (left atrium): [0.7212, 0.7437, 0.7463, 0.7732, 0.7709]\n"
     ]
    },
    {
     "name": "stderr",
     "output_type": "stream",
     "text": [
      " 20%|██        | 4/20 [00:06<00:24,  1.56s/it]"
     ]
    },
    {
     "name": "stdout",
     "output_type": "stream",
     "text": [
      "la_007.nii.gz Dice list by number of clicks (left atrium): [0.61, 0.6334, 0.6979, 0.6868, 0.7095]\n"
     ]
    },
    {
     "name": "stderr",
     "output_type": "stream",
     "text": [
      " 25%|██▌       | 5/20 [00:08<00:23,  1.58s/it]"
     ]
    },
    {
     "name": "stdout",
     "output_type": "stream",
     "text": [
      "la_023.nii.gz Dice list by number of clicks (left atrium): [0.5792, 0.6671, 0.6865, 0.672, 0.6648]\n"
     ]
    },
    {
     "name": "stderr",
     "output_type": "stream",
     "text": [
      " 30%|███       | 6/20 [00:09<00:21,  1.54s/it]"
     ]
    },
    {
     "name": "stdout",
     "output_type": "stream",
     "text": [
      "la_017.nii.gz Dice list by number of clicks (left atrium): [0.598, 0.5643, 0.6039, 0.6429, 0.6034]\n"
     ]
    },
    {
     "name": "stderr",
     "output_type": "stream",
     "text": [
      " 35%|███▌      | 7/20 [00:10<00:19,  1.53s/it]"
     ]
    },
    {
     "name": "stdout",
     "output_type": "stream",
     "text": [
      "la_016.nii.gz Dice list by number of clicks (left atrium): [0.6722, 0.7196, 0.7385, 0.7316, 0.7063]\n"
     ]
    },
    {
     "name": "stderr",
     "output_type": "stream",
     "text": [
      " 40%|████      | 8/20 [00:12<00:17,  1.47s/it]"
     ]
    },
    {
     "name": "stdout",
     "output_type": "stream",
     "text": [
      "la_029.nii.gz Dice list by number of clicks (left atrium): [0.5867, 0.5828, 0.5859, 0.557, 0.5928]\n"
     ]
    },
    {
     "name": "stderr",
     "output_type": "stream",
     "text": [
      " 45%|████▌     | 9/20 [00:13<00:15,  1.44s/it]"
     ]
    },
    {
     "name": "stdout",
     "output_type": "stream",
     "text": [
      "la_024.nii.gz Dice list by number of clicks (left atrium): [0.3712, 0.3729, 0.5022, 0.5569, 0.6485]\n"
     ]
    },
    {
     "name": "stderr",
     "output_type": "stream",
     "text": [
      " 50%|█████     | 10/20 [00:15<00:14,  1.47s/it]"
     ]
    },
    {
     "name": "stdout",
     "output_type": "stream",
     "text": [
      "la_020.nii.gz Dice list by number of clicks (left atrium): [0.3852, 0.4612, 0.4627, 0.5034, 0.4608]\n"
     ]
    },
    {
     "name": "stderr",
     "output_type": "stream",
     "text": [
      " 55%|█████▌    | 11/20 [00:16<00:13,  1.47s/it]"
     ]
    },
    {
     "name": "stdout",
     "output_type": "stream",
     "text": [
      "la_003.nii.gz Dice list by number of clicks (left atrium): [0.7073, 0.6663, 0.7006, 0.715, 0.6742]\n"
     ]
    },
    {
     "name": "stderr",
     "output_type": "stream",
     "text": [
      " 60%|██████    | 12/20 [00:18<00:11,  1.50s/it]"
     ]
    },
    {
     "name": "stdout",
     "output_type": "stream",
     "text": [
      "la_011.nii.gz Dice list by number of clicks (left atrium): [0.5847, 0.5234, 0.715, 0.7323, 0.7025]\n"
     ]
    },
    {
     "name": "stderr",
     "output_type": "stream",
     "text": [
      " 65%|██████▌   | 13/20 [00:19<00:10,  1.53s/it]"
     ]
    },
    {
     "name": "stdout",
     "output_type": "stream",
     "text": [
      "la_005.nii.gz Dice list by number of clicks (left atrium): [0.2636, 0.2776, 0.3517, 0.3641, 0.3635]\n"
     ]
    },
    {
     "name": "stderr",
     "output_type": "stream",
     "text": [
      " 70%|███████   | 14/20 [00:21<00:09,  1.53s/it]"
     ]
    },
    {
     "name": "stdout",
     "output_type": "stream",
     "text": [
      "la_018.nii.gz Dice list by number of clicks (left atrium): [0.5339, 0.5667, 0.571, 0.6293, 0.6191]\n"
     ]
    },
    {
     "name": "stderr",
     "output_type": "stream",
     "text": [
      " 75%|███████▌  | 15/20 [00:22<00:07,  1.53s/it]"
     ]
    },
    {
     "name": "stdout",
     "output_type": "stream",
     "text": [
      "la_021.nii.gz Dice list by number of clicks (left atrium): [0.686, 0.6972, 0.5803, 0.5956, 0.602]\n"
     ]
    },
    {
     "name": "stderr",
     "output_type": "stream",
     "text": [
      " 80%|████████  | 16/20 [00:24<00:06,  1.53s/it]"
     ]
    },
    {
     "name": "stdout",
     "output_type": "stream",
     "text": [
      "la_019.nii.gz Dice list by number of clicks (left atrium): [0.5381, 0.5596, 0.611, 0.6321, 0.6665]\n"
     ]
    },
    {
     "name": "stderr",
     "output_type": "stream",
     "text": [
      " 85%|████████▌ | 17/20 [00:26<00:04,  1.54s/it]"
     ]
    },
    {
     "name": "stdout",
     "output_type": "stream",
     "text": [
      "la_004.nii.gz Dice list by number of clicks (left atrium): [0.5031, 0.6999, 0.7011, 0.7087, 0.7189]\n"
     ]
    },
    {
     "name": "stderr",
     "output_type": "stream",
     "text": [
      " 90%|█████████ | 18/20 [00:27<00:03,  1.56s/it]"
     ]
    },
    {
     "name": "stdout",
     "output_type": "stream",
     "text": [
      "la_009.nii.gz Dice list by number of clicks (left atrium): [0.6373, 0.6114, 0.6218, 0.6234, 0.6125]\n"
     ]
    },
    {
     "name": "stderr",
     "output_type": "stream",
     "text": [
      " 95%|█████████▌| 19/20 [00:29<00:01,  1.53s/it]"
     ]
    },
    {
     "name": "stdout",
     "output_type": "stream",
     "text": [
      "la_026.nii.gz Dice list by number of clicks (left atrium): [0.3894, 0.4714, 0.5789, 0.5913, 0.6237]\n",
      "Save results to /home/t722s/Desktop/Sam-Med3DTest/NetworkHeartModified/eval_res_from_inference.json\n",
      "Done\n"
     ]
    },
    {
     "name": "stderr",
     "output_type": "stream",
     "text": [
      "100%|██████████| 20/20 [00:30<00:00,  1.53s/it]\n"
     ]
    },
    {
     "name": "stdout",
     "output_type": "stream",
     "text": [
      "set seed as 2020\n",
      "device: cuda\n"
     ]
    },
    {
     "name": "stderr",
     "output_type": "stream",
     "text": [
      "  0%|          | 0/20 [00:00<?, ?it/s]"
     ]
    },
    {
     "name": "stdout",
     "output_type": "stream",
     "text": [
      "la_014.nii.gz Dice list by number of clicks (left atrium): [0.1935, 0.5366, 0.5343, 0.6058, 0.6923]\n"
     ]
    },
    {
     "name": "stderr",
     "output_type": "stream",
     "text": [
      "  5%|▌         | 1/20 [00:01<00:33,  1.78s/it]"
     ]
    },
    {
     "name": "stdout",
     "output_type": "stream",
     "text": [
      "la_022.nii.gz Dice list by number of clicks (left atrium): [0.2506, 0.1798, 0.5134, 0.6221, 0.6308]\n"
     ]
    },
    {
     "name": "stderr",
     "output_type": "stream",
     "text": [
      " 10%|█         | 2/20 [00:03<00:28,  1.57s/it]"
     ]
    },
    {
     "name": "stdout",
     "output_type": "stream",
     "text": [
      "la_030.nii.gz Dice list by number of clicks (left atrium): [0.6228, 0.621, 0.728, 0.7342, 0.7052]\n"
     ]
    },
    {
     "name": "stderr",
     "output_type": "stream",
     "text": [
      " 15%|█▌        | 3/20 [00:04<00:26,  1.57s/it]"
     ]
    },
    {
     "name": "stdout",
     "output_type": "stream",
     "text": [
      "la_010.nii.gz Dice list by number of clicks (left atrium): [0.6798, 0.6437, 0.6545, 0.6527, 0.6209]\n"
     ]
    },
    {
     "name": "stderr",
     "output_type": "stream",
     "text": [
      " 20%|██        | 4/20 [00:06<00:24,  1.53s/it]"
     ]
    },
    {
     "name": "stdout",
     "output_type": "stream",
     "text": [
      "la_007.nii.gz Dice list by number of clicks (left atrium): [0.7096, 0.6325, 0.6361, 0.6649, 0.7604]\n"
     ]
    },
    {
     "name": "stderr",
     "output_type": "stream",
     "text": [
      " 25%|██▌       | 5/20 [00:07<00:24,  1.61s/it]"
     ]
    },
    {
     "name": "stdout",
     "output_type": "stream",
     "text": [
      "la_023.nii.gz Dice list by number of clicks (left atrium): [0.7452, 0.7545, 0.7457, 0.7481, 0.7858]\n"
     ]
    },
    {
     "name": "stderr",
     "output_type": "stream",
     "text": [
      " 30%|███       | 6/20 [00:09<00:21,  1.54s/it]"
     ]
    },
    {
     "name": "stdout",
     "output_type": "stream",
     "text": [
      "la_017.nii.gz Dice list by number of clicks (left atrium): [0.6342, 0.6202, 0.6644, 0.6794, 0.6984]\n"
     ]
    },
    {
     "name": "stderr",
     "output_type": "stream",
     "text": [
      " 35%|███▌      | 7/20 [00:10<00:20,  1.56s/it]"
     ]
    },
    {
     "name": "stdout",
     "output_type": "stream",
     "text": [
      "la_016.nii.gz Dice list by number of clicks (left atrium): [0.5882, 0.6138, 0.6106, 0.6938, 0.6946]\n"
     ]
    },
    {
     "name": "stderr",
     "output_type": "stream",
     "text": [
      " 40%|████      | 8/20 [00:12<00:17,  1.45s/it]"
     ]
    },
    {
     "name": "stdout",
     "output_type": "stream",
     "text": [
      "la_029.nii.gz Dice list by number of clicks (left atrium): [0.6067, 0.6408, 0.6357, 0.6321, 0.6326]\n"
     ]
    },
    {
     "name": "stderr",
     "output_type": "stream",
     "text": [
      " 45%|████▌     | 9/20 [00:13<00:16,  1.46s/it]"
     ]
    },
    {
     "name": "stdout",
     "output_type": "stream",
     "text": [
      "la_024.nii.gz Dice list by number of clicks (left atrium): [0.6466, 0.5427, 0.5372, 0.5315, 0.557]\n"
     ]
    },
    {
     "name": "stderr",
     "output_type": "stream",
     "text": [
      " 50%|█████     | 10/20 [00:15<00:14,  1.47s/it]"
     ]
    },
    {
     "name": "stdout",
     "output_type": "stream",
     "text": [
      "la_020.nii.gz Dice list by number of clicks (left atrium): [0.5252, 0.6385, 0.6507, 0.6463, 0.5693]\n"
     ]
    },
    {
     "name": "stderr",
     "output_type": "stream",
     "text": [
      " 55%|█████▌    | 11/20 [00:16<00:13,  1.46s/it]"
     ]
    },
    {
     "name": "stdout",
     "output_type": "stream",
     "text": [
      "la_003.nii.gz Dice list by number of clicks (left atrium): [0.6211, 0.6988, 0.6848, 0.6401, 0.6729]\n"
     ]
    },
    {
     "name": "stderr",
     "output_type": "stream",
     "text": [
      " 60%|██████    | 12/20 [00:18<00:12,  1.51s/it]"
     ]
    },
    {
     "name": "stdout",
     "output_type": "stream",
     "text": [
      "la_011.nii.gz Dice list by number of clicks (left atrium): [0.5757, 0.6123, 0.5976, 0.7029, 0.6904]\n"
     ]
    },
    {
     "name": "stderr",
     "output_type": "stream",
     "text": [
      " 65%|██████▌   | 13/20 [00:19<00:10,  1.52s/it]"
     ]
    },
    {
     "name": "stdout",
     "output_type": "stream",
     "text": [
      "la_005.nii.gz Dice list by number of clicks (left atrium): [0.4651, 0.5528, 0.5173, 0.5139, 0.5499]\n"
     ]
    },
    {
     "name": "stderr",
     "output_type": "stream",
     "text": [
      " 70%|███████   | 14/20 [00:21<00:09,  1.52s/it]"
     ]
    },
    {
     "name": "stdout",
     "output_type": "stream",
     "text": [
      "la_018.nii.gz Dice list by number of clicks (left atrium): [0.5189, 0.5674, 0.5515, 0.5622, 0.5685]\n"
     ]
    },
    {
     "name": "stderr",
     "output_type": "stream",
     "text": [
      " 75%|███████▌  | 15/20 [00:22<00:07,  1.53s/it]"
     ]
    },
    {
     "name": "stdout",
     "output_type": "stream",
     "text": [
      "la_021.nii.gz Dice list by number of clicks (left atrium): [0.7005, 0.6758, 0.6566, 0.6516, 0.649]\n"
     ]
    },
    {
     "name": "stderr",
     "output_type": "stream",
     "text": [
      " 80%|████████  | 16/20 [00:24<00:06,  1.51s/it]"
     ]
    },
    {
     "name": "stdout",
     "output_type": "stream",
     "text": [
      "la_019.nii.gz Dice list by number of clicks (left atrium): [0.5378, 0.5901, 0.5493, 0.6245, 0.6182]\n"
     ]
    },
    {
     "name": "stderr",
     "output_type": "stream",
     "text": [
      " 85%|████████▌ | 17/20 [00:25<00:04,  1.49s/it]"
     ]
    },
    {
     "name": "stdout",
     "output_type": "stream",
     "text": [
      "la_004.nii.gz Dice list by number of clicks (left atrium): [0.6433, 0.6207, 0.7074, 0.6925, 0.7042]\n"
     ]
    },
    {
     "name": "stderr",
     "output_type": "stream",
     "text": [
      " 90%|█████████ | 18/20 [00:27<00:03,  1.52s/it]"
     ]
    },
    {
     "name": "stdout",
     "output_type": "stream",
     "text": [
      "la_009.nii.gz Dice list by number of clicks (left atrium): [0.5734, 0.6616, 0.6324, 0.639, 0.6204]\n"
     ]
    },
    {
     "name": "stderr",
     "output_type": "stream",
     "text": [
      " 95%|█████████▌| 19/20 [00:28<00:01,  1.50s/it]"
     ]
    },
    {
     "name": "stdout",
     "output_type": "stream",
     "text": [
      "la_026.nii.gz Dice list by number of clicks (left atrium): [0.56, 0.5658, 0.6196, 0.6255, 0.6298]\n",
      "Save results to /home/t722s/Desktop/Sam-Med3DTest/NetworkHeartModified/eval_res_from_inference.json\n",
      "Done\n"
     ]
    },
    {
     "name": "stderr",
     "output_type": "stream",
     "text": [
      "100%|██████████| 20/20 [00:30<00:00,  1.52s/it]\n"
     ]
    },
    {
     "name": "stdout",
     "output_type": "stream",
     "text": [
      "set seed as 2020\n",
      "device: cuda\n"
     ]
    },
    {
     "name": "stderr",
     "output_type": "stream",
     "text": [
      "  0%|          | 0/20 [00:00<?, ?it/s]"
     ]
    },
    {
     "name": "stdout",
     "output_type": "stream",
     "text": [
      "la_014.nii.gz Dice list by number of clicks (left atrium): [0.6126, 0.5321, 0.4886, 0.5854, 0.6094]\n"
     ]
    },
    {
     "name": "stderr",
     "output_type": "stream",
     "text": [
      "  5%|▌         | 1/20 [00:01<00:33,  1.77s/it]"
     ]
    },
    {
     "name": "stdout",
     "output_type": "stream",
     "text": [
      "la_022.nii.gz Dice list by number of clicks (left atrium): [0.6841, 0.738, 0.7256, 0.7375, 0.688]\n"
     ]
    },
    {
     "name": "stderr",
     "output_type": "stream",
     "text": [
      " 10%|█         | 2/20 [00:03<00:28,  1.56s/it]"
     ]
    },
    {
     "name": "stdout",
     "output_type": "stream",
     "text": [
      "la_030.nii.gz Dice list by number of clicks (left atrium): [0.6445, 0.6078, 0.622, 0.6425, 0.6447]\n"
     ]
    },
    {
     "name": "stderr",
     "output_type": "stream",
     "text": [
      " 15%|█▌        | 3/20 [00:04<00:25,  1.49s/it]"
     ]
    },
    {
     "name": "stdout",
     "output_type": "stream",
     "text": [
      "la_010.nii.gz Dice list by number of clicks (left atrium): [0.6763, 0.7579, 0.7541, 0.7337, 0.731]\n"
     ]
    },
    {
     "name": "stderr",
     "output_type": "stream",
     "text": [
      " 20%|██        | 4/20 [00:06<00:24,  1.53s/it]"
     ]
    },
    {
     "name": "stdout",
     "output_type": "stream",
     "text": [
      "la_007.nii.gz Dice list by number of clicks (left atrium): [0.5633, 0.6032, 0.6751, 0.7027, 0.669]\n"
     ]
    },
    {
     "name": "stderr",
     "output_type": "stream",
     "text": [
      " 25%|██▌       | 5/20 [00:07<00:23,  1.57s/it]"
     ]
    },
    {
     "name": "stdout",
     "output_type": "stream",
     "text": [
      "la_023.nii.gz Dice list by number of clicks (left atrium): [0.691, 0.6526, 0.7151, 0.6931, 0.6921]\n"
     ]
    },
    {
     "name": "stderr",
     "output_type": "stream",
     "text": [
      " 30%|███       | 6/20 [00:09<00:21,  1.50s/it]"
     ]
    },
    {
     "name": "stdout",
     "output_type": "stream",
     "text": [
      "la_017.nii.gz Dice list by number of clicks (left atrium): [0.6784, 0.6753, 0.7005, 0.6805, 0.6924]\n"
     ]
    },
    {
     "name": "stderr",
     "output_type": "stream",
     "text": [
      " 35%|███▌      | 7/20 [00:10<00:19,  1.53s/it]"
     ]
    },
    {
     "name": "stdout",
     "output_type": "stream",
     "text": [
      "la_016.nii.gz Dice list by number of clicks (left atrium): [0.4623, 0.6351, 0.6443, 0.691, 0.7168]\n"
     ]
    },
    {
     "name": "stderr",
     "output_type": "stream",
     "text": [
      " 40%|████      | 8/20 [00:12<00:17,  1.44s/it]"
     ]
    },
    {
     "name": "stdout",
     "output_type": "stream",
     "text": [
      "la_029.nii.gz Dice list by number of clicks (left atrium): [0.4893, 0.5033, 0.5135, 0.5733, 0.6029]\n"
     ]
    },
    {
     "name": "stderr",
     "output_type": "stream",
     "text": [
      " 45%|████▌     | 9/20 [00:13<00:16,  1.49s/it]"
     ]
    },
    {
     "name": "stdout",
     "output_type": "stream",
     "text": [
      "la_024.nii.gz Dice list by number of clicks (left atrium): [0.3581, 0.6243, 0.6027, 0.6118, 0.6049]\n"
     ]
    },
    {
     "name": "stderr",
     "output_type": "stream",
     "text": [
      " 50%|█████     | 10/20 [00:15<00:14,  1.50s/it]"
     ]
    },
    {
     "name": "stdout",
     "output_type": "stream",
     "text": [
      "la_020.nii.gz Dice list by number of clicks (left atrium): [0.4966, 0.6011, 0.5973, 0.5801, 0.5873]\n"
     ]
    },
    {
     "name": "stderr",
     "output_type": "stream",
     "text": [
      " 55%|█████▌    | 11/20 [00:16<00:13,  1.48s/it]"
     ]
    },
    {
     "name": "stdout",
     "output_type": "stream",
     "text": [
      "la_003.nii.gz Dice list by number of clicks (left atrium): [0.7397, 0.7306, 0.7158, 0.6994, 0.7301]\n"
     ]
    },
    {
     "name": "stderr",
     "output_type": "stream",
     "text": [
      " 60%|██████    | 12/20 [00:18<00:12,  1.53s/it]"
     ]
    },
    {
     "name": "stdout",
     "output_type": "stream",
     "text": [
      "la_011.nii.gz Dice list by number of clicks (left atrium): [0.4062, 0.4635, 0.4973, 0.4949, 0.5687]\n"
     ]
    },
    {
     "name": "stderr",
     "output_type": "stream",
     "text": [
      " 65%|██████▌   | 13/20 [00:19<00:10,  1.55s/it]"
     ]
    },
    {
     "name": "stdout",
     "output_type": "stream",
     "text": [
      "la_005.nii.gz Dice list by number of clicks (left atrium): [0.3657, 0.4283, 0.5372, 0.5583, 0.5586]\n"
     ]
    },
    {
     "name": "stderr",
     "output_type": "stream",
     "text": [
      " 70%|███████   | 14/20 [00:21<00:09,  1.54s/it]"
     ]
    },
    {
     "name": "stdout",
     "output_type": "stream",
     "text": [
      "la_018.nii.gz Dice list by number of clicks (left atrium): [0.5841, 0.5936, 0.6293, 0.6534, 0.6532]\n"
     ]
    },
    {
     "name": "stderr",
     "output_type": "stream",
     "text": [
      " 75%|███████▌  | 15/20 [00:22<00:07,  1.55s/it]"
     ]
    },
    {
     "name": "stdout",
     "output_type": "stream",
     "text": [
      "la_021.nii.gz Dice list by number of clicks (left atrium): [0.6611, 0.6766, 0.6763, 0.67, 0.6879]\n"
     ]
    },
    {
     "name": "stderr",
     "output_type": "stream",
     "text": [
      " 80%|████████  | 16/20 [00:24<00:05,  1.48s/it]"
     ]
    },
    {
     "name": "stdout",
     "output_type": "stream",
     "text": [
      "la_019.nii.gz Dice list by number of clicks (left atrium): [0.6738, 0.6181, 0.6726, 0.6781, 0.6953]\n"
     ]
    },
    {
     "name": "stderr",
     "output_type": "stream",
     "text": [
      " 85%|████████▌ | 17/20 [00:25<00:04,  1.50s/it]"
     ]
    },
    {
     "name": "stdout",
     "output_type": "stream",
     "text": [
      "la_004.nii.gz Dice list by number of clicks (left atrium): [0.5759, 0.5892, 0.5693, 0.5919, 0.63]\n"
     ]
    },
    {
     "name": "stderr",
     "output_type": "stream",
     "text": [
      " 90%|█████████ | 18/20 [00:27<00:02,  1.50s/it]"
     ]
    },
    {
     "name": "stdout",
     "output_type": "stream",
     "text": [
      "la_009.nii.gz Dice list by number of clicks (left atrium): [0.4407, 0.4982, 0.5411, 0.6732, 0.663]\n"
     ]
    },
    {
     "name": "stderr",
     "output_type": "stream",
     "text": [
      " 95%|█████████▌| 19/20 [00:28<00:01,  1.47s/it]"
     ]
    },
    {
     "name": "stdout",
     "output_type": "stream",
     "text": [
      "la_026.nii.gz Dice list by number of clicks (left atrium): [0.5345, 0.4712, 0.5702, 0.5726, 0.5761]\n",
      "Save results to /home/t722s/Desktop/Sam-Med3DTest/NetworkHeartModified/eval_res_from_inference.json\n",
      "Done\n"
     ]
    },
    {
     "name": "stderr",
     "output_type": "stream",
     "text": [
      "100%|██████████| 20/20 [00:30<00:00,  1.51s/it]\n"
     ]
    },
    {
     "name": "stdout",
     "output_type": "stream",
     "text": [
      "set seed as 2020\n",
      "device: cuda\n"
     ]
    },
    {
     "name": "stderr",
     "output_type": "stream",
     "text": [
      "  0%|          | 0/20 [00:00<?, ?it/s]"
     ]
    },
    {
     "name": "stdout",
     "output_type": "stream",
     "text": [
      "la_014.nii.gz Dice list by number of clicks (left atrium): [0.4709, 0.6406, 0.7199, 0.7168, 0.7159]\n"
     ]
    },
    {
     "name": "stderr",
     "output_type": "stream",
     "text": [
      "  5%|▌         | 1/20 [00:01<00:33,  1.77s/it]"
     ]
    },
    {
     "name": "stdout",
     "output_type": "stream",
     "text": [
      "la_022.nii.gz Dice list by number of clicks (left atrium): [0.657, 0.6845, 0.6806, 0.6788, 0.7177]\n"
     ]
    },
    {
     "name": "stderr",
     "output_type": "stream",
     "text": [
      " 10%|█         | 2/20 [00:03<00:28,  1.58s/it]"
     ]
    },
    {
     "name": "stdout",
     "output_type": "stream",
     "text": [
      "la_030.nii.gz Dice list by number of clicks (left atrium): [0.6846, 0.7253, 0.7295, 0.7297, 0.7361]\n"
     ]
    },
    {
     "name": "stderr",
     "output_type": "stream",
     "text": [
      " 15%|█▌        | 3/20 [00:04<00:26,  1.58s/it]"
     ]
    },
    {
     "name": "stdout",
     "output_type": "stream",
     "text": [
      "la_010.nii.gz Dice list by number of clicks (left atrium): [0.7248, 0.6114, 0.7101, 0.6674, 0.7]\n"
     ]
    },
    {
     "name": "stderr",
     "output_type": "stream",
     "text": [
      " 20%|██        | 4/20 [00:06<00:25,  1.57s/it]"
     ]
    },
    {
     "name": "stdout",
     "output_type": "stream",
     "text": [
      "la_007.nii.gz Dice list by number of clicks (left atrium): [0.6305, 0.6167, 0.6434, 0.6461, 0.6492]\n"
     ]
    },
    {
     "name": "stderr",
     "output_type": "stream",
     "text": [
      " 25%|██▌       | 5/20 [00:08<00:24,  1.61s/it]"
     ]
    },
    {
     "name": "stdout",
     "output_type": "stream",
     "text": [
      "la_023.nii.gz Dice list by number of clicks (left atrium): [0.7138, 0.7134, 0.7191, 0.7425, 0.7502]\n"
     ]
    },
    {
     "name": "stderr",
     "output_type": "stream",
     "text": [
      " 30%|███       | 6/20 [00:09<00:21,  1.55s/it]"
     ]
    },
    {
     "name": "stdout",
     "output_type": "stream",
     "text": [
      "la_017.nii.gz Dice list by number of clicks (left atrium): [0.6164, 0.6487, 0.6727, 0.6737, 0.6269]\n"
     ]
    },
    {
     "name": "stderr",
     "output_type": "stream",
     "text": [
      " 35%|███▌      | 7/20 [00:11<00:20,  1.57s/it]"
     ]
    },
    {
     "name": "stdout",
     "output_type": "stream",
     "text": [
      "la_016.nii.gz Dice list by number of clicks (left atrium): [0.6527, 0.6821, 0.6703, 0.7106, 0.6416]\n"
     ]
    },
    {
     "name": "stderr",
     "output_type": "stream",
     "text": [
      " 40%|████      | 8/20 [00:12<00:17,  1.45s/it]"
     ]
    },
    {
     "name": "stdout",
     "output_type": "stream",
     "text": [
      "la_029.nii.gz Dice list by number of clicks (left atrium): [0.6905, 0.5985, 0.6238, 0.6439, 0.6384]\n"
     ]
    },
    {
     "name": "stderr",
     "output_type": "stream",
     "text": [
      " 45%|████▌     | 9/20 [00:13<00:16,  1.46s/it]"
     ]
    },
    {
     "name": "stdout",
     "output_type": "stream",
     "text": [
      "la_024.nii.gz Dice list by number of clicks (left atrium): [0.6343, 0.6163, 0.6626, 0.6769, 0.6684]\n"
     ]
    },
    {
     "name": "stderr",
     "output_type": "stream",
     "text": [
      " 50%|█████     | 10/20 [00:15<00:15,  1.52s/it]"
     ]
    },
    {
     "name": "stdout",
     "output_type": "stream",
     "text": [
      "la_020.nii.gz Dice list by number of clicks (left atrium): [0.5625, 0.6256, 0.6389, 0.6443, 0.6469]\n"
     ]
    },
    {
     "name": "stderr",
     "output_type": "stream",
     "text": [
      " 55%|█████▌    | 11/20 [00:16<00:13,  1.49s/it]"
     ]
    },
    {
     "name": "stdout",
     "output_type": "stream",
     "text": [
      "la_003.nii.gz Dice list by number of clicks (left atrium): [0.6248, 0.7208, 0.6445, 0.643, 0.629]\n"
     ]
    },
    {
     "name": "stderr",
     "output_type": "stream",
     "text": [
      " 60%|██████    | 12/20 [00:18<00:12,  1.55s/it]"
     ]
    },
    {
     "name": "stdout",
     "output_type": "stream",
     "text": [
      "la_011.nii.gz Dice list by number of clicks (left atrium): [0.3222, 0.5617, 0.5376, 0.5729, 0.5728]\n"
     ]
    },
    {
     "name": "stderr",
     "output_type": "stream",
     "text": [
      " 65%|██████▌   | 13/20 [00:20<00:10,  1.55s/it]"
     ]
    },
    {
     "name": "stdout",
     "output_type": "stream",
     "text": [
      "la_005.nii.gz Dice list by number of clicks (left atrium): [0.3656, 0.4414, 0.4634, 0.5164, 0.5279]\n"
     ]
    },
    {
     "name": "stderr",
     "output_type": "stream",
     "text": [
      " 70%|███████   | 14/20 [00:21<00:09,  1.55s/it]"
     ]
    },
    {
     "name": "stdout",
     "output_type": "stream",
     "text": [
      "la_018.nii.gz Dice list by number of clicks (left atrium): [0.6733, 0.5612, 0.5624, 0.5551, 0.571]\n"
     ]
    },
    {
     "name": "stderr",
     "output_type": "stream",
     "text": [
      " 75%|███████▌  | 15/20 [00:23<00:07,  1.56s/it]"
     ]
    },
    {
     "name": "stdout",
     "output_type": "stream",
     "text": [
      "la_021.nii.gz Dice list by number of clicks (left atrium): [0.5336, 0.5342, 0.6035, 0.7328, 0.731]\n"
     ]
    },
    {
     "name": "stderr",
     "output_type": "stream",
     "text": [
      " 80%|████████  | 16/20 [00:24<00:06,  1.51s/it]"
     ]
    },
    {
     "name": "stdout",
     "output_type": "stream",
     "text": [
      "la_019.nii.gz Dice list by number of clicks (left atrium): [0.5324, 0.5554, 0.601, 0.6073, 0.6224]\n"
     ]
    },
    {
     "name": "stderr",
     "output_type": "stream",
     "text": [
      " 85%|████████▌ | 17/20 [00:26<00:04,  1.51s/it]"
     ]
    },
    {
     "name": "stdout",
     "output_type": "stream",
     "text": [
      "la_004.nii.gz Dice list by number of clicks (left atrium): [0.4113, 0.545, 0.5262, 0.5087, 0.5217]\n"
     ]
    },
    {
     "name": "stderr",
     "output_type": "stream",
     "text": [
      " 90%|█████████ | 18/20 [00:27<00:02,  1.49s/it]"
     ]
    },
    {
     "name": "stdout",
     "output_type": "stream",
     "text": [
      "la_009.nii.gz Dice list by number of clicks (left atrium): [0.4872, 0.5398, 0.4216, 0.5034, 0.5848]\n"
     ]
    },
    {
     "name": "stderr",
     "output_type": "stream",
     "text": [
      " 95%|█████████▌| 19/20 [00:28<00:01,  1.47s/it]"
     ]
    },
    {
     "name": "stdout",
     "output_type": "stream",
     "text": [
      "la_026.nii.gz Dice list by number of clicks (left atrium): [0.4362, 0.4183, 0.4132, 0.5713, 0.5823]\n",
      "Save results to /home/t722s/Desktop/Sam-Med3DTest/NetworkHeartModified/eval_res_from_inference.json\n",
      "Done\n"
     ]
    },
    {
     "name": "stderr",
     "output_type": "stream",
     "text": [
      "100%|██████████| 20/20 [00:30<00:00,  1.52s/it]\n"
     ]
    },
    {
     "name": "stdout",
     "output_type": "stream",
     "text": [
      "set seed as 2020\n",
      "device: cuda\n"
     ]
    },
    {
     "name": "stderr",
     "output_type": "stream",
     "text": [
      "  0%|          | 0/20 [00:00<?, ?it/s]"
     ]
    },
    {
     "name": "stdout",
     "output_type": "stream",
     "text": [
      "la_014.nii.gz Dice list by number of clicks (left atrium): [0.6937, 0.7693, 0.7765, 0.7848, 0.751]\n"
     ]
    },
    {
     "name": "stderr",
     "output_type": "stream",
     "text": [
      "  5%|▌         | 1/20 [00:01<00:32,  1.72s/it]"
     ]
    },
    {
     "name": "stdout",
     "output_type": "stream",
     "text": [
      "la_022.nii.gz Dice list by number of clicks (left atrium): [0.6429, 0.667, 0.6799, 0.6643, 0.6884]\n"
     ]
    },
    {
     "name": "stderr",
     "output_type": "stream",
     "text": [
      " 10%|█         | 2/20 [00:03<00:30,  1.69s/it]"
     ]
    },
    {
     "name": "stdout",
     "output_type": "stream",
     "text": [
      "la_030.nii.gz Dice list by number of clicks (left atrium): [0.7115, 0.6682, 0.6821, 0.6789, 0.7277]\n"
     ]
    },
    {
     "name": "stderr",
     "output_type": "stream",
     "text": [
      " 15%|█▌        | 3/20 [00:04<00:26,  1.59s/it]"
     ]
    },
    {
     "name": "stdout",
     "output_type": "stream",
     "text": [
      "la_010.nii.gz Dice list by number of clicks (left atrium): [0.2948, 0.316, 0.6032, 0.5859, 0.611]\n"
     ]
    },
    {
     "name": "stderr",
     "output_type": "stream",
     "text": [
      " 20%|██        | 4/20 [00:06<00:25,  1.60s/it]"
     ]
    },
    {
     "name": "stdout",
     "output_type": "stream",
     "text": [
      "la_007.nii.gz Dice list by number of clicks (left atrium): [0.5874, 0.542, 0.6231, 0.627, 0.6359]\n"
     ]
    },
    {
     "name": "stderr",
     "output_type": "stream",
     "text": [
      " 25%|██▌       | 5/20 [00:07<00:23,  1.57s/it]"
     ]
    },
    {
     "name": "stdout",
     "output_type": "stream",
     "text": [
      "la_023.nii.gz Dice list by number of clicks (left atrium): [0.4458, 0.5623, 0.6539, 0.6561, 0.686]\n"
     ]
    },
    {
     "name": "stderr",
     "output_type": "stream",
     "text": [
      " 30%|███       | 6/20 [00:09<00:22,  1.57s/it]"
     ]
    },
    {
     "name": "stdout",
     "output_type": "stream",
     "text": [
      "la_017.nii.gz Dice list by number of clicks (left atrium): [0.6844, 0.6488, 0.6483, 0.6747, 0.6707]\n"
     ]
    },
    {
     "name": "stderr",
     "output_type": "stream",
     "text": [
      " 35%|███▌      | 7/20 [00:11<00:20,  1.54s/it]"
     ]
    },
    {
     "name": "stdout",
     "output_type": "stream",
     "text": [
      "la_016.nii.gz Dice list by number of clicks (left atrium): [0.6636, 0.6712, 0.7023, 0.7029, 0.7074]\n"
     ]
    },
    {
     "name": "stderr",
     "output_type": "stream",
     "text": [
      " 40%|████      | 8/20 [00:12<00:17,  1.44s/it]"
     ]
    },
    {
     "name": "stdout",
     "output_type": "stream",
     "text": [
      "la_029.nii.gz Dice list by number of clicks (left atrium): [0.6702, 0.6914, 0.6758, 0.6686, 0.6783]\n"
     ]
    },
    {
     "name": "stderr",
     "output_type": "stream",
     "text": [
      " 45%|████▌     | 9/20 [00:13<00:16,  1.46s/it]"
     ]
    },
    {
     "name": "stdout",
     "output_type": "stream",
     "text": [
      "la_024.nii.gz Dice list by number of clicks (left atrium): [0.6406, 0.624, 0.6228, 0.6148, 0.7491]\n"
     ]
    },
    {
     "name": "stderr",
     "output_type": "stream",
     "text": [
      " 50%|█████     | 10/20 [00:15<00:15,  1.50s/it]"
     ]
    },
    {
     "name": "stdout",
     "output_type": "stream",
     "text": [
      "la_020.nii.gz Dice list by number of clicks (left atrium): [0.6208, 0.6551, 0.6621, 0.7081, 0.7103]\n"
     ]
    },
    {
     "name": "stderr",
     "output_type": "stream",
     "text": [
      " 55%|█████▌    | 11/20 [00:16<00:13,  1.50s/it]"
     ]
    },
    {
     "name": "stdout",
     "output_type": "stream",
     "text": [
      "la_003.nii.gz Dice list by number of clicks (left atrium): [0.5484, 0.6428, 0.6555, 0.692, 0.6885]\n"
     ]
    },
    {
     "name": "stderr",
     "output_type": "stream",
     "text": [
      " 60%|██████    | 12/20 [00:18<00:12,  1.54s/it]"
     ]
    },
    {
     "name": "stdout",
     "output_type": "stream",
     "text": [
      "la_011.nii.gz Dice list by number of clicks (left atrium): [0.3974, 0.565, 0.5818, 0.6072, 0.6077]\n"
     ]
    },
    {
     "name": "stderr",
     "output_type": "stream",
     "text": [
      " 65%|██████▌   | 13/20 [00:20<00:10,  1.53s/it]"
     ]
    },
    {
     "name": "stdout",
     "output_type": "stream",
     "text": [
      "la_005.nii.gz Dice list by number of clicks (left atrium): [0.3031, 0.5065, 0.4971, 0.5945, 0.61]\n"
     ]
    },
    {
     "name": "stderr",
     "output_type": "stream",
     "text": [
      " 70%|███████   | 14/20 [00:21<00:09,  1.57s/it]"
     ]
    },
    {
     "name": "stdout",
     "output_type": "stream",
     "text": [
      "la_018.nii.gz Dice list by number of clicks (left atrium): [0.567, 0.6966, 0.5663, 0.56, 0.5563]\n"
     ]
    },
    {
     "name": "stderr",
     "output_type": "stream",
     "text": [
      " 75%|███████▌  | 15/20 [00:23<00:08,  1.60s/it]"
     ]
    },
    {
     "name": "stdout",
     "output_type": "stream",
     "text": [
      "la_021.nii.gz Dice list by number of clicks (left atrium): [0.5661, 0.5466, 0.4997, 0.6506, 0.6762]\n"
     ]
    },
    {
     "name": "stderr",
     "output_type": "stream",
     "text": [
      " 80%|████████  | 16/20 [00:24<00:06,  1.58s/it]"
     ]
    },
    {
     "name": "stdout",
     "output_type": "stream",
     "text": [
      "la_019.nii.gz Dice list by number of clicks (left atrium): [0.3819, 0.5917, 0.5955, 0.5986, 0.6397]\n"
     ]
    },
    {
     "name": "stderr",
     "output_type": "stream",
     "text": [
      " 85%|████████▌ | 17/20 [00:26<00:04,  1.51s/it]"
     ]
    },
    {
     "name": "stdout",
     "output_type": "stream",
     "text": [
      "la_004.nii.gz Dice list by number of clicks (left atrium): [0.6596, 0.5583, 0.4743, 0.4613, 0.445]\n"
     ]
    },
    {
     "name": "stderr",
     "output_type": "stream",
     "text": [
      " 90%|█████████ | 18/20 [00:27<00:03,  1.52s/it]"
     ]
    },
    {
     "name": "stdout",
     "output_type": "stream",
     "text": [
      "la_009.nii.gz Dice list by number of clicks (left atrium): [0.494, 0.5985, 0.5729, 0.5916, 0.5676]\n"
     ]
    },
    {
     "name": "stderr",
     "output_type": "stream",
     "text": [
      " 95%|█████████▌| 19/20 [00:29<00:01,  1.49s/it]"
     ]
    },
    {
     "name": "stdout",
     "output_type": "stream",
     "text": [
      "la_026.nii.gz Dice list by number of clicks (left atrium): [0.5309, 0.5281, 0.5827, 0.5801, 0.6322]\n",
      "Save results to /home/t722s/Desktop/Sam-Med3DTest/NetworkHeartModified/eval_res_from_inference.json\n",
      "Done\n"
     ]
    },
    {
     "name": "stderr",
     "output_type": "stream",
     "text": [
      "100%|██████████| 20/20 [00:30<00:00,  1.54s/it]\n"
     ]
    },
    {
     "name": "stdout",
     "output_type": "stream",
     "text": [
      "set seed as 2020\n",
      "device: cuda\n"
     ]
    },
    {
     "name": "stderr",
     "output_type": "stream",
     "text": [
      "  0%|          | 0/20 [00:00<?, ?it/s]"
     ]
    },
    {
     "name": "stdout",
     "output_type": "stream",
     "text": [
      "la_014.nii.gz Dice list by number of clicks (left atrium): [0.5802, 0.6175, 0.5585, 0.5635, 0.5805]\n"
     ]
    },
    {
     "name": "stderr",
     "output_type": "stream",
     "text": [
      "  5%|▌         | 1/20 [00:01<00:33,  1.77s/it]"
     ]
    },
    {
     "name": "stdout",
     "output_type": "stream",
     "text": [
      "la_022.nii.gz Dice list by number of clicks (left atrium): [0.4311, 0.6815, 0.711, 0.6955, 0.7064]\n"
     ]
    },
    {
     "name": "stderr",
     "output_type": "stream",
     "text": [
      " 10%|█         | 2/20 [00:03<00:29,  1.63s/it]"
     ]
    },
    {
     "name": "stdout",
     "output_type": "stream",
     "text": [
      "la_030.nii.gz Dice list by number of clicks (left atrium): [0.6224, 0.5657, 0.6886, 0.6932, 0.7063]\n"
     ]
    },
    {
     "name": "stderr",
     "output_type": "stream",
     "text": [
      " 15%|█▌        | 3/20 [00:04<00:27,  1.59s/it]"
     ]
    },
    {
     "name": "stdout",
     "output_type": "stream",
     "text": [
      "la_010.nii.gz Dice list by number of clicks (left atrium): [0.6742, 0.7013, 0.617, 0.6581, 0.6574]\n"
     ]
    },
    {
     "name": "stderr",
     "output_type": "stream",
     "text": [
      " 20%|██        | 4/20 [00:06<00:25,  1.60s/it]"
     ]
    },
    {
     "name": "stdout",
     "output_type": "stream",
     "text": [
      "la_007.nii.gz Dice list by number of clicks (left atrium): [0.5017, 0.6213, 0.6586, 0.6526, 0.6277]\n"
     ]
    },
    {
     "name": "stderr",
     "output_type": "stream",
     "text": [
      " 25%|██▌       | 5/20 [00:08<00:24,  1.61s/it]"
     ]
    },
    {
     "name": "stdout",
     "output_type": "stream",
     "text": [
      "la_023.nii.gz Dice list by number of clicks (left atrium): [0.8035, 0.7406, 0.6459, 0.6454, 0.6456]\n"
     ]
    },
    {
     "name": "stderr",
     "output_type": "stream",
     "text": [
      " 30%|███       | 6/20 [00:09<00:22,  1.58s/it]"
     ]
    },
    {
     "name": "stdout",
     "output_type": "stream",
     "text": [
      "la_017.nii.gz Dice list by number of clicks (left atrium): [0.471, 0.5233, 0.6361, 0.5961, 0.5909]\n"
     ]
    },
    {
     "name": "stderr",
     "output_type": "stream",
     "text": [
      " 35%|███▌      | 7/20 [00:11<00:20,  1.58s/it]"
     ]
    },
    {
     "name": "stdout",
     "output_type": "stream",
     "text": [
      "la_016.nii.gz Dice list by number of clicks (left atrium): [0.5046, 0.4081, 0.5642, 0.5415, 0.5249]\n"
     ]
    },
    {
     "name": "stderr",
     "output_type": "stream",
     "text": [
      " 40%|████      | 8/20 [00:12<00:17,  1.46s/it]"
     ]
    },
    {
     "name": "stdout",
     "output_type": "stream",
     "text": [
      "la_029.nii.gz Dice list by number of clicks (left atrium): [0.6187, 0.5593, 0.567, 0.5142, 0.5479]\n"
     ]
    },
    {
     "name": "stderr",
     "output_type": "stream",
     "text": [
      " 45%|████▌     | 9/20 [00:13<00:16,  1.47s/it]"
     ]
    },
    {
     "name": "stdout",
     "output_type": "stream",
     "text": [
      "la_024.nii.gz Dice list by number of clicks (left atrium): [0.2722, 0.5168, 0.604, 0.5904, 0.5806]\n"
     ]
    },
    {
     "name": "stderr",
     "output_type": "stream",
     "text": [
      " 50%|█████     | 10/20 [00:15<00:14,  1.48s/it]"
     ]
    },
    {
     "name": "stdout",
     "output_type": "stream",
     "text": [
      "la_020.nii.gz Dice list by number of clicks (left atrium): [0.6319, 0.6394, 0.6689, 0.6736, 0.6417]\n"
     ]
    },
    {
     "name": "stderr",
     "output_type": "stream",
     "text": [
      " 55%|█████▌    | 11/20 [00:16<00:13,  1.51s/it]"
     ]
    },
    {
     "name": "stdout",
     "output_type": "stream",
     "text": [
      "la_003.nii.gz Dice list by number of clicks (left atrium): [0.639, 0.5894, 0.6833, 0.707, 0.7092]\n"
     ]
    },
    {
     "name": "stderr",
     "output_type": "stream",
     "text": [
      " 60%|██████    | 12/20 [00:18<00:12,  1.55s/it]"
     ]
    },
    {
     "name": "stdout",
     "output_type": "stream",
     "text": [
      "la_011.nii.gz Dice list by number of clicks (left atrium): [0.5824, 0.6144, 0.6165, 0.6787, 0.6282]\n"
     ]
    },
    {
     "name": "stderr",
     "output_type": "stream",
     "text": [
      " 65%|██████▌   | 13/20 [00:20<00:10,  1.55s/it]"
     ]
    },
    {
     "name": "stdout",
     "output_type": "stream",
     "text": [
      "la_005.nii.gz Dice list by number of clicks (left atrium): [0.3819, 0.5429, 0.5683, 0.5692, 0.587]\n"
     ]
    },
    {
     "name": "stderr",
     "output_type": "stream",
     "text": [
      " 70%|███████   | 14/20 [00:21<00:09,  1.57s/it]"
     ]
    },
    {
     "name": "stdout",
     "output_type": "stream",
     "text": [
      "la_018.nii.gz Dice list by number of clicks (left atrium): [0.6683, 0.6569, 0.6281, 0.625, 0.6785]\n"
     ]
    },
    {
     "name": "stderr",
     "output_type": "stream",
     "text": [
      " 75%|███████▌  | 15/20 [00:23<00:07,  1.58s/it]"
     ]
    },
    {
     "name": "stdout",
     "output_type": "stream",
     "text": [
      "la_021.nii.gz Dice list by number of clicks (left atrium): [0.6782, 0.6746, 0.6845, 0.7034, 0.6791]\n"
     ]
    },
    {
     "name": "stderr",
     "output_type": "stream",
     "text": [
      " 80%|████████  | 16/20 [00:24<00:06,  1.54s/it]"
     ]
    },
    {
     "name": "stdout",
     "output_type": "stream",
     "text": [
      "la_019.nii.gz Dice list by number of clicks (left atrium): [0.5513, 0.4856, 0.5936, 0.5917, 0.5688]\n"
     ]
    },
    {
     "name": "stderr",
     "output_type": "stream",
     "text": [
      " 85%|████████▌ | 17/20 [00:26<00:04,  1.53s/it]"
     ]
    },
    {
     "name": "stdout",
     "output_type": "stream",
     "text": [
      "la_004.nii.gz Dice list by number of clicks (left atrium): [0.6744, 0.6841, 0.6316, 0.6908, 0.7029]\n"
     ]
    },
    {
     "name": "stderr",
     "output_type": "stream",
     "text": [
      " 90%|█████████ | 18/20 [00:27<00:03,  1.55s/it]"
     ]
    },
    {
     "name": "stdout",
     "output_type": "stream",
     "text": [
      "la_009.nii.gz Dice list by number of clicks (left atrium): [0.3797, 0.4958, 0.601, 0.5778, 0.5761]\n"
     ]
    },
    {
     "name": "stderr",
     "output_type": "stream",
     "text": [
      " 95%|█████████▌| 19/20 [00:29<00:01,  1.53s/it]"
     ]
    },
    {
     "name": "stdout",
     "output_type": "stream",
     "text": [
      "la_026.nii.gz Dice list by number of clicks (left atrium): [0.6231, 0.607, 0.6158, 0.6058, 0.6319]\n",
      "Save results to /home/t722s/Desktop/Sam-Med3DTest/NetworkHeartModified/eval_res_from_inference.json\n",
      "Done\n"
     ]
    },
    {
     "name": "stderr",
     "output_type": "stream",
     "text": [
      "100%|██████████| 20/20 [00:31<00:00,  1.55s/it]\n"
     ]
    },
    {
     "name": "stdout",
     "output_type": "stream",
     "text": [
      "set seed as 2020\n",
      "device: cuda\n"
     ]
    },
    {
     "name": "stderr",
     "output_type": "stream",
     "text": [
      "  0%|          | 0/20 [00:00<?, ?it/s]"
     ]
    },
    {
     "name": "stdout",
     "output_type": "stream",
     "text": [
      "la_014.nii.gz Dice list by number of clicks (left atrium): [0.5755, 0.5456, 0.6685, 0.6855, 0.7285]\n"
     ]
    },
    {
     "name": "stderr",
     "output_type": "stream",
     "text": [
      "  5%|▌         | 1/20 [00:01<00:33,  1.77s/it]"
     ]
    },
    {
     "name": "stdout",
     "output_type": "stream",
     "text": [
      "la_022.nii.gz Dice list by number of clicks (left atrium): [0.6525, 0.5999, 0.6166, 0.6292, 0.5921]\n"
     ]
    },
    {
     "name": "stderr",
     "output_type": "stream",
     "text": [
      " 10%|█         | 2/20 [00:03<00:28,  1.61s/it]"
     ]
    },
    {
     "name": "stdout",
     "output_type": "stream",
     "text": [
      "la_030.nii.gz Dice list by number of clicks (left atrium): [0.6879, 0.7236, 0.7366, 0.745, 0.7322]\n"
     ]
    },
    {
     "name": "stderr",
     "output_type": "stream",
     "text": [
      " 15%|█▌        | 3/20 [00:04<00:26,  1.55s/it]"
     ]
    },
    {
     "name": "stdout",
     "output_type": "stream",
     "text": [
      "la_010.nii.gz Dice list by number of clicks (left atrium): [0.7148, 0.7192, 0.7209, 0.6726, 0.6661]\n"
     ]
    },
    {
     "name": "stderr",
     "output_type": "stream",
     "text": [
      " 20%|██        | 4/20 [00:06<00:24,  1.55s/it]"
     ]
    },
    {
     "name": "stdout",
     "output_type": "stream",
     "text": [
      "la_007.nii.gz Dice list by number of clicks (left atrium): [0.6267, 0.573, 0.5778, 0.594, 0.5935]\n"
     ]
    },
    {
     "name": "stderr",
     "output_type": "stream",
     "text": [
      " 25%|██▌       | 5/20 [00:08<00:24,  1.63s/it]"
     ]
    },
    {
     "name": "stdout",
     "output_type": "stream",
     "text": [
      "la_023.nii.gz Dice list by number of clicks (left atrium): [0.6952, 0.7578, 0.7453, 0.7381, 0.7523]\n"
     ]
    },
    {
     "name": "stderr",
     "output_type": "stream",
     "text": [
      " 30%|███       | 6/20 [00:09<00:21,  1.56s/it]"
     ]
    },
    {
     "name": "stdout",
     "output_type": "stream",
     "text": [
      "la_017.nii.gz Dice list by number of clicks (left atrium): [0.6379, 0.6611, 0.6848, 0.705, 0.7121]\n"
     ]
    },
    {
     "name": "stderr",
     "output_type": "stream",
     "text": [
      " 35%|███▌      | 7/20 [00:11<00:20,  1.55s/it]"
     ]
    },
    {
     "name": "stdout",
     "output_type": "stream",
     "text": [
      "la_016.nii.gz Dice list by number of clicks (left atrium): [0.6179, 0.6696, 0.6747, 0.6763, 0.6836]\n"
     ]
    },
    {
     "name": "stderr",
     "output_type": "stream",
     "text": [
      " 40%|████      | 8/20 [00:12<00:17,  1.45s/it]"
     ]
    },
    {
     "name": "stdout",
     "output_type": "stream",
     "text": [
      "la_029.nii.gz Dice list by number of clicks (left atrium): [0.5416, 0.5746, 0.5671, 0.5731, 0.5999]\n"
     ]
    },
    {
     "name": "stderr",
     "output_type": "stream",
     "text": [
      " 45%|████▌     | 9/20 [00:13<00:15,  1.43s/it]"
     ]
    },
    {
     "name": "stdout",
     "output_type": "stream",
     "text": [
      "la_024.nii.gz Dice list by number of clicks (left atrium): [0.3519, 0.4343, 0.6128, 0.6083, 0.6121]\n"
     ]
    },
    {
     "name": "stderr",
     "output_type": "stream",
     "text": [
      " 50%|█████     | 10/20 [00:15<00:14,  1.47s/it]"
     ]
    },
    {
     "name": "stdout",
     "output_type": "stream",
     "text": [
      "la_020.nii.gz Dice list by number of clicks (left atrium): [0.6112, 0.5677, 0.544, 0.4971, 0.4484]\n"
     ]
    },
    {
     "name": "stderr",
     "output_type": "stream",
     "text": [
      " 55%|█████▌    | 11/20 [00:16<00:13,  1.47s/it]"
     ]
    },
    {
     "name": "stdout",
     "output_type": "stream",
     "text": [
      "la_003.nii.gz Dice list by number of clicks (left atrium): [0.5569, 0.5708, 0.6351, 0.6487, 0.6649]\n"
     ]
    },
    {
     "name": "stderr",
     "output_type": "stream",
     "text": [
      " 60%|██████    | 12/20 [00:18<00:12,  1.52s/it]"
     ]
    },
    {
     "name": "stdout",
     "output_type": "stream",
     "text": [
      "la_011.nii.gz Dice list by number of clicks (left atrium): [0.6335, 0.6287, 0.6428, 0.661, 0.6696]\n"
     ]
    },
    {
     "name": "stderr",
     "output_type": "stream",
     "text": [
      " 65%|██████▌   | 13/20 [00:19<00:10,  1.53s/it]"
     ]
    },
    {
     "name": "stdout",
     "output_type": "stream",
     "text": [
      "la_005.nii.gz Dice list by number of clicks (left atrium): [0.3674, 0.3945, 0.4048, 0.4026, 0.4812]\n"
     ]
    },
    {
     "name": "stderr",
     "output_type": "stream",
     "text": [
      " 70%|███████   | 14/20 [00:21<00:09,  1.54s/it]"
     ]
    },
    {
     "name": "stdout",
     "output_type": "stream",
     "text": [
      "la_018.nii.gz Dice list by number of clicks (left atrium): [0.7072, 0.5452, 0.5276, 0.5135, 0.5324]\n"
     ]
    },
    {
     "name": "stderr",
     "output_type": "stream",
     "text": [
      " 75%|███████▌  | 15/20 [00:22<00:07,  1.55s/it]"
     ]
    },
    {
     "name": "stdout",
     "output_type": "stream",
     "text": [
      "la_021.nii.gz Dice list by number of clicks (left atrium): [0.5362, 0.414, 0.5589, 0.5701, 0.6331]\n"
     ]
    },
    {
     "name": "stderr",
     "output_type": "stream",
     "text": [
      " 80%|████████  | 16/20 [00:24<00:06,  1.51s/it]"
     ]
    },
    {
     "name": "stdout",
     "output_type": "stream",
     "text": [
      "la_019.nii.gz Dice list by number of clicks (left atrium): [0.3215, 0.2954, 0.4683, 0.4694, 0.4846]\n"
     ]
    },
    {
     "name": "stderr",
     "output_type": "stream",
     "text": [
      " 85%|████████▌ | 17/20 [00:25<00:04,  1.46s/it]"
     ]
    },
    {
     "name": "stdout",
     "output_type": "stream",
     "text": [
      "la_004.nii.gz Dice list by number of clicks (left atrium): [0.0316, 0.7323, 0.7448, 0.7389, 0.7468]\n"
     ]
    },
    {
     "name": "stderr",
     "output_type": "stream",
     "text": [
      " 90%|█████████ | 18/20 [00:27<00:02,  1.48s/it]"
     ]
    },
    {
     "name": "stdout",
     "output_type": "stream",
     "text": [
      "la_009.nii.gz Dice list by number of clicks (left atrium): [0.4782, 0.6117, 0.4968, 0.5546, 0.5329]\n"
     ]
    },
    {
     "name": "stderr",
     "output_type": "stream",
     "text": [
      " 95%|█████████▌| 19/20 [00:28<00:01,  1.46s/it]"
     ]
    },
    {
     "name": "stdout",
     "output_type": "stream",
     "text": [
      "la_026.nii.gz Dice list by number of clicks (left atrium): [0.2328, 0.5415, 0.5451, 0.5357, 0.5162]\n",
      "Save results to /home/t722s/Desktop/Sam-Med3DTest/NetworkHeartModified/eval_res_from_inference.json\n",
      "Done\n"
     ]
    },
    {
     "name": "stderr",
     "output_type": "stream",
     "text": [
      "100%|██████████| 20/20 [00:30<00:00,  1.51s/it]\n"
     ]
    },
    {
     "name": "stdout",
     "output_type": "stream",
     "text": [
      "set seed as 2020\n",
      "device: cuda\n"
     ]
    },
    {
     "name": "stderr",
     "output_type": "stream",
     "text": [
      "  0%|          | 0/20 [00:00<?, ?it/s]"
     ]
    },
    {
     "name": "stdout",
     "output_type": "stream",
     "text": [
      "la_014.nii.gz Dice list by number of clicks (left atrium): [0.6562, 0.627, 0.6686, 0.6731, 0.6323]\n"
     ]
    },
    {
     "name": "stderr",
     "output_type": "stream",
     "text": [
      "  5%|▌         | 1/20 [00:01<00:33,  1.79s/it]"
     ]
    },
    {
     "name": "stdout",
     "output_type": "stream",
     "text": [
      "la_022.nii.gz Dice list by number of clicks (left atrium): [0.6825, 0.7072, 0.71, 0.716, 0.7095]\n"
     ]
    },
    {
     "name": "stderr",
     "output_type": "stream",
     "text": [
      " 10%|█         | 2/20 [00:03<00:28,  1.59s/it]"
     ]
    },
    {
     "name": "stdout",
     "output_type": "stream",
     "text": [
      "la_030.nii.gz Dice list by number of clicks (left atrium): [0.5273, 0.6604, 0.6727, 0.7031, 0.7262]\n"
     ]
    },
    {
     "name": "stderr",
     "output_type": "stream",
     "text": [
      " 15%|█▌        | 3/20 [00:04<00:26,  1.55s/it]"
     ]
    },
    {
     "name": "stdout",
     "output_type": "stream",
     "text": [
      "la_010.nii.gz Dice list by number of clicks (left atrium): [0.6132, 0.6551, 0.6615, 0.7411, 0.7448]\n"
     ]
    },
    {
     "name": "stderr",
     "output_type": "stream",
     "text": [
      " 20%|██        | 4/20 [00:06<00:24,  1.56s/it]"
     ]
    },
    {
     "name": "stdout",
     "output_type": "stream",
     "text": [
      "la_007.nii.gz Dice list by number of clicks (left atrium): [0.6257, 0.5888, 0.6739, 0.6712, 0.6554]\n"
     ]
    },
    {
     "name": "stderr",
     "output_type": "stream",
     "text": [
      " 25%|██▌       | 5/20 [00:07<00:23,  1.60s/it]"
     ]
    },
    {
     "name": "stdout",
     "output_type": "stream",
     "text": [
      "la_023.nii.gz Dice list by number of clicks (left atrium): [0.5644, 0.3924, 0.456, 0.5921, 0.6619]\n"
     ]
    },
    {
     "name": "stderr",
     "output_type": "stream",
     "text": [
      " 30%|███       | 6/20 [00:09<00:21,  1.56s/it]"
     ]
    },
    {
     "name": "stdout",
     "output_type": "stream",
     "text": [
      "la_017.nii.gz Dice list by number of clicks (left atrium): [0.631, 0.4752, 0.553, 0.6005, 0.6082]\n"
     ]
    },
    {
     "name": "stderr",
     "output_type": "stream",
     "text": [
      " 35%|███▌      | 7/20 [00:10<00:20,  1.55s/it]"
     ]
    },
    {
     "name": "stdout",
     "output_type": "stream",
     "text": [
      "la_016.nii.gz Dice list by number of clicks (left atrium): [0.6805, 0.7181, 0.7128, 0.7392, 0.7464]\n"
     ]
    },
    {
     "name": "stderr",
     "output_type": "stream",
     "text": [
      " 40%|████      | 8/20 [00:12<00:17,  1.46s/it]"
     ]
    },
    {
     "name": "stdout",
     "output_type": "stream",
     "text": [
      "la_029.nii.gz Dice list by number of clicks (left atrium): [0.5305, 0.5307, 0.4784, 0.5636, 0.5511]\n"
     ]
    },
    {
     "name": "stderr",
     "output_type": "stream",
     "text": [
      " 45%|████▌     | 9/20 [00:13<00:16,  1.46s/it]"
     ]
    },
    {
     "name": "stdout",
     "output_type": "stream",
     "text": [
      "la_024.nii.gz Dice list by number of clicks (left atrium): [0.4506, 0.4224, 0.4096, 0.5691, 0.5608]\n"
     ]
    },
    {
     "name": "stderr",
     "output_type": "stream",
     "text": [
      " 50%|█████     | 10/20 [00:15<00:15,  1.51s/it]"
     ]
    },
    {
     "name": "stdout",
     "output_type": "stream",
     "text": [
      "la_020.nii.gz Dice list by number of clicks (left atrium): [0.6577, 0.5865, 0.5823, 0.6227, 0.6288]\n"
     ]
    },
    {
     "name": "stderr",
     "output_type": "stream",
     "text": [
      " 55%|█████▌    | 11/20 [00:16<00:13,  1.48s/it]"
     ]
    },
    {
     "name": "stdout",
     "output_type": "stream",
     "text": [
      "la_003.nii.gz Dice list by number of clicks (left atrium): [0.6893, 0.6953, 0.6413, 0.6429, 0.5973]\n"
     ]
    },
    {
     "name": "stderr",
     "output_type": "stream",
     "text": [
      " 60%|██████    | 12/20 [00:18<00:12,  1.54s/it]"
     ]
    },
    {
     "name": "stdout",
     "output_type": "stream",
     "text": [
      "la_011.nii.gz Dice list by number of clicks (left atrium): [0.6573, 0.61, 0.5703, 0.5698, 0.5998]\n"
     ]
    },
    {
     "name": "stderr",
     "output_type": "stream",
     "text": [
      " 65%|██████▌   | 13/20 [00:19<00:10,  1.55s/it]"
     ]
    },
    {
     "name": "stdout",
     "output_type": "stream",
     "text": [
      "la_005.nii.gz Dice list by number of clicks (left atrium): [0.3881, 0.4449, 0.5933, 0.573, 0.5716]\n"
     ]
    },
    {
     "name": "stderr",
     "output_type": "stream",
     "text": [
      " 70%|███████   | 14/20 [00:21<00:09,  1.54s/it]"
     ]
    },
    {
     "name": "stdout",
     "output_type": "stream",
     "text": [
      "la_018.nii.gz Dice list by number of clicks (left atrium): [0.5486, 0.5595, 0.5491, 0.59, 0.5954]\n"
     ]
    },
    {
     "name": "stderr",
     "output_type": "stream",
     "text": [
      " 75%|███████▌  | 15/20 [00:23<00:07,  1.57s/it]"
     ]
    },
    {
     "name": "stdout",
     "output_type": "stream",
     "text": [
      "la_021.nii.gz Dice list by number of clicks (left atrium): [0.7288, 0.7225, 0.686, 0.697, 0.6867]\n"
     ]
    },
    {
     "name": "stderr",
     "output_type": "stream",
     "text": [
      " 80%|████████  | 16/20 [00:24<00:06,  1.51s/it]"
     ]
    },
    {
     "name": "stdout",
     "output_type": "stream",
     "text": [
      "la_019.nii.gz Dice list by number of clicks (left atrium): [0.5131, 0.4919, 0.5958, 0.6165, 0.5901]\n"
     ]
    },
    {
     "name": "stderr",
     "output_type": "stream",
     "text": [
      " 85%|████████▌ | 17/20 [00:26<00:04,  1.54s/it]"
     ]
    },
    {
     "name": "stdout",
     "output_type": "stream",
     "text": [
      "la_004.nii.gz Dice list by number of clicks (left atrium): [0.6315, 0.666, 0.673, 0.6764, 0.6773]\n"
     ]
    },
    {
     "name": "stderr",
     "output_type": "stream",
     "text": [
      " 90%|█████████ | 18/20 [00:27<00:03,  1.56s/it]"
     ]
    },
    {
     "name": "stdout",
     "output_type": "stream",
     "text": [
      "la_009.nii.gz Dice list by number of clicks (left atrium): [0.5839, 0.3466, 0.4424, 0.4703, 0.5365]\n"
     ]
    },
    {
     "name": "stderr",
     "output_type": "stream",
     "text": [
      " 95%|█████████▌| 19/20 [00:29<00:01,  1.51s/it]"
     ]
    },
    {
     "name": "stdout",
     "output_type": "stream",
     "text": [
      "la_026.nii.gz Dice list by number of clicks (left atrium): [0.5225, 0.4787, 0.5634, 0.5774, 0.5936]\n",
      "Save results to /home/t722s/Desktop/Sam-Med3DTest/NetworkHeartModified/eval_res_from_inference.json\n",
      "Done\n"
     ]
    },
    {
     "name": "stderr",
     "output_type": "stream",
     "text": [
      "100%|██████████| 20/20 [00:30<00:00,  1.53s/it]\n"
     ]
    },
    {
     "name": "stdout",
     "output_type": "stream",
     "text": [
      "set seed as 2020\n",
      "device: cuda\n"
     ]
    },
    {
     "name": "stderr",
     "output_type": "stream",
     "text": [
      "  0%|          | 0/20 [00:00<?, ?it/s]"
     ]
    },
    {
     "name": "stdout",
     "output_type": "stream",
     "text": [
      "la_014.nii.gz Dice list by number of clicks (left atrium): [0.6751, 0.6621, 0.6608, 0.6623, 0.6891]\n"
     ]
    },
    {
     "name": "stderr",
     "output_type": "stream",
     "text": [
      "  5%|▌         | 1/20 [00:01<00:35,  1.84s/it]"
     ]
    },
    {
     "name": "stdout",
     "output_type": "stream",
     "text": [
      "la_022.nii.gz Dice list by number of clicks (left atrium): [0.6458, 0.5325, 0.5167, 0.6759, 0.6826]\n"
     ]
    },
    {
     "name": "stderr",
     "output_type": "stream",
     "text": [
      " 10%|█         | 2/20 [00:03<00:28,  1.58s/it]"
     ]
    },
    {
     "name": "stdout",
     "output_type": "stream",
     "text": [
      "la_030.nii.gz Dice list by number of clicks (left atrium): [0.6559, 0.6463, 0.6444, 0.6255, 0.6173]\n"
     ]
    },
    {
     "name": "stderr",
     "output_type": "stream",
     "text": [
      " 15%|█▌        | 3/20 [00:04<00:26,  1.54s/it]"
     ]
    },
    {
     "name": "stdout",
     "output_type": "stream",
     "text": [
      "la_010.nii.gz Dice list by number of clicks (left atrium): [0.7382, 0.7274, 0.7254, 0.7287, 0.727]\n"
     ]
    },
    {
     "name": "stderr",
     "output_type": "stream",
     "text": [
      " 20%|██        | 4/20 [00:06<00:24,  1.52s/it]"
     ]
    },
    {
     "name": "stdout",
     "output_type": "stream",
     "text": [
      "la_007.nii.gz Dice list by number of clicks (left atrium): [0.6971, 0.6354, 0.6974, 0.6857, 0.6741]\n"
     ]
    },
    {
     "name": "stderr",
     "output_type": "stream",
     "text": [
      " 25%|██▌       | 5/20 [00:07<00:23,  1.58s/it]"
     ]
    },
    {
     "name": "stdout",
     "output_type": "stream",
     "text": [
      "la_023.nii.gz Dice list by number of clicks (left atrium): [0.8034, 0.7326, 0.7481, 0.7738, 0.7842]\n"
     ]
    },
    {
     "name": "stderr",
     "output_type": "stream",
     "text": [
      " 30%|███       | 6/20 [00:09<00:21,  1.51s/it]"
     ]
    },
    {
     "name": "stdout",
     "output_type": "stream",
     "text": [
      "la_017.nii.gz Dice list by number of clicks (left atrium): [0.62, 0.6143, 0.6428, 0.5686, 0.5314]\n"
     ]
    },
    {
     "name": "stderr",
     "output_type": "stream",
     "text": [
      " 35%|███▌      | 7/20 [00:10<00:20,  1.54s/it]"
     ]
    },
    {
     "name": "stdout",
     "output_type": "stream",
     "text": [
      "la_016.nii.gz Dice list by number of clicks (left atrium): [0.4532, 0.5647, 0.6889, 0.679, 0.6862]\n"
     ]
    },
    {
     "name": "stderr",
     "output_type": "stream",
     "text": [
      " 40%|████      | 8/20 [00:12<00:17,  1.44s/it]"
     ]
    },
    {
     "name": "stdout",
     "output_type": "stream",
     "text": [
      "la_029.nii.gz Dice list by number of clicks (left atrium): [0.5824, 0.5071, 0.5184, 0.5151, 0.5118]\n"
     ]
    },
    {
     "name": "stderr",
     "output_type": "stream",
     "text": [
      " 45%|████▌     | 9/20 [00:13<00:15,  1.45s/it]"
     ]
    },
    {
     "name": "stdout",
     "output_type": "stream",
     "text": [
      "la_024.nii.gz Dice list by number of clicks (left atrium): [0.3462, 0.6168, 0.6735, 0.6917, 0.6888]\n"
     ]
    },
    {
     "name": "stderr",
     "output_type": "stream",
     "text": [
      " 50%|█████     | 10/20 [00:15<00:14,  1.49s/it]"
     ]
    },
    {
     "name": "stdout",
     "output_type": "stream",
     "text": [
      "la_020.nii.gz Dice list by number of clicks (left atrium): [0.5854, 0.6037, 0.5586, 0.6151, 0.6016]\n"
     ]
    },
    {
     "name": "stderr",
     "output_type": "stream",
     "text": [
      " 55%|█████▌    | 11/20 [00:16<00:13,  1.49s/it]"
     ]
    },
    {
     "name": "stdout",
     "output_type": "stream",
     "text": [
      "la_003.nii.gz Dice list by number of clicks (left atrium): [0.6472, 0.6233, 0.6256, 0.6676, 0.67]\n"
     ]
    },
    {
     "name": "stderr",
     "output_type": "stream",
     "text": [
      " 60%|██████    | 12/20 [00:18<00:12,  1.53s/it]"
     ]
    },
    {
     "name": "stdout",
     "output_type": "stream",
     "text": [
      "la_011.nii.gz Dice list by number of clicks (left atrium): [0.7234, 0.7255, 0.6838, 0.7329, 0.6599]\n"
     ]
    },
    {
     "name": "stderr",
     "output_type": "stream",
     "text": [
      " 65%|██████▌   | 13/20 [00:19<00:10,  1.54s/it]"
     ]
    },
    {
     "name": "stdout",
     "output_type": "stream",
     "text": [
      "la_005.nii.gz Dice list by number of clicks (left atrium): [0.5702, 0.5245, 0.5939, 0.5801, 0.4834]\n"
     ]
    },
    {
     "name": "stderr",
     "output_type": "stream",
     "text": [
      " 70%|███████   | 14/20 [00:21<00:09,  1.57s/it]"
     ]
    },
    {
     "name": "stdout",
     "output_type": "stream",
     "text": [
      "la_018.nii.gz Dice list by number of clicks (left atrium): [0.6736, 0.6427, 0.6813, 0.6698, 0.663]\n"
     ]
    },
    {
     "name": "stderr",
     "output_type": "stream",
     "text": [
      " 75%|███████▌  | 15/20 [00:23<00:07,  1.56s/it]"
     ]
    },
    {
     "name": "stdout",
     "output_type": "stream",
     "text": [
      "la_021.nii.gz Dice list by number of clicks (left atrium): [0.6664, 0.6467, 0.6928, 0.6811, 0.6684]\n"
     ]
    },
    {
     "name": "stderr",
     "output_type": "stream",
     "text": [
      " 80%|████████  | 16/20 [00:24<00:06,  1.51s/it]"
     ]
    },
    {
     "name": "stdout",
     "output_type": "stream",
     "text": [
      "la_019.nii.gz Dice list by number of clicks (left atrium): [0.5754, 0.6894, 0.6844, 0.684, 0.6882]\n"
     ]
    },
    {
     "name": "stderr",
     "output_type": "stream",
     "text": [
      " 85%|████████▌ | 17/20 [00:25<00:04,  1.48s/it]"
     ]
    },
    {
     "name": "stdout",
     "output_type": "stream",
     "text": [
      "la_004.nii.gz Dice list by number of clicks (left atrium): [0.6669, 0.6617, 0.6419, 0.6811, 0.7413]\n"
     ]
    },
    {
     "name": "stderr",
     "output_type": "stream",
     "text": [
      " 90%|█████████ | 18/20 [00:27<00:02,  1.49s/it]"
     ]
    },
    {
     "name": "stdout",
     "output_type": "stream",
     "text": [
      "la_009.nii.gz Dice list by number of clicks (left atrium): [0.5058, 0.5869, 0.6488, 0.6437, 0.6537]\n"
     ]
    },
    {
     "name": "stderr",
     "output_type": "stream",
     "text": [
      " 95%|█████████▌| 19/20 [00:28<00:01,  1.48s/it]"
     ]
    },
    {
     "name": "stdout",
     "output_type": "stream",
     "text": [
      "la_026.nii.gz Dice list by number of clicks (left atrium): [0.3715, 0.4751, 0.4585, 0.442, 0.6121]\n",
      "Save results to /home/t722s/Desktop/Sam-Med3DTest/NetworkHeartModified/eval_res_from_inference.json\n",
      "Done\n"
     ]
    },
    {
     "name": "stderr",
     "output_type": "stream",
     "text": [
      "100%|██████████| 20/20 [00:30<00:00,  1.52s/it]\n"
     ]
    },
    {
     "name": "stdout",
     "output_type": "stream",
     "text": [
      "set seed as 2020\n",
      "device: cuda\n"
     ]
    },
    {
     "name": "stderr",
     "output_type": "stream",
     "text": [
      "  0%|          | 0/20 [00:00<?, ?it/s]"
     ]
    },
    {
     "name": "stdout",
     "output_type": "stream",
     "text": [
      "la_014.nii.gz Dice list by number of clicks (left atrium): [0.5015, 0.6557, 0.7184, 0.7128, 0.7005]\n"
     ]
    },
    {
     "name": "stderr",
     "output_type": "stream",
     "text": [
      " 10%|█         | 2/20 [00:03<00:28,  1.59s/it]"
     ]
    },
    {
     "name": "stdout",
     "output_type": "stream",
     "text": [
      "la_022.nii.gz Dice list by number of clicks (left atrium): [0.3332, 0.623, 0.7124, 0.7221, 0.7147]\n",
      "la_030.nii.gz Dice list by number of clicks (left atrium): [0.5364, 0.614, 0.5928, 0.6233, 0.6448]\n"
     ]
    },
    {
     "name": "stderr",
     "output_type": "stream",
     "text": [
      " 15%|█▌        | 3/20 [00:04<00:25,  1.52s/it]"
     ]
    },
    {
     "name": "stdout",
     "output_type": "stream",
     "text": [
      "la_010.nii.gz Dice list by number of clicks (left atrium): [0.73, 0.7146, 0.7241, 0.7615, 0.7588]\n"
     ]
    },
    {
     "name": "stderr",
     "output_type": "stream",
     "text": [
      " 20%|██        | 4/20 [00:06<00:24,  1.54s/it]"
     ]
    },
    {
     "name": "stdout",
     "output_type": "stream",
     "text": [
      "la_007.nii.gz Dice list by number of clicks (left atrium): [0.4827, 0.5492, 0.6459, 0.6475, 0.6951]\n"
     ]
    },
    {
     "name": "stderr",
     "output_type": "stream",
     "text": [
      " 25%|██▌       | 5/20 [00:07<00:23,  1.59s/it]"
     ]
    },
    {
     "name": "stdout",
     "output_type": "stream",
     "text": [
      "la_023.nii.gz Dice list by number of clicks (left atrium): [0.6678, 0.711, 0.6887, 0.6881, 0.6848]\n"
     ]
    },
    {
     "name": "stderr",
     "output_type": "stream",
     "text": [
      " 30%|███       | 6/20 [00:09<00:21,  1.51s/it]"
     ]
    },
    {
     "name": "stdout",
     "output_type": "stream",
     "text": [
      "la_017.nii.gz Dice list by number of clicks (left atrium): [0.6397, 0.5665, 0.5534, 0.6012, 0.6673]\n"
     ]
    },
    {
     "name": "stderr",
     "output_type": "stream",
     "text": [
      " 35%|███▌      | 7/20 [00:10<00:19,  1.54s/it]"
     ]
    },
    {
     "name": "stdout",
     "output_type": "stream",
     "text": [
      "la_016.nii.gz Dice list by number of clicks (left atrium): [0.6832, 0.6861, 0.6858, 0.6761, 0.6913]\n"
     ]
    },
    {
     "name": "stderr",
     "output_type": "stream",
     "text": [
      " 40%|████      | 8/20 [00:12<00:17,  1.45s/it]"
     ]
    },
    {
     "name": "stdout",
     "output_type": "stream",
     "text": [
      "la_029.nii.gz Dice list by number of clicks (left atrium): [0.5641, 0.5704, 0.5889, 0.6421, 0.6418]\n"
     ]
    },
    {
     "name": "stderr",
     "output_type": "stream",
     "text": [
      " 45%|████▌     | 9/20 [00:13<00:16,  1.46s/it]"
     ]
    },
    {
     "name": "stdout",
     "output_type": "stream",
     "text": [
      "la_024.nii.gz Dice list by number of clicks (left atrium): [0.6949, 0.692, 0.6562, 0.7349, 0.7421]\n"
     ]
    },
    {
     "name": "stderr",
     "output_type": "stream",
     "text": [
      " 50%|█████     | 10/20 [00:15<00:14,  1.48s/it]"
     ]
    },
    {
     "name": "stdout",
     "output_type": "stream",
     "text": [
      "la_020.nii.gz Dice list by number of clicks (left atrium): [0.5957, 0.6267, 0.6575, 0.6638, 0.6582]\n"
     ]
    },
    {
     "name": "stderr",
     "output_type": "stream",
     "text": [
      " 55%|█████▌    | 11/20 [00:16<00:13,  1.48s/it]"
     ]
    },
    {
     "name": "stdout",
     "output_type": "stream",
     "text": [
      "la_003.nii.gz Dice list by number of clicks (left atrium): [0.5867, 0.6338, 0.6732, 0.6499, 0.6636]\n"
     ]
    },
    {
     "name": "stderr",
     "output_type": "stream",
     "text": [
      " 60%|██████    | 12/20 [00:18<00:12,  1.54s/it]"
     ]
    },
    {
     "name": "stdout",
     "output_type": "stream",
     "text": [
      "la_011.nii.gz Dice list by number of clicks (left atrium): [0.5773, 0.599, 0.5969, 0.6177, 0.5716]\n"
     ]
    },
    {
     "name": "stderr",
     "output_type": "stream",
     "text": [
      " 65%|██████▌   | 13/20 [00:19<00:10,  1.54s/it]"
     ]
    },
    {
     "name": "stdout",
     "output_type": "stream",
     "text": [
      "la_005.nii.gz Dice list by number of clicks (left atrium): [0.4727, 0.5846, 0.584, 0.6233, 0.6587]\n"
     ]
    },
    {
     "name": "stderr",
     "output_type": "stream",
     "text": [
      " 70%|███████   | 14/20 [00:21<00:09,  1.54s/it]"
     ]
    },
    {
     "name": "stdout",
     "output_type": "stream",
     "text": [
      "la_018.nii.gz Dice list by number of clicks (left atrium): [0.5116, 0.5426, 0.5293, 0.5417, 0.5843]\n"
     ]
    },
    {
     "name": "stderr",
     "output_type": "stream",
     "text": [
      " 75%|███████▌  | 15/20 [00:22<00:07,  1.55s/it]"
     ]
    },
    {
     "name": "stdout",
     "output_type": "stream",
     "text": [
      "la_021.nii.gz Dice list by number of clicks (left atrium): [0.6395, 0.6638, 0.6171, 0.6805, 0.6813]\n"
     ]
    },
    {
     "name": "stderr",
     "output_type": "stream",
     "text": [
      " 80%|████████  | 16/20 [00:24<00:06,  1.50s/it]"
     ]
    },
    {
     "name": "stdout",
     "output_type": "stream",
     "text": [
      "la_019.nii.gz Dice list by number of clicks (left atrium): [0.3082, 0.2855, 0.391, 0.6395, 0.634]\n"
     ]
    },
    {
     "name": "stderr",
     "output_type": "stream",
     "text": [
      " 85%|████████▌ | 17/20 [00:25<00:04,  1.47s/it]"
     ]
    },
    {
     "name": "stdout",
     "output_type": "stream",
     "text": [
      "la_004.nii.gz Dice list by number of clicks (left atrium): [0.6333, 0.6935, 0.6587, 0.6563, 0.6728]\n"
     ]
    },
    {
     "name": "stderr",
     "output_type": "stream",
     "text": [
      " 90%|█████████ | 18/20 [00:27<00:02,  1.48s/it]"
     ]
    },
    {
     "name": "stdout",
     "output_type": "stream",
     "text": [
      "la_009.nii.gz Dice list by number of clicks (left atrium): [0.5714, 0.6342, 0.6204, 0.6472, 0.6475]\n"
     ]
    },
    {
     "name": "stderr",
     "output_type": "stream",
     "text": [
      " 95%|█████████▌| 19/20 [00:28<00:01,  1.44s/it]"
     ]
    },
    {
     "name": "stdout",
     "output_type": "stream",
     "text": [
      "la_026.nii.gz Dice list by number of clicks (left atrium): [0.485, 0.6037, 0.6011, 0.5917, 0.5967]\n",
      "Save results to /home/t722s/Desktop/Sam-Med3DTest/NetworkHeartModified/eval_res_from_inference.json\n",
      "Done\n"
     ]
    },
    {
     "name": "stderr",
     "output_type": "stream",
     "text": [
      "100%|██████████| 20/20 [00:30<00:00,  1.51s/it]\n"
     ]
    },
    {
     "name": "stdout",
     "output_type": "stream",
     "text": [
      "set seed as 2020\n",
      "device: cuda\n"
     ]
    },
    {
     "name": "stderr",
     "output_type": "stream",
     "text": [
      "  0%|          | 0/20 [00:00<?, ?it/s]"
     ]
    },
    {
     "name": "stdout",
     "output_type": "stream",
     "text": [
      "la_014.nii.gz Dice list by number of clicks (left atrium): [0.6477, 0.6058, 0.5379, 0.7332, 0.7331]\n"
     ]
    },
    {
     "name": "stderr",
     "output_type": "stream",
     "text": [
      "  5%|▌         | 1/20 [00:01<00:33,  1.76s/it]"
     ]
    },
    {
     "name": "stdout",
     "output_type": "stream",
     "text": [
      "la_022.nii.gz Dice list by number of clicks (left atrium): [0.6311, 0.7316, 0.7121, 0.7184, 0.7057]\n"
     ]
    },
    {
     "name": "stderr",
     "output_type": "stream",
     "text": [
      " 10%|█         | 2/20 [00:03<00:29,  1.65s/it]"
     ]
    },
    {
     "name": "stdout",
     "output_type": "stream",
     "text": [
      "la_030.nii.gz Dice list by number of clicks (left atrium): [0.5993, 0.7141, 0.7072, 0.7029, 0.7114]\n"
     ]
    },
    {
     "name": "stderr",
     "output_type": "stream",
     "text": [
      " 15%|█▌        | 3/20 [00:04<00:26,  1.56s/it]"
     ]
    },
    {
     "name": "stdout",
     "output_type": "stream",
     "text": [
      "la_010.nii.gz Dice list by number of clicks (left atrium): [0.6863, 0.7268, 0.7099, 0.699, 0.6824]\n"
     ]
    },
    {
     "name": "stderr",
     "output_type": "stream",
     "text": [
      " 20%|██        | 4/20 [00:06<00:24,  1.53s/it]"
     ]
    },
    {
     "name": "stdout",
     "output_type": "stream",
     "text": [
      "la_007.nii.gz Dice list by number of clicks (left atrium): [0.3548, 0.4088, 0.3954, 0.6212, 0.6494]\n"
     ]
    },
    {
     "name": "stderr",
     "output_type": "stream",
     "text": [
      " 25%|██▌       | 5/20 [00:07<00:23,  1.55s/it]"
     ]
    },
    {
     "name": "stdout",
     "output_type": "stream",
     "text": [
      "la_023.nii.gz Dice list by number of clicks (left atrium): [0.5467, 0.6699, 0.7828, 0.7731, 0.7714]\n"
     ]
    },
    {
     "name": "stderr",
     "output_type": "stream",
     "text": [
      " 30%|███       | 6/20 [00:09<00:21,  1.52s/it]"
     ]
    },
    {
     "name": "stdout",
     "output_type": "stream",
     "text": [
      "la_017.nii.gz Dice list by number of clicks (left atrium): [0.4429, 0.5911, 0.6398, 0.6377, 0.6503]\n"
     ]
    },
    {
     "name": "stderr",
     "output_type": "stream",
     "text": [
      " 35%|███▌      | 7/20 [00:10<00:20,  1.55s/it]"
     ]
    },
    {
     "name": "stdout",
     "output_type": "stream",
     "text": [
      "la_016.nii.gz Dice list by number of clicks (left atrium): [0.6208, 0.6412, 0.6768, 0.623, 0.6377]\n"
     ]
    },
    {
     "name": "stderr",
     "output_type": "stream",
     "text": [
      " 40%|████      | 8/20 [00:12<00:17,  1.44s/it]"
     ]
    },
    {
     "name": "stdout",
     "output_type": "stream",
     "text": [
      "la_029.nii.gz Dice list by number of clicks (left atrium): [0.6533, 0.6468, 0.6506, 0.6491, 0.6558]\n"
     ]
    },
    {
     "name": "stderr",
     "output_type": "stream",
     "text": [
      " 45%|████▌     | 9/20 [00:13<00:15,  1.43s/it]"
     ]
    },
    {
     "name": "stdout",
     "output_type": "stream",
     "text": [
      "la_024.nii.gz Dice list by number of clicks (left atrium): [0.6552, 0.6542, 0.6243, 0.6792, 0.705]\n"
     ]
    },
    {
     "name": "stderr",
     "output_type": "stream",
     "text": [
      " 55%|█████▌    | 11/20 [00:16<00:13,  1.48s/it]"
     ]
    },
    {
     "name": "stdout",
     "output_type": "stream",
     "text": [
      "la_020.nii.gz Dice list by number of clicks (left atrium): [0.5457, 0.6061, 0.6002, 0.6279, 0.636]\n",
      "la_003.nii.gz Dice list by number of clicks (left atrium): [0.3955, 0.6114, 0.6242, 0.6192, 0.6226]\n"
     ]
    },
    {
     "name": "stderr",
     "output_type": "stream",
     "text": [
      " 60%|██████    | 12/20 [00:18<00:12,  1.53s/it]"
     ]
    },
    {
     "name": "stdout",
     "output_type": "stream",
     "text": [
      "la_011.nii.gz Dice list by number of clicks (left atrium): [0.6043, 0.4894, 0.4243, 0.403, 0.5743]\n"
     ]
    },
    {
     "name": "stderr",
     "output_type": "stream",
     "text": [
      " 65%|██████▌   | 13/20 [00:19<00:10,  1.53s/it]"
     ]
    },
    {
     "name": "stdout",
     "output_type": "stream",
     "text": [
      "la_005.nii.gz Dice list by number of clicks (left atrium): [0.6669, 0.6735, 0.6729, 0.6599, 0.6793]\n"
     ]
    },
    {
     "name": "stderr",
     "output_type": "stream",
     "text": [
      " 70%|███████   | 14/20 [00:21<00:09,  1.56s/it]"
     ]
    },
    {
     "name": "stdout",
     "output_type": "stream",
     "text": [
      "la_018.nii.gz Dice list by number of clicks (left atrium): [0.7034, 0.7019, 0.6501, 0.5641, 0.5699]\n"
     ]
    },
    {
     "name": "stderr",
     "output_type": "stream",
     "text": [
      " 75%|███████▌  | 15/20 [00:22<00:07,  1.56s/it]"
     ]
    },
    {
     "name": "stdout",
     "output_type": "stream",
     "text": [
      "la_021.nii.gz Dice list by number of clicks (left atrium): [0.6669, 0.7354, 0.7315, 0.7431, 0.7349]\n"
     ]
    },
    {
     "name": "stderr",
     "output_type": "stream",
     "text": [
      " 80%|████████  | 16/20 [00:24<00:06,  1.51s/it]"
     ]
    },
    {
     "name": "stdout",
     "output_type": "stream",
     "text": [
      "la_019.nii.gz Dice list by number of clicks (left atrium): [0.5699, 0.6291, 0.6235, 0.6667, 0.679]\n"
     ]
    },
    {
     "name": "stderr",
     "output_type": "stream",
     "text": [
      " 85%|████████▌ | 17/20 [00:25<00:04,  1.51s/it]"
     ]
    },
    {
     "name": "stdout",
     "output_type": "stream",
     "text": [
      "la_004.nii.gz Dice list by number of clicks (left atrium): [0.6629, 0.6462, 0.6578, 0.6609, 0.6385]\n"
     ]
    },
    {
     "name": "stderr",
     "output_type": "stream",
     "text": [
      " 90%|█████████ | 18/20 [00:27<00:03,  1.53s/it]"
     ]
    },
    {
     "name": "stdout",
     "output_type": "stream",
     "text": [
      "la_009.nii.gz Dice list by number of clicks (left atrium): [0.4963, 0.432, 0.5556, 0.5541, 0.5562]\n"
     ]
    },
    {
     "name": "stderr",
     "output_type": "stream",
     "text": [
      " 95%|█████████▌| 19/20 [00:28<00:01,  1.49s/it]"
     ]
    },
    {
     "name": "stdout",
     "output_type": "stream",
     "text": [
      "la_026.nii.gz Dice list by number of clicks (left atrium): [0.5849, 0.5691, 0.5163, 0.5347, 0.5588]\n",
      "Save results to /home/t722s/Desktop/Sam-Med3DTest/NetworkHeartModified/eval_res_from_inference.json\n",
      "Done\n"
     ]
    },
    {
     "name": "stderr",
     "output_type": "stream",
     "text": [
      "100%|██████████| 20/20 [00:30<00:00,  1.52s/it]\n"
     ]
    },
    {
     "name": "stdout",
     "output_type": "stream",
     "text": [
      "set seed as 2020\n",
      "device: cuda\n"
     ]
    },
    {
     "name": "stderr",
     "output_type": "stream",
     "text": [
      "  0%|          | 0/20 [00:00<?, ?it/s]"
     ]
    },
    {
     "name": "stdout",
     "output_type": "stream",
     "text": [
      "la_014.nii.gz Dice list by number of clicks (left atrium): [0.6312, 0.7296, 0.7407, 0.7336, 0.7225]\n"
     ]
    },
    {
     "name": "stderr",
     "output_type": "stream",
     "text": [
      "  5%|▌         | 1/20 [00:01<00:35,  1.86s/it]"
     ]
    },
    {
     "name": "stdout",
     "output_type": "stream",
     "text": [
      "la_022.nii.gz Dice list by number of clicks (left atrium): [0.5511, 0.6191, 0.6516, 0.6377, 0.621]\n"
     ]
    },
    {
     "name": "stderr",
     "output_type": "stream",
     "text": [
      " 10%|█         | 2/20 [00:03<00:29,  1.62s/it]"
     ]
    },
    {
     "name": "stdout",
     "output_type": "stream",
     "text": [
      "la_030.nii.gz Dice list by number of clicks (left atrium): [0.6964, 0.6886, 0.6865, 0.7043, 0.7034]\n"
     ]
    },
    {
     "name": "stderr",
     "output_type": "stream",
     "text": [
      " 15%|█▌        | 3/20 [00:04<00:26,  1.58s/it]"
     ]
    },
    {
     "name": "stdout",
     "output_type": "stream",
     "text": [
      "la_010.nii.gz Dice list by number of clicks (left atrium): [0.5396, 0.6437, 0.6739, 0.6909, 0.7095]\n"
     ]
    },
    {
     "name": "stderr",
     "output_type": "stream",
     "text": [
      " 20%|██        | 4/20 [00:06<00:25,  1.58s/it]"
     ]
    },
    {
     "name": "stdout",
     "output_type": "stream",
     "text": [
      "la_007.nii.gz Dice list by number of clicks (left atrium): [0.5478, 0.5728, 0.6389, 0.6337, 0.6507]\n"
     ]
    },
    {
     "name": "stderr",
     "output_type": "stream",
     "text": [
      " 25%|██▌       | 5/20 [00:08<00:23,  1.59s/it]"
     ]
    },
    {
     "name": "stdout",
     "output_type": "stream",
     "text": [
      "la_023.nii.gz Dice list by number of clicks (left atrium): [0.7106, 0.7383, 0.7439, 0.7653, 0.813]\n"
     ]
    },
    {
     "name": "stderr",
     "output_type": "stream",
     "text": [
      " 30%|███       | 6/20 [00:09<00:21,  1.55s/it]"
     ]
    },
    {
     "name": "stdout",
     "output_type": "stream",
     "text": [
      "la_017.nii.gz Dice list by number of clicks (left atrium): [0.6756, 0.687, 0.7086, 0.6925, 0.713]\n"
     ]
    },
    {
     "name": "stderr",
     "output_type": "stream",
     "text": [
      " 35%|███▌      | 7/20 [00:11<00:20,  1.57s/it]"
     ]
    },
    {
     "name": "stdout",
     "output_type": "stream",
     "text": [
      "la_016.nii.gz Dice list by number of clicks (left atrium): [0.7212, 0.6607, 0.6485, 0.6558, 0.6578]\n"
     ]
    },
    {
     "name": "stderr",
     "output_type": "stream",
     "text": [
      " 40%|████      | 8/20 [00:12<00:17,  1.45s/it]"
     ]
    },
    {
     "name": "stdout",
     "output_type": "stream",
     "text": [
      "la_029.nii.gz Dice list by number of clicks (left atrium): [0.6482, 0.7202, 0.743, 0.7271, 0.7301]\n"
     ]
    },
    {
     "name": "stderr",
     "output_type": "stream",
     "text": [
      " 45%|████▌     | 9/20 [00:13<00:15,  1.45s/it]"
     ]
    },
    {
     "name": "stdout",
     "output_type": "stream",
     "text": [
      "la_024.nii.gz Dice list by number of clicks (left atrium): [0.5548, 0.6194, 0.6766, 0.7241, 0.7156]\n"
     ]
    },
    {
     "name": "stderr",
     "output_type": "stream",
     "text": [
      " 50%|█████     | 10/20 [00:15<00:14,  1.47s/it]"
     ]
    },
    {
     "name": "stdout",
     "output_type": "stream",
     "text": [
      "la_020.nii.gz Dice list by number of clicks (left atrium): [0.6936, 0.6914, 0.6058, 0.5993, 0.5951]\n"
     ]
    },
    {
     "name": "stderr",
     "output_type": "stream",
     "text": [
      " 55%|█████▌    | 11/20 [00:16<00:13,  1.50s/it]"
     ]
    },
    {
     "name": "stdout",
     "output_type": "stream",
     "text": [
      "la_003.nii.gz Dice list by number of clicks (left atrium): [0.6346, 0.6106, 0.6291, 0.6389, 0.636]\n"
     ]
    },
    {
     "name": "stderr",
     "output_type": "stream",
     "text": [
      " 60%|██████    | 12/20 [00:18<00:12,  1.53s/it]"
     ]
    },
    {
     "name": "stdout",
     "output_type": "stream",
     "text": [
      "la_011.nii.gz Dice list by number of clicks (left atrium): [0.5373, 0.4408, 0.4243, 0.442, 0.4496]\n"
     ]
    },
    {
     "name": "stderr",
     "output_type": "stream",
     "text": [
      " 65%|██████▌   | 13/20 [00:19<00:10,  1.54s/it]"
     ]
    },
    {
     "name": "stdout",
     "output_type": "stream",
     "text": [
      "la_005.nii.gz Dice list by number of clicks (left atrium): [0.5431, 0.5052, 0.5911, 0.6078, 0.6369]\n"
     ]
    },
    {
     "name": "stderr",
     "output_type": "stream",
     "text": [
      " 70%|███████   | 14/20 [00:21<00:09,  1.56s/it]"
     ]
    },
    {
     "name": "stdout",
     "output_type": "stream",
     "text": [
      "la_018.nii.gz Dice list by number of clicks (left atrium): [0.5828, 0.689, 0.6388, 0.6492, 0.6387]\n"
     ]
    },
    {
     "name": "stderr",
     "output_type": "stream",
     "text": [
      " 75%|███████▌  | 15/20 [00:23<00:07,  1.59s/it]"
     ]
    },
    {
     "name": "stdout",
     "output_type": "stream",
     "text": [
      "la_021.nii.gz Dice list by number of clicks (left atrium): [0.6286, 0.6374, 0.6342, 0.684, 0.6793]\n"
     ]
    },
    {
     "name": "stderr",
     "output_type": "stream",
     "text": [
      " 80%|████████  | 16/20 [00:24<00:06,  1.56s/it]"
     ]
    },
    {
     "name": "stdout",
     "output_type": "stream",
     "text": [
      "la_019.nii.gz Dice list by number of clicks (left atrium): [0.3216, 0.3293, 0.543, 0.6319, 0.6521]\n"
     ]
    },
    {
     "name": "stderr",
     "output_type": "stream",
     "text": [
      " 85%|████████▌ | 17/20 [00:26<00:04,  1.52s/it]"
     ]
    },
    {
     "name": "stdout",
     "output_type": "stream",
     "text": [
      "la_004.nii.gz Dice list by number of clicks (left atrium): [0.7439, 0.7589, 0.7899, 0.7077, 0.7067]\n"
     ]
    },
    {
     "name": "stderr",
     "output_type": "stream",
     "text": [
      " 90%|█████████ | 18/20 [00:27<00:03,  1.53s/it]"
     ]
    },
    {
     "name": "stdout",
     "output_type": "stream",
     "text": [
      "la_009.nii.gz Dice list by number of clicks (left atrium): [0.6785, 0.5752, 0.5517, 0.5354, 0.5198]\n"
     ]
    },
    {
     "name": "stderr",
     "output_type": "stream",
     "text": [
      " 95%|█████████▌| 19/20 [00:29<00:01,  1.49s/it]"
     ]
    },
    {
     "name": "stdout",
     "output_type": "stream",
     "text": [
      "la_026.nii.gz Dice list by number of clicks (left atrium): [0.3059, 0.4337, 0.5594, 0.5413, 0.5386]\n",
      "Save results to /home/t722s/Desktop/Sam-Med3DTest/NetworkHeartModified/eval_res_from_inference.json\n",
      "Done\n"
     ]
    },
    {
     "name": "stderr",
     "output_type": "stream",
     "text": [
      "100%|██████████| 20/20 [00:30<00:00,  1.54s/it]\n"
     ]
    },
    {
     "name": "stdout",
     "output_type": "stream",
     "text": [
      "set seed as 2020\n",
      "device: cuda\n"
     ]
    },
    {
     "name": "stderr",
     "output_type": "stream",
     "text": [
      "  0%|          | 0/20 [00:00<?, ?it/s]"
     ]
    },
    {
     "name": "stdout",
     "output_type": "stream",
     "text": [
      "la_014.nii.gz Dice list by number of clicks (left atrium): [0.6558, 0.6673, 0.6921, 0.6861, 0.6294]\n"
     ]
    },
    {
     "name": "stderr",
     "output_type": "stream",
     "text": [
      "  5%|▌         | 1/20 [00:01<00:32,  1.73s/it]"
     ]
    },
    {
     "name": "stdout",
     "output_type": "stream",
     "text": [
      "la_022.nii.gz Dice list by number of clicks (left atrium): [0.635, 0.6698, 0.6045, 0.6245, 0.6345]\n"
     ]
    },
    {
     "name": "stderr",
     "output_type": "stream",
     "text": [
      " 10%|█         | 2/20 [00:03<00:28,  1.59s/it]"
     ]
    },
    {
     "name": "stdout",
     "output_type": "stream",
     "text": [
      "la_030.nii.gz Dice list by number of clicks (left atrium): [0.1956, 0.2833, 0.6005, 0.6513, 0.6449]\n"
     ]
    },
    {
     "name": "stderr",
     "output_type": "stream",
     "text": [
      " 15%|█▌        | 3/20 [00:04<00:26,  1.55s/it]"
     ]
    },
    {
     "name": "stdout",
     "output_type": "stream",
     "text": [
      "la_010.nii.gz Dice list by number of clicks (left atrium): [0.6108, 0.6641, 0.5949, 0.6638, 0.6327]\n"
     ]
    },
    {
     "name": "stderr",
     "output_type": "stream",
     "text": [
      " 20%|██        | 4/20 [00:06<00:25,  1.57s/it]"
     ]
    },
    {
     "name": "stdout",
     "output_type": "stream",
     "text": [
      "la_007.nii.gz Dice list by number of clicks (left atrium): [0.4764, 0.6676, 0.6644, 0.6693, 0.6759]\n"
     ]
    },
    {
     "name": "stderr",
     "output_type": "stream",
     "text": [
      " 25%|██▌       | 5/20 [00:07<00:23,  1.60s/it]"
     ]
    },
    {
     "name": "stdout",
     "output_type": "stream",
     "text": [
      "la_023.nii.gz Dice list by number of clicks (left atrium): [0.6815, 0.7193, 0.7362, 0.7163, 0.7403]\n"
     ]
    },
    {
     "name": "stderr",
     "output_type": "stream",
     "text": [
      " 30%|███       | 6/20 [00:09<00:21,  1.55s/it]"
     ]
    },
    {
     "name": "stdout",
     "output_type": "stream",
     "text": [
      "la_017.nii.gz Dice list by number of clicks (left atrium): [0.5532, 0.5181, 0.5472, 0.5982, 0.609]\n"
     ]
    },
    {
     "name": "stderr",
     "output_type": "stream",
     "text": [
      " 35%|███▌      | 7/20 [00:10<00:20,  1.54s/it]"
     ]
    },
    {
     "name": "stdout",
     "output_type": "stream",
     "text": [
      "la_016.nii.gz Dice list by number of clicks (left atrium): [0.6316, 0.6206, 0.6211, 0.6005, 0.6478]\n"
     ]
    },
    {
     "name": "stderr",
     "output_type": "stream",
     "text": [
      " 40%|████      | 8/20 [00:12<00:17,  1.45s/it]"
     ]
    },
    {
     "name": "stdout",
     "output_type": "stream",
     "text": [
      "la_029.nii.gz Dice list by number of clicks (left atrium): [0.6437, 0.6474, 0.6131, 0.6629, 0.6199]\n"
     ]
    },
    {
     "name": "stderr",
     "output_type": "stream",
     "text": [
      " 45%|████▌     | 9/20 [00:13<00:16,  1.46s/it]"
     ]
    },
    {
     "name": "stdout",
     "output_type": "stream",
     "text": [
      "la_024.nii.gz Dice list by number of clicks (left atrium): [0.612, 0.6113, 0.6366, 0.6628, 0.679]\n"
     ]
    },
    {
     "name": "stderr",
     "output_type": "stream",
     "text": [
      " 50%|█████     | 10/20 [00:15<00:14,  1.49s/it]"
     ]
    },
    {
     "name": "stdout",
     "output_type": "stream",
     "text": [
      "la_020.nii.gz Dice list by number of clicks (left atrium): [0.6534, 0.6481, 0.6466, 0.641, 0.6138]\n"
     ]
    },
    {
     "name": "stderr",
     "output_type": "stream",
     "text": [
      " 55%|█████▌    | 11/20 [00:16<00:13,  1.48s/it]"
     ]
    },
    {
     "name": "stdout",
     "output_type": "stream",
     "text": [
      "la_003.nii.gz Dice list by number of clicks (left atrium): [0.5387, 0.5036, 0.5832, 0.5683, 0.6941]\n"
     ]
    },
    {
     "name": "stderr",
     "output_type": "stream",
     "text": [
      " 60%|██████    | 12/20 [00:18<00:12,  1.55s/it]"
     ]
    },
    {
     "name": "stdout",
     "output_type": "stream",
     "text": [
      "la_011.nii.gz Dice list by number of clicks (left atrium): [0.5755, 0.6407, 0.6416, 0.6249, 0.5865]\n"
     ]
    },
    {
     "name": "stderr",
     "output_type": "stream",
     "text": [
      " 65%|██████▌   | 13/20 [00:19<00:10,  1.55s/it]"
     ]
    },
    {
     "name": "stdout",
     "output_type": "stream",
     "text": [
      "la_005.nii.gz Dice list by number of clicks (left atrium): [0.5395, 0.5731, 0.5483, 0.5753, 0.5589]\n"
     ]
    },
    {
     "name": "stderr",
     "output_type": "stream",
     "text": [
      " 70%|███████   | 14/20 [00:21<00:09,  1.55s/it]"
     ]
    },
    {
     "name": "stdout",
     "output_type": "stream",
     "text": [
      "la_018.nii.gz Dice list by number of clicks (left atrium): [0.5803, 0.5536, 0.5629, 0.5498, 0.5475]\n"
     ]
    },
    {
     "name": "stderr",
     "output_type": "stream",
     "text": [
      " 75%|███████▌  | 15/20 [00:23<00:07,  1.56s/it]"
     ]
    },
    {
     "name": "stdout",
     "output_type": "stream",
     "text": [
      "la_021.nii.gz Dice list by number of clicks (left atrium): [0.3996, 0.4846, 0.581, 0.5432, 0.5319]\n"
     ]
    },
    {
     "name": "stderr",
     "output_type": "stream",
     "text": [
      " 80%|████████  | 16/20 [00:24<00:06,  1.55s/it]"
     ]
    },
    {
     "name": "stdout",
     "output_type": "stream",
     "text": [
      "la_019.nii.gz Dice list by number of clicks (left atrium): [0.6844, 0.6924, 0.6538, 0.693, 0.6902]\n"
     ]
    },
    {
     "name": "stderr",
     "output_type": "stream",
     "text": [
      " 85%|████████▌ | 17/20 [00:25<00:04,  1.49s/it]"
     ]
    },
    {
     "name": "stdout",
     "output_type": "stream",
     "text": [
      "la_004.nii.gz Dice list by number of clicks (left atrium): [0.6416, 0.6766, 0.6825, 0.7124, 0.7057]\n"
     ]
    },
    {
     "name": "stderr",
     "output_type": "stream",
     "text": [
      " 90%|█████████ | 18/20 [00:27<00:02,  1.50s/it]"
     ]
    },
    {
     "name": "stdout",
     "output_type": "stream",
     "text": [
      "la_009.nii.gz Dice list by number of clicks (left atrium): [0.6486, 0.5117, 0.5594, 0.5956, 0.5905]\n"
     ]
    },
    {
     "name": "stderr",
     "output_type": "stream",
     "text": [
      " 95%|█████████▌| 19/20 [00:29<00:01,  1.52s/it]"
     ]
    },
    {
     "name": "stdout",
     "output_type": "stream",
     "text": [
      "la_026.nii.gz Dice list by number of clicks (left atrium): [0.5694, 0.5178, 0.5879, 0.5721, 0.561]\n",
      "Save results to /home/t722s/Desktop/Sam-Med3DTest/NetworkHeartModified/eval_res_from_inference.json\n",
      "Done\n"
     ]
    },
    {
     "name": "stderr",
     "output_type": "stream",
     "text": [
      "100%|██████████| 20/20 [00:30<00:00,  1.53s/it]\n"
     ]
    },
    {
     "name": "stdout",
     "output_type": "stream",
     "text": [
      "set seed as 2020\n",
      "device: cuda\n"
     ]
    },
    {
     "name": "stderr",
     "output_type": "stream",
     "text": [
      "  0%|          | 0/20 [00:00<?, ?it/s]"
     ]
    },
    {
     "name": "stdout",
     "output_type": "stream",
     "text": [
      "la_014.nii.gz Dice list by number of clicks (left atrium): [0.6341, 0.6216, 0.714, 0.7143, 0.7277]\n"
     ]
    },
    {
     "name": "stderr",
     "output_type": "stream",
     "text": [
      "  5%|▌         | 1/20 [00:01<00:34,  1.80s/it]"
     ]
    },
    {
     "name": "stdout",
     "output_type": "stream",
     "text": [
      "la_022.nii.gz Dice list by number of clicks (left atrium): [0.5773, 0.5926, 0.6273, 0.643, 0.6681]\n"
     ]
    },
    {
     "name": "stderr",
     "output_type": "stream",
     "text": [
      " 10%|█         | 2/20 [00:03<00:29,  1.65s/it]"
     ]
    },
    {
     "name": "stdout",
     "output_type": "stream",
     "text": [
      "la_030.nii.gz Dice list by number of clicks (left atrium): [0.6198, 0.7364, 0.7409, 0.7315, 0.7283]\n"
     ]
    },
    {
     "name": "stderr",
     "output_type": "stream",
     "text": [
      " 15%|█▌        | 3/20 [00:04<00:26,  1.58s/it]"
     ]
    },
    {
     "name": "stdout",
     "output_type": "stream",
     "text": [
      "la_010.nii.gz Dice list by number of clicks (left atrium): [0.6674, 0.6376, 0.7058, 0.7407, 0.7311]\n"
     ]
    },
    {
     "name": "stderr",
     "output_type": "stream",
     "text": [
      " 20%|██        | 4/20 [00:06<00:25,  1.56s/it]"
     ]
    },
    {
     "name": "stdout",
     "output_type": "stream",
     "text": [
      "la_007.nii.gz Dice list by number of clicks (left atrium): [0.554, 0.6052, 0.5788, 0.5738, 0.5732]\n"
     ]
    },
    {
     "name": "stderr",
     "output_type": "stream",
     "text": [
      " 25%|██▌       | 5/20 [00:08<00:24,  1.60s/it]"
     ]
    },
    {
     "name": "stdout",
     "output_type": "stream",
     "text": [
      "la_023.nii.gz Dice list by number of clicks (left atrium): [0.6604, 0.8039, 0.8089, 0.7936, 0.7816]\n"
     ]
    },
    {
     "name": "stderr",
     "output_type": "stream",
     "text": [
      " 30%|███       | 6/20 [00:09<00:22,  1.58s/it]"
     ]
    },
    {
     "name": "stdout",
     "output_type": "stream",
     "text": [
      "la_017.nii.gz Dice list by number of clicks (left atrium): [0.5738, 0.5608, 0.6395, 0.6914, 0.6597]\n"
     ]
    },
    {
     "name": "stderr",
     "output_type": "stream",
     "text": [
      " 35%|███▌      | 7/20 [00:11<00:20,  1.56s/it]"
     ]
    },
    {
     "name": "stdout",
     "output_type": "stream",
     "text": [
      "la_016.nii.gz Dice list by number of clicks (left atrium): [0.7027, 0.6896, 0.6552, 0.6614, 0.6678]\n"
     ]
    },
    {
     "name": "stderr",
     "output_type": "stream",
     "text": [
      " 40%|████      | 8/20 [00:12<00:17,  1.47s/it]"
     ]
    },
    {
     "name": "stdout",
     "output_type": "stream",
     "text": [
      "la_029.nii.gz Dice list by number of clicks (left atrium): [0.5818, 0.5917, 0.6139, 0.6207, 0.6154]\n"
     ]
    },
    {
     "name": "stderr",
     "output_type": "stream",
     "text": [
      " 45%|████▌     | 9/20 [00:13<00:16,  1.47s/it]"
     ]
    },
    {
     "name": "stdout",
     "output_type": "stream",
     "text": [
      "la_024.nii.gz Dice list by number of clicks (left atrium): [0.6764, 0.6681, 0.6709, 0.6174, 0.6161]\n"
     ]
    },
    {
     "name": "stderr",
     "output_type": "stream",
     "text": [
      " 50%|█████     | 10/20 [00:15<00:15,  1.50s/it]"
     ]
    },
    {
     "name": "stdout",
     "output_type": "stream",
     "text": [
      "la_020.nii.gz Dice list by number of clicks (left atrium): [0.652, 0.6958, 0.709, 0.7058, 0.7173]\n"
     ]
    },
    {
     "name": "stderr",
     "output_type": "stream",
     "text": [
      " 55%|█████▌    | 11/20 [00:16<00:13,  1.50s/it]"
     ]
    },
    {
     "name": "stdout",
     "output_type": "stream",
     "text": [
      "la_003.nii.gz Dice list by number of clicks (left atrium): [0.5775, 0.5881, 0.6477, 0.6472, 0.653]\n"
     ]
    },
    {
     "name": "stderr",
     "output_type": "stream",
     "text": [
      " 60%|██████    | 12/20 [00:18<00:12,  1.59s/it]"
     ]
    },
    {
     "name": "stdout",
     "output_type": "stream",
     "text": [
      "la_011.nii.gz Dice list by number of clicks (left atrium): [0.7046, 0.6482, 0.6772, 0.6698, 0.676]\n"
     ]
    },
    {
     "name": "stderr",
     "output_type": "stream",
     "text": [
      " 65%|██████▌   | 13/20 [00:20<00:11,  1.60s/it]"
     ]
    },
    {
     "name": "stdout",
     "output_type": "stream",
     "text": [
      "la_005.nii.gz Dice list by number of clicks (left atrium): [0.2626, 0.3076, 0.4171, 0.4579, 0.47]\n"
     ]
    },
    {
     "name": "stderr",
     "output_type": "stream",
     "text": [
      " 70%|███████   | 14/20 [00:21<00:09,  1.57s/it]"
     ]
    },
    {
     "name": "stdout",
     "output_type": "stream",
     "text": [
      "la_018.nii.gz Dice list by number of clicks (left atrium): [0.5866, 0.6229, 0.5183, 0.556, 0.5732]\n"
     ]
    },
    {
     "name": "stderr",
     "output_type": "stream",
     "text": [
      " 75%|███████▌  | 15/20 [00:23<00:07,  1.59s/it]"
     ]
    },
    {
     "name": "stdout",
     "output_type": "stream",
     "text": [
      "la_021.nii.gz Dice list by number of clicks (left atrium): [0.6513, 0.6957, 0.7105, 0.6966, 0.7108]\n"
     ]
    },
    {
     "name": "stderr",
     "output_type": "stream",
     "text": [
      " 80%|████████  | 16/20 [00:24<00:06,  1.53s/it]"
     ]
    },
    {
     "name": "stdout",
     "output_type": "stream",
     "text": [
      "la_019.nii.gz Dice list by number of clicks (left atrium): [0.5011, 0.6413, 0.6538, 0.5834, 0.5877]\n"
     ]
    },
    {
     "name": "stderr",
     "output_type": "stream",
     "text": [
      " 85%|████████▌ | 17/20 [00:26<00:04,  1.51s/it]"
     ]
    },
    {
     "name": "stdout",
     "output_type": "stream",
     "text": [
      "la_004.nii.gz Dice list by number of clicks (left atrium): [0.7264, 0.7104, 0.7358, 0.7656, 0.7499]\n"
     ]
    },
    {
     "name": "stderr",
     "output_type": "stream",
     "text": [
      " 90%|█████████ | 18/20 [00:27<00:03,  1.53s/it]"
     ]
    },
    {
     "name": "stdout",
     "output_type": "stream",
     "text": [
      "la_009.nii.gz Dice list by number of clicks (left atrium): [0.6442, 0.52, 0.5332, 0.5594, 0.5611]\n"
     ]
    },
    {
     "name": "stderr",
     "output_type": "stream",
     "text": [
      " 95%|█████████▌| 19/20 [00:29<00:01,  1.50s/it]"
     ]
    },
    {
     "name": "stdout",
     "output_type": "stream",
     "text": [
      "la_026.nii.gz Dice list by number of clicks (left atrium): [0.3222, 0.3995, 0.5473, 0.6451, 0.6443]\n",
      "Save results to /home/t722s/Desktop/Sam-Med3DTest/NetworkHeartModified/eval_res_from_inference.json\n",
      "Done\n"
     ]
    },
    {
     "name": "stderr",
     "output_type": "stream",
     "text": [
      "100%|██████████| 20/20 [00:30<00:00,  1.55s/it]\n"
     ]
    },
    {
     "name": "stdout",
     "output_type": "stream",
     "text": [
      "set seed as 2020\n",
      "device: cuda\n"
     ]
    },
    {
     "name": "stderr",
     "output_type": "stream",
     "text": [
      "  0%|          | 0/20 [00:00<?, ?it/s]"
     ]
    },
    {
     "name": "stdout",
     "output_type": "stream",
     "text": [
      "la_014.nii.gz Dice list by number of clicks (left atrium): [0.7148, 0.6856, 0.6954, 0.7149, 0.6999]\n"
     ]
    },
    {
     "name": "stderr",
     "output_type": "stream",
     "text": [
      "  5%|▌         | 1/20 [00:01<00:32,  1.73s/it]"
     ]
    },
    {
     "name": "stdout",
     "output_type": "stream",
     "text": [
      "la_022.nii.gz Dice list by number of clicks (left atrium): [0.3703, 0.521, 0.5606, 0.7051, 0.7067]\n"
     ]
    },
    {
     "name": "stderr",
     "output_type": "stream",
     "text": [
      " 10%|█         | 2/20 [00:03<00:28,  1.60s/it]"
     ]
    },
    {
     "name": "stdout",
     "output_type": "stream",
     "text": [
      "la_030.nii.gz Dice list by number of clicks (left atrium): [0.7554, 0.6806, 0.6756, 0.6619, 0.6533]\n"
     ]
    },
    {
     "name": "stderr",
     "output_type": "stream",
     "text": [
      " 15%|█▌        | 3/20 [00:04<00:27,  1.61s/it]"
     ]
    },
    {
     "name": "stdout",
     "output_type": "stream",
     "text": [
      "la_010.nii.gz Dice list by number of clicks (left atrium): [0.7318, 0.714, 0.7589, 0.7732, 0.7734]\n"
     ]
    },
    {
     "name": "stderr",
     "output_type": "stream",
     "text": [
      " 20%|██        | 4/20 [00:06<00:25,  1.59s/it]"
     ]
    },
    {
     "name": "stdout",
     "output_type": "stream",
     "text": [
      "la_007.nii.gz Dice list by number of clicks (left atrium): [0.5537, 0.5813, 0.6658, 0.6752, 0.6575]\n"
     ]
    },
    {
     "name": "stderr",
     "output_type": "stream",
     "text": [
      " 25%|██▌       | 5/20 [00:08<00:24,  1.61s/it]"
     ]
    },
    {
     "name": "stdout",
     "output_type": "stream",
     "text": [
      "la_023.nii.gz Dice list by number of clicks (left atrium): [0.7954, 0.7973, 0.7894, 0.7718, 0.7407]\n"
     ]
    },
    {
     "name": "stderr",
     "output_type": "stream",
     "text": [
      " 30%|███       | 6/20 [00:09<00:21,  1.56s/it]"
     ]
    },
    {
     "name": "stdout",
     "output_type": "stream",
     "text": [
      "la_017.nii.gz Dice list by number of clicks (left atrium): [0.6045, 0.665, 0.6586, 0.6753, 0.6795]\n"
     ]
    },
    {
     "name": "stderr",
     "output_type": "stream",
     "text": [
      " 35%|███▌      | 7/20 [00:11<00:20,  1.57s/it]"
     ]
    },
    {
     "name": "stdout",
     "output_type": "stream",
     "text": [
      "la_016.nii.gz Dice list by number of clicks (left atrium): [0.6283, 0.7301, 0.7182, 0.7086, 0.7079]\n"
     ]
    },
    {
     "name": "stderr",
     "output_type": "stream",
     "text": [
      " 40%|████      | 8/20 [00:12<00:17,  1.46s/it]"
     ]
    },
    {
     "name": "stdout",
     "output_type": "stream",
     "text": [
      "la_029.nii.gz Dice list by number of clicks (left atrium): [0.6062, 0.5502, 0.519, 0.5647, 0.5898]\n"
     ]
    },
    {
     "name": "stderr",
     "output_type": "stream",
     "text": [
      " 45%|████▌     | 9/20 [00:13<00:16,  1.48s/it]"
     ]
    },
    {
     "name": "stdout",
     "output_type": "stream",
     "text": [
      "la_024.nii.gz Dice list by number of clicks (left atrium): [0.6158, 0.6584, 0.634, 0.6462, 0.6619]\n"
     ]
    },
    {
     "name": "stderr",
     "output_type": "stream",
     "text": [
      " 50%|█████     | 10/20 [00:15<00:15,  1.53s/it]"
     ]
    },
    {
     "name": "stdout",
     "output_type": "stream",
     "text": [
      "la_020.nii.gz Dice list by number of clicks (left atrium): [0.6506, 0.6545, 0.6682, 0.5782, 0.5934]\n"
     ]
    },
    {
     "name": "stderr",
     "output_type": "stream",
     "text": [
      " 55%|█████▌    | 11/20 [00:17<00:13,  1.54s/it]"
     ]
    },
    {
     "name": "stdout",
     "output_type": "stream",
     "text": [
      "la_003.nii.gz Dice list by number of clicks (left atrium): [0.1648, 0.0426, 0.1254, 0.1063, 0.0836]\n"
     ]
    },
    {
     "name": "stderr",
     "output_type": "stream",
     "text": [
      " 60%|██████    | 12/20 [00:18<00:12,  1.58s/it]"
     ]
    },
    {
     "name": "stdout",
     "output_type": "stream",
     "text": [
      "la_011.nii.gz Dice list by number of clicks (left atrium): [0.5652, 0.6511, 0.6029, 0.585, 0.5998]\n"
     ]
    },
    {
     "name": "stderr",
     "output_type": "stream",
     "text": [
      " 65%|██████▌   | 13/20 [00:20<00:11,  1.59s/it]"
     ]
    },
    {
     "name": "stdout",
     "output_type": "stream",
     "text": [
      "la_005.nii.gz Dice list by number of clicks (left atrium): [0.654, 0.6268, 0.664, 0.6739, 0.679]\n"
     ]
    },
    {
     "name": "stderr",
     "output_type": "stream",
     "text": [
      " 70%|███████   | 14/20 [00:21<00:09,  1.55s/it]"
     ]
    },
    {
     "name": "stdout",
     "output_type": "stream",
     "text": [
      "la_018.nii.gz Dice list by number of clicks (left atrium): [0.6433, 0.6366, 0.6191, 0.6353, 0.6359]\n"
     ]
    },
    {
     "name": "stderr",
     "output_type": "stream",
     "text": [
      " 75%|███████▌  | 15/20 [00:23<00:07,  1.57s/it]"
     ]
    },
    {
     "name": "stdout",
     "output_type": "stream",
     "text": [
      "la_021.nii.gz Dice list by number of clicks (left atrium): [0.7235, 0.633, 0.6418, 0.6367, 0.6863]\n"
     ]
    },
    {
     "name": "stderr",
     "output_type": "stream",
     "text": [
      " 80%|████████  | 16/20 [00:24<00:06,  1.51s/it]"
     ]
    },
    {
     "name": "stdout",
     "output_type": "stream",
     "text": [
      "la_019.nii.gz Dice list by number of clicks (left atrium): [0.4346, 0.3903, 0.6364, 0.6022, 0.6599]\n"
     ]
    },
    {
     "name": "stderr",
     "output_type": "stream",
     "text": [
      " 85%|████████▌ | 17/20 [00:26<00:04,  1.48s/it]"
     ]
    },
    {
     "name": "stdout",
     "output_type": "stream",
     "text": [
      "la_004.nii.gz Dice list by number of clicks (left atrium): [0.7323, 0.5923, 0.6838, 0.6962, 0.7189]\n"
     ]
    },
    {
     "name": "stderr",
     "output_type": "stream",
     "text": [
      " 90%|█████████ | 18/20 [00:27<00:03,  1.51s/it]"
     ]
    },
    {
     "name": "stdout",
     "output_type": "stream",
     "text": [
      "la_009.nii.gz Dice list by number of clicks (left atrium): [0.6275, 0.5474, 0.6375, 0.6473, 0.631]\n"
     ]
    },
    {
     "name": "stderr",
     "output_type": "stream",
     "text": [
      " 95%|█████████▌| 19/20 [00:29<00:01,  1.48s/it]"
     ]
    },
    {
     "name": "stdout",
     "output_type": "stream",
     "text": [
      "la_026.nii.gz Dice list by number of clicks (left atrium): [0.4125, 0.4833, 0.5802, 0.6016, 0.6078]\n",
      "Save results to /home/t722s/Desktop/Sam-Med3DTest/NetworkHeartModified/eval_res_from_inference.json\n",
      "Done\n"
     ]
    },
    {
     "name": "stderr",
     "output_type": "stream",
     "text": [
      "100%|██████████| 20/20 [00:30<00:00,  1.53s/it]\n"
     ]
    },
    {
     "name": "stdout",
     "output_type": "stream",
     "text": [
      "set seed as 2020\n",
      "device: cuda\n"
     ]
    },
    {
     "name": "stderr",
     "output_type": "stream",
     "text": [
      "  0%|          | 0/20 [00:00<?, ?it/s]"
     ]
    },
    {
     "name": "stdout",
     "output_type": "stream",
     "text": [
      "la_014.nii.gz Dice list by number of clicks (left atrium): [0.5819, 0.5404, 0.568, 0.5857, 0.5934]\n"
     ]
    },
    {
     "name": "stderr",
     "output_type": "stream",
     "text": [
      "  5%|▌         | 1/20 [00:01<00:35,  1.84s/it]"
     ]
    },
    {
     "name": "stdout",
     "output_type": "stream",
     "text": [
      "la_022.nii.gz Dice list by number of clicks (left atrium): [0.6775, 0.6721, 0.6475, 0.6548, 0.6609]\n"
     ]
    },
    {
     "name": "stderr",
     "output_type": "stream",
     "text": [
      " 10%|█         | 2/20 [00:03<00:29,  1.63s/it]"
     ]
    },
    {
     "name": "stdout",
     "output_type": "stream",
     "text": [
      "la_030.nii.gz Dice list by number of clicks (left atrium): [0.588, 0.6493, 0.68, 0.676, 0.6725]\n"
     ]
    },
    {
     "name": "stderr",
     "output_type": "stream",
     "text": [
      " 15%|█▌        | 3/20 [00:04<00:26,  1.58s/it]"
     ]
    },
    {
     "name": "stdout",
     "output_type": "stream",
     "text": [
      "la_010.nii.gz Dice list by number of clicks (left atrium): [0.573, 0.5544, 0.5958, 0.6085, 0.6094]\n"
     ]
    },
    {
     "name": "stderr",
     "output_type": "stream",
     "text": [
      " 20%|██        | 4/20 [00:06<00:24,  1.55s/it]"
     ]
    },
    {
     "name": "stdout",
     "output_type": "stream",
     "text": [
      "la_007.nii.gz Dice list by number of clicks (left atrium): [0.6822, 0.6797, 0.7149, 0.742, 0.7286]\n"
     ]
    },
    {
     "name": "stderr",
     "output_type": "stream",
     "text": [
      " 25%|██▌       | 5/20 [00:08<00:24,  1.61s/it]"
     ]
    },
    {
     "name": "stdout",
     "output_type": "stream",
     "text": [
      "la_023.nii.gz Dice list by number of clicks (left atrium): [0.7458, 0.7577, 0.7348, 0.6606, 0.7012]\n"
     ]
    },
    {
     "name": "stderr",
     "output_type": "stream",
     "text": [
      " 30%|███       | 6/20 [00:09<00:21,  1.54s/it]"
     ]
    },
    {
     "name": "stdout",
     "output_type": "stream",
     "text": [
      "la_017.nii.gz Dice list by number of clicks (left atrium): [0.4954, 0.5803, 0.5772, 0.5757, 0.5701]\n"
     ]
    },
    {
     "name": "stderr",
     "output_type": "stream",
     "text": [
      " 35%|███▌      | 7/20 [00:11<00:20,  1.58s/it]"
     ]
    },
    {
     "name": "stdout",
     "output_type": "stream",
     "text": [
      "la_016.nii.gz Dice list by number of clicks (left atrium): [0.6841, 0.6101, 0.6791, 0.5831, 0.6578]\n"
     ]
    },
    {
     "name": "stderr",
     "output_type": "stream",
     "text": [
      " 40%|████      | 8/20 [00:12<00:17,  1.46s/it]"
     ]
    },
    {
     "name": "stdout",
     "output_type": "stream",
     "text": [
      "la_029.nii.gz Dice list by number of clicks (left atrium): [0.5437, 0.5958, 0.6136, 0.634, 0.6242]\n"
     ]
    },
    {
     "name": "stderr",
     "output_type": "stream",
     "text": [
      " 45%|████▌     | 9/20 [00:13<00:15,  1.44s/it]"
     ]
    },
    {
     "name": "stdout",
     "output_type": "stream",
     "text": [
      "la_024.nii.gz Dice list by number of clicks (left atrium): [0.3897, 0.434, 0.425, 0.4515, 0.5978]\n"
     ]
    },
    {
     "name": "stderr",
     "output_type": "stream",
     "text": [
      " 55%|█████▌    | 11/20 [00:16<00:13,  1.47s/it]"
     ]
    },
    {
     "name": "stdout",
     "output_type": "stream",
     "text": [
      "la_020.nii.gz Dice list by number of clicks (left atrium): [0.6939, 0.6631, 0.6824, 0.6779, 0.7057]\n",
      "la_003.nii.gz Dice list by number of clicks (left atrium): [0.6078, 0.6109, 0.6149, 0.6357, 0.6278]\n"
     ]
    },
    {
     "name": "stderr",
     "output_type": "stream",
     "text": [
      " 60%|██████    | 12/20 [00:18<00:12,  1.53s/it]"
     ]
    },
    {
     "name": "stdout",
     "output_type": "stream",
     "text": [
      "la_011.nii.gz Dice list by number of clicks (left atrium): [0.4917, 0.5192, 0.5332, 0.5548, 0.5571]\n"
     ]
    },
    {
     "name": "stderr",
     "output_type": "stream",
     "text": [
      " 65%|██████▌   | 13/20 [00:20<00:10,  1.56s/it]"
     ]
    },
    {
     "name": "stdout",
     "output_type": "stream",
     "text": [
      "la_005.nii.gz Dice list by number of clicks (left atrium): [0.4427, 0.524, 0.572, 0.6017, 0.6306]\n"
     ]
    },
    {
     "name": "stderr",
     "output_type": "stream",
     "text": [
      " 70%|███████   | 14/20 [00:21<00:09,  1.56s/it]"
     ]
    },
    {
     "name": "stdout",
     "output_type": "stream",
     "text": [
      "la_018.nii.gz Dice list by number of clicks (left atrium): [0.5521, 0.6273, 0.6179, 0.6201, 0.6358]\n"
     ]
    },
    {
     "name": "stderr",
     "output_type": "stream",
     "text": [
      " 75%|███████▌  | 15/20 [00:23<00:07,  1.57s/it]"
     ]
    },
    {
     "name": "stdout",
     "output_type": "stream",
     "text": [
      "la_021.nii.gz Dice list by number of clicks (left atrium): [0.523, 0.4592, 0.4094, 0.3636, 0.43]\n"
     ]
    },
    {
     "name": "stderr",
     "output_type": "stream",
     "text": [
      " 80%|████████  | 16/20 [00:24<00:06,  1.52s/it]"
     ]
    },
    {
     "name": "stdout",
     "output_type": "stream",
     "text": [
      "la_019.nii.gz Dice list by number of clicks (left atrium): [0.6197, 0.6527, 0.6515, 0.6513, 0.643]\n"
     ]
    },
    {
     "name": "stderr",
     "output_type": "stream",
     "text": [
      " 85%|████████▌ | 17/20 [00:25<00:04,  1.47s/it]"
     ]
    },
    {
     "name": "stdout",
     "output_type": "stream",
     "text": [
      "la_004.nii.gz Dice list by number of clicks (left atrium): [0.6519, 0.5979, 0.7542, 0.7547, 0.7707]\n"
     ]
    },
    {
     "name": "stderr",
     "output_type": "stream",
     "text": [
      " 90%|█████████ | 18/20 [00:27<00:03,  1.51s/it]"
     ]
    },
    {
     "name": "stdout",
     "output_type": "stream",
     "text": [
      "la_009.nii.gz Dice list by number of clicks (left atrium): [0.4136, 0.4956, 0.563, 0.5606, 0.5512]\n"
     ]
    },
    {
     "name": "stderr",
     "output_type": "stream",
     "text": [
      " 95%|█████████▌| 19/20 [00:28<00:01,  1.46s/it]"
     ]
    },
    {
     "name": "stdout",
     "output_type": "stream",
     "text": [
      "la_026.nii.gz Dice list by number of clicks (left atrium): [0.4705, 0.4538, 0.5214, 0.6124, 0.6213]\n",
      "Save results to /home/t722s/Desktop/Sam-Med3DTest/NetworkHeartModified/eval_res_from_inference.json\n",
      "Done\n"
     ]
    },
    {
     "name": "stderr",
     "output_type": "stream",
     "text": [
      "100%|██████████| 20/20 [00:30<00:00,  1.53s/it]\n"
     ]
    },
    {
     "name": "stdout",
     "output_type": "stream",
     "text": [
      "set seed as 2020\n",
      "device: cuda\n"
     ]
    },
    {
     "name": "stderr",
     "output_type": "stream",
     "text": [
      "  0%|          | 0/20 [00:00<?, ?it/s]"
     ]
    },
    {
     "name": "stdout",
     "output_type": "stream",
     "text": [
      "la_014.nii.gz Dice list by number of clicks (left atrium): [0.6542, 0.675, 0.6675, 0.6942, 0.7036]\n"
     ]
    },
    {
     "name": "stderr",
     "output_type": "stream",
     "text": [
      "  5%|▌         | 1/20 [00:01<00:34,  1.81s/it]"
     ]
    },
    {
     "name": "stdout",
     "output_type": "stream",
     "text": [
      "la_022.nii.gz Dice list by number of clicks (left atrium): [0.6326, 0.6285, 0.7235, 0.7227, 0.7255]\n"
     ]
    },
    {
     "name": "stderr",
     "output_type": "stream",
     "text": [
      " 15%|█▌        | 3/20 [00:04<00:26,  1.55s/it]"
     ]
    },
    {
     "name": "stdout",
     "output_type": "stream",
     "text": [
      "la_030.nii.gz Dice list by number of clicks (left atrium): [0.6694, 0.6405, 0.6258, 0.6259, 0.7037]\n",
      "la_010.nii.gz Dice list by number of clicks (left atrium): [0.7055, 0.751, 0.7457, 0.7666, 0.7773]\n"
     ]
    },
    {
     "name": "stderr",
     "output_type": "stream",
     "text": [
      " 20%|██        | 4/20 [00:06<00:24,  1.54s/it]"
     ]
    },
    {
     "name": "stdout",
     "output_type": "stream",
     "text": [
      "la_007.nii.gz Dice list by number of clicks (left atrium): [0.6436, 0.6494, 0.6469, 0.752, 0.7489]\n"
     ]
    },
    {
     "name": "stderr",
     "output_type": "stream",
     "text": [
      " 25%|██▌       | 5/20 [00:07<00:23,  1.56s/it]"
     ]
    },
    {
     "name": "stdout",
     "output_type": "stream",
     "text": [
      "la_023.nii.gz Dice list by number of clicks (left atrium): [0.7818, 0.7635, 0.7722, 0.7758, 0.8119]\n"
     ]
    },
    {
     "name": "stderr",
     "output_type": "stream",
     "text": [
      " 30%|███       | 6/20 [00:09<00:21,  1.53s/it]"
     ]
    },
    {
     "name": "stdout",
     "output_type": "stream",
     "text": [
      "la_017.nii.gz Dice list by number of clicks (left atrium): [0.6529, 0.6455, 0.6742, 0.6947, 0.695]\n"
     ]
    },
    {
     "name": "stderr",
     "output_type": "stream",
     "text": [
      " 35%|███▌      | 7/20 [00:10<00:20,  1.54s/it]"
     ]
    },
    {
     "name": "stdout",
     "output_type": "stream",
     "text": [
      "la_016.nii.gz Dice list by number of clicks (left atrium): [0.4841, 0.5293, 0.6218, 0.6376, 0.6148]\n"
     ]
    },
    {
     "name": "stderr",
     "output_type": "stream",
     "text": [
      " 40%|████      | 8/20 [00:12<00:17,  1.44s/it]"
     ]
    },
    {
     "name": "stdout",
     "output_type": "stream",
     "text": [
      "la_029.nii.gz Dice list by number of clicks (left atrium): [0.5981, 0.606, 0.5912, 0.58, 0.6364]\n"
     ]
    },
    {
     "name": "stderr",
     "output_type": "stream",
     "text": [
      " 45%|████▌     | 9/20 [00:13<00:15,  1.44s/it]"
     ]
    },
    {
     "name": "stdout",
     "output_type": "stream",
     "text": [
      "la_024.nii.gz Dice list by number of clicks (left atrium): [0.3205, 0.5782, 0.6112, 0.6042, 0.598]\n"
     ]
    },
    {
     "name": "stderr",
     "output_type": "stream",
     "text": [
      " 50%|█████     | 10/20 [00:15<00:14,  1.46s/it]"
     ]
    },
    {
     "name": "stdout",
     "output_type": "stream",
     "text": [
      "la_020.nii.gz Dice list by number of clicks (left atrium): [0.5852, 0.604, 0.556, 0.6385, 0.5835]\n"
     ]
    },
    {
     "name": "stderr",
     "output_type": "stream",
     "text": [
      " 55%|█████▌    | 11/20 [00:16<00:13,  1.51s/it]"
     ]
    },
    {
     "name": "stdout",
     "output_type": "stream",
     "text": [
      "la_003.nii.gz Dice list by number of clicks (left atrium): [0.5089, 0.5261, 0.5009, 0.481, 0.4732]\n"
     ]
    },
    {
     "name": "stderr",
     "output_type": "stream",
     "text": [
      " 60%|██████    | 12/20 [00:18<00:12,  1.55s/it]"
     ]
    },
    {
     "name": "stdout",
     "output_type": "stream",
     "text": [
      "la_011.nii.gz Dice list by number of clicks (left atrium): [0.4873, 0.5519, 0.5156, 0.5335, 0.5276]\n"
     ]
    },
    {
     "name": "stderr",
     "output_type": "stream",
     "text": [
      " 65%|██████▌   | 13/20 [00:19<00:10,  1.54s/it]"
     ]
    },
    {
     "name": "stdout",
     "output_type": "stream",
     "text": [
      "la_005.nii.gz Dice list by number of clicks (left atrium): [0.4818, 0.5305, 0.5745, 0.6004, 0.6312]\n"
     ]
    },
    {
     "name": "stderr",
     "output_type": "stream",
     "text": [
      " 70%|███████   | 14/20 [00:21<00:09,  1.57s/it]"
     ]
    },
    {
     "name": "stdout",
     "output_type": "stream",
     "text": [
      "la_018.nii.gz Dice list by number of clicks (left atrium): [0.5834, 0.5486, 0.559, 0.6444, 0.6393]\n"
     ]
    },
    {
     "name": "stderr",
     "output_type": "stream",
     "text": [
      " 75%|███████▌  | 15/20 [00:23<00:07,  1.59s/it]"
     ]
    },
    {
     "name": "stdout",
     "output_type": "stream",
     "text": [
      "la_021.nii.gz Dice list by number of clicks (left atrium): [0.1909, 0.4463, 0.448, 0.4924, 0.6046]\n"
     ]
    },
    {
     "name": "stderr",
     "output_type": "stream",
     "text": [
      " 80%|████████  | 16/20 [00:24<00:06,  1.52s/it]"
     ]
    },
    {
     "name": "stdout",
     "output_type": "stream",
     "text": [
      "la_019.nii.gz Dice list by number of clicks (left atrium): [0.55, 0.7045, 0.716, 0.7214, 0.6857]\n"
     ]
    },
    {
     "name": "stderr",
     "output_type": "stream",
     "text": [
      " 85%|████████▌ | 17/20 [00:25<00:04,  1.50s/it]"
     ]
    },
    {
     "name": "stdout",
     "output_type": "stream",
     "text": [
      "la_004.nii.gz Dice list by number of clicks (left atrium): [0.639, 0.5999, 0.626, 0.6662, 0.6739]\n"
     ]
    },
    {
     "name": "stderr",
     "output_type": "stream",
     "text": [
      " 90%|█████████ | 18/20 [00:27<00:03,  1.52s/it]"
     ]
    },
    {
     "name": "stdout",
     "output_type": "stream",
     "text": [
      "la_009.nii.gz Dice list by number of clicks (left atrium): [0.5613, 0.5982, 0.641, 0.6618, 0.7019]\n"
     ]
    },
    {
     "name": "stderr",
     "output_type": "stream",
     "text": [
      " 95%|█████████▌| 19/20 [00:28<00:01,  1.47s/it]"
     ]
    },
    {
     "name": "stdout",
     "output_type": "stream",
     "text": [
      "la_026.nii.gz Dice list by number of clicks (left atrium): [0.6436, 0.6694, 0.6697, 0.6843, 0.6879]\n",
      "Save results to /home/t722s/Desktop/Sam-Med3DTest/NetworkHeartModified/eval_res_from_inference.json\n",
      "Done\n"
     ]
    },
    {
     "name": "stderr",
     "output_type": "stream",
     "text": [
      "100%|██████████| 20/20 [00:30<00:00,  1.53s/it]\n"
     ]
    },
    {
     "name": "stdout",
     "output_type": "stream",
     "text": [
      "set seed as 2020\n",
      "device: cuda\n"
     ]
    },
    {
     "name": "stderr",
     "output_type": "stream",
     "text": [
      "  0%|          | 0/20 [00:00<?, ?it/s]"
     ]
    },
    {
     "name": "stdout",
     "output_type": "stream",
     "text": [
      "la_014.nii.gz Dice list by number of clicks (left atrium): [0.6534, 0.6393, 0.6641, 0.724, 0.7063]\n"
     ]
    },
    {
     "name": "stderr",
     "output_type": "stream",
     "text": [
      "  5%|▌         | 1/20 [00:01<00:34,  1.80s/it]"
     ]
    },
    {
     "name": "stdout",
     "output_type": "stream",
     "text": [
      "la_022.nii.gz Dice list by number of clicks (left atrium): [0.6605, 0.6825, 0.6434, 0.6446, 0.6096]\n"
     ]
    },
    {
     "name": "stderr",
     "output_type": "stream",
     "text": [
      " 10%|█         | 2/20 [00:03<00:29,  1.65s/it]"
     ]
    },
    {
     "name": "stdout",
     "output_type": "stream",
     "text": [
      "la_030.nii.gz Dice list by number of clicks (left atrium): [0.6224, 0.6284, 0.5789, 0.5814, 0.5906]\n"
     ]
    },
    {
     "name": "stderr",
     "output_type": "stream",
     "text": [
      " 15%|█▌        | 3/20 [00:04<00:26,  1.54s/it]"
     ]
    },
    {
     "name": "stdout",
     "output_type": "stream",
     "text": [
      "la_010.nii.gz Dice list by number of clicks (left atrium): [0.6828, 0.6501, 0.6188, 0.6515, 0.6974]\n"
     ]
    },
    {
     "name": "stderr",
     "output_type": "stream",
     "text": [
      " 20%|██        | 4/20 [00:06<00:24,  1.56s/it]"
     ]
    },
    {
     "name": "stdout",
     "output_type": "stream",
     "text": [
      "la_007.nii.gz Dice list by number of clicks (left atrium): [0.6322, 0.6122, 0.5978, 0.579, 0.6215]\n"
     ]
    },
    {
     "name": "stderr",
     "output_type": "stream",
     "text": [
      " 25%|██▌       | 5/20 [00:07<00:23,  1.59s/it]"
     ]
    },
    {
     "name": "stdout",
     "output_type": "stream",
     "text": [
      "la_023.nii.gz Dice list by number of clicks (left atrium): [0.7735, 0.7391, 0.7314, 0.7769, 0.7846]\n"
     ]
    },
    {
     "name": "stderr",
     "output_type": "stream",
     "text": [
      " 30%|███       | 6/20 [00:09<00:21,  1.54s/it]"
     ]
    },
    {
     "name": "stdout",
     "output_type": "stream",
     "text": [
      "la_017.nii.gz Dice list by number of clicks (left atrium): [0.5949, 0.6178, 0.6968, 0.6812, 0.6682]\n"
     ]
    },
    {
     "name": "stderr",
     "output_type": "stream",
     "text": [
      " 35%|███▌      | 7/20 [00:11<00:20,  1.57s/it]"
     ]
    },
    {
     "name": "stdout",
     "output_type": "stream",
     "text": [
      "la_016.nii.gz Dice list by number of clicks (left atrium): [0.723, 0.6842, 0.7014, 0.7023, 0.719]\n"
     ]
    },
    {
     "name": "stderr",
     "output_type": "stream",
     "text": [
      " 40%|████      | 8/20 [00:12<00:17,  1.46s/it]"
     ]
    },
    {
     "name": "stdout",
     "output_type": "stream",
     "text": [
      "la_029.nii.gz Dice list by number of clicks (left atrium): [0.5754, 0.5412, 0.6523, 0.6637, 0.6751]\n"
     ]
    },
    {
     "name": "stderr",
     "output_type": "stream",
     "text": [
      " 45%|████▌     | 9/20 [00:13<00:16,  1.47s/it]"
     ]
    },
    {
     "name": "stdout",
     "output_type": "stream",
     "text": [
      "la_024.nii.gz Dice list by number of clicks (left atrium): [0.5179, 0.5131, 0.4854, 0.5394, 0.6268]\n"
     ]
    },
    {
     "name": "stderr",
     "output_type": "stream",
     "text": [
      " 50%|█████     | 10/20 [00:15<00:14,  1.48s/it]"
     ]
    },
    {
     "name": "stdout",
     "output_type": "stream",
     "text": [
      "la_020.nii.gz Dice list by number of clicks (left atrium): [0.5749, 0.6481, 0.6389, 0.6395, 0.6043]\n"
     ]
    },
    {
     "name": "stderr",
     "output_type": "stream",
     "text": [
      " 55%|█████▌    | 11/20 [00:16<00:13,  1.52s/it]"
     ]
    },
    {
     "name": "stdout",
     "output_type": "stream",
     "text": [
      "la_003.nii.gz Dice list by number of clicks (left atrium): [0.6357, 0.6763, 0.6954, 0.7014, 0.6955]\n"
     ]
    },
    {
     "name": "stderr",
     "output_type": "stream",
     "text": [
      " 60%|██████    | 12/20 [00:18<00:12,  1.58s/it]"
     ]
    },
    {
     "name": "stdout",
     "output_type": "stream",
     "text": [
      "la_011.nii.gz Dice list by number of clicks (left atrium): [0.6768, 0.651, 0.6446, 0.6353, 0.5979]\n"
     ]
    },
    {
     "name": "stderr",
     "output_type": "stream",
     "text": [
      " 65%|██████▌   | 13/20 [00:20<00:10,  1.57s/it]"
     ]
    },
    {
     "name": "stdout",
     "output_type": "stream",
     "text": [
      "la_005.nii.gz Dice list by number of clicks (left atrium): [0.5702, 0.6042, 0.6281, 0.6508, 0.652]\n"
     ]
    },
    {
     "name": "stderr",
     "output_type": "stream",
     "text": [
      " 70%|███████   | 14/20 [00:21<00:09,  1.60s/it]"
     ]
    },
    {
     "name": "stdout",
     "output_type": "stream",
     "text": [
      "la_018.nii.gz Dice list by number of clicks (left atrium): [0.4281, 0.5597, 0.5011, 0.5091, 0.5232]\n"
     ]
    },
    {
     "name": "stderr",
     "output_type": "stream",
     "text": [
      " 75%|███████▌  | 15/20 [00:23<00:07,  1.58s/it]"
     ]
    },
    {
     "name": "stdout",
     "output_type": "stream",
     "text": [
      "la_021.nii.gz Dice list by number of clicks (left atrium): [0.6549, 0.693, 0.7241, 0.7151, 0.7168]\n"
     ]
    },
    {
     "name": "stderr",
     "output_type": "stream",
     "text": [
      " 80%|████████  | 16/20 [00:24<00:06,  1.54s/it]"
     ]
    },
    {
     "name": "stdout",
     "output_type": "stream",
     "text": [
      "la_019.nii.gz Dice list by number of clicks (left atrium): [0.5808, 0.604, 0.5891, 0.6484, 0.647]\n"
     ]
    },
    {
     "name": "stderr",
     "output_type": "stream",
     "text": [
      " 85%|████████▌ | 17/20 [00:26<00:04,  1.52s/it]"
     ]
    },
    {
     "name": "stdout",
     "output_type": "stream",
     "text": [
      "la_004.nii.gz Dice list by number of clicks (left atrium): [0.3486, 0.3845, 0.4688, 0.4713, 0.4932]\n"
     ]
    },
    {
     "name": "stderr",
     "output_type": "stream",
     "text": [
      " 90%|█████████ | 18/20 [00:27<00:03,  1.52s/it]"
     ]
    },
    {
     "name": "stdout",
     "output_type": "stream",
     "text": [
      "la_009.nii.gz Dice list by number of clicks (left atrium): [0.0718, 0.6368, 0.6545, 0.4786, 0.5293]\n"
     ]
    },
    {
     "name": "stderr",
     "output_type": "stream",
     "text": [
      " 95%|█████████▌| 19/20 [00:29<00:01,  1.49s/it]"
     ]
    },
    {
     "name": "stdout",
     "output_type": "stream",
     "text": [
      "la_026.nii.gz Dice list by number of clicks (left atrium): [0.216, 0.3635, 0.4298, 0.4784, 0.4938]\n",
      "Save results to /home/t722s/Desktop/Sam-Med3DTest/NetworkHeartModified/eval_res_from_inference.json\n",
      "Done\n"
     ]
    },
    {
     "name": "stderr",
     "output_type": "stream",
     "text": [
      "100%|██████████| 20/20 [00:30<00:00,  1.54s/it]\n"
     ]
    },
    {
     "name": "stdout",
     "output_type": "stream",
     "text": [
      "set seed as 2020\n",
      "device: cuda\n"
     ]
    },
    {
     "name": "stderr",
     "output_type": "stream",
     "text": [
      "  0%|          | 0/20 [00:00<?, ?it/s]"
     ]
    },
    {
     "name": "stdout",
     "output_type": "stream",
     "text": [
      "la_014.nii.gz Dice list by number of clicks (left atrium): [0.6309, 0.6895, 0.6974, 0.6979, 0.7069]\n"
     ]
    },
    {
     "name": "stderr",
     "output_type": "stream",
     "text": [
      "  5%|▌         | 1/20 [00:01<00:35,  1.85s/it]"
     ]
    },
    {
     "name": "stdout",
     "output_type": "stream",
     "text": [
      "la_022.nii.gz Dice list by number of clicks (left atrium): [0.6938, 0.6899, 0.6821, 0.6916, 0.7104]\n"
     ]
    },
    {
     "name": "stderr",
     "output_type": "stream",
     "text": [
      " 10%|█         | 2/20 [00:03<00:29,  1.65s/it]"
     ]
    },
    {
     "name": "stdout",
     "output_type": "stream",
     "text": [
      "la_030.nii.gz Dice list by number of clicks (left atrium): [0.7213, 0.7136, 0.7367, 0.7716, 0.7797]\n"
     ]
    },
    {
     "name": "stderr",
     "output_type": "stream",
     "text": [
      " 15%|█▌        | 3/20 [00:04<00:26,  1.54s/it]"
     ]
    },
    {
     "name": "stdout",
     "output_type": "stream",
     "text": [
      "la_010.nii.gz Dice list by number of clicks (left atrium): [0.7245, 0.7391, 0.761, 0.7484, 0.7552]\n"
     ]
    },
    {
     "name": "stderr",
     "output_type": "stream",
     "text": [
      " 20%|██        | 4/20 [00:06<00:25,  1.57s/it]"
     ]
    },
    {
     "name": "stdout",
     "output_type": "stream",
     "text": [
      "la_007.nii.gz Dice list by number of clicks (left atrium): [0.6743, 0.6141, 0.62, 0.6537, 0.672]\n"
     ]
    },
    {
     "name": "stderr",
     "output_type": "stream",
     "text": [
      " 25%|██▌       | 5/20 [00:08<00:24,  1.60s/it]"
     ]
    },
    {
     "name": "stdout",
     "output_type": "stream",
     "text": [
      "la_023.nii.gz Dice list by number of clicks (left atrium): [0.6551, 0.6841, 0.7046, 0.7616, 0.757]\n"
     ]
    },
    {
     "name": "stderr",
     "output_type": "stream",
     "text": [
      " 30%|███       | 6/20 [00:09<00:21,  1.56s/it]"
     ]
    },
    {
     "name": "stdout",
     "output_type": "stream",
     "text": [
      "la_017.nii.gz Dice list by number of clicks (left atrium): [0.6668, 0.6495, 0.6801, 0.6877, 0.7106]\n"
     ]
    },
    {
     "name": "stderr",
     "output_type": "stream",
     "text": [
      " 35%|███▌      | 7/20 [00:11<00:20,  1.56s/it]"
     ]
    },
    {
     "name": "stdout",
     "output_type": "stream",
     "text": [
      "la_016.nii.gz Dice list by number of clicks (left atrium): [0.6844, 0.6133, 0.6183, 0.6534, 0.6599]\n"
     ]
    },
    {
     "name": "stderr",
     "output_type": "stream",
     "text": [
      " 40%|████      | 8/20 [00:12<00:17,  1.45s/it]"
     ]
    },
    {
     "name": "stdout",
     "output_type": "stream",
     "text": [
      "la_029.nii.gz Dice list by number of clicks (left atrium): [0.6335, 0.6384, 0.6103, 0.6084, 0.639]\n"
     ]
    },
    {
     "name": "stderr",
     "output_type": "stream",
     "text": [
      " 45%|████▌     | 9/20 [00:13<00:15,  1.44s/it]"
     ]
    },
    {
     "name": "stdout",
     "output_type": "stream",
     "text": [
      "la_024.nii.gz Dice list by number of clicks (left atrium): [0.6808, 0.561, 0.5802, 0.5938, 0.5809]\n"
     ]
    },
    {
     "name": "stderr",
     "output_type": "stream",
     "text": [
      " 50%|█████     | 10/20 [00:15<00:14,  1.48s/it]"
     ]
    },
    {
     "name": "stdout",
     "output_type": "stream",
     "text": [
      "la_020.nii.gz Dice list by number of clicks (left atrium): [0.6664, 0.67, 0.6623, 0.619, 0.6252]\n"
     ]
    },
    {
     "name": "stderr",
     "output_type": "stream",
     "text": [
      " 55%|█████▌    | 11/20 [00:16<00:13,  1.49s/it]"
     ]
    },
    {
     "name": "stdout",
     "output_type": "stream",
     "text": [
      "la_003.nii.gz Dice list by number of clicks (left atrium): [0.3957, 0.661, 0.6874, 0.6824, 0.631]\n"
     ]
    },
    {
     "name": "stderr",
     "output_type": "stream",
     "text": [
      " 60%|██████    | 12/20 [00:18<00:12,  1.51s/it]"
     ]
    },
    {
     "name": "stdout",
     "output_type": "stream",
     "text": [
      "la_011.nii.gz Dice list by number of clicks (left atrium): [0.6312, 0.6152, 0.6391, 0.6574, 0.6556]\n"
     ]
    },
    {
     "name": "stderr",
     "output_type": "stream",
     "text": [
      " 65%|██████▌   | 13/20 [00:19<00:10,  1.53s/it]"
     ]
    },
    {
     "name": "stdout",
     "output_type": "stream",
     "text": [
      "la_005.nii.gz Dice list by number of clicks (left atrium): [0.4514, 0.4657, 0.4509, 0.4083, 0.4515]\n"
     ]
    },
    {
     "name": "stderr",
     "output_type": "stream",
     "text": [
      " 70%|███████   | 14/20 [00:21<00:09,  1.54s/it]"
     ]
    },
    {
     "name": "stdout",
     "output_type": "stream",
     "text": [
      "la_018.nii.gz Dice list by number of clicks (left atrium): [0.5544, 0.5992, 0.6034, 0.6237, 0.6073]\n"
     ]
    },
    {
     "name": "stderr",
     "output_type": "stream",
     "text": [
      " 75%|███████▌  | 15/20 [00:23<00:07,  1.54s/it]"
     ]
    },
    {
     "name": "stdout",
     "output_type": "stream",
     "text": [
      "la_021.nii.gz Dice list by number of clicks (left atrium): [0.5348, 0.5823, 0.6736, 0.6574, 0.6972]\n"
     ]
    },
    {
     "name": "stderr",
     "output_type": "stream",
     "text": [
      " 80%|████████  | 16/20 [00:24<00:06,  1.50s/it]"
     ]
    },
    {
     "name": "stdout",
     "output_type": "stream",
     "text": [
      "la_019.nii.gz Dice list by number of clicks (left atrium): [0.5696, 0.5925, 0.6405, 0.6816, 0.6849]\n"
     ]
    },
    {
     "name": "stderr",
     "output_type": "stream",
     "text": [
      " 85%|████████▌ | 17/20 [00:25<00:04,  1.50s/it]"
     ]
    },
    {
     "name": "stdout",
     "output_type": "stream",
     "text": [
      "la_004.nii.gz Dice list by number of clicks (left atrium): [0.52, 0.5755, 0.6632, 0.6649, 0.6082]\n"
     ]
    },
    {
     "name": "stderr",
     "output_type": "stream",
     "text": [
      " 95%|█████████▌| 19/20 [00:28<00:01,  1.47s/it]"
     ]
    },
    {
     "name": "stdout",
     "output_type": "stream",
     "text": [
      "la_009.nii.gz Dice list by number of clicks (left atrium): [0.6164, 0.6433, 0.6313, 0.6353, 0.6256]\n",
      "la_026.nii.gz Dice list by number of clicks (left atrium): [0.2575, 0.3569, 0.4335, 0.4972, 0.4981]\n",
      "Save results to /home/t722s/Desktop/Sam-Med3DTest/NetworkHeartModified/eval_res_from_inference.json\n",
      "Done\n"
     ]
    },
    {
     "name": "stderr",
     "output_type": "stream",
     "text": [
      "100%|██████████| 20/20 [00:30<00:00,  1.52s/it]\n"
     ]
    },
    {
     "name": "stdout",
     "output_type": "stream",
     "text": [
      "set seed as 2020\n",
      "device: cuda\n"
     ]
    },
    {
     "name": "stderr",
     "output_type": "stream",
     "text": [
      "  0%|          | 0/20 [00:00<?, ?it/s]"
     ]
    },
    {
     "name": "stdout",
     "output_type": "stream",
     "text": [
      "la_014.nii.gz Dice list by number of clicks (left atrium): [0.6165, 0.686, 0.747, 0.7566, 0.7437]\n"
     ]
    },
    {
     "name": "stderr",
     "output_type": "stream",
     "text": [
      "  5%|▌         | 1/20 [00:01<00:35,  1.85s/it]"
     ]
    },
    {
     "name": "stdout",
     "output_type": "stream",
     "text": [
      "la_022.nii.gz Dice list by number of clicks (left atrium): [0.5791, 0.6496, 0.6268, 0.6406, 0.6381]\n"
     ]
    },
    {
     "name": "stderr",
     "output_type": "stream",
     "text": [
      " 10%|█         | 2/20 [00:03<00:28,  1.60s/it]"
     ]
    },
    {
     "name": "stdout",
     "output_type": "stream",
     "text": [
      "la_030.nii.gz Dice list by number of clicks (left atrium): [0.6799, 0.6549, 0.7474, 0.7424, 0.7441]\n"
     ]
    },
    {
     "name": "stderr",
     "output_type": "stream",
     "text": [
      " 15%|█▌        | 3/20 [00:04<00:25,  1.52s/it]"
     ]
    },
    {
     "name": "stdout",
     "output_type": "stream",
     "text": [
      "la_010.nii.gz Dice list by number of clicks (left atrium): [0.6901, 0.5431, 0.5263, 0.5571, 0.6347]\n"
     ]
    },
    {
     "name": "stderr",
     "output_type": "stream",
     "text": [
      " 20%|██        | 4/20 [00:06<00:24,  1.55s/it]"
     ]
    },
    {
     "name": "stdout",
     "output_type": "stream",
     "text": [
      "la_007.nii.gz Dice list by number of clicks (left atrium): [0.6462, 0.6269, 0.6854, 0.7481, 0.7466]\n"
     ]
    },
    {
     "name": "stderr",
     "output_type": "stream",
     "text": [
      " 25%|██▌       | 5/20 [00:07<00:23,  1.56s/it]"
     ]
    },
    {
     "name": "stdout",
     "output_type": "stream",
     "text": [
      "la_023.nii.gz Dice list by number of clicks (left atrium): [0.646, 0.67, 0.6863, 0.7022, 0.7302]\n"
     ]
    },
    {
     "name": "stderr",
     "output_type": "stream",
     "text": [
      " 30%|███       | 6/20 [00:09<00:22,  1.57s/it]"
     ]
    },
    {
     "name": "stdout",
     "output_type": "stream",
     "text": [
      "la_017.nii.gz Dice list by number of clicks (left atrium): [0.612, 0.6237, 0.6255, 0.6627, 0.6686]\n"
     ]
    },
    {
     "name": "stderr",
     "output_type": "stream",
     "text": [
      " 35%|███▌      | 7/20 [00:11<00:20,  1.58s/it]"
     ]
    },
    {
     "name": "stdout",
     "output_type": "stream",
     "text": [
      "la_016.nii.gz Dice list by number of clicks (left atrium): [0.4984, 0.7099, 0.6897, 0.7442, 0.741]\n"
     ]
    },
    {
     "name": "stderr",
     "output_type": "stream",
     "text": [
      " 40%|████      | 8/20 [00:12<00:17,  1.47s/it]"
     ]
    },
    {
     "name": "stdout",
     "output_type": "stream",
     "text": [
      "la_029.nii.gz Dice list by number of clicks (left atrium): [0.6342, 0.6172, 0.6271, 0.6358, 0.6434]\n"
     ]
    },
    {
     "name": "stderr",
     "output_type": "stream",
     "text": [
      " 45%|████▌     | 9/20 [00:13<00:16,  1.48s/it]"
     ]
    },
    {
     "name": "stdout",
     "output_type": "stream",
     "text": [
      "la_024.nii.gz Dice list by number of clicks (left atrium): [0.5787, 0.5046, 0.511, 0.5612, 0.5818]\n"
     ]
    },
    {
     "name": "stderr",
     "output_type": "stream",
     "text": [
      " 50%|█████     | 10/20 [00:15<00:15,  1.52s/it]"
     ]
    },
    {
     "name": "stdout",
     "output_type": "stream",
     "text": [
      "la_020.nii.gz Dice list by number of clicks (left atrium): [0.6562, 0.6448, 0.66, 0.6344, 0.6426]\n"
     ]
    },
    {
     "name": "stderr",
     "output_type": "stream",
     "text": [
      " 55%|█████▌    | 11/20 [00:16<00:13,  1.50s/it]"
     ]
    },
    {
     "name": "stdout",
     "output_type": "stream",
     "text": [
      "la_003.nii.gz Dice list by number of clicks (left atrium): [0.6404, 0.657, 0.6463, 0.5425, 0.5357]\n"
     ]
    },
    {
     "name": "stderr",
     "output_type": "stream",
     "text": [
      " 60%|██████    | 12/20 [00:18<00:12,  1.55s/it]"
     ]
    },
    {
     "name": "stdout",
     "output_type": "stream",
     "text": [
      "la_011.nii.gz Dice list by number of clicks (left atrium): [0.6919, 0.6978, 0.6914, 0.6668, 0.6707]\n"
     ]
    },
    {
     "name": "stderr",
     "output_type": "stream",
     "text": [
      " 65%|██████▌   | 13/20 [00:20<00:10,  1.54s/it]"
     ]
    },
    {
     "name": "stdout",
     "output_type": "stream",
     "text": [
      "la_005.nii.gz Dice list by number of clicks (left atrium): [0.5737, 0.4804, 0.5556, 0.538, 0.5358]\n"
     ]
    },
    {
     "name": "stderr",
     "output_type": "stream",
     "text": [
      " 70%|███████   | 14/20 [00:21<00:09,  1.53s/it]"
     ]
    },
    {
     "name": "stdout",
     "output_type": "stream",
     "text": [
      "la_018.nii.gz Dice list by number of clicks (left atrium): [0.6443, 0.6301, 0.6027, 0.596, 0.5756]\n"
     ]
    },
    {
     "name": "stderr",
     "output_type": "stream",
     "text": [
      " 75%|███████▌  | 15/20 [00:23<00:07,  1.54s/it]"
     ]
    },
    {
     "name": "stdout",
     "output_type": "stream",
     "text": [
      "la_021.nii.gz Dice list by number of clicks (left atrium): [0.6531, 0.6512, 0.7033, 0.7048, 0.7535]\n"
     ]
    },
    {
     "name": "stderr",
     "output_type": "stream",
     "text": [
      " 80%|████████  | 16/20 [00:24<00:06,  1.50s/it]"
     ]
    },
    {
     "name": "stdout",
     "output_type": "stream",
     "text": [
      "la_019.nii.gz Dice list by number of clicks (left atrium): [0.6268, 0.6264, 0.6829, 0.6818, 0.7163]\n"
     ]
    },
    {
     "name": "stderr",
     "output_type": "stream",
     "text": [
      " 85%|████████▌ | 17/20 [00:25<00:04,  1.47s/it]"
     ]
    },
    {
     "name": "stdout",
     "output_type": "stream",
     "text": [
      "la_004.nii.gz Dice list by number of clicks (left atrium): [0.6414, 0.7016, 0.7042, 0.7098, 0.6862]\n"
     ]
    },
    {
     "name": "stderr",
     "output_type": "stream",
     "text": [
      " 90%|█████████ | 18/20 [00:27<00:03,  1.50s/it]"
     ]
    },
    {
     "name": "stdout",
     "output_type": "stream",
     "text": [
      "la_009.nii.gz Dice list by number of clicks (left atrium): [0.4623, 0.5919, 0.6123, 0.615, 0.6149]\n"
     ]
    },
    {
     "name": "stderr",
     "output_type": "stream",
     "text": [
      " 95%|█████████▌| 19/20 [00:28<00:01,  1.45s/it]"
     ]
    },
    {
     "name": "stdout",
     "output_type": "stream",
     "text": [
      "la_026.nii.gz Dice list by number of clicks (left atrium): [0.3898, 0.4623, 0.501, 0.4935, 0.4675]\n",
      "Save results to /home/t722s/Desktop/Sam-Med3DTest/NetworkHeartModified/eval_res_from_inference.json\n",
      "Done\n"
     ]
    },
    {
     "name": "stderr",
     "output_type": "stream",
     "text": [
      "100%|██████████| 20/20 [00:30<00:00,  1.52s/it]\n"
     ]
    },
    {
     "name": "stdout",
     "output_type": "stream",
     "text": [
      "set seed as 2020\n",
      "device: cuda\n"
     ]
    },
    {
     "name": "stderr",
     "output_type": "stream",
     "text": [
      "  0%|          | 0/20 [00:00<?, ?it/s]"
     ]
    },
    {
     "name": "stdout",
     "output_type": "stream",
     "text": [
      "la_014.nii.gz Dice list by number of clicks (left atrium): [0.4254, 0.5729, 0.6428, 0.6702, 0.6638]\n"
     ]
    },
    {
     "name": "stderr",
     "output_type": "stream",
     "text": [
      "  5%|▌         | 1/20 [00:01<00:32,  1.74s/it]"
     ]
    },
    {
     "name": "stdout",
     "output_type": "stream",
     "text": [
      "la_022.nii.gz Dice list by number of clicks (left atrium): [0.6784, 0.7163, 0.6877, 0.7455, 0.751]\n"
     ]
    },
    {
     "name": "stderr",
     "output_type": "stream",
     "text": [
      " 10%|█         | 2/20 [00:03<00:29,  1.66s/it]"
     ]
    },
    {
     "name": "stdout",
     "output_type": "stream",
     "text": [
      "la_030.nii.gz Dice list by number of clicks (left atrium): [0.566, 0.5709, 0.6216, 0.6538, 0.6722]\n"
     ]
    },
    {
     "name": "stderr",
     "output_type": "stream",
     "text": [
      " 15%|█▌        | 3/20 [00:04<00:26,  1.56s/it]"
     ]
    },
    {
     "name": "stdout",
     "output_type": "stream",
     "text": [
      "la_010.nii.gz Dice list by number of clicks (left atrium): [0.6675, 0.7462, 0.7316, 0.7235, 0.7129]\n"
     ]
    },
    {
     "name": "stderr",
     "output_type": "stream",
     "text": [
      " 20%|██        | 4/20 [00:06<00:25,  1.59s/it]"
     ]
    },
    {
     "name": "stdout",
     "output_type": "stream",
     "text": [
      "la_007.nii.gz Dice list by number of clicks (left atrium): [0.5504, 0.6924, 0.7315, 0.7347, 0.741]\n"
     ]
    },
    {
     "name": "stderr",
     "output_type": "stream",
     "text": [
      " 25%|██▌       | 5/20 [00:08<00:23,  1.60s/it]"
     ]
    },
    {
     "name": "stdout",
     "output_type": "stream",
     "text": [
      "la_023.nii.gz Dice list by number of clicks (left atrium): [0.7383, 0.8193, 0.819, 0.8215, 0.8124]\n"
     ]
    },
    {
     "name": "stderr",
     "output_type": "stream",
     "text": [
      " 30%|███       | 6/20 [00:09<00:21,  1.57s/it]"
     ]
    },
    {
     "name": "stdout",
     "output_type": "stream",
     "text": [
      "la_017.nii.gz Dice list by number of clicks (left atrium): [0.6801, 0.6422, 0.6411, 0.5917, 0.6069]\n"
     ]
    },
    {
     "name": "stderr",
     "output_type": "stream",
     "text": [
      " 35%|███▌      | 7/20 [00:11<00:20,  1.60s/it]"
     ]
    },
    {
     "name": "stdout",
     "output_type": "stream",
     "text": [
      "la_016.nii.gz Dice list by number of clicks (left atrium): [0.6, 0.6241, 0.6636, 0.6979, 0.7009]\n"
     ]
    },
    {
     "name": "stderr",
     "output_type": "stream",
     "text": [
      " 40%|████      | 8/20 [00:12<00:17,  1.48s/it]"
     ]
    },
    {
     "name": "stdout",
     "output_type": "stream",
     "text": [
      "la_029.nii.gz Dice list by number of clicks (left atrium): [0.6102, 0.6704, 0.656, 0.6925, 0.694]\n"
     ]
    },
    {
     "name": "stderr",
     "output_type": "stream",
     "text": [
      " 45%|████▌     | 9/20 [00:14<00:16,  1.51s/it]"
     ]
    },
    {
     "name": "stdout",
     "output_type": "stream",
     "text": [
      "la_024.nii.gz Dice list by number of clicks (left atrium): [0.5336, 0.4915, 0.6227, 0.652, 0.6719]\n"
     ]
    },
    {
     "name": "stderr",
     "output_type": "stream",
     "text": [
      " 50%|█████     | 10/20 [00:15<00:15,  1.51s/it]"
     ]
    },
    {
     "name": "stdout",
     "output_type": "stream",
     "text": [
      "la_020.nii.gz Dice list by number of clicks (left atrium): [0.6025, 0.6124, 0.6369, 0.6586, 0.6487]\n"
     ]
    },
    {
     "name": "stderr",
     "output_type": "stream",
     "text": [
      " 55%|█████▌    | 11/20 [00:17<00:13,  1.52s/it]"
     ]
    },
    {
     "name": "stdout",
     "output_type": "stream",
     "text": [
      "la_003.nii.gz Dice list by number of clicks (left atrium): [0.5183, 0.5167, 0.5294, 0.5796, 0.5442]\n"
     ]
    },
    {
     "name": "stderr",
     "output_type": "stream",
     "text": [
      " 60%|██████    | 12/20 [00:18<00:12,  1.54s/it]"
     ]
    },
    {
     "name": "stdout",
     "output_type": "stream",
     "text": [
      "la_011.nii.gz Dice list by number of clicks (left atrium): [0.634, 0.6826, 0.6729, 0.7262, 0.7191]\n"
     ]
    },
    {
     "name": "stderr",
     "output_type": "stream",
     "text": [
      " 65%|██████▌   | 13/20 [00:20<00:10,  1.54s/it]"
     ]
    },
    {
     "name": "stdout",
     "output_type": "stream",
     "text": [
      "la_005.nii.gz Dice list by number of clicks (left atrium): [0.4353, 0.4741, 0.475, 0.5084, 0.5343]\n"
     ]
    },
    {
     "name": "stderr",
     "output_type": "stream",
     "text": [
      " 70%|███████   | 14/20 [00:21<00:09,  1.56s/it]"
     ]
    },
    {
     "name": "stdout",
     "output_type": "stream",
     "text": [
      "la_018.nii.gz Dice list by number of clicks (left atrium): [0.43, 0.5156, 0.5683, 0.5583, 0.544]\n"
     ]
    },
    {
     "name": "stderr",
     "output_type": "stream",
     "text": [
      " 75%|███████▌  | 15/20 [00:23<00:07,  1.57s/it]"
     ]
    },
    {
     "name": "stdout",
     "output_type": "stream",
     "text": [
      "la_021.nii.gz Dice list by number of clicks (left atrium): [0.6323, 0.6594, 0.5833, 0.5907, 0.5693]\n"
     ]
    },
    {
     "name": "stderr",
     "output_type": "stream",
     "text": [
      " 80%|████████  | 16/20 [00:24<00:06,  1.53s/it]"
     ]
    },
    {
     "name": "stdout",
     "output_type": "stream",
     "text": [
      "la_019.nii.gz Dice list by number of clicks (left atrium): [0.6102, 0.6417, 0.6692, 0.7311, 0.7283]\n"
     ]
    },
    {
     "name": "stderr",
     "output_type": "stream",
     "text": [
      " 85%|████████▌ | 17/20 [00:26<00:04,  1.53s/it]"
     ]
    },
    {
     "name": "stdout",
     "output_type": "stream",
     "text": [
      "la_004.nii.gz Dice list by number of clicks (left atrium): [0.5972, 0.5728, 0.5464, 0.4999, 0.4815]\n"
     ]
    },
    {
     "name": "stderr",
     "output_type": "stream",
     "text": [
      " 90%|█████████ | 18/20 [00:27<00:03,  1.53s/it]"
     ]
    },
    {
     "name": "stdout",
     "output_type": "stream",
     "text": [
      "la_009.nii.gz Dice list by number of clicks (left atrium): [0.5313, 0.6093, 0.5854, 0.6344, 0.6411]\n"
     ]
    },
    {
     "name": "stderr",
     "output_type": "stream",
     "text": [
      " 95%|█████████▌| 19/20 [00:29<00:01,  1.49s/it]"
     ]
    },
    {
     "name": "stdout",
     "output_type": "stream",
     "text": [
      "la_026.nii.gz Dice list by number of clicks (left atrium): [0.2012, 0.2132, 0.3812, 0.3617, 0.4851]\n",
      "Save results to /home/t722s/Desktop/Sam-Med3DTest/NetworkHeartModified/eval_res_from_inference.json\n",
      "Done\n"
     ]
    },
    {
     "name": "stderr",
     "output_type": "stream",
     "text": [
      "100%|██████████| 20/20 [00:30<00:00,  1.54s/it]\n"
     ]
    },
    {
     "name": "stdout",
     "output_type": "stream",
     "text": [
      "set seed as 2020\n",
      "device: cuda\n"
     ]
    },
    {
     "name": "stderr",
     "output_type": "stream",
     "text": [
      "  0%|          | 0/20 [00:00<?, ?it/s]"
     ]
    },
    {
     "name": "stdout",
     "output_type": "stream",
     "text": [
      "la_014.nii.gz Dice list by number of clicks (left atrium): [0.6941, 0.732, 0.7216, 0.7685, 0.7964]\n"
     ]
    },
    {
     "name": "stderr",
     "output_type": "stream",
     "text": [
      "  5%|▌         | 1/20 [00:01<00:35,  1.84s/it]"
     ]
    },
    {
     "name": "stdout",
     "output_type": "stream",
     "text": [
      "la_022.nii.gz Dice list by number of clicks (left atrium): [0.6159, 0.6646, 0.6852, 0.683, 0.7306]\n"
     ]
    },
    {
     "name": "stderr",
     "output_type": "stream",
     "text": [
      " 10%|█         | 2/20 [00:03<00:29,  1.65s/it]"
     ]
    },
    {
     "name": "stdout",
     "output_type": "stream",
     "text": [
      "la_030.nii.gz Dice list by number of clicks (left atrium): [0.6205, 0.6471, 0.8032, 0.8078, 0.7734]\n"
     ]
    },
    {
     "name": "stderr",
     "output_type": "stream",
     "text": [
      " 15%|█▌        | 3/20 [00:04<00:27,  1.62s/it]"
     ]
    },
    {
     "name": "stdout",
     "output_type": "stream",
     "text": [
      "la_010.nii.gz Dice list by number of clicks (left atrium): [0.6865, 0.7256, 0.7735, 0.7799, 0.7891]\n"
     ]
    },
    {
     "name": "stderr",
     "output_type": "stream",
     "text": [
      " 20%|██        | 4/20 [00:06<00:25,  1.58s/it]"
     ]
    },
    {
     "name": "stdout",
     "output_type": "stream",
     "text": [
      "la_007.nii.gz Dice list by number of clicks (left atrium): [0.4089, 0.5512, 0.5307, 0.5502, 0.6959]\n"
     ]
    },
    {
     "name": "stderr",
     "output_type": "stream",
     "text": [
      " 25%|██▌       | 5/20 [00:08<00:23,  1.58s/it]"
     ]
    },
    {
     "name": "stdout",
     "output_type": "stream",
     "text": [
      "la_023.nii.gz Dice list by number of clicks (left atrium): [0.562, 0.759, 0.7487, 0.7178, 0.7198]\n"
     ]
    },
    {
     "name": "stderr",
     "output_type": "stream",
     "text": [
      " 30%|███       | 6/20 [00:09<00:21,  1.55s/it]"
     ]
    },
    {
     "name": "stdout",
     "output_type": "stream",
     "text": [
      "la_017.nii.gz Dice list by number of clicks (left atrium): [0.5652, 0.5435, 0.5652, 0.6136, 0.6634]\n"
     ]
    },
    {
     "name": "stderr",
     "output_type": "stream",
     "text": [
      " 35%|███▌      | 7/20 [00:11<00:20,  1.58s/it]"
     ]
    },
    {
     "name": "stdout",
     "output_type": "stream",
     "text": [
      "la_016.nii.gz Dice list by number of clicks (left atrium): [0.4235, 0.4796, 0.6012, 0.6706, 0.6899]\n"
     ]
    },
    {
     "name": "stderr",
     "output_type": "stream",
     "text": [
      " 40%|████      | 8/20 [00:12<00:17,  1.47s/it]"
     ]
    },
    {
     "name": "stdout",
     "output_type": "stream",
     "text": [
      "la_029.nii.gz Dice list by number of clicks (left atrium): [0.7281, 0.7125, 0.7031, 0.6393, 0.653]\n"
     ]
    },
    {
     "name": "stderr",
     "output_type": "stream",
     "text": [
      " 45%|████▌     | 9/20 [00:13<00:16,  1.49s/it]"
     ]
    },
    {
     "name": "stdout",
     "output_type": "stream",
     "text": [
      "la_024.nii.gz Dice list by number of clicks (left atrium): [0.4631, 0.5812, 0.5791, 0.5862, 0.6322]\n"
     ]
    },
    {
     "name": "stderr",
     "output_type": "stream",
     "text": [
      " 50%|█████     | 10/20 [00:15<00:15,  1.52s/it]"
     ]
    },
    {
     "name": "stdout",
     "output_type": "stream",
     "text": [
      "la_020.nii.gz Dice list by number of clicks (left atrium): [0.5953, 0.5476, 0.5607, 0.5381, 0.5398]\n"
     ]
    },
    {
     "name": "stderr",
     "output_type": "stream",
     "text": [
      " 55%|█████▌    | 11/20 [00:17<00:13,  1.52s/it]"
     ]
    },
    {
     "name": "stdout",
     "output_type": "stream",
     "text": [
      "la_003.nii.gz Dice list by number of clicks (left atrium): [0.5494, 0.6178, 0.6324, 0.6218, 0.6271]\n"
     ]
    },
    {
     "name": "stderr",
     "output_type": "stream",
     "text": [
      " 60%|██████    | 12/20 [00:18<00:12,  1.54s/it]"
     ]
    },
    {
     "name": "stdout",
     "output_type": "stream",
     "text": [
      "la_011.nii.gz Dice list by number of clicks (left atrium): [0.711, 0.6521, 0.6126, 0.5855, 0.5984]\n"
     ]
    },
    {
     "name": "stderr",
     "output_type": "stream",
     "text": [
      " 65%|██████▌   | 13/20 [00:20<00:10,  1.57s/it]"
     ]
    },
    {
     "name": "stdout",
     "output_type": "stream",
     "text": [
      "la_005.nii.gz Dice list by number of clicks (left atrium): [0.348, 0.4214, 0.4503, 0.4555, 0.4467]\n"
     ]
    },
    {
     "name": "stderr",
     "output_type": "stream",
     "text": [
      " 70%|███████   | 14/20 [00:21<00:09,  1.58s/it]"
     ]
    },
    {
     "name": "stdout",
     "output_type": "stream",
     "text": [
      "la_018.nii.gz Dice list by number of clicks (left atrium): [0.7052, 0.7234, 0.6065, 0.6055, 0.614]\n"
     ]
    },
    {
     "name": "stderr",
     "output_type": "stream",
     "text": [
      " 75%|███████▌  | 15/20 [00:23<00:07,  1.59s/it]"
     ]
    },
    {
     "name": "stdout",
     "output_type": "stream",
     "text": [
      "la_021.nii.gz Dice list by number of clicks (left atrium): [0.6524, 0.6632, 0.6742, 0.643, 0.7227]\n"
     ]
    },
    {
     "name": "stderr",
     "output_type": "stream",
     "text": [
      " 80%|████████  | 16/20 [00:24<00:06,  1.52s/it]"
     ]
    },
    {
     "name": "stdout",
     "output_type": "stream",
     "text": [
      "la_019.nii.gz Dice list by number of clicks (left atrium): [0.5233, 0.6292, 0.6144, 0.6239, 0.6242]\n"
     ]
    },
    {
     "name": "stderr",
     "output_type": "stream",
     "text": [
      " 85%|████████▌ | 17/20 [00:26<00:04,  1.53s/it]"
     ]
    },
    {
     "name": "stdout",
     "output_type": "stream",
     "text": [
      "la_004.nii.gz Dice list by number of clicks (left atrium): [0.6394, 0.6839, 0.6977, 0.6848, 0.7513]\n"
     ]
    },
    {
     "name": "stderr",
     "output_type": "stream",
     "text": [
      " 90%|█████████ | 18/20 [00:27<00:03,  1.52s/it]"
     ]
    },
    {
     "name": "stdout",
     "output_type": "stream",
     "text": [
      "la_009.nii.gz Dice list by number of clicks (left atrium): [0.537, 0.6749, 0.648, 0.644, 0.6225]\n"
     ]
    },
    {
     "name": "stderr",
     "output_type": "stream",
     "text": [
      " 95%|█████████▌| 19/20 [00:29<00:01,  1.52s/it]"
     ]
    },
    {
     "name": "stdout",
     "output_type": "stream",
     "text": [
      "la_026.nii.gz Dice list by number of clicks (left atrium): [0.5271, 0.5339, 0.5779, 0.4822, 0.5022]\n",
      "Save results to /home/t722s/Desktop/Sam-Med3DTest/NetworkHeartModified/eval_res_from_inference.json\n",
      "Done\n"
     ]
    },
    {
     "name": "stderr",
     "output_type": "stream",
     "text": [
      "100%|██████████| 20/20 [00:31<00:00,  1.55s/it]\n"
     ]
    }
   ],
   "source": [
    "# Testing new method: presupplied points\n",
    "multi_res_path = '/home/t722s/Desktop/Sam-Med3DTest/NetworkHeartModified/presupplied.json'\n",
    "\n",
    "seeds = []\n",
    "np.random.seed(11121)\n",
    "for seed in np.random.randint(10**6, size = n_run):\n",
    "    seeds.append(seed)\n",
    "    point_generation_args = ['python', 'generate_points.py', \\\n",
    "            '-tdp', '/home/t722s/Desktop/Datasets/NetworkHeartModified/', \\\n",
    "            '-rp', '/home/t722s/Desktop/Sam-Med3DTest/NetworkHeartModified/', \\\n",
    "            '-nc', '5',\n",
    "            '--seed', str(seed)]\n",
    "    subprocess.run(point_generation_args,\n",
    "                    stdout=subprocess.DEVNULL, \n",
    "                    stderr=subprocess.DEVNULL)\n",
    "    inference_args = ['python', 'SAM-Med3D/validationTesting2.py', \n",
    "                        '--seed', '2020',\n",
    "                        '-rp', rp,\n",
    "                        '-cp', '/home/t722s/Desktop/UniversalModels/TrainedModels/sam_med3d.pth',\n",
    "                        '-tdp', tdp\n",
    "                        ]\n",
    "    subprocess.run(inference_args)\n",
    "\n",
    "    with open(os.path.join(rp, 'eval_res_from_inference.json'), 'r') as f:\n",
    "        res = json.load(f)\n",
    "\n",
    "    if os.path.exists(multi_res_path):\n",
    "        with open(multi_res_path, 'r') as f:\n",
    "            multi = json.load(f) \n",
    "    else:\n",
    "        multi = dict()\n",
    "\n",
    "    multi[int(seed)] = res\n",
    "    with open(multi_res_path, 'w') as f:\n",
    "        json.dump(multi, f)\n",
    "\n",
    "# Make human readable\n",
    "json_string = json.dumps(multi, ensure_ascii=False)\n",
    "json_string = json_string.replace('\"la', '\\n\\t\"la')\n",
    "\n",
    "for seed in seeds:\n",
    "    json_string = json_string.replace(f'\"{seed}', f'\\n\"{seed}')\n",
    "\n",
    "json_string = json_string[:-1] + '\\n}'\n",
    "with open(multi_res_path.replace('.json', '_readable.json'), 'w', encoding='utf-8') as file:\n",
    "    file.write(json_string)"
   ]
  },
  {
   "cell_type": "code",
   "execution_count": 5,
   "metadata": {},
   "outputs": [
    {
     "name": "stdout",
     "output_type": "stream",
     "text": [
      "set seed as 2020\n",
      "device: cuda\n"
     ]
    },
    {
     "name": "stderr",
     "output_type": "stream",
     "text": [
      "  0%|          | 0/1 [00:00<?, ?it/s]"
     ]
    },
    {
     "name": "stdout",
     "output_type": "stream",
     "text": [
      "BraTS2021_01646.nii.gz Dice list by number of clicks (Brain Tumor): [0.7663, 0.6933, 0.7111, 0.7183, 0.7025]\n",
      "Save results to /home/t722s/Desktop/Sam-Med3DTest/BratsMini/eval_res_from_inference.json\n",
      "Done\n"
     ]
    },
    {
     "name": "stderr",
     "output_type": "stream",
     "text": [
      "100%|██████████| 1/1 [00:00<00:00,  1.17it/s]\n"
     ]
    },
    {
     "name": "stdout",
     "output_type": "stream",
     "text": [
      "set seed as 2020\n",
      "device: cuda\n"
     ]
    },
    {
     "name": "stderr",
     "output_type": "stream",
     "text": [
      "  0%|          | 0/1 [00:00<?, ?it/s]"
     ]
    },
    {
     "name": "stdout",
     "output_type": "stream",
     "text": [
      "BraTS2021_01646.nii.gz Dice list by number of clicks (Brain Tumor): [0.548, 0.7501, 0.7278, 0.7732, 0.7544]\n",
      "Save results to /home/t722s/Desktop/Sam-Med3DTest/BratsMini/eval_res_from_inference.json\n",
      "Done\n"
     ]
    },
    {
     "name": "stderr",
     "output_type": "stream",
     "text": [
      "100%|██████████| 1/1 [00:00<00:00,  1.17it/s]\n"
     ]
    },
    {
     "name": "stdout",
     "output_type": "stream",
     "text": [
      "set seed as 2020\n",
      "device: cuda\n"
     ]
    },
    {
     "name": "stderr",
     "output_type": "stream",
     "text": [
      "  0%|          | 0/1 [00:00<?, ?it/s]"
     ]
    },
    {
     "name": "stdout",
     "output_type": "stream",
     "text": [
      "BraTS2021_01646.nii.gz Dice list by number of clicks (Brain Tumor): [0.6231, 0.6869, 0.7355, 0.7363, 0.7359]\n",
      "Save results to /home/t722s/Desktop/Sam-Med3DTest/BratsMini/eval_res_from_inference.json\n",
      "Done\n"
     ]
    },
    {
     "name": "stderr",
     "output_type": "stream",
     "text": [
      "100%|██████████| 1/1 [00:00<00:00,  1.19it/s]\n"
     ]
    },
    {
     "name": "stdout",
     "output_type": "stream",
     "text": [
      "set seed as 2020\n",
      "device: cuda\n"
     ]
    },
    {
     "name": "stderr",
     "output_type": "stream",
     "text": [
      "  0%|          | 0/1 [00:00<?, ?it/s]"
     ]
    },
    {
     "name": "stdout",
     "output_type": "stream",
     "text": [
      "BraTS2021_01646.nii.gz Dice list by number of clicks (Brain Tumor): [0.7762, 0.8056, 0.8083, 0.8052, 0.7905]\n",
      "Save results to /home/t722s/Desktop/Sam-Med3DTest/BratsMini/eval_res_from_inference.json\n",
      "Done\n"
     ]
    },
    {
     "name": "stderr",
     "output_type": "stream",
     "text": [
      "100%|██████████| 1/1 [00:00<00:00,  1.22it/s]\n"
     ]
    },
    {
     "name": "stdout",
     "output_type": "stream",
     "text": [
      "set seed as 2020\n",
      "device: cuda\n"
     ]
    },
    {
     "name": "stderr",
     "output_type": "stream",
     "text": [
      "  0%|          | 0/1 [00:00<?, ?it/s]"
     ]
    },
    {
     "name": "stdout",
     "output_type": "stream",
     "text": [
      "BraTS2021_01646.nii.gz Dice list by number of clicks (Brain Tumor): [0.7791, 0.7639, 0.7385, 0.6634, 0.6362]\n",
      "Save results to /home/t722s/Desktop/Sam-Med3DTest/BratsMini/eval_res_from_inference.json\n",
      "Done\n"
     ]
    },
    {
     "name": "stderr",
     "output_type": "stream",
     "text": [
      "100%|██████████| 1/1 [00:00<00:00,  1.23it/s]\n"
     ]
    },
    {
     "name": "stdout",
     "output_type": "stream",
     "text": [
      "set seed as 2020\n",
      "device: cuda\n"
     ]
    },
    {
     "name": "stderr",
     "output_type": "stream",
     "text": [
      "  0%|          | 0/1 [00:00<?, ?it/s]"
     ]
    },
    {
     "name": "stdout",
     "output_type": "stream",
     "text": [
      "BraTS2021_01646.nii.gz Dice list by number of clicks (Brain Tumor): [0.7415, 0.4527, 0.435, 0.3602, 0.3952]\n",
      "Save results to /home/t722s/Desktop/Sam-Med3DTest/BratsMini/eval_res_from_inference.json\n",
      "Done\n"
     ]
    },
    {
     "name": "stderr",
     "output_type": "stream",
     "text": [
      "100%|██████████| 1/1 [00:00<00:00,  1.21it/s]\n"
     ]
    },
    {
     "name": "stdout",
     "output_type": "stream",
     "text": [
      "set seed as 2020\n",
      "device: cuda\n"
     ]
    },
    {
     "name": "stderr",
     "output_type": "stream",
     "text": [
      "  0%|          | 0/1 [00:00<?, ?it/s]"
     ]
    },
    {
     "name": "stdout",
     "output_type": "stream",
     "text": [
      "BraTS2021_01646.nii.gz Dice list by number of clicks (Brain Tumor): [0.6752, 0.7882, 0.7795, 0.7863, 0.7812]\n",
      "Save results to /home/t722s/Desktop/Sam-Med3DTest/BratsMini/eval_res_from_inference.json\n",
      "Done\n"
     ]
    },
    {
     "name": "stderr",
     "output_type": "stream",
     "text": [
      "100%|██████████| 1/1 [00:00<00:00,  1.21it/s]\n"
     ]
    },
    {
     "name": "stdout",
     "output_type": "stream",
     "text": [
      "set seed as 2020\n",
      "device: cuda\n"
     ]
    },
    {
     "name": "stderr",
     "output_type": "stream",
     "text": [
      "  0%|          | 0/1 [00:00<?, ?it/s]"
     ]
    },
    {
     "name": "stdout",
     "output_type": "stream",
     "text": [
      "BraTS2021_01646.nii.gz Dice list by number of clicks (Brain Tumor): [0.7878, 0.7479, 0.7398, 0.7317, 0.732]\n",
      "Save results to /home/t722s/Desktop/Sam-Med3DTest/BratsMini/eval_res_from_inference.json\n",
      "Done\n"
     ]
    },
    {
     "name": "stderr",
     "output_type": "stream",
     "text": [
      "100%|██████████| 1/1 [00:00<00:00,  1.21it/s]\n"
     ]
    },
    {
     "name": "stdout",
     "output_type": "stream",
     "text": [
      "set seed as 2020\n",
      "device: cuda\n"
     ]
    },
    {
     "name": "stderr",
     "output_type": "stream",
     "text": [
      "  0%|          | 0/1 [00:00<?, ?it/s]"
     ]
    },
    {
     "name": "stdout",
     "output_type": "stream",
     "text": [
      "BraTS2021_01646.nii.gz Dice list by number of clicks (Brain Tumor): [0.7645, 0.7941, 0.7814, 0.7684, 0.742]\n",
      "Save results to /home/t722s/Desktop/Sam-Med3DTest/BratsMini/eval_res_from_inference.json\n",
      "Done\n"
     ]
    },
    {
     "name": "stderr",
     "output_type": "stream",
     "text": [
      "100%|██████████| 1/1 [00:00<00:00,  1.23it/s]\n"
     ]
    },
    {
     "name": "stdout",
     "output_type": "stream",
     "text": [
      "set seed as 2020\n",
      "device: cuda\n"
     ]
    },
    {
     "name": "stderr",
     "output_type": "stream",
     "text": [
      "  0%|          | 0/1 [00:00<?, ?it/s]"
     ]
    },
    {
     "name": "stdout",
     "output_type": "stream",
     "text": [
      "BraTS2021_01646.nii.gz Dice list by number of clicks (Brain Tumor): [0.7664, 0.7275, 0.6597, 0.7764, 0.7983]\n",
      "Save results to /home/t722s/Desktop/Sam-Med3DTest/BratsMini/eval_res_from_inference.json\n",
      "Done\n"
     ]
    },
    {
     "name": "stderr",
     "output_type": "stream",
     "text": [
      "100%|██████████| 1/1 [00:00<00:00,  1.22it/s]\n"
     ]
    },
    {
     "name": "stdout",
     "output_type": "stream",
     "text": [
      "set seed as 2020\n",
      "device: cuda\n"
     ]
    },
    {
     "name": "stderr",
     "output_type": "stream",
     "text": [
      "  0%|          | 0/1 [00:00<?, ?it/s]"
     ]
    },
    {
     "name": "stdout",
     "output_type": "stream",
     "text": [
      "BraTS2021_01646.nii.gz Dice list by number of clicks (Brain Tumor): [0.6051, 0.6406, 0.647, 0.6213, 0.6184]\n",
      "Save results to /home/t722s/Desktop/Sam-Med3DTest/BratsMini/eval_res_from_inference.json\n",
      "Done\n"
     ]
    },
    {
     "name": "stderr",
     "output_type": "stream",
     "text": [
      "100%|██████████| 1/1 [00:00<00:00,  1.24it/s]\n"
     ]
    },
    {
     "name": "stdout",
     "output_type": "stream",
     "text": [
      "set seed as 2020\n",
      "device: cuda\n"
     ]
    },
    {
     "name": "stderr",
     "output_type": "stream",
     "text": [
      "  0%|          | 0/1 [00:00<?, ?it/s]"
     ]
    },
    {
     "name": "stdout",
     "output_type": "stream",
     "text": [
      "BraTS2021_01646.nii.gz Dice list by number of clicks (Brain Tumor): [0.6615, 0.6756, 0.7084, 0.7049, 0.6873]\n",
      "Save results to /home/t722s/Desktop/Sam-Med3DTest/BratsMini/eval_res_from_inference.json\n",
      "Done\n"
     ]
    },
    {
     "name": "stderr",
     "output_type": "stream",
     "text": [
      "100%|██████████| 1/1 [00:00<00:00,  1.16it/s]\n"
     ]
    },
    {
     "name": "stdout",
     "output_type": "stream",
     "text": [
      "set seed as 2020\n",
      "device: cuda\n"
     ]
    },
    {
     "name": "stderr",
     "output_type": "stream",
     "text": [
      "  0%|          | 0/1 [00:00<?, ?it/s]"
     ]
    },
    {
     "name": "stdout",
     "output_type": "stream",
     "text": [
      "BraTS2021_01646.nii.gz Dice list by number of clicks (Brain Tumor): [0.796, 0.7662, 0.7436, 0.7968, 0.772]\n",
      "Save results to /home/t722s/Desktop/Sam-Med3DTest/BratsMini/eval_res_from_inference.json\n",
      "Done\n"
     ]
    },
    {
     "name": "stderr",
     "output_type": "stream",
     "text": [
      "100%|██████████| 1/1 [00:00<00:00,  1.16it/s]\n"
     ]
    },
    {
     "name": "stdout",
     "output_type": "stream",
     "text": [
      "set seed as 2020\n",
      "device: cuda\n"
     ]
    },
    {
     "name": "stderr",
     "output_type": "stream",
     "text": [
      "  0%|          | 0/1 [00:00<?, ?it/s]"
     ]
    },
    {
     "name": "stdout",
     "output_type": "stream",
     "text": [
      "BraTS2021_01646.nii.gz Dice list by number of clicks (Brain Tumor): [0.6739, 0.7854, 0.7673, 0.7353, 0.7282]\n",
      "Save results to /home/t722s/Desktop/Sam-Med3DTest/BratsMini/eval_res_from_inference.json\n",
      "Done\n"
     ]
    },
    {
     "name": "stderr",
     "output_type": "stream",
     "text": [
      "100%|██████████| 1/1 [00:00<00:00,  1.23it/s]\n"
     ]
    },
    {
     "name": "stdout",
     "output_type": "stream",
     "text": [
      "set seed as 2020\n",
      "device: cuda\n"
     ]
    },
    {
     "name": "stderr",
     "output_type": "stream",
     "text": [
      "  0%|          | 0/1 [00:00<?, ?it/s]"
     ]
    },
    {
     "name": "stdout",
     "output_type": "stream",
     "text": [
      "BraTS2021_01646.nii.gz Dice list by number of clicks (Brain Tumor): [0.6908, 0.645, 0.5819, 0.6022, 0.6381]\n",
      "Save results to /home/t722s/Desktop/Sam-Med3DTest/BratsMini/eval_res_from_inference.json\n",
      "Done\n"
     ]
    },
    {
     "name": "stderr",
     "output_type": "stream",
     "text": [
      "100%|██████████| 1/1 [00:00<00:00,  1.20it/s]\n"
     ]
    },
    {
     "name": "stdout",
     "output_type": "stream",
     "text": [
      "set seed as 2020\n",
      "device: cuda\n"
     ]
    },
    {
     "name": "stderr",
     "output_type": "stream",
     "text": [
      "  0%|          | 0/1 [00:00<?, ?it/s]"
     ]
    },
    {
     "name": "stdout",
     "output_type": "stream",
     "text": [
      "BraTS2021_01646.nii.gz Dice list by number of clicks (Brain Tumor): [0.7419, 0.6387, 0.5594, 0.7432, 0.7351]\n",
      "Save results to /home/t722s/Desktop/Sam-Med3DTest/BratsMini/eval_res_from_inference.json\n",
      "Done\n"
     ]
    },
    {
     "name": "stderr",
     "output_type": "stream",
     "text": [
      "100%|██████████| 1/1 [00:00<00:00,  1.18it/s]\n"
     ]
    },
    {
     "name": "stdout",
     "output_type": "stream",
     "text": [
      "set seed as 2020\n",
      "device: cuda\n"
     ]
    },
    {
     "name": "stderr",
     "output_type": "stream",
     "text": [
      "  0%|          | 0/1 [00:00<?, ?it/s]"
     ]
    },
    {
     "name": "stdout",
     "output_type": "stream",
     "text": [
      "BraTS2021_01646.nii.gz Dice list by number of clicks (Brain Tumor): [0.6765, 0.5059, 0.7375, 0.7013, 0.7034]\n",
      "Save results to /home/t722s/Desktop/Sam-Med3DTest/BratsMini/eval_res_from_inference.json\n",
      "Done\n"
     ]
    },
    {
     "name": "stderr",
     "output_type": "stream",
     "text": [
      "100%|██████████| 1/1 [00:00<00:00,  1.19it/s]\n"
     ]
    },
    {
     "name": "stdout",
     "output_type": "stream",
     "text": [
      "set seed as 2020\n",
      "device: cuda\n"
     ]
    },
    {
     "name": "stderr",
     "output_type": "stream",
     "text": [
      "  0%|          | 0/1 [00:00<?, ?it/s]"
     ]
    },
    {
     "name": "stdout",
     "output_type": "stream",
     "text": [
      "BraTS2021_01646.nii.gz Dice list by number of clicks (Brain Tumor): [0.7721, 0.7622, 0.7561, 0.7347, 0.7485]\n",
      "Save results to /home/t722s/Desktop/Sam-Med3DTest/BratsMini/eval_res_from_inference.json\n",
      "Done\n"
     ]
    },
    {
     "name": "stderr",
     "output_type": "stream",
     "text": [
      "100%|██████████| 1/1 [00:00<00:00,  1.21it/s]\n"
     ]
    },
    {
     "name": "stdout",
     "output_type": "stream",
     "text": [
      "set seed as 2020\n",
      "device: cuda\n"
     ]
    },
    {
     "name": "stderr",
     "output_type": "stream",
     "text": [
      "  0%|          | 0/1 [00:00<?, ?it/s]"
     ]
    },
    {
     "name": "stdout",
     "output_type": "stream",
     "text": [
      "BraTS2021_01646.nii.gz Dice list by number of clicks (Brain Tumor): [0.7757, 0.7299, 0.6578, 0.6198, 0.7782]\n",
      "Save results to /home/t722s/Desktop/Sam-Med3DTest/BratsMini/eval_res_from_inference.json\n",
      "Done\n"
     ]
    },
    {
     "name": "stderr",
     "output_type": "stream",
     "text": [
      "100%|██████████| 1/1 [00:00<00:00,  1.14it/s]\n"
     ]
    },
    {
     "name": "stdout",
     "output_type": "stream",
     "text": [
      "set seed as 2020\n",
      "device: cuda\n"
     ]
    },
    {
     "name": "stderr",
     "output_type": "stream",
     "text": [
      "  0%|          | 0/1 [00:00<?, ?it/s]"
     ]
    },
    {
     "name": "stdout",
     "output_type": "stream",
     "text": [
      "BraTS2021_01646.nii.gz Dice list by number of clicks (Brain Tumor): [0.7593, 0.7542, 0.7689, 0.7275, 0.7072]\n",
      "Save results to /home/t722s/Desktop/Sam-Med3DTest/BratsMini/eval_res_from_inference.json\n",
      "Done\n"
     ]
    },
    {
     "name": "stderr",
     "output_type": "stream",
     "text": [
      "100%|██████████| 1/1 [00:00<00:00,  1.22it/s]\n"
     ]
    },
    {
     "name": "stdout",
     "output_type": "stream",
     "text": [
      "set seed as 2020\n",
      "device: cuda\n"
     ]
    },
    {
     "name": "stderr",
     "output_type": "stream",
     "text": [
      "  0%|          | 0/1 [00:00<?, ?it/s]"
     ]
    },
    {
     "name": "stdout",
     "output_type": "stream",
     "text": [
      "BraTS2021_01646.nii.gz Dice list by number of clicks (Brain Tumor): [0.7595, 0.6816, 0.5601, 0.7156, 0.7321]\n",
      "Save results to /home/t722s/Desktop/Sam-Med3DTest/BratsMini/eval_res_from_inference.json\n",
      "Done\n"
     ]
    },
    {
     "name": "stderr",
     "output_type": "stream",
     "text": [
      "100%|██████████| 1/1 [00:00<00:00,  1.20it/s]\n"
     ]
    },
    {
     "name": "stdout",
     "output_type": "stream",
     "text": [
      "set seed as 2020\n",
      "device: cuda\n"
     ]
    },
    {
     "name": "stderr",
     "output_type": "stream",
     "text": [
      "  0%|          | 0/1 [00:00<?, ?it/s]"
     ]
    },
    {
     "name": "stdout",
     "output_type": "stream",
     "text": [
      "BraTS2021_01646.nii.gz Dice list by number of clicks (Brain Tumor): [0.7016, 0.6727, 0.6834, 0.652, 0.6897]\n",
      "Save results to /home/t722s/Desktop/Sam-Med3DTest/BratsMini/eval_res_from_inference.json\n",
      "Done\n"
     ]
    },
    {
     "name": "stderr",
     "output_type": "stream",
     "text": [
      "100%|██████████| 1/1 [00:00<00:00,  1.21it/s]\n"
     ]
    },
    {
     "name": "stdout",
     "output_type": "stream",
     "text": [
      "set seed as 2020\n",
      "device: cuda\n"
     ]
    },
    {
     "name": "stderr",
     "output_type": "stream",
     "text": [
      "  0%|          | 0/1 [00:00<?, ?it/s]"
     ]
    },
    {
     "name": "stdout",
     "output_type": "stream",
     "text": [
      "BraTS2021_01646.nii.gz Dice list by number of clicks (Brain Tumor): [0.7168, 0.6542, 0.7754, 0.7457, 0.7326]\n",
      "Save results to /home/t722s/Desktop/Sam-Med3DTest/BratsMini/eval_res_from_inference.json\n",
      "Done\n"
     ]
    },
    {
     "name": "stderr",
     "output_type": "stream",
     "text": [
      "100%|██████████| 1/1 [00:00<00:00,  1.16it/s]\n"
     ]
    },
    {
     "name": "stdout",
     "output_type": "stream",
     "text": [
      "set seed as 2020\n",
      "device: cuda\n"
     ]
    },
    {
     "name": "stderr",
     "output_type": "stream",
     "text": [
      "  0%|          | 0/1 [00:00<?, ?it/s]"
     ]
    },
    {
     "name": "stdout",
     "output_type": "stream",
     "text": [
      "BraTS2021_01646.nii.gz Dice list by number of clicks (Brain Tumor): [0.7987, 0.6891, 0.4646, 0.5572, 0.6183]\n",
      "Save results to /home/t722s/Desktop/Sam-Med3DTest/BratsMini/eval_res_from_inference.json\n",
      "Done\n"
     ]
    },
    {
     "name": "stderr",
     "output_type": "stream",
     "text": [
      "100%|██████████| 1/1 [00:00<00:00,  1.18it/s]\n"
     ]
    },
    {
     "name": "stdout",
     "output_type": "stream",
     "text": [
      "set seed as 2020\n",
      "device: cuda\n"
     ]
    },
    {
     "name": "stderr",
     "output_type": "stream",
     "text": [
      "  0%|          | 0/1 [00:00<?, ?it/s]"
     ]
    },
    {
     "name": "stdout",
     "output_type": "stream",
     "text": [
      "BraTS2021_01646.nii.gz Dice list by number of clicks (Brain Tumor): [0.643, 0.6843, 0.6721, 0.689, 0.7335]\n",
      "Save results to /home/t722s/Desktop/Sam-Med3DTest/BratsMini/eval_res_from_inference.json\n",
      "Done\n"
     ]
    },
    {
     "name": "stderr",
     "output_type": "stream",
     "text": [
      "100%|██████████| 1/1 [00:00<00:00,  1.23it/s]\n"
     ]
    },
    {
     "name": "stdout",
     "output_type": "stream",
     "text": [
      "set seed as 2020\n",
      "device: cuda\n"
     ]
    },
    {
     "name": "stderr",
     "output_type": "stream",
     "text": [
      "  0%|          | 0/1 [00:00<?, ?it/s]"
     ]
    },
    {
     "name": "stdout",
     "output_type": "stream",
     "text": [
      "BraTS2021_01646.nii.gz Dice list by number of clicks (Brain Tumor): [0.7357, 0.7729, 0.7635, 0.746, 0.7156]\n",
      "Save results to /home/t722s/Desktop/Sam-Med3DTest/BratsMini/eval_res_from_inference.json\n",
      "Done\n"
     ]
    },
    {
     "name": "stderr",
     "output_type": "stream",
     "text": [
      "100%|██████████| 1/1 [00:00<00:00,  1.21it/s]\n"
     ]
    },
    {
     "name": "stdout",
     "output_type": "stream",
     "text": [
      "set seed as 2020\n",
      "device: cuda\n"
     ]
    },
    {
     "name": "stderr",
     "output_type": "stream",
     "text": [
      "  0%|          | 0/1 [00:00<?, ?it/s]"
     ]
    },
    {
     "name": "stdout",
     "output_type": "stream",
     "text": [
      "BraTS2021_01646.nii.gz Dice list by number of clicks (Brain Tumor): [0.527, 0.8034, 0.7667, 0.716, 0.7041]\n",
      "Save results to /home/t722s/Desktop/Sam-Med3DTest/BratsMini/eval_res_from_inference.json\n",
      "Done\n"
     ]
    },
    {
     "name": "stderr",
     "output_type": "stream",
     "text": [
      "100%|██████████| 1/1 [00:00<00:00,  1.23it/s]\n"
     ]
    },
    {
     "name": "stdout",
     "output_type": "stream",
     "text": [
      "set seed as 2020\n",
      "device: cuda\n"
     ]
    },
    {
     "name": "stderr",
     "output_type": "stream",
     "text": [
      "  0%|          | 0/1 [00:00<?, ?it/s]"
     ]
    },
    {
     "name": "stdout",
     "output_type": "stream",
     "text": [
      "BraTS2021_01646.nii.gz Dice list by number of clicks (Brain Tumor): [0.785, 0.8032, 0.7772, 0.739, 0.7298]\n",
      "Save results to /home/t722s/Desktop/Sam-Med3DTest/BratsMini/eval_res_from_inference.json\n",
      "Done\n"
     ]
    },
    {
     "name": "stderr",
     "output_type": "stream",
     "text": [
      "100%|██████████| 1/1 [00:00<00:00,  1.20it/s]\n"
     ]
    },
    {
     "name": "stdout",
     "output_type": "stream",
     "text": [
      "set seed as 2020\n",
      "device: cuda\n"
     ]
    },
    {
     "name": "stderr",
     "output_type": "stream",
     "text": [
      "  0%|          | 0/1 [00:00<?, ?it/s]"
     ]
    },
    {
     "name": "stdout",
     "output_type": "stream",
     "text": [
      "BraTS2021_01646.nii.gz Dice list by number of clicks (Brain Tumor): [0.6629, 0.5223, 0.3823, 0.4632, 0.4742]\n",
      "Save results to /home/t722s/Desktop/Sam-Med3DTest/BratsMini/eval_res_from_inference.json\n",
      "Done\n"
     ]
    },
    {
     "name": "stderr",
     "output_type": "stream",
     "text": [
      "100%|██████████| 1/1 [00:00<00:00,  1.22it/s]\n"
     ]
    },
    {
     "name": "stdout",
     "output_type": "stream",
     "text": [
      "set seed as 2020\n",
      "device: cuda\n"
     ]
    },
    {
     "name": "stderr",
     "output_type": "stream",
     "text": [
      "  0%|          | 0/1 [00:00<?, ?it/s]"
     ]
    },
    {
     "name": "stdout",
     "output_type": "stream",
     "text": [
      "BraTS2021_01646.nii.gz Dice list by number of clicks (Brain Tumor): [0.7719, 0.6659, 0.5958, 0.6316, 0.5642]\n",
      "Save results to /home/t722s/Desktop/Sam-Med3DTest/BratsMini/eval_res_from_inference.json\n",
      "Done\n"
     ]
    },
    {
     "name": "stderr",
     "output_type": "stream",
     "text": [
      "100%|██████████| 1/1 [00:00<00:00,  1.20it/s]\n"
     ]
    },
    {
     "name": "stdout",
     "output_type": "stream",
     "text": [
      "set seed as 2020\n",
      "device: cuda\n"
     ]
    },
    {
     "name": "stderr",
     "output_type": "stream",
     "text": [
      "  0%|          | 0/1 [00:00<?, ?it/s]"
     ]
    },
    {
     "name": "stdout",
     "output_type": "stream",
     "text": [
      "BraTS2021_01646.nii.gz Dice list by number of clicks (Brain Tumor): [0.6911, 0.7576, 0.7463, 0.7282, 0.7265]\n",
      "Save results to /home/t722s/Desktop/Sam-Med3DTest/BratsMini/eval_res_from_inference.json\n",
      "Done\n"
     ]
    },
    {
     "name": "stderr",
     "output_type": "stream",
     "text": [
      "100%|██████████| 1/1 [00:00<00:00,  1.15it/s]\n"
     ]
    },
    {
     "name": "stdout",
     "output_type": "stream",
     "text": [
      "set seed as 2020\n",
      "device: cuda\n"
     ]
    },
    {
     "name": "stderr",
     "output_type": "stream",
     "text": [
      "  0%|          | 0/1 [00:00<?, ?it/s]"
     ]
    },
    {
     "name": "stdout",
     "output_type": "stream",
     "text": [
      "BraTS2021_01646.nii.gz Dice list by number of clicks (Brain Tumor): [0.6401, 0.6304, 0.649, 0.721, 0.7134]\n",
      "Save results to /home/t722s/Desktop/Sam-Med3DTest/BratsMini/eval_res_from_inference.json\n",
      "Done\n"
     ]
    },
    {
     "name": "stderr",
     "output_type": "stream",
     "text": [
      "100%|██████████| 1/1 [00:00<00:00,  1.19it/s]\n"
     ]
    },
    {
     "name": "stdout",
     "output_type": "stream",
     "text": [
      "set seed as 2020\n",
      "device: cuda\n"
     ]
    },
    {
     "name": "stderr",
     "output_type": "stream",
     "text": [
      "  0%|          | 0/1 [00:00<?, ?it/s]"
     ]
    },
    {
     "name": "stdout",
     "output_type": "stream",
     "text": [
      "BraTS2021_01646.nii.gz Dice list by number of clicks (Brain Tumor): [0.6387, 0.7609, 0.741, 0.7131, 0.7175]\n",
      "Save results to /home/t722s/Desktop/Sam-Med3DTest/BratsMini/eval_res_from_inference.json\n",
      "Done\n"
     ]
    },
    {
     "name": "stderr",
     "output_type": "stream",
     "text": [
      "100%|██████████| 1/1 [00:00<00:00,  1.18it/s]\n"
     ]
    },
    {
     "name": "stdout",
     "output_type": "stream",
     "text": [
      "set seed as 2020\n",
      "device: cuda\n"
     ]
    },
    {
     "name": "stderr",
     "output_type": "stream",
     "text": [
      "  0%|          | 0/1 [00:00<?, ?it/s]"
     ]
    },
    {
     "name": "stdout",
     "output_type": "stream",
     "text": [
      "BraTS2021_01646.nii.gz Dice list by number of clicks (Brain Tumor): [0.7176, 0.5249, 0.7531, 0.6539, 0.5533]\n",
      "Save results to /home/t722s/Desktop/Sam-Med3DTest/BratsMini/eval_res_from_inference.json\n",
      "Done\n"
     ]
    },
    {
     "name": "stderr",
     "output_type": "stream",
     "text": [
      "100%|██████████| 1/1 [00:00<00:00,  1.17it/s]\n"
     ]
    },
    {
     "name": "stdout",
     "output_type": "stream",
     "text": [
      "set seed as 2020\n",
      "device: cuda\n"
     ]
    },
    {
     "name": "stderr",
     "output_type": "stream",
     "text": [
      "  0%|          | 0/1 [00:00<?, ?it/s]"
     ]
    },
    {
     "name": "stdout",
     "output_type": "stream",
     "text": [
      "BraTS2021_01646.nii.gz Dice list by number of clicks (Brain Tumor): [0.7978, 0.688, 0.6958, 0.6686, 0.6978]\n",
      "Save results to /home/t722s/Desktop/Sam-Med3DTest/BratsMini/eval_res_from_inference.json\n",
      "Done\n"
     ]
    },
    {
     "name": "stderr",
     "output_type": "stream",
     "text": [
      "100%|██████████| 1/1 [00:00<00:00,  1.17it/s]\n"
     ]
    },
    {
     "name": "stdout",
     "output_type": "stream",
     "text": [
      "set seed as 2020\n",
      "device: cuda\n"
     ]
    },
    {
     "name": "stderr",
     "output_type": "stream",
     "text": [
      "  0%|          | 0/1 [00:00<?, ?it/s]"
     ]
    },
    {
     "name": "stdout",
     "output_type": "stream",
     "text": [
      "BraTS2021_01646.nii.gz Dice list by number of clicks (Brain Tumor): [0.6345, 0.6673, 0.7297, 0.7151, 0.6889]\n",
      "Save results to /home/t722s/Desktop/Sam-Med3DTest/BratsMini/eval_res_from_inference.json\n",
      "Done\n"
     ]
    },
    {
     "name": "stderr",
     "output_type": "stream",
     "text": [
      "100%|██████████| 1/1 [00:00<00:00,  1.21it/s]\n"
     ]
    },
    {
     "name": "stdout",
     "output_type": "stream",
     "text": [
      "set seed as 2020\n",
      "device: cuda\n"
     ]
    },
    {
     "name": "stderr",
     "output_type": "stream",
     "text": [
      "  0%|          | 0/1 [00:00<?, ?it/s]"
     ]
    },
    {
     "name": "stdout",
     "output_type": "stream",
     "text": [
      "BraTS2021_01646.nii.gz Dice list by number of clicks (Brain Tumor): [0.7998, 0.7555, 0.7732, 0.7457, 0.7634]\n",
      "Save results to /home/t722s/Desktop/Sam-Med3DTest/BratsMini/eval_res_from_inference.json\n",
      "Done\n"
     ]
    },
    {
     "name": "stderr",
     "output_type": "stream",
     "text": [
      "100%|██████████| 1/1 [00:00<00:00,  1.24it/s]\n"
     ]
    },
    {
     "name": "stdout",
     "output_type": "stream",
     "text": [
      "set seed as 2020\n",
      "device: cuda\n"
     ]
    },
    {
     "name": "stderr",
     "output_type": "stream",
     "text": [
      "  0%|          | 0/1 [00:00<?, ?it/s]"
     ]
    },
    {
     "name": "stdout",
     "output_type": "stream",
     "text": [
      "BraTS2021_01646.nii.gz Dice list by number of clicks (Brain Tumor): [0.6489, 0.5825, 0.5453, 0.543, 0.6122]\n",
      "Save results to /home/t722s/Desktop/Sam-Med3DTest/BratsMini/eval_res_from_inference.json\n",
      "Done\n"
     ]
    },
    {
     "name": "stderr",
     "output_type": "stream",
     "text": [
      "100%|██████████| 1/1 [00:00<00:00,  1.20it/s]\n"
     ]
    },
    {
     "name": "stdout",
     "output_type": "stream",
     "text": [
      "set seed as 2020\n",
      "device: cuda\n"
     ]
    },
    {
     "name": "stderr",
     "output_type": "stream",
     "text": [
      "  0%|          | 0/1 [00:00<?, ?it/s]"
     ]
    },
    {
     "name": "stdout",
     "output_type": "stream",
     "text": [
      "BraTS2021_01646.nii.gz Dice list by number of clicks (Brain Tumor): [0.6833, 0.7038, 0.7168, 0.7096, 0.6897]\n",
      "Save results to /home/t722s/Desktop/Sam-Med3DTest/BratsMini/eval_res_from_inference.json\n",
      "Done\n"
     ]
    },
    {
     "name": "stderr",
     "output_type": "stream",
     "text": [
      "100%|██████████| 1/1 [00:00<00:00,  1.21it/s]\n"
     ]
    },
    {
     "name": "stdout",
     "output_type": "stream",
     "text": [
      "set seed as 2020\n",
      "device: cuda\n"
     ]
    },
    {
     "name": "stderr",
     "output_type": "stream",
     "text": [
      "  0%|          | 0/1 [00:00<?, ?it/s]"
     ]
    },
    {
     "name": "stdout",
     "output_type": "stream",
     "text": [
      "BraTS2021_01646.nii.gz Dice list by number of clicks (Brain Tumor): [0.7854, 0.7958, 0.786, 0.7501, 0.7235]\n",
      "Save results to /home/t722s/Desktop/Sam-Med3DTest/BratsMini/eval_res_from_inference.json\n",
      "Done\n"
     ]
    },
    {
     "name": "stderr",
     "output_type": "stream",
     "text": [
      "100%|██████████| 1/1 [00:00<00:00,  1.16it/s]\n"
     ]
    },
    {
     "name": "stdout",
     "output_type": "stream",
     "text": [
      "set seed as 2020\n",
      "device: cuda\n"
     ]
    },
    {
     "name": "stderr",
     "output_type": "stream",
     "text": [
      "  0%|          | 0/1 [00:00<?, ?it/s]"
     ]
    },
    {
     "name": "stdout",
     "output_type": "stream",
     "text": [
      "BraTS2021_01646.nii.gz Dice list by number of clicks (Brain Tumor): [0.757, 0.7505, 0.7241, 0.6968, 0.6727]\n",
      "Save results to /home/t722s/Desktop/Sam-Med3DTest/BratsMini/eval_res_from_inference.json\n",
      "Done\n"
     ]
    },
    {
     "name": "stderr",
     "output_type": "stream",
     "text": [
      "100%|██████████| 1/1 [00:00<00:00,  1.19it/s]\n"
     ]
    },
    {
     "name": "stdout",
     "output_type": "stream",
     "text": [
      "set seed as 2020\n",
      "device: cuda\n"
     ]
    },
    {
     "name": "stderr",
     "output_type": "stream",
     "text": [
      "  0%|          | 0/1 [00:00<?, ?it/s]"
     ]
    },
    {
     "name": "stdout",
     "output_type": "stream",
     "text": [
      "BraTS2021_01646.nii.gz Dice list by number of clicks (Brain Tumor): [0.6538, 0.7597, 0.7083, 0.6849, 0.6563]\n",
      "Save results to /home/t722s/Desktop/Sam-Med3DTest/BratsMini/eval_res_from_inference.json\n",
      "Done\n"
     ]
    },
    {
     "name": "stderr",
     "output_type": "stream",
     "text": [
      "100%|██████████| 1/1 [00:00<00:00,  1.20it/s]\n"
     ]
    },
    {
     "name": "stdout",
     "output_type": "stream",
     "text": [
      "set seed as 2020\n",
      "device: cuda\n"
     ]
    },
    {
     "name": "stderr",
     "output_type": "stream",
     "text": [
      "  0%|          | 0/1 [00:00<?, ?it/s]"
     ]
    },
    {
     "name": "stdout",
     "output_type": "stream",
     "text": [
      "BraTS2021_01646.nii.gz Dice list by number of clicks (Brain Tumor): [0.7355, 0.7758, 0.7551, 0.7343, 0.7329]\n",
      "Save results to /home/t722s/Desktop/Sam-Med3DTest/BratsMini/eval_res_from_inference.json\n",
      "Done\n"
     ]
    },
    {
     "name": "stderr",
     "output_type": "stream",
     "text": [
      "100%|██████████| 1/1 [00:00<00:00,  1.22it/s]\n"
     ]
    },
    {
     "name": "stdout",
     "output_type": "stream",
     "text": [
      "set seed as 2020\n",
      "device: cuda\n"
     ]
    },
    {
     "name": "stderr",
     "output_type": "stream",
     "text": [
      "  0%|          | 0/1 [00:00<?, ?it/s]"
     ]
    },
    {
     "name": "stdout",
     "output_type": "stream",
     "text": [
      "BraTS2021_01646.nii.gz Dice list by number of clicks (Brain Tumor): [0.6033, 0.6089, 0.5196, 0.5159, 0.7041]\n",
      "Save results to /home/t722s/Desktop/Sam-Med3DTest/BratsMini/eval_res_from_inference.json\n",
      "Done\n"
     ]
    },
    {
     "name": "stderr",
     "output_type": "stream",
     "text": [
      "100%|██████████| 1/1 [00:00<00:00,  1.21it/s]\n"
     ]
    },
    {
     "name": "stdout",
     "output_type": "stream",
     "text": [
      "set seed as 2020\n",
      "device: cuda\n"
     ]
    },
    {
     "name": "stderr",
     "output_type": "stream",
     "text": [
      "  0%|          | 0/1 [00:00<?, ?it/s]"
     ]
    },
    {
     "name": "stdout",
     "output_type": "stream",
     "text": [
      "BraTS2021_01646.nii.gz Dice list by number of clicks (Brain Tumor): [0.7588, 0.7804, 0.7476, 0.7366, 0.7791]\n",
      "Save results to /home/t722s/Desktop/Sam-Med3DTest/BratsMini/eval_res_from_inference.json\n",
      "Done\n"
     ]
    },
    {
     "name": "stderr",
     "output_type": "stream",
     "text": [
      "100%|██████████| 1/1 [00:00<00:00,  1.20it/s]\n"
     ]
    },
    {
     "name": "stdout",
     "output_type": "stream",
     "text": [
      "set seed as 2020\n",
      "device: cuda\n"
     ]
    },
    {
     "name": "stderr",
     "output_type": "stream",
     "text": [
      "  0%|          | 0/1 [00:00<?, ?it/s]"
     ]
    },
    {
     "name": "stdout",
     "output_type": "stream",
     "text": [
      "BraTS2021_01646.nii.gz Dice list by number of clicks (Brain Tumor): [0.7882, 0.7146, 0.7648, 0.737, 0.7166]\n",
      "Save results to /home/t722s/Desktop/Sam-Med3DTest/BratsMini/eval_res_from_inference.json\n",
      "Done\n"
     ]
    },
    {
     "name": "stderr",
     "output_type": "stream",
     "text": [
      "100%|██████████| 1/1 [00:00<00:00,  1.24it/s]\n"
     ]
    },
    {
     "name": "stdout",
     "output_type": "stream",
     "text": [
      "set seed as 2020\n",
      "device: cuda\n"
     ]
    },
    {
     "name": "stderr",
     "output_type": "stream",
     "text": [
      "  0%|          | 0/1 [00:00<?, ?it/s]"
     ]
    },
    {
     "name": "stdout",
     "output_type": "stream",
     "text": [
      "BraTS2021_01646.nii.gz Dice list by number of clicks (Brain Tumor): [0.7791, 0.7371, 0.6923, 0.6735, 0.6691]\n",
      "Save results to /home/t722s/Desktop/Sam-Med3DTest/BratsMini/eval_res_from_inference.json\n",
      "Done\n"
     ]
    },
    {
     "name": "stderr",
     "output_type": "stream",
     "text": [
      "100%|██████████| 1/1 [00:00<00:00,  1.19it/s]\n"
     ]
    },
    {
     "name": "stdout",
     "output_type": "stream",
     "text": [
      "set seed as 2020\n",
      "device: cuda\n"
     ]
    },
    {
     "name": "stderr",
     "output_type": "stream",
     "text": [
      "  0%|          | 0/1 [00:00<?, ?it/s]"
     ]
    },
    {
     "name": "stdout",
     "output_type": "stream",
     "text": [
      "BraTS2021_01646.nii.gz Dice list by number of clicks (Brain Tumor): [0.7469, 0.7553, 0.7876, 0.756, 0.6997]\n",
      "Save results to /home/t722s/Desktop/Sam-Med3DTest/BratsMini/eval_res_from_inference.json\n",
      "Done\n"
     ]
    },
    {
     "name": "stderr",
     "output_type": "stream",
     "text": [
      "100%|██████████| 1/1 [00:00<00:00,  1.19it/s]\n"
     ]
    },
    {
     "name": "stdout",
     "output_type": "stream",
     "text": [
      "set seed as 2020\n",
      "device: cuda\n"
     ]
    },
    {
     "name": "stderr",
     "output_type": "stream",
     "text": [
      "  0%|          | 0/1 [00:00<?, ?it/s]"
     ]
    },
    {
     "name": "stdout",
     "output_type": "stream",
     "text": [
      "BraTS2021_01646.nii.gz Dice list by number of clicks (Brain Tumor): [0.7829, 0.7734, 0.7536, 0.7433, 0.7224]\n",
      "Save results to /home/t722s/Desktop/Sam-Med3DTest/BratsMini/eval_res_from_inference.json\n",
      "Done\n"
     ]
    },
    {
     "name": "stderr",
     "output_type": "stream",
     "text": [
      "100%|██████████| 1/1 [00:00<00:00,  1.19it/s]\n"
     ]
    },
    {
     "name": "stdout",
     "output_type": "stream",
     "text": [
      "set seed as 2020\n",
      "device: cuda\n"
     ]
    },
    {
     "name": "stderr",
     "output_type": "stream",
     "text": [
      "  0%|          | 0/1 [00:00<?, ?it/s]"
     ]
    },
    {
     "name": "stdout",
     "output_type": "stream",
     "text": [
      "BraTS2021_01646.nii.gz Dice list by number of clicks (Brain Tumor): [0.7497, 0.8048, 0.7832, 0.7627, 0.7004]\n",
      "Save results to /home/t722s/Desktop/Sam-Med3DTest/BratsMini/eval_res_from_inference.json\n",
      "Done\n"
     ]
    },
    {
     "name": "stderr",
     "output_type": "stream",
     "text": [
      "100%|██████████| 1/1 [00:00<00:00,  1.10it/s]\n"
     ]
    }
   ],
   "source": [
    "# Get BraTS Baseline\n",
    "multi_res_path = '/home/t722s/Desktop/Sam-Med3DTest/NetworkHeartModified/bratsBaseline.json'\n",
    "rp = '/home/t722s/Desktop/Sam-Med3DTest/BratsMini'\n",
    "tdp = '/home/t722s/Desktop/Datasets/BratsMini/'\n",
    "\n",
    "np.random.seed(11121)\n",
    "seeds = []\n",
    "for seed in np.random.randint(10**6, size = n_run):\n",
    "    seeds.append(seed)\n",
    "    point_generation_args = ['python', 'generate_points.py', \n",
    "            '-tdp', tdp, \n",
    "            '-rp', rp, \n",
    "            '-nc', '5',\n",
    "            '--seed', str(seed)]\n",
    "    subprocess.run(point_generation_args,\n",
    "                    stdout=subprocess.DEVNULL, \n",
    "                    stderr=subprocess.DEVNULL)\n",
    "    inference_args = ['python', 'SAM-Med3D/validationTesting2.py', \n",
    "                        '--seed', '2020',\n",
    "                        '-rp', rp,\n",
    "                        '-cp', '/home/t722s/Desktop/UniversalModels/TrainedModels/sam_med3d.pth',\n",
    "                        '-tdp', tdp,\n",
    "                        ]\n",
    "    subprocess.run(inference_args)\n",
    "\n",
    "    with open(os.path.join(rp, 'eval_res_from_inference.json'), 'r') as f:\n",
    "        res = json.load(f)\n",
    "\n",
    "    if os.path.exists(multi_res_path):\n",
    "        with open(multi_res_path, 'r') as f:\n",
    "            multi = json.load(f) \n",
    "    else:\n",
    "        multi = dict()\n",
    "\n",
    "    multi[int(seed)] = res\n",
    "    with open(multi_res_path, 'w') as f:\n",
    "        json.dump(multi, f)\n",
    "\n",
    "# Make human readable\n",
    "json_string = json.dumps(multi, ensure_ascii=False)\n",
    "json_string = json_string.replace('\"la', '\\n\\t\"la')\n",
    "\n",
    "for seed in seeds:\n",
    "    json_string = json_string.replace(f'\"{seed}', f'\\n\"{seed}')\n",
    "\n",
    "json_string = json_string[:-1] + '\\n}'\n",
    "with open(multi_res_path.replace('.json', '_readable.json'), 'w', encoding='utf-8') as file:\n",
    "    file.write(json_string)"
   ]
  }
 ],
 "metadata": {
  "kernelspec": {
   "display_name": "universalModels",
   "language": "python",
   "name": "python3"
  },
  "language_info": {
   "codemirror_mode": {
    "name": "ipython",
    "version": 3
   },
   "file_extension": ".py",
   "mimetype": "text/x-python",
   "name": "python",
   "nbconvert_exporter": "python",
   "pygments_lexer": "ipython3",
   "version": "3.12.4"
  }
 },
 "nbformat": 4,
 "nbformat_minor": 2
}
