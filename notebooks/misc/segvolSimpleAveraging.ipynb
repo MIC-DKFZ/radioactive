{
 "cells": [
  {
   "cell_type": "code",
   "execution_count": 1,
   "metadata": {},
   "outputs": [],
   "source": [
    "import os\n",
    "import numpy as np\n",
    "from intrab.utils.image import read_reorient_nifti\n",
    "import nibabel as nib\n",
    "from intrab.utils.analysis import compute_dice\n",
    "import json"
   ]
  },
  {
   "cell_type": "code",
   "execution_count": 3,
   "metadata": {},
   "outputs": [],
   "source": [
    "res_dir = '/media/t722s/2.0 TB Hard Disk/lesions_experiments_20240806/'\n",
    "data_dir = '/home/t722s/Desktop/Datasets/melanoma_HD'"
   ]
  },
  {
   "cell_type": "code",
   "execution_count": 4,
   "metadata": {},
   "outputs": [
    {
     "data": {
      "text/plain": [
       "['segvol_melanoma_HD',\n",
       " 'segvol_Adrenal-ACC-Ki67',\n",
       " 'segvol_Colorectal-Liver-Metastases']"
      ]
     },
     "execution_count": 4,
     "metadata": {},
     "output_type": "execute_result"
    }
   ],
   "source": [
    "os.listdir(res_dir)"
   ]
  },
  {
   "cell_type": "code",
   "execution_count": 29,
   "metadata": {},
   "outputs": [
    {
     "name": "stdout",
     "output_type": "stream",
     "text": [
      "segvol_melanoma_HD 0.25701242348159997\n",
      "segvol_Adrenal-ACC-Ki67 0.2477057880530136\n",
      "segvol_Colorectal-Liver-Metastases 0.31992353278085645\n"
     ]
    }
   ],
   "source": [
    "for i in range(3):\n",
    "    dataset_res_dirs = os.listdir(res_dir)\n",
    "    res_path = os.path.join(res_dir, dataset_res_dirs[i], 'results.json')\n",
    "    with open(res_path, 'r') as f:\n",
    "        res = json.load(f)\n",
    "    instances_res = [inst_res for \n",
    "                        split in ['Tr', 'Ts'] for\n",
    "                        img, img_inst_dict in res[split].items() \n",
    "                        for inst, inst_res in img_inst_dict.items() if inst != 'all']\n",
    "    instances_res = [i for i in instances_res if not i is None]\n",
    "    print(res_path.split('/')[-2], np.mean(instances_res))"
   ]
  }
 ],
 "metadata": {
  "kernelspec": {
   "display_name": "universalModels",
   "language": "python",
   "name": "python3"
  },
  "language_info": {
   "codemirror_mode": {
    "name": "ipython",
    "version": 3
   },
   "file_extension": ".py",
   "mimetype": "text/x-python",
   "name": "python",
   "nbconvert_exporter": "python",
   "pygments_lexer": "ipython3",
   "version": "3.12.4"
  }
 },
 "nbformat": 4,
 "nbformat_minor": 2
}
