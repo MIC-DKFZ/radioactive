{
 "cells": [
  {
   "cell_type": "code",
   "execution_count": 1,
   "metadata": {},
   "outputs": [],
   "source": [
    "import torchio as tio\n",
    "from torchio.data.io import sitk_to_nib\n",
    "import SimpleITK as sitk\n",
    "import napari\n",
    "import numpy as np\n",
    "import nibabel as nib\n",
    "\n",
    "\n",
    "from utils.image import read_im_gt, read_reorient_nifti\n",
    "from utils.analysis import compute_dice"
   ]
  },
  {
   "cell_type": "markdown",
   "metadata": {},
   "source": [
    "# Attempt to recreate dice from notebook"
   ]
  },
  {
   "cell_type": "code",
   "execution_count": 2,
   "metadata": {},
   "outputs": [
    {
     "data": {
      "text/plain": [
       "True"
      ]
     },
     "execution_count": 2,
     "metadata": {},
     "output_type": "execute_result"
    }
   ],
   "source": [
    "img_path = '/home/t722s/Desktop/Datasets/Dataset350_AbdomenAtlasJHU_2img/imagesTr/BDMAP_00000001_0000.nii.gz'\n",
    "gt_path = '/home/t722s/Desktop/Datasets/Dataset350_AbdomenAtlasJHU_2img/labelsTr/BDMAP_00000001.nii.gz'\n",
    "class_label = 3\n",
    "\n",
    "gt_unprocessed = nib.load(gt_path).get_fdata()\n",
    "gt_unprocessed = np.where(gt_unprocessed == class_label, 1, 0)\n",
    "\n",
    "img, gt = read_im_gt(img_path, gt_path, class_label, RAS=True)\n",
    "\n",
    "gt_2, _ = read_reorient_nifti(gt_path, np.float32, RAS = True)\n",
    "gt_2 = np.where(gt_2 == 3, 1, 0)\n",
    "\n",
    "np.array_equal(gt, gt_2)\n"
   ]
  },
  {
   "cell_type": "code",
   "execution_count": 4,
   "metadata": {},
   "outputs": [],
   "source": [
    "from utils.testing import test_load\n",
    "gt_script, seg_script = test_load('imgs')"
   ]
  },
  {
   "cell_type": "code",
   "execution_count": 5,
   "metadata": {},
   "outputs": [
    {
     "data": {
      "text/plain": [
       "0.7418771007498061"
      ]
     },
     "execution_count": 5,
     "metadata": {},
     "output_type": "execute_result"
    }
   ],
   "source": [
    "compute_dice(gt_script, seg_script)"
   ]
  },
  {
   "cell_type": "code",
   "execution_count": 11,
   "metadata": {},
   "outputs": [
    {
     "data": {
      "text/plain": [
       "False"
      ]
     },
     "execution_count": 11,
     "metadata": {},
     "output_type": "execute_result"
    }
   ],
   "source": [
    "np.array_equal(gt, gt_script)"
   ]
  },
  {
   "cell_type": "code",
   "execution_count": 14,
   "metadata": {},
   "outputs": [
    {
     "data": {
      "text/plain": [
       "(array([0., 1., 2.]), array([0, 1]))"
      ]
     },
     "execution_count": 14,
     "metadata": {},
     "output_type": "execute_result"
    }
   ],
   "source": [
    "np.unique(gt), np.unique(gt_script)"
   ]
  },
  {
   "cell_type": "code",
   "execution_count": 15,
   "metadata": {},
   "outputs": [
    {
     "data": {
      "text/plain": [
       "0.7418771007498061"
      ]
     },
     "execution_count": 15,
     "metadata": {},
     "output_type": "execute_result"
    }
   ],
   "source": [
    "# Attempt at merged dice\n",
    "seg = '/home/t722s/Desktop/ExperimentResults_lesions/melanoma_HD_sub/segvol_bbox3d/segmentationsTr/merged/0000380855_Baseline.nii.gz'\n",
    "seg = nib.load(seg).get_fdata()\n",
    "\n",
    "gt = '/home/t722s/Desktop/Datasets/melanoma_HD_sub/labelsTr/0000380855_Baseline.nii.gz'\n",
    "gt = nib.load(gt).get_fdata()\n",
    "gt = np.where(gt > 0, 1, 0)\n",
    "compute_dice(seg, gt)"
   ]
  },
  {
   "cell_type": "code",
   "execution_count": 11,
   "metadata": {},
   "outputs": [
    {
     "data": {
      "text/plain": [
       "0.7686022760431864"
      ]
     },
     "execution_count": 11,
     "metadata": {},
     "output_type": "execute_result"
    }
   ],
   "source": [
    "# Attempt at instance dice\n",
    "gt = '/home/t722s/Desktop/Datasets/melanoma_HD_sub/labelsTr/0000380855_Baseline.nii.gz'\n",
    "gt = nib.load(gt).get_fdata()\n",
    "gt = np.where(gt == 1, 1, 0)\n",
    "seg = '/home/t722s/Desktop/ExperimentResults_lesions/segvol_melanoma_HD_sub/bbox3d/segmentationsTr/0000380855_Baseline/instance_1.0_seg.nii.gz'\n",
    "seg = nib.load(seg).get_fdata()\n",
    "\n",
    "compute_dice(seg, gt)"
   ]
  }
 ],
 "metadata": {
  "kernelspec": {
   "display_name": "universalModels",
   "language": "python",
   "name": "python3"
  },
  "language_info": {
   "codemirror_mode": {
    "name": "ipython",
    "version": 3
   },
   "file_extension": ".py",
   "mimetype": "text/x-python",
   "name": "python",
   "nbconvert_exporter": "python",
   "pygments_lexer": "ipython3",
   "version": "3.12.2"
  }
 },
 "nbformat": 4,
 "nbformat_minor": 2
}
