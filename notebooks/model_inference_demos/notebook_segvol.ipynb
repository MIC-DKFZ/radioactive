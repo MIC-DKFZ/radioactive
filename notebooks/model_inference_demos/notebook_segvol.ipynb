{
 "cells": [
  {
   "cell_type": "code",
   "execution_count": 1,
   "metadata": {},
   "outputs": [
    {
     "name": "stderr",
     "output_type": "stream",
     "text": [
      "/home/t722s/.local/lib/python3.10/site-packages/tqdm/auto.py:21: TqdmWarning: IProgress not found. Please update jupyter and ipywidgets. See https://ipywidgets.readthedocs.io/en/stable/user_install.html\n",
      "  from .autonotebook import tqdm as notebook_tqdm\n"
     ]
    },
    {
     "name": "stdout",
     "output_type": "stream",
     "text": [
      "build_sam_vit_3d...\n"
     ]
    }
   ],
   "source": [
    "from utils.prompt_3d import get_bbox3d, get_pos_clicks3D\n",
    "from utils.analysis import compute_dice\n",
    "import numpy as np\n",
    "import nibabel as nib\n",
    "from utils.class_segvol import SegVolInferer\n",
    "\n",
    "# Obtain model, image, gt\n",
    "device = 'cuda' # In this case, redundant; segvol requires cuda\n",
    "checkpoint_path = \"/home/t722s/Desktop/UniversalModels/TrainedModels/SegVol_v1.pth\"\n",
    "\n",
    "inferer = SegVolInferer(checkpoint_path)\n",
    "\n",
    "img_path = \"/home/t722s/Desktop/Datasets/segvolTest/Case_image_00001_0000.nii.gz\"\n",
    "gt_path = \"/home/t722s/Desktop/Datasets/segvolTest/Case_label_00001.nii.gz\" \n",
    "class_label = 1\n",
    "\n",
    "gt = nib.load(gt_path).get_fdata()\n",
    "gt = np.where(gt == class_label, 1, 0)\n",
    "inferer.set_image(img_path)"
   ]
  },
  {
   "cell_type": "code",
   "execution_count": 2,
   "metadata": {},
   "outputs": [
    {
     "name": "stdout",
     "output_type": "stream",
     "text": [
      "0.8974706901374582\n"
     ]
    }
   ],
   "source": [
    "# Experiment: 3d bounding box\n",
    "prompt = get_bbox3d(gt, delta = 0)\n",
    "segmentation = inferer.predict(prompt).get_fdata()\n",
    "\n",
    "print(compute_dice(segmentation, gt))\n"
   ]
  },
  {
   "cell_type": "code",
   "execution_count": null,
   "metadata": {},
   "outputs": [],
   "source": [
    "# Experiment: n points\n",
    "seed = 11121\n",
    "\n",
    "n = 1\n",
    "prompt = get_pos_clicks3D(gt, n, seed)\n",
    "segmentation = inferer.predict(prompt).get_fdata()\n",
    "\n",
    "print(compute_dice(segmentation, gt))\n"
   ]
  },
  {
   "cell_type": "code",
   "execution_count": 5,
   "metadata": {},
   "outputs": [
    {
     "name": "stdout",
     "output_type": "stream",
     "text": [
      "0.7557307085990892\n",
      "0.920795180448346\n",
      "0.884376788182143\n",
      "0.8459404039235947\n",
      "0.8547140377055144\n"
     ]
    }
   ],
   "source": [
    "# Experiment: increasing number of points\n",
    "seed = 3\n",
    "\n",
    "for n in range(1,6):\n",
    "    prompt = get_pos_clicks3D(gt, n, seed)\n",
    "    segmentation = inferer.predict(prompt).get_fdata()\n",
    "\n",
    "    print(compute_dice(segmentation, gt))\n"
   ]
  }
 ],
 "metadata": {
  "kernelspec": {
   "display_name": "segVol",
   "language": "python",
   "name": "python3"
  },
  "language_info": {
   "codemirror_mode": {
    "name": "ipython",
    "version": 3
   },
   "file_extension": ".py",
   "mimetype": "text/x-python",
   "name": "python",
   "nbconvert_exporter": "python",
   "pygments_lexer": "ipython3",
   "version": "3.12.4"
  }
 },
 "nbformat": 4,
 "nbformat_minor": 2
}
