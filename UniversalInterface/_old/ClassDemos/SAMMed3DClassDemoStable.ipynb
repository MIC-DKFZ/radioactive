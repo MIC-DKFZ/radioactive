{
 "cells": [
  {
   "cell_type": "code",
   "execution_count": 1,
   "metadata": {},
   "outputs": [
    {
     "name": "stderr",
     "output_type": "stream",
     "text": [
      "/home/t722s/anaconda3/envs/universalModels/lib/python3.11/site-packages/torchvision/io/image.py:13: UserWarning: Failed to load image Python extension: '/home/t722s/anaconda3/envs/universalModels/lib/python3.11/site-packages/torchvision/image.so: undefined symbol: _ZN3c1017RegisterOperatorsD1Ev'If you don't plan on using image functionality from `torchvision.io`, you can ignore this warning. Otherwise, there might be something wrong with your environment. Did you have `libjpeg` or `libpng` installed before building `torchvision` from source?\n",
      "  warn(\n"
     ]
    }
   ],
   "source": [
    "import torchio as tio\n",
    "from torchio.data.io import sitk_to_nib\n",
    "import SimpleITK as sitk\n",
    "\n",
    "from classes.SAMMed3DClassStable import SAMMed3DWrapper, SAMMed3DInferer\n",
    "from utils.analysisUtils import compute_dice\n",
    "from utils.modelUtils import load_sammed3d\n",
    "from utils.promptUtils import get_pos_clicks3D\n",
    "import utils.analysisUtils as anUt"
   ]
  },
  {
   "cell_type": "code",
   "execution_count": 2,
   "metadata": {},
   "outputs": [],
   "source": [
    "def get_img_gt_sammed3d(img_path, gt_path):    \n",
    "    infer_transform = [\n",
    "        tio.ToCanonical(),\n",
    "    ]\n",
    "    transform = tio.Compose(infer_transform)\n",
    "\n",
    "    sitk_image = sitk.ReadImage(img_path)\n",
    "    sitk_label = sitk.ReadImage(gt_path)\n",
    "\n",
    "    if sitk_image.GetOrigin() != sitk_label.GetOrigin():\n",
    "        sitk_image.SetOrigin(sitk_label.GetOrigin())\n",
    "    if sitk_image.GetDirection() != sitk_label.GetDirection():\n",
    "        sitk_image.SetDirection(sitk_label.GetDirection())\n",
    "\n",
    "    sitk_image_arr, _ = sitk_to_nib(sitk_image)\n",
    "    sitk_label_arr, _ = sitk_to_nib(sitk_label)\n",
    "\n",
    "    subject = tio.Subject(\n",
    "        image = tio.ScalarImage(tensor=sitk_image_arr),\n",
    "        label = tio.LabelMap(tensor=sitk_label_arr),\n",
    "    )\n",
    "\n",
    "    if transform:\n",
    "        subject = transform(subject)\n",
    "\n",
    "    return subject.image.data.clone().detach(), subject.label.data.clone().detach()"
   ]
  },
  {
   "cell_type": "code",
   "execution_count": 3,
   "metadata": {},
   "outputs": [],
   "source": [
    "# Obtain model, image, gt\n",
    "device = 'cuda'\n",
    "sammed3d_checkpoint_path = '/home/t722s/Desktop/UniversalModels/TrainedModels/sam_med3d_turbo.pth'\n",
    "\n",
    "sam_model_tune = load_sammed3d(sammed3d_checkpoint_path, device = device)\n",
    "wrapper = SAMMed3DWrapper(sam_model_tune, device)\n",
    "inferer = SAMMed3DInferer(wrapper)\n",
    "\n",
    "img_path = '/home/t722s/Desktop/Datasets/preprocessed/spleen/AbdomenAtlasJHU_2img/imagesTr/BDMAP_00000001.nii.gz'\n",
    "gt_path = '/home/t722s/Desktop/Datasets/preprocessed/spleen/AbdomenAtlasJHU_2img/labelsTr/BDMAP_00000001.nii.gz'\n",
    "img, gt = get_img_gt_sammed3d(img_path, gt_path)\n"
   ]
  },
  {
   "cell_type": "code",
   "execution_count": 4,
   "metadata": {},
   "outputs": [
    {
     "data": {
      "text/plain": [
       "0.9264700131652698"
      ]
     },
     "execution_count": 4,
     "metadata": {},
     "output_type": "execute_result"
    }
   ],
   "source": [
    "# Experiment: 5 points per volume\n",
    "seed = 2024\n",
    "n = 5\n",
    "pts_prompt = get_pos_clicks3D(gt, n, seed = seed)\n",
    "\n",
    "#pred = inferer.predict(img, pts_prompt, cheat = True, gt = gt)\n",
    "segmentation = inferer.predict(img, pts_prompt)\n",
    "\n",
    "anUt.compute_dice(segmentation, gt.numpy())"
   ]
  },
  {
   "cell_type": "code",
   "execution_count": 12,
   "metadata": {},
   "outputs": [
    {
     "ename": "IndexError",
     "evalue": "index 110 is out of bounds for dimension 0 with size 1",
     "output_type": "error",
     "traceback": [
      "\u001b[0;31m---------------------------------------------------------------------------\u001b[0m",
      "\u001b[0;31mIndexError\u001b[0m                                Traceback (most recent call last)",
      "Cell \u001b[0;32mIn[12], line 3\u001b[0m\n\u001b[1;32m      1\u001b[0m \u001b[38;5;66;03m# Visualise segmentation slice-wise\u001b[39;00m\n\u001b[1;32m      2\u001b[0m slice_idx \u001b[38;5;241m=\u001b[39m \u001b[38;5;241m110\u001b[39m\n\u001b[0;32m----> 3\u001b[0m \u001b[43manUt\u001b[49m\u001b[38;5;241;43m.\u001b[39;49m\u001b[43mshow_seg_row_major\u001b[49m\u001b[43m(\u001b[49m\u001b[43mslice_idx\u001b[49m\u001b[43m,\u001b[49m\u001b[43m \u001b[49m\u001b[43mimg\u001b[49m\u001b[43m,\u001b[49m\u001b[43m \u001b[49m\u001b[43mgt\u001b[49m\u001b[43m,\u001b[49m\u001b[43m \u001b[49m\u001b[43msegmentation\u001b[49m\u001b[43m,\u001b[49m\u001b[43m \u001b[49m\u001b[43mpts_prompt\u001b[49m\u001b[43m \u001b[49m\u001b[38;5;241;43m=\u001b[39;49m\u001b[43m \u001b[49m\u001b[43mpts_prompt\u001b[49m\u001b[43m)\u001b[49m\n",
      "File \u001b[0;32m~/Desktop/UniversalModels/Project/UniversalInterface/utils/analysisUtils.py:86\u001b[0m, in \u001b[0;36mshow_seg_row_major\u001b[0;34m(slice_idx, img, gt, segmentation, pts_prompt, box_prompt)\u001b[0m\n\u001b[1;32m     85\u001b[0m \u001b[38;5;28;01mdef\u001b[39;00m \u001b[38;5;21mshow_seg_row_major\u001b[39m(slice_idx, img, gt, segmentation, pts_prompt \u001b[38;5;241m=\u001b[39m \u001b[38;5;28;01mNone\u001b[39;00m, box_prompt \u001b[38;5;241m=\u001b[39m \u001b[38;5;28;01mNone\u001b[39;00m):\n\u001b[0;32m---> 86\u001b[0m     img_2d \u001b[38;5;241m=\u001b[39m \u001b[43mimg\u001b[49m\u001b[43m[\u001b[49m\u001b[43mslice_idx\u001b[49m\u001b[43m,\u001b[49m\u001b[43m \u001b[49m\u001b[38;5;241;43m.\u001b[39;49m\u001b[38;5;241;43m.\u001b[39;49m\u001b[38;5;241;43m.\u001b[39;49m\u001b[43m]\u001b[49m\n\u001b[1;32m     87\u001b[0m     gt_2d \u001b[38;5;241m=\u001b[39m gt[slice_idx, \u001b[38;5;241m.\u001b[39m\u001b[38;5;241m.\u001b[39m\u001b[38;5;241m.\u001b[39m]\n\u001b[1;32m     88\u001b[0m     seg_2d \u001b[38;5;241m=\u001b[39m segmentation[slice_idx, \u001b[38;5;241m.\u001b[39m\u001b[38;5;241m.\u001b[39m\u001b[38;5;241m.\u001b[39m]\n",
      "\u001b[0;31mIndexError\u001b[0m: index 110 is out of bounds for dimension 0 with size 1"
     ]
    }
   ],
   "source": [
    "# Visualise segmentation slice-wise\n",
    "slice_idx = 110\n",
    "anUt.show_seg_row_major(slice_idx, img, gt, segmentation, pts_prompt = pts_prompt)"
   ]
  }
 ],
 "metadata": {
  "kernelspec": {
   "display_name": "universalModels",
   "language": "python",
   "name": "python3"
  },
  "language_info": {
   "codemirror_mode": {
    "name": "ipython",
    "version": 3
   },
   "file_extension": ".py",
   "mimetype": "text/x-python",
   "name": "python",
   "nbconvert_exporter": "python",
   "pygments_lexer": "ipython3",
   "version": "3.11.5"
  }
 },
 "nbformat": 4,
 "nbformat_minor": 2
}
