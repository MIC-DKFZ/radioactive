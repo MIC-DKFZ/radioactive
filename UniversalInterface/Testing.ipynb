{
 "cells": [
  {
   "cell_type": "code",
   "execution_count": 28,
   "metadata": {},
   "outputs": [
    {
     "name": "stdout",
     "output_type": "stream",
     "text": [
      "looking at f/home/t722s/Desktop/Datasets/BratsMini/labelsTs/BraTS2021_01646.nii.gz\n",
      "labels: [0 1], looking in /home/t722s/Desktop/Sam-Med3DTest/BratsMini/Brain Tumor\n",
      " Found files: ['BraTS2021_01646_pred_Brain Tumor_trans0.nii.gz', 'BraTS2021_01646_pred_Brain Tumor_trans1.nii.gz', 'BraTS2021_01646_pred_Brain Tumor_trans2.nii.gz', 'BraTS2021_01646_pred_Brain Tumor_trans3.nii.gz', 'BraTS2021_01646_pred_Brain Tumor_trans4.nii.gz'], pattern: BraTS2021_01646Brain Tumor_pred_trans\n"
     ]
    }
   ],
   "source": [
    "import os\n",
    "import argparse\n",
    "import SimpleITK as sitk\n",
    "from collections import defaultdict\n",
    "import json\n",
    "import numpy as np\n",
    "\n",
    "parser = argparse.ArgumentParser()\n",
    "parser.add_argument('-rp', '--results_path', type=str)\n",
    "parser.add_argument('-tdp', '--test_data_path', type=str)\n",
    "\n",
    "args = argparse.Namespace(\n",
    "    test_data_path = '/home/t722s/Desktop/Datasets/BratsMini/',\n",
    "    results_path = '/home/t722s/Desktop/Sam-Med3DTest/BratsMini'\n",
    ")\n",
    "\n",
    "def compute_dice(mask_gt, mask_pred):\n",
    "    \"\"\"Compute soerensen-dice coefficient.\n",
    "    Returns:\n",
    "    the dice coeffcient as float. If both masks are empty, the result is NaN\n",
    "    \"\"\"\n",
    "    volume_sum = mask_gt.sum() + mask_pred.sum()\n",
    "    if volume_sum == 0:\n",
    "        return np.NaN\n",
    "    volume_intersect = (mask_gt & mask_pred).sum()\n",
    "    return 2*volume_intersect / volume_sum\n",
    "\n",
    "\n",
    "results_path = args.results_path\n",
    "labels_dir = os.path.join(args.test_data_path, 'labelsTs')\n",
    "with open(os.path.join(args.test_data_path, 'dataset.json'), 'r') as f:\n",
    "    dataset_metadata = json.load(f)\n",
    "\n",
    "labels_dict = dataset_metadata['labels']\n",
    "\n",
    "eval_res = defaultdict(dict)\n",
    "\n",
    "for label_name in os.listdir(labels_dir):\n",
    "    label = sitk.GetArrayFromImage(sitk.ReadImage(os.path.join(labels_dir, label_name)))\n",
    "    base_name = label_name.replace('.nii.gz','')\n",
    "    \n",
    "    for organ, label_num in labels_dict.items():\n",
    "        label_num = int(label_num) # since it might be a string due to JSON\n",
    "        label_binary = np.where(label == label_num, 1, np.zeros_like(label))\n",
    "        organ_dir = os.path.join(args.results_path, organ)        \n",
    "\n",
    "        seg_names = [file for file in os.listdir(organ_dir) if file.startswith(base_name + f'_pred_{organ}_trans')]\n",
    "\n",
    "        organ_res = dict()\n",
    "        for seg_name in seg_names:\n",
    "            \n",
    "            seg = sitk.GetArrayFromImage(sitk.ReadImage(os.path.join(organ_dir, seg_name)))\n",
    "            seg_number = seg_name.removeprefix(base_name + f'_pred_{organ}_trans').removesuffix('.nii.gz') # Get segmentation number, ie number of clicks.\n",
    "            dice = compute_dice(label, seg)\n",
    "            organ_res[int(seg_number)+1] = dice\n",
    "            eval_res[base_name][organ] = organ_res\n",
    "            \n",
    "with open(os.path.join(results_path, 'evaluation_dice.json'), 'w') as f:\n",
    "    json.dump(eval_res, f, indent = 4)"
   ]
  },
  {
   "cell_type": "code",
   "execution_count": 21,
   "metadata": {},
   "outputs": [
    {
     "data": {
      "text/plain": [
       "'BraTS2021_01646'"
      ]
     },
     "execution_count": 21,
     "metadata": {},
     "output_type": "execute_result"
    }
   ],
   "source": [
    "base_name"
   ]
  },
  {
   "cell_type": "code",
   "execution_count": 27,
   "metadata": {},
   "outputs": [
    {
     "data": {
      "text/plain": [
       "defaultdict(dict,\n",
       "            {'BraTS2021_01646': {'Brain Tumor': {1: 0.7663380680923435,\n",
       "               2: 0.6933359543935522,\n",
       "               3: 0.7110890394952092,\n",
       "               4: 0.7182991202346041,\n",
       "               5: 0.7024892502998216}}})"
      ]
     },
     "execution_count": 27,
     "metadata": {},
     "output_type": "execute_result"
    }
   ],
   "source": [
    "eval_res"
   ]
  }
 ],
 "metadata": {
  "kernelspec": {
   "display_name": "universalModels",
   "language": "python",
   "name": "python3"
  },
  "language_info": {
   "codemirror_mode": {
    "name": "ipython",
    "version": 3
   },
   "file_extension": ".py",
   "mimetype": "text/x-python",
   "name": "python",
   "nbconvert_exporter": "python",
   "pygments_lexer": "ipython3",
   "version": "3.11.5"
  }
 },
 "nbformat": 4,
 "nbformat_minor": 2
}
