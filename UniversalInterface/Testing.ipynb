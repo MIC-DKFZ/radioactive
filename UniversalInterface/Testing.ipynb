{
 "cells": [
  {
   "cell_type": "code",
   "execution_count": 35,
   "metadata": {},
   "outputs": [],
   "source": [
    "import os\n",
    "import json\n",
    "from torch.cuda import empty_cache\n",
    "import gc\n",
    "import nibabel as nib\n",
    "import numpy as np\n",
    "from tqdm.auto import tqdm\n",
    "\n",
    "from utils.modelUtils import load_sam, load_sammed2d\n",
    "from classes.SAMClass import SAMWrapper, SAMInferer\n",
    "from classes.SAMMed2DClass import SAMMed2DInferer, SAMMed2DWrapper\n",
    "\n",
    "import utils.promptUtils as prUt\n",
    "import utils.analysisUtils as anUt\n",
    "import utils.testingUtils as tUt\n",
    "from utils.imageUtils import read_im_gt"
   ]
  },
  {
   "cell_type": "code",
   "execution_count": 5,
   "metadata": {},
   "outputs": [],
   "source": [
    "dataset_path = '/home/t722s/Desktop/Datasets/Dataset350_AbdomenAtlasJHU_sub'\n",
    "organ_labels_dict = None"
   ]
  },
  {
   "cell_type": "code",
   "execution_count": 32,
   "metadata": {},
   "outputs": [
    {
     "data": {
      "application/vnd.jupyter.widget-view+json": {
       "model_id": "a00a2533fb8042a0b48eef2310020817",
       "version_major": 2,
       "version_minor": 0
      },
      "text/plain": [
       "Inferring: 0it [00:00, ?it/s]"
      ]
     },
     "metadata": {},
     "output_type": "display_data"
    },
    {
     "name": "stdout",
     "output_type": "stream",
     "text": [
      "/home/t722s/Desktop/Datasets/Dataset350_AbdomenAtlasJHU_sub (copy)/labelsTr/BDMAP_00000001.nii.gz aorta {'Depth': 139, 'Height': 130, 'Width': 80}\n",
      "/home/t722s/Desktop/Datasets/Dataset350_AbdomenAtlasJHU_sub (copy)/labelsTr/BDMAP_00000001.nii.gz gall_bladder {'Depth': 12, 'Height': 71, 'Width': 62}\n",
      "/home/t722s/Desktop/Datasets/Dataset350_AbdomenAtlasJHU_sub (copy)/labelsTr/BDMAP_00000001.nii.gz kidney_left {'Depth': 45, 'Height': 75, 'Width': 91}\n",
      "/home/t722s/Desktop/Datasets/Dataset350_AbdomenAtlasJHU_sub (copy)/labelsTr/BDMAP_00000001.nii.gz kidney_right {'Depth': 41, 'Height': 81, 'Width': 89}\n",
      "/home/t722s/Desktop/Datasets/Dataset350_AbdomenAtlasJHU_sub (copy)/labelsTr/BDMAP_00000001.nii.gz liver {'Depth': 55, 'Height': 174, 'Width': 302}\n",
      "/home/t722s/Desktop/Datasets/Dataset350_AbdomenAtlasJHU_sub (copy)/labelsTr/BDMAP_00000001.nii.gz pancreas {'Depth': 25, 'Height': 108, 'Width': 164}\n",
      "/home/t722s/Desktop/Datasets/Dataset350_AbdomenAtlasJHU_sub (copy)/labelsTr/BDMAP_00000001.nii.gz postcava {'Depth': 97, 'Height': 62, 'Width': 49}\n",
      "/home/t722s/Desktop/Datasets/Dataset350_AbdomenAtlasJHU_sub (copy)/labelsTr/BDMAP_00000001.nii.gz spleen {'Depth': 40, 'Height': 92, 'Width': 95}\n",
      "/home/t722s/Desktop/Datasets/Dataset350_AbdomenAtlasJHU_sub (copy)/labelsTr/BDMAP_00000001.nii.gz stomach {'Depth': 52, 'Height': 162, 'Width': 192}\n",
      "/home/t722s/Desktop/Datasets/Dataset350_AbdomenAtlasJHU_sub (copy)/labelsTr/BDMAP_00000002.nii.gz aorta {'Depth': 135, 'Height': 58, 'Width': 22}\n",
      "/home/t722s/Desktop/Datasets/Dataset350_AbdomenAtlasJHU_sub (copy)/labelsTr/BDMAP_00000002.nii.gz gall_bladder {'Depth': 34, 'Height': 50, 'Width': 51}\n",
      "/home/t722s/Desktop/Datasets/Dataset350_AbdomenAtlasJHU_sub (copy)/labelsTr/BDMAP_00000002.nii.gz kidney_left {'Depth': 100, 'Height': 69, 'Width': 82}\n",
      "/home/t722s/Desktop/Datasets/Dataset350_AbdomenAtlasJHU_sub (copy)/labelsTr/BDMAP_00000002.nii.gz kidney_right {'Depth': 95, 'Height': 78, 'Width': 75}\n",
      "/home/t722s/Desktop/Datasets/Dataset350_AbdomenAtlasJHU_sub (copy)/labelsTr/BDMAP_00000002.nii.gz pancreas {'Depth': 75, 'Height': 83, 'Width': 169}\n",
      "/home/t722s/Desktop/Datasets/Dataset350_AbdomenAtlasJHU_sub (copy)/labelsTr/BDMAP_00000002.nii.gz postcava {'Depth': 201, 'Height': 50, 'Width': 49}\n",
      "/home/t722s/Desktop/Datasets/Dataset350_AbdomenAtlasJHU_sub (copy)/labelsTr/BDMAP_00000002.nii.gz spleen {'Depth': 93, 'Height': 102, 'Width': 120}\n",
      "/home/t722s/Desktop/Datasets/Dataset350_AbdomenAtlasJHU_sub (copy)/labelsTr/BDMAP_00000002.nii.gz stomach {'Depth': 53, 'Height': 145, 'Width': 117}\n"
     ]
    }
   ],
   "source": [
    "if organ_labels_dict is None:\n",
    "        with open(os.path.join(dataset_path, 'dataset.json'), 'r') as f:\n",
    "            metadata = json.load(f)\n",
    "            organ_labels_dict = metadata['labels']\n",
    "\n",
    "images_dir = os.path.join(dataset_path, 'imagesTr')\n",
    "labels_dir = os.path.join(dataset_path, 'labelsTr')\n",
    "image_paths = sorted(os.path.join(images_dir, f) for f in os.listdir(images_dir))\n",
    "labels_paths = sorted(os.path.join(labels_dir, f) for f in os.listdir(labels_dir))\n",
    "\n",
    "\n",
    "for img_path, gt_path in tqdm(zip(image_paths, labels_paths), desc = 'Inferring'):\n",
    "    for organ, organ_label in organ_labels_dict.items():\n",
    "        if organ_label == 0 or organ == 'background':\n",
    "            continue\n",
    "        \n",
    "        # Load in image, prompt\n",
    "        img, gt = read_im_gt(img_path, gt_path, organ_label)\n",
    "\n",
    "        d = tUt.gt_fg_dims(gt)\n",
    "        if any([dim < 128 for dim in d.values()]):\n",
    "            print(gt_path, organ, d)\n",
    "        "
   ]
  },
  {
   "cell_type": "code",
   "execution_count": 43,
   "metadata": {},
   "outputs": [
    {
     "data": {
      "text/plain": [
       "({'aorta': 0.42622881237084764,\n",
       "  'gall_bladder': 0.417955873812016,\n",
       "  'kidney_left': 0.5911278614523336,\n",
       "  'liver': 0.277672827158039},\n",
       " {'aorta': 0.8010184030301172,\n",
       "  'gall_bladder': 0.407296836419257,\n",
       "  'kidney_left': 0.864371405254184,\n",
       "  'liver': 0.9457547764211236})"
      ]
     },
     "execution_count": 43,
     "metadata": {},
     "output_type": "execute_result"
    }
   ],
   "source": [
    "with open('/home/t722s/Desktop/inferenceResults/exp5pointperslice.json', 'r') as f:\n",
    "    res = json.load(f)\n",
    "res_sam = res['sam']\n",
    "res_nums_sam = {k:np.nanmean(list(v.values())) for k, v in res_sam.items()}\n",
    "\n",
    "\n",
    "res_sammed2d = res['sammed2d']\n",
    "res_nums_sammed2d = {k:np.nanmean(list(v.values())) for k, v in res_sammed2d.items()}\n",
    "res_nums_sam, res_nums_sammed2d\n"
   ]
  }
 ],
 "metadata": {
  "kernelspec": {
   "display_name": "universalModels",
   "language": "python",
   "name": "python3"
  },
  "language_info": {
   "codemirror_mode": {
    "name": "ipython",
    "version": 3
   },
   "file_extension": ".py",
   "mimetype": "text/x-python",
   "name": "python",
   "nbconvert_exporter": "python",
   "pygments_lexer": "ipython3",
   "version": "3.11.5"
  }
 },
 "nbformat": 4,
 "nbformat_minor": 2
}
