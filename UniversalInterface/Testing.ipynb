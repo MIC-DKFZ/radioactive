{
 "cells": [
  {
   "cell_type": "code",
   "execution_count": 3,
   "metadata": {},
   "outputs": [],
   "source": [
    "import numpy as np\n",
    "import nibabel as nib"
   ]
  },
  {
   "cell_type": "code",
   "execution_count": 20,
   "metadata": {},
   "outputs": [],
   "source": [
    "import nibabel as nib\n",
    "label_path = '/home/t722s/Desktop/Datasets/BratsMini/labelsTs/BraTS2021_01646.nii.gz'\n",
    "# Load the image volume\n",
    "gt = nib.load(label_path)\n",
    "\n",
    "# Check if the volume is already in RAS+\n",
    "if nib.aff2axcodes(gt.affine) != ('R', 'A', 'S'):\n",
    "    gt = nib.as_closest_canonical(gt)\n",
    "    print(\"Volume has been reoriented to RAS+.\")\n",
    "\n",
    "gt = gt.get_fdata()\n"
   ]
  },
  {
   "cell_type": "code",
   "execution_count": 12,
   "metadata": {},
   "outputs": [],
   "source": [
    "def get_bbox(mask_volume: np.ndarray):\n",
    "    \"\"\"Return 6 coordinates of a 3D bounding box from a given mask.\n",
    "\n",
    "    Taken from `this SO question <https://stackoverflow.com/questions/31400769/bounding-box-of-numpy-array>`_.\n",
    "\n",
    "    Args:\n",
    "        mask_volume: 3D NumPy array.\n",
    "    \"\"\"  \n",
    "    i_any = np.any(mask_volume, axis=(1, 2))\n",
    "    j_any = np.any(mask_volume, axis=(0, 2))\n",
    "    k_any = np.any(mask_volume, axis=(0, 1))\n",
    "    i_min, i_max = np.where(i_any)[0][[0, -1]]\n",
    "    j_min, j_max = np.where(j_any)[0][[0, -1]]\n",
    "    k_min, k_max = np.where(k_any)[0][[0, -1]]\n",
    "    bb_min = np.array([i_min, j_min, k_min])\n",
    "    bb_max = np.array([i_max, j_max, k_max]) + 1\n",
    "    return bb_min, bb_max"
   ]
  }
 ],
 "metadata": {
  "kernelspec": {
   "display_name": "universalModels",
   "language": "python",
   "name": "python3"
  },
  "language_info": {
   "codemirror_mode": {
    "name": "ipython",
    "version": 3
   },
   "file_extension": ".py",
   "mimetype": "text/x-python",
   "name": "python",
   "nbconvert_exporter": "python",
   "pygments_lexer": "ipython3",
   "version": "3.11.5"
  }
 },
 "nbformat": 4,
 "nbformat_minor": 2
}
