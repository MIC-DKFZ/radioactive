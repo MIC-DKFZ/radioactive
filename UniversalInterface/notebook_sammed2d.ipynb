{
 "cells": [
  {
   "cell_type": "code",
   "execution_count": 8,
   "metadata": {},
   "outputs": [
    {
     "name": "stdout",
     "output_type": "stream",
     "text": [
      "True\n",
      "*******load /home/t722s/Desktop/UniversalModels/TrainedModels/sam-med2d_b.pth\n"
     ]
    }
   ],
   "source": [
    "from classes.SAMMed2DClass import SAMMed2DInferer\n",
    "from utils.base_classes import Points\n",
    "import utils.analysis as anUt\n",
    "import utils.prompt_old as prUt\n",
    "from utils.image import read_im_gt\n",
    "from utils.interactivity import iterate_2d\n",
    "\n",
    "import numpy as np\n",
    "\n",
    "# Obtain model\n",
    "device = 'cuda'\n",
    "sammed2d_checkpoint_path = \"/home/t722s/Desktop/UniversalModels/TrainedModels/sam-med2d_b.pth\"\n",
    "sammed2d_inferer = SAMMed2DInferer(sammed2d_checkpoint_path, device)\n",
    "\n",
    "# Obtain image, gt\n",
    "img_path = '/home/t722s/Desktop/Datasets/Dataset350_AbdomenAtlasJHU_2img/imagesTr/BDMAP_00000001_0000.nii.gz'\n",
    "gt_path = '/home/t722s/Desktop/Datasets/Dataset350_AbdomenAtlasJHU_2img/labelsTr/BDMAP_00000001.nii.gz'\n",
    "img, gt = read_im_gt(img_path, gt_path, 3)\n"
   ]
  },
  {
   "cell_type": "code",
   "execution_count": 6,
   "metadata": {},
   "outputs": [
    {
     "name": "stdout",
     "output_type": "stream",
     "text": [
      "Using previously generated image embeddings\n"
     ]
    },
    {
     "name": "stderr",
     "output_type": "stream",
     "text": [
      "Performing inference on slices: 100%|██████████| 45/45 [00:00<00:00, 141.16it/s]\n"
     ]
    },
    {
     "data": {
      "text/plain": [
       "0.9142033388619348"
      ]
     },
     "execution_count": 6,
     "metadata": {},
     "output_type": "execute_result"
    }
   ],
   "source": [
    "# Experiment: n randomly sampled points from foreground\n",
    "seed = 11121\n",
    "# n_clicks = 1\n",
    "n_clicks = 5\n",
    "point_prompt = prUt.get_pos_clicks2D_row_major(gt, n_clicks, seed = seed)\n",
    "segmentation = sammed2d_inferer.predict(img, point_prompt, use_stored_embeddings=True)\n",
    "anUt.compute_dice(segmentation, gt)"
   ]
  },
  {
   "cell_type": "code",
   "execution_count": 7,
   "metadata": {},
   "outputs": [
    {
     "name": "stdout",
     "output_type": "stream",
     "text": [
      "Using previously generated image embeddings\n"
     ]
    },
    {
     "name": "stderr",
     "output_type": "stream",
     "text": [
      "Performing inference on slices: 100%|██████████| 45/45 [00:00<00:00, 154.11it/s]\n"
     ]
    },
    {
     "data": {
      "text/plain": [
       "0.9479552096105959"
      ]
     },
     "execution_count": 7,
     "metadata": {},
     "output_type": "execute_result"
    }
   ],
   "source": [
    "# Experiment: 2d bounding box per slice with foreground\n",
    "box_prompt = prUt.get_minimal_boxes_row_major(gt, 0, 0)\n",
    "segmentation = sammed2d_inferer.predict(img, box_prompt, use_stored_embeddings=True)\n",
    "anUt.compute_dice(segmentation, gt)"
   ]
  },
  {
   "cell_type": "code",
   "execution_count": 8,
   "metadata": {},
   "outputs": [
    {
     "name": "stdout",
     "output_type": "stream",
     "text": [
      "Using previously generated image embeddings\n"
     ]
    },
    {
     "name": "stderr",
     "output_type": "stream",
     "text": [
      "Performing inference on slices: 100%|██████████| 45/45 [00:00<00:00, 156.56it/s]\n"
     ]
    },
    {
     "data": {
      "text/plain": [
       "0.7618218132404309"
      ]
     },
     "execution_count": 8,
     "metadata": {},
     "output_type": "execute_result"
    }
   ],
   "source": [
    "# Experiment: get 3d bbox and slice it to feed it in 2d axially\n",
    "box_prompt = prUt.get_bbox3d_sliced(gt)\n",
    "\n",
    "segmentation = sammed2d_inferer.predict(img, box_prompt, use_stored_embeddings=True)\n",
    "anUt.compute_dice(segmentation, gt)"
   ]
  },
  {
   "cell_type": "code",
   "execution_count": 9,
   "metadata": {},
   "outputs": [
    {
     "name": "stderr",
     "output_type": "stream",
     "text": [
      "Performing inference on slices: 100%|██████████| 12/12 [00:00<00:00, 25.32it/s]\n"
     ]
    },
    {
     "data": {
      "text/plain": [
       "0.18578502906629027"
      ]
     },
     "execution_count": 9,
     "metadata": {},
     "output_type": "execute_result"
    }
   ],
   "source": [
    "# Experiment: line interpolation\n",
    "n_slices = 5\n",
    "interpolation = 'linear'\n",
    "point_prompt = prUt.line_interpolation(gt, n_slices, interpolation)\n",
    "\n",
    "segmentation = sammed2d_inferer.predict(img, point_prompt, use_stored_embeddings=True)\n",
    "anUt.compute_dice(segmentation, gt)"
   ]
  },
  {
   "cell_type": "code",
   "execution_count": 19,
   "metadata": {},
   "outputs": [
    {
     "name": "stdout",
     "output_type": "stream",
     "text": [
      "Using previously generated image embeddings\n"
     ]
    },
    {
     "name": "stderr",
     "output_type": "stream",
     "text": [
      "Performing inference on slices: 100%|██████████| 45/45 [00:00<00:00, 159.15it/s]\n"
     ]
    },
    {
     "name": "stdout",
     "output_type": "stream",
     "text": [
      "0.9110504232455452\n",
      "0.9177664653951643\n",
      "0.9175018545115927\n",
      "0.9175982870460488\n",
      "0.9173824539625599\n",
      "0.9175865225763682\n",
      "0.9193648569016866\n",
      "0.919572454879972\n",
      "0.9198370503348754\n"
     ]
    }
   ],
   "source": [
    "# Iteratively improve previous segmentation (from line interpolation)\n",
    "n_slices = 5\n",
    "interpolation = 'linear'\n",
    "point_prompt = prUt.line_interpolation(gt, n_slices, interpolation)\n",
    "\n",
    "segmentation, low_res_logits = sammed2d_inferer.predict(img, point_prompt, use_stored_embeddings=True, return_low_res_logits=True)\n",
    "\n",
    "\n",
    "initial_prompt = prompt\n",
    "condition = 'dof'\n",
    "dof_bound = 90\n",
    "perf_bound = 0.85\n",
    "dice_scores, dof, segmentations, prompts = iterate_2d(sammed2d_inferer, img, gt, segmentation, low_res_logits, initial_prompt, sammed2d_inferer.pass_prev_prompts,use_stored_embeddings=True,\n",
    "                                                      scribble_length = 0.6, contour_distance = 3, disk_size_range= (0,3),\n",
    "                                                      init_dof = 5, perf_bound = 0.85, dof_bound = dof_bound, seed = seed, detailed = True)"
   ]
  },
  {
   "cell_type": "code",
   "execution_count": 10,
   "metadata": {},
   "outputs": [
    {
     "name": "stdout",
     "output_type": "stream",
     "text": [
      "Using previously generated image embeddings\n"
     ]
    },
    {
     "name": "stderr",
     "output_type": "stream",
     "text": [
      "Performing inference on slices: 100%|██████████| 45/45 [00:00<00:00, 151.89it/s]\n"
     ]
    },
    {
     "data": {
      "text/plain": [
       "0.946361076722504"
      ]
     },
     "execution_count": 10,
     "metadata": {},
     "output_type": "execute_result"
    }
   ],
   "source": [
    "# Experiment: box interpolation\n",
    "n_boxes = 5\n",
    "\n",
    "seed_boxes = prUt.get_seed_boxes(gt, n_boxes)\n",
    "box_prompt = prUt.box_interpolation(seed_boxes)\n",
    "segmentation = sammed2d_inferer.predict(img, box_prompt, use_stored_embeddings=True)\n",
    "anUt.compute_dice(segmentation, gt)"
   ]
  },
  {
   "cell_type": "code",
   "execution_count": 12,
   "metadata": {},
   "outputs": [
    {
     "name": "stderr",
     "output_type": "stream",
     "text": [
      "Propagating down: 100%|██████████| 22/22 [00:00<00:00, 73.03it/s]\n",
      "Propagating up: 100%|██████████| 22/22 [00:00<00:00, 68.94it/s]\n"
     ]
    },
    {
     "name": "stdout",
     "output_type": "stream",
     "text": [
      "0.40216919918882194\n"
     ]
    }
   ],
   "source": [
    "# Experiment: Point propagation\n",
    "seed = 11121\n",
    "n_clicks = 5\n",
    "\n",
    "# Get seed prompt and bounds\n",
    "seed_point = prUt.get_seed_point(gt, n_clicks, seed)\n",
    "slices_to_infer = np.where(np.any(gt, axis=(1,2)))[0]\n",
    "\n",
    "segmentation, prompt = prUt.point_propagation(sammed2d_inferer, img, seed_point, slices_to_infer, seed, n_clicks, use_stored_embeddings=True)\n",
    "print(anUt.compute_dice(gt,segmentation))\n"
   ]
  },
  {
   "cell_type": "code",
   "execution_count": 18,
   "metadata": {},
   "outputs": [
    {
     "name": "stderr",
     "output_type": "stream",
     "text": [
      "Propagating down: 100%|██████████| 22/22 [00:00<00:00, 60.95it/s]\n",
      "Propagating up: 100%|██████████| 22/22 [00:00<00:00, 61.63it/s]\n"
     ]
    },
    {
     "name": "stdout",
     "output_type": "stream",
     "text": [
      "0.8213665466281155\n",
      "0.8205091864261047\n",
      "0.8198578881518378\n",
      "0.8213837252830045\n",
      "0.8215174453603068\n",
      "0.8212659812587731\n",
      "0.8218388895479891\n",
      "0.8322763716696185\n",
      "0.8321815496121933\n",
      "0.8332855449783997\n",
      "0.8327022737268851\n",
      "0.833809644222007\n"
     ]
    }
   ],
   "source": [
    "# Iteratively improve previous segmentation (from point propagation)\n",
    "seed = 1\n",
    "n_clicks = 5\n",
    "\n",
    "# Get seed prompt and bounds\n",
    "seed_point = prUt.get_seed_point(gt, n_clicks, seed)\n",
    "slices_to_infer = np.where(np.any(gt, axis=(1,2)))[0]\n",
    "\n",
    "segmentation, low_res_logits, prompt = prUt.point_propagation(sammed2d_inferer, img, seed_point, slices_to_infer, seed, n_clicks, use_stored_embeddings=True, return_low_res_logits=True)\n",
    "\n",
    "\n",
    "initial_prompt = prompt\n",
    "condition = 'dof'\n",
    "dof_bound = 90\n",
    "perf_bound = 0.85\n",
    "dice_scores, dof, segmentations, prompts = iterate_2d(sammed2d_inferer, img, gt, segmentation, low_res_logits, initial_prompt, sammed2d_inferer.pass_prev_prompts,use_stored_embeddings=True,\n",
    "                                                      scribble_length = 0.6, contour_distance = 3, disk_size_range= (0,3),\n",
    "                                                      init_dof = 5, perf_bound = 0.85, dof_bound = dof_bound, seed = seed, detailed = True)"
   ]
  },
  {
   "cell_type": "code",
   "execution_count": 13,
   "metadata": {},
   "outputs": [
    {
     "name": "stderr",
     "output_type": "stream",
     "text": [
      "Propagating down: 100%|██████████| 22/22 [00:00<00:00, 70.88it/s]\n",
      "Propagating up: 100%|██████████| 22/22 [00:00<00:00, 53.42it/s]\n"
     ]
    },
    {
     "name": "stdout",
     "output_type": "stream",
     "text": [
      "0.9401919895492582\n"
     ]
    }
   ],
   "source": [
    "# Experiment: Box propagation\n",
    "\n",
    "seed_box = prUt.get_seed_box(gt)\n",
    "slices_to_infer = np.where(np.any(gt, axis=(1,2)))[0]\n",
    "\n",
    "segmentation, prompt = prUt.box_propagation(sammed2d_inferer, img, seed_box, slices_to_infer, use_stored_embeddings=True)\n",
    "\n",
    "print(anUt.compute_dice(gt,segmentation))"
   ]
  }
 ],
 "metadata": {
  "kernelspec": {
   "display_name": "universalModels",
   "language": "python",
   "name": "python3"
  },
  "language_info": {
   "codemirror_mode": {
    "name": "ipython",
    "version": 3
   },
   "file_extension": ".py",
   "mimetype": "text/x-python",
   "name": "python",
   "nbconvert_exporter": "python",
   "pygments_lexer": "ipython3",
   "version": "3.12.2"
  }
 },
 "nbformat": 4,
 "nbformat_minor": 2
}
