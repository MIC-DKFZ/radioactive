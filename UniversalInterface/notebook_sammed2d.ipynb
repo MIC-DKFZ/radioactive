{
 "cells": [
  {
   "cell_type": "code",
   "execution_count": 1,
   "metadata": {},
   "outputs": [
    {
     "name": "stderr",
     "output_type": "stream",
     "text": [
      "INFO:albumentations.check_version:A new version of Albumentations is available: 1.4.13 (you have 1.4.8). Upgrade using: pip install --upgrade albumentations\n"
     ]
    },
    {
     "name": "stdout",
     "output_type": "stream",
     "text": [
      "True\n",
      "*******load /home/t722s/Desktop/UniversalModels/TrainedModels/sam-med2d_b.pth\n"
     ]
    }
   ],
   "source": [
    "import numpy as np\n",
    "import nibabel as nib\n",
    "\n",
    "from utils.class_SAMMed2D import SAMMed2DInferer\n",
    "import utils.prompt as prUt\n",
    "import utils.analysis as anUt\n",
    "from utils.image import read_im_gt\n",
    "from utils.interactivity import iterate_2d\n",
    "\n",
    "# Obtain model\n",
    "device = 'cuda'\n",
    "checkpoint_path = \"/home/t722s/Desktop/UniversalModels/TrainedModels/sam-med2d_b.pth\"\n",
    "sammed2d_inferer = SAMMed2DInferer(checkpoint_path, device)\n",
    "\n",
    "# Load image, gt\n",
    "img_path = '/home/t722s/Desktop/Datasets/Dataset350_AbdomenAtlasJHU_2img/imagesTr/BDMAP_00000001_0000.nii.gz'\n",
    "gt_path = '/home/t722s/Desktop/Datasets/Dataset350_AbdomenAtlasJHU_2img/labelsTr/BDMAP_00000001.nii.gz'\n",
    "class_label = 3\n",
    "\n",
    "gt_unprocessed = nib.load(gt_path).get_fdata()\n",
    "gt_unprocessed = np.where(gt_unprocessed == class_label, 1, 0)\n",
    "\n",
    "img, gt = read_im_gt(img_path, gt_path, class_label)\n",
    "\n",
    "# Set image to predict on \n",
    "sammed2d_inferer.set_image(img_path)\n"
   ]
  },
  {
   "cell_type": "code",
   "execution_count": 2,
   "metadata": {},
   "outputs": [
    {
     "name": "stderr",
     "output_type": "stream",
     "text": [
      "Performing inference on slices: 100%|██████████| 45/45 [00:02<00:00, 18.05it/s]\n"
     ]
    },
    {
     "data": {
      "text/plain": [
       "0.9141744000992084"
      ]
     },
     "execution_count": 2,
     "metadata": {},
     "output_type": "execute_result"
    }
   ],
   "source": [
    "# Experiment: n randomly sampled points from foreground\n",
    "seed = 11121\n",
    "# n_clicks = 1\n",
    "n_clicks = 5\n",
    "point_prompt = prUt.get_pos_clicks2D_row_major(gt, n_clicks, seed = seed)\n",
    "segmentation = sammed2d_inferer.predict(point_prompt).get_fdata()\n",
    "anUt.compute_dice(segmentation, gt_unprocessed)"
   ]
  },
  {
   "cell_type": "code",
   "execution_count": 4,
   "metadata": {},
   "outputs": [
    {
     "name": "stdout",
     "output_type": "stream",
     "text": [
      "Using previously generated image embeddings\n"
     ]
    },
    {
     "name": "stderr",
     "output_type": "stream",
     "text": [
      "Performing inference on slices: 100%|██████████| 45/45 [00:00<00:00, 161.71it/s]\n"
     ]
    },
    {
     "data": {
      "text/plain": [
       "0.9479291027642575"
      ]
     },
     "execution_count": 4,
     "metadata": {},
     "output_type": "execute_result"
    }
   ],
   "source": [
    "# Experiment: 2d bounding box per slice with foreground\n",
    "box_prompt = prUt.get_minimal_boxes_row_major(gt, 0, 0)\n",
    "segmentation = sammed2d_inferer.predict(box_prompt).get_fdata() \n",
    "anUt.compute_dice(segmentation, gt_unprocessed)"
   ]
  },
  {
   "cell_type": "code",
   "execution_count": 5,
   "metadata": {},
   "outputs": [
    {
     "name": "stdout",
     "output_type": "stream",
     "text": [
      "Using previously generated image embeddings\n"
     ]
    },
    {
     "name": "stderr",
     "output_type": "stream",
     "text": [
      "Performing inference on slices: 100%|██████████| 45/45 [00:00<00:00, 159.22it/s]\n"
     ]
    },
    {
     "data": {
      "text/plain": [
       "0.7618183641651699"
      ]
     },
     "execution_count": 5,
     "metadata": {},
     "output_type": "execute_result"
    }
   ],
   "source": [
    "# Experiment: get 3d bbox and slice it to feed it in 2d axially\n",
    "box_prompt = prUt.get_bbox3d_sliced(gt)\n",
    "\n",
    "segmentation = sammed2d_inferer.predict(box_prompt).get_fdata()\n",
    "anUt.compute_dice(segmentation, gt_unprocessed)"
   ]
  },
  {
   "cell_type": "code",
   "execution_count": 6,
   "metadata": {},
   "outputs": [
    {
     "name": "stdout",
     "output_type": "stream",
     "text": [
      "Using previously generated image embeddings\n"
     ]
    },
    {
     "name": "stderr",
     "output_type": "stream",
     "text": [
      "Performing inference on slices: 100%|██████████| 45/45 [00:00<00:00, 151.37it/s]\n"
     ]
    },
    {
     "data": {
      "text/plain": [
       "0.9110163505559189"
      ]
     },
     "execution_count": 6,
     "metadata": {},
     "output_type": "execute_result"
    }
   ],
   "source": [
    "# Experiment: line interpolation\n",
    "n_slices = 5\n",
    "interpolation = 'linear'\n",
    "point_prompt = prUt.point_interpolation(gt, n_slices, interpolation)\n",
    "\n",
    "segmentation = sammed2d_inferer.predict(point_prompt).get_fdata()\n",
    "anUt.compute_dice(segmentation, gt_unprocessed)"
   ]
  },
  {
   "cell_type": "code",
   "execution_count": 4,
   "metadata": {},
   "outputs": [
    {
     "name": "stdout",
     "output_type": "stream",
     "text": [
      "True\n",
      "*******load /home/t722s/Desktop/UniversalModels/TrainedModels/sam-med2d_b.pth\n"
     ]
    }
   ],
   "source": [
    "import torch\n",
    "#del sammed2d_inferer\n",
    "torch.cuda.empty_cache()\n",
    "from importlib import reload\n",
    "import utils.class_SAMMed2D as c\n",
    "reload(c)\n",
    "sammed2d_inferer = c.SAMMed2DInferer(checkpoint_path, device)"
   ]
  },
  {
   "cell_type": "code",
   "execution_count": 7,
   "metadata": {},
   "outputs": [
    {
     "name": "stdout",
     "output_type": "stream",
     "text": [
      "Using previously generated image embeddings\n"
     ]
    },
    {
     "name": "stderr",
     "output_type": "stream",
     "text": [
      "Performing inference on slices: 100%|██████████| 45/45 [00:00<00:00, 143.35it/s]\n"
     ]
    },
    {
     "name": "stdout",
     "output_type": "stream",
     "text": [
      "0.9110163505559189\n",
      "0.9073761479256036\n",
      "0.9101709423880054\n",
      "0.91098359026401\n",
      "0.9119163930907016\n",
      "0.9207136409493973\n",
      "0.9136357753041677\n",
      "0.9142206464077366\n",
      "0.9141466468086943\n",
      "0.9141327750227983\n"
     ]
    }
   ],
   "source": [
    "# Iteratively improve previous segmentation (from line interpolation)\n",
    "n_slices = 5\n",
    "interpolation = 'linear'\n",
    "point_prompt = prUt.point_interpolation(gt, n_slices, interpolation)\n",
    "\n",
    "segmentation, low_res_logits = sammed2d_inferer.predict(point_prompt, return_low_res_logits=True, transform = False)\n",
    "\n",
    "\n",
    "initial_prompt = point_prompt\n",
    "condition = 'dof'\n",
    "dof_bound = 90\n",
    "perf_bound = 0.85\n",
    "dice_scores, dof, segmentations, prompts = iterate_2d(sammed2d_inferer, gt, segmentation, low_res_logits, initial_prompt, sammed2d_inferer.pass_prev_prompts,\n",
    "                                                      scribble_length = 0.6, contour_distance = 3, disk_size_range= (0,3),\n",
    "                                                      init_dof = 5, perf_bound = 0.85, dof_bound = dof_bound, seed = seed, detailed = True)"
   ]
  },
  {
   "cell_type": "code",
   "execution_count": 9,
   "metadata": {},
   "outputs": [
    {
     "name": "stdout",
     "output_type": "stream",
     "text": [
      "Using previously generated image embeddings\n"
     ]
    },
    {
     "name": "stderr",
     "output_type": "stream",
     "text": [
      "Performing inference on slices: 100%|██████████| 45/45 [00:00<00:00, 136.89it/s]\n"
     ]
    },
    {
     "data": {
      "text/plain": [
       "0.9463246814431747"
      ]
     },
     "execution_count": 9,
     "metadata": {},
     "output_type": "execute_result"
    }
   ],
   "source": [
    "# Experiment: box interpolation\n",
    "n_boxes = 5\n",
    "\n",
    "seed_boxes = prUt.get_seed_boxes(gt, n_boxes)\n",
    "box_prompt = prUt.box_interpolation(seed_boxes)\n",
    "segmentation = sammed2d_inferer.predict(box_prompt).get_fdata()\n",
    "anUt.compute_dice(segmentation, gt_unprocessed)"
   ]
  },
  {
   "cell_type": "code",
   "execution_count": 12,
   "metadata": {},
   "outputs": [
    {
     "name": "stderr",
     "output_type": "stream",
     "text": [
      "Propagating down: 100%|██████████| 22/22 [00:00<00:00, 91.94it/s] \n",
      "Propagating up: 100%|██████████| 22/22 [00:00<00:00, 107.68it/s]\n"
     ]
    },
    {
     "name": "stdout",
     "output_type": "stream",
     "text": [
      "0.834450084939546\n"
     ]
    }
   ],
   "source": [
    "# Experiment: Point propagation\n",
    "seed = 11121\n",
    "n_clicks = 5\n",
    "\n",
    "# Get seed prompt and bounds\n",
    "seed_point = prUt.get_seed_point(gt, n_clicks, seed)\n",
    "slices_to_infer = np.where(np.any(gt, axis=(1,2)))[0]\n",
    "\n",
    "segmentation, prompt = prUt.point_propagation(sammed2d_inferer, seed_point, slices_to_infer, seed, n_clicks)\n",
    "print(anUt.compute_dice(gt,segmentation))\n"
   ]
  },
  {
   "cell_type": "code",
   "execution_count": 20,
   "metadata": {},
   "outputs": [
    {
     "name": "stderr",
     "output_type": "stream",
     "text": [
      "Propagating down: 100%|██████████| 22/22 [00:00<00:00, 96.04it/s]\n",
      "Propagating up: 100%|██████████| 22/22 [00:00<00:00, 100.16it/s]\n"
     ]
    },
    {
     "name": "stdout",
     "output_type": "stream",
     "text": [
      "0.834450084939546\n",
      "0.8617375067128478\n",
      "0.8637177066134087\n",
      "0.8820878916181261\n",
      "0.887469382362208\n",
      "0.8538703613970255\n",
      "0.8190438980827729\n",
      "0.8085717529518619\n",
      "0.8086292543075307\n",
      "0.8011691820383827\n"
     ]
    }
   ],
   "source": [
    "# Iteratively improve previous segmentation (from point propagation)\n",
    "seed = 11121\n",
    "n_clicks = 5\n",
    "\n",
    "# Get seed prompt and bounds\n",
    "seed_point = prUt.get_seed_point(gt, n_clicks, seed)\n",
    "slices_to_infer = np.where(np.any(gt, axis=(1,2)))[0]\n",
    "\n",
    "segmentation, low_res_logits, prompt = prUt.point_propagation(sammed2d_inferer, seed_point, slices_to_infer, seed, n_clicks, return_low_res_logits=True)\n",
    "\n",
    "\n",
    "initial_prompt = prompt\n",
    "condition = 'dof'\n",
    "dof_bound = 90\n",
    "perf_bound = 0.85\n",
    "dice_scores, dof, segmentations, prompts = i.iterate_2d(sammed2d_inferer, gt, segmentation, low_res_logits, initial_prompt, False, #sammed2d_inferer.pass_prev_prompts,\n",
    "                                                      scribble_length = 0.6, contour_distance = 3, disk_size_range= (0,3),\n",
    "                                                      init_dof = 5, perf_bound = 0.85, dof_bound = dof_bound, seed = seed, detailed = True)"
   ]
  },
  {
   "cell_type": "code",
   "execution_count": 22,
   "metadata": {},
   "outputs": [
    {
     "name": "stderr",
     "output_type": "stream",
     "text": [
      "Propagating down: 100%|██████████| 22/22 [00:00<00:00, 127.64it/s]\n",
      "Propagating up: 100%|██████████| 22/22 [00:00<00:00, 75.59it/s]\n"
     ]
    },
    {
     "name": "stdout",
     "output_type": "stream",
     "text": [
      "0.94016673002479\n"
     ]
    }
   ],
   "source": [
    "# Experiment: Box propagation\n",
    "\n",
    "seed_box = prUt.get_seed_box(gt)\n",
    "slices_to_infer = np.where(np.any(gt, axis=(1,2)))[0]\n",
    "\n",
    "segmentation, prompt = prUt.box_propagation(sammed2d_inferer, seed_box, slices_to_infer)\n",
    "\n",
    "print(anUt.compute_dice(gt,segmentation))"
   ]
  }
 ],
 "metadata": {
  "kernelspec": {
   "display_name": "universalModels",
   "language": "python",
   "name": "python3"
  },
  "language_info": {
   "codemirror_mode": {
    "name": "ipython",
    "version": 3
   },
   "file_extension": ".py",
   "mimetype": "text/x-python",
   "name": "python",
   "nbconvert_exporter": "python",
   "pygments_lexer": "ipython3",
   "version": "3.12.2"
  }
 },
 "nbformat": 4,
 "nbformat_minor": 2
}
