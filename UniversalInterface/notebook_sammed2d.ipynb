{
 "cells": [
  {
   "cell_type": "code",
   "execution_count": 1,
   "metadata": {},
   "outputs": [
    {
     "name": "stderr",
     "output_type": "stream",
     "text": [
      "INFO:albumentations.check_version:A new version of Albumentations is available: 1.4.10 (you have 1.4.8). Upgrade using: pip install --upgrade albumentations\n"
     ]
    },
    {
     "name": "stdout",
     "output_type": "stream",
     "text": [
      "True\n",
      "*******load /home/t722s/Desktop/UniversalModels/TrainedModels/sam-med2d_b.pth\n"
     ]
    }
   ],
   "source": [
    "from classes.SAMMed2DClass_unstable import SAMMed2DInferer\n",
    "from utils.base_classes import Points\n",
    "\n",
    "import utils.analysis as anUt\n",
    "import utils.prompt as prUt\n",
    "from utils.image import read_im_gt\n",
    "\n",
    "import numpy as np\n",
    "\n",
    "# Obtain model, image, gt\n",
    "device = 'cuda'\n",
    "sammed2d_checkpoint_path = \"/home/t722s/Desktop/UniversalModels/TrainedModels/sam-med2d_b.pth\"\n",
    "sammed2d_inferer = SAMMed2DInferer(sammed2d_checkpoint_path, device)\n",
    "\n",
    "img_path = '/home/t722s/Desktop/Datasets/Dataset350_AbdomenAtlasJHU_2img/imagesTr/BDMAP_00000001_0000.nii.gz'\n",
    "gt_path = '/home/t722s/Desktop/Datasets/Dataset350_AbdomenAtlasJHU_2img/labelsTr/BDMAP_00000001.nii.gz'\n",
    "img, gt = read_im_gt(img_path, gt_path, 3)\n"
   ]
  },
  {
   "cell_type": "code",
   "execution_count": 2,
   "metadata": {},
   "outputs": [
    {
     "name": "stderr",
     "output_type": "stream",
     "text": [
      "Performing inference on slices: 100%|██████████| 45/45 [00:02<00:00, 18.22it/s]\n"
     ]
    },
    {
     "data": {
      "text/plain": [
       "0.9143276197755548"
      ]
     },
     "execution_count": 2,
     "metadata": {},
     "output_type": "execute_result"
    }
   ],
   "source": [
    "# Experiment: n randomly sampled points from foreground\n",
    "seed = 11121\n",
    "n_clicks = 5\n",
    "point_prompt = prUt.get_pos_clicks2D_row_major(gt, n_clicks, seed = seed)\n",
    "segmentation = sammed2d_inferer.predict(img, point_prompt)\n",
    "anUt.compute_dice(segmentation, gt)"
   ]
  },
  {
   "cell_type": "code",
   "execution_count": 5,
   "metadata": {},
   "outputs": [
    {
     "name": "stdout",
     "output_type": "stream",
     "text": [
      "0.9163881373017136\n",
      "Using previously generated image embeddings\n"
     ]
    },
    {
     "name": "stderr",
     "output_type": "stream",
     "text": [
      "Performing inference on slices: 100%|██████████| 6/6 [00:00<00:00, 133.65it/s]\n"
     ]
    },
    {
     "name": "stdout",
     "output_type": "stream",
     "text": [
      "0.9160622758587516\n",
      "Using previously generated image embeddings\n"
     ]
    },
    {
     "name": "stderr",
     "output_type": "stream",
     "text": [
      "Performing inference on slices: 100%|██████████| 6/6 [00:00<00:00, 152.03it/s]\n"
     ]
    },
    {
     "name": "stdout",
     "output_type": "stream",
     "text": [
      "0.9165641151858233\n",
      "Using previously generated image embeddings\n"
     ]
    },
    {
     "name": "stderr",
     "output_type": "stream",
     "text": [
      "Performing inference on slices: 100%|██████████| 6/6 [00:00<00:00, 155.12it/s]\n"
     ]
    },
    {
     "name": "stdout",
     "output_type": "stream",
     "text": [
      "0.9194610507487476\n",
      "Using previously generated image embeddings\n"
     ]
    },
    {
     "name": "stderr",
     "output_type": "stream",
     "text": [
      "Performing inference on slices: 100%|██████████| 3/3 [00:00<00:00, 151.53it/s]\n"
     ]
    },
    {
     "name": "stdout",
     "output_type": "stream",
     "text": [
      "0.9199503386245078\n",
      "Using previously generated image embeddings\n"
     ]
    },
    {
     "name": "stderr",
     "output_type": "stream",
     "text": [
      "Performing inference on slices: 100%|██████████| 5/5 [00:00<00:00, 131.33it/s]\n"
     ]
    },
    {
     "name": "stdout",
     "output_type": "stream",
     "text": [
      "0.9202966253263359\n",
      "Using previously generated image embeddings\n"
     ]
    },
    {
     "name": "stderr",
     "output_type": "stream",
     "text": [
      "Performing inference on slices: 100%|██████████| 2/2 [00:00<00:00, 137.61it/s]\n"
     ]
    },
    {
     "name": "stdout",
     "output_type": "stream",
     "text": [
      "0.9230876507914372\n",
      "Using previously generated image embeddings\n"
     ]
    },
    {
     "name": "stderr",
     "output_type": "stream",
     "text": [
      "Performing inference on slices: 100%|██████████| 7/7 [00:00<00:00, 118.54it/s]\n"
     ]
    },
    {
     "name": "stdout",
     "output_type": "stream",
     "text": [
      "0.9227941374065495\n",
      "degrees of freedom bound met; terminating with performance 0.9227941374065495\n"
     ]
    }
   ],
   "source": [
    "# Iteratively improve\n",
    "from utils.interactivity import iterate_2d\n",
    "initial_prompt = point_prompt\n",
    "condition = 'dof'\n",
    "dof_bound = 90\n",
    "seed_sub = np.random.randint(10**5)\n",
    "segmentation, dof, segmentations, prompts, max_fp_idxs = iterate_2d(sammed2d_inferer, img, gt, segmentation, initial_prompt, \n",
    "                                                                         condition = 'dof', init_dof = 5, dof_bound = dof_bound, seed = seed_sub, detailed = True)"
   ]
  },
  {
   "cell_type": "code",
   "execution_count": 3,
   "metadata": {},
   "outputs": [
    {
     "name": "stdout",
     "output_type": "stream",
     "text": [
      "Using previously generated image embeddings\n"
     ]
    },
    {
     "name": "stderr",
     "output_type": "stream",
     "text": [
      "Performing inference on slices: 100%|██████████| 45/45 [00:00<00:00, 152.53it/s]\n"
     ]
    },
    {
     "data": {
      "text/plain": [
       "0.9396739793941389"
      ]
     },
     "execution_count": 3,
     "metadata": {},
     "output_type": "execute_result"
    }
   ],
   "source": [
    "# Experiment: 2d bounding box per slice with foreground\n",
    "box_prompt = prUt.get_minimal_boxes_row_major(gt, 3, 3)\n",
    "segmentation = sammed2d_inferer.predict(img, box_prompt)\n",
    "anUt.compute_dice(segmentation, gt)"
   ]
  },
  {
   "cell_type": "code",
   "execution_count": 4,
   "metadata": {},
   "outputs": [
    {
     "name": "stdout",
     "output_type": "stream",
     "text": [
      "Using previously generated image embeddings\n"
     ]
    },
    {
     "name": "stderr",
     "output_type": "stream",
     "text": [
      "Performing inference on slices: 100%|██████████| 45/45 [00:00<00:00, 178.06it/s]\n"
     ]
    },
    {
     "data": {
      "text/plain": [
       "0.7636174284813798"
      ]
     },
     "execution_count": 4,
     "metadata": {},
     "output_type": "execute_result"
    }
   ],
   "source": [
    "# Experiment: get 3d bbox and slice it to feed it in 2d axially\n",
    "box_prompt = prUt.get_bbox3d_sliced(gt)\n",
    "\n",
    "segmentation = sammed2d_inferer.predict(img, box_prompt)\n",
    "anUt.compute_dice(segmentation, gt)"
   ]
  },
  {
   "cell_type": "code",
   "execution_count": 7,
   "metadata": {},
   "outputs": [
    {
     "name": "stdout",
     "output_type": "stream",
     "text": [
      "Using previously generated image embeddings\n"
     ]
    },
    {
     "name": "stderr",
     "output_type": "stream",
     "text": [
      "Performing inference on slices: 100%|██████████| 45/45 [00:00<00:00, 156.65it/s]\n"
     ]
    },
    {
     "data": {
      "text/plain": [
       "0.9143276197755548"
      ]
     },
     "execution_count": 7,
     "metadata": {},
     "output_type": "execute_result"
    }
   ],
   "source": [
    "# Experiment: line interpolation\n",
    "n_slices = 5\n",
    "interpolation = 'linear'\n",
    "simulated_clicks = prUt.get_fg_points_from_cc_centers(gt, n_slices)\n",
    "coords = prUt.interpolate_points(simulated_clicks, kind = interpolation).astype(int)\n",
    "\n",
    "def line_interpolation(gt, n_slices):\n",
    "    simulated_clicks = prUt.get_fg_points_from_cc_centers(gt, n_slices)\n",
    "    coords = prUt.interpolate_points(simulated_clicks, kind = interpolation).astype(int)\n",
    "    point_prompt = Points(coords = coords, labels = [1]*len(coords))\n",
    "    return(point_prompt)\n",
    "\n",
    "\n",
    "segmentation = sammed2d_inferer.predict(img, point_prompt)\n",
    "anUt.compute_dice(segmentation, gt)"
   ]
  },
  {
   "cell_type": "code",
   "execution_count": 2,
   "metadata": {},
   "outputs": [
    {
     "name": "stderr",
     "output_type": "stream",
     "text": [
      "Performing inference on slices: 100%|██████████| 45/45 [00:01<00:00, 22.83it/s]\n"
     ]
    },
    {
     "data": {
      "text/plain": [
       "0.9463972842750766"
      ]
     },
     "execution_count": 2,
     "metadata": {},
     "output_type": "execute_result"
    }
   ],
   "source": [
    "# Experiment: box interpolation\n",
    "n_boxes = 5\n",
    "\n",
    "seed_boxes = prUt.get_seed_boxes(gt, n_boxes)\n",
    "box_prompt = prUt.box_interpolation(seed_boxes)\n",
    "segmentation = sammed2d_inferer.predict(img, box_prompt)\n",
    "anUt.compute_dice(segmentation, gt)"
   ]
  },
  {
   "cell_type": "code",
   "execution_count": 14,
   "metadata": {},
   "outputs": [
    {
     "name": "stderr",
     "output_type": "stream",
     "text": [
      "Propagating down: 100%|██████████| 22/22 [00:11<00:00,  1.99it/s]\n",
      "Propagating up: 100%|██████████| 22/22 [00:10<00:00,  2.04it/s]\n"
     ]
    },
    {
     "name": "stdout",
     "output_type": "stream",
     "text": [
      "0.7984751851037314\n"
     ]
    }
   ],
   "source": [
    "# Experiment: Point propagation\n",
    "\n",
    "seed = 11121\n",
    "n_clicks = 5\n",
    "\n",
    "# Get seed prompt and bounds\n",
    "seed_point = prUt.get_seed_point(gt, n_clicks, seed)\n",
    "slices_to_infer = np.where(np.any(gt, axis=(1,2)))[0]\n",
    "\n",
    "segmentation = prUt.point_propagation(sammed2d_inferer, img, seed_point, slices_to_infer, seed, n_clicks)\n",
    "print(anUt.compute_dice(gt,segmentation))\n"
   ]
  },
  {
   "cell_type": "code",
   "execution_count": 2,
   "metadata": {},
   "outputs": [
    {
     "name": "stderr",
     "output_type": "stream",
     "text": [
      "Propagating down: 100%|██████████| 48/48 [00:02<00:00, 22.50it/s]\n",
      "Propagating up:  69%|██████▉   | 33/48 [00:01<00:00, 23.46it/s]/home/t722s/Desktop/UniversalModels/Project/UniversalInterface/utils/promptUtils.py:501: UserWarning: \n",
      "Terminate early: no fg generated\n",
      "  warnings.warn('\\nTerminate early: no fg generated')\n",
      "Propagating up:  71%|███████   | 34/48 [00:01<00:00, 22.79it/s]\n"
     ]
    },
    {
     "name": "stdout",
     "output_type": "stream",
     "text": [
      "0.4829657225423463\n"
     ]
    }
   ],
   "source": [
    "# Experiment: Box propagation\n",
    "\n",
    "seed_box = prUt.get_seed_box(gt)\n",
    "slices_to_infer = np.where(np.any(gt, axis=(1,2)))[0]\n",
    "\n",
    "segmentation = prUt.box_propagation(sammed2d_inferer, img, seed_box, slices_to_infer)\n",
    "\n",
    "print(anUt.compute_dice(gt,segmentation))"
   ]
  },
  {
   "cell_type": "code",
   "execution_count": 10,
   "metadata": {},
   "outputs": [
    {
     "name": "stdout",
     "output_type": "stream",
     "text": [
      "Using previously generated image embeddings\n"
     ]
    },
    {
     "name": "stderr",
     "output_type": "stream",
     "text": [
      "Performing inference on slices: 100%|██████████| 45/45 [00:00<00:00, 139.74it/s]\n"
     ]
    },
    {
     "name": "stdout",
     "output_type": "stream",
     "text": [
      "Improving 144\n",
      "Improving 158\n",
      "Improving 158\n",
      "Improving 168\n",
      "Improving 166\n",
      "Improving 141\n",
      "Improving 135\n",
      "Improving 137\n",
      "Improving 127\n",
      "Improving 143\n",
      "Improving 164\n",
      "Improving 125\n",
      "Improving 155\n",
      "Improving 164\n",
      "Improving 154\n",
      "Improving 151\n",
      "Improving 136\n",
      "Improving 166\n",
      "Improving 132\n",
      "Target performance not achieved within 20 iterations. Final dice 0.9269\n"
     ]
    },
    {
     "data": {
      "text/plain": [
       "[0.9245013037118691,\n",
       " 0.9245615987535573,\n",
       " 0.9248437889202754,\n",
       " 0.9249542985825937,\n",
       " 0.9252582647365938,\n",
       " 0.9251518266897012,\n",
       " 0.9251948685068118,\n",
       " 0.9253897373146662,\n",
       " 0.9253781939912709,\n",
       " 0.9254822205980489,\n",
       " 0.9256681602949122,\n",
       " 0.9257787666878576,\n",
       " 0.9259259259259259,\n",
       " 0.9261276920468035,\n",
       " 0.9261940599096903,\n",
       " 0.9263074233031314,\n",
       " 0.9265982218458934,\n",
       " 0.9265966680073668,\n",
       " 0.9269000275289584,\n",
       " 0.9269413402645802]"
      ]
     },
     "execution_count": 10,
     "metadata": {},
     "output_type": "execute_result"
    }
   ],
   "source": [
    "# Experiment: interaction to performance, start with points per slice\n",
    "\n",
    "seed = 11121\n",
    "n_seed_clicks = 1 # For initial segmentation\n",
    "fix_worst_slice = False\n",
    "\n",
    "target_performance = 0.95\n",
    "\n",
    "## Generate initial segmentation to improve\n",
    "np.random.seed(seed)\n",
    "point_prompt = prUt.get_pos_clicks2D_row_major(gt, n_seed_clicks, seed = seed)\n",
    "segmentation = sammed2d_inferer.predict(img, point_prompt)\n",
    "\n",
    "initial_dof = len(point_prompt.coords)*2+2\n",
    "dice, revised_slices, dof, segmentations = prUt.iter_improve_perf_sammed2d(img, gt, segmentation, sammed2d_inferer, \n",
    "                                                                           point_prompt, initial_dof = initial_dof, target_performance = target_performance,\n",
    "                                                                           fix_worst_slice = fix_worst_slice, seed = None)\n",
    "dice\n"
   ]
  }
 ],
 "metadata": {
  "kernelspec": {
   "display_name": "universalModels",
   "language": "python",
   "name": "python3"
  },
  "language_info": {
   "codemirror_mode": {
    "name": "ipython",
    "version": 3
   },
   "file_extension": ".py",
   "mimetype": "text/x-python",
   "name": "python",
   "nbconvert_exporter": "python",
   "pygments_lexer": "ipython3",
   "version": "3.12.2"
  }
 },
 "nbformat": 4,
 "nbformat_minor": 2
}
