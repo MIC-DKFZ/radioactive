{
 "cells": [
  {
   "cell_type": "code",
   "execution_count": 2,
   "metadata": {},
   "outputs": [
    {
     "name": "stderr",
     "output_type": "stream",
     "text": [
      "INFO:albumentations.check_version:A new version of Albumentations is available: 1.4.11 (you have 1.4.8). Upgrade using: pip install --upgrade albumentations\n"
     ]
    },
    {
     "name": "stdout",
     "output_type": "stream",
     "text": [
      "True\n",
      "*******load /home/t722s/Desktop/UniversalModels/TrainedModels/sam-med2d_b.pth\n"
     ]
    }
   ],
   "source": [
    "from classes.SAMMed2DClass import SAMMed2DInferer\n",
    "from utils.base_classes import Points\n",
    "import utils.analysis as anUt\n",
    "import utils.prompt as prUt\n",
    "from utils.image import read_im_gt\n",
    "from utils.interactivity import iterate_2d\n",
    "\n",
    "import numpy as np\n",
    "\n",
    "# Obtain model\n",
    "device = 'cuda'\n",
    "sammed2d_checkpoint_path = \"/home/t722s/Desktop/UniversalModels/TrainedModels/sam-med2d_b.pth\"\n",
    "sammed2d_inferer = SAMMed2DInferer(sammed2d_checkpoint_path, device)\n"
   ]
  },
  {
   "cell_type": "code",
   "execution_count": 3,
   "metadata": {},
   "outputs": [],
   "source": [
    "# Obtain image, gt\n",
    "img_path = '/home/t722s/Desktop/Datasets/Dataset350_AbdomenAtlasJHU_2img/imagesTr/BDMAP_00000001_0000.nii.gz'\n",
    "gt_path = '/home/t722s/Desktop/Datasets/Dataset350_AbdomenAtlasJHU_2img/labelsTr/BDMAP_00000001.nii.gz'\n",
    "img, gt = read_im_gt(img_path, gt_path, 3)\n"
   ]
  },
  {
   "cell_type": "code",
   "execution_count": 3,
   "metadata": {},
   "outputs": [
    {
     "name": "stderr",
     "output_type": "stream",
     "text": [
      "Performing inference on slices: 100%|██████████| 45/45 [00:02<00:00, 19.79it/s]\n"
     ]
    },
    {
     "data": {
      "text/plain": [
       "0.9143276197755548"
      ]
     },
     "execution_count": 3,
     "metadata": {},
     "output_type": "execute_result"
    }
   ],
   "source": [
    "# Experiment: n randomly sampled points from foreground\n",
    "seed = 11121\n",
    "# n_clicks = 1\n",
    "n_clicks = 5\n",
    "point_prompt = prUt.get_pos_clicks2D_row_major(gt, n_clicks, seed = seed)\n",
    "segmentation = sammed2d_inferer.predict(img, point_prompt)\n",
    "anUt.compute_dice(segmentation, gt)"
   ]
  },
  {
   "cell_type": "code",
   "execution_count": 25,
   "metadata": {},
   "outputs": [
    {
     "name": "stdout",
     "output_type": "stream",
     "text": [
      "Using previously generated image embeddings\n"
     ]
    },
    {
     "name": "stderr",
     "output_type": "stream",
     "text": [
      "Performing inference on slices: 100%|██████████| 45/45 [00:00<00:00, 174.58it/s]\n"
     ]
    },
    {
     "data": {
      "text/plain": [
       "0.9480396762401525"
      ]
     },
     "execution_count": 25,
     "metadata": {},
     "output_type": "execute_result"
    }
   ],
   "source": [
    "# Experiment: 2d bounding box per slice with foreground\n",
    "box_prompt = prUt.get_minimal_boxes_row_major(gt, 0, 0)\n",
    "segmentation = sammed2d_inferer.predict(img, box_prompt)\n",
    "anUt.compute_dice(segmentation, gt)"
   ]
  },
  {
   "cell_type": "code",
   "execution_count": 26,
   "metadata": {},
   "outputs": [
    {
     "name": "stdout",
     "output_type": "stream",
     "text": [
      "Using previously generated image embeddings\n"
     ]
    },
    {
     "name": "stderr",
     "output_type": "stream",
     "text": [
      "Performing inference on slices: 100%|██████████| 45/45 [00:00<00:00, 176.60it/s]\n"
     ]
    },
    {
     "data": {
      "text/plain": [
       "0.7636174284813798"
      ]
     },
     "execution_count": 26,
     "metadata": {},
     "output_type": "execute_result"
    }
   ],
   "source": [
    "# Experiment: get 3d bbox and slice it to feed it in 2d axially\n",
    "box_prompt = prUt.get_bbox3d_sliced(gt)\n",
    "\n",
    "segmentation = sammed2d_inferer.predict(img, box_prompt)\n",
    "anUt.compute_dice(segmentation, gt)"
   ]
  },
  {
   "cell_type": "code",
   "execution_count": 27,
   "metadata": {},
   "outputs": [
    {
     "name": "stdout",
     "output_type": "stream",
     "text": [
      "Using previously generated image embeddings\n"
     ]
    },
    {
     "name": "stderr",
     "output_type": "stream",
     "text": [
      "Performing inference on slices: 100%|██████████| 45/45 [00:00<00:00, 147.57it/s]\n"
     ]
    },
    {
     "data": {
      "text/plain": [
       "0.912622782583199"
      ]
     },
     "execution_count": 27,
     "metadata": {},
     "output_type": "execute_result"
    }
   ],
   "source": [
    "# Experiment: line interpolation\n",
    "n_slices = 5\n",
    "interpolation = 'linear'\n",
    "point_prompt = prUt.line_interpolation(gt, n_slices, interpolation)\n",
    "\n",
    "segmentation = sammed2d_inferer.predict(img, point_prompt)\n",
    "anUt.compute_dice(segmentation, gt)"
   ]
  },
  {
   "cell_type": "code",
   "execution_count": 28,
   "metadata": {},
   "outputs": [
    {
     "name": "stdout",
     "output_type": "stream",
     "text": [
      "Using previously generated image embeddings\n"
     ]
    },
    {
     "name": "stderr",
     "output_type": "stream",
     "text": [
      "Performing inference on slices: 100%|██████████| 45/45 [00:00<00:00, 167.36it/s]\n"
     ]
    },
    {
     "data": {
      "text/plain": [
       "0.9463972842750766"
      ]
     },
     "execution_count": 28,
     "metadata": {},
     "output_type": "execute_result"
    }
   ],
   "source": [
    "# Experiment: box interpolation\n",
    "n_boxes = 5\n",
    "\n",
    "seed_boxes = prUt.get_seed_boxes(gt, n_boxes)\n",
    "box_prompt = prUt.box_interpolation(seed_boxes)\n",
    "segmentation = sammed2d_inferer.predict(img, box_prompt)\n",
    "anUt.compute_dice(segmentation, gt)"
   ]
  },
  {
   "cell_type": "code",
   "execution_count": 10,
   "metadata": {},
   "outputs": [
    {
     "name": "stderr",
     "output_type": "stream",
     "text": [
      "Propagating down: 100%|██████████| 12/12 [00:00<00:00, 107.97it/s]\n",
      "Propagating up: 100%|██████████| 12/12 [00:00<00:00, 84.53it/s]\n"
     ]
    },
    {
     "name": "stdout",
     "output_type": "stream",
     "text": [
      "0.6715563146789912\n"
     ]
    }
   ],
   "source": [
    "# Experiment: Point propagation\n",
    "seed = 11121\n",
    "n_clicks = 5\n",
    "\n",
    "# Get seed prompt and bounds\n",
    "seed_point = prUt.get_seed_point(gt, n_clicks, seed)\n",
    "slices_to_infer = np.where(np.any(gt, axis=(1,2)))[0]\n",
    "\n",
    "segmentation, prompt = prUt.point_propagation(sammed2d_inferer, img, seed_point, slices_to_infer, seed, n_clicks)\n",
    "print(anUt.compute_dice(gt,segmentation))\n"
   ]
  },
  {
   "cell_type": "code",
   "execution_count": 7,
   "metadata": {},
   "outputs": [
    {
     "name": "stderr",
     "output_type": "stream",
     "text": [
      "Propagating down: 100%|██████████| 22/22 [00:00<00:00, 102.79it/s]\n",
      "Propagating up: 100%|██████████| 22/22 [00:00<00:00, 96.12it/s] \n"
     ]
    }
   ],
   "source": [
    "# Iteratively improve previous segmentation (from point propagation)\n",
    "seed = 1\n",
    "n_clicks = 5\n",
    "\n",
    "# Get seed prompt and bounds\n",
    "seed_point = prUt.get_seed_point(gt, n_clicks, seed)\n",
    "slices_to_infer = np.where(np.any(gt, axis=(1,2)))[0]\n",
    "\n",
    "segmentation, prompt = prUt.point_propagation(sammed2d_inferer, img, seed_point, slices_to_infer, seed, n_clicks)\n",
    "\n",
    "\n",
    "initial_prompt = prompt\n",
    "condition = 'dof'\n",
    "dof_bound = 90\n",
    "perf_bound = 0.85\n",
    "dice_scores, dof, segmentations, prompts = iterate_2d(sammed2d_inferer, img, gt, segmentation, initial_prompt, sammed2d_inferer.pass_prev_prompts,\n",
    "                                                      scribble_length = 0.6, contour_distance = 3, disk_size_range= (0,3),\n",
    "                                                      init_dof = 5, perf_bound = 0.85, dof_bound = dof_bound, seed = seed, detailed = True)"
   ]
  },
  {
   "cell_type": "code",
   "execution_count": 11,
   "metadata": {},
   "outputs": [
    {
     "name": "stderr",
     "output_type": "stream",
     "text": [
      "Propagating down: 100%|██████████| 12/12 [00:00<00:00, 120.14it/s]\n",
      "Propagating up: 100%|██████████| 12/12 [00:00<00:00, 66.52it/s]\n"
     ]
    },
    {
     "name": "stdout",
     "output_type": "stream",
     "text": [
      "0.5264982538428203\n"
     ]
    }
   ],
   "source": [
    "# Experiment: Box propagation\n",
    "\n",
    "seed_box = prUt.get_seed_box(gt)\n",
    "slices_to_infer = np.where(np.any(gt, axis=(1,2)))[0]\n",
    "\n",
    "segmentation, prompt = prUt.box_propagation(sammed2d_inferer, img, seed_box, slices_to_infer)\n",
    "\n",
    "print(anUt.compute_dice(gt,segmentation))"
   ]
  }
 ],
 "metadata": {
  "kernelspec": {
   "display_name": "universalModels",
   "language": "python",
   "name": "python3"
  },
  "language_info": {
   "codemirror_mode": {
    "name": "ipython",
    "version": 3
   },
   "file_extension": ".py",
   "mimetype": "text/x-python",
   "name": "python",
   "nbconvert_exporter": "python",
   "pygments_lexer": "ipython3",
   "version": "3.12.2"
  }
 },
 "nbformat": 4,
 "nbformat_minor": 2
}
