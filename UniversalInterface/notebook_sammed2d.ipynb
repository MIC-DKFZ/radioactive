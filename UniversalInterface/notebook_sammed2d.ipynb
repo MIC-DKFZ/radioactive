{
 "cells": [
  {
   "cell_type": "code",
   "execution_count": 1,
   "metadata": {},
   "outputs": [
    {
     "name": "stderr",
     "output_type": "stream",
     "text": [
      "INFO:albumentations.check_version:A new version of Albumentations is available: 1.4.14 (you have 1.4.8). Upgrade using: pip install --upgrade albumentations\n"
     ]
    },
    {
     "name": "stdout",
     "output_type": "stream",
     "text": [
      "True\n",
      "*******load /home/t722s/Desktop/UniversalModels/TrainedModels/sam-med2d_b.pth\n"
     ]
    },
    {
     "ename": "TypeError",
     "evalue": "read_im_gt() got multiple values for argument 'reorient'",
     "output_type": "error",
     "traceback": [
      "\u001b[0;31m---------------------------------------------------------------------------\u001b[0m",
      "\u001b[0;31mTypeError\u001b[0m                                 Traceback (most recent call last)",
      "Cell \u001b[0;32mIn[1], line 23\u001b[0m\n\u001b[1;32m     20\u001b[0m gt_unprocessed \u001b[38;5;241m=\u001b[39m nib\u001b[38;5;241m.\u001b[39mload(gt_path)\u001b[38;5;241m.\u001b[39mget_fdata()\n\u001b[1;32m     21\u001b[0m gt_unprocessed \u001b[38;5;241m=\u001b[39m np\u001b[38;5;241m.\u001b[39mwhere(gt_unprocessed \u001b[38;5;241m==\u001b[39m class_label, \u001b[38;5;241m1\u001b[39m, \u001b[38;5;241m0\u001b[39m)\n\u001b[0;32m---> 23\u001b[0m img, gt \u001b[38;5;241m=\u001b[39m \u001b[43mread_im_gt\u001b[49m\u001b[43m(\u001b[49m\u001b[43mimg_path\u001b[49m\u001b[43m,\u001b[49m\u001b[43m \u001b[49m\u001b[43mgt_path\u001b[49m\u001b[43m,\u001b[49m\u001b[43m \u001b[49m\u001b[43mclass_label\u001b[49m\u001b[43m,\u001b[49m\u001b[43m \u001b[49m\u001b[43mreorient\u001b[49m\u001b[38;5;241;43m=\u001b[39;49m\u001b[38;5;28;43;01mTrue\u001b[39;49;00m\u001b[43m)\u001b[49m\n\u001b[1;32m     25\u001b[0m \u001b[38;5;66;03m# Set image to predict on \u001b[39;00m\n\u001b[1;32m     26\u001b[0m sammed2d_inferer\u001b[38;5;241m.\u001b[39mset_image(img_path)\n",
      "\u001b[0;31mTypeError\u001b[0m: read_im_gt() got multiple values for argument 'reorient'"
     ]
    }
   ],
   "source": [
    "import numpy as np\n",
    "import nibabel as nib\n",
    "\n",
    "from utils.class_SAMMed2D import SAMMed2DInferer\n",
    "import utils.prompt as prUt\n",
    "import utils.analysis as anUt\n",
    "from utils.image import read_im_gt\n",
    "from utils.interactivity import iterate_2d\n",
    "\n",
    "# Obtain model\n",
    "device = 'cuda'\n",
    "checkpoint_path = \"/home/t722s/Desktop/UniversalModels/TrainedModels/sam-med2d_b.pth\"\n",
    "sammed2d_inferer = SAMMed2DInferer(checkpoint_path, device)\n",
    "\n",
    "# Load image, gt\n",
    "img_path = '/home/t722s/Desktop/Datasets/Dataset350_AbdomenAtlasJHU_2img/imagesTr/BDMAP_00000001_0000.nii.gz'\n",
    "gt_path = '/home/t722s/Desktop/Datasets/Dataset350_AbdomenAtlasJHU_2img/labelsTr/BDMAP_00000001.nii.gz'\n",
    "class_label = 1\n",
    "\n",
    "gt_unprocessed = nib.load(gt_path).get_fdata()\n",
    "gt_unprocessed = np.where(gt_unprocessed == class_label, 1, 0)\n",
    "\n",
    "img, gt = read_im_gt(img_path, gt_path, reorient=True, organ_albel = class_label)\n",
    "\n",
    "# Set image to predict on \n",
    "sammed2d_inferer.set_image(img_path)\n"
   ]
  },
  {
   "cell_type": "code",
   "execution_count": 2,
   "metadata": {},
   "outputs": [
    {
     "name": "stderr",
     "output_type": "stream",
     "text": [
      "Performing inference on slices: 100%|██████████| 139/139 [00:05<00:00, 23.54it/s]\n"
     ]
    },
    {
     "data": {
      "text/plain": [
       "0.7765170095896244"
      ]
     },
     "execution_count": 2,
     "metadata": {},
     "output_type": "execute_result"
    }
   ],
   "source": [
    "# Experiment: n randomly sampled points from foreground\n",
    "seed = 11121\n",
    "# n_clicks = 1\n",
    "n_clicks = 1\n",
    "point_prompt = prUt.get_pos_clicks2D_row_major(gt, n_clicks, seed = seed)\n",
    "segmentation = sammed2d_inferer.predict(point_prompt).get_fdata()\n",
    "anUt.compute_dice(segmentation, gt_unprocessed)"
   ]
  },
  {
   "cell_type": "markdown",
   "metadata": {},
   "source": [
    "# Try to recreate issue in experiments runner"
   ]
  },
  {
   "cell_type": "code",
   "execution_count": 3,
   "metadata": {},
   "outputs": [
    {
     "data": {
      "text/plain": [
       "array([[267, 202, 105],\n",
       "       [263, 200, 106],\n",
       "       [252, 201, 107],\n",
       "       [259, 201, 108],\n",
       "       [246, 205, 109],\n",
       "       [256, 208, 110],\n",
       "       [256, 208, 111],\n",
       "       [260, 203, 112],\n",
       "       [243, 210, 113],\n",
       "       [252, 195, 114],\n",
       "       [238, 199, 115],\n",
       "       [255, 207, 116],\n",
       "       [248, 198, 117],\n",
       "       [245, 204, 118],\n",
       "       [236, 200, 119],\n",
       "       [236, 198, 120],\n",
       "       [247, 195, 121],\n",
       "       [240, 200, 122],\n",
       "       [240, 201, 123],\n",
       "       [239, 200, 124],\n",
       "       [247, 192, 125],\n",
       "       [243, 189, 126],\n",
       "       [247, 196, 127],\n",
       "       [237, 195, 128],\n",
       "       [249, 193, 129],\n",
       "       [239, 196, 130],\n",
       "       [236, 187, 131],\n",
       "       [235, 186, 132],\n",
       "       [249, 190, 133],\n",
       "       [239, 194, 134],\n",
       "       [248, 197, 135],\n",
       "       [245, 181, 136],\n",
       "       [243, 196, 137],\n",
       "       [247, 182, 138],\n",
       "       [245, 189, 139],\n",
       "       [243, 182, 140],\n",
       "       [245, 187, 141],\n",
       "       [239, 181, 142],\n",
       "       [246, 174, 143],\n",
       "       [249, 190, 144],\n",
       "       [247, 172, 145],\n",
       "       [244, 172, 146],\n",
       "       [251, 168, 147],\n",
       "       [241, 174, 148],\n",
       "       [252, 175, 149],\n",
       "       [240, 171, 150],\n",
       "       [254, 169, 151],\n",
       "       [255, 181, 152],\n",
       "       [257, 177, 153],\n",
       "       [256, 161, 154],\n",
       "       [261, 167, 155],\n",
       "       [249, 177, 156],\n",
       "       [250, 169, 157],\n",
       "       [247, 170, 158],\n",
       "       [247, 173, 159],\n",
       "       [240, 168, 160],\n",
       "       [247, 166, 161],\n",
       "       [250, 165, 162],\n",
       "       [246, 157, 163],\n",
       "       [257, 171, 164],\n",
       "       [254, 153, 165],\n",
       "       [258, 152, 166],\n",
       "       [250, 171, 167],\n",
       "       [249, 170, 168],\n",
       "       [260, 162, 169],\n",
       "       [247, 151, 170],\n",
       "       [248, 164, 171],\n",
       "       [247, 153, 172],\n",
       "       [255, 156, 173],\n",
       "       [243, 154, 174],\n",
       "       [249, 153, 175],\n",
       "       [251, 154, 176],\n",
       "       [243, 155, 177],\n",
       "       [236, 136, 178],\n",
       "       [250, 136, 179],\n",
       "       [249, 153, 180],\n",
       "       [254, 145, 181],\n",
       "       [241, 147, 182],\n",
       "       [246, 151, 183],\n",
       "       [243, 136, 184],\n",
       "       [251, 137, 185],\n",
       "       [253, 141, 186],\n",
       "       [244, 140, 187],\n",
       "       [253, 136, 188],\n",
       "       [245, 136, 189],\n",
       "       [244, 138, 190],\n",
       "       [229, 123, 191],\n",
       "       [230, 127, 192],\n",
       "       [250, 127, 193],\n",
       "       [242, 123, 194],\n",
       "       [239, 125, 195],\n",
       "       [242, 131, 196],\n",
       "       [249, 126, 197],\n",
       "       [246, 120, 198],\n",
       "       [234, 113, 199],\n",
       "       [239, 121, 200],\n",
       "       [249, 113, 201],\n",
       "       [242, 125, 202],\n",
       "       [246, 123, 203],\n",
       "       [232, 104, 204],\n",
       "       [227, 101, 205],\n",
       "       [239, 117, 206],\n",
       "       [241, 117, 207],\n",
       "       [224, 107, 208],\n",
       "       [246, 111, 209],\n",
       "       [235, 109, 210],\n",
       "       [245, 101, 211],\n",
       "       [246, 100, 212],\n",
       "       [231,  96, 213],\n",
       "       [266, 175, 214],\n",
       "       [264, 184, 215],\n",
       "       [254, 165, 216],\n",
       "       [258, 171, 217],\n",
       "       [230,  93, 218],\n",
       "       [242,  89, 219],\n",
       "       [271, 160, 220],\n",
       "       [273, 182, 221],\n",
       "       [277, 182, 222],\n",
       "       [261, 187, 223],\n",
       "       [262, 174, 224],\n",
       "       [238,  99, 225],\n",
       "       [283, 177, 226],\n",
       "       [284, 158, 227],\n",
       "       [270, 154, 228],\n",
       "       [263, 166, 229],\n",
       "       [237,  88, 230],\n",
       "       [270, 165, 231],\n",
       "       [236, 102, 232],\n",
       "       [246, 153, 233],\n",
       "       [231,  99, 234],\n",
       "       [214, 102, 235],\n",
       "       [218, 104, 236],\n",
       "       [236, 135, 237],\n",
       "       [227,  97, 238],\n",
       "       [224, 139, 239],\n",
       "       [239, 109, 240],\n",
       "       [220, 118, 241],\n",
       "       [236, 121, 242],\n",
       "       [228, 117, 243]])"
      ]
     },
     "execution_count": 3,
     "metadata": {},
     "output_type": "execute_result"
    }
   ],
   "source": [
    "seed = 11121\n",
    "n_clicks = 1\n",
    "point_prompt = prUt.get_pos_clicks2D_row_major(gt, n_clicks, seed = seed)\n",
    "point_prompt.coords"
   ]
  },
  {
   "cell_type": "code",
   "execution_count": 7,
   "metadata": {},
   "outputs": [],
   "source": [
    "import utils.prompt as prompt\n",
    "from utils.testing import test_load\n",
    "\n",
    "experiments = {}\n",
    "experiments.update({\n",
    "                'random_points': lambda organ_mask: prompt.get_pos_clicks2D_row_major(organ_mask, 1, seed=seed)\n",
    "            })\n",
    "\n",
    "seed = 11121\n",
    "\n",
    "gt_path = '/home/t722s/Desktop/Datasets/melanoma_HD_sub/labelsTr/0000380855_Baseline.nii.gz'\n",
    "gt_2 = nib.load(gt_path).get_fdata()\n",
    "target = 1\n",
    "organ_mask = np.where(gt_2 == target, 1, 0) # Matches organ_mask in script\n",
    "\n",
    "for exp_name, prompting_func in experiments.items():\n",
    "    prompt = prompting_func(organ_mask)"
   ]
  },
  {
   "cell_type": "code",
   "execution_count": 8,
   "metadata": {},
   "outputs": [
    {
     "data": {
      "text/plain": [
       "array([[116, 276, 166],\n",
       "       [118, 280, 167],\n",
       "       [118, 283, 168],\n",
       "       [119, 283, 169],\n",
       "       [116, 279, 170],\n",
       "       [119, 279, 171],\n",
       "       [117, 276, 172],\n",
       "       [116, 273, 173],\n",
       "       [119, 280, 174],\n",
       "       [122, 284, 175],\n",
       "       [121, 290, 176],\n",
       "       [119, 283, 177],\n",
       "       [120, 296, 178],\n",
       "       [115, 265, 179],\n",
       "       [114, 262, 180],\n",
       "       [120, 285, 181],\n",
       "       [117, 271, 182],\n",
       "       [122, 285, 183],\n",
       "       [122, 280, 184],\n",
       "       [123, 268, 185],\n",
       "       [120, 298, 186],\n",
       "       [122, 286, 187],\n",
       "       [121, 291, 188],\n",
       "       [121, 291, 189],\n",
       "       [121, 272, 190],\n",
       "       [117, 282, 191],\n",
       "       [117, 283, 192],\n",
       "       [123, 257, 193],\n",
       "       [120, 274, 194],\n",
       "       [113, 258, 195],\n",
       "       [120, 266, 196],\n",
       "       [121, 265, 197],\n",
       "       [121, 261, 198],\n",
       "       [122, 259, 199],\n",
       "       [122, 259, 200],\n",
       "       [120, 259, 201]])"
      ]
     },
     "execution_count": 8,
     "metadata": {},
     "output_type": "execute_result"
    }
   ],
   "source": [
    "gt_path = '/home/t722s/Desktop/Datasets/melanoma_HD_sub/labelsTr/0000380855_Baseline.nii.gz'\n",
    "gt_2 = nib.load(gt_path).get_fdata()\n",
    "target = 1\n",
    "organ_mask = np.where(gt_2 == target, 1, 0) # Matches organ_mask in script"
   ]
  },
  {
   "cell_type": "code",
   "execution_count": 6,
   "metadata": {},
   "outputs": [
    {
     "data": {
      "text/plain": [
       "True"
      ]
     },
     "execution_count": 6,
     "metadata": {},
     "output_type": "execute_result"
    }
   ],
   "source": [
    "gt_test = test_load('gt_test')\n",
    "np.array_equal(organ_mask, gt_test)"
   ]
  },
  {
   "cell_type": "markdown",
   "metadata": {},
   "source": [
    "--------------------"
   ]
  },
  {
   "cell_type": "code",
   "execution_count": 4,
   "metadata": {},
   "outputs": [
    {
     "name": "stdout",
     "output_type": "stream",
     "text": [
      "Using previously generated image embeddings\n"
     ]
    },
    {
     "name": "stderr",
     "output_type": "stream",
     "text": [
      "Performing inference on slices: 100%|██████████| 45/45 [00:00<00:00, 161.71it/s]\n"
     ]
    },
    {
     "data": {
      "text/plain": [
       "0.9479291027642575"
      ]
     },
     "execution_count": 4,
     "metadata": {},
     "output_type": "execute_result"
    }
   ],
   "source": [
    "# Experiment: 2d bounding box per slice with foreground\n",
    "box_prompt = prUt.get_minimal_boxes_row_major(gt, 0, 0)\n",
    "segmentation = sammed2d_inferer.predict(box_prompt).get_fdata() \n",
    "anUt.compute_dice(segmentation, gt_unprocessed)"
   ]
  },
  {
   "cell_type": "code",
   "execution_count": 5,
   "metadata": {},
   "outputs": [
    {
     "name": "stdout",
     "output_type": "stream",
     "text": [
      "Using previously generated image embeddings\n"
     ]
    },
    {
     "name": "stderr",
     "output_type": "stream",
     "text": [
      "Performing inference on slices: 100%|██████████| 45/45 [00:00<00:00, 159.22it/s]\n"
     ]
    },
    {
     "data": {
      "text/plain": [
       "0.7618183641651699"
      ]
     },
     "execution_count": 5,
     "metadata": {},
     "output_type": "execute_result"
    }
   ],
   "source": [
    "# Experiment: get 3d bbox and slice it to feed it in 2d axially\n",
    "box_prompt = prUt.get_bbox3d_sliced(gt)\n",
    "\n",
    "segmentation = sammed2d_inferer.predict(box_prompt).get_fdata()\n",
    "anUt.compute_dice(segmentation, gt_unprocessed)"
   ]
  },
  {
   "cell_type": "code",
   "execution_count": 6,
   "metadata": {},
   "outputs": [
    {
     "name": "stdout",
     "output_type": "stream",
     "text": [
      "Using previously generated image embeddings\n"
     ]
    },
    {
     "name": "stderr",
     "output_type": "stream",
     "text": [
      "Performing inference on slices: 100%|██████████| 45/45 [00:00<00:00, 151.37it/s]\n"
     ]
    },
    {
     "data": {
      "text/plain": [
       "0.9110163505559189"
      ]
     },
     "execution_count": 6,
     "metadata": {},
     "output_type": "execute_result"
    }
   ],
   "source": [
    "# Experiment: line interpolation\n",
    "n_slices = 5\n",
    "interpolation = 'linear'\n",
    "point_prompt = prUt.point_interpolation(gt, n_slices, interpolation)\n",
    "\n",
    "segmentation = sammed2d_inferer.predict(point_prompt).get_fdata()\n",
    "anUt.compute_dice(segmentation, gt_unprocessed)"
   ]
  },
  {
   "cell_type": "code",
   "execution_count": 4,
   "metadata": {},
   "outputs": [
    {
     "name": "stdout",
     "output_type": "stream",
     "text": [
      "True\n",
      "*******load /home/t722s/Desktop/UniversalModels/TrainedModels/sam-med2d_b.pth\n"
     ]
    }
   ],
   "source": [
    "import torch\n",
    "#del sammed2d_inferer\n",
    "torch.cuda.empty_cache()\n",
    "from importlib import reload\n",
    "import utils.class_SAMMed2D as c\n",
    "reload(c)\n",
    "sammed2d_inferer = c.SAMMed2DInferer(checkpoint_path, device)"
   ]
  },
  {
   "cell_type": "code",
   "execution_count": 7,
   "metadata": {},
   "outputs": [
    {
     "name": "stdout",
     "output_type": "stream",
     "text": [
      "Using previously generated image embeddings\n"
     ]
    },
    {
     "name": "stderr",
     "output_type": "stream",
     "text": [
      "Performing inference on slices: 100%|██████████| 45/45 [00:00<00:00, 143.35it/s]\n"
     ]
    },
    {
     "name": "stdout",
     "output_type": "stream",
     "text": [
      "0.9110163505559189\n",
      "0.9073761479256036\n",
      "0.9101709423880054\n",
      "0.91098359026401\n",
      "0.9119163930907016\n",
      "0.9207136409493973\n",
      "0.9136357753041677\n",
      "0.9142206464077366\n",
      "0.9141466468086943\n",
      "0.9141327750227983\n"
     ]
    }
   ],
   "source": [
    "# Iteratively improve previous segmentation (from line interpolation)\n",
    "n_slices = 5\n",
    "interpolation = 'linear'\n",
    "point_prompt = prUt.point_interpolation(gt, n_slices, interpolation)\n",
    "\n",
    "segmentation, low_res_logits = sammed2d_inferer.predict(point_prompt, return_low_res_logits=True, transform = False)\n",
    "\n",
    "\n",
    "initial_prompt = point_prompt\n",
    "condition = 'dof'\n",
    "dof_bound = 90\n",
    "perf_bound = 0.85\n",
    "dice_scores, dof, segmentations, prompts = iterate_2d(sammed2d_inferer, gt, segmentation, low_res_logits, initial_prompt, sammed2d_inferer.pass_prev_prompts,\n",
    "                                                      scribble_length = 0.6, contour_distance = 3, disk_size_range= (0,3),\n",
    "                                                      init_dof = 5, perf_bound = 0.85, dof_bound = dof_bound, seed = seed, detailed = True)"
   ]
  },
  {
   "cell_type": "code",
   "execution_count": 9,
   "metadata": {},
   "outputs": [
    {
     "name": "stdout",
     "output_type": "stream",
     "text": [
      "Using previously generated image embeddings\n"
     ]
    },
    {
     "name": "stderr",
     "output_type": "stream",
     "text": [
      "Performing inference on slices: 100%|██████████| 45/45 [00:00<00:00, 136.89it/s]\n"
     ]
    },
    {
     "data": {
      "text/plain": [
       "0.9463246814431747"
      ]
     },
     "execution_count": 9,
     "metadata": {},
     "output_type": "execute_result"
    }
   ],
   "source": [
    "# Experiment: box interpolation\n",
    "n_boxes = 5\n",
    "\n",
    "seed_boxes = prUt.get_seed_boxes(gt, n_boxes)\n",
    "box_prompt = prUt.box_interpolation(seed_boxes)\n",
    "segmentation = sammed2d_inferer.predict(box_prompt).get_fdata()\n",
    "anUt.compute_dice(segmentation, gt_unprocessed)"
   ]
  },
  {
   "cell_type": "code",
   "execution_count": 12,
   "metadata": {},
   "outputs": [
    {
     "name": "stderr",
     "output_type": "stream",
     "text": [
      "Propagating down: 100%|██████████| 22/22 [00:00<00:00, 91.94it/s] \n",
      "Propagating up: 100%|██████████| 22/22 [00:00<00:00, 107.68it/s]\n"
     ]
    },
    {
     "name": "stdout",
     "output_type": "stream",
     "text": [
      "0.834450084939546\n"
     ]
    }
   ],
   "source": [
    "# Experiment: Point propagation\n",
    "seed = 11121\n",
    "n_clicks = 5\n",
    "\n",
    "# Get seed prompt and bounds\n",
    "seed_point = prUt.get_seed_point(gt, n_clicks, seed)\n",
    "slices_to_infer = np.where(np.any(gt, axis=(1,2)))[0]\n",
    "\n",
    "segmentation, prompt = prUt.point_propagation(sammed2d_inferer, seed_point, slices_to_infer, seed, n_clicks)\n",
    "print(anUt.compute_dice(gt,segmentation))\n"
   ]
  },
  {
   "cell_type": "code",
   "execution_count": 20,
   "metadata": {},
   "outputs": [
    {
     "name": "stderr",
     "output_type": "stream",
     "text": [
      "Propagating down: 100%|██████████| 22/22 [00:00<00:00, 96.04it/s]\n",
      "Propagating up: 100%|██████████| 22/22 [00:00<00:00, 100.16it/s]\n"
     ]
    },
    {
     "name": "stdout",
     "output_type": "stream",
     "text": [
      "0.834450084939546\n",
      "0.8617375067128478\n",
      "0.8637177066134087\n",
      "0.8820878916181261\n",
      "0.887469382362208\n",
      "0.8538703613970255\n",
      "0.8190438980827729\n",
      "0.8085717529518619\n",
      "0.8086292543075307\n",
      "0.8011691820383827\n"
     ]
    }
   ],
   "source": [
    "# Iteratively improve previous segmentation (from point propagation)\n",
    "seed = 11121\n",
    "n_clicks = 5\n",
    "\n",
    "# Get seed prompt and bounds\n",
    "seed_point = prUt.get_seed_point(gt, n_clicks, seed)\n",
    "slices_to_infer = np.where(np.any(gt, axis=(1,2)))[0]\n",
    "\n",
    "segmentation, low_res_logits, prompt = prUt.point_propagation(sammed2d_inferer, seed_point, slices_to_infer, seed, n_clicks, return_low_res_logits=True)\n",
    "\n",
    "\n",
    "initial_prompt = prompt\n",
    "condition = 'dof'\n",
    "dof_bound = 90\n",
    "perf_bound = 0.85\n",
    "dice_scores, dof, segmentations, prompts = iterate_2d(sammed2d_inferer, gt, segmentation, low_res_logits, initial_prompt, False, #sammed2d_inferer.pass_prev_prompts,\n",
    "                                                      scribble_length = 0.6, contour_distance = 3, disk_size_range= (0,3),\n",
    "                                                      init_dof = 5, perf_bound = 0.85, dof_bound = dof_bound, seed = seed, detailed = True)"
   ]
  },
  {
   "cell_type": "code",
   "execution_count": 22,
   "metadata": {},
   "outputs": [
    {
     "name": "stderr",
     "output_type": "stream",
     "text": [
      "Propagating down: 100%|██████████| 22/22 [00:00<00:00, 127.64it/s]\n",
      "Propagating up: 100%|██████████| 22/22 [00:00<00:00, 75.59it/s]\n"
     ]
    },
    {
     "name": "stdout",
     "output_type": "stream",
     "text": [
      "0.94016673002479\n"
     ]
    }
   ],
   "source": [
    "# Experiment: Box propagation\n",
    "\n",
    "seed_box = prUt.get_seed_box(gt)\n",
    "slices_to_infer = np.where(np.any(gt, axis=(1,2)))[0]\n",
    "\n",
    "segmentation, prompt = prUt.box_propagation(sammed2d_inferer, seed_box, slices_to_infer)\n",
    "\n",
    "print(anUt.compute_dice(gt,segmentation))"
   ]
  }
 ],
 "metadata": {
  "kernelspec": {
   "display_name": "universalModels",
   "language": "python",
   "name": "python3"
  },
  "language_info": {
   "codemirror_mode": {
    "name": "ipython",
    "version": 3
   },
   "file_extension": ".py",
   "mimetype": "text/x-python",
   "name": "python",
   "nbconvert_exporter": "python",
   "pygments_lexer": "ipython3",
   "version": "3.12.2"
  }
 },
 "nbformat": 4,
 "nbformat_minor": 2
}
