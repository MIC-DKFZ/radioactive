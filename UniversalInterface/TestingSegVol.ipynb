{
 "cells": [
  {
   "cell_type": "code",
   "execution_count": 5,
   "metadata": {},
   "outputs": [
    {
     "name": "stdout",
     "output_type": "stream",
     "text": [
      "build_sam_vit_3d...\n"
     ]
    }
   ],
   "source": [
    "from utils.prompt import get_bbox3d\n",
    "from utils.prompt_3d import get_pos_clicks3D\n",
    "import numpy as np\n",
    "import monai.transforms as transforms\n",
    "\n",
    "checkpoint = \"/home/t722s/Desktop/UniversalModels/TrainedModels/SegVol_v1.pth\"\n",
    "from importlib import reload\n",
    "import utils.segvolClass as c\n",
    "inferer = c.SegVolInferer(checkpoint)\n",
    "#inferer = SegVolInferer(checkpoint)\n"
   ]
  },
  {
   "cell_type": "code",
   "execution_count": 6,
   "metadata": {},
   "outputs": [],
   "source": [
    "# Preliminaries\n",
    "case_path = \"/home/t722s/Desktop/Datasets/segvolTest/Case_image_00001_0000.nii.gz\"\n",
    "label_path = \"/home/t722s/Desktop/Datasets/segvolTest/Case_label_00001.nii.gz\" \n",
    "cls_label = 1\n",
    "spatial_size=(32, 256, 256)\n",
    "\n",
    "img_loader = transforms.LoadImage()\n",
    "gt_voxel_ndarray, _ = img_loader(label_path)\n",
    "gt_voxel_ndarray = (gt_voxel_ndarray == cls_label).astype(np.int32)"
   ]
  },
  {
   "cell_type": "code",
   "execution_count": 7,
   "metadata": {},
   "outputs": [
    {
     "name": "stdout",
     "output_type": "stream",
     "text": [
      "build_sam_vit_3d...\n"
     ]
    }
   ],
   "source": [
    "reload(c)\n",
    "inferer = c.SegVolInferer(checkpoint)"
   ]
  },
  {
   "cell_type": "code",
   "execution_count": 8,
   "metadata": {},
   "outputs": [
    {
     "name": "stdout",
     "output_type": "stream",
     "text": [
      "sliding window inference for ROI\n",
      "0.8974706901374582\n"
     ]
    }
   ],
   "source": [
    "prompt = get_bbox3d(gt_voxel_ndarray.squeeze())\n",
    "logits = inferer.predict(case_path, prompt, 'box')\n",
    "\n",
    "# prompt = get_pos_clicks3D(gt_voxel_ndarray.squeeze(), 4)\n",
    "# logits = inferer.predict(case_path, prompt, 'point')\n",
    "\n",
    "# Confirm dice after inversion are the same\n",
    "\n",
    "def compute_dice(mask_gt, mask_pred):\n",
    "    \"\"\"Compute soerensen-dice coefficient.\n",
    "    Returns:\n",
    "    the dice coeffcient as float. If both masks are empty, the result is NaN\n",
    "    \"\"\"\n",
    "    volume_sum = mask_gt.sum() + mask_pred.sum()\n",
    "    if volume_sum == 0:\n",
    "        return np.NaN\n",
    "    volume_intersect = (mask_gt & mask_pred).sum()\n",
    "    return 2*volume_intersect / volume_sum\n",
    "\n",
    "gt = gt_voxel_ndarray.copy().astype(np.uint8)\n",
    "\n",
    "print(compute_dice(logits, gt))\n"
   ]
  },
  {
   "cell_type": "code",
   "execution_count": null,
   "metadata": {},
   "outputs": [],
   "source": [
    "gt"
   ]
  }
 ],
 "metadata": {
  "kernelspec": {
   "display_name": "segVol",
   "language": "python",
   "name": "python3"
  },
  "language_info": {
   "codemirror_mode": {
    "name": "ipython",
    "version": 3
   },
   "file_extension": ".py",
   "mimetype": "text/x-python",
   "name": "python",
   "nbconvert_exporter": "python",
   "pygments_lexer": "ipython3",
   "version": "3.10.0"
  }
 },
 "nbformat": 4,
 "nbformat_minor": 2
}
