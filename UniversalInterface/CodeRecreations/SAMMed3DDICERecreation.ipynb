{
 "cells": [
  {
   "cell_type": "code",
   "execution_count": 2,
   "metadata": {},
   "outputs": [],
   "source": [
    "from glob import glob\n",
    "import os\n",
    "join = os.path.join\n",
    "import nibabel as nib\n",
    "import numpy as np\n",
    "import torchio as tio\n",
    "import SimpleITK as sitk"
   ]
  },
  {
   "cell_type": "code",
   "execution_count": 3,
   "metadata": {},
   "outputs": [],
   "source": [
    "def compute_dice(mask_gt, mask_pred):\n",
    "    \"\"\"Compute soerensen-dice coefficient.\n",
    "    Returns:\n",
    "    the dice coeffcient as float. If both masks are empty, the result is NaN\n",
    "    \"\"\"\n",
    "    volume_sum = mask_gt.sum() + mask_pred.sum()\n",
    "    if volume_sum == 0:\n",
    "        return np.NaN\n",
    "    volume_intersect = (mask_gt & mask_pred).sum()\n",
    "    return 2*volume_intersect / volume_sum"
   ]
  },
  {
   "cell_type": "code",
   "execution_count": 4,
   "metadata": {},
   "outputs": [
    {
     "data": {
      "text/plain": [
       "0.7659287776708373"
      ]
     },
     "execution_count": 4,
     "metadata": {},
     "output_type": "execute_result"
    }
   ],
   "source": [
    "img_path = '/home/t722s/Desktop/UniversalModels/Project/UniversalInterface/SAM-Med3D/data/validation/edema/mr_flair_BraTS2021/imagesTr/BraTS2021_01646.nii.gz'\n",
    "mask_gt_path = '/home/t722s/Desktop/UniversalModels/Project/UniversalInterface/SAM-Med3D/data/validation/edema/mr_flair_BraTS2021/labelsTr/BraTS2021_01646.nii.gz'\n",
    "pred_path = '/home/t722s/Desktop/Sam-Med3DTest/edema/mr_flair_BraTS2021/BraTS2021_01646_pred2.nii.gz'\n",
    "\n",
    "sitk_image = sitk.ReadImage(img_path)\n",
    "sitk_label = sitk.ReadImage(mask_gt_path)\n",
    "\n",
    "\n",
    "# Try to get the (modified) gt used for the dice comparison\n",
    "infer_transform = [\n",
    "        tio.ToCanonical(),\n",
    "        tio.CropOrPad(mask_name='label', target_shape=(128, 128, 128)),\n",
    "    ]\n",
    "\n",
    "transform = tio.Compose(infer_transform)\n",
    "\n",
    "if sitk_image.GetOrigin() != sitk_label.GetOrigin():\n",
    "    sitk_image.SetOrigin(sitk_label.GetOrigin())\n",
    "if sitk_image.GetDirection() != sitk_label.GetDirection():\n",
    "    sitk_image.SetDirection(sitk_label.GetDirection())\n",
    "\n",
    "subject = tio.Subject(\n",
    "    image = tio.ScalarImage.from_sitk(sitk_image),\n",
    "    label = tio.LabelMap.from_sitk(sitk_label),\n",
    ")\n",
    "\n",
    "subject = transform(subject)\n",
    "gt3d = subject.label.data.clone()\n",
    "\n",
    "sitk_pred = sitk.GetArrayFromImage(sitk.ReadImage(pred_path))\n",
    "compute_dice(gt3d[0].numpy().astype(np.uint8), sitk_pred)"
   ]
  }
 ],
 "metadata": {
  "kernelspec": {
   "display_name": "universalModels",
   "language": "python",
   "name": "python3"
  },
  "language_info": {
   "codemirror_mode": {
    "name": "ipython",
    "version": 3
   },
   "file_extension": ".py",
   "mimetype": "text/x-python",
   "name": "python",
   "nbconvert_exporter": "python",
   "pygments_lexer": "ipython3",
   "version": "3.11.5"
  }
 },
 "nbformat": 4,
 "nbformat_minor": 2
}
