{
 "cells": [
  {
   "cell_type": "markdown",
   "metadata": {},
   "source": [
    "# Try with experiments_runner saved segs"
   ]
  },
  {
   "cell_type": "code",
   "execution_count": 1,
   "metadata": {},
   "outputs": [
    {
     "data": {
      "text/plain": [
       "0.9146332010611777"
      ]
     },
     "execution_count": 1,
     "metadata": {},
     "output_type": "execute_result"
    }
   ],
   "source": [
    "import json\n",
    "import nibabel as nib\n",
    "import utils.analysis as anUt\n",
    "import numpy as np\n",
    "\n",
    "with open('/home/t722s/Desktop/ExperimentResults/sammed2d_abdomenAtlas_20240722_1420/results.json', 'r') as f:\n",
    "    expected_res = json.load(f)[\"random_points\"]['kidney_left']['BDMAP_00000002_0000.nii.gz']\n",
    "\n",
    "gt_path = '/home/t722s/Desktop/Datasets/Dataset350_AbdomenAtlasJHU_2img/labelsTr/BDMAP_00000002.nii.gz'\n",
    "orig_gt = nib.load(gt_path).get_fdata()\n",
    "orig_gt = (orig_gt == 3).astype(np.uint8)\n",
    "\n",
    "seg = nib.load('/home/t722s/Desktop/ExperimentResults/sammed2d_abdomenAtlas_20240722_1420/random_points/kidney_left/BDMAP_00000002_seg.nii.gz').get_fdata().astype(np.uint8)\n",
    "anUt.compute_dice(seg, orig_gt)"
   ]
  }
 ],
 "metadata": {
  "kernelspec": {
   "display_name": "universalModels",
   "language": "python",
   "name": "python3"
  },
  "language_info": {
   "codemirror_mode": {
    "name": "ipython",
    "version": 3
   },
   "file_extension": ".py",
   "mimetype": "text/x-python",
   "name": "python",
   "nbconvert_exporter": "python",
   "pygments_lexer": "ipython3",
   "version": "3.12.2"
  }
 },
 "nbformat": 4,
 "nbformat_minor": 2
}
