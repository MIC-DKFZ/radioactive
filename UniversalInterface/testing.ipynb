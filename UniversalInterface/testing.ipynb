{
 "cells": [
  {
   "cell_type": "code",
   "execution_count": 104,
   "metadata": {},
   "outputs": [],
   "source": [
    "import os\n",
    "import numpy as np\n",
    "from utils.image import read_reorient_nifti\n",
    "import nibabel as nib\n",
    "from utils.analysis import compute_dice\n",
    "import json"
   ]
  },
  {
   "cell_type": "code",
   "execution_count": 105,
   "metadata": {},
   "outputs": [],
   "source": [
    "res_dir = '/media/t722s/2.0 TB Hard Disk/lesions_experiments_20240729/'\n",
    "data_dir = '/home/t722s/Desktop/Datasets/melanoma_HD'"
   ]
  },
  {
   "cell_type": "code",
   "execution_count": 152,
   "metadata": {},
   "outputs": [],
   "source": [
    "models = ['sam', 'medsam', 'sammed2d']\n",
    "splits = ['Tr', 'Ts']\n",
    "zeros = {}\n",
    "for model in models:\n",
    "    with open('/media/t722s/2.0 TB Hard Disk/lesions_experiments_20240729/' + model + '_melanoma_HD/results.json', 'r') as f:\n",
    "                results = json.load(f)\n",
    "    zeros[model] = {\n",
    "        os.path.join('labels' + split,filename): instances\n",
    "        for split in ['Tr', 'Ts']\n",
    "        for filename, instances in results[split].items()\n",
    "        if any(score is None for score in instances.values()) \n",
    "    }"
   ]
  }
 ],
 "metadata": {
  "kernelspec": {
   "display_name": "universalModels",
   "language": "python",
   "name": "python3"
  },
  "language_info": {
   "codemirror_mode": {
    "name": "ipython",
    "version": 3
   },
   "file_extension": ".py",
   "mimetype": "text/x-python",
   "name": "python",
   "nbconvert_exporter": "python",
   "pygments_lexer": "ipython3",
   "version": "3.12.2"
  }
 },
 "nbformat": 4,
 "nbformat_minor": 2
}
