{
 "cells": [
  {
   "cell_type": "code",
   "execution_count": 1,
   "metadata": {},
   "outputs": [
    {
     "name": "stderr",
     "output_type": "stream",
     "text": [
      "INFO:albumentations.check_version:A new version of Albumentations is available: 1.4.11 (you have 1.4.8). Upgrade using: pip install --upgrade albumentations\n"
     ]
    },
    {
     "name": "stdout",
     "output_type": "stream",
     "text": [
      "True\n",
      "*******load /home/t722s/Desktop/UniversalModels/TrainedModels/sam-med2d_b.pth\n"
     ]
    }
   ],
   "source": [
    "import classes.SAMMed2DClass as c\n",
    "import utils.analysis as anUt\n",
    "import utils.prompt as prUt\n",
    "from utils.image import read_im_gt\n",
    "from utils.interactivity import iterate_2d\n",
    "\n",
    "import numpy as np\n",
    "\n",
    "# Obtain model\n",
    "device = 'cuda'\n",
    "sammed2d_checkpoint_path = \"/home/t722s/Desktop/UniversalModels/TrainedModels/sam-med2d_b.pth\"\n",
    "inferer = c.SAMMed2DInferer(sammed2d_checkpoint_path, device)\n"
   ]
  },
  {
   "cell_type": "code",
   "execution_count": 2,
   "metadata": {},
   "outputs": [],
   "source": [
    "# Obtain image, gt\n",
    "img_path = '/home/t722s/Desktop/Datasets/Dataset350_AbdomenAtlasJHU_2img/imagesTr/BDMAP_00000001_0000.nii.gz'\n",
    "gt_path = '/home/t722s/Desktop/Datasets/Dataset350_AbdomenAtlasJHU_2img/labelsTr/BDMAP_00000001.nii.gz'\n",
    "img, gt = read_im_gt(img_path, gt_path, 3)\n"
   ]
  },
  {
   "cell_type": "code",
   "execution_count": 24,
   "metadata": {},
   "outputs": [
    {
     "name": "stderr",
     "output_type": "stream",
     "text": [
      "Performing inference on slices: 100%|██████████| 45/45 [00:01<00:00, 25.83it/s]\n"
     ]
    },
    {
     "data": {
      "text/plain": [
       "0.9143276197755548"
      ]
     },
     "execution_count": 24,
     "metadata": {},
     "output_type": "execute_result"
    }
   ],
   "source": [
    "# Experiment: n randomly sampled points from foreground\n",
    "seed = 11121\n",
    "# n_clicks = 1\n",
    "n_clicks = 5\n",
    "point_prompt = prUt.get_pos_clicks2D_row_major(gt, n_clicks, seed = seed)\n",
    "segmentation = inferer.predict(img, point_prompt)\n",
    "anUt.compute_dice(segmentation, gt)"
   ]
  },
  {
   "cell_type": "code",
   "execution_count": 59,
   "metadata": {},
   "outputs": [
    {
     "name": "stdout",
     "output_type": "stream",
     "text": [
      "Using previously generated image embeddings\n"
     ]
    },
    {
     "name": "stderr",
     "output_type": "stream",
     "text": [
      "Performing inference on slices: 100%|██████████| 45/45 [00:00<00:00, 161.90it/s]\n"
     ]
    },
    {
     "data": {
      "text/plain": [
       "0.9143276197755548"
      ]
     },
     "execution_count": 59,
     "metadata": {},
     "output_type": "execute_result"
    }
   ],
   "source": [
    "# Experiment: n randomly sampled points from foreground\n",
    "seed = 11121\n",
    "# n_clicks = 1\n",
    "n_clicks = 5\n",
    "point_prompt = prUt.get_pos_clicks2D_row_major(gt, n_clicks, seed = seed)\n",
    "segmentation, low_res_logits = inferer.predict(img, point_prompt, return_low_res_logits= True)\n",
    "anUt.compute_dice(segmentation, gt)"
   ]
  },
  {
   "cell_type": "code",
   "execution_count": 3,
   "metadata": {},
   "outputs": [
    {
     "name": "stderr",
     "output_type": "stream",
     "text": [
      "Propagating down: 100%|██████████| 22/22 [00:01<00:00, 20.87it/s]\n",
      "Propagating up: 100%|██████████| 22/22 [00:01<00:00, 21.50it/s]\n"
     ]
    },
    {
     "name": "stdout",
     "output_type": "stream",
     "text": [
      "0.7157095065514357\n"
     ]
    }
   ],
   "source": [
    "# Experiment: Point propagation\n",
    "seed = 1\n",
    "n_clicks = 5\n",
    "\n",
    "# Get seed prompt and bounds\n",
    "seed_point = prUt.get_seed_point(gt, n_clicks, seed)\n",
    "slices_to_infer = np.where(np.any(gt, axis=(1,2)))[0]\n",
    "\n",
    "segmentation, prompt = prUt.point_propagation(inferer, img, seed_point, slices_to_infer, seed, n_clicks)\n",
    "print(anUt.compute_dice(gt,segmentation))\n"
   ]
  },
  {
   "cell_type": "code",
   "execution_count": 4,
   "metadata": {},
   "outputs": [
    {
     "name": "stderr",
     "output_type": "stream",
     "text": [
      "Propagating down: 100%|██████████| 22/22 [00:00<00:00, 113.52it/s]\n",
      "Propagating up: 100%|██████████| 22/22 [00:00<00:00, 115.38it/s]\n"
     ]
    },
    {
     "name": "stdout",
     "output_type": "stream",
     "text": [
      "0.7157095065514357\n"
     ]
    }
   ],
   "source": [
    "# Experiment: Point propagation\n",
    "seed = 1\n",
    "n_clicks = 5\n",
    "\n",
    "# Get seed prompt and bounds\n",
    "seed_point = prUt.get_seed_point(gt, n_clicks, seed)\n",
    "slices_to_infer = np.where(np.any(gt, axis=(1,2)))[0]\n",
    "\n",
    "segmentation, low_res_logits, prompt = prUt.point_propagation(inferer, img, seed_point, slices_to_infer, seed, n_clicks, return_low_res_logits = True)\n",
    "print(anUt.compute_dice(gt,segmentation))\n"
   ]
  },
  {
   "cell_type": "code",
   "execution_count": 15,
   "metadata": {},
   "outputs": [
    {
     "name": "stderr",
     "output_type": "stream",
     "text": [
      "Propagating down: 100%|██████████| 22/22 [00:00<00:00, 112.57it/s]\n",
      "Propagating up: 100%|██████████| 22/22 [00:00<00:00, 111.44it/s]\n"
     ]
    }
   ],
   "source": [
    "import utils.interactivity as inter\n",
    "from importlib import reload\n",
    "reload(inter)\n",
    "\n",
    "# Iteratively improve previous segmentation (from point propagation)\n",
    "seed = 1\n",
    "n_clicks = 5\n",
    "\n",
    "# Get seed prompt and bounds\n",
    "seed_point = prUt.get_seed_point(gt, n_clicks, seed)\n",
    "slices_to_infer = np.where(np.any(gt, axis=(1,2)))[0]\n",
    "\n",
    "segmentation, low_res_logits, prompt = prUt.point_propagation(inferer, img, seed_point, slices_to_infer, seed, n_clicks, return_low_res_logits=True)\n",
    "\n",
    "\n",
    "initial_prompt = prompt\n",
    "condition = 'dof'\n",
    "dof_bound = 90\n",
    "perf_bound = 0.85\n",
    "dice_scores, dof, segmentations, prompts = inter.iterate_2d(inferer, img, gt, segmentation, low_res_logits, initial_prompt, inferer.pass_prev_prompts,\n",
    "                                                      scribble_length = 0.6, contour_distance = 3, disk_size_range= (0,3),\n",
    "                                                      init_dof = 5, perf_bound = 0.85, dof_bound = dof_bound, seed = seed, detailed = True, )"
   ]
  },
  {
   "cell_type": "code",
   "execution_count": 21,
   "metadata": {},
   "outputs": [
    {
     "name": "stderr",
     "output_type": "stream",
     "text": [
      "Propagating down: 100%|██████████| 22/22 [00:00<00:00, 115.35it/s]\n",
      "Propagating up: 100%|██████████| 22/22 [00:00<00:00, 115.02it/s]\n"
     ]
    },
    {
     "name": "stdout",
     "output_type": "stream",
     "text": [
      "0.8177772392806715\n"
     ]
    },
    {
     "ename": "AttributeError",
     "evalue": "'NoneType' object has no attribute 'keys'",
     "output_type": "error",
     "traceback": [
      "\u001b[0;31m---------------------------------------------------------------------------\u001b[0m",
      "\u001b[0;31mAttributeError\u001b[0m                            Traceback (most recent call last)",
      "Cell \u001b[0;32mIn[21], line 14\u001b[0m\n\u001b[1;32m     12\u001b[0m condition \u001b[38;5;241m=\u001b[39m \u001b[38;5;124m'\u001b[39m\u001b[38;5;124mdof\u001b[39m\u001b[38;5;124m'\u001b[39m\n\u001b[1;32m     13\u001b[0m dof_bound \u001b[38;5;241m=\u001b[39m \u001b[38;5;241m90\u001b[39m\n\u001b[0;32m---> 14\u001b[0m dice_scores, dof, segmentations, prompts \u001b[38;5;241m=\u001b[39m \u001b[43miterate_2d\u001b[49m\u001b[43m(\u001b[49m\u001b[43minferer\u001b[49m\u001b[43m,\u001b[49m\u001b[43m \u001b[49m\u001b[43mimg\u001b[49m\u001b[43m,\u001b[49m\u001b[43m \u001b[49m\u001b[43mgt\u001b[49m\u001b[43m,\u001b[49m\u001b[43m \u001b[49m\u001b[43msegmentation\u001b[49m\u001b[43m,\u001b[49m\u001b[43m \u001b[49m\u001b[43minitial_prompt\u001b[49m\u001b[43m,\u001b[49m\u001b[43m \u001b[49m\u001b[43minferer\u001b[49m\u001b[38;5;241;43m.\u001b[39;49m\u001b[43mpass_prev_prompts\u001b[49m\u001b[43m,\u001b[49m\n\u001b[1;32m     15\u001b[0m \u001b[43m                                                      \u001b[49m\u001b[43mscribble_length\u001b[49m\u001b[43m \u001b[49m\u001b[38;5;241;43m=\u001b[39;49m\u001b[43m \u001b[49m\u001b[38;5;241;43m0.6\u001b[39;49m\u001b[43m,\u001b[49m\u001b[43m \u001b[49m\u001b[43mcontour_distance\u001b[49m\u001b[43m \u001b[49m\u001b[38;5;241;43m=\u001b[39;49m\u001b[43m \u001b[49m\u001b[38;5;241;43m3\u001b[39;49m\u001b[43m,\u001b[49m\u001b[43m \u001b[49m\u001b[43mdisk_size_range\u001b[49m\u001b[38;5;241;43m=\u001b[39;49m\u001b[43m \u001b[49m\u001b[43m(\u001b[49m\u001b[38;5;241;43m0\u001b[39;49m\u001b[43m,\u001b[49m\u001b[38;5;241;43m3\u001b[39;49m\u001b[43m)\u001b[49m\u001b[43m,\u001b[49m\n\u001b[1;32m     16\u001b[0m \u001b[43m                                                      \u001b[49m\u001b[43minit_dof\u001b[49m\u001b[43m \u001b[49m\u001b[38;5;241;43m=\u001b[39;49m\u001b[43m \u001b[49m\u001b[38;5;241;43m5\u001b[39;49m\u001b[43m,\u001b[49m\u001b[43m \u001b[49m\u001b[43mdof_bound\u001b[49m\u001b[43m \u001b[49m\u001b[38;5;241;43m=\u001b[39;49m\u001b[43m \u001b[49m\u001b[43mdof_bound\u001b[49m\u001b[43m,\u001b[49m\u001b[43m \u001b[49m\u001b[43mseed\u001b[49m\u001b[43m \u001b[49m\u001b[38;5;241;43m=\u001b[39;49m\u001b[43m \u001b[49m\u001b[43mseed\u001b[49m\u001b[43m,\u001b[49m\u001b[43m \u001b[49m\u001b[43mdetailed\u001b[49m\u001b[43m \u001b[49m\u001b[38;5;241;43m=\u001b[39;49m\u001b[43m \u001b[49m\u001b[38;5;28;43;01mTrue\u001b[39;49;00m\u001b[43m)\u001b[49m\n",
      "File \u001b[0;32m~/Desktop/UniversalModels/Project/UniversalInterface/utils/interactivity.py:186\u001b[0m, in \u001b[0;36miterate_2d\u001b[0;34m(inferer, img, gt, segmentation, initial_prompt, pass_prev_prompts, scribble_length, contour_distance, disk_size_range, dof_bound, perf_bound, init_dof, detailed, seed, verbose, low_res_logits)\u001b[0m\n\u001b[1;32m    183\u001b[0m     improve_slices \u001b[38;5;241m=\u001b[39m slices_inferred \u001b[38;5;66;03m# improve all slices \u001b[39;00m\n\u001b[1;32m    185\u001b[0m \u001b[38;5;66;03m# Generate new segmentation and integrate into old one\u001b[39;00m\n\u001b[0;32m--> 186\u001b[0m new_seg \u001b[38;5;241m=\u001b[39m \u001b[43minferer\u001b[49m\u001b[38;5;241;43m.\u001b[39;49m\u001b[43mpredict\u001b[49m\u001b[43m(\u001b[49m\u001b[43mimg\u001b[49m\u001b[43m,\u001b[49m\u001b[43m \u001b[49m\u001b[43mnew_prompt\u001b[49m\u001b[43m,\u001b[49m\u001b[43m \u001b[49m\u001b[43mlow_res_masks\u001b[49m\u001b[43m)\u001b[49m\n\u001b[1;32m    187\u001b[0m prompts\u001b[38;5;241m.\u001b[39mappend(new_prompt)\n\u001b[1;32m    188\u001b[0m segmentation[improve_slices] \u001b[38;5;241m=\u001b[39m new_seg[improve_slices]\n",
      "File \u001b[0;32m~/Desktop/UniversalModels/Project/UniversalInterface/classes/SAMMed2DClass.py:207\u001b[0m, in \u001b[0;36mSAMMed2DInferer.predict\u001b[0;34m(self, img, prompt, mask_dict, return_logits, return_low_res_logits)\u001b[0m\n\u001b[1;32m    205\u001b[0m \u001b[38;5;66;03m# Get prompts\u001b[39;00m\n\u001b[1;32m    206\u001b[0m slice_points, slice_box, \u001b[38;5;241m=\u001b[39m \u001b[38;5;28;01mNone\u001b[39;00m, \u001b[38;5;28;01mNone\u001b[39;00m \u001b[38;5;66;03m# Initialise to empty\u001b[39;00m\n\u001b[0;32m--> 207\u001b[0m slice_mask \u001b[38;5;241m=\u001b[39m torch\u001b[38;5;241m.\u001b[39mfrom_numpy(mask_dict[slice_idx])\u001b[38;5;241m.\u001b[39mto(\u001b[38;5;28mself\u001b[39m\u001b[38;5;241m.\u001b[39mdevice)\u001b[38;5;241m.\u001b[39munsqueeze(\u001b[38;5;241m0\u001b[39m)\u001b[38;5;241m.\u001b[39munsqueeze(\u001b[38;5;241m0\u001b[39m) \u001b[38;5;28;01mif\u001b[39;00m slice_idx \u001b[38;5;129;01min\u001b[39;00m \u001b[43mmask_dict\u001b[49m\u001b[38;5;241;43m.\u001b[39;49m\u001b[43mkeys\u001b[49m() \u001b[38;5;28;01melse\u001b[39;00m \u001b[38;5;28;01mNone\u001b[39;00m\n\u001b[1;32m    209\u001b[0m \u001b[38;5;28;01mif\u001b[39;00m \u001b[38;5;28misinstance\u001b[39m(prompt, Points):\n\u001b[1;32m    210\u001b[0m     slice_points \u001b[38;5;241m=\u001b[39m preprocessed_prompt_dict[slice_idx]\n",
      "\u001b[0;31mAttributeError\u001b[0m: 'NoneType' object has no attribute 'keys'"
     ]
    }
   ],
   "source": [
    "# Iteratively improve previous segmentation (from point propagation)\n",
    "seed = 11121\n",
    "n_clicks = 5\n",
    "\n",
    "# Get seed prompt and bounds\n",
    "seed_point = prUt.get_seed_point(gt, n_clicks, seed)\n",
    "slices_to_infer = np.where(np.any(gt, axis=(1,2)))[0]\n",
    "\n",
    "segmentation, prompt = prUt.point_propagation(inferer, img, seed_point, slices_to_infer, seed, n_clicks)\n",
    "\n",
    "initial_prompt = prompt\n",
    "condition = 'dof'\n",
    "dof_bound = 90\n",
    "dice_scores, dof, segmentations, prompts = iterate_2d(inferer, img, gt, segmentation, initial_prompt, inferer.pass_prev_prompts,\n",
    "                                                      scribble_length = 0.6, contour_distance = 3, disk_size_range= (0,3),\n",
    "                                                      init_dof = 5, dof_bound = dof_bound, seed = seed, detailed = True)"
   ]
  },
  {
   "cell_type": "code",
   "execution_count": 11,
   "metadata": {},
   "outputs": [
    {
     "name": "stderr",
     "output_type": "stream",
     "text": [
      "Propagating down: 100%|██████████| 12/12 [00:00<00:00, 120.14it/s]\n",
      "Propagating up: 100%|██████████| 12/12 [00:00<00:00, 66.52it/s]\n"
     ]
    },
    {
     "name": "stdout",
     "output_type": "stream",
     "text": [
      "0.5264982538428203\n"
     ]
    }
   ],
   "source": [
    "# Experiment: Box propagation\n",
    "\n",
    "seed_box = prUt.get_seed_box(gt)\n",
    "slices_to_infer = np.where(np.any(gt, axis=(1,2)))[0]\n",
    "\n",
    "segmentation, prompt = prUt.box_propagation(inferer, img, seed_box, slices_to_infer)\n",
    "\n",
    "print(anUt.compute_dice(gt,segmentation))"
   ]
  }
 ],
 "metadata": {
  "kernelspec": {
   "display_name": "universalModels",
   "language": "python",
   "name": "python3"
  },
  "language_info": {
   "codemirror_mode": {
    "name": "ipython",
    "version": 3
   },
   "file_extension": ".py",
   "mimetype": "text/x-python",
   "name": "python",
   "nbconvert_exporter": "python",
   "pygments_lexer": "ipython3",
   "version": "3.12.2"
  }
 },
 "nbformat": 4,
 "nbformat_minor": 2
}
