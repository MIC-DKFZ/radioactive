{
 "cells": [
  {
   "cell_type": "code",
   "execution_count": 37,
   "metadata": {},
   "outputs": [],
   "source": [
    "import os\n",
    "import numpy as np\n",
    "from utils.image import read_reorient_nifti"
   ]
  },
  {
   "cell_type": "code",
   "execution_count": 39,
   "metadata": {},
   "outputs": [],
   "source": [
    "def get_imgs_gts(dataset_dir):\n",
    "    imgs_gts = []\n",
    "    for suffix in ['Tr', 'Ts']:\n",
    "        images_dir = os.path.join(dataset_dir, 'images' + suffix)\n",
    "        labels_dir = os.path.join(dataset_dir, 'labels' + suffix)\n",
    "        imgs_gts.extend([\n",
    "            (os.path.join(images_dir, img_path), os.path.join(labels_dir, img_path.removesuffix('_0000.nii.gz') + '.nii.gz'))\n",
    "            for img_path in os.listdir(images_dir)  # Adjust the extension as needed\n",
    "            # if os.path.exists(os.path.join(labels_dir, img_path.removesuffix('_0000.nii.gz') + '.nii.gz')) # Remove check. All the files should exist.\n",
    "        ])\n",
    "\n",
    "    return(imgs_gts)"
   ]
  },
  {
   "cell_type": "code",
   "execution_count": 56,
   "metadata": {},
   "outputs": [],
   "source": [
    "import nibabel as nib\n",
    "\n",
    "# Merge segmentations into one\n",
    "results_dir = '/home/t722s/Desktop/ExperimentResults_lesions/sammed2d_infer_max_sub_20240726_1714/'\n",
    "seg_dirs = [os.path.join(results_dir, f) for f in os.listdir(results_dir)]\n",
    "seg_dirs = [d for d in seg_dirs if os.path.isdir(d)] # Subset to folders\n",
    "\n",
    "for seg_dir in seg_dirs:\n",
    "    segs = [os.path.join(seg_dir, f) for f in os.listdir(seg_dir)]\n",
    "\n",
    "    summed_image = None\n",
    "\n",
    "    for seg_path in segs:\n",
    "        # Load the NIfTI file using nibabel\n",
    "        img = nib.load(seg_path)\n",
    "        img_data = img.get_fdata()\n",
    "        \n",
    "        if summed_image is None:\n",
    "            # Initialize the summed_image with the first image data\n",
    "            summed_image = img_data.copy()\n",
    "        else:\n",
    "            # Check if the current image has the same shape as the summed_image\n",
    "            if img_data.shape != summed_image.shape:\n",
    "                raise ValueError(\"All images must have the same dimensions\")\n",
    "            # Add the current image data to the summed_image\n",
    "            summed_image += img_data\n",
    "\n",
    "    merged_image = np.where(summed_image>0, 1, 0)\n",
    "\n",
    "    merged_nifti = nib.Nifti1Image(merged_image, affine=img.affine, header=img.header)\n",
    "    merged_nifti.to_filename(os.path.join(seg_dir, 'merged_seg.nii.gz'))\n",
    "\n"
   ]
  },
  {
   "cell_type": "code",
   "execution_count": 50,
   "metadata": {},
   "outputs": [
    {
     "data": {
      "text/plain": [
       "'0000380855_Baseline'"
      ]
     },
     "execution_count": 50,
     "metadata": {},
     "output_type": "execute_result"
    }
   ],
   "source": [
    "os.path.basename(seg_dir)"
   ]
  },
  {
   "cell_type": "code",
   "execution_count": 49,
   "metadata": {},
   "outputs": [
    {
     "data": {
      "text/plain": [
       "'/home/t722s/Desktop/ExperimentResults_lesions/sammed2d_infer_max_sub_20240726_1714/0000380855_Baseline'"
      ]
     },
     "execution_count": 49,
     "metadata": {},
     "output_type": "execute_result"
    }
   ],
   "source": [
    "seg_dir"
   ]
  }
 ],
 "metadata": {
  "kernelspec": {
   "display_name": "universalModels",
   "language": "python",
   "name": "python3"
  },
  "language_info": {
   "codemirror_mode": {
    "name": "ipython",
    "version": 3
   },
   "file_extension": ".py",
   "mimetype": "text/x-python",
   "name": "python",
   "nbconvert_exporter": "python",
   "pygments_lexer": "ipython3",
   "version": "3.12.2"
  }
 },
 "nbformat": 4,
 "nbformat_minor": 2
}
