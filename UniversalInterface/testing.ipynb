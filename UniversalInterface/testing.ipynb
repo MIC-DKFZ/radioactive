{
 "cells": [
  {
   "cell_type": "code",
   "execution_count": 104,
   "metadata": {},
   "outputs": [],
   "source": [
    "import os\n",
    "import numpy as np\n",
    "from utils.image import read_reorient_nifti\n",
    "import nibabel as nib\n",
    "from utils.analysis import compute_dice\n",
    "import json"
   ]
  },
  {
   "cell_type": "code",
   "execution_count": 105,
   "metadata": {},
   "outputs": [],
   "source": [
    "res_dir = '/media/t722s/2.0 TB Hard Disk/lesions_experiments_20240729/'\n",
    "data_dir = '/home/t722s/Desktop/Datasets/melanoma_HD'"
   ]
  },
  {
   "cell_type": "code",
   "execution_count": 152,
   "metadata": {},
   "outputs": [],
   "source": [
    "models = ['sam', 'medsam', 'sammed2d']\n",
    "splits = ['Tr', 'Ts']\n",
    "zeros = {}\n",
    "for model in models:\n",
    "    with open('/media/t722s/2.0 TB Hard Disk/lesions_experiments_20240729/' + model + '_melanoma_HD/results.json', 'r') as f:\n",
    "                results = json.load(f)\n",
    "    zeros[model] = {\n",
    "        os.path.join('labels' + split,filename): instances\n",
    "        for split in ['Tr', 'Ts']\n",
    "        for filename, instances in results[split].items()\n",
    "        if any(score is None for score in instances.values()) \n",
    "    }"
   ]
  },
  {
   "cell_type": "code",
   "execution_count": 153,
   "metadata": {},
   "outputs": [
    {
     "data": {
      "text/plain": [
       "{'sam': {'labelsTr/0001996954_Follow-Up_2.nii.gz': {'1': 0.788235294117647,\n",
       "   '2': 0.6836938580488229,\n",
       "   '4': 0.6791666666666667,\n",
       "   '5': 0.583941605839416,\n",
       "   '7': 0.5907158836689038,\n",
       "   '8': 0.7067750677506776,\n",
       "   '9': 0.7794719226478245,\n",
       "   '10': 0.6537732271520668,\n",
       "   '11': 0.6959349593495935,\n",
       "   '12': 0.7427055702917772,\n",
       "   '13': 0.6492618917441225,\n",
       "   '15': None,\n",
       "   '16': 0.7968683043211378,\n",
       "   '18': 0.7439791082309701,\n",
       "   '19': 0.7791164658634538,\n",
       "   '20': 0.6286644951140065,\n",
       "   '25': 0.46334824640991146,\n",
       "   '26': 0.5210638386706192,\n",
       "   '27': 0.6024012769796655,\n",
       "   '28': 0.6907216494845361,\n",
       "   '29': 0.8441791482037573,\n",
       "   '30': 0.5194616224081484,\n",
       "   '31': 0.7690750860149768,\n",
       "   '32': 0.5899714376388449,\n",
       "   '33': 0.7696481812760883,\n",
       "   '34': 0.6838323353293413,\n",
       "   '35': 0.7496087636932708,\n",
       "   '37': 0.7135231316725978,\n",
       "   '40': 0.6504559270516718,\n",
       "   '41': 0.6839062975357468,\n",
       "   '42': 0.7560202043932809,\n",
       "   '43': 0.6765982065374603,\n",
       "   'all': 0.15593751891127985},\n",
       "  'labelsTr/0000588417_Follow-Up_1.nii.gz': {'all': None},\n",
       "  'labelsTr/0000588417_Follow-Up_2.nii.gz': {'all': None},\n",
       "  'labelsTs/0002067941_Follow-Up_22.nii.gz': {'all': None},\n",
       "  'labelsTs/0002067941_Follow-Up_23.nii.gz': {'all': None},\n",
       "  'labelsTs/0002067941_Follow-Up_19.nii.gz': {'all': None},\n",
       "  'labelsTs/0002067941_Follow-Up_21.nii.gz': {'all': None},\n",
       "  'labelsTs/0002067941_Follow-Up_24.nii.gz': {'all': None}},\n",
       " 'medsam': {'labelsTr/0000588417_Follow-Up_1.nii.gz': {'all': None},\n",
       "  'labelsTr/0000588417_Follow-Up_2.nii.gz': {'all': None},\n",
       "  'labelsTs/0002067941_Follow-Up_22.nii.gz': {'all': None},\n",
       "  'labelsTs/0002067941_Follow-Up_23.nii.gz': {'all': None},\n",
       "  'labelsTs/0002067941_Follow-Up_19.nii.gz': {'all': None},\n",
       "  'labelsTs/0002067941_Follow-Up_21.nii.gz': {'all': None},\n",
       "  'labelsTs/0002067941_Follow-Up_24.nii.gz': {'all': None}},\n",
       " 'sammed2d': {'labelsTr/0000588417_Follow-Up_1.nii.gz': {'all': None},\n",
       "  'labelsTr/0000588417_Follow-Up_2.nii.gz': {'all': None},\n",
       "  'labelsTs/0002067941_Follow-Up_22.nii.gz': {'all': None},\n",
       "  'labelsTs/0002067941_Follow-Up_23.nii.gz': {'all': None},\n",
       "  'labelsTs/0002067941_Follow-Up_19.nii.gz': {'all': None},\n",
       "  'labelsTs/0002067941_Follow-Up_21.nii.gz': {'all': None},\n",
       "  'labelsTs/0002067941_Follow-Up_24.nii.gz': {'all': None}}}"
      ]
     },
     "execution_count": 153,
     "metadata": {},
     "output_type": "execute_result"
    }
   ],
   "source": [
    "zeros"
   ]
  },
  {
   "cell_type": "code",
   "execution_count": 144,
   "metadata": {},
   "outputs": [
    {
     "data": {
      "text/plain": [
       "{1, 2}"
      ]
     },
     "execution_count": 144,
     "metadata": {},
     "output_type": "execute_result"
    }
   ],
   "source": [
    "{0,1,2}.intersection({1,2,3})"
   ]
  },
  {
   "cell_type": "code",
   "execution_count": 147,
   "metadata": {},
   "outputs": [],
   "source": [
    "all_0s = set(zeros['sam'].keys())\n",
    "# for model in models:\n",
    "#     all_0s = all_0s.intersection(set(zeros[model].keys()))"
   ]
  },
  {
   "cell_type": "code",
   "execution_count": 148,
   "metadata": {},
   "outputs": [
    {
     "data": {
      "text/plain": [
       "{'labelsTs/0002045557_Baseline.nii.gz'}"
      ]
     },
     "execution_count": 148,
     "metadata": {},
     "output_type": "execute_result"
    }
   ],
   "source": [
    "all_0s"
   ]
  },
  {
   "cell_type": "code",
   "execution_count": 134,
   "metadata": {},
   "outputs": [],
   "source": [
    "\n",
    "res_bad_all = {model:{split:{} for split in splits} for model in models}\n",
    "\n",
    "for model in models:\n",
    "    for split in splits:\n",
    "\n",
    "        with open('/media/t722s/2.0 TB Hard Disk/lesions_experiments_20240729/' + model + '_melanoma_HD/results.json', 'r') as f:\n",
    "            results = json.load(f)\n",
    "            results = results[split]\n",
    "        res_bad = {basename: {k:v for k,v in dice_scores.items() if v == 0}\n",
    "                for basename, dice_scores in results.items()}\n",
    "        res_bad = {os.path.join('labels' + split, k):v for k,v in res_bad.items() if len(v)>0}\n",
    "\n",
    "        res_bad_all[model][split] = res_bad\n",
    "    res_bad_all[model] = {basename:seg_res \n",
    "                          for split, splitdict in res_bad_all[model].items() \n",
    "                          for basename, seg_res in splitdict.items()}\n"
   ]
  },
  {
   "cell_type": "code",
   "execution_count": 135,
   "metadata": {},
   "outputs": [
    {
     "data": {
      "text/plain": [
       "{'sam': {'labelsTs/0002045557_Baseline.nii.gz': {'5': 0.0}},\n",
       " 'medsam': {'labelsTr/0002227163_Follow-Up_2.nii.gz': {'3': 0.0},\n",
       "  'labelsTr/0000402877_Follow-Up_1.nii.gz': {'5': 0.0},\n",
       "  'labelsTr/0000402877_Follow-Up_2.nii.gz': {'3': 0.0},\n",
       "  'labelsTr/0001646391_Baseline.nii.gz': {'4': 0.0, '6': 0.0},\n",
       "  'labelsTr/0002531979_Follow-Up_3.nii.gz': {'4': 0.0},\n",
       "  'labelsTr/0002178452_Follow-Up_1.nii.gz': {'4': 0.0},\n",
       "  'labelsTr/0001646391_Follow-Up_1.nii.gz': {'3': 0.0},\n",
       "  'labelsTr/0001646391_Follow-Up_2.nii.gz': {'4': 0.0},\n",
       "  'labelsTs/0002752644_Baseline.nii.gz': {'24': 0.0},\n",
       "  'labelsTs/0002674005_Follow-Up_1.nii.gz': {'2': 0.0},\n",
       "  'labelsTs/0002212009_Follow-Up_1.nii.gz': {'1': 0.0, 'all': 0.0},\n",
       "  'labelsTs/0002677387_Follow-Up_2.nii.gz': {'10': 0.0, '12': 0.0},\n",
       "  'labelsTs/0002764960_Follow-Up_2.nii.gz': {'1': 0.0,\n",
       "   '2': 0.0,\n",
       "   '4': 0.0,\n",
       "   '5': 0.0},\n",
       "  'labelsTs/0002627385_Follow-Up_1.nii.gz': {'21': 0.0, '22': 0.0, '26': 0.0},\n",
       "  'labelsTs/0002955329_Baseline.nii.gz': {'6': 0.0},\n",
       "  'labelsTs/0002212009_Follow-Up_2.nii.gz': {'1': 0.0, 'all': 0.0},\n",
       "  'labelsTs/0002677387_Baseline.nii.gz': {'12': 0.0},\n",
       "  'labelsTs/0002695671_Follow-Up_1.nii.gz': {'2': 0.0},\n",
       "  'labelsTs/0002045557_Follow-Up_1.nii.gz': {'11': 0.0},\n",
       "  'labelsTs/0001621240_Follow-Up_1.nii.gz': {'2': 0.0},\n",
       "  'labelsTs/0002891511_Baseline.nii.gz': {'6': 0.0},\n",
       "  'labelsTs/0001519349_Follow-Up_2.nii.gz': {'9': 0.0},\n",
       "  'labelsTs/0001171964_Baseline.nii.gz': {'2': 0.0},\n",
       "  'labelsTs/0002677387_Follow-Up_1.nii.gz': {'12': 0.0},\n",
       "  'labelsTs/0002689738_Follow-Up_1.nii.gz': {'4': 0.0},\n",
       "  'labelsTs/0002689738_Follow-Up_2.nii.gz': {'10': 0.0},\n",
       "  'labelsTs/0002740816_Baseline.nii.gz': {'9': 0.0},\n",
       "  'labelsTs/0002600007_Follow-Up_1.nii.gz': {'6': 0.0}},\n",
       " 'sammed2d': {'labelsTr/0002227163_Follow-Up_2.nii.gz': {'3': 0.0},\n",
       "  'labelsTr/0002096839_Follow-Up_1.nii.gz': {'1': 0.0},\n",
       "  'labelsTr/0002827734_Follow-Up_1.nii.gz': {'3': 0.0},\n",
       "  'labelsTr/0001614111_Baseline.nii.gz': {'9': 0.0},\n",
       "  'labelsTr/0002167810_Follow-Up_1.nii.gz': {'2': 0.0},\n",
       "  'labelsTr/0002227038_Follow-Up_2.nii.gz': {'11': 0.0, '18': 0.0, '19': 0.0},\n",
       "  'labelsTr/0000402877_Follow-Up_1.nii.gz': {'5': 0.0},\n",
       "  'labelsTr/0000402877_Follow-Up_2.nii.gz': {'1': 0.0, '2': 0.0, '5': 0.0},\n",
       "  'labelsTr/0001646391_Baseline.nii.gz': {'4': 0.0, '6': 0.0},\n",
       "  'labelsTr/0002736700_Follow-Up_2.nii.gz': {'2': 0.0, 'all': 0.0},\n",
       "  'labelsTr/0001996954_Baseline.nii.gz': {'23': 0.0, '24': 0.0, '44': 0.0},\n",
       "  'labelsTr/0001996954_Follow-Up_2.nii.gz': {'5': 0.0, '28': 0.0},\n",
       "  'labelsTr/0002958802_Baseline.nii.gz': {'12': 0.0, '13': 0.0, '14': 0.0},\n",
       "  'labelsTr/0002531979_Follow-Up_3.nii.gz': {'1': 0.0},\n",
       "  'labelsTr/0001719219_Baseline.nii.gz': {'4': 0.0, '12': 0.0},\n",
       "  'labelsTr/0001719219_Follow-Up_1.nii.gz': {'3': 0.0, '4': 0.0},\n",
       "  'labelsTr/0002564879_Follow-Up_2.nii.gz': {'1': 0.0, 'all': 0.0},\n",
       "  'labelsTr/0001009210_Baseline.nii.gz': {'8': 0.0},\n",
       "  'labelsTr/0002771860_Baseline.nii.gz': {'7': 0.0},\n",
       "  'labelsTr/0001985456_Follow-Up_1.nii.gz': {'4': 0.0},\n",
       "  'labelsTr/0002849495_Baseline.nii.gz': {'5': 0.0},\n",
       "  'labelsTr/0002312599_Baseline.nii.gz': {'1': 0.0},\n",
       "  'labelsTr/0002312599_Follow-Up_1.nii.gz': {'1': 0.0, '2': 0.0},\n",
       "  'labelsTr/0002829492_Follow-Up_1.nii.gz': {'3': 0.0, '5': 0.0},\n",
       "  'labelsTr/0001614111_Follow-Up_1.nii.gz': {'8': 0.0},\n",
       "  'labelsTr/0000609537_Baseline.nii.gz': {'3': 0.0},\n",
       "  'labelsTr/0001009210_Follow-Up_1.nii.gz': {'1': 0.0, '6': 0.0, '9': 0.0},\n",
       "  'labelsTr/0001009210_Follow-Up_2.nii.gz': {'9': 0.0, '10': 0.0},\n",
       "  'labelsTr/0002233952_Baseline.nii.gz': {'9': 0.0},\n",
       "  'labelsTr/0002227038_Follow-Up_1.nii.gz': {'2': 0.0, '11': 0.0},\n",
       "  'labelsTr/0001646391_Follow-Up_1.nii.gz': {'2': 0.0,\n",
       "   '3': 0.0,\n",
       "   '4': 0.0,\n",
       "   '5': 0.0},\n",
       "  'labelsTr/0002256067_Follow-Up_1.nii.gz': {'1': 0.0},\n",
       "  'labelsTr/0001930003_Baseline.nii.gz': {'1': 0.0, '5': 0.0},\n",
       "  'labelsTs/0001732791_Follow-Up_1.nii.gz': {'5': 0.0, '9': 0.0},\n",
       "  'labelsTs/0002752644_Baseline.nii.gz': {'20': 0.0},\n",
       "  'labelsTs/0003064895_Baseline.nii.gz': {'5': 0.0},\n",
       "  'labelsTs/0002677384_Follow-Up_1.nii.gz': {'9': 0.0},\n",
       "  'labelsTs/0002677387_Follow-Up_2.nii.gz': {'5': 0.0,\n",
       "   '8': 0.0,\n",
       "   '9': 0.0,\n",
       "   '11': 0.0},\n",
       "  'labelsTs/0003008210_Baseline.nii.gz': {'11': 0.0},\n",
       "  'labelsTs/0002104001_Follow-Up_2.nii.gz': {'9': 0.0},\n",
       "  'labelsTs/0002740816_Follow-Up_1.nii.gz': {'4': 0.0,\n",
       "   '6': 0.0,\n",
       "   '7': 0.0,\n",
       "   '10': 0.0},\n",
       "  'labelsTs/0002552528_Baseline.nii.gz': {'7': 0.0},\n",
       "  'labelsTs/0001519349_Follow-Up_1.nii.gz': {'4': 0.0, '9': 0.0},\n",
       "  'labelsTs/0001067399_Baseline.nii.gz': {'7': 0.0},\n",
       "  'labelsTs/0001859253_Follow-Up_1.nii.gz': {'10': 0.0},\n",
       "  'labelsTs/0002205512_Follow-Up_2.nii.gz': {'7': 0.0},\n",
       "  'labelsTs/0001217163_Follow-Up_1.nii.gz': {'3': 0.0},\n",
       "  'labelsTs/0001217163_Follow-Up_2.nii.gz': {'10': 0.0},\n",
       "  'labelsTs/0002764960_Baseline.nii.gz': {'2': 0.0, '4': 0.0, '10': 0.0},\n",
       "  'labelsTs/0002764960_Follow-Up_2.nii.gz': {'5': 0.0, '9': 0.0},\n",
       "  'labelsTs/0002627385_Baseline.nii.gz': {'28': 0.0},\n",
       "  'labelsTs/0002627385_Follow-Up_1.nii.gz': {'8': 0.0,\n",
       "   '10': 0.0,\n",
       "   '12': 0.0,\n",
       "   '16': 0.0},\n",
       "  'labelsTs/0002955329_Baseline.nii.gz': {'4': 0.0,\n",
       "   '6': 0.0,\n",
       "   '12': 0.0,\n",
       "   '21': 0.0,\n",
       "   '23': 0.0,\n",
       "   '26': 0.0,\n",
       "   '35': 0.0,\n",
       "   '36': 0.0,\n",
       "   '37': 0.0},\n",
       "  'labelsTs/0002955329_Follow-Up_2.nii.gz': {'28': 0.0},\n",
       "  'labelsTs/0002674005_Baseline.nii.gz': {'4': 0.0},\n",
       "  'labelsTs/0002790368_Baseline.nii.gz': {'5': 0.0},\n",
       "  'labelsTs/0002677387_Baseline.nii.gz': {'11': 0.0},\n",
       "  'labelsTs/0002146674_Follow-Up_2.nii.gz': {'12': 0.0},\n",
       "  'labelsTs/0002695671_Follow-Up_1.nii.gz': {'1': 0.0,\n",
       "   '2': 0.0,\n",
       "   '3': 0.0,\n",
       "   'all': 0.0},\n",
       "  'labelsTs/0002045557_Baseline.nii.gz': {'7': 0.0, '10': 0.0},\n",
       "  'labelsTs/0002840641_Follow-Up_2.nii.gz': {'8': 0.0,\n",
       "   '10': 0.0,\n",
       "   '17': 0.0,\n",
       "   '21': 0.0},\n",
       "  'labelsTs/0001621240_Follow-Up_1.nii.gz': {'2': 0.0},\n",
       "  'labelsTs/0002177881_Baseline.nii.gz': {'6': 0.0, '8': 0.0},\n",
       "  'labelsTs/0002177881_Follow-Up_1.nii.gz': {'6': 0.0},\n",
       "  'labelsTs/0002177881_Follow-Up_2.nii.gz': {'8': 0.0, '10': 0.0},\n",
       "  'labelsTs/0000619581_Follow-Up_1.nii.gz': {'6': 0.0},\n",
       "  'labelsTs/0002104001_Baseline.nii.gz': {'3': 0.0, '11': 0.0},\n",
       "  'labelsTs/0002972701_Baseline.nii.gz': {'3': 0.0},\n",
       "  'labelsTs/0002972701_Follow-Up_1.nii.gz': {'1': 0.0},\n",
       "  'labelsTs/0002972701_Follow-Up_2.nii.gz': {'2': 0.0},\n",
       "  'labelsTs/0002891511_Baseline.nii.gz': {'5': 0.0,\n",
       "   '6': 0.0,\n",
       "   '8': 0.0,\n",
       "   '12': 0.0,\n",
       "   '13': 0.0},\n",
       "  'labelsTs/0002891511_Follow-Up_2.nii.gz': {'12': 0.0},\n",
       "  'labelsTs/0002276870_Baseline.nii.gz': {'4': 0.0, '7': 0.0, '17': 0.0},\n",
       "  'labelsTs/0002591127_Baseline.nii.gz': {'3': 0.0,\n",
       "   '6': 0.0,\n",
       "   '7': 0.0,\n",
       "   '10': 0.0,\n",
       "   '12': 0.0,\n",
       "   '17': 0.0},\n",
       "  'labelsTs/0002591127_Follow-Up_1.nii.gz': {'3': 0.0, '4': 0.0, '5': 0.0},\n",
       "  'labelsTs/0002591127_Follow-Up_2.nii.gz': {'3': 0.0},\n",
       "  'labelsTs/0001732791_Follow-Up_2.nii.gz': {'7': 0.0},\n",
       "  'labelsTs/0002806222_Baseline.nii.gz': {'2': 0.0},\n",
       "  'labelsTs/0000266360_Baseline.nii.gz': {'1': 0.0},\n",
       "  'labelsTs/0001519349_Follow-Up_2.nii.gz': {'10': 0.0},\n",
       "  'labelsTs/0001067399_Follow-Up_1.nii.gz': {'9': 0.0},\n",
       "  'labelsTs/0001067399_Follow-Up_2.nii.gz': {'1': 0.0, '2': 0.0},\n",
       "  'labelsTs/0001217163_Baseline.nii.gz': {'8': 0.0},\n",
       "  'labelsTs/0002266157_Follow-Up_1.nii.gz': {'9': 0.0},\n",
       "  'labelsTs/0002955329_Follow-Up_1.nii.gz': {'6': 0.0, '36': 0.0},\n",
       "  'labelsTs/0001171964_Baseline.nii.gz': {'6': 0.0},\n",
       "  'labelsTs/0002677384_Baseline.nii.gz': {'1': 0.0, '3': 0.0, '11': 0.0},\n",
       "  'labelsTs/0002138098_Baseline.nii.gz': {'3': 0.0, '5': 0.0},\n",
       "  'labelsTs/0002138098_Follow-Up_1.nii.gz': {'4': 0.0, '8': 0.0},\n",
       "  'labelsTs/0002923097_Baseline.nii.gz': {'8': 0.0},\n",
       "  'labelsTs/0002923097_Follow-Up_1.nii.gz': {'4': 0.0},\n",
       "  'labelsTs/0002677387_Follow-Up_1.nii.gz': {'8': 0.0, '9': 0.0},\n",
       "  'labelsTs/0002247524_Follow-Up_2.nii.gz': {'4': 0.0, '8': 0.0, '9': 0.0},\n",
       "  'labelsTs/0003008210_Follow-Up_1.nii.gz': {'3': 0.0},\n",
       "  'labelsTs/0002695671_Baseline.nii.gz': {'6': 0.0, '7': 0.0},\n",
       "  'labelsTs/0002840641_Baseline.nii.gz': {'8': 0.0, '11': 0.0, '21': 0.0},\n",
       "  'labelsTs/0002840641_Follow-Up_1.nii.gz': {'6': 0.0, '20': 0.0},\n",
       "  'labelsTs/0002689738_Baseline.nii.gz': {'4': 0.0},\n",
       "  'labelsTs/0002689738_Follow-Up_1.nii.gz': {'2': 0.0, '4': 0.0, '5': 0.0},\n",
       "  'labelsTs/0002689738_Follow-Up_2.nii.gz': {'1': 0.0,\n",
       "   '6': 0.0,\n",
       "   '8': 0.0,\n",
       "   '10': 0.0},\n",
       "  'labelsTs/0001621240_Baseline.nii.gz': {'2': 0.0, '5': 0.0},\n",
       "  'labelsTs/0002183469_Baseline.nii.gz': {'3': 0.0, '5': 0.0, '8': 0.0},\n",
       "  'labelsTs/0002276870_Follow-Up_1.nii.gz': {'20': 0.0, '38': 0.0},\n",
       "  'labelsTs/0002740816_Baseline.nii.gz': {'8': 0.0, '10': 0.0, '12': 0.0},\n",
       "  'labelsTs/0002600007_Baseline.nii.gz': {'19': 0.0, '22': 0.0},\n",
       "  'labelsTs/0002600007_Follow-Up_1.nii.gz': {'3': 0.0, '6': 0.0, '11': 0.0}}}"
      ]
     },
     "execution_count": 135,
     "metadata": {},
     "output_type": "execute_result"
    }
   ],
   "source": [
    "res_bad_all"
   ]
  },
  {
   "cell_type": "code",
   "execution_count": 136,
   "metadata": {},
   "outputs": [
    {
     "data": {
      "text/plain": [
       "{'labelsTs/0002045557_Baseline.nii.gz': {'5': 0.0}}"
      ]
     },
     "execution_count": 136,
     "metadata": {},
     "output_type": "execute_result"
    }
   ],
   "source": [
    "sam_bad = res_bad_all['sam']\n",
    "medsam_bad = res_bad_all['medsam']\n",
    "sammed2d_bad = res_bad_all['sammed2d']\n",
    "\n",
    "gt_instance_pairs = {}\n",
    "for model in models:\n",
    "    model_bad = res_bad_all['model']\n",
    "    gt_instances_model = {}\n"
   ]
  },
  {
   "cell_type": "code",
   "execution_count": null,
   "metadata": {},
   "outputs": [],
   "source": [
    "split = 'Ts'\n",
    "model = 'sam'"
   ]
  }
 ],
 "metadata": {
  "kernelspec": {
   "display_name": "universalModels",
   "language": "python",
   "name": "python3"
  },
  "language_info": {
   "codemirror_mode": {
    "name": "ipython",
    "version": 3
   },
   "file_extension": ".py",
   "mimetype": "text/x-python",
   "name": "python",
   "nbconvert_exporter": "python",
   "pygments_lexer": "ipython3",
   "version": "3.12.2"
  }
 },
 "nbformat": 4,
 "nbformat_minor": 2
}
