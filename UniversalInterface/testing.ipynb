{
 "cells": [
  {
   "cell_type": "code",
   "execution_count": 11,
   "metadata": {},
   "outputs": [],
   "source": [
    "import numpy as np\n",
    "import utils.prompt as prUt\n",
    "import torch\n",
    "from utils.base_classes import Points\n",
    "\n"
   ]
  },
  {
   "cell_type": "code",
   "execution_count": 5,
   "metadata": {},
   "outputs": [
    {
     "name": "stderr",
     "output_type": "stream",
     "text": [
      "INFO:albumentations.check_version:A new version of Albumentations is available: 1.4.10 (you have 1.4.8). Upgrade using: pip install --upgrade albumentations\n"
     ]
    },
    {
     "name": "stdout",
     "output_type": "stream",
     "text": [
      "True\n",
      "*******load /home/t722s/Desktop/UniversalModels/TrainedModels/sam-med2d_b.pth\n"
     ]
    },
    {
     "name": "stderr",
     "output_type": "stream",
     "text": [
      "Propagating down: 100%|██████████| 22/22 [00:01<00:00, 21.50it/s]\n",
      "Propagating up: 100%|██████████| 22/22 [00:01<00:00, 21.96it/s]\n"
     ]
    },
    {
     "name": "stdout",
     "output_type": "stream",
     "text": [
      "0.8177772392806715\n"
     ]
    }
   ],
   "source": [
    "# Get initial segmentation\n",
    "from classes.SAMMed2DClass_unstable import SAMMed2DInferer\n",
    "import utils.analysis as anUt\n",
    "import utils.prompt as prUt\n",
    "from utils.image import read_im_gt\n",
    "from utils.interactivity import iterate_2d\n",
    "\n",
    "# Obtain model, image, gt\n",
    "device = 'cuda'\n",
    "sammed2d_checkpoint_path = \"/home/t722s/Desktop/UniversalModels/TrainedModels/sam-med2d_b.pth\"\n",
    "sammed2d_inferer = SAMMed2DInferer(sammed2d_checkpoint_path, device)\n",
    "\n",
    "img_path = '/home/t722s/Desktop/Datasets/Dataset350_AbdomenAtlasJHU_2img/imagesTr/BDMAP_00000001_0000.nii.gz'\n",
    "gt_path = '/home/t722s/Desktop/Datasets/Dataset350_AbdomenAtlasJHU_2img/labelsTr/BDMAP_00000001.nii.gz'\n",
    "img, gt = read_im_gt(img_path, gt_path, 3)\n",
    "\n",
    "# Obtain initial segmentation: Point propagation\n",
    "\n",
    "seed = 11121\n",
    "n_clicks = 5\n",
    "\n",
    "# Get seed prompt and bounds\n",
    "seed_point = prUt.get_seed_point(gt, n_clicks, seed)\n",
    "slices_to_infer = np.where(np.any(gt, axis=(1,2)))[0]\n",
    "\n",
    "segmentation, intial_prompt = prUt.point_propagation(sammed2d_inferer, img, seed_point, slices_to_infer, seed, n_clicks)\n",
    "print(anUt.compute_dice(gt,segmentation))\n"
   ]
  },
  {
   "cell_type": "code",
   "execution_count": 17,
   "metadata": {},
   "outputs": [
    {
     "name": "stdout",
     "output_type": "stream",
     "text": [
      "0.8100428200388422\n",
      "0.8168069928284744\n",
      "0.8193945832127969\n",
      "0.8209056779737632\n",
      "0.8210853952797726\n",
      "0.8184585818801077\n",
      "0.805741004190195\n",
      "0.806110206112157\n",
      "degrees of freedom bound met; terminating with performance 0.806110206112157\n"
     ]
    }
   ],
   "source": [
    "# Iteratively improve\n",
    "condition = 'dof'\n",
    "dof_bound = 90\n",
    "seed_sub = np.random.randint(10**5)\n",
    "segmentation, dof, segmentations, prompts, max_fp_idxs = iterate_2d(sammed2d_inferer, img, gt, segmentation, intial_prompt, \n",
    "                                                                         condition = 'dof', init_dof = 5, dof_bound = dof_bound, seed = seed_sub, detailed = True)"
   ]
  },
  {
   "cell_type": "code",
   "execution_count": null,
   "metadata": {},
   "outputs": [],
   "source": [
    "# import numpy as np\n",
    "# import matplotlib.pyplot as plt\n",
    "# def show_mask(mask, ax, random_color=False):\n",
    "#     if random_color:\n",
    "#         color = np.concatenate([np.random.random(3), np.array([0.6])], axis=0)\n",
    "#     else:\n",
    "#         color = np.array([30/255, 144/255, 255/255, 0.6])\n",
    "\n",
    "#     h, w = mask.shape[-2:]\n",
    "#     mask_image = mask.reshape(h, w, 1) * color.reshape(1, 1, -1)\n",
    "#     ax.imshow(mask_image)\n",
    "# # Visualise\n",
    "# plt.figure(figsize = (13,13))\n",
    "# plt.imshow(max_fp_slice, cmap = 'gray')\n",
    "# show_mask(slice_seg, plt.gca())\n",
    "# # contour_rounded = np.round(contour).astype(int)\n",
    "# # plt.scatter(contour_rounded[:,1], contour_rounded[:,0], c= 'green', s = 10)\n",
    "# plt.scatter(scribble_coords[:,1], scribble_coords[:,0], c = 'red', s = 2)"
   ]
  },
  {
   "cell_type": "code",
   "execution_count": 14,
   "metadata": {},
   "outputs": [
    {
     "ename": "NameError",
     "evalue": "name 'max_fp_slices' is not defined",
     "output_type": "error",
     "traceback": [
      "\u001b[0;31m---------------------------------------------------------------------------\u001b[0m",
      "\u001b[0;31mNameError\u001b[0m                                 Traceback (most recent call last)",
      "Cell \u001b[0;32mIn[14], line 1\u001b[0m\n\u001b[0;32m----> 1\u001b[0m \u001b[38;5;28;01mfor\u001b[39;00m seg, max_fp_slice \u001b[38;5;129;01min\u001b[39;00m \u001b[38;5;28mzip\u001b[39m(segmentations, \u001b[43mmax_fp_slices\u001b[49m):\n\u001b[1;32m      2\u001b[0m     \u001b[38;5;66;03m# Visualise\u001b[39;00m\n\u001b[1;32m      3\u001b[0m     plt\u001b[38;5;241m.\u001b[39mfigure(figsize \u001b[38;5;241m=\u001b[39m (\u001b[38;5;241m13\u001b[39m,\u001b[38;5;241m13\u001b[39m))\n\u001b[1;32m      4\u001b[0m     plt\u001b[38;5;241m.\u001b[39mimshow(max_fp_slice, cmap \u001b[38;5;241m=\u001b[39m \u001b[38;5;124m'\u001b[39m\u001b[38;5;124mgray\u001b[39m\u001b[38;5;124m'\u001b[39m)\n",
      "\u001b[0;31mNameError\u001b[0m: name 'max_fp_slices' is not defined"
     ]
    }
   ],
   "source": [
    "# for seg, max_fp_idx in zip(segmentations, max_fp_idx):\n",
    "#     slice_seg = seg[:, max_fp_idx]\n",
    "#     max_fp_slice = gt[:, max_fp_idx]\n",
    "#     # Visualise\n",
    "#     plt.figure(figsize = (13,13))\n",
    "#     plt.imshow(max_fp_slice, cmap = 'gray')\n",
    "#     show_mask(slice_seg, plt.gca())\n",
    "#     # contour_rounded = np.round(contour).astype(int)\n",
    "#     # plt.scatter(contour_rounded[:,1], contour_rounded[:,0], c= 'green', s = 10)\n",
    "#     plt.scatter(scribble_coords[:,1], scribble_coords[:,0], c = 'red', s = 2)"
   ]
  }
 ],
 "metadata": {
  "kernelspec": {
   "display_name": "universalModels",
   "language": "python",
   "name": "python3"
  },
  "language_info": {
   "codemirror_mode": {
    "name": "ipython",
    "version": 3
   },
   "file_extension": ".py",
   "mimetype": "text/x-python",
   "name": "python",
   "nbconvert_exporter": "python",
   "pygments_lexer": "ipython3",
   "version": "3.12.2"
  }
 },
 "nbformat": 4,
 "nbformat_minor": 2
}
