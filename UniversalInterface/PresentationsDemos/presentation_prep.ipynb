{
 "cells": [
  {
   "cell_type": "code",
   "execution_count": 3,
   "metadata": {},
   "outputs": [],
   "source": [
    "import subprocess\n",
    "import json\n",
    "import numpy as np\n",
    "import pickle\n",
    "from collections import defaultdict\n"
   ]
  },
  {
   "cell_type": "code",
   "execution_count": 4,
   "metadata": {},
   "outputs": [],
   "source": [
    "n_run = 100\n"
   ]
  },
  {
   "cell_type": "code",
   "execution_count": 51,
   "metadata": {},
   "outputs": [
    {
     "ename": "KeyboardInterrupt",
     "evalue": "",
     "output_type": "error",
     "traceback": [
      "\u001b[0;31m---------------------------------------------------------------------------\u001b[0m",
      "\u001b[0;31mKeyboardInterrupt\u001b[0m                         Traceback (most recent call last)",
      "Cell \u001b[0;32mIn[51], line 10\u001b[0m\n\u001b[1;32m      3\u001b[0m \u001b[38;5;28;01mfor\u001b[39;00m seed \u001b[38;5;129;01min\u001b[39;00m np\u001b[38;5;241m.\u001b[39mrandom\u001b[38;5;241m.\u001b[39mrandint(\u001b[38;5;241m10\u001b[39m\u001b[38;5;241m*\u001b[39m\u001b[38;5;241m*\u001b[39m\u001b[38;5;241m6\u001b[39m, size \u001b[38;5;241m=\u001b[39m n_run):\n\u001b[1;32m      4\u001b[0m     subprocess_args \u001b[38;5;241m=\u001b[39m [\u001b[38;5;124m'\u001b[39m\u001b[38;5;124mpython\u001b[39m\u001b[38;5;124m'\u001b[39m, \u001b[38;5;124m'\u001b[39m\u001b[38;5;124m/home/t722s/Desktop/UniversalModels/OtherRepos/SAM-Med3D/validation.py\u001b[39m\u001b[38;5;124m'\u001b[39m, \n\u001b[1;32m      5\u001b[0m                         \u001b[38;5;124m'\u001b[39m\u001b[38;5;124m--seed\u001b[39m\u001b[38;5;124m'\u001b[39m, \u001b[38;5;28mstr\u001b[39m(seed),\n\u001b[1;32m      6\u001b[0m                         \u001b[38;5;124m'\u001b[39m\u001b[38;5;124m-vp\u001b[39m\u001b[38;5;124m'\u001b[39m, \u001b[38;5;124m'\u001b[39m\u001b[38;5;124m/home/t722s/Desktop/Sam-Med3DTest/BratsMiniOld\u001b[39m\u001b[38;5;124m'\u001b[39m,\n\u001b[1;32m      7\u001b[0m                         \u001b[38;5;124m'\u001b[39m\u001b[38;5;124m-cp\u001b[39m\u001b[38;5;124m'\u001b[39m, \u001b[38;5;124m'\u001b[39m\u001b[38;5;124m/home/t722s/Desktop/UniversalModels/TrainedModels/sam_med3d.pth\u001b[39m\u001b[38;5;124m'\u001b[39m,\n\u001b[1;32m      8\u001b[0m                         \u001b[38;5;124m'\u001b[39m\u001b[38;5;124m-tdp\u001b[39m\u001b[38;5;124m'\u001b[39m, \u001b[38;5;124m'\u001b[39m\u001b[38;5;124m/home/t722s/Desktop/Datasets/BratsMiniOld/\u001b[39m\u001b[38;5;124m'\u001b[39m,\n\u001b[1;32m      9\u001b[0m                         \u001b[38;5;124m'\u001b[39m\u001b[38;5;124m--save_name\u001b[39m\u001b[38;5;124m'\u001b[39m, \u001b[38;5;124m'\u001b[39m\u001b[38;5;124m/home/t722s/Desktop/Sam-Med3DTest/evalBrats/old.py\u001b[39m\u001b[38;5;124m'\u001b[39m]\n\u001b[0;32m---> 10\u001b[0m     \u001b[43msubprocess\u001b[49m\u001b[38;5;241;43m.\u001b[39;49m\u001b[43mrun\u001b[49m\u001b[43m(\u001b[49m\u001b[43msubprocess_args\u001b[49m\u001b[43m,\u001b[49m\n\u001b[1;32m     11\u001b[0m \u001b[43m                    \u001b[49m\u001b[43mstdout\u001b[49m\u001b[38;5;241;43m=\u001b[39;49m\u001b[43msubprocess\u001b[49m\u001b[38;5;241;43m.\u001b[39;49m\u001b[43mDEVNULL\u001b[49m\u001b[43m,\u001b[49m\u001b[43m \u001b[49m\n\u001b[1;32m     12\u001b[0m \u001b[43m                    \u001b[49m\u001b[43mstderr\u001b[49m\u001b[38;5;241;43m=\u001b[39;49m\u001b[43msubprocess\u001b[49m\u001b[38;5;241;43m.\u001b[39;49m\u001b[43mDEVNULL\u001b[49m\u001b[43m)\u001b[49m\n",
      "File \u001b[0;32m~/anaconda3/envs/universalModels/lib/python3.11/subprocess.py:550\u001b[0m, in \u001b[0;36mrun\u001b[0;34m(input, capture_output, timeout, check, *popenargs, **kwargs)\u001b[0m\n\u001b[1;32m    548\u001b[0m \u001b[38;5;28;01mwith\u001b[39;00m Popen(\u001b[38;5;241m*\u001b[39mpopenargs, \u001b[38;5;241m*\u001b[39m\u001b[38;5;241m*\u001b[39mkwargs) \u001b[38;5;28;01mas\u001b[39;00m process:\n\u001b[1;32m    549\u001b[0m     \u001b[38;5;28;01mtry\u001b[39;00m:\n\u001b[0;32m--> 550\u001b[0m         stdout, stderr \u001b[38;5;241m=\u001b[39m \u001b[43mprocess\u001b[49m\u001b[38;5;241;43m.\u001b[39;49m\u001b[43mcommunicate\u001b[49m\u001b[43m(\u001b[49m\u001b[38;5;28;43minput\u001b[39;49m\u001b[43m,\u001b[49m\u001b[43m \u001b[49m\u001b[43mtimeout\u001b[49m\u001b[38;5;241;43m=\u001b[39;49m\u001b[43mtimeout\u001b[49m\u001b[43m)\u001b[49m\n\u001b[1;32m    551\u001b[0m     \u001b[38;5;28;01mexcept\u001b[39;00m TimeoutExpired \u001b[38;5;28;01mas\u001b[39;00m exc:\n\u001b[1;32m    552\u001b[0m         process\u001b[38;5;241m.\u001b[39mkill()\n",
      "File \u001b[0;32m~/anaconda3/envs/universalModels/lib/python3.11/subprocess.py:1201\u001b[0m, in \u001b[0;36mPopen.communicate\u001b[0;34m(self, input, timeout)\u001b[0m\n\u001b[1;32m   1199\u001b[0m         stderr \u001b[38;5;241m=\u001b[39m \u001b[38;5;28mself\u001b[39m\u001b[38;5;241m.\u001b[39mstderr\u001b[38;5;241m.\u001b[39mread()\n\u001b[1;32m   1200\u001b[0m         \u001b[38;5;28mself\u001b[39m\u001b[38;5;241m.\u001b[39mstderr\u001b[38;5;241m.\u001b[39mclose()\n\u001b[0;32m-> 1201\u001b[0m     \u001b[38;5;28;43mself\u001b[39;49m\u001b[38;5;241;43m.\u001b[39;49m\u001b[43mwait\u001b[49m\u001b[43m(\u001b[49m\u001b[43m)\u001b[49m\n\u001b[1;32m   1202\u001b[0m \u001b[38;5;28;01melse\u001b[39;00m:\n\u001b[1;32m   1203\u001b[0m     \u001b[38;5;28;01mif\u001b[39;00m timeout \u001b[38;5;129;01mis\u001b[39;00m \u001b[38;5;129;01mnot\u001b[39;00m \u001b[38;5;28;01mNone\u001b[39;00m:\n",
      "File \u001b[0;32m~/anaconda3/envs/universalModels/lib/python3.11/subprocess.py:1264\u001b[0m, in \u001b[0;36mPopen.wait\u001b[0;34m(self, timeout)\u001b[0m\n\u001b[1;32m   1262\u001b[0m     endtime \u001b[38;5;241m=\u001b[39m _time() \u001b[38;5;241m+\u001b[39m timeout\n\u001b[1;32m   1263\u001b[0m \u001b[38;5;28;01mtry\u001b[39;00m:\n\u001b[0;32m-> 1264\u001b[0m     \u001b[38;5;28;01mreturn\u001b[39;00m \u001b[38;5;28;43mself\u001b[39;49m\u001b[38;5;241;43m.\u001b[39;49m\u001b[43m_wait\u001b[49m\u001b[43m(\u001b[49m\u001b[43mtimeout\u001b[49m\u001b[38;5;241;43m=\u001b[39;49m\u001b[43mtimeout\u001b[49m\u001b[43m)\u001b[49m\n\u001b[1;32m   1265\u001b[0m \u001b[38;5;28;01mexcept\u001b[39;00m \u001b[38;5;167;01mKeyboardInterrupt\u001b[39;00m:\n\u001b[1;32m   1266\u001b[0m     \u001b[38;5;66;03m# https://bugs.python.org/issue25942\u001b[39;00m\n\u001b[1;32m   1267\u001b[0m     \u001b[38;5;66;03m# The first keyboard interrupt waits briefly for the child to\u001b[39;00m\n\u001b[1;32m   1268\u001b[0m     \u001b[38;5;66;03m# exit under the common assumption that it also received the ^C\u001b[39;00m\n\u001b[1;32m   1269\u001b[0m     \u001b[38;5;66;03m# generated SIGINT and will exit rapidly.\u001b[39;00m\n\u001b[1;32m   1270\u001b[0m     \u001b[38;5;28;01mif\u001b[39;00m timeout \u001b[38;5;129;01mis\u001b[39;00m \u001b[38;5;129;01mnot\u001b[39;00m \u001b[38;5;28;01mNone\u001b[39;00m:\n",
      "File \u001b[0;32m~/anaconda3/envs/universalModels/lib/python3.11/subprocess.py:2046\u001b[0m, in \u001b[0;36mPopen._wait\u001b[0;34m(self, timeout)\u001b[0m\n\u001b[1;32m   2044\u001b[0m \u001b[38;5;28;01mif\u001b[39;00m \u001b[38;5;28mself\u001b[39m\u001b[38;5;241m.\u001b[39mreturncode \u001b[38;5;129;01mis\u001b[39;00m \u001b[38;5;129;01mnot\u001b[39;00m \u001b[38;5;28;01mNone\u001b[39;00m:\n\u001b[1;32m   2045\u001b[0m     \u001b[38;5;28;01mbreak\u001b[39;00m  \u001b[38;5;66;03m# Another thread waited.\u001b[39;00m\n\u001b[0;32m-> 2046\u001b[0m (pid, sts) \u001b[38;5;241m=\u001b[39m \u001b[38;5;28;43mself\u001b[39;49m\u001b[38;5;241;43m.\u001b[39;49m\u001b[43m_try_wait\u001b[49m\u001b[43m(\u001b[49m\u001b[38;5;241;43m0\u001b[39;49m\u001b[43m)\u001b[49m\n\u001b[1;32m   2047\u001b[0m \u001b[38;5;66;03m# Check the pid and loop as waitpid has been known to\u001b[39;00m\n\u001b[1;32m   2048\u001b[0m \u001b[38;5;66;03m# return 0 even without WNOHANG in odd situations.\u001b[39;00m\n\u001b[1;32m   2049\u001b[0m \u001b[38;5;66;03m# http://bugs.python.org/issue14396.\u001b[39;00m\n\u001b[1;32m   2050\u001b[0m \u001b[38;5;28;01mif\u001b[39;00m pid \u001b[38;5;241m==\u001b[39m \u001b[38;5;28mself\u001b[39m\u001b[38;5;241m.\u001b[39mpid:\n",
      "File \u001b[0;32m~/anaconda3/envs/universalModels/lib/python3.11/subprocess.py:2004\u001b[0m, in \u001b[0;36mPopen._try_wait\u001b[0;34m(self, wait_flags)\u001b[0m\n\u001b[1;32m   2002\u001b[0m \u001b[38;5;250m\u001b[39m\u001b[38;5;124;03m\"\"\"All callers to this function MUST hold self._waitpid_lock.\"\"\"\u001b[39;00m\n\u001b[1;32m   2003\u001b[0m \u001b[38;5;28;01mtry\u001b[39;00m:\n\u001b[0;32m-> 2004\u001b[0m     (pid, sts) \u001b[38;5;241m=\u001b[39m os\u001b[38;5;241m.\u001b[39mwaitpid(\u001b[38;5;28mself\u001b[39m\u001b[38;5;241m.\u001b[39mpid, wait_flags)\n\u001b[1;32m   2005\u001b[0m \u001b[38;5;28;01mexcept\u001b[39;00m \u001b[38;5;167;01mChildProcessError\u001b[39;00m:\n\u001b[1;32m   2006\u001b[0m     \u001b[38;5;66;03m# This happens if SIGCLD is set to be ignored or waiting\u001b[39;00m\n\u001b[1;32m   2007\u001b[0m     \u001b[38;5;66;03m# for child processes has otherwise been disabled for our\u001b[39;00m\n\u001b[1;32m   2008\u001b[0m     \u001b[38;5;66;03m# process.  This child is dead, we can't get the status.\u001b[39;00m\n\u001b[1;32m   2009\u001b[0m     pid \u001b[38;5;241m=\u001b[39m \u001b[38;5;28mself\u001b[39m\u001b[38;5;241m.\u001b[39mpid\n",
      "\u001b[0;31mKeyboardInterrupt\u001b[0m: "
     ]
    }
   ],
   "source": [
    "# Original (ie performance should be comparable)\n",
    "np.random.seed(11121)\n",
    "for seed in np.random.randint(10**6, size = n_run):\n",
    "    subprocess_args = ['python', '/home/t722s/Desktop/UniversalModels/OtherRepos/SAM-Med3D/validation.py', \n",
    "                        '--seed', str(seed),\n",
    "                        '-vp', '/home/t722s/Desktop/Sam-Med3DTest/BratsMiniOld',\n",
    "                        '-cp', '/home/t722s/Desktop/UniversalModels/TrainedModels/sam_med3d.pth',\n",
    "                        '-tdp', '/home/t722s/Desktop/Datasets/BratsMiniOld/',\n",
    "                        '--save_name', '/home/t722s/Desktop/Sam-Med3DTest/evalBrats/old.py']\n",
    "    subprocess.run(subprocess_args,\n",
    "                    stdout=subprocess.DEVNULL, \n",
    "                    stderr=subprocess.DEVNULL)"
   ]
  },
  {
   "cell_type": "code",
   "execution_count": 1,
   "metadata": {},
   "outputs": [],
   "source": [
    "# My script, using the same algorithm as the original ie cropping around ground truth, interactive point generation, successive iterations feed one (new) point and the previous generated low res mask\n",
    "np.random.seed(11121)\n",
    "for seed in np.random.randint(10**6, size = n_run):\n",
    "    point_generation_args = ['python', 'generate_points.py', \\\n",
    "        '-tdp', '/home/t722s/Desktop/Datasets/BratsMini/', \\\n",
    "        '-rp', '/home/t722s/Desktop/Sam-Med3DTest/evalBrats/', \\\n",
    "        '-nc', '5',\n",
    "        '--seed', str(seed)]\n",
    "    subprocess.run(point_generation_args,\n",
    "                    stdout=subprocess.DEVNULL, \n",
    "                    stderr=subprocess.DEVNULL)\n",
    "    validation_args = ['python', 'SAM-Med3D/validationTesting.py', \n",
    "                        '--seed', str(seed),\n",
    "                        '-vp', '/home/t722s/Desktop/Sam-Med3DTest/BratsMini',\n",
    "                        '-cp', '/home/t722s/Desktop/UniversalModels/TrainedModels/sam_med3d.pth',\n",
    "                        '-tdp', '/home/t722s/Desktop/Datasets/BratsMini/',\n",
    "                        '--eval_dir', '/home/t722s/Desktop/Sam-Med3DTest/evalBrats',\n",
    "                        '-mrn',  'gt_crop_interactive',\n",
    "                        '-i',\n",
    "                        '-l'\n",
    "                        ]\n",
    "    subprocess.run(validation_args,\n",
    "                    stdout=subprocess.DEVNULL, \n",
    "                    stderr=subprocess.DEVNULL)"
   ]
  },
  {
   "cell_type": "code",
   "execution_count": 4,
   "metadata": {},
   "outputs": [],
   "source": [
    "# My script, using the same algorithm as the original ie cropping around ground truth, presupplied point generation, successive iterations feed one (new) point and the previous generated low\n",
    "np.random.seed(11121)\n",
    "for seed in np.random.randint(10**6, size = n_run):\n",
    "    point_generation_args = ['python', 'generate_points.py', \\\n",
    "        '-tdp', '/home/t722s/Desktop/Datasets/BratsMini/', \\\n",
    "        '-rp', '/home/t722s/Desktop/Sam-Med3DTest/evalBrats/', \\\n",
    "        '-nc', '5',\n",
    "        '--seed', str(seed)]\n",
    "    subprocess.run(point_generation_args,\n",
    "                    stdout=subprocess.DEVNULL, \n",
    "                    stderr=subprocess.DEVNULL)\n",
    "    validation_args = ['python', 'SAM-Med3D/validationTesting.py', \n",
    "                        '--seed', str(seed),\n",
    "                        '-vp', '/home/t722s/Desktop/Sam-Med3DTest/BratsMini',\n",
    "                        '-cp', '/home/t722s/Desktop/UniversalModels/TrainedModels/sam_med3d.pth',\n",
    "                        '-tdp', '/home/t722s/Desktop/Datasets/BratsMini/',\n",
    "                        '--eval_dir', '/home/t722s/Desktop/Sam-Med3DTest/evalBrats',\n",
    "                        '-mrn',  'gt_crop_not_interactive',\n",
    "                        '-nc', '5',\n",
    "                        '-l', \n",
    "                        ]\n",
    "    subprocess.run(validation_args,\n",
    "                    stdout=subprocess.DEVNULL, \n",
    "                    stderr=subprocess.DEVNULL)"
   ]
  },
  {
   "cell_type": "code",
   "execution_count": null,
   "metadata": {},
   "outputs": [],
   "source": [
    "# My script, using the same algorithm as the original crop around point mask, interactive point generation, successive iterations feed one (new) point and the previous generated low\n",
    "np.random.seed(11121)\n",
    "for seed in np.random.randint(10**6, size = n_run):\n",
    "    point_generation_args = ['python', 'generate_points.py', \\\n",
    "        '-tdp', '/home/t722s/Desktop/Datasets/BratsMini/', \\\n",
    "        '-rp', '/home/t722s/Desktop/Sam-Med3DTest/evalBrats/', \\\n",
    "        '-nc', '5',\n",
    "        '--seed', str(seed)]\n",
    "    subprocess.run(point_generation_args,\n",
    "                    stdout=subprocess.DEVNULL, \n",
    "                    stderr=subprocess.DEVNULL)\n",
    "    validation_args = ['python', 'SAM-Med3D/validationTesting.py', \n",
    "                        '--seed', str(seed),\n",
    "                        '-vp', '/home/t722s/Desktop/Sam-Med3DTest/BratsMini',\n",
    "                        '-cp', '/home/t722s/Desktop/UniversalModels/TrainedModels/sam_med3d.pth',\n",
    "                        '-tdp', '/home/t722s/Desktop/Datasets/BratsMini/',\n",
    "                        '--eval_dir', '/home/t722s/Desktop/Sam-Med3DTest/evalBrats',\n",
    "                        '-mrn',  'point_crop_interactive',\n",
    "                        '-nc', '5',\n",
    "                        '-i'\n",
    "                        ]\n",
    "    subprocess.run(validation_args,\n",
    "                    stdout=subprocess.DEVNULL, \n",
    "                    stderr=subprocess.DEVNULL)"
   ]
  },
  {
   "cell_type": "code",
   "execution_count": 6,
   "metadata": {},
   "outputs": [],
   "source": [
    "# My script, using the same algorithm as the original ie cropping around ground truth, presupplied point generation, successive iterations feed one (new) point and the previous generated low\n",
    "np.random.seed(11121)\n",
    "for seed in np.random.randint(10**6, size = n_run):\n",
    "    point_generation_args = ['python', 'generate_points.py', \\\n",
    "        '-tdp', '/home/t722s/Desktop/Datasets/BratsMini/', \\\n",
    "        '-rp', '/home/t722s/Desktop/Sam-Med3DTest/evalBrats/', \\\n",
    "        '-nc', '5',\n",
    "        '--seed', str(seed)]\n",
    "    subprocess.run(point_generation_args,\n",
    "                    stdout=subprocess.DEVNULL, \n",
    "                    stderr=subprocess.DEVNULL)\n",
    "    validation_args = ['python', 'SAM-Med3D/validationTesting.py', \n",
    "                        '--seed', str(seed),\n",
    "                        '-vp', '/home/t722s/Desktop/Sam-Med3DTest/BratsMini',\n",
    "                        '-cp', '/home/t722s/Desktop/UniversalModels/TrainedModels/sam_med3d.pth',\n",
    "                        '-tdp', '/home/t722s/Desktop/Datasets/BratsMini/',\n",
    "                        '--eval_dir', '/home/t722s/Desktop/Sam-Med3DTest/evalBrats',\n",
    "                        '-mrn',  'point_crop_not_interactive',\n",
    "                        '-nc', '5',\n",
    "                        ]\n",
    "    subprocess.run(validation_args,\n",
    "                    stdout=subprocess.DEVNULL, \n",
    "                    stderr=subprocess.DEVNULL)"
   ]
  },
  {
   "cell_type": "code",
   "execution_count": 7,
   "metadata": {},
   "outputs": [],
   "source": [
    "# Find effect of masks\n",
    "with open('/home/t722s/Desktop/Sam-Med3DTest/evalBrats/gt_crop_interactive.json', 'r') as f:\n",
    "    gt_i = json.load(f)\n",
    "\n",
    "for seed, v in gt_i.items():\n",
    "\n",
    "    # Save points used in gt_i to the prompts to the defined prompts format\n",
    "    points3D = dict()\n",
    "    v['labels'][0] = int(v['labels'][0])\n",
    "    points3D['3D'] = (np.array(v['points']), v['labels'])\n",
    "    prompts = defaultdict(dict)\n",
    "    prompts['BraTS2021_01646.nii.gz'][1]=points3D\n",
    "    prompts = dict(prompts)\n",
    "\n",
    "    pickle.dump(prompts, open('/home/t722s/Desktop/Sam-Med3DTest/evalBrats/prompts.pkl','wb'))\n",
    "\n",
    "    validation_args = ['python', 'SAM-Med3D/validationTesting.py', \n",
    "                        '--seed', str(seed),\n",
    "                        '-vp', '/home/t722s/Desktop/Sam-Med3DTest/BratsMini',\n",
    "                        '-cp', '/home/t722s/Desktop/UniversalModels/TrainedModels/sam_med3d.pth',\n",
    "                        '-tdp', '/home/t722s/Desktop/Datasets/BratsMini/',\n",
    "                        '--eval_dir', '/home/t722s/Desktop/Sam-Med3DTest/evalBrats',\n",
    "                        '-mrn', 'i_points_not_i',\n",
    "                        '-nc', '5',\n",
    "                        '-l', \n",
    "                        ]\n",
    "    subprocess.run(validation_args,\n",
    "                    stdout=subprocess.DEVNULL, \n",
    "                    stderr=subprocess.DEVNULL)\n"
   ]
  }
 ],
 "metadata": {
  "kernelspec": {
   "display_name": "universalModels",
   "language": "python",
   "name": "python3"
  },
  "language_info": {
   "codemirror_mode": {
    "name": "ipython",
    "version": 3
   },
   "file_extension": ".py",
   "mimetype": "text/x-python",
   "name": "python",
   "nbconvert_exporter": "python",
   "pygments_lexer": "ipython3",
   "version": "3.11.5"
  }
 },
 "nbformat": 4,
 "nbformat_minor": 2
}
