{
 "cells": [
  {
   "cell_type": "code",
   "execution_count": 2,
   "metadata": {},
   "outputs": [],
   "source": [
    "import os\n",
    "join = os.path.join\n",
    "import numpy as np\n",
    "from glob import glob\n",
    "import torch\n",
    "from segment_anything.build_sam3D import sam_model_registry3D\n",
    "from segment_anything.utils.transforms3D import ResizeLongestSide3D\n",
    "from segment_anything import sam_model_registry\n",
    "from tqdm import tqdm\n",
    "import argparse\n",
    "import SimpleITK as sitk\n",
    "import torch.nn.functional as F\n",
    "from torch.utils.data import DataLoader\n",
    "import torchio as tio\n",
    "import numpy as np\n",
    "from collections import OrderedDict, defaultdict\n",
    "import json\n",
    "import pickle\n",
    "from utils.click_method import get_next_click3D_torch_ritm, get_next_click3D_torch_2\n",
    "import utils.data_loader \n",
    "import einops as E\n",
    "import torch\n",
    "Dataset_Union_ALL_Val = utils.data_loader.Dataset_Union_ALL_Val\n"
   ]
  },
  {
   "cell_type": "code",
   "execution_count": 3,
   "metadata": {},
   "outputs": [],
   "source": [
    "args = argparse.Namespace(\n",
    "    test_data_path = '/home/t722s/Desktop/Datasets/BratsTestData/',\n",
    "    checkpoint_path=  '',\n",
    "    results_save_path='/home/t722s/Desktop/Sam-Med3DTest/evalBrats/',\n",
    "    model='SAM-Med3D',\n",
    "    seed=2023,\n",
    "    dim = 3,\n",
    "    crop_size = 128,\n",
    "    data_type = 'Ts',\n",
    "    split_num = 1,\n",
    "    split_idx = 0,\n",
    ")\n",
    "\n",
    "points_path = os.path.join(args.results_save_path, 'prompts.pkl')\n"
   ]
  },
  {
   "cell_type": "code",
   "execution_count": 4,
   "metadata": {},
   "outputs": [],
   "source": [
    "def compute_dice(mask_gt, mask_pred):\n",
    "    \"\"\"Compute soerensen-dice coefficient.\n",
    "    Returns:\n",
    "    the dice coeffcient as float. If both masks are empty, the result is NaN\n",
    "    \"\"\"\n",
    "    volume_sum = mask_gt.sum() + mask_pred.sum()\n",
    "    if volume_sum == 0:\n",
    "        return np.NaN\n",
    "    volume_intersect = (mask_gt & mask_pred).sum()\n",
    "    return 2*volume_intersect / volume_sum"
   ]
  },
  {
   "cell_type": "code",
   "execution_count": 5,
   "metadata": {},
   "outputs": [],
   "source": [
    "seg_old_path = '/home/t722s/Desktop/Sam-Med3DTest/segmentation_maps/BraTS2021_01646_pred_old0.nii.gz'\n",
    "seg_new_path = '/home/t722s/Desktop/Sam-Med3DTest/segmentation_maps/BraTS2021_01646_pred_trans0.nii.gz'\n",
    "label_path = '/home/t722s/Desktop/Datasets/BratsTestData/labelsTs/BraTS2021_01646.nii.gz'\n",
    "image_path = '/home/t722s/Desktop/Datasets/BratsTestData/imagesTs/BraTS2021_01646.nii.gz'\n",
    "\n",
    "seg_old = sitk.GetArrayFromImage(sitk.ReadImage(seg_old_path))\n",
    "seg_new = sitk.GetArrayFromImage(sitk.ReadImage(seg_new_path))\n",
    "label = sitk.GetArrayFromImage(sitk.ReadImage(label_path))"
   ]
  },
  {
   "cell_type": "code",
   "execution_count": 53,
   "metadata": {},
   "outputs": [],
   "source": [
    "dim = 3\n",
    "label = 1\n",
    "\n",
    "infer_transform = [\n",
    "        tio.ToCanonical(),\n",
    "        tio.CropOrPad(mask_name='points_mask', target_shape=(args.crop_size,args.crop_size,args.crop_size)), # Will center the cropping/padding at the center of the bounding box of the clicks supplied.\n",
    "    ]\n",
    "\n",
    "transform = tio.Compose(infer_transform)\n",
    "\n",
    "with open(points_path, 'rb') as f:\n",
    "    points_dict = pickle.load(f)\n",
    "\n",
    "tio_image = tio.ScalarImage.from_sitk(sitk.ReadImage(image_path))\n",
    "\n",
    "\n",
    "#### UNDER CONSTRUCTION\n",
    "# Load in points for this image and change to a mask to be usable by torchio\n",
    "points = points_dict[os.path.basename(image_path)][label][str(dim) + 'D']\n",
    "points_mask = np.zeros(shape = (tio_image.shape[3], tio_image.shape[2], tio_image.shape[1])) # Skip the color channel for now; reintroduce in label_map definition. Reverse order since sitk uses WHD while numpy uses DHW\n",
    "points_mask[*points.T] = 1\n",
    "points_mask = E.rearrange(points_mask, pattern = 'x y z -> z y x') # Rearrange back to sitk WHD\n",
    "\n",
    "points_mask = tio.LabelMap(tensor = torch.from_numpy(points_mask).float().unsqueeze(0), affine = tio_image.affine)\n",
    "\n",
    "subject = tio.Subject(\n",
    "    image = tio_image,\n",
    "    points_mask = points_mask,\n",
    "    seg = tio.LabelMap(tensor = torch.from_numpy(seg_new.transpose(2,1,0)).float().unsqueeze(0), affine = tio_image.affine),\n",
    "    label = tio.ScalarImage.from_sitk(sitk.ReadImage(label_path)),\n",
    ")\n",
    "\n",
    "if '/ct_' in image_path:\n",
    "    subject = tio.Clamp(-1000,1000)(subject)\n",
    "\n",
    "subject = transform(subject)\n"
   ]
  },
  {
   "cell_type": "code",
   "execution_count": 54,
   "metadata": {},
   "outputs": [
    {
     "data": {
      "text/plain": [
       "torch.Size([1, 128, 128, 128])"
      ]
     },
     "execution_count": 54,
     "metadata": {},
     "output_type": "execute_result"
    }
   ],
   "source": [
    "subject['seg'].data.shape"
   ]
  },
  {
   "cell_type": "code",
   "execution_count": 49,
   "metadata": {},
   "outputs": [
    {
     "data": {
      "text/plain": [
       "0.762314240369355"
      ]
     },
     "execution_count": 49,
     "metadata": {},
     "output_type": "execute_result"
    }
   ],
   "source": [
    "seg_new = seg_new.transpose(2,1,0)\n",
    "compute_dice(label, seg_new)"
   ]
  },
  {
   "cell_type": "code",
   "execution_count": 57,
   "metadata": {},
   "outputs": [
    {
     "data": {
      "text/plain": [
       "0.7623142600059509"
      ]
     },
     "execution_count": 57,
     "metadata": {},
     "output_type": "execute_result"
    }
   ],
   "source": [
    "t = compute_dice(subject['label'].data[0], subject['seg'].data[0].bool())\n",
    "t.item()"
   ]
  },
  {
   "cell_type": "code",
   "execution_count": 50,
   "metadata": {},
   "outputs": [
    {
     "data": {
      "text/plain": [
       "0.7623142600059509"
      ]
     },
     "execution_count": 50,
     "metadata": {},
     "output_type": "execute_result"
    }
   ],
   "source": [
    "t = compute_dice(subject['label'].data[0], seg_old)\n",
    "t.item()"
   ]
  }
 ],
 "metadata": {
  "kernelspec": {
   "display_name": "universalModels",
   "language": "python",
   "name": "python3"
  },
  "language_info": {
   "codemirror_mode": {
    "name": "ipython",
    "version": 3
   },
   "file_extension": ".py",
   "mimetype": "text/x-python",
   "name": "python",
   "nbconvert_exporter": "python",
   "pygments_lexer": "ipython3",
   "version": "3.11.5"
  }
 },
 "nbformat": 4,
 "nbformat_minor": 2
}
