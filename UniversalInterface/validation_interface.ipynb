{
 "cells": [
  {
   "cell_type": "code",
   "execution_count": 1,
   "metadata": {},
   "outputs": [],
   "source": [
    "import argparse\n",
    "import subprocess"
   ]
  },
  {
   "cell_type": "code",
   "execution_count": 2,
   "metadata": {},
   "outputs": [
    {
     "data": {
      "text/plain": [
       "_StoreAction(option_strings=['--seed'], dest='seed', nargs=None, const=None, default=2023, type=<class 'int'>, choices=None, required=False, help=None, metavar=None)"
      ]
     },
     "execution_count": 2,
     "metadata": {},
     "output_type": "execute_result"
    }
   ],
   "source": [
    "parser = argparse.ArgumentParser()\n",
    "parser.add_argument('-tdp', '--test_data_path', type=str, default='./data/images')\n",
    "parser.add_argument('-cp', '--checkpoint_path', type=str, default='./checkpoints/sam_med3d.pth')\n",
    "parser.add_argument('-rp', '--results_path', type=str, default='./results')\n",
    "parser.add_argument('--model', type = str, choices = ['SAM-Med3D', 'SAM'])\n",
    "\n",
    "parser.add_argument('--seed', type=int, default=2023)\n",
    "\n",
    "#args = parser.parse_args()"
   ]
  },
  {
   "cell_type": "code",
   "execution_count": 3,
   "metadata": {},
   "outputs": [],
   "source": [
    "# hardcode for juptyer notebook compatability\n",
    "\n",
    "args = argparse.Namespace(\n",
    "    test_volume_directory='./data/images',\n",
    "    test_label_directory='./data/labels',\n",
    "    checkpoint_path='./checkpoints/sam_med3d.pth',\n",
    "    results_save_path='./results',\n",
    "    model='SAM-Med3D',\n",
    "    seed=2023\n",
    ")"
   ]
  },
  {
   "cell_type": "code",
   "execution_count": 18,
   "metadata": {},
   "outputs": [
    {
     "name": "stdout",
     "output_type": "stream",
     "text": [
      "set seed as 2020\n",
      "device: cuda\n"
     ]
    },
    {
     "name": "stderr",
     "output_type": "stream",
     "text": [
      "  0%|          | 0/1 [00:00<?, ?it/s]"
     ]
    },
    {
     "name": "stdout",
     "output_type": "stream",
     "text": [
      "TESTING: points restored: [[64 57 60]\n",
      " [75 55 65]\n",
      " [71 75 63]\n",
      " [61 51 68]\n",
      " [57 49 69]]\n",
      "Dice list by number of clicks: [0.7663, 0.6933, 0.7111, 0.7183, 0.7025]\n",
      "Save results to /home/t722s/Desktop/Sam-Med3DTest/evalBrats/eval_res.json\n",
      "Done\n"
     ]
    },
    {
     "name": "stderr",
     "output_type": "stream",
     "text": [
      "100%|██████████| 1/1 [00:00<00:00,  1.31it/s]\n"
     ]
    },
    {
     "data": {
      "text/plain": [
       "CompletedProcess(args=['python', 'evaluate_folder.py', '-rp', '/home/t722s/Desktop/Sam-Med3DTest/BratsMini', '-tdp', '/home/t722s/Desktop/Datasets/BratsMini/'], returncode=0)"
      ]
     },
     "execution_count": 18,
     "metadata": {},
     "output_type": "execute_result"
    }
   ],
   "source": [
    "# Old\n",
    "seed = 785406\n",
    "point_generation_args = ['python', 'generate_points.py', \\\n",
    "        '-tdp', '/home/t722s/Desktop/Datasets/BratsMini/', \\\n",
    "        '-rp', '/home/t722s/Desktop/Sam-Med3DTest/evalBrats/', \\\n",
    "        '-nc', '5',\n",
    "        '--seed', str(seed)]\n",
    "subprocess.run(point_generation_args,\n",
    "                stdout=subprocess.DEVNULL, \n",
    "                stderr=subprocess.DEVNULL)\n",
    "inference_args = ['python', 'SAM-Med3D/validationTesting.py', \n",
    "                    '--seed', '2020',\n",
    "                    '-vp', '/home/t722s/Desktop/Sam-Med3DTest/BratsMini',\n",
    "                    '-cp', '/home/t722s/Desktop/UniversalModels/TrainedModels/sam_med3d.pth',\n",
    "                    '-tdp', '/home/t722s/Desktop/Datasets/BratsMini/',\n",
    "                    '--eval_dir', '/home/t722s/Desktop/Sam-Med3DTest/evalBrats',\n",
    "                    ]\n",
    "subprocess.run(inference_args)\n",
    "\n",
    "\n",
    "evaluation_args = ['python', 'evaluate_folder.py',\n",
    "                   '-rp', '/home/t722s/Desktop/Sam-Med3DTest/BratsMini',\n",
    "                   '-tdp', '/home/t722s/Desktop/Datasets/BratsMini/'                   \n",
    "                   ]\n",
    "subprocess.run(evaluation_args)"
   ]
  },
  {
   "cell_type": "code",
   "execution_count": 4,
   "metadata": {},
   "outputs": [
    {
     "name": "stdout",
     "output_type": "stream",
     "text": [
      "set seed as 2020\n",
      "device: cuda\n"
     ]
    },
    {
     "name": "stderr",
     "output_type": "stream",
     "text": [
      "  0%|          | 0/1 [00:00<?, ?it/s]"
     ]
    },
    {
     "name": "stdout",
     "output_type": "stream",
     "text": [
      "BraTS2021_01646.nii.gz Dice list by number of clicks (Brain Tumor): [0.7663, 0.6933, 0.7111, 0.7183, 0.7025]\n",
      "Save results to /home/t722s/Desktop/Sam-Med3DTest/BratsMini/eval_res_from_inference.json\n",
      "Done\n"
     ]
    },
    {
     "name": "stderr",
     "output_type": "stream",
     "text": [
      "100%|██████████| 1/1 [00:00<00:00,  1.18it/s]\n"
     ]
    },
    {
     "data": {
      "text/plain": [
       "CompletedProcess(args=['python', 'evaluate_folder2.py', '-rp', '/home/t722s/Desktop/Sam-Med3DTest/BratsMini', '-tdp', '/home/t722s/Desktop/Datasets/BratsMini/'], returncode=0)"
      ]
     },
     "execution_count": 4,
     "metadata": {},
     "output_type": "execute_result"
    }
   ],
   "source": [
    "# New\n",
    "seed = 785406\n",
    "point_generation_args = ['python', 'generate_points.py', \\\n",
    "        '-tdp', '/home/t722s/Desktop/Datasets/BratsMini/', \\\n",
    "        '-rp', '/home/t722s/Desktop/Sam-Med3DTest/BratsMini/', \\\n",
    "        '-nc', '5',\n",
    "        '--seed', str(seed)]\n",
    "subprocess.run(point_generation_args,\n",
    "                stdout=subprocess.DEVNULL, \n",
    "                stderr=subprocess.DEVNULL)\n",
    "inference_args = ['python', 'SAM-Med3D/validationTesting2.py', \n",
    "                    '--seed', '2020',\n",
    "                    '-rp', '/home/t722s/Desktop/Sam-Med3DTest/BratsMini',\n",
    "                    '-cp', '/home/t722s/Desktop/UniversalModels/TrainedModels/sam_med3d.pth',\n",
    "                    '-tdp', '/home/t722s/Desktop/Datasets/BratsMini/',\n",
    "                    ]\n",
    "subprocess.run(inference_args)\n",
    "evaluation_args = ['python', 'evaluate_folder2.py',\n",
    "                   '-rp', '/home/t722s/Desktop/Sam-Med3DTest/BratsMini',\n",
    "                   '-tdp', '/home/t722s/Desktop/Datasets/BratsMini/'                   \n",
    "                   ]\n",
    "subprocess.run(evaluation_args)"
   ]
  },
  {
   "cell_type": "code",
   "execution_count": 9,
   "metadata": {},
   "outputs": [
    {
     "name": "stdout",
     "output_type": "stream",
     "text": [
      "set seed as 2020\n",
      "device: cuda\n"
     ]
    },
    {
     "name": "stderr",
     "output_type": "stream",
     "text": [
      "  0%|          | 0/20 [00:00<?, ?it/s]"
     ]
    },
    {
     "name": "stdout",
     "output_type": "stream",
     "text": [
      "TESTING: points list: [[79 63 54]\n",
      " [48 67 53]\n",
      " [67 52 52]\n",
      " [76 76 75]\n",
      " [57 71 76]]\n",
      "TESTING: batch points (tensor([[[79, 63, 54]]]), tensor([[1]]))\n",
      "TESTING: batch points (tensor([[[79, 63, 54],\n",
      "         [48, 67, 53]]]), tensor([[1, 1]]))\n",
      "TESTING: batch points (tensor([[[79, 63, 54],\n",
      "         [48, 67, 53],\n",
      "         [67, 52, 52]]]), tensor([[1, 1, 1]]))\n",
      "TESTING: batch points (tensor([[[79, 63, 54],\n",
      "         [48, 67, 53],\n",
      "         [67, 52, 52],\n",
      "         [76, 76, 75]]]), tensor([[1, 1, 1, 1]]))\n",
      "TESTING: batch points (tensor([[[79, 63, 54],\n",
      "         [48, 67, 53],\n",
      "         [67, 52, 52],\n",
      "         [76, 76, 75],\n",
      "         [57, 71, 76]]]), tensor([[1, 1, 1, 1, 1]]))\n",
      "la_014.nii.gz Dice list by number of clicks (left atrium): [0.7394, 0.7545, 0.7601, 0.7482, 0.708]\n"
     ]
    },
    {
     "name": "stderr",
     "output_type": "stream",
     "text": [
      "  5%|▌         | 1/20 [00:02<00:39,  2.09s/it]"
     ]
    },
    {
     "name": "stdout",
     "output_type": "stream",
     "text": [
      "TESTING: points list: [[59 49 57]\n",
      " [71 58 56]\n",
      " [67 78 78]\n",
      " [57 54 50]\n",
      " [71 77 66]]\n",
      "TESTING: batch points (tensor([[[59, 49, 57]]]), tensor([[1]]))\n",
      "TESTING: batch points (tensor([[[59, 49, 57],\n",
      "         [71, 58, 56]]]), tensor([[1, 1]]))\n",
      "TESTING: batch points (tensor([[[59, 49, 57],\n",
      "         [71, 58, 56],\n",
      "         [67, 78, 78]]]), tensor([[1, 1, 1]]))\n",
      "TESTING: batch points (tensor([[[59, 49, 57],\n",
      "         [71, 58, 56],\n",
      "         [67, 78, 78],\n",
      "         [57, 54, 50]]]), tensor([[1, 1, 1, 1]]))\n",
      "TESTING: batch points (tensor([[[59, 49, 57],\n",
      "         [71, 58, 56],\n",
      "         [67, 78, 78],\n",
      "         [57, 54, 50],\n",
      "         [71, 77, 66]]]), tensor([[1, 1, 1, 1, 1]]))\n",
      "la_022.nii.gz Dice list by number of clicks (left atrium): [0.6563, 0.6765, 0.6175, 0.6205, 0.6199]\n"
     ]
    },
    {
     "name": "stderr",
     "output_type": "stream",
     "text": [
      " 10%|█         | 2/20 [00:03<00:33,  1.84s/it]"
     ]
    },
    {
     "name": "stdout",
     "output_type": "stream",
     "text": [
      "TESTING: points list: [[53 71 51]\n",
      " [55 77 89]\n",
      " [71 66 38]\n",
      " [74 58 44]\n",
      " [65 51 70]]\n",
      "TESTING: batch points (tensor([[[53, 71, 51]]]), tensor([[1]]))\n",
      "TESTING: batch points (tensor([[[53, 71, 51],\n",
      "         [55, 77, 89]]]), tensor([[1, 1]]))\n",
      "TESTING: batch points (tensor([[[53, 71, 51],\n",
      "         [55, 77, 89],\n",
      "         [71, 66, 38]]]), tensor([[1, 1, 1]]))\n",
      "TESTING: batch points (tensor([[[53, 71, 51],\n",
      "         [55, 77, 89],\n",
      "         [71, 66, 38],\n",
      "         [74, 58, 44]]]), tensor([[1, 1, 1, 1]]))\n",
      "TESTING: batch points (tensor([[[53, 71, 51],\n",
      "         [55, 77, 89],\n",
      "         [71, 66, 38],\n",
      "         [74, 58, 44],\n",
      "         [65, 51, 70]]]), tensor([[1, 1, 1, 1, 1]]))\n",
      "la_030.nii.gz Dice list by number of clicks (left atrium): [0.6076, 0.554, 0.6023, 0.6244, 0.6307]\n"
     ]
    },
    {
     "name": "stderr",
     "output_type": "stream",
     "text": [
      " 15%|█▌        | 3/20 [00:05<00:30,  1.77s/it]"
     ]
    },
    {
     "name": "stdout",
     "output_type": "stream",
     "text": [
      "TESTING: points list: [[54 52 57]\n",
      " [63 77 54]\n",
      " [74 60 54]\n",
      " [67 50 74]\n",
      " [67 53 55]]\n",
      "TESTING: batch points (tensor([[[54, 52, 57]]]), tensor([[1]]))\n",
      "TESTING: batch points (tensor([[[54, 52, 57],\n",
      "         [63, 77, 54]]]), tensor([[1, 1]]))\n",
      "TESTING: batch points (tensor([[[54, 52, 57],\n",
      "         [63, 77, 54],\n",
      "         [74, 60, 54]]]), tensor([[1, 1, 1]]))\n",
      "TESTING: batch points (tensor([[[54, 52, 57],\n",
      "         [63, 77, 54],\n",
      "         [74, 60, 54],\n",
      "         [67, 50, 74]]]), tensor([[1, 1, 1, 1]]))\n",
      "TESTING: batch points (tensor([[[54, 52, 57],\n",
      "         [63, 77, 54],\n",
      "         [74, 60, 54],\n",
      "         [67, 50, 74],\n",
      "         [67, 53, 55]]]), tensor([[1, 1, 1, 1, 1]]))\n",
      "la_010.nii.gz Dice list by number of clicks (left atrium): [0.6713, 0.6452, 0.7315, 0.7499, 0.7592]\n"
     ]
    },
    {
     "name": "stderr",
     "output_type": "stream",
     "text": [
      " 20%|██        | 4/20 [00:07<00:28,  1.76s/it]"
     ]
    },
    {
     "name": "stdout",
     "output_type": "stream",
     "text": [
      "TESTING: points list: [[46 72 41]\n",
      " [81 48 53]\n",
      " [71 79 40]\n",
      " [68 65 89]\n",
      " [70 74 39]]\n",
      "TESTING: batch points (tensor([[[46, 72, 41]]]), tensor([[1]]))\n",
      "TESTING: batch points (tensor([[[46, 72, 41],\n",
      "         [81, 48, 53]]]), tensor([[1, 1]]))\n",
      "TESTING: batch points (tensor([[[46, 72, 41],\n",
      "         [81, 48, 53],\n",
      "         [71, 79, 40]]]), tensor([[1, 1, 1]]))\n",
      "TESTING: batch points (tensor([[[46, 72, 41],\n",
      "         [81, 48, 53],\n",
      "         [71, 79, 40],\n",
      "         [68, 65, 89]]]), tensor([[1, 1, 1, 1]]))\n",
      "TESTING: batch points (tensor([[[46, 72, 41],\n",
      "         [81, 48, 53],\n",
      "         [71, 79, 40],\n",
      "         [68, 65, 89],\n",
      "         [70, 74, 39]]]), tensor([[1, 1, 1, 1, 1]]))\n",
      "la_007.nii.gz Dice list by number of clicks (left atrium): [0.5833, 0.6565, 0.6482, 0.7305, 0.7233]\n"
     ]
    },
    {
     "name": "stderr",
     "output_type": "stream",
     "text": [
      " 25%|██▌       | 5/20 [00:08<00:26,  1.75s/it]"
     ]
    },
    {
     "name": "stdout",
     "output_type": "stream",
     "text": [
      "TESTING: points list: [[63 63 71]\n",
      " [56 69 52]\n",
      " [61 77 79]\n",
      " [72 56 62]\n",
      " [71 51 49]]\n",
      "TESTING: batch points (tensor([[[63, 63, 71]]]), tensor([[1]]))\n",
      "TESTING: batch points (tensor([[[63, 63, 71],\n",
      "         [56, 69, 52]]]), tensor([[1, 1]]))\n",
      "TESTING: batch points (tensor([[[63, 63, 71],\n",
      "         [56, 69, 52],\n",
      "         [61, 77, 79]]]), tensor([[1, 1, 1]]))\n",
      "TESTING: batch points (tensor([[[63, 63, 71],\n",
      "         [56, 69, 52],\n",
      "         [61, 77, 79],\n",
      "         [72, 56, 62]]]), tensor([[1, 1, 1, 1]]))\n",
      "TESTING: batch points (tensor([[[63, 63, 71],\n",
      "         [56, 69, 52],\n",
      "         [61, 77, 79],\n",
      "         [72, 56, 62],\n",
      "         [71, 51, 49]]]), tensor([[1, 1, 1, 1, 1]]))\n",
      "la_023.nii.gz Dice list by number of clicks (left atrium): [0.6865, 0.6821, 0.6653, 0.7052, 0.7252]\n"
     ]
    },
    {
     "name": "stderr",
     "output_type": "stream",
     "text": [
      " 30%|███       | 6/20 [00:10<00:24,  1.73s/it]"
     ]
    },
    {
     "name": "stdout",
     "output_type": "stream",
     "text": [
      "TESTING: points list: [[66 55 65]\n",
      " [56 72 79]\n",
      " [72 62 51]\n",
      " [66 67 78]\n",
      " [63 56 49]]\n",
      "TESTING: batch points (tensor([[[66, 55, 65]]]), tensor([[1]]))\n",
      "TESTING: batch points (tensor([[[66, 55, 65],\n",
      "         [56, 72, 79]]]), tensor([[1, 1]]))\n",
      "TESTING: batch points (tensor([[[66, 55, 65],\n",
      "         [56, 72, 79],\n",
      "         [72, 62, 51]]]), tensor([[1, 1, 1]]))\n",
      "TESTING: batch points (tensor([[[66, 55, 65],\n",
      "         [56, 72, 79],\n",
      "         [72, 62, 51],\n",
      "         [66, 67, 78]]]), tensor([[1, 1, 1, 1]]))\n",
      "TESTING: batch points (tensor([[[66, 55, 65],\n",
      "         [56, 72, 79],\n",
      "         [72, 62, 51],\n",
      "         [66, 67, 78],\n",
      "         [63, 56, 49]]]), tensor([[1, 1, 1, 1, 1]]))\n",
      "la_017.nii.gz Dice list by number of clicks (left atrium): [0.6175, 0.5304, 0.629, 0.6337, 0.6443]\n"
     ]
    },
    {
     "name": "stderr",
     "output_type": "stream",
     "text": [
      " 35%|███▌      | 7/20 [00:12<00:22,  1.72s/it]"
     ]
    },
    {
     "name": "stdout",
     "output_type": "stream",
     "text": [
      "TESTING: points list: [[57 67 50]\n",
      " [53 55 75]\n",
      " [65 65 65]\n",
      " [61 72 74]\n",
      " [74 66 78]]\n",
      "TESTING: batch points (tensor([[[57, 67, 50]]]), tensor([[1]]))\n",
      "TESTING: batch points (tensor([[[57, 67, 50],\n",
      "         [53, 55, 75]]]), tensor([[1, 1]]))\n",
      "TESTING: batch points (tensor([[[57, 67, 50],\n",
      "         [53, 55, 75],\n",
      "         [65, 65, 65]]]), tensor([[1, 1, 1]]))\n",
      "TESTING: batch points (tensor([[[57, 67, 50],\n",
      "         [53, 55, 75],\n",
      "         [65, 65, 65],\n",
      "         [61, 72, 74]]]), tensor([[1, 1, 1, 1]]))\n",
      "TESTING: batch points (tensor([[[57, 67, 50],\n",
      "         [53, 55, 75],\n",
      "         [65, 65, 65],\n",
      "         [61, 72, 74],\n",
      "         [74, 66, 78]]]), tensor([[1, 1, 1, 1, 1]]))\n",
      "la_016.nii.gz Dice list by number of clicks (left atrium): [0.7199, 0.7106, 0.6992, 0.7019, 0.709]\n"
     ]
    },
    {
     "name": "stderr",
     "output_type": "stream",
     "text": [
      " 40%|████      | 8/20 [00:13<00:19,  1.62s/it]"
     ]
    },
    {
     "name": "stdout",
     "output_type": "stream",
     "text": [
      "TESTING: points list: [[65 56 74]\n",
      " [64 69 68]\n",
      " [58 65 62]\n",
      " [69 72 76]\n",
      " [67 57 51]]\n",
      "TESTING: batch points (tensor([[[65, 56, 74]]]), tensor([[1]]))\n",
      "TESTING: batch points (tensor([[[65, 56, 74],\n",
      "         [64, 69, 68]]]), tensor([[1, 1]]))\n",
      "TESTING: batch points (tensor([[[65, 56, 74],\n",
      "         [64, 69, 68],\n",
      "         [58, 65, 62]]]), tensor([[1, 1, 1]]))\n",
      "TESTING: batch points (tensor([[[65, 56, 74],\n",
      "         [64, 69, 68],\n",
      "         [58, 65, 62],\n",
      "         [69, 72, 76]]]), tensor([[1, 1, 1, 1]]))\n",
      "TESTING: batch points (tensor([[[65, 56, 74],\n",
      "         [64, 69, 68],\n",
      "         [58, 65, 62],\n",
      "         [69, 72, 76],\n",
      "         [67, 57, 51]]]), tensor([[1, 1, 1, 1, 1]]))\n",
      "la_029.nii.gz Dice list by number of clicks (left atrium): [0.6084, 0.6403, 0.6352, 0.6204, 0.6663]\n"
     ]
    },
    {
     "name": "stderr",
     "output_type": "stream",
     "text": [
      " 45%|████▌     | 9/20 [00:15<00:17,  1.61s/it]"
     ]
    },
    {
     "name": "stdout",
     "output_type": "stream",
     "text": [
      "TESTING: points list: [[55 77 72]\n",
      " [62 51 55]\n",
      " [58 50 57]\n",
      " [72 71 73]\n",
      " [68 78 56]]\n",
      "TESTING: batch points (tensor([[[55, 77, 72]]]), tensor([[1]]))\n",
      "TESTING: batch points (tensor([[[55, 77, 72],\n",
      "         [62, 51, 55]]]), tensor([[1, 1]]))\n",
      "TESTING: batch points (tensor([[[55, 77, 72],\n",
      "         [62, 51, 55],\n",
      "         [58, 50, 57]]]), tensor([[1, 1, 1]]))\n",
      "TESTING: batch points (tensor([[[55, 77, 72],\n",
      "         [62, 51, 55],\n",
      "         [58, 50, 57],\n",
      "         [72, 71, 73]]]), tensor([[1, 1, 1, 1]]))\n",
      "TESTING: batch points (tensor([[[55, 77, 72],\n",
      "         [62, 51, 55],\n",
      "         [58, 50, 57],\n",
      "         [72, 71, 73],\n",
      "         [68, 78, 56]]]), tensor([[1, 1, 1, 1, 1]]))\n",
      "la_024.nii.gz Dice list by number of clicks (left atrium): [0.5349, 0.6189, 0.6214, 0.651, 0.6444]\n"
     ]
    },
    {
     "name": "stderr",
     "output_type": "stream",
     "text": [
      " 50%|█████     | 10/20 [00:17<00:16,  1.66s/it]"
     ]
    },
    {
     "name": "stdout",
     "output_type": "stream",
     "text": [
      "TESTING: points list: [[53 59 73]\n",
      " [59 50 71]\n",
      " [75 59 55]\n",
      " [60 69 72]\n",
      " [73 78 54]]\n",
      "TESTING: batch points (tensor([[[53, 59, 73]]]), tensor([[1]]))\n",
      "TESTING: batch points (tensor([[[53, 59, 73],\n",
      "         [59, 50, 71]]]), tensor([[1, 1]]))\n",
      "TESTING: batch points (tensor([[[53, 59, 73],\n",
      "         [59, 50, 71],\n",
      "         [75, 59, 55]]]), tensor([[1, 1, 1]]))\n",
      "TESTING: batch points (tensor([[[53, 59, 73],\n",
      "         [59, 50, 71],\n",
      "         [75, 59, 55],\n",
      "         [60, 69, 72]]]), tensor([[1, 1, 1, 1]]))\n",
      "TESTING: batch points (tensor([[[53, 59, 73],\n",
      "         [59, 50, 71],\n",
      "         [75, 59, 55],\n",
      "         [60, 69, 72],\n",
      "         [73, 78, 54]]]), tensor([[1, 1, 1, 1, 1]]))\n",
      "la_020.nii.gz Dice list by number of clicks (left atrium): [0.7489, 0.7226, 0.7369, 0.736, 0.7417]\n"
     ]
    },
    {
     "name": "stderr",
     "output_type": "stream",
     "text": [
      " 55%|█████▌    | 11/20 [00:18<00:14,  1.66s/it]"
     ]
    },
    {
     "name": "stdout",
     "output_type": "stream",
     "text": [
      "TESTING: points list: [[67 70 71]\n",
      " [72 54 54]\n",
      " [64 51 76]\n",
      " [55 54 63]\n",
      " [65 77 52]]\n",
      "TESTING: batch points (tensor([[[67, 70, 71]]]), tensor([[1]]))\n",
      "TESTING: batch points (tensor([[[67, 70, 71],\n",
      "         [72, 54, 54]]]), tensor([[1, 1]]))\n",
      "TESTING: batch points (tensor([[[67, 70, 71],\n",
      "         [72, 54, 54],\n",
      "         [64, 51, 76]]]), tensor([[1, 1, 1]]))\n",
      "TESTING: batch points (tensor([[[67, 70, 71],\n",
      "         [72, 54, 54],\n",
      "         [64, 51, 76],\n",
      "         [55, 54, 63]]]), tensor([[1, 1, 1, 1]]))\n",
      "TESTING: batch points (tensor([[[67, 70, 71],\n",
      "         [72, 54, 54],\n",
      "         [64, 51, 76],\n",
      "         [55, 54, 63],\n",
      "         [65, 77, 52]]]), tensor([[1, 1, 1, 1, 1]]))\n",
      "la_003.nii.gz Dice list by number of clicks (left atrium): [0.5355, 0.5373, 0.5962, 0.605, 0.6085]\n"
     ]
    },
    {
     "name": "stderr",
     "output_type": "stream",
     "text": [
      " 60%|██████    | 12/20 [00:20<00:13,  1.74s/it]"
     ]
    },
    {
     "name": "stdout",
     "output_type": "stream",
     "text": [
      "TESTING: points list: [[75 76 80]\n",
      " [72 68 80]\n",
      " [52 52 49]\n",
      " [52 73 52]\n",
      " [54 68 48]]\n",
      "TESTING: batch points (tensor([[[75, 76, 80]]]), tensor([[1]]))\n",
      "TESTING: batch points (tensor([[[75, 76, 80],\n",
      "         [72, 68, 80]]]), tensor([[1, 1]]))\n",
      "TESTING: batch points (tensor([[[75, 76, 80],\n",
      "         [72, 68, 80],\n",
      "         [52, 52, 49]]]), tensor([[1, 1, 1]]))\n",
      "TESTING: batch points (tensor([[[75, 76, 80],\n",
      "         [72, 68, 80],\n",
      "         [52, 52, 49],\n",
      "         [52, 73, 52]]]), tensor([[1, 1, 1, 1]]))\n",
      "TESTING: batch points (tensor([[[75, 76, 80],\n",
      "         [72, 68, 80],\n",
      "         [52, 52, 49],\n",
      "         [52, 73, 52],\n",
      "         [54, 68, 48]]]), tensor([[1, 1, 1, 1, 1]]))\n",
      "la_011.nii.gz Dice list by number of clicks (left atrium): [0.561, 0.5726, 0.6684, 0.6932, 0.675]\n"
     ]
    },
    {
     "name": "stderr",
     "output_type": "stream",
     "text": [
      " 65%|██████▌   | 13/20 [00:22<00:12,  1.73s/it]"
     ]
    },
    {
     "name": "stdout",
     "output_type": "stream",
     "text": [
      "TESTING: points list: [[57 51 69]\n",
      " [71 54 66]\n",
      " [60 58 56]\n",
      " [57 57 71]\n",
      " [63 77 60]]\n",
      "TESTING: batch points (tensor([[[57, 51, 69]]]), tensor([[1]]))\n",
      "TESTING: batch points (tensor([[[57, 51, 69],\n",
      "         [71, 54, 66]]]), tensor([[1, 1]]))\n",
      "TESTING: batch points (tensor([[[57, 51, 69],\n",
      "         [71, 54, 66],\n",
      "         [60, 58, 56]]]), tensor([[1, 1, 1]]))\n",
      "TESTING: batch points (tensor([[[57, 51, 69],\n",
      "         [71, 54, 66],\n",
      "         [60, 58, 56],\n",
      "         [57, 57, 71]]]), tensor([[1, 1, 1, 1]]))\n",
      "TESTING: batch points (tensor([[[57, 51, 69],\n",
      "         [71, 54, 66],\n",
      "         [60, 58, 56],\n",
      "         [57, 57, 71],\n",
      "         [63, 77, 60]]]), tensor([[1, 1, 1, 1, 1]]))\n",
      "la_005.nii.gz Dice list by number of clicks (left atrium): [0.5969, 0.5743, 0.5386, 0.5469, 0.6025]\n"
     ]
    },
    {
     "name": "stderr",
     "output_type": "stream",
     "text": [
      " 70%|███████   | 14/20 [00:24<00:10,  1.73s/it]"
     ]
    },
    {
     "name": "stdout",
     "output_type": "stream",
     "text": [
      "TESTING: points list: [[76 58 64]\n",
      " [73 52 71]\n",
      " [52 76 60]\n",
      " [73 61 70]\n",
      " [64 68 56]]\n",
      "TESTING: batch points (tensor([[[76, 58, 64]]]), tensor([[1]]))\n",
      "TESTING: batch points (tensor([[[76, 58, 64],\n",
      "         [73, 52, 71]]]), tensor([[1, 1]]))\n",
      "TESTING: batch points (tensor([[[76, 58, 64],\n",
      "         [73, 52, 71],\n",
      "         [52, 76, 60]]]), tensor([[1, 1, 1]]))\n",
      "TESTING: batch points (tensor([[[76, 58, 64],\n",
      "         [73, 52, 71],\n",
      "         [52, 76, 60],\n",
      "         [73, 61, 70]]]), tensor([[1, 1, 1, 1]]))\n",
      "TESTING: batch points (tensor([[[76, 58, 64],\n",
      "         [73, 52, 71],\n",
      "         [52, 76, 60],\n",
      "         [73, 61, 70],\n",
      "         [64, 68, 56]]]), tensor([[1, 1, 1, 1, 1]]))\n",
      "la_018.nii.gz Dice list by number of clicks (left atrium): [0.5403, 0.5474, 0.5803, 0.5854, 0.5864]\n"
     ]
    },
    {
     "name": "stderr",
     "output_type": "stream",
     "text": [
      " 75%|███████▌  | 15/20 [00:25<00:08,  1.74s/it]"
     ]
    },
    {
     "name": "stdout",
     "output_type": "stream",
     "text": [
      "TESTING: points list: [[61 68 73]\n",
      " [67 49 68]\n",
      " [53 58 53]\n",
      " [74 79 91]\n",
      " [73 58 36]]\n",
      "TESTING: batch points (tensor([[[61, 68, 73]]]), tensor([[1]]))\n",
      "TESTING: batch points (tensor([[[61, 68, 73],\n",
      "         [67, 49, 68]]]), tensor([[1, 1]]))\n",
      "TESTING: batch points (tensor([[[61, 68, 73],\n",
      "         [67, 49, 68],\n",
      "         [53, 58, 53]]]), tensor([[1, 1, 1]]))\n",
      "TESTING: batch points (tensor([[[61, 68, 73],\n",
      "         [67, 49, 68],\n",
      "         [53, 58, 53],\n",
      "         [74, 79, 91]]]), tensor([[1, 1, 1, 1]]))\n",
      "TESTING: batch points (tensor([[[61, 68, 73],\n",
      "         [67, 49, 68],\n",
      "         [53, 58, 53],\n",
      "         [74, 79, 91],\n",
      "         [73, 58, 36]]]), tensor([[1, 1, 1, 1, 1]]))\n",
      "la_021.nii.gz Dice list by number of clicks (left atrium): [0.651, 0.6865, 0.6919, 0.6383, 0.6705]\n"
     ]
    },
    {
     "name": "stderr",
     "output_type": "stream",
     "text": [
      " 80%|████████  | 16/20 [00:27<00:06,  1.72s/it]"
     ]
    },
    {
     "name": "stdout",
     "output_type": "stream",
     "text": [
      "TESTING: points list: [[72 70 68]\n",
      " [59 75 48]\n",
      " [55 52 79]\n",
      " [64 76 57]\n",
      " [57 51 52]]\n",
      "TESTING: batch points (tensor([[[72, 70, 68]]]), tensor([[1]]))\n",
      "TESTING: batch points (tensor([[[72, 70, 68],\n",
      "         [59, 75, 48]]]), tensor([[1, 1]]))\n",
      "TESTING: batch points (tensor([[[72, 70, 68],\n",
      "         [59, 75, 48],\n",
      "         [55, 52, 79]]]), tensor([[1, 1, 1]]))\n",
      "TESTING: batch points (tensor([[[72, 70, 68],\n",
      "         [59, 75, 48],\n",
      "         [55, 52, 79],\n",
      "         [64, 76, 57]]]), tensor([[1, 1, 1, 1]]))\n",
      "TESTING: batch points (tensor([[[72, 70, 68],\n",
      "         [59, 75, 48],\n",
      "         [55, 52, 79],\n",
      "         [64, 76, 57],\n",
      "         [57, 51, 52]]]), tensor([[1, 1, 1, 1, 1]]))\n",
      "la_019.nii.gz Dice list by number of clicks (left atrium): [0.6042, 0.6876, 0.7052, 0.7071, 0.7213]\n"
     ]
    },
    {
     "name": "stderr",
     "output_type": "stream",
     "text": [
      " 85%|████████▌ | 17/20 [00:29<00:05,  1.73s/it]"
     ]
    },
    {
     "name": "stdout",
     "output_type": "stream",
     "text": [
      "TESTING: points list: [[58 87 71]\n",
      " [66 65 59]\n",
      " [68 40 69]\n",
      " [74 44 57]\n",
      " [54 71 58]]\n",
      "TESTING: batch points (tensor([[[58, 87, 71]]]), tensor([[1]]))\n",
      "TESTING: batch points (tensor([[[58, 87, 71],\n",
      "         [66, 65, 59]]]), tensor([[1, 1]]))\n",
      "TESTING: batch points (tensor([[[58, 87, 71],\n",
      "         [66, 65, 59],\n",
      "         [68, 40, 69]]]), tensor([[1, 1, 1]]))\n",
      "TESTING: batch points (tensor([[[58, 87, 71],\n",
      "         [66, 65, 59],\n",
      "         [68, 40, 69],\n",
      "         [74, 44, 57]]]), tensor([[1, 1, 1, 1]]))\n",
      "TESTING: batch points (tensor([[[58, 87, 71],\n",
      "         [66, 65, 59],\n",
      "         [68, 40, 69],\n",
      "         [74, 44, 57],\n",
      "         [54, 71, 58]]]), tensor([[1, 1, 1, 1, 1]]))\n",
      "la_004.nii.gz Dice list by number of clicks (left atrium): [0.6291, 0.6653, 0.6587, 0.6759, 0.6805]\n"
     ]
    },
    {
     "name": "stderr",
     "output_type": "stream",
     "text": [
      " 90%|█████████ | 18/20 [00:31<00:03,  1.74s/it]"
     ]
    },
    {
     "name": "stdout",
     "output_type": "stream",
     "text": [
      "TESTING: points list: [[79 50 60]\n",
      " [75 77 45]\n",
      " [48 56 83]\n",
      " [79 56 51]\n",
      " [71 75 61]]\n",
      "TESTING: batch points (tensor([[[79, 50, 60]]]), tensor([[1]]))\n",
      "TESTING: batch points (tensor([[[79, 50, 60],\n",
      "         [75, 77, 45]]]), tensor([[1, 1]]))\n",
      "TESTING: batch points (tensor([[[79, 50, 60],\n",
      "         [75, 77, 45],\n",
      "         [48, 56, 83]]]), tensor([[1, 1, 1]]))\n",
      "TESTING: batch points (tensor([[[79, 50, 60],\n",
      "         [75, 77, 45],\n",
      "         [48, 56, 83],\n",
      "         [79, 56, 51]]]), tensor([[1, 1, 1, 1]]))\n",
      "TESTING: batch points (tensor([[[79, 50, 60],\n",
      "         [75, 77, 45],\n",
      "         [48, 56, 83],\n",
      "         [79, 56, 51],\n",
      "         [71, 75, 61]]]), tensor([[1, 1, 1, 1, 1]]))\n",
      "la_009.nii.gz Dice list by number of clicks (left atrium): [0.3399, 0.5533, 0.6292, 0.6215, 0.6239]\n"
     ]
    },
    {
     "name": "stderr",
     "output_type": "stream",
     "text": [
      " 95%|█████████▌| 19/20 [00:32<00:01,  1.72s/it]"
     ]
    },
    {
     "name": "stdout",
     "output_type": "stream",
     "text": [
      "TESTING: points list: [[72 70 54]\n",
      " [61 63 70]\n",
      " [68 58 84]\n",
      " [55 71 44]\n",
      " [63 56 66]]\n",
      "TESTING: batch points (tensor([[[72, 70, 54]]]), tensor([[1]]))\n",
      "TESTING: batch points (tensor([[[72, 70, 54],\n",
      "         [61, 63, 70]]]), tensor([[1, 1]]))\n",
      "TESTING: batch points (tensor([[[72, 70, 54],\n",
      "         [61, 63, 70],\n",
      "         [68, 58, 84]]]), tensor([[1, 1, 1]]))\n",
      "TESTING: batch points (tensor([[[72, 70, 54],\n",
      "         [61, 63, 70],\n",
      "         [68, 58, 84],\n",
      "         [55, 71, 44]]]), tensor([[1, 1, 1, 1]]))\n",
      "TESTING: batch points (tensor([[[72, 70, 54],\n",
      "         [61, 63, 70],\n",
      "         [68, 58, 84],\n",
      "         [55, 71, 44],\n",
      "         [63, 56, 66]]]), tensor([[1, 1, 1, 1, 1]]))\n",
      "la_026.nii.gz Dice list by number of clicks (left atrium): [0.1372, 0.2351, 0.2004, 0.3323, 0.3733]\n",
      "Save results to /home/t722s/Desktop/Sam-Med3DTest/NetworkHeartModified/eval_res_from_inference.json\n",
      "Done\n"
     ]
    },
    {
     "name": "stderr",
     "output_type": "stream",
     "text": [
      "100%|██████████| 20/20 [00:34<00:00,  1.73s/it]\n"
     ]
    },
    {
     "data": {
      "text/plain": [
       "CompletedProcess(args=['python', 'evaluate_folder2.py', '-rp', '/home/t722s/Desktop/Sam-Med3DTest/NetworkHeartModified', '-tdp', '/home/t722s/Desktop/Datasets/NetworkHeartModified/'], returncode=0)"
      ]
     },
     "execution_count": 9,
     "metadata": {},
     "output_type": "execute_result"
    }
   ],
   "source": [
    "# Testing new dataset\n",
    "seed = 785406\n",
    "point_generation_args = ['python', 'generate_points.py', \\\n",
    "        '-tdp', '/home/t722s/Desktop/Datasets/NetworkHeartModified/', \\\n",
    "        '-rp', '/home/t722s/Desktop/Sam-Med3DTest/NetworkHeartModified/', \\\n",
    "        '-nc', '5',\n",
    "        '--seed', str(seed)]\n",
    "subprocess.run(point_generation_args,\n",
    "                stdout=subprocess.DEVNULL, \n",
    "                stderr=subprocess.DEVNULL)\n",
    "inference_args = ['python', 'SAM-Med3D/validationTesting2.py', \n",
    "                    '--seed', '2020',\n",
    "                    '-rp', '/home/t722s/Desktop/Sam-Med3DTest/NetworkHeartModified',\n",
    "                    '-cp', '/home/t722s/Desktop/UniversalModels/TrainedModels/sam_med3d.pth',\n",
    "                    '-tdp', '/home/t722s/Desktop/Datasets/NetworkHeartModified/',\n",
    "                    ]\n",
    "subprocess.run(inference_args)\n"
   ]
  }
 ],
 "metadata": {
  "kernelspec": {
   "display_name": "universalModels",
   "language": "python",
   "name": "python3"
  },
  "language_info": {
   "codemirror_mode": {
    "name": "ipython",
    "version": 3
   },
   "file_extension": ".py",
   "mimetype": "text/x-python",
   "name": "python",
   "nbconvert_exporter": "python",
   "pygments_lexer": "ipython3",
   "version": "3.11.5"
  }
 },
 "nbformat": 4,
 "nbformat_minor": 2
}
