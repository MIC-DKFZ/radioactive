{
 "cells": [
  {
   "cell_type": "code",
   "execution_count": 2,
   "metadata": {},
   "outputs": [],
   "source": [
    "import argparse\n",
    "import subprocess"
   ]
  },
  {
   "cell_type": "code",
   "execution_count": 3,
   "metadata": {},
   "outputs": [
    {
     "data": {
      "text/plain": [
       "_StoreAction(option_strings=['--seed'], dest='seed', nargs=None, const=None, default=2023, type=<class 'int'>, choices=None, required=False, help=None, metavar=None)"
      ]
     },
     "execution_count": 3,
     "metadata": {},
     "output_type": "execute_result"
    }
   ],
   "source": [
    "parser = argparse.ArgumentParser()\n",
    "parser.add_argument('-tdp', '--test_data_path', type=str, default='./data/images')\n",
    "parser.add_argument('-cp', '--checkpoint_path', type=str, default='./checkpoints/sam_med3d.pth')\n",
    "parser.add_argument('-rp', '--results_path', type=str, default='./results')\n",
    "parser.add_argument('--model', type = str, choices = ['SAM-Med3D', 'SAM'])\n",
    "\n",
    "parser.add_argument('--seed', type=int, default=2023)\n",
    "\n",
    "#args = parser.parse_args()"
   ]
  },
  {
   "cell_type": "code",
   "execution_count": 4,
   "metadata": {},
   "outputs": [],
   "source": [
    "# hardcode for juptyer notebook compatability\n",
    "\n",
    "args = argparse.Namespace(\n",
    "    test_volume_directory='./data/images',\n",
    "    test_label_directory='./data/labels',\n",
    "    checkpoint_path='./checkpoints/sam_med3d.pth',\n",
    "    results_save_path='./results',\n",
    "    model='SAM-Med3D',\n",
    "    seed=2023\n",
    ")"
   ]
  },
  {
   "cell_type": "code",
   "execution_count": 22,
   "metadata": {},
   "outputs": [
    {
     "name": "stdout",
     "output_type": "stream",
     "text": [
      "set seed as 2022\n",
      "get 1 datasets\n",
      "device: cuda\n"
     ]
    },
    {
     "name": "stderr",
     "output_type": "stream",
     "text": [
      "  0%|          | 0/1 [00:00<?, ?it/s]"
     ]
    },
    {
     "name": "stdout",
     "output_type": "stream",
     "text": [
      "save to /home/t722s/Desktop/Sam-Med3DTest/BratsMiniOld/dataset/dataset2/BraTS2021_01646_pred.nii.gz\n",
      "[0.6339, 0.7026, 0.791, 0.7861, 0.815]\n",
      "Mean IoU :  0.6878\n",
      "Mean Dice:  0.815\n",
      "Save to /home/t722s/Desktop/Sam-Med3DTest/evalBrats/old.py\n",
      "Done\n"
     ]
    },
    {
     "name": "stderr",
     "output_type": "stream",
     "text": [
      "100%|██████████| 1/1 [00:00<00:00,  1.06it/s]\n"
     ]
    }
   ],
   "source": [
    "# Old version\n",
    "if(args.model == 'SAM-Med3D'):\n",
    "    subprocess_args = ['python', '/home/t722s/Desktop/UniversalModels/OtherRepos/SAM-Med3D/validation.py', \n",
    "                       '--seed', '2022',\n",
    "                       '-vp', '/home/t722s/Desktop/Sam-Med3DTest/BratsMiniOld',\n",
    "                       '-cp', '/home/t722s/Desktop/UniversalModels/TrainedModels/sam_med3d.pth',\n",
    "                       '-tdp', '/home/t722s/Desktop/Datasets/BratsMiniOld/',\n",
    "                       '--save_name', '/home/t722s/Desktop/Sam-Med3DTest/evalBrats/old.py']\n",
    "    subprocess.run(subprocess_args)"
   ]
  },
  {
   "cell_type": "code",
   "execution_count": 27,
   "metadata": {},
   "outputs": [
    {
     "name": "stdout",
     "output_type": "stream",
     "text": [
      "set seed as 2022\n",
      "get 1 datasets\n",
      "device: cuda\n"
     ]
    },
    {
     "name": "stderr",
     "output_type": "stream",
     "text": [
      "  0%|          | 0/1 [00:00<?, ?it/s]"
     ]
    },
    {
     "name": "stdout",
     "output_type": "stream",
     "text": [
      "save to /home/t722s/Desktop/Sam-Med3DTest/BratsMiniOld/dataset/dataset2/BraTS2021_01646_pred.nii.gz\n",
      "[0.6339, 0.7026, 0.791, 0.7861, 0.815]\n",
      "Mean IoU :  0.6878\n",
      "Mean Dice:  0.815\n",
      "Save to /home/t722s/Desktop/Sam-Med3DTest/evalBrats/old.py\n",
      "Done\n"
     ]
    },
    {
     "name": "stderr",
     "output_type": "stream",
     "text": [
      "100%|██████████| 1/1 [00:00<00:00,  1.10it/s]\n"
     ]
    }
   ],
   "source": [
    "if(args.model == 'SAM-Med3D'):\n",
    "    subprocess_args = ['python', 'SAM-Med3D/validationComparison.py', \n",
    "                       '--seed', '2022',\n",
    "                       '-vp', '/home/t722s/Desktop/Sam-Med3DTest/BratsMiniOld',\n",
    "                       '-cp', '/home/t722s/Desktop/UniversalModels/TrainedModels/sam_med3d.pth',\n",
    "                       '-tdp', '/home/t722s/Desktop/Datasets/BratsMiniOld/',\n",
    "                       '--save_name', '/home/t722s/Desktop/Sam-Med3DTest/evalBrats/old.py'\n",
    "                       ]\n",
    "    subprocess.run(subprocess_args)"
   ]
  },
  {
   "cell_type": "code",
   "execution_count": 29,
   "metadata": {},
   "outputs": [
    {
     "name": "stdout",
     "output_type": "stream",
     "text": [
      "set seed as 2022\n",
      "Performing crop/pad with label\n",
      "device: cuda\n"
     ]
    },
    {
     "name": "stderr",
     "output_type": "stream",
     "text": [
      "  0%|          | 0/1 [00:00<?, ?it/s]"
     ]
    },
    {
     "name": "stdout",
     "output_type": "stream",
     "text": [
      "Undoing crop/pad with label\n",
      "TESTING: is fg and label (tensor([1], dtype=torch.uint8), tensor([[1.]]))\n",
      "TESTING: is fg and label (tensor([0], dtype=torch.uint8), tensor([[0]]))\n",
      "TESTING: is fg and label (tensor([1], dtype=torch.uint8), tensor([[1]]))\n",
      "TESTING: is fg and label (tensor([0], dtype=torch.uint8), tensor([[0]]))\n",
      "TESTING: is fg and label (tensor([1], dtype=torch.uint8), tensor([[1]]))\n",
      "Dice list by number of clicks: [0.53, 0.7108, 0.5155, 0.4452, 0.3511]\n",
      "Save results to /home/t722s/Desktop/Sam-Med3DTest/evalBrats/eval_res.json\n",
      "Done\n"
     ]
    },
    {
     "name": "stderr",
     "output_type": "stream",
     "text": [
      "100%|██████████| 1/1 [00:01<00:00,  1.51s/it]\n"
     ]
    }
   ],
   "source": [
    "if(args.model == 'SAM-Med3D'):\n",
    "    subprocess_args = ['python', 'SAM-Med3D/validationTesting.py', \n",
    "                       '--seed', '2022',\n",
    "                       '-vp', '/home/t722s/Desktop/Sam-Med3DTest/BratsMini',\n",
    "                       '-cp', '/home/t722s/Desktop/UniversalModels/TrainedModels/sam_med3d.pth',\n",
    "                       '-tdp', '/home/t722s/Desktop/Datasets/BratsMini/',\n",
    "                       '--eval_dir', '/home/t722s/Desktop/Sam-Med3DTest/evalBrats',\n",
    "                       '-i']\n",
    "    subprocess.run(subprocess_args)"
   ]
  }
 ],
 "metadata": {
  "kernelspec": {
   "display_name": "universalModels",
   "language": "python",
   "name": "python3"
  },
  "language_info": {
   "codemirror_mode": {
    "name": "ipython",
    "version": 3
   },
   "file_extension": ".py",
   "mimetype": "text/x-python",
   "name": "python",
   "nbconvert_exporter": "python",
   "pygments_lexer": "ipython3",
   "version": "3.11.5"
  }
 },
 "nbformat": 4,
 "nbformat_minor": 2
}
