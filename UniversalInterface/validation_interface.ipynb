{
 "cells": [
  {
   "cell_type": "code",
   "execution_count": 2,
   "metadata": {},
   "outputs": [],
   "source": [
    "import argparse\n",
    "import subprocess"
   ]
  },
  {
   "cell_type": "code",
   "execution_count": 6,
   "metadata": {},
   "outputs": [
    {
     "data": {
      "text/plain": [
       "_StoreAction(option_strings=['--seed'], dest='seed', nargs=None, const=None, default=2023, type=<class 'int'>, choices=None, required=False, help=None, metavar=None)"
      ]
     },
     "execution_count": 6,
     "metadata": {},
     "output_type": "execute_result"
    }
   ],
   "source": [
    "parser = argparse.ArgumentParser()\n",
    "parser.add_argument('-tdp', '--test_data_path', type=str, default='./data/images')\n",
    "parser.add_argument('-cp', '--checkpoint_path', type=str, default='./checkpoints/sam_med3d.pth')\n",
    "parser.add_argument('-rp', '--results_path', type=str, default='./results')\n",
    "parser.add_argument('--model', type = str, choices = ['SAM-Med3D', 'SAM'])\n",
    "\n",
    "parser.add_argument('--seed', type=int, default=2023)\n",
    "\n",
    "#args = parser.parse_args()"
   ]
  },
  {
   "cell_type": "code",
   "execution_count": 7,
   "metadata": {},
   "outputs": [],
   "source": [
    "# hardcode for juptyer notebook compatability\n",
    "\n",
    "args = argparse.Namespace(\n",
    "    test_volume_directory='./data/images',\n",
    "    test_label_directory='./data/labels',\n",
    "    checkpoint_path='./checkpoints/sam_med3d.pth',\n",
    "    results_save_path='./results',\n",
    "    model='SAM-Med3D',\n",
    "    seed=2023\n",
    ")"
   ]
  },
  {
   "cell_type": "code",
   "execution_count": 17,
   "metadata": {},
   "outputs": [
    {
     "name": "stdout",
     "output_type": "stream",
     "text": [
      "set seed as 2022\n",
      "get 1 datasets\n",
      "device: cuda\n"
     ]
    },
    {
     "name": "stderr",
     "output_type": "stream",
     "text": [
      "  0%|          | 0/1 [00:00<?, ?it/s]"
     ]
    },
    {
     "name": "stdout",
     "output_type": "stream",
     "text": [
      "TESTING: batch points and labels (torch.Size([1, 1, 3]), [tensor([[1]])])\n",
      "TESTING: batch points and labels (torch.Size([1, 1, 3]), [tensor([[0]])])\n",
      "TESTING: batch points and labels (torch.Size([1, 1, 3]), [tensor([[1]])])\n",
      "TESTING: batch points and labels (torch.Size([1, 1, 3]), [tensor([[1]])])\n",
      "TESTING: batch points and labels (torch.Size([1, 1, 3]), [tensor([[1]])])\n",
      "save to /home/t722s/Desktop/Sam-Med3DTest/BratsMiniOld/dataset/dataset2/BraTS2021_01646_pred.nii.gz\n",
      "[0.6339, 0.7026, 0.791, 0.7861, 0.815]\n",
      "Mean IoU :  0.6878\n",
      "Mean Dice:  0.815\n",
      "Save to /home/t722s/Desktop/Sam-Med3DTest/evalBrats/old.py\n",
      "Done\n"
     ]
    },
    {
     "name": "stderr",
     "output_type": "stream",
     "text": [
      "100%|██████████| 1/1 [00:00<00:00,  1.07it/s]\n"
     ]
    }
   ],
   "source": [
    "# Original (ie performance should be comparable)\n",
    "if(args.model == 'SAM-Med3D'):\n",
    "    subprocess_args = ['python', '/home/t722s/Desktop/UniversalModels/OtherRepos/SAM-Med3D/validation.py', \n",
    "                       '--seed', '2022',\n",
    "                       '-vp', '/home/t722s/Desktop/Sam-Med3DTest/BratsMiniOld',\n",
    "                       '-cp', '/home/t722s/Desktop/UniversalModels/TrainedModels/sam_med3d.pth',\n",
    "                       '-tdp', '/home/t722s/Desktop/Datasets/BratsMiniOld/',\n",
    "                       '--save_name', '/home/t722s/Desktop/Sam-Med3DTest/evalBrats/old.py']\n",
    "    subprocess.run(subprocess_args)"
   ]
  },
  {
   "cell_type": "code",
   "execution_count": 18,
   "metadata": {},
   "outputs": [
    {
     "name": "stdout",
     "output_type": "stream",
     "text": [
      "set seed as 2022\n",
      "device: cuda\n"
     ]
    },
    {
     "name": "stderr",
     "output_type": "stream",
     "text": [
      "  0%|          | 0/1 [00:00<?, ?it/s]"
     ]
    },
    {
     "name": "stdout",
     "output_type": "stream",
     "text": [
      "TESTING: points_list (tensor([[70, 81, 76],\n",
      "        [58, 61, 75],\n",
      "        [70, 46, 66],\n",
      "        [63, 69, 69],\n",
      "        [60, 55, 52]]), tensor([1, 1, 1, 1, 1]))\n",
      "Dice list by number of clicks: [0.7663, 0.6732, 0.5916, 0.6136, 0.639]\n",
      "Save results to /home/t722s/Desktop/Sam-Med3DTest/evalBrats/eval_res.json\n",
      "Done\n"
     ]
    },
    {
     "name": "stderr",
     "output_type": "stream",
     "text": [
      "100%|██████████| 1/1 [00:00<00:00,  1.24it/s]\n"
     ]
    }
   ],
   "source": [
    "# My script, using the same algorithm as the original ie cropping around ground truth, interactive point generation, successive iterations feed one (new) point and the previous generated low\n",
    "if(args.model == 'SAM-Med3D'):\n",
    "    subprocess_args = ['python', 'SAM-Med3D/validationTesting.py', \n",
    "                       '--seed', '2022',\n",
    "                       '-vp', '/home/t722s/Desktop/Sam-Med3DTest/BratsMini',\n",
    "                       '-cp', '/home/t722s/Desktop/UniversalModels/TrainedModels/sam_med3d.pth',\n",
    "                       '-tdp', '/home/t722s/Desktop/Datasets/BratsMini/',\n",
    "                       '--eval_dir', '/home/t722s/Desktop/Sam-Med3DTest/evalBrats',\n",
    "                       ]\n",
    "    subprocess.run(subprocess_args)"
   ]
  },
  {
   "cell_type": "code",
   "execution_count": 81,
   "metadata": {},
   "outputs": [
    {
     "name": "stdout",
     "output_type": "stream",
     "text": [
      "set seed as 2020\n",
      "Performing crop/pad with label\n",
      "device: cuda\n"
     ]
    },
    {
     "name": "stderr",
     "output_type": "stream",
     "text": [
      "  0%|          | 0/1 [00:00<?, ?it/s]"
     ]
    },
    {
     "name": "stdout",
     "output_type": "stream",
     "text": [
      "Undoing crop/pad with label\n",
      "TESTING: batch points: tensor([[[61, 48, 55]]])\n",
      "TESTING: is fg and label (tensor([1], dtype=torch.uint8), tensor([[1]]))\n",
      "TESTING: batch points: tensor([[[61, 48, 55],\n",
      "         [60, 54, 56]]])\n",
      "TESTING: is fg and label (tensor([1, 0], dtype=torch.uint8), tensor([[1, 0]]))\n",
      "TESTING: batch points: tensor([[[61, 48, 55],\n",
      "         [60, 54, 56],\n",
      "         [59, 50, 48]]])\n",
      "TESTING: is fg and label (tensor([1, 0, 1], dtype=torch.uint8), tensor([[1, 0, 1]]))\n",
      "TESTING: batch points: tensor([[[61, 48, 55],\n",
      "         [60, 54, 56],\n",
      "         [59, 50, 48],\n",
      "         [68, 88, 68]]])\n",
      "TESTING: is fg and label (tensor([1, 0, 1, 1], dtype=torch.uint8), tensor([[1, 0, 1, 1]]))\n",
      "TESTING: batch points: tensor([[[61, 48, 55],\n",
      "         [60, 54, 56],\n",
      "         [59, 50, 48],\n",
      "         [68, 88, 68],\n",
      "         [93, 52, 66]]])\n",
      "TESTING: is fg and label (tensor([1, 0, 1, 1, 0], dtype=torch.uint8), tensor([[1, 0, 1, 1, 0]]))\n",
      "Dice list by number of clicks: [0.7292, 0.738, 0.4893, 0.4527, 0.4998]\n",
      "Save results to /home/t722s/Desktop/Sam-Med3DTest/evalBrats/eval_res.json\n",
      "Done\n"
     ]
    },
    {
     "name": "stderr",
     "output_type": "stream",
     "text": [
      "100%|██████████| 1/1 [00:00<00:00,  1.29it/s]\n"
     ]
    }
   ],
   "source": [
    "# My script, still cropping around ground truth, but successive iterations do not feed \n",
    "if(args.model == 'SAM-Med3D'):\n",
    "    subprocess_args = ['python', 'SAM-Med3D/validationTesting.py', \n",
    "                       '--seed', '2020',\n",
    "                       '-vp', '/home/t722s/Desktop/Sam-Med3DTest/BratsMini',\n",
    "                       '-cp', '/home/t722s/Desktop/UniversalModels/TrainedModels/sam_med3d.pth',\n",
    "                       '-tdp', '/home/t722s/Desktop/Datasets/BratsMini/',\n",
    "                       '--eval_dir', '/home/t722s/Desktop/Sam-Med3DTest/evalBrats']\n",
    "    subprocess.run(subprocess_args)"
   ]
  },
  {
   "cell_type": "code",
   "execution_count": 83,
   "metadata": {},
   "outputs": [
    {
     "name": "stdout",
     "output_type": "stream",
     "text": [
      "set seed as 2020\n",
      "Performing crop/pad with label\n",
      "device: cuda\n"
     ]
    },
    {
     "name": "stderr",
     "output_type": "stream",
     "text": [
      "  0%|          | 0/1 [00:00<?, ?it/s]"
     ]
    },
    {
     "name": "stdout",
     "output_type": "stream",
     "text": [
      "Undoing crop/pad with label\n",
      "TESTING: batch points: tensor([[[61, 48, 55]]])\n",
      "TESTING: is fg and label (tensor([1], dtype=torch.uint8), tensor([[1]]))\n",
      "TESTING: batch points: tensor([[[61, 48, 55],\n",
      "         [64, 35, 47]]])\n",
      "TESTING: is fg and label (tensor([1, 1], dtype=torch.uint8), tensor([[1, 1]]))\n",
      "TESTING: batch points: tensor([[[61, 48, 55],\n",
      "         [64, 35, 47],\n",
      "         [69, 64, 70]]])\n",
      "TESTING: is fg and label (tensor([1, 1, 1], dtype=torch.uint8), tensor([[1, 1, 1]]))\n",
      "TESTING: batch points: tensor([[[61, 48, 55],\n",
      "         [64, 35, 47],\n",
      "         [69, 64, 70],\n",
      "         [73, 38, 63]]])\n",
      "TESTING: is fg and label (tensor([1, 1, 1, 1], dtype=torch.uint8), tensor([[1, 1, 1, 1]]))\n",
      "TESTING: batch points: tensor([[[61, 48, 55],\n",
      "         [64, 35, 47],\n",
      "         [69, 64, 70],\n",
      "         [73, 38, 63],\n",
      "         [75, 64, 78]]])\n",
      "TESTING: is fg and label (tensor([1, 1, 1, 1, 1], dtype=torch.uint8), tensor([[1, 1, 1, 1, 1]]))\n",
      "Dice list by number of clicks: [0.7292, 0.5316, 0.7378, 0.7086, 0.6868]\n",
      "Save results to /home/t722s/Desktop/Sam-Med3DTest/evalBrats/eval_res.json\n",
      "Done\n"
     ]
    },
    {
     "name": "stderr",
     "output_type": "stream",
     "text": [
      "100%|██████████| 1/1 [00:00<00:00,  1.28it/s]\n"
     ]
    }
   ],
   "source": [
    "if(args.model == 'SAM-Med3D'):\n",
    "    subprocess_args = ['python', 'SAM-Med3D/validationTesting.py', \n",
    "                       '--seed', '2020',\n",
    "                       '-vp', '/home/t722s/Desktop/Sam-Med3DTest/BratsMini',\n",
    "                       '-cp', '/home/t722s/Desktop/UniversalModels/TrainedModels/sam_med3d.pth',\n",
    "                       '-tdp', '/home/t722s/Desktop/Datasets/BratsMini/',\n",
    "                       '--eval_dir', '/home/t722s/Desktop/Sam-Med3DTest/evalBrats']\n",
    "    res = subprocess.run(subprocess_args)"
   ]
  },
  {
   "cell_type": "code",
   "execution_count": 29,
   "metadata": {},
   "outputs": [
    {
     "data": {
      "text/plain": [
       "(235, 3)"
      ]
     },
     "execution_count": 29,
     "metadata": {},
     "output_type": "execute_result"
    }
   ],
   "source": [
    "import pickle\n",
    "with open('/home/t722s/Desktop/Sam-Med3DTest/evalBrats/prompts.pkl', 'rb') as f:\n",
    "    prompts = pickle.load(f)\n",
    "\n",
    "prompts['BraTS2021_01646.nii.gz'][1]['2D'][0].shape"
   ]
  },
  {
   "cell_type": "code",
   "execution_count": 34,
   "metadata": {},
   "outputs": [
    {
     "name": "stdout",
     "output_type": "stream",
     "text": [
      "Set seed 785406\n",
      "Saving prompts to /home/t722s/Desktop/Sam-Med3DTest/evalBrats/prompts.pkl\n"
     ]
    },
    {
     "name": "stderr",
     "output_type": "stream",
     "text": [
      "  0%|          | 0/1 [00:00<?, ?it/s]\n",
      "100%|██████████| 1/1 [00:00<00:00, 76.79it/s]\n",
      "100%|██████████| 1/1 [00:00<00:00, 22.42it/s]\n"
     ]
    },
    {
     "name": "stdout",
     "output_type": "stream",
     "text": [
      "set seed as 785406\n",
      "Cheating! Cropping around ground truth\n",
      "device: cuda\n"
     ]
    },
    {
     "name": "stderr",
     "output_type": "stream",
     "text": [
      "  0%|          | 0/1 [00:00<?, ?it/s]"
     ]
    },
    {
     "name": "stdout",
     "output_type": "stream",
     "text": [
      "TESTING: points_list tensor([[70, 48, 59],\n",
      "        [61, 56, 66],\n",
      "        [69, 50, 63],\n",
      "        [64, 74, 73],\n",
      "        [66, 54, 77]])\n",
      "TESTING: batch points, labels (tensor([[[70, 48, 59]]]), tensor([[1.]], dtype=torch.float64))\n",
      "TESTING: batch points, labels (tensor([[[70, 48, 59],\n",
      "         [61, 56, 66]]]), tensor([[1., 1.]], dtype=torch.float64))\n",
      "TESTING: batch points, labels (tensor([[[70, 48, 59],\n",
      "         [61, 56, 66],\n",
      "         [69, 50, 63]]]), tensor([[1., 1., 1.]], dtype=torch.float64))\n",
      "TESTING: batch points, labels (tensor([[[70, 48, 59],\n",
      "         [61, 56, 66],\n",
      "         [69, 50, 63],\n",
      "         [64, 74, 73]]]), tensor([[1., 1., 1., 1.]], dtype=torch.float64))\n",
      "TESTING: batch points, labels (tensor([[[70, 48, 59],\n",
      "         [61, 56, 66],\n",
      "         [69, 50, 63],\n",
      "         [64, 74, 73],\n",
      "         [66, 54, 77]]]), tensor([[1., 1., 1., 1., 1.]], dtype=torch.float64))\n",
      "Dice list by number of clicks: [0.8143, 0.7981, 0.7558, 0.7797, 0.7386]\n",
      "Save results to /home/t722s/Desktop/Sam-Med3DTest/evalBrats/eval_res.json\n",
      "Done\n"
     ]
    },
    {
     "name": "stderr",
     "output_type": "stream",
     "text": [
      "100%|██████████| 1/1 [00:00<00:00,  1.32it/s]\n"
     ]
    }
   ],
   "source": [
    "import numpy as np\n",
    "n_run = 1\n",
    "for seed in [785406]:#np.random.randint(10**6, size = n_run):\n",
    "    point_generation_args = ['python', 'generate_points2.py', \n",
    "        '-tdp', '/home/t722s/Desktop/Datasets/BratsMini/', \n",
    "        '-rp', '/home/t722s/Desktop/Sam-Med3DTest/evalBrats/', \n",
    "        '-nc', '5',\n",
    "        '--seed', str(seed)]\n",
    "    subprocess.run(point_generation_args,)\n",
    "                    # stdout=subprocess.DEVNULL, \n",
    "                    # stderr=subprocess.DEVNULL)\n",
    "    validation_args = ['python', 'SAM-Med3D/validationTesting2.py', \n",
    "                        '--seed', str(seed),\n",
    "                        '-vp', '/home/t722s/Desktop/Sam-Med3DTest/BratsMini',\n",
    "                        '-cp', '/home/t722s/Desktop/UniversalModels/TrainedModels/sam_med3d.pth',\n",
    "                        '-tdp', '/home/t722s/Desktop/Datasets/BratsMini/',\n",
    "                        '--eval_dir', '/home/t722s/Desktop/Sam-Med3DTest/evalBrats',\n",
    "                        '-mrn',  'gt_crop_interactive',\n",
    "                        '-l'\n",
    "                        ]\n",
    "    subprocess.run(validation_args,)\n",
    "                    # stdout=subprocess.DEVNULL, \n",
    "                    # stderr=subprocess.DEVNULL)"
   ]
  }
 ],
 "metadata": {
  "kernelspec": {
   "display_name": "universalModels",
   "language": "python",
   "name": "python3"
  },
  "language_info": {
   "codemirror_mode": {
    "name": "ipython",
    "version": 3
   },
   "file_extension": ".py",
   "mimetype": "text/x-python",
   "name": "python",
   "nbconvert_exporter": "python",
   "pygments_lexer": "ipython3",
   "version": "3.11.5"
  }
 },
 "nbformat": 4,
 "nbformat_minor": 2
}
