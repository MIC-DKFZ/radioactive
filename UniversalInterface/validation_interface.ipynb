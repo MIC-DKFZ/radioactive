{
 "cells": [
  {
   "cell_type": "code",
   "execution_count": 2,
   "metadata": {},
   "outputs": [],
   "source": [
    "import argparse\n",
    "import subprocess\n",
    "import numpy as np"
   ]
  },
  {
   "cell_type": "code",
   "execution_count": 4,
   "metadata": {},
   "outputs": [
    {
     "data": {
      "text/plain": [
       "_StoreAction(option_strings=['--seed'], dest='seed', nargs=None, const=None, default=2023, type=<class 'int'>, choices=None, required=False, help=None, metavar=None)"
      ]
     },
     "execution_count": 4,
     "metadata": {},
     "output_type": "execute_result"
    }
   ],
   "source": [
    "parser = argparse.ArgumentParser()\n",
    "parser.add_argument('-tdp', '--test_data_path', type=str, default='./data/images')\n",
    "parser.add_argument('-cp', '--checkpoint_path', type=str, default='./checkpoints/sam_med3d.pth')\n",
    "parser.add_argument('-rp', '--results_path', type=str, default='./results')\n",
    "parser.add_argument('--model', type = str, choices = ['SAM-Med3D', 'SAM'])\n",
    "\n",
    "parser.add_argument('--seed', type=int, default=2023)\n",
    "\n",
    "#args = parser.parse_args()"
   ]
  },
  {
   "cell_type": "code",
   "execution_count": 4,
   "metadata": {},
   "outputs": [],
   "source": [
    "# hardcode for juptyer notebook compatability\n",
    "\n",
    "args = argparse.Namespace(\n",
    "    test_volume_directory='./data/images',\n",
    "    test_label_directory='./data/labels',\n",
    "    checkpoint_path='./checkpoints/sam_med3d.pth',\n",
    "    results_save_path='./results',\n",
    "    model='SAM-Med3D',\n",
    "    seed=2023\n",
    ")"
   ]
  },
  {
   "cell_type": "code",
   "execution_count": 6,
   "metadata": {},
   "outputs": [
    {
     "name": "stdout",
     "output_type": "stream",
     "text": [
      "set seed as 11\n",
      "Cheating! Cropping around ground truth\n",
      "device: cuda\n",
      "*******interpolate\n",
      "*******load /home/t722s/Desktop/UniversalModels/TrainedModels/sam_vit_h_4b8939.pth\n"
     ]
    },
    {
     "name": "stderr",
     "output_type": "stream",
     "text": [
      "  0%|          | 0/1 [00:00<?, ?it/s]\n",
      "transverse slices:   0%|          | 0/128 [00:00<?, ?it/s]\u001b[A\n",
      "transverse slices:  33%|███▎      | 42/128 [00:00<00:00, 97.71it/s]\u001b[A\n",
      "transverse slices:  41%|████      | 52/128 [00:01<00:02, 25.75it/s]\u001b[A\n",
      "transverse slices:  45%|████▍     | 57/128 [00:02<00:03, 19.30it/s]\u001b[A\n",
      "transverse slices:  47%|████▋     | 60/128 [00:02<00:04, 16.54it/s]\u001b[A\n",
      "transverse slices:  49%|████▉     | 63/128 [00:03<00:04, 14.47it/s]\u001b[A\n",
      "transverse slices:  51%|█████     | 65/128 [00:03<00:04, 13.28it/s]\u001b[A\n",
      "transverse slices:  52%|█████▏    | 67/128 [00:03<00:05, 12.17it/s]\u001b[A\n",
      "transverse slices:  54%|█████▍    | 69/128 [00:03<00:05, 11.23it/s]\u001b[A\n",
      "transverse slices:  55%|█████▌    | 71/128 [00:03<00:05, 10.45it/s]\u001b[A\n",
      "transverse slices:  56%|█████▋    | 72/128 [00:04<00:05, 10.14it/s]\u001b[A\n",
      "transverse slices:  57%|█████▋    | 73/128 [00:04<00:05,  9.73it/s]\u001b[A\n",
      "transverse slices:  58%|█████▊    | 74/128 [00:04<00:05,  9.42it/s]\u001b[A\n",
      "transverse slices:  59%|█████▊    | 75/128 [00:04<00:05,  9.05it/s]\u001b[A\n",
      "transverse slices:  59%|█████▉    | 76/128 [00:04<00:05,  8.88it/s]\u001b[A\n",
      "transverse slices:  60%|██████    | 77/128 [00:04<00:05,  8.64it/s]\u001b[A\n",
      "transverse slices:  61%|██████    | 78/128 [00:04<00:05,  8.49it/s]\u001b[A\n",
      "transverse slices:  62%|██████▏   | 79/128 [00:04<00:05,  8.32it/s]\u001b[A\n",
      "transverse slices:  62%|██████▎   | 80/128 [00:05<00:05,  8.28it/s]\u001b[A\n",
      "transverse slices:  63%|██████▎   | 81/128 [00:05<00:05,  8.25it/s]\u001b[A\n",
      "transverse slices:  64%|██████▍   | 82/128 [00:05<00:05,  8.29it/s]\u001b[A\n",
      "transverse slices:  65%|██████▍   | 83/128 [00:05<00:05,  8.20it/s]\u001b[A\n",
      "transverse slices:  66%|██████▌   | 84/128 [00:05<00:05,  8.22it/s]\u001b[A\n",
      "transverse slices:  66%|██████▋   | 85/128 [00:05<00:05,  8.10it/s]\u001b[A\n",
      "transverse slices:  67%|██████▋   | 86/128 [00:05<00:05,  8.17it/s]\u001b[A\n",
      "transverse slices:  68%|██████▊   | 87/128 [00:05<00:05,  8.14it/s]\u001b[A\n",
      "transverse slices:  69%|██████▉   | 88/128 [00:06<00:04,  8.15it/s]\u001b[A\n",
      "                                                                   \u001b[A"
     ]
    },
    {
     "name": "stdout",
     "output_type": "stream",
     "text": [
      "TESTING: [tensor([[[ 79., 129.]]], device='cuda:0'), tensor([[[133., 118.]]], device='cuda:0'), tensor([[[105., 153.]]], device='cuda:0'), tensor([[[ 71., 117.]]], device='cuda:0'), tensor([[[116., 125.]]], device='cuda:0'), tensor([[[101., 126.]]], device='cuda:0'), tensor([[[ 74., 222.]]], device='cuda:0'), tensor([[[ 84., 140.]]], device='cuda:0'), tensor([[[114., 131.]]], device='cuda:0'), tensor([[[119., 106.]]], device='cuda:0'), tensor([[[ 67., 134.]]], device='cuda:0'), tensor([[[128., 212.]]], device='cuda:0'), tensor([[[ 59., 137.]]], device='cuda:0'), tensor([[[111., 139.]]], device='cuda:0'), tensor([[[ 92., 136.]]], device='cuda:0'), tensor([[[102., 116.]]], device='cuda:0'), tensor([[[135., 149.]]], device='cuda:0'), tensor([[[ 58., 193.]]], device='cuda:0'), tensor([[[ 68., 147.]]], device='cuda:0'), tensor([[[159., 107.]]], device='cuda:0'), tensor([[[101., 120.]]], device='cuda:0'), tensor([[[141., 155.]]], device='cuda:0'), tensor([[[145.,  89.]]], device='cuda:0'), tensor([[[ 87., 130.]]], device='cuda:0'), tensor([[[113., 106.]]], device='cuda:0'), tensor([[[101., 118.]]], device='cuda:0'), tensor([[[159.,  99.]]], device='cuda:0'), tensor([[[129., 203.]]], device='cuda:0'), tensor([[[191., 178.]]], device='cuda:0'), tensor([[[185., 169.]]], device='cuda:0'), tensor([[[101., 120.]]], device='cuda:0'), tensor([[[141., 114.]]], device='cuda:0'), tensor([[[180., 225.]]], device='cuda:0'), tensor([[[187., 215.]]], device='cuda:0'), tensor([[[149., 234.]]], device='cuda:0'), tensor([[[ 87., 133.]]], device='cuda:0'), tensor([[[155., 125.]]], device='cuda:0'), tensor([[[151., 151.]]], device='cuda:0'), tensor([[[116., 202.]]], device='cuda:0'), tensor([[[ 48., 150.]]], device='cuda:0'), tensor([[[100., 127.]]], device='cuda:0'), tensor([[[134., 156.]]], device='cuda:0'), tensor([[[100.,  88.]]], device='cuda:0'), tensor([[[ 52., 233.]]], device='cuda:0'), tensor([[[ 54., 191.]]], device='cuda:0'), tensor([[[ 93., 108.]]], device='cuda:0'), tensor([[[184., 128.]]], device='cuda:0'), tensor([[[ 81., 131.]]], device='cuda:0'), tensor([[[84., 98.]]], device='cuda:0'), tensor([[[ 45., 149.]]], device='cuda:0'), tensor([[[100., 115.]]], device='cuda:0'), tensor([[[85., 97.]]], device='cuda:0'), tensor([[[109., 135.]]], device='cuda:0'), tensor([[[135., 138.]]], device='cuda:0'), tensor([[[ 52., 124.]]], device='cuda:0'), tensor([[[ 93., 129.]]], device='cuda:0'), tensor([[[141., 159.]]], device='cuda:0'), tensor([[[119., 147.]]], device='cuda:0'), tensor([[[ 69., 102.]]], device='cuda:0'), tensor([[[163., 103.]]], device='cuda:0'), tensor([[[ 98., 133.]]], device='cuda:0'), tensor([[[128., 197.]]], device='cuda:0'), tensor([[[203., 149.]]], device='cuda:0'), tensor([[[ 67., 159.]]], device='cuda:0'), tensor([[[ 43., 143.]]], device='cuda:0'), tensor([[[ 93., 114.]]], device='cuda:0'), tensor([[[165.,  91.]]], device='cuda:0'), tensor([[[197., 144.]]], device='cuda:0'), tensor([[[132., 233.]]], device='cuda:0'), tensor([[[108., 107.]]], device='cuda:0'), tensor([[[ 92., 148.]]], device='cuda:0'), tensor([[[85., 98.]]], device='cuda:0'), tensor([[[178., 195.]]], device='cuda:0'), tensor([[[207., 174.]]], device='cuda:0'), tensor([[[118., 113.]]], device='cuda:0'), tensor([[[ 94., 139.]]], device='cuda:0'), tensor([[[126., 221.]]], device='cuda:0'), tensor([[[110., 184.]]], device='cuda:0'), tensor([[[ 55., 149.]]], device='cuda:0'), tensor([[[171., 118.]]], device='cuda:0'), tensor([[[101., 117.]]], device='cuda:0'), tensor([[[ 73., 103.]]], device='cuda:0'), tensor([[[116., 159.]]], device='cuda:0'), tensor([[[172., 224.]]], device='cuda:0'), tensor([[[111., 233.]]], device='cuda:0'), tensor([[[ 86., 118.]]], device='cuda:0'), tensor([[[142., 133.]]], device='cuda:0'), tensor([[[159., 170.]]], device='cuda:0'), tensor([[[184., 115.]]], device='cuda:0'), tensor([[[106., 212.]]], device='cuda:0'), tensor([[[142., 127.]]], device='cuda:0'), tensor([[[100., 168.]]], device='cuda:0'), tensor([[[202., 150.]]], device='cuda:0'), tensor([[[165., 144.]]], device='cuda:0'), tensor([[[ 96., 102.]]], device='cuda:0'), tensor([[[123., 126.]]], device='cuda:0'), tensor([[[ 88., 161.]]], device='cuda:0'), tensor([[[152., 119.]]], device='cuda:0'), tensor([[[ 93., 135.]]], device='cuda:0'), tensor([[[100., 108.]]], device='cuda:0'), tensor([[[129., 122.]]], device='cuda:0'), tensor([[[126., 199.]]], device='cuda:0'), tensor([[[177., 175.]]], device='cuda:0'), tensor([[[ 55., 151.]]], device='cuda:0'), tensor([[[203., 170.]]], device='cuda:0'), tensor([[[155., 112.]]], device='cuda:0'), tensor([[[203., 102.]]], device='cuda:0'), tensor([[[176., 146.]]], device='cuda:0'), tensor([[[170., 135.]]], device='cuda:0'), tensor([[[106., 178.]]], device='cuda:0'), tensor([[[156.,  92.]]], device='cuda:0'), tensor([[[225., 190.]]], device='cuda:0'), tensor([[[ 83., 123.]]], device='cuda:0'), tensor([[[ 87., 139.]]], device='cuda:0'), tensor([[[154., 189.]]], device='cuda:0'), tensor([[[154., 109.]]], device='cuda:0'), tensor([[[ 72., 148.]]], device='cuda:0'), tensor([[[ 95., 122.]]], device='cuda:0'), tensor([[[172., 117.]]], device='cuda:0'), tensor([[[ 86., 105.]]], device='cuda:0'), tensor([[[134., 128.]]], device='cuda:0'), tensor([[[101., 179.]]], device='cuda:0'), tensor([[[188.,  97.]]], device='cuda:0'), tensor([[[112.,  89.]]], device='cuda:0'), tensor([[[ 91., 115.]]], device='cuda:0'), tensor([[[160., 125.]]], device='cuda:0'), tensor([[[150., 139.]]], device='cuda:0'), tensor([[[137., 145.]]], device='cuda:0'), tensor([[[ 60., 125.]]], device='cuda:0'), tensor([[[ 73., 153.]]], device='cuda:0'), tensor([[[152., 108.]]], device='cuda:0'), tensor([[[ 84., 125.]]], device='cuda:0'), tensor([[[ 91., 105.]]], device='cuda:0'), tensor([[[139., 149.]]], device='cuda:0'), tensor([[[216., 141.]]], device='cuda:0'), tensor([[[ 91., 143.]]], device='cuda:0'), tensor([[[ 74., 193.]]], device='cuda:0'), tensor([[[ 77., 127.]]], device='cuda:0'), tensor([[[193., 133.]]], device='cuda:0'), tensor([[[188., 131.]]], device='cuda:0'), tensor([[[124., 123.]]], device='cuda:0'), tensor([[[216., 128.]]], device='cuda:0'), tensor([[[118., 113.]]], device='cuda:0'), tensor([[[107., 117.]]], device='cuda:0'), tensor([[[103., 150.]]], device='cuda:0'), tensor([[[148., 117.]]], device='cuda:0'), tensor([[[ 72., 206.]]], device='cuda:0'), tensor([[[200., 154.]]], device='cuda:0'), tensor([[[ 61., 123.]]], device='cuda:0'), tensor([[[131., 154.]]], device='cuda:0'), tensor([[[131., 109.]]], device='cuda:0'), tensor([[[161., 144.]]], device='cuda:0'), tensor([[[119.,  93.]]], device='cuda:0'), tensor([[[ 76., 159.]]], device='cuda:0'), tensor([[[185., 158.]]], device='cuda:0'), tensor([[[103., 125.]]], device='cuda:0'), tensor([[[ 87., 154.]]], device='cuda:0'), tensor([[[191., 124.]]], device='cuda:0'), tensor([[[155., 106.]]], device='cuda:0'), tensor([[[ 84., 108.]]], device='cuda:0'), tensor([[[122., 113.]]], device='cuda:0'), tensor([[[156., 151.]]], device='cuda:0'), tensor([[[201., 117.]]], device='cuda:0'), tensor([[[ 69., 125.]]], device='cuda:0'), tensor([[[103., 123.]]], device='cuda:0'), tensor([[[149., 115.]]], device='cuda:0'), tensor([[[165., 195.]]], device='cuda:0'), tensor([[[151., 141.]]], device='cuda:0'), tensor([[[142., 104.]]], device='cuda:0'), tensor([[[177., 110.]]], device='cuda:0'), tensor([[[112., 125.]]], device='cuda:0'), tensor([[[ 96., 103.]]], device='cuda:0'), tensor([[[ 80., 169.]]], device='cuda:0'), tensor([[[150., 147.]]], device='cuda:0'), tensor([[[128., 152.]]], device='cuda:0'), tensor([[[131., 116.]]], device='cuda:0'), tensor([[[220., 142.]]], device='cuda:0'), tensor([[[131., 208.]]], device='cuda:0'), tensor([[[196., 198.]]], device='cuda:0'), tensor([[[212., 142.]]], device='cuda:0'), tensor([[[100., 135.]]], device='cuda:0'), tensor([[[159., 190.]]], device='cuda:0'), tensor([[[ 96., 209.]]], device='cuda:0'), tensor([[[133., 181.]]], device='cuda:0'), tensor([[[131., 133.]]], device='cuda:0'), tensor([[[ 72., 150.]]], device='cuda:0'), tensor([[[151., 189.]]], device='cuda:0'), tensor([[[ 92., 156.]]], device='cuda:0'), tensor([[[111., 123.]]], device='cuda:0'), tensor([[[ 78., 146.]]], device='cuda:0'), tensor([[[106., 131.]]], device='cuda:0'), tensor([[[137., 110.]]], device='cuda:0'), tensor([[[130., 123.]]], device='cuda:0'), tensor([[[ 77., 156.]]], device='cuda:0'), tensor([[[182., 147.]]], device='cuda:0'), tensor([[[118., 130.]]], device='cuda:0'), tensor([[[140., 151.]]], device='cuda:0'), tensor([[[190., 141.]]], device='cuda:0'), tensor([[[164., 116.]]], device='cuda:0'), tensor([[[ 76., 140.]]], device='cuda:0'), tensor([[[105., 139.]]], device='cuda:0'), tensor([[[155., 157.]]], device='cuda:0'), tensor([[[128., 137.]]], device='cuda:0'), tensor([[[ 97., 146.]]], device='cuda:0'), tensor([[[ 94., 121.]]], device='cuda:0'), tensor([[[105., 139.]]], device='cuda:0'), tensor([[[143., 155.]]], device='cuda:0'), tensor([[[151., 152.]]], device='cuda:0'), tensor([[[142., 130.]]], device='cuda:0'), tensor([[[137., 130.]]], device='cuda:0'), tensor([[[113., 124.]]], device='cuda:0'), tensor([[[136., 214.]]], device='cuda:0'), tensor([[[161., 142.]]], device='cuda:0'), tensor([[[ 80., 145.]]], device='cuda:0'), tensor([[[ 80., 139.]]], device='cuda:0'), tensor([[[106., 144.]]], device='cuda:0'), tensor([[[117., 154.]]], device='cuda:0'), tensor([[[172., 142.]]], device='cuda:0'), tensor([[[103., 179.]]], device='cuda:0'), tensor([[[110., 127.]]], device='cuda:0'), tensor([[[139., 147.]]], device='cuda:0'), tensor([[[178., 178.]]], device='cuda:0'), tensor([[[184., 148.]]], device='cuda:0'), tensor([[[145., 189.]]], device='cuda:0'), tensor([[[165., 170.]]], device='cuda:0'), tensor([[[116., 134.]]], device='cuda:0'), tensor([[[135., 135.]]], device='cuda:0'), tensor([[[112., 135.]]], device='cuda:0'), tensor([[[ 98., 146.]]], device='cuda:0'), tensor([[[114., 135.]]], device='cuda:0'), tensor([[[140., 144.]]], device='cuda:0'), tensor([[[ 90., 172.]]], device='cuda:0'), tensor([[[143., 197.]]], device='cuda:0'), tensor([[[150., 160.]]], device='cuda:0'), tensor([[[151., 148.]]], device='cuda:0')]\n",
      "BraTS2021_01646.nii.gz Dice list by number of clicks (Brain Tumor): [0.1515, 0.2148, 0.2288, 0.246, 0.2709]\n",
      "Save results to /home/t722s/Desktop/Sam-Med3DTest/evalBrats/eval_res_from_inference.json\n",
      "Done\n"
     ]
    },
    {
     "name": "stderr",
     "output_type": "stream",
     "text": [
      "100%|██████████| 1/1 [00:06<00:00,  6.60s/it]\n"
     ]
    },
    {
     "data": {
      "text/plain": [
       "CompletedProcess(args=['python', 'SAM-Med3D/validation.py', '--seed', '11', '-cp', '/home/t722s/Desktop/UniversalModels/TrainedModels/sam_vit_h_4b8939.pth', '-tdp', '/home/t722s/Desktop/Datasets/BratsMini/', '-rp', '/home/t722s/Desktop/Sam-Med3DTest/evalBrats', '--dim', '2', '-mt', 'vit_h', '-i', '-l'], returncode=0)"
      ]
     },
     "execution_count": 6,
     "metadata": {},
     "output_type": "execute_result"
    }
   ],
   "source": [
    "# Old\n",
    "seed = 11\n",
    "np.random.seed(seed)\n",
    "point_generation_args = ['python', 'generate_points.py', \\\n",
    "'-tdp', '/home/t722s/Desktop/Datasets/BratsMini/', \\\n",
    "'-rp', '/home/t722s/Desktop/Sam-Med3DTest/evalBrats/', \\\n",
    "'-nc', '5',\n",
    "'--seed', str(seed)]\n",
    "subprocess.run(point_generation_args,\n",
    "                stdout=subprocess.DEVNULL, \n",
    "                stderr=subprocess.DEVNULL)\n",
    "validation_args = ['python', 'SAM-Med3D/validation.py', \n",
    "                '--seed', str(seed),\n",
    "                '-cp', '/home/t722s/Desktop/UniversalModels/TrainedModels/sam_vit_h_4b8939.pth',\n",
    "                '-tdp', '/home/t722s/Desktop/Datasets/BratsMini/',\n",
    "                '-rp', '/home/t722s/Desktop/Sam-Med3DTest/evalBrats',\n",
    "                '--dim', '2',\n",
    "                '-mt', 'vit_h',\n",
    "                '-i',\n",
    "                '-l'\n",
    "                ]\n",
    "subprocess.run(validation_args)"
   ]
  },
  {
   "cell_type": "code",
   "execution_count": 3,
   "metadata": {},
   "outputs": [
    {
     "name": "stdout",
     "output_type": "stream",
     "text": [
      "set seed as 90\n",
      "device: cuda\n"
     ]
    },
    {
     "name": "stderr",
     "output_type": "stream",
     "text": [
      "  0%|          | 0/1 [00:00<?, ?it/s]"
     ]
    },
    {
     "name": "stdout",
     "output_type": "stream",
     "text": [
      "TESTING: points lists (array([[75, 51, 61],\n",
      "       [49, 76, 67],\n",
      "       [78, 52, 64],\n",
      "       [70, 72, 63],\n",
      "       [63, 60, 61]]), tensor([[ 0,  0,  0,  0,  0],\n",
      "        [49, 63, 70, 75, 78],\n",
      "        [76, 60, 72, 51, 52],\n",
      "        [67, 61, 63, 61, 64]]))\n",
      "BraTS2021_01646.nii.gz Dice list by number of clicks (Brain Tumor): [0.7732, 0.8209, 0.8208, 0.8095, 0.8]\n",
      "Save results to /home/t722s/Desktop/Sam-Med3DTest/evalBrats/eval_res_from_inference.json\n",
      "Done\n"
     ]
    },
    {
     "name": "stderr",
     "output_type": "stream",
     "text": [
      "100%|██████████| 1/1 [00:00<00:00,  1.20it/s]\n"
     ]
    },
    {
     "data": {
      "text/plain": [
       "CompletedProcess(args=['python', 'SAM-Med3D/validation2.py', '--seed', '90', '-cp', '/home/t722s/Desktop/UniversalModels/TrainedModels/sam_med3d.pth', '-tdp', '/home/t722s/Desktop/Datasets/BratsMini/', '-rp', '/home/t722s/Desktop/Sam-Med3DTest/evalBrats'], returncode=0)"
      ]
     },
     "execution_count": 3,
     "metadata": {},
     "output_type": "execute_result"
    }
   ],
   "source": [
    "# 3D\n",
    "seed = 785406\n",
    "np.random.seed(seed)\n",
    "\n",
    "point_generation_args = ['python', 'generate_points.py', \\\n",
    "    '-tdp', '/home/t722s/Desktop/Datasets/BratsMini/', \\\n",
    "    '-rp', '/home/t722s/Desktop/Sam-Med3DTest/evalBrats/', \\\n",
    "    '-nc', '5',\n",
    "    '--seed', str(seed)]\n",
    "subprocess.run(point_generation_args,\n",
    "                stdout=subprocess.DEVNULL, \n",
    "                stderr=subprocess.DEVNULL)\n",
    "validation_args = ['python', 'SAM-Med3D/validation2.py', \n",
    "                    '--seed', str(seed),\n",
    "                    '-cp', '/home/t722s/Desktop/UniversalModels/TrainedModels/sam_med3d.pth',\n",
    "                    '-tdp', '/home/t722s/Desktop/Datasets/BratsMini/',\n",
    "                    '-rp', '/home/t722s/Desktop/Sam-Med3DTest/evalBrats',\n",
    "                    #'-i',\n",
    "                    #'-l'\n",
    "                    ]\n",
    "subprocess.run(validation_args)"
   ]
  },
  {
   "cell_type": "code",
   "execution_count": 6,
   "metadata": {},
   "outputs": [
    {
     "name": "stdout",
     "output_type": "stream",
     "text": [
      "set seed as 90\n",
      "Cheating! Cropping around ground truth\n",
      "device: cuda\n"
     ]
    },
    {
     "name": "stderr",
     "output_type": "stream",
     "text": [
      "Traceback (most recent call last):\n",
      "  File \"/home/t722s/Desktop/UniversalModels/Project/UniversalInterface/SAM-Med3D/validation2.py\", line 488, in <module>\n",
      "    state_dict = model_dict['model_state_dict']\n",
      "                 ~~~~~~~~~~^^^^^^^^^^^^^^^^^^^^\n",
      "KeyError: 'model_state_dict'\n"
     ]
    },
    {
     "data": {
      "text/plain": [
       "CompletedProcess(args=['python', 'SAM-Med3D/validation2.py', '--seed', '90', '-cp', '/home/t722s/Desktop/UniversalModels/TrainedModels/sam_vit_h_4b8939.pth', '-tdp', '/home/t722s/Desktop/Datasets/BratsMini/', '-rp', '/home/t722s/Desktop/Sam-Med3DTest/evalBrats', '--dim', '3', '-i', '-l'], returncode=1)"
      ]
     },
     "execution_count": 6,
     "metadata": {},
     "output_type": "execute_result"
    }
   ],
   "source": [
    "# New\n",
    "seed = 90\n",
    "np.random.seed(seed)\n",
    "point_generation_args = ['python', 'generate_points.py', \\\n",
    "'-tdp', '/home/t722s/Desktop/Datasets/BratsMini/', \\\n",
    "'-rp', '/home/t722s/Desktop/Sam-Med3DTest/evalBrats/', \\\n",
    "'-nc', '5',\n",
    "'--seed', str(seed)]\n",
    "subprocess.run(point_generation_args,\n",
    "                stdout=subprocess.DEVNULL, \n",
    "                stderr=subprocess.DEVNULL)\n",
    "validation_args = ['python', 'SAM-Med3D/validation2.py', \n",
    "                '--seed', str(seed),\n",
    "                '-cp', '/home/t722s/Desktop/UniversalModels/TrainedModels/sam_vit_h_4b8939.pth',\n",
    "                '-tdp', '/home/t722s/Desktop/Datasets/BratsMini/',\n",
    "                '-rp', '/home/t722s/Desktop/Sam-Med3DTest/evalBrats',\n",
    "                '--dim', '3',\n",
    "                '-mt', 'vit_h',\n",
    "                '-i',\n",
    "                '-l'\n",
    "                ]\n",
    "subprocess.run(validation_args)"
   ]
  },
  {
   "cell_type": "code",
   "execution_count": 1,
   "metadata": {},
   "outputs": [
    {
     "ename": "NameError",
     "evalue": "name 'np' is not defined",
     "output_type": "error",
     "traceback": [
      "\u001b[0;31m---------------------------------------------------------------------------\u001b[0m",
      "\u001b[0;31mNameError\u001b[0m                                 Traceback (most recent call last)",
      "Cell \u001b[0;32mIn[1], line 3\u001b[0m\n\u001b[1;32m      1\u001b[0m \u001b[38;5;66;03m# New with new point generation\u001b[39;00m\n\u001b[1;32m      2\u001b[0m seed \u001b[38;5;241m=\u001b[39m \u001b[38;5;241m90\u001b[39m\n\u001b[0;32m----> 3\u001b[0m \u001b[43mnp\u001b[49m\u001b[38;5;241m.\u001b[39mrandom\u001b[38;5;241m.\u001b[39mseed(seed)\n\u001b[1;32m      4\u001b[0m point_generation_args \u001b[38;5;241m=\u001b[39m [\u001b[38;5;124m'\u001b[39m\u001b[38;5;124mpython\u001b[39m\u001b[38;5;124m'\u001b[39m, \u001b[38;5;124m'\u001b[39m\u001b[38;5;124mgenerate_points2.py\u001b[39m\u001b[38;5;124m'\u001b[39m, \\\n\u001b[1;32m      5\u001b[0m                         \u001b[38;5;124m'\u001b[39m\u001b[38;5;124m-tdp\u001b[39m\u001b[38;5;124m'\u001b[39m, \u001b[38;5;124m'\u001b[39m\u001b[38;5;124m/home/t722s/Desktop/Datasets/BratsMini/\u001b[39m\u001b[38;5;124m'\u001b[39m, \\\n\u001b[1;32m      6\u001b[0m                         \u001b[38;5;124m'\u001b[39m\u001b[38;5;124m-rp\u001b[39m\u001b[38;5;124m'\u001b[39m, \u001b[38;5;124m'\u001b[39m\u001b[38;5;124m/home/t722s/Desktop/Sam-Med3DTest/evalBrats/\u001b[39m\u001b[38;5;124m'\u001b[39m, \\\n\u001b[1;32m      7\u001b[0m                         \u001b[38;5;124m'\u001b[39m\u001b[38;5;124m-fg\u001b[39m\u001b[38;5;124m'\u001b[39m, \u001b[38;5;124m'\u001b[39m\u001b[38;5;124m3\u001b[39m\u001b[38;5;124m'\u001b[39m,\n\u001b[1;32m      8\u001b[0m                         \u001b[38;5;124m'\u001b[39m\u001b[38;5;124m-bg\u001b[39m\u001b[38;5;124m'\u001b[39m, \u001b[38;5;124m'\u001b[39m\u001b[38;5;124m2\u001b[39m\u001b[38;5;124m'\u001b[39m,\n\u001b[1;32m      9\u001b[0m                         \u001b[38;5;124m'\u001b[39m\u001b[38;5;124m--seed\u001b[39m\u001b[38;5;124m'\u001b[39m, \u001b[38;5;28mstr\u001b[39m(seed)]\n\u001b[1;32m     10\u001b[0m subprocess\u001b[38;5;241m.\u001b[39mrun(point_generation_args)\n",
      "\u001b[0;31mNameError\u001b[0m: name 'np' is not defined"
     ]
    }
   ],
   "source": [
    "# New with new point generation\n",
    "seed = 90\n",
    "np.random.seed(seed)\n",
    "point_generation_args = ['python', 'generate_points2.py', \\\n",
    "                        '-tdp', '/home/t722s/Desktop/Datasets/BratsMini/', \\\n",
    "                        '-rp', '/home/t722s/Desktop/Sam-Med3DTest/evalBrats/', \\\n",
    "                        '-fg', '3',\n",
    "                        '-bg', '2',\n",
    "                        '--seed', str(seed)]\n",
    "subprocess.run(point_generation_args)\n",
    "validation_args = ['python', 'SAM-Med3D/validation2.py', \n",
    "                '--seed', str(seed),\n",
    "                '-cp', '/home/t722s/Desktop/UniversalModels/TrainedModels/sam_vit_h_4b8939.pth',\n",
    "                '-tdp', '/home/t722s/Desktop/Datasets/BratsMini/',\n",
    "                '-rp', '/home/t722s/Desktop/Sam-Med3DTest/evalBrats',\n",
    "                '--dim', '2',\n",
    "                '-mt', 'vit_h',\n",
    "                '-i',\n",
    "                '-l'\n",
    "                ]\n",
    "subprocess.run(validation_args)"
   ]
  }
 ],
 "metadata": {
  "kernelspec": {
   "display_name": "universalModels",
   "language": "python",
   "name": "python3"
  },
  "language_info": {
   "codemirror_mode": {
    "name": "ipython",
    "version": 3
   },
   "file_extension": ".py",
   "mimetype": "text/x-python",
   "name": "python",
   "nbconvert_exporter": "python",
   "pygments_lexer": "ipython3",
   "version": "3.11.5"
  }
 },
 "nbformat": 4,
 "nbformat_minor": 2
}
