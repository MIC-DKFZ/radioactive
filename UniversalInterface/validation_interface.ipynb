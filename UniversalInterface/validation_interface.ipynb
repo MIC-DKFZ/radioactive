{
 "cells": [
  {
   "cell_type": "code",
   "execution_count": 2,
   "metadata": {},
   "outputs": [],
   "source": [
    "import argparse\n",
    "import subprocess\n",
    "import numpy as np"
   ]
  },
  {
   "cell_type": "code",
   "execution_count": 3,
   "metadata": {},
   "outputs": [
    {
     "data": {
      "text/plain": [
       "_StoreAction(option_strings=['--seed'], dest='seed', nargs=None, const=None, default=2023, type=<class 'int'>, choices=None, required=False, help=None, metavar=None)"
      ]
     },
     "execution_count": 3,
     "metadata": {},
     "output_type": "execute_result"
    }
   ],
   "source": [
    "parser = argparse.ArgumentParser()\n",
    "parser.add_argument('-tdp', '--test_data_path', type=str, default='./data/images')\n",
    "parser.add_argument('-cp', '--checkpoint_path', type=str, default='./checkpoints/sam_med3d.pth')\n",
    "parser.add_argument('-rp', '--results_path', type=str, default='./results')\n",
    "parser.add_argument('--model', type = str, choices = ['SAM-Med3D', 'SAM'])\n",
    "\n",
    "parser.add_argument('--seed', type=int, default=2023)\n",
    "\n",
    "#args = parser.parse_args()"
   ]
  },
  {
   "cell_type": "code",
   "execution_count": 4,
   "metadata": {},
   "outputs": [],
   "source": [
    "# hardcode for juptyer notebook compatability\n",
    "\n",
    "args = argparse.Namespace(\n",
    "    test_volume_directory='./data/images',\n",
    "    test_label_directory='./data/labels',\n",
    "    checkpoint_path='./checkpoints/sam_med3d.pth',\n",
    "    results_save_path='./results',\n",
    "    model='SAM-Med3D',\n",
    "    seed=2023\n",
    ")"
   ]
  },
  {
   "cell_type": "code",
   "execution_count": 6,
   "metadata": {},
   "outputs": [
    {
     "name": "stdout",
     "output_type": "stream",
     "text": [
      "set seed as 100\n",
      "Cheating! Cropping around ground truth\n",
      "device: cuda\n",
      "*******interpolate\n",
      "*******load /home/t722s/Desktop/UniversalModels/TrainedModels/sam_vit_h_4b8939.pth\n"
     ]
    },
    {
     "name": "stderr",
     "output_type": "stream",
     "text": [
      "  0%|          | 0/1 [00:00<?, ?it/s]\n",
      "transverse slices:   0%|          | 0/128 [00:00<?, ?it/s]\u001b[A\n",
      "transverse slices:  33%|███▎      | 42/128 [00:00<00:00, 103.54it/s]\u001b[A\n",
      "transverse slices:  41%|████▏     | 53/128 [00:01<00:02, 25.23it/s] \u001b[A\n",
      "transverse slices:  45%|████▌     | 58/128 [00:02<00:03, 19.40it/s]\u001b[A\n",
      "transverse slices:  48%|████▊     | 61/128 [00:02<00:03, 16.87it/s]\u001b[A\n",
      "transverse slices:  50%|█████     | 64/128 [00:03<00:04, 14.79it/s]\u001b[A\n",
      "transverse slices:  52%|█████▏    | 66/128 [00:03<00:04, 13.55it/s]\u001b[A\n",
      "transverse slices:  53%|█████▎    | 68/128 [00:03<00:04, 12.36it/s]\u001b[A\n",
      "transverse slices:  55%|█████▍    | 70/128 [00:03<00:05, 11.11it/s]\u001b[A\n",
      "transverse slices:  56%|█████▋    | 72/128 [00:04<00:05, 10.45it/s]\u001b[A\n",
      "transverse slices:  57%|█████▋    | 73/128 [00:04<00:05, 10.18it/s]\u001b[A\n",
      "transverse slices:  58%|█████▊    | 74/128 [00:04<00:05,  9.87it/s]\u001b[A\n",
      "transverse slices:  59%|█████▊    | 75/128 [00:04<00:05,  9.61it/s]\u001b[A\n",
      "transverse slices:  59%|█████▉    | 76/128 [00:04<00:05,  9.35it/s]\u001b[A\n",
      "transverse slices:  60%|██████    | 77/128 [00:04<00:05,  9.17it/s]\u001b[A\n",
      "transverse slices:  61%|██████    | 78/128 [00:04<00:05,  8.95it/s]\u001b[A\n",
      "transverse slices:  62%|██████▏   | 79/128 [00:04<00:05,  8.83it/s]\u001b[A\n",
      "transverse slices:  62%|██████▎   | 80/128 [00:04<00:05,  8.65it/s]\u001b[A\n",
      "transverse slices:  63%|██████▎   | 81/128 [00:05<00:05,  8.60it/s]\u001b[A\n",
      "transverse slices:  64%|██████▍   | 82/128 [00:05<00:05,  8.54it/s]\u001b[A\n",
      "transverse slices:  65%|██████▍   | 83/128 [00:05<00:05,  8.55it/s]\u001b[A\n",
      "transverse slices:  66%|██████▌   | 84/128 [00:05<00:05,  8.49it/s]\u001b[A\n",
      "transverse slices:  66%|██████▋   | 85/128 [00:05<00:05,  8.48it/s]\u001b[A\n",
      "transverse slices:  67%|██████▋   | 86/128 [00:05<00:04,  8.41it/s]\u001b[A\n",
      "transverse slices:  68%|██████▊   | 87/128 [00:05<00:04,  8.42it/s]\u001b[A\n",
      "transverse slices:  69%|██████▉   | 88/128 [00:05<00:04,  8.38it/s]\u001b[A\n",
      "                                                                   \u001b[A"
     ]
    },
    {
     "name": "stdout",
     "output_type": "stream",
     "text": [
      "TESTING: [tensor([[[108., 126.]]], device='cuda:0'), tensor([[[130., 141.]]], device='cuda:0'), tensor([[[97., 94.]]], device='cuda:0'), tensor([[[118.,  88.]]], device='cuda:0'), tensor([[[144., 134.]]], device='cuda:0'), tensor([[[109., 127.]]], device='cuda:0'), tensor([[[113., 144.]]], device='cuda:0'), tensor([[[116., 150.]]], device='cuda:0'), tensor([[[ 59., 132.]]], device='cuda:0'), tensor([[[108.,  95.]]], device='cuda:0'), tensor([[[ 68., 133.]]], device='cuda:0'), tensor([[[ 35., 179.]]], device='cuda:0'), tensor([[[145., 226.]]], device='cuda:0'), tensor([[[ 80., 147.]]], device='cuda:0'), tensor([[[189., 166.]]], device='cuda:0'), tensor([[[ 97., 124.]]], device='cuda:0'), tensor([[[113., 192.]]], device='cuda:0'), tensor([[[191., 136.]]], device='cuda:0'), tensor([[[ 79., 161.]]], device='cuda:0'), tensor([[[ 89., 135.]]], device='cuda:0'), tensor([[[ 70., 135.]]], device='cuda:0'), tensor([[[142., 242.]]], device='cuda:0'), tensor([[[129., 114.]]], device='cuda:0'), tensor([[[191., 139.]]], device='cuda:0'), tensor([[[152., 179.]]], device='cuda:0'), tensor([[[ 98., 112.]]], device='cuda:0'), tensor([[[191., 162.]]], device='cuda:0'), tensor([[[113., 170.]]], device='cuda:0'), tensor([[[144., 112.]]], device='cuda:0'), tensor([[[184., 127.]]], device='cuda:0'), tensor([[[ 93., 115.]]], device='cuda:0'), tensor([[[135., 166.]]], device='cuda:0'), tensor([[[129., 173.]]], device='cuda:0'), tensor([[[ 75., 192.]]], device='cuda:0'), tensor([[[105., 238.]]], device='cuda:0'), tensor([[[ 96., 110.]]], device='cuda:0'), tensor([[[144.,  94.]]], device='cuda:0'), tensor([[[185., 123.]]], device='cuda:0'), tensor([[[107., 173.]]], device='cuda:0'), tensor([[[ 88., 131.]]], device='cuda:0'), tensor([[[ 89., 124.]]], device='cuda:0'), tensor([[[118., 171.]]], device='cuda:0'), tensor([[[120., 120.]]], device='cuda:0'), tensor([[[ 61., 133.]]], device='cuda:0'), tensor([[[ 89., 113.]]], device='cuda:0'), tensor([[[ 91., 129.]]], device='cuda:0'), tensor([[[ 62., 120.]]], device='cuda:0'), tensor([[[203., 149.]]], device='cuda:0'), tensor([[[188., 202.]]], device='cuda:0'), tensor([[[158., 116.]]], device='cuda:0'), tensor([[[100., 124.]]], device='cuda:0'), tensor([[[ 52., 141.]]], device='cuda:0'), tensor([[[ 76., 110.]]], device='cuda:0'), tensor([[[194., 148.]]], device='cuda:0'), tensor([[[128., 196.]]], device='cuda:0'), tensor([[[ 86., 145.]]], device='cuda:0'), tensor([[[ 60., 186.]]], device='cuda:0'), tensor([[[194., 159.]]], device='cuda:0'), tensor([[[135., 150.]]], device='cuda:0'), tensor([[[102., 141.]]], device='cuda:0'), tensor([[[100., 134.]]], device='cuda:0'), tensor([[[162., 129.]]], device='cuda:0'), tensor([[[140., 199.]]], device='cuda:0'), tensor([[[146., 139.]]], device='cuda:0'), tensor([[[ 97., 123.]]], device='cuda:0'), tensor([[[ 74., 134.]]], device='cuda:0'), tensor([[[ 98., 158.]]], device='cuda:0'), tensor([[[ 62., 120.]]], device='cuda:0'), tensor([[[171., 160.]]], device='cuda:0'), tensor([[[ 99., 138.]]], device='cuda:0'), tensor([[[ 98., 122.]]], device='cuda:0'), tensor([[[108., 188.]]], device='cuda:0'), tensor([[[129., 194.]]], device='cuda:0'), tensor([[[125., 138.]]], device='cuda:0'), tensor([[[141., 103.]]], device='cuda:0'), tensor([[[ 93., 144.]]], device='cuda:0'), tensor([[[184., 172.]]], device='cuda:0'), tensor([[[110., 169.]]], device='cuda:0'), tensor([[[113., 214.]]], device='cuda:0'), tensor([[[ 62., 109.]]], device='cuda:0'), tensor([[[ 93., 135.]]], device='cuda:0'), tensor([[[134., 132.]]], device='cuda:0'), tensor([[[138., 171.]]], device='cuda:0'), tensor([[[ 73., 194.]]], device='cuda:0'), tensor([[[108., 167.]]], device='cuda:0'), tensor([[[ 87., 106.]]], device='cuda:0'), tensor([[[145., 176.]]], device='cuda:0'), tensor([[[113., 209.]]], device='cuda:0'), tensor([[[ 67., 144.]]], device='cuda:0'), tensor([[[156., 180.]]], device='cuda:0'), tensor([[[150., 100.]]], device='cuda:0'), tensor([[[167., 142.]]], device='cuda:0'), tensor([[[231., 162.]]], device='cuda:0'), tensor([[[206., 158.]]], device='cuda:0'), tensor([[[156., 153.]]], device='cuda:0'), tensor([[[141., 125.]]], device='cuda:0'), tensor([[[ 51., 125.]]], device='cuda:0'), tensor([[[210., 199.]]], device='cuda:0'), tensor([[[159., 132.]]], device='cuda:0'), tensor([[[ 84., 187.]]], device='cuda:0'), tensor([[[ 83., 133.]]], device='cuda:0'), tensor([[[203., 212.]]], device='cuda:0'), tensor([[[105., 155.]]], device='cuda:0'), tensor([[[103., 105.]]], device='cuda:0'), tensor([[[141., 159.]]], device='cuda:0'), tensor([[[150., 122.]]], device='cuda:0'), tensor([[[167., 170.]]], device='cuda:0'), tensor([[[223., 119.]]], device='cuda:0'), tensor([[[164., 105.]]], device='cuda:0'), tensor([[[110., 117.]]], device='cuda:0'), tensor([[[ 84., 142.]]], device='cuda:0'), tensor([[[ 84., 228.]]], device='cuda:0'), tensor([[[174., 112.]]], device='cuda:0'), tensor([[[201., 125.]]], device='cuda:0'), tensor([[[ 96., 142.]]], device='cuda:0'), tensor([[[157., 107.]]], device='cuda:0'), tensor([[[ 70., 132.]]], device='cuda:0'), tensor([[[188., 103.]]], device='cuda:0'), tensor([[[143.,  94.]]], device='cuda:0'), tensor([[[112., 101.]]], device='cuda:0'), tensor([[[121., 119.]]], device='cuda:0'), tensor([[[ 91., 100.]]], device='cuda:0'), tensor([[[173., 134.]]], device='cuda:0'), tensor([[[226., 155.]]], device='cuda:0'), tensor([[[199., 115.]]], device='cuda:0'), tensor([[[132., 119.]]], device='cuda:0'), tensor([[[ 94., 143.]]], device='cuda:0'), tensor([[[210., 181.]]], device='cuda:0'), tensor([[[170., 140.]]], device='cuda:0'), tensor([[[188., 108.]]], device='cuda:0'), tensor([[[142., 132.]]], device='cuda:0'), tensor([[[ 85., 106.]]], device='cuda:0'), tensor([[[173., 107.]]], device='cuda:0'), tensor([[[197., 152.]]], device='cuda:0'), tensor([[[176., 125.]]], device='cuda:0'), tensor([[[ 93., 140.]]], device='cuda:0'), tensor([[[181., 103.]]], device='cuda:0'), tensor([[[130., 155.]]], device='cuda:0'), tensor([[[ 81., 127.]]], device='cuda:0'), tensor([[[153., 115.]]], device='cuda:0'), tensor([[[128., 134.]]], device='cuda:0'), tensor([[[186., 159.]]], device='cuda:0'), tensor([[[127., 107.]]], device='cuda:0'), tensor([[[227., 146.]]], device='cuda:0'), tensor([[[100.,  99.]]], device='cuda:0'), tensor([[[150., 136.]]], device='cuda:0'), tensor([[[200., 143.]]], device='cuda:0'), tensor([[[104., 103.]]], device='cuda:0'), tensor([[[190., 142.]]], device='cuda:0'), tensor([[[ 67., 158.]]], device='cuda:0'), tensor([[[138., 101.]]], device='cuda:0'), tensor([[[120.,  93.]]], device='cuda:0'), tensor([[[180., 174.]]], device='cuda:0'), tensor([[[133., 149.]]], device='cuda:0'), tensor([[[115., 121.]]], device='cuda:0'), tensor([[[136., 116.]]], device='cuda:0'), tensor([[[204., 138.]]], device='cuda:0'), tensor([[[180., 103.]]], device='cuda:0'), tensor([[[135., 149.]]], device='cuda:0'), tensor([[[ 83., 117.]]], device='cuda:0'), tensor([[[131., 101.]]], device='cuda:0'), tensor([[[ 98., 132.]]], device='cuda:0'), tensor([[[ 82., 183.]]], device='cuda:0'), tensor([[[188., 147.]]], device='cuda:0'), tensor([[[194., 120.]]], device='cuda:0'), tensor([[[114., 137.]]], device='cuda:0'), tensor([[[202., 139.]]], device='cuda:0'), tensor([[[ 96., 114.]]], device='cuda:0'), tensor([[[ 80., 122.]]], device='cuda:0'), tensor([[[152., 122.]]], device='cuda:0'), tensor([[[ 97., 139.]]], device='cuda:0'), tensor([[[ 87., 123.]]], device='cuda:0'), tensor([[[124., 122.]]], device='cuda:0'), tensor([[[141., 119.]]], device='cuda:0'), tensor([[[135., 130.]]], device='cuda:0'), tensor([[[119., 127.]]], device='cuda:0'), tensor([[[183., 146.]]], device='cuda:0'), tensor([[[128., 153.]]], device='cuda:0'), tensor([[[ 70., 152.]]], device='cuda:0'), tensor([[[ 76., 132.]]], device='cuda:0'), tensor([[[143., 139.]]], device='cuda:0'), tensor([[[ 96., 173.]]], device='cuda:0'), tensor([[[114., 100.]]], device='cuda:0'), tensor([[[ 78., 163.]]], device='cuda:0'), tensor([[[163., 157.]]], device='cuda:0'), tensor([[[126., 141.]]], device='cuda:0'), tensor([[[163., 220.]]], device='cuda:0'), tensor([[[145., 109.]]], device='cuda:0'), tensor([[[126., 210.]]], device='cuda:0'), tensor([[[154., 151.]]], device='cuda:0'), tensor([[[116., 128.]]], device='cuda:0'), tensor([[[159., 111.]]], device='cuda:0'), tensor([[[165., 158.]]], device='cuda:0'), tensor([[[ 99., 120.]]], device='cuda:0'), tensor([[[155., 142.]]], device='cuda:0'), tensor([[[107., 124.]]], device='cuda:0'), tensor([[[142., 116.]]], device='cuda:0'), tensor([[[197., 148.]]], device='cuda:0'), tensor([[[ 86., 155.]]], device='cuda:0'), tensor([[[125., 168.]]], device='cuda:0'), tensor([[[123., 155.]]], device='cuda:0'), tensor([[[204., 139.]]], device='cuda:0'), tensor([[[155., 158.]]], device='cuda:0'), tensor([[[121., 138.]]], device='cuda:0'), tensor([[[ 83., 133.]]], device='cuda:0'), tensor([[[124., 155.]]], device='cuda:0'), tensor([[[ 87., 138.]]], device='cuda:0'), tensor([[[180., 150.]]], device='cuda:0'), tensor([[[154., 147.]]], device='cuda:0'), tensor([[[136., 143.]]], device='cuda:0'), tensor([[[103., 133.]]], device='cuda:0'), tensor([[[159., 127.]]], device='cuda:0'), tensor([[[ 82., 169.]]], device='cuda:0'), tensor([[[176., 154.]]], device='cuda:0'), tensor([[[147., 133.]]], device='cuda:0'), tensor([[[113., 157.]]], device='cuda:0'), tensor([[[119., 161.]]], device='cuda:0'), tensor([[[131., 174.]]], device='cuda:0'), tensor([[[ 96., 164.]]], device='cuda:0'), tensor([[[ 78., 153.]]], device='cuda:0'), tensor([[[103., 137.]]], device='cuda:0'), tensor([[[117., 206.]]], device='cuda:0'), tensor([[[ 96., 156.]]], device='cuda:0'), tensor([[[115., 131.]]], device='cuda:0'), tensor([[[104., 154.]]], device='cuda:0'), tensor([[[111., 138.]]], device='cuda:0'), tensor([[[116., 159.]]], device='cuda:0'), tensor([[[ 87., 161.]]], device='cuda:0'), tensor([[[ 94., 137.]]], device='cuda:0'), tensor([[[ 96., 144.]]], device='cuda:0'), tensor([[[142., 145.]]], device='cuda:0'), tensor([[[104., 189.]]], device='cuda:0'), tensor([[[181., 161.]]], device='cuda:0'), tensor([[[160., 132.]]], device='cuda:0'), tensor([[[132., 143.]]], device='cuda:0')]\n",
      "BraTS2021_01646.nii.gz Dice list by number of clicks (Brain Tumor): [0.1597, 0.1839, 0.224, 0.2474, 0.2927]\n",
      "Save results to /home/t722s/Desktop/Sam-Med3DTest/evalBrats/eval_res_from_inference.json\n",
      "Done\n"
     ]
    },
    {
     "name": "stderr",
     "output_type": "stream",
     "text": [
      "100%|██████████| 1/1 [00:06<00:00,  6.44s/it]\n"
     ]
    },
    {
     "data": {
      "text/plain": [
       "CompletedProcess(args=['python', 'SAM-Med3D/validation.py', '--seed', '100', '-cp', '/home/t722s/Desktop/UniversalModels/TrainedModels/sam_vit_h_4b8939.pth', '-tdp', '/home/t722s/Desktop/Datasets/BratsMini/', '-rp', '/home/t722s/Desktop/Sam-Med3DTest/evalBrats', '--dim', '2', '-mt', 'vit_h', '-i', '-l'], returncode=0)"
      ]
     },
     "execution_count": 6,
     "metadata": {},
     "output_type": "execute_result"
    }
   ],
   "source": [
    "# Old\n",
    "seed = 100\n",
    "np.random.seed(seed)\n",
    "point_generation_args = ['python', 'generate_points.py', \\\n",
    "'-tdp', '/home/t722s/Desktop/Datasets/BratsMini/', \\\n",
    "'-rp', '/home/t722s/Desktop/Sam-Med3DTest/evalBrats/', \\\n",
    "'-nc', '5',\n",
    "'--seed', str(seed)]\n",
    "subprocess.run(point_generation_args,\n",
    "                stdout=subprocess.DEVNULL, \n",
    "                stderr=subprocess.DEVNULL)\n",
    "validation_args = ['python', 'SAM-Med3D/validation.py', \n",
    "                '--seed', str(seed),\n",
    "                '-cp', '/home/t722s/Desktop/UniversalModels/TrainedModels/sam_vit_h_4b8939.pth',\n",
    "                '-tdp', '/home/t722s/Desktop/Datasets/BratsMini/',\n",
    "                '-rp', '/home/t722s/Desktop/Sam-Med3DTest/evalBrats',\n",
    "                '--dim', '2',\n",
    "                '-mt', 'vit_h',\n",
    "                '-i',\n",
    "                '-l'\n",
    "                ]\n",
    "subprocess.run(validation_args)"
   ]
  },
  {
   "cell_type": "code",
   "execution_count": 4,
   "metadata": {},
   "outputs": [
    {
     "name": "stdout",
     "output_type": "stream",
     "text": [
      "set seed as 785406\n",
      "device: cuda\n"
     ]
    },
    {
     "name": "stderr",
     "output_type": "stream",
     "text": [
      "  0%|          | 0/1 [00:00<?, ?it/s]"
     ]
    },
    {
     "name": "stdout",
     "output_type": "stream",
     "text": [
      "TESTING: not in loop torch.Size([1, 1, 32, 32, 32])\n",
      "torch.Size([1, 1, 32, 32, 32])\n",
      "torch.Size([1, 1, 32, 32, 32])\n",
      "torch.Size([1, 1, 32, 32, 32])\n",
      "torch.Size([1, 1, 32, 32, 32])\n",
      "torch.Size([1, 1, 32, 32, 32])\n",
      "BraTS2021_01646.nii.gz Dice list by number of clicks (Brain Tumor): [0.7663, 0.6933, 0.7111, 0.7183, 0.7025]\n",
      "Save results to /home/t722s/Desktop/Sam-Med3DTest/evalBrats/eval_res_from_inference.json\n",
      "Done\n"
     ]
    },
    {
     "name": "stderr",
     "output_type": "stream",
     "text": [
      "100%|██████████| 1/1 [00:00<00:00,  1.18it/s]\n"
     ]
    },
    {
     "data": {
      "text/plain": [
       "CompletedProcess(args=['python', 'SAM-Med3D/validation2.py', '--seed', '785406', '-cp', '/home/t722s/Desktop/UniversalModels/TrainedModels/sam_med3d.pth', '-tdp', '/home/t722s/Desktop/Datasets/BratsMini/', '-rp', '/home/t722s/Desktop/Sam-Med3DTest/evalBrats'], returncode=0)"
      ]
     },
     "execution_count": 4,
     "metadata": {},
     "output_type": "execute_result"
    }
   ],
   "source": [
    "# 3D\n",
    "seed = 785406\n",
    "np.random.seed(seed)\n",
    "\n",
    "point_generation_args = ['python', 'generate_points.py', \\\n",
    "    '-tdp', '/home/t722s/Desktop/Datasets/BratsMini/', \\\n",
    "    '-rp', '/home/t722s/Desktop/Sam-Med3DTest/evalBrats/', \\\n",
    "    '-nc', '5',\n",
    "    '--seed', str(seed)]\n",
    "subprocess.run(point_generation_args,\n",
    "                stdout=subprocess.DEVNULL, \n",
    "                stderr=subprocess.DEVNULL)\n",
    "validation_args = ['python', 'SAM-Med3D/validation2.py', \n",
    "                    '--seed', str(seed),\n",
    "                    '-cp', '/home/t722s/Desktop/UniversalModels/TrainedModels/sam_med3d.pth',\n",
    "                    '-tdp', '/home/t722s/Desktop/Datasets/BratsMini/',\n",
    "                    '-rp', '/home/t722s/Desktop/Sam-Med3DTest/evalBrats',\n",
    "                    #'-i',\n",
    "                    #'-l'\n",
    "                    ]\n",
    "subprocess.run(validation_args)"
   ]
  },
  {
   "cell_type": "code",
   "execution_count": 4,
   "metadata": {},
   "outputs": [
    {
     "name": "stdout",
     "output_type": "stream",
     "text": [
      "set seed as 90\n",
      "device: cuda\n",
      "*******interpolate\n",
      "*******load /home/t722s/Desktop/UniversalModels/TrainedModels/sam_vit_h_4b8939.pth\n"
     ]
    },
    {
     "name": "stderr",
     "output_type": "stream",
     "text": [
      "  0%|          | 0/1 [00:00<?, ?it/s]\n",
      "transverse slices:   0%|          | 0/128 [00:00<?, ?it/s]\u001b[A"
     ]
    },
    {
     "name": "stdout",
     "output_type": "stream",
     "text": [
      "TESTING: torch.Size([1, 3, 128, 128, 128])\n"
     ]
    },
    {
     "name": "stderr",
     "output_type": "stream",
     "text": [
      "\n",
      "transverse slices:  33%|███▎      | 42/128 [00:00<00:00, 88.97it/s]\u001b[A\n",
      "transverse slices:  40%|███▉      | 51/128 [00:01<00:02, 26.65it/s]\u001b[A\n",
      "transverse slices:  44%|████▍     | 56/128 [00:02<00:03, 20.02it/s]\u001b[A\n",
      "transverse slices:  46%|████▌     | 59/128 [00:02<00:04, 17.19it/s]\u001b[A\n",
      "transverse slices:  48%|████▊     | 61/128 [00:02<00:04, 15.55it/s]\u001b[A\n",
      "transverse slices:  49%|████▉     | 63/128 [00:02<00:04, 14.10it/s]\u001b[A\n",
      "transverse slices:  51%|█████     | 65/128 [00:03<00:04, 12.85it/s]\u001b[A\n",
      "transverse slices:  52%|█████▏    | 67/128 [00:03<00:05, 11.79it/s]\u001b[A\n",
      "transverse slices:  54%|█████▍    | 69/128 [00:03<00:05, 10.96it/s]\u001b[A\n",
      "transverse slices:  55%|█████▌    | 71/128 [00:03<00:05, 10.30it/s]\u001b[A\n",
      "transverse slices:  56%|█████▋    | 72/128 [00:04<00:05, 10.02it/s]\u001b[A\n",
      "transverse slices:  57%|█████▋    | 73/128 [00:04<00:05,  9.72it/s]\u001b[A\n",
      "transverse slices:  58%|█████▊    | 74/128 [00:04<00:05,  9.52it/s]\u001b[A\n",
      "transverse slices:  59%|█████▊    | 75/128 [00:04<00:05,  9.13it/s]\u001b[A\n",
      "transverse slices:  59%|█████▉    | 76/128 [00:04<00:05,  9.02it/s]\u001b[A\n",
      "transverse slices:  60%|██████    | 77/128 [00:04<00:05,  8.84it/s]\u001b[A\n",
      "transverse slices:  61%|██████    | 78/128 [00:04<00:05,  8.81it/s]\u001b[A\n",
      "transverse slices:  62%|██████▏   | 79/128 [00:04<00:05,  8.72it/s]\u001b[A\n",
      "transverse slices:  62%|██████▎   | 80/128 [00:04<00:05,  8.73it/s]\u001b[A\n",
      "transverse slices:  63%|██████▎   | 81/128 [00:05<00:05,  8.63it/s]\u001b[A\n",
      "transverse slices:  64%|██████▍   | 82/128 [00:05<00:05,  8.62it/s]\u001b[A\n",
      "transverse slices:  65%|██████▍   | 83/128 [00:05<00:05,  8.55it/s]\u001b[A\n",
      "transverse slices:  66%|██████▌   | 84/128 [00:05<00:05,  8.55it/s]\u001b[A\n",
      "transverse slices:  66%|██████▋   | 85/128 [00:05<00:05,  8.52it/s]\u001b[A\n",
      "transverse slices:  67%|██████▋   | 86/128 [00:05<00:04,  8.53it/s]\u001b[A\n",
      "transverse slices:  68%|██████▊   | 87/128 [00:05<00:04,  8.24it/s]\u001b[A\n",
      "transverse slices:  69%|██████▉   | 88/128 [00:05<00:04,  8.21it/s]\u001b[A\n",
      "                                                                   \u001b[A"
     ]
    },
    {
     "name": "stdout",
     "output_type": "stream",
     "text": [
      "BraTS2021_01646.nii.gz Dice list by number of clicks (Brain Tumor): [0.1674, 0.1541, 0.1397, 0.1358, 0.1375]\n",
      "Save results to /home/t722s/Desktop/Sam-Med3DTest/evalBrats/eval_res_from_inference.json\n",
      "Done\n"
     ]
    },
    {
     "name": "stderr",
     "output_type": "stream",
     "text": [
      "100%|██████████| 1/1 [00:06<00:00,  6.55s/it]\n"
     ]
    },
    {
     "data": {
      "text/plain": [
       "CompletedProcess(args=['python', 'SAM-Med3D/validation2.py', '--seed', '90', '-cp', '/home/t722s/Desktop/UniversalModels/TrainedModels/sam_vit_h_4b8939.pth', '-tdp', '/home/t722s/Desktop/Datasets/BratsMini/', '-rp', '/home/t722s/Desktop/Sam-Med3DTest/evalBrats', '--dim', '2', '-mt', 'vit_h'], returncode=0)"
      ]
     },
     "execution_count": 4,
     "metadata": {},
     "output_type": "execute_result"
    }
   ],
   "source": [
    "# New\n",
    "seed = 90\n",
    "np.random.seed(seed)\n",
    "point_generation_args = ['python', 'generate_points.py', \\\n",
    "'-tdp', '/home/t722s/Desktop/Datasets/BratsMini/', \\\n",
    "'-rp', '/home/t722s/Desktop/Sam-Med3DTest/evalBrats/', \\\n",
    "'-nc', '5',\n",
    "'--seed', str(seed)]\n",
    "# subprocess.run(point_generation_args,\n",
    "#                 stdout=subprocess.DEVNULL, \n",
    "#                 stderr=subprocess.DEVNULL)\n",
    "validation_args = ['python', 'SAM-Med3D/validation2.py', \n",
    "                '--seed', str(seed),\n",
    "                '-cp', '/home/t722s/Desktop/UniversalModels/TrainedModels/sam_vit_h_4b8939.pth',\n",
    "                '-tdp', '/home/t722s/Desktop/Datasets/BratsMini/',\n",
    "                '-rp', '/home/t722s/Desktop/Sam-Med3DTest/evalBrats',\n",
    "                '--dim', '2',\n",
    "                '-mt', 'vit_h',\n",
    "                #'-i',\n",
    "                #'-l'\n",
    "                ]\n",
    "subprocess.run(validation_args)"
   ]
  },
  {
   "cell_type": "code",
   "execution_count": 1,
   "metadata": {},
   "outputs": [
    {
     "ename": "NameError",
     "evalue": "name 'np' is not defined",
     "output_type": "error",
     "traceback": [
      "\u001b[0;31m---------------------------------------------------------------------------\u001b[0m",
      "\u001b[0;31mNameError\u001b[0m                                 Traceback (most recent call last)",
      "Cell \u001b[0;32mIn[1], line 3\u001b[0m\n\u001b[1;32m      1\u001b[0m \u001b[38;5;66;03m# New with new point generation\u001b[39;00m\n\u001b[1;32m      2\u001b[0m seed \u001b[38;5;241m=\u001b[39m \u001b[38;5;241m90\u001b[39m\n\u001b[0;32m----> 3\u001b[0m \u001b[43mnp\u001b[49m\u001b[38;5;241m.\u001b[39mrandom\u001b[38;5;241m.\u001b[39mseed(seed)\n\u001b[1;32m      4\u001b[0m point_generation_args \u001b[38;5;241m=\u001b[39m [\u001b[38;5;124m'\u001b[39m\u001b[38;5;124mpython\u001b[39m\u001b[38;5;124m'\u001b[39m, \u001b[38;5;124m'\u001b[39m\u001b[38;5;124mgenerate_points2.py\u001b[39m\u001b[38;5;124m'\u001b[39m, \\\n\u001b[1;32m      5\u001b[0m                         \u001b[38;5;124m'\u001b[39m\u001b[38;5;124m-tdp\u001b[39m\u001b[38;5;124m'\u001b[39m, \u001b[38;5;124m'\u001b[39m\u001b[38;5;124m/home/t722s/Desktop/Datasets/BratsMini/\u001b[39m\u001b[38;5;124m'\u001b[39m, \\\n\u001b[1;32m      6\u001b[0m                         \u001b[38;5;124m'\u001b[39m\u001b[38;5;124m-rp\u001b[39m\u001b[38;5;124m'\u001b[39m, \u001b[38;5;124m'\u001b[39m\u001b[38;5;124m/home/t722s/Desktop/Sam-Med3DTest/evalBrats/\u001b[39m\u001b[38;5;124m'\u001b[39m, \\\n\u001b[1;32m      7\u001b[0m                         \u001b[38;5;124m'\u001b[39m\u001b[38;5;124m-fg\u001b[39m\u001b[38;5;124m'\u001b[39m, \u001b[38;5;124m'\u001b[39m\u001b[38;5;124m3\u001b[39m\u001b[38;5;124m'\u001b[39m,\n\u001b[1;32m      8\u001b[0m                         \u001b[38;5;124m'\u001b[39m\u001b[38;5;124m-bg\u001b[39m\u001b[38;5;124m'\u001b[39m, \u001b[38;5;124m'\u001b[39m\u001b[38;5;124m2\u001b[39m\u001b[38;5;124m'\u001b[39m,\n\u001b[1;32m      9\u001b[0m                         \u001b[38;5;124m'\u001b[39m\u001b[38;5;124m--seed\u001b[39m\u001b[38;5;124m'\u001b[39m, \u001b[38;5;28mstr\u001b[39m(seed)]\n\u001b[1;32m     10\u001b[0m subprocess\u001b[38;5;241m.\u001b[39mrun(point_generation_args)\n",
      "\u001b[0;31mNameError\u001b[0m: name 'np' is not defined"
     ]
    }
   ],
   "source": [
    "# New with new point generation\n",
    "seed = 90\n",
    "np.random.seed(seed)\n",
    "point_generation_args = ['python', 'generate_points2.py', \\\n",
    "                        '-tdp', '/home/t722s/Desktop/Datasets/BratsMini/', \\\n",
    "                        '-rp', '/home/t722s/Desktop/Sam-Med3DTest/evalBrats/', \\\n",
    "                        '-fg', '3',\n",
    "                        '-bg', '2',\n",
    "                        '--seed', str(seed)]\n",
    "subprocess.run(point_generation_args)\n",
    "validation_args = ['python', 'SAM-Med3D/validation2.py', \n",
    "                '--seed', str(seed),\n",
    "                '-cp', '/home/t722s/Desktop/UniversalModels/TrainedModels/sam_vit_h_4b8939.pth',\n",
    "                '-tdp', '/home/t722s/Desktop/Datasets/BratsMini/',\n",
    "                '-rp', '/home/t722s/Desktop/Sam-Med3DTest/evalBrats',\n",
    "                '--dim', '2',\n",
    "                '-mt', 'vit_h',\n",
    "                '-i',\n",
    "                '-l'\n",
    "                ]\n",
    "subprocess.run(validation_args)"
   ]
  }
 ],
 "metadata": {
  "kernelspec": {
   "display_name": "universalModels",
   "language": "python",
   "name": "python3"
  },
  "language_info": {
   "codemirror_mode": {
    "name": "ipython",
    "version": 3
   },
   "file_extension": ".py",
   "mimetype": "text/x-python",
   "name": "python",
   "nbconvert_exporter": "python",
   "pygments_lexer": "ipython3",
   "version": "3.11.5"
  }
 },
 "nbformat": 4,
 "nbformat_minor": 2
}
