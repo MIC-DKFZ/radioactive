{
 "cells": [
  {
   "cell_type": "code",
   "execution_count": 3,
   "metadata": {},
   "outputs": [],
   "source": [
    "import argparse\n",
    "import subprocess"
   ]
  },
  {
   "cell_type": "code",
   "execution_count": 4,
   "metadata": {},
   "outputs": [
    {
     "data": {
      "text/plain": [
       "_StoreAction(option_strings=['--seed'], dest='seed', nargs=None, const=None, default=2023, type=<class 'int'>, choices=None, required=False, help=None, metavar=None)"
      ]
     },
     "execution_count": 4,
     "metadata": {},
     "output_type": "execute_result"
    }
   ],
   "source": [
    "parser = argparse.ArgumentParser()\n",
    "parser.add_argument('-tdp', '--test_data_path', type=str, default='./data/images')\n",
    "parser.add_argument('-cp', '--checkpoint_path', type=str, default='./checkpoints/sam_med3d.pth')\n",
    "parser.add_argument('-rp', '--results_path', type=str, default='./results')\n",
    "parser.add_argument('--model', type = str, choices = ['SAM-Med3D', 'SAM'])\n",
    "\n",
    "parser.add_argument('--seed', type=int, default=2023)\n",
    "\n",
    "#args = parser.parse_args()"
   ]
  },
  {
   "cell_type": "code",
   "execution_count": 5,
   "metadata": {},
   "outputs": [],
   "source": [
    "# hardcode for juptyer notebook compatability\n",
    "\n",
    "args = argparse.Namespace(\n",
    "    test_volume_directory='./data/images',\n",
    "    test_label_directory='./data/labels',\n",
    "    checkpoint_path='./checkpoints/sam_med3d.pth',\n",
    "    results_save_path='./results',\n",
    "    model='SAM-Med3D',\n",
    "    seed=2023\n",
    ")"
   ]
  },
  {
   "cell_type": "code",
   "execution_count": 42,
   "metadata": {},
   "outputs": [
    {
     "name": "stdout",
     "output_type": "stream",
     "text": [
      "set seed as 2023\n",
      "device: cuda\n"
     ]
    },
    {
     "name": "stderr",
     "output_type": "stream",
     "text": [
      "  0%|          | 0/1 [00:00<?, ?it/s]"
     ]
    },
    {
     "name": "stdout",
     "output_type": "stream",
     "text": [
      "Dice list by number of clicks: [0.7541, 0.6972, 0.7659, 0.8212, 0.8167]\n",
      "Save results to /home/t722s/Desktop/Sam-Med3DTest/evalRes/eval_res.json\n",
      "Done\n"
     ]
    },
    {
     "name": "stderr",
     "output_type": "stream",
     "text": [
      "100%|██████████| 1/1 [00:00<00:00,  1.08it/s]\n"
     ]
    }
   ],
   "source": [
    "if(args.model == 'SAM-Med3D'):\n",
    "    subprocess_args = ['python', 'SAM-Med3D/validationTesting.py', \n",
    "                       '--seed', '2023',\n",
    "                       '-vp', '/home/t722s/Desktop/Sam-Med3DTest/segmentation_maps',\n",
    "                       '-cp', '/home/t722s/Desktop/UniversalModels/TrainedModels/sam_med3d.pth',\n",
    "                       '-tdp', '/home/t722s/Desktop/Datasets/BratsTestData/',\n",
    "                       '--eval_dir', '/home/t722s/Desktop/Sam-Med3DTest/evalRes']\n",
    "    subprocess.run(subprocess_args)"
   ]
  }
 ],
 "metadata": {
  "kernelspec": {
   "display_name": "universalModels",
   "language": "python",
   "name": "python3"
  },
  "language_info": {
   "codemirror_mode": {
    "name": "ipython",
    "version": 3
   },
   "file_extension": ".py",
   "mimetype": "text/x-python",
   "name": "python",
   "nbconvert_exporter": "python",
   "pygments_lexer": "ipython3",
   "version": "3.11.5"
  }
 },
 "nbformat": 4,
 "nbformat_minor": 2
}
