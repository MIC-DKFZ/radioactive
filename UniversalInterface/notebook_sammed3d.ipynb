{
 "cells": [
  {
   "cell_type": "code",
   "execution_count": 1,
   "metadata": {},
   "outputs": [],
   "source": [
    "import torchio as tio\n",
    "from torchio.data.io import sitk_to_nib\n",
    "import SimpleITK as sitk\n",
    "import napari\n",
    "import numpy as np\n",
    "import nibabel as nib\n",
    "\n",
    "from utils.class_SAMMed3D import SAMMed3DInferer\n",
    "#import utils.class_SAMMed3D as c\n",
    "from utils.prompt_3d import get_pos_clicks3D\n",
    "import utils.analysis as anUt\n",
    "from utils.interactivity import iterate_3d\n",
    "from utils.image import read_im_gt, read_reorient_nifti\n",
    "\n",
    "from utils.image import  read_reorient_nifti\n",
    "\n",
    "# Obtain model, image, gt\n",
    "device = 'cuda'\n",
    "checkpoint_path = '/home/t722s/Desktop/UniversalModels/TrainedModels/sam_med3d_turbo.pth'\n",
    "\n",
    "inferer = SAMMed3DInferer(checkpoint_path, device)\n",
    "\n",
    "img_path = '/home/t722s/Desktop/Datasets/Dataset350_AbdomenAtlasJHU_2img/imagesTr/BDMAP_00000001_0000.nii.gz'\n",
    "gt_path = '/home/t722s/Desktop/Datasets/Dataset350_AbdomenAtlasJHU_2img/labelsTr/BDMAP_00000001.nii.gz'\n",
    "class_label = 3\n",
    "\n",
    "gt = nib.load(gt_path).get_fdata()\n",
    "gt = np.where(gt == class_label, 1, 0)\n",
    "\n",
    "# Set image to predict on \n",
    "inferer.set_image(img_path)"
   ]
  },
  {
   "cell_type": "code",
   "execution_count": 3,
   "metadata": {},
   "outputs": [
    {
     "data": {
      "text/plain": [
       "0.8319491632062413"
      ]
     },
     "execution_count": 3,
     "metadata": {},
     "output_type": "execute_result"
    }
   ],
   "source": [
    "# Experiment: 5 points per volume\n",
    "seed = 11121\n",
    "n = 5\n",
    "pts_prompt = get_pos_clicks3D(gt, n, seed = seed)\n",
    "\n",
    "#pred = inferer.predict(img, pts_prompt, cheat = True, gt = gt)\n",
    "segmentation = inferer.predict(pts_prompt, store_patching=True).get_fdata()\n",
    "\n",
    "anUt.compute_dice(segmentation, gt)"
   ]
  },
  {
   "cell_type": "code",
   "execution_count": 4,
   "metadata": {},
   "outputs": [
    {
     "data": {
      "text/plain": [
       "[0.0559962178914745,\n",
       " 0.14349487876568723,\n",
       " 0.5251296558227251,\n",
       " 0.7738505044424797,\n",
       " 0.7985250705090922,\n",
       " 0.8098176204306984,\n",
       " 0.8204396549543397,\n",
       " 0.8409741754679707,\n",
       " 0.8708920062821093,\n",
       " 0.8871685978141528,\n",
       " 0.8847824699993619,\n",
       " 0.85995838872561]"
      ]
     },
     "execution_count": 4,
     "metadata": {},
     "output_type": "execute_result"
    }
   ],
   "source": [
    "# Experiment: iterate on points\n",
    "pass_prev_prompts = SAMMed3DInferer.pass_prev_prompts\n",
    "seed = 3\n",
    "perf_bound = 0.9\n",
    "dof_bound = 18\n",
    "\n",
    "\n",
    "dice_scores, dofs = iterate_3d(inferer, gt, SAMMed3DInferer.pass_prev_prompts, perf_bound, dof_bound, seed, sammed3d=True)\n",
    "dice_scores"
   ]
  }
 ],
 "metadata": {
  "kernelspec": {
   "display_name": "universalModels",
   "language": "python",
   "name": "python3"
  },
  "language_info": {
   "codemirror_mode": {
    "name": "ipython",
    "version": 3
   },
   "file_extension": ".py",
   "mimetype": "text/x-python",
   "name": "python",
   "nbconvert_exporter": "python",
   "pygments_lexer": "ipython3",
   "version": "3.12.2"
  }
 },
 "nbformat": 4,
 "nbformat_minor": 2
}
